{
 "cells": [
  {
   "cell_type": "code",
   "execution_count": null,
   "metadata": {
    "vscode": {
     "languageId": "typescript"
    }
   },
   "outputs": [],
   "source": [
    "import { document } from 'jsr:@ry/jupyter-helper';\n",
    "import pl from 'npm:nodejs-polars';\n",
    "import * as Plot from 'npm:@observablehq/plot';\n",
    "let { html, md, display } = Deno.jupyter;\n"
   ]
  },
  {
   "cell_type": "code",
   "execution_count": null,
   "metadata": {
    "vscode": {
     "languageId": "typescript"
    }
   },
   "outputs": [],
   "source": [
    "type Seriesify<T extends Record<string, pl.DataType>> = {\n",
    "  [key in keyof T]: key extends string ? pl.Series<T[key], key> : pl.Series<T[key]>;\n",
    "};\n"
   ]
  },
  {
   "cell_type": "code",
   "execution_count": null,
   "metadata": {
    "vscode": {
     "languageId": "typescript"
    }
   },
   "outputs": [
    {
     "data": {
      "application/vnd.dataresource+json": {
       "data": [
        {
         "archived_at": null,
         "ascendable_filter": null,
         "ascendable_height": 0,
         "ascendable_id": 467181,
         "ascendable_name": "Dark Green",
         "ascendable_type": "GymBoulder",
         "comment": null,
         "created_at": {},
         "date": "2023-10-14 12:00:00 +0000",
         "difficulty": "5+",
         "eight_a_ascendable_id": null,
         "eight_a_id": null,
         "eight_a_logbook": false,
         "eight_a_parent_id": null,
         "eight_a_user_id": 133113,
         "exposition": 0,
         "features": 0,
         "grade": "vl-14",
         "grading_system": "font",
         "height": 4,
         "hold_color": null,
         "id": 5555779,
         "parent_id": 69,
         "parent_name": "Klättercentret Solna",
         "path": null,
         "perceived_hardness": 0,
         "project": false,
         "protection": null,
         "provider": "verticallife",
         "rating": null,
         "recommended": false,
         "repeat": false,
         "repeats": 0,
         "safety_issues": 0,
         "score": 353,
         "shade": 0,
         "sits": 0,
         "steepness": 0,
         "style": "",
         "sub_type": "",
         "tries": 1,
         "type": "f",
         "updated_at": {},
         "user_id": 230474,
         "virtual": false,
         "vl_ascendable_id": null,
         "vl_id": 5964298,
         "vl_parent_id": null,
         "vl_user_id": 286128,
         "year": 2023
        },
        {
         "archived_at": null,
         "ascendable_filter": null,
         "ascendable_height": 0,
         "ascendable_id": 340831,
         "ascendable_name": "White",
         "ascendable_type": "GymBoulder",
         "comment": null,
         "created_at": {},
         "date": "2022-06-01 12:00:00 +0000",
         "difficulty": "6A+",
         "eight_a_ascendable_id": null,
         "eight_a_id": null,
         "eight_a_logbook": false,
         "eight_a_parent_id": null,
         "eight_a_user_id": 133113,
         "exposition": 0,
         "features": 0,
         "grade": "vl-17",
         "grading_system": "font",
         "height": 4,
         "hold_color": null,
         "id": 4836720,
         "parent_id": 69,
         "parent_name": "Klättercentret Solna",
         "path": null,
         "perceived_hardness": 0,
         "project": false,
         "protection": null,
         "provider": "verticallife",
         "rating": null,
         "recommended": false,
         "repeat": false,
         "repeats": 0,
         "safety_issues": 0,
         "score": 452,
         "shade": 0,
         "sits": 0,
         "steepness": 0,
         "style": "cas",
         "sub_type": "",
         "tries": 2,
         "type": "rp",
         "updated_at": {},
         "user_id": 230474,
         "virtual": false,
         "vl_ascendable_id": null,
         "vl_id": 4590851,
         "vl_parent_id": null,
         "vl_user_id": 286128,
         "year": 2022
        },
        {
         "archived_at": null,
         "ascendable_filter": null,
         "ascendable_height": 0,
         "ascendable_id": 456960,
         "ascendable_name": "Yellow",
         "ascendable_type": "GymBoulder",
         "comment": null,
         "created_at": {},
         "date": "2023-08-30 12:00:00 +0000",
         "difficulty": "5+",
         "eight_a_ascendable_id": null,
         "eight_a_id": null,
         "eight_a_logbook": false,
         "eight_a_parent_id": null,
         "eight_a_user_id": 133113,
         "exposition": 0,
         "features": 0,
         "grade": "vl-14",
         "grading_system": "font",
         "height": 4,
         "hold_color": null,
         "id": 5775797,
         "parent_id": 69,
         "parent_name": "Klättercentret Solna",
         "path": null,
         "perceived_hardness": 0,
         "project": false,
         "protection": null,
         "provider": "verticallife",
         "rating": null,
         "recommended": false,
         "repeat": false,
         "repeats": 0,
         "safety_issues": 0,
         "score": 353,
         "shade": 0,
         "sits": 0,
         "steepness": 0,
         "style": "",
         "sub_type": "",
         "tries": 1,
         "type": "f",
         "updated_at": {},
         "user_id": 230474,
         "virtual": false,
         "vl_ascendable_id": null,
         "vl_id": 5833182,
         "vl_parent_id": null,
         "vl_user_id": 286128,
         "year": 2023
        },
        {
         "archived_at": null,
         "ascendable_filter": null,
         "ascendable_height": 0,
         "ascendable_id": 470581,
         "ascendable_name": "Yellow",
         "ascendable_type": "GymBoulder",
         "comment": null,
         "created_at": {},
         "date": "2023-10-28 12:00:00 +0000",
         "difficulty": "6A+",
         "eight_a_ascendable_id": null,
         "eight_a_id": null,
         "eight_a_logbook": false,
         "eight_a_parent_id": null,
         "eight_a_user_id": 133113,
         "exposition": 0,
         "features": 0,
         "grade": "vl-17",
         "grading_system": "font",
         "height": 4,
         "hold_color": null,
         "id": 13984335,
         "parent_id": 69,
         "parent_name": "Klättercentret Solna",
         "path": null,
         "perceived_hardness": 0,
         "project": false,
         "protection": null,
         "provider": "verticallife",
         "rating": null,
         "recommended": false,
         "repeat": false,
         "repeats": 0,
         "safety_issues": 0,
         "score": 503,
         "shade": 0,
         "sits": 0,
         "steepness": 0,
         "style": "",
         "sub_type": "",
         "tries": 1,
         "type": "f",
         "updated_at": {},
         "user_id": 230474,
         "virtual": false,
         "vl_ascendable_id": null,
         "vl_id": 6009013,
         "vl_parent_id": null,
         "vl_user_id": 286128,
         "year": 2023
        },
        {
         "archived_at": null,
         "ascendable_filter": null,
         "ascendable_height": 0,
         "ascendable_id": 466124,
         "ascendable_name": "Orange",
         "ascendable_type": "GymBoulder",
         "comment": null,
         "created_at": {},
         "date": "2023-10-08 12:00:00 +0000",
         "difficulty": "6A",
         "eight_a_ascendable_id": null,
         "eight_a_id": null,
         "eight_a_logbook": false,
         "eight_a_parent_id": null,
         "eight_a_user_id": 133113,
         "exposition": 0,
         "features": 0,
         "grade": "vl-16",
         "grading_system": "font",
         "height": 4,
         "hold_color": null,
         "id": 5866169,
         "parent_id": 69,
         "parent_name": "Klättercentret Solna",
         "path": null,
         "perceived_hardness": 0,
         "project": false,
         "protection": null,
         "provider": "verticallife",
         "rating": null,
         "recommended": false,
         "repeat": false,
         "repeats": 0,
         "safety_issues": 0,
         "score": 453,
         "shade": 0,
         "sits": 0,
         "steepness": 0,
         "style": "",
         "sub_type": "",
         "tries": 1,
         "type": "f",
         "updated_at": {},
         "user_id": 230474,
         "virtual": false,
         "vl_ascendable_id": null,
         "vl_id": 5945883,
         "vl_parent_id": null,
         "vl_user_id": 286128,
         "year": 2023
        },
        {
         "archived_at": null,
         "ascendable_filter": null,
         "ascendable_height": null,
         "ascendable_id": 498916,
         "ascendable_name": "Green",
         "ascendable_type": "GymBoulder",
         "comment": null,
         "created_at": {},
         "date": "2024-03-02 12:00:00 +0000",
         "difficulty": "6A",
         "eight_a_ascendable_id": null,
         "eight_a_id": null,
         "eight_a_logbook": false,
         "eight_a_parent_id": null,
         "eight_a_user_id": 133113,
         "exposition": null,
         "features": null,
         "grade": "vl-16",
         "grading_system": "font",
         "height": 4,
         "hold_color": null,
         "id": 14681095,
         "parent_id": 69,
         "parent_name": "Klättercentret Solna",
         "path": null,
         "perceived_hardness": 0,
         "project": false,
         "protection": null,
         "provider": "verticallife",
         "rating": null,
         "recommended": false,
         "repeat": false,
         "repeats": 0,
         "safety_issues": null,
         "score": 453,
         "shade": null,
         "sits": 0,
         "steepness": 0,
         "style": "",
         "sub_type": "",
         "tries": 1,
         "type": "f",
         "updated_at": {},
         "user_id": 230474,
         "virtual": false,
         "vl_ascendable_id": null,
         "vl_id": 6354889,
         "vl_parent_id": null,
         "vl_user_id": 286128,
         "year": 2024
        },
        {
         "archived_at": null,
         "ascendable_filter": null,
         "ascendable_height": 0,
         "ascendable_id": 353815,
         "ascendable_name": "Blue",
         "ascendable_type": "GymBoulder",
         "comment": null,
         "created_at": {},
         "date": "2022-06-22 12:00:00 +0000",
         "difficulty": "5+",
         "eight_a_ascendable_id": null,
         "eight_a_id": null,
         "eight_a_logbook": false,
         "eight_a_parent_id": null,
         "eight_a_user_id": 133113,
         "exposition": 0,
         "features": 0,
         "grade": "vl-14",
         "grading_system": "font",
         "height": 4,
         "hold_color": null,
         "id": 4312618,
         "parent_id": 69,
         "parent_name": "Klättercentret Solna",
         "path": null,
         "perceived_hardness": 0,
         "project": false,
         "protection": null,
         "provider": "verticallife",
         "rating": null,
         "recommended": false,
         "repeat": false,
         "repeats": 0,
         "safety_issues": 0,
         "score": 353,
         "shade": 0,
         "sits": 0,
         "steepness": 0,
         "style": "ts",
         "sub_type": "",
         "tries": 1,
         "type": "f",
         "updated_at": {},
         "user_id": 230474,
         "virtual": false,
         "vl_ascendable_id": null,
         "vl_id": 4641622,
         "vl_parent_id": null,
         "vl_user_id": 286128,
         "year": 2022
        },
        {
         "archived_at": null,
         "ascendable_filter": null,
         "ascendable_height": 0,
         "ascendable_id": 455001,
         "ascendable_name": "Bright Pink",
         "ascendable_type": "GymBoulder",
         "comment": null,
         "created_at": {},
         "date": "2023-08-20 12:00:00 +0000",
         "difficulty": "4",
         "eight_a_ascendable_id": null,
         "eight_a_id": null,
         "eight_a_logbook": false,
         "eight_a_parent_id": null,
         "eight_a_user_id": 133113,
         "exposition": 0,
         "features": 0,
         "grade": "vl-7",
         "grading_system": "font",
         "height": 4,
         "hold_color": null,
         "id": 5449800,
         "parent_id": 69,
         "parent_name": "Klättercentret Solna",
         "path": null,
         "perceived_hardness": 0,
         "project": false,
         "protection": null,
         "provider": "verticallife",
         "rating": null,
         "recommended": false,
         "repeat": false,
         "repeats": 0,
         "safety_issues": 0,
         "score": 103,
         "shade": 0,
         "sits": 0,
         "steepness": 0,
         "style": "",
         "sub_type": "",
         "tries": 1,
         "type": "f",
         "updated_at": {},
         "user_id": 230474,
         "virtual": false,
         "vl_ascendable_id": null,
         "vl_id": 5804781,
         "vl_parent_id": null,
         "vl_user_id": 286128,
         "year": 2023
        },
        {
         "archived_at": null,
         "ascendable_filter": null,
         "ascendable_height": 0,
         "ascendable_id": 407924,
         "ascendable_name": "Magenta",
         "ascendable_type": "GymBoulder",
         "comment": null,
         "created_at": {},
         "date": "2023-02-12 12:00:00 +0000",
         "difficulty": "5+",
         "eight_a_ascendable_id": null,
         "eight_a_id": null,
         "eight_a_logbook": false,
         "eight_a_parent_id": null,
         "eight_a_user_id": 133113,
         "exposition": 0,
         "features": 0,
         "grade": "vl-14",
         "grading_system": "font",
         "height": 4,
         "hold_color": null,
         "id": 4949390,
         "parent_id": 69,
         "parent_name": "Klättercentret Solna",
         "path": null,
         "perceived_hardness": 0,
         "project": false,
         "protection": null,
         "provider": "verticallife",
         "rating": null,
         "recommended": false,
         "repeat": false,
         "repeats": 0,
         "safety_issues": 0,
         "score": 353,
         "shade": 0,
         "sits": 0,
         "steepness": 0,
         "style": "",
         "sub_type": "",
         "tries": 1,
         "type": "f",
         "updated_at": {},
         "user_id": 230474,
         "virtual": false,
         "vl_ascendable_id": null,
         "vl_id": 5267530,
         "vl_parent_id": null,
         "vl_user_id": 286128,
         "year": 2023
        },
        {
         "archived_at": null,
         "ascendable_filter": null,
         "ascendable_height": null,
         "ascendable_id": 567337,
         "ascendable_name": "Turquoise",
         "ascendable_type": "GymBoulder",
         "comment": null,
         "created_at": {},
         "date": "2025-01-11 12:00:00 +0000",
         "difficulty": "5",
         "eight_a_ascendable_id": null,
         "eight_a_id": null,
         "eight_a_logbook": false,
         "eight_a_parent_id": null,
         "eight_a_user_id": 133113,
         "exposition": null,
         "features": null,
         "grade": "vl-12",
         "grading_system": "font",
         "height": 4,
         "hold_color": null,
         "id": 16453325,
         "parent_id": 69,
         "parent_name": "Klättercentret Solna",
         "path": null,
         "perceived_hardness": 0,
         "project": false,
         "protection": null,
         "provider": "verticallife",
         "rating": null,
         "recommended": false,
         "repeat": false,
         "repeats": 0,
         "safety_issues": null,
         "score": 253,
         "shade": null,
         "sits": 0,
         "steepness": 0,
         "style": "",
         "sub_type": "",
         "tries": 1,
         "type": "f",
         "updated_at": {},
         "user_id": 230474,
         "virtual": false,
         "vl_ascendable_id": null,
         "vl_id": 7242645,
         "vl_parent_id": null,
         "vl_user_id": 286128,
         "year": 2025
        },
        {
         "archived_at": null,
         "ascendable_filter": null,
         "ascendable_height": null,
         "ascendable_id": 493941,
         "ascendable_name": "Dark Green",
         "ascendable_type": "GymBoulder",
         "comment": null,
         "created_at": {},
         "date": "2024-02-14 12:00:00 +0000",
         "difficulty": "6B+",
         "eight_a_ascendable_id": null,
         "eight_a_id": null,
         "eight_a_logbook": false,
         "eight_a_parent_id": null,
         "eight_a_user_id": 133113,
         "exposition": null,
         "features": null,
         "grade": "vl-19",
         "grading_system": "font",
         "height": 4,
         "hold_color": null,
         "id": 14598928,
         "parent_id": 69,
         "parent_name": "Klättercentret Solna",
         "path": null,
         "perceived_hardness": 0,
         "project": false,
         "protection": null,
         "provider": "verticallife",
         "rating": null,
         "recommended": false,
         "repeat": false,
         "repeats": 0,
         "safety_issues": null,
         "score": 550,
         "shade": null,
         "sits": 0,
         "steepness": 0,
         "style": "",
         "sub_type": "",
         "tries": 5,
         "type": "rp",
         "updated_at": {},
         "user_id": 230474,
         "virtual": false,
         "vl_ascendable_id": null,
         "vl_id": 6307315,
         "vl_parent_id": null,
         "vl_user_id": 286128,
         "year": 2024
        },
        {
         "archived_at": null,
         "ascendable_filter": null,
         "ascendable_height": null,
         "ascendable_id": 504537,
         "ascendable_name": "Turquoise",
         "ascendable_type": "GymBoulder",
         "comment": null,
         "created_at": {},
         "date": "2024-03-16 12:00:00 +0000",
         "difficulty": "5",
         "eight_a_ascendable_id": null,
         "eight_a_id": null,
         "eight_a_logbook": false,
         "eight_a_parent_id": null,
         "eight_a_user_id": 133113,
         "exposition": null,
         "features": null,
         "grade": "vl-12",
         "grading_system": "font",
         "height": 4,
         "hold_color": null,
         "id": 14750006,
         "parent_id": 69,
         "parent_name": "Klättercentret Solna",
         "path": null,
         "perceived_hardness": 0,
         "project": false,
         "protection": null,
         "provider": "verticallife",
         "rating": null,
         "recommended": false,
         "repeat": false,
         "repeats": 0,
         "safety_issues": null,
         "score": 253,
         "shade": null,
         "sits": 0,
         "steepness": 0,
         "style": "",
         "sub_type": "",
         "tries": 1,
         "type": "f",
         "updated_at": {},
         "user_id": 230474,
         "virtual": false,
         "vl_ascendable_id": null,
         "vl_id": 6396572,
         "vl_parent_id": null,
         "vl_user_id": 286128,
         "year": 2024
        },
        {
         "archived_at": null,
         "ascendable_filter": null,
         "ascendable_height": 0,
         "ascendable_id": 425508,
         "ascendable_name": "Turquoise low",
         "ascendable_type": "GymBoulder",
         "comment": null,
         "created_at": {},
         "date": "2023-04-17 12:00:00 +0000",
         "difficulty": "4",
         "eight_a_ascendable_id": null,
         "eight_a_id": null,
         "eight_a_logbook": false,
         "eight_a_parent_id": null,
         "eight_a_user_id": 133113,
         "exposition": 0,
         "features": 0,
         "grade": "vl-7",
         "grading_system": "font",
         "height": 4,
         "hold_color": null,
         "id": 5148002,
         "parent_id": 69,
         "parent_name": "Klättercentret Solna",
         "path": null,
         "perceived_hardness": 0,
         "project": false,
         "protection": null,
         "provider": "verticallife",
         "rating": null,
         "recommended": false,
         "repeat": false,
         "repeats": 0,
         "safety_issues": 0,
         "score": 103,
         "shade": 0,
         "sits": 0,
         "steepness": 0,
         "style": "",
         "sub_type": "",
         "tries": 1,
         "type": "f",
         "updated_at": {},
         "user_id": 230474,
         "virtual": false,
         "vl_ascendable_id": null,
         "vl_id": 5466133,
         "vl_parent_id": null,
         "vl_user_id": 286128,
         "year": 2023
        },
        {
         "archived_at": null,
         "ascendable_filter": null,
         "ascendable_height": null,
         "ascendable_id": 566021,
         "ascendable_name": "Yellow",
         "ascendable_type": "GymBoulder",
         "comment": null,
         "created_at": {},
         "date": "2024-12-18 12:00:00 +0000",
         "difficulty": "4",
         "eight_a_ascendable_id": null,
         "eight_a_id": null,
         "eight_a_logbook": false,
         "eight_a_parent_id": null,
         "eight_a_user_id": 133113,
         "exposition": null,
         "features": null,
         "grade": "vl-7",
         "grading_system": "font",
         "height": 4,
         "hold_color": null,
         "id": 16334819,
         "parent_id": 69,
         "parent_name": "Klättercentret Solna",
         "path": null,
         "perceived_hardness": 0,
         "project": false,
         "protection": null,
         "provider": "verticallife",
         "rating": null,
         "recommended": false,
         "repeat": false,
         "repeats": 0,
         "safety_issues": null,
         "score": 103,
         "shade": null,
         "sits": 0,
         "steepness": 0,
         "style": "",
         "sub_type": "",
         "tries": 1,
         "type": "f",
         "updated_at": {},
         "user_id": 230474,
         "virtual": false,
         "vl_ascendable_id": null,
         "vl_id": 7183993,
         "vl_parent_id": null,
         "vl_user_id": 286128,
         "year": 2024
        },
        {
         "archived_at": null,
         "ascendable_filter": null,
         "ascendable_height": null,
         "ascendable_id": 552254,
         "ascendable_name": "Purple",
         "ascendable_type": "GymBoulder",
         "comment": null,
         "created_at": {},
         "date": "2024-10-16 12:00:00 +0000",
         "difficulty": "6B+",
         "eight_a_ascendable_id": null,
         "eight_a_id": null,
         "eight_a_logbook": false,
         "eight_a_parent_id": null,
         "eight_a_user_id": 133113,
         "exposition": null,
         "features": null,
         "grade": "vl-19",
         "grading_system": "font",
         "height": 4,
         "hold_color": null,
         "id": 16004307,
         "parent_id": 69,
         "parent_name": "Klättercentret Solna",
         "path": null,
         "perceived_hardness": 0,
         "project": false,
         "protection": null,
         "provider": "verticallife",
         "rating": null,
         "recommended": false,
         "repeat": false,
         "repeats": 0,
         "safety_issues": null,
         "score": 552,
         "shade": null,
         "sits": 0,
         "steepness": 0,
         "style": "",
         "sub_type": "",
         "tries": 2,
         "type": "rp",
         "updated_at": {},
         "user_id": 230474,
         "virtual": false,
         "vl_ascendable_id": null,
         "vl_id": 7003719,
         "vl_parent_id": null,
         "vl_user_id": 286128,
         "year": 2024
        },
        {
         "archived_at": null,
         "ascendable_filter": null,
         "ascendable_height": 0,
         "ascendable_id": 471653,
         "ascendable_name": "Orange white",
         "ascendable_type": "GymBoulder",
         "comment": null,
         "created_at": {},
         "date": "2023-10-28 12:00:00 +0000",
         "difficulty": "6A+",
         "eight_a_ascendable_id": null,
         "eight_a_id": null,
         "eight_a_logbook": false,
         "eight_a_parent_id": null,
         "eight_a_user_id": 133113,
         "exposition": 0,
         "features": 0,
         "grade": "vl-17",
         "grading_system": "font",
         "height": 4,
         "hold_color": null,
         "id": 13984289,
         "parent_id": 69,
         "parent_name": "Klättercentret Solna",
         "path": null,
         "perceived_hardness": 0,
         "project": false,
         "protection": null,
         "provider": "verticallife",
         "rating": null,
         "recommended": false,
         "repeat": false,
         "repeats": 0,
         "safety_issues": 0,
         "score": 503,
         "shade": 0,
         "sits": 0,
         "steepness": 0,
         "style": "",
         "sub_type": "",
         "tries": 1,
         "type": "f",
         "updated_at": {},
         "user_id": 230474,
         "virtual": false,
         "vl_ascendable_id": null,
         "vl_id": 6009023,
         "vl_parent_id": null,
         "vl_user_id": 286128,
         "year": 2023
        },
        {
         "archived_at": null,
         "ascendable_filter": null,
         "ascendable_height": null,
         "ascendable_id": 557241,
         "ascendable_name": "Purple",
         "ascendable_type": "GymBoulder",
         "comment": null,
         "created_at": {},
         "date": "2024-11-09 12:00:00 +0000",
         "difficulty": "5",
         "eight_a_ascendable_id": null,
         "eight_a_id": null,
         "eight_a_logbook": false,
         "eight_a_parent_id": null,
         "eight_a_user_id": 133113,
         "exposition": null,
         "features": null,
         "grade": "vl-12",
         "grading_system": "font",
         "height": 4,
         "hold_color": null,
         "id": 16142436,
         "parent_id": 69,
         "parent_name": "Klättercentret Solna",
         "path": null,
         "perceived_hardness": 0,
         "project": false,
         "protection": null,
         "provider": "verticallife",
         "rating": null,
         "recommended": false,
         "repeat": false,
         "repeats": 0,
         "safety_issues": null,
         "score": 253,
         "shade": null,
         "sits": 0,
         "steepness": 0,
         "style": "",
         "sub_type": "",
         "tries": 1,
         "type": "f",
         "updated_at": {},
         "user_id": 230474,
         "virtual": false,
         "vl_ascendable_id": null,
         "vl_id": 7076150,
         "vl_parent_id": null,
         "vl_user_id": 286128,
         "year": 2024
        },
        {
         "archived_at": null,
         "ascendable_filter": null,
         "ascendable_height": 0,
         "ascendable_id": 475562,
         "ascendable_name": "Dark Green",
         "ascendable_type": "GymBoulder",
         "comment": null,
         "created_at": {},
         "date": "2023-11-22 12:00:00 +0000",
         "difficulty": "6A+",
         "eight_a_ascendable_id": null,
         "eight_a_id": null,
         "eight_a_logbook": false,
         "eight_a_parent_id": null,
         "eight_a_user_id": 133113,
         "exposition": 0,
         "features": 0,
         "grade": "vl-17",
         "grading_system": "font",
         "height": 4,
         "hold_color": null,
         "id": 14128385,
         "parent_id": 69,
         "parent_name": "Klättercentret Solna",
         "path": null,
         "perceived_hardness": 0,
         "project": false,
         "protection": null,
         "provider": "verticallife",
         "rating": null,
         "recommended": false,
         "repeat": false,
         "repeats": 0,
         "safety_issues": 0,
         "score": 503,
         "shade": 0,
         "sits": 0,
         "steepness": 0,
         "style": "",
         "sub_type": "",
         "tries": 1,
         "type": "f",
         "updated_at": {},
         "user_id": 230474,
         "virtual": false,
         "vl_ascendable_id": null,
         "vl_id": 6083622,
         "vl_parent_id": null,
         "vl_user_id": 286128,
         "year": 2023
        },
        {
         "archived_at": null,
         "ascendable_filter": null,
         "ascendable_height": 0,
         "ascendable_id": 462733,
         "ascendable_name": "Black",
         "ascendable_type": "GymBoulder",
         "comment": null,
         "created_at": {},
         "date": "2023-10-08 12:00:00 +0000",
         "difficulty": "6C+",
         "eight_a_ascendable_id": null,
         "eight_a_id": null,
         "eight_a_logbook": false,
         "eight_a_parent_id": null,
         "eight_a_user_id": 133113,
         "exposition": 0,
         "features": 0,
         "grade": "vl-22",
         "grading_system": "font",
         "height": 4,
         "hold_color": null,
         "id": 5826877,
         "parent_id": 69,
         "parent_name": "Klättercentret Solna",
         "path": null,
         "perceived_hardness": 0,
         "project": false,
         "protection": null,
         "provider": "verticallife",
         "rating": null,
         "recommended": false,
         "repeat": false,
         "repeats": 0,
         "safety_issues": 0,
         "score": 650,
         "shade": 0,
         "sits": 0,
         "steepness": 0,
         "style": "",
         "sub_type": "",
         "tries": 5,
         "type": "rp",
         "updated_at": {},
         "user_id": 230474,
         "virtual": false,
         "vl_ascendable_id": null,
         "vl_id": 5945861,
         "vl_parent_id": null,
         "vl_user_id": 286128,
         "year": 2023
        },
        {
         "archived_at": null,
         "ascendable_filter": null,
         "ascendable_height": null,
         "ascendable_id": 552257,
         "ascendable_name": "Black",
         "ascendable_type": "GymBoulder",
         "comment": null,
         "created_at": {},
         "date": "2024-10-16 12:00:00 +0000",
         "difficulty": "4",
         "eight_a_ascendable_id": null,
         "eight_a_id": null,
         "eight_a_logbook": false,
         "eight_a_parent_id": null,
         "eight_a_user_id": 133113,
         "exposition": null,
         "features": null,
         "grade": "vl-7",
         "grading_system": "font",
         "height": 4,
         "hold_color": null,
         "id": 16004260,
         "parent_id": 69,
         "parent_name": "Klättercentret Solna",
         "path": null,
         "perceived_hardness": 0,
         "project": false,
         "protection": null,
         "provider": "verticallife",
         "rating": null,
         "recommended": false,
         "repeat": false,
         "repeats": 0,
         "safety_issues": null,
         "score": 103,
         "shade": null,
         "sits": 0,
         "steepness": 0,
         "style": "",
         "sub_type": "",
         "tries": 1,
         "type": "f",
         "updated_at": {},
         "user_id": 230474,
         "virtual": false,
         "vl_ascendable_id": null,
         "vl_id": 7003675,
         "vl_parent_id": null,
         "vl_user_id": 286128,
         "year": 2024
        },
        {
         "archived_at": null,
         "ascendable_filter": null,
         "ascendable_height": 0,
         "ascendable_id": 462730,
         "ascendable_name": "Turquoise",
         "ascendable_type": "GymBoulder",
         "comment": null,
         "created_at": {},
         "date": "2023-10-04 12:00:00 +0000",
         "difficulty": "3+",
         "eight_a_ascendable_id": null,
         "eight_a_id": null,
         "eight_a_logbook": false,
         "eight_a_parent_id": null,
         "eight_a_user_id": 133113,
         "exposition": 0,
         "features": 0,
         "grade": "vl-5",
         "grading_system": "font",
         "height": 4,
         "hold_color": null,
         "id": 5361755,
         "parent_id": 69,
         "parent_name": "Klättercentret Solna",
         "path": null,
         "perceived_hardness": 0,
         "project": false,
         "protection": null,
         "provider": "verticallife",
         "rating": null,
         "recommended": false,
         "repeat": false,
         "repeats": 0,
         "safety_issues": 0,
         "score": 103,
         "shade": 0,
         "sits": 0,
         "steepness": 0,
         "style": "",
         "sub_type": "",
         "tries": 1,
         "type": "f",
         "updated_at": {},
         "user_id": 230474,
         "virtual": false,
         "vl_ascendable_id": null,
         "vl_id": 5934670,
         "vl_parent_id": null,
         "vl_user_id": 286128,
         "year": 2023
        },
        {
         "archived_at": null,
         "ascendable_filter": null,
         "ascendable_height": 0,
         "ascendable_id": 462727,
         "ascendable_name": "Blue",
         "ascendable_type": "GymBoulder",
         "comment": null,
         "created_at": {},
         "date": "2023-10-20 12:00:00 +0000",
         "difficulty": "6A+",
         "eight_a_ascendable_id": null,
         "eight_a_id": null,
         "eight_a_logbook": false,
         "eight_a_parent_id": null,
         "eight_a_user_id": 133113,
         "exposition": 0,
         "features": 0,
         "grade": "vl-17",
         "grading_system": "font",
         "height": 4,
         "hold_color": null,
         "id": 5877757,
         "parent_id": 69,
         "parent_name": "Klättercentret Solna",
         "path": null,
         "perceived_hardness": 0,
         "project": false,
         "protection": null,
         "provider": "verticallife",
         "rating": null,
         "recommended": false,
         "repeat": false,
         "repeats": 0,
         "safety_issues": 0,
         "score": 503,
         "shade": 0,
         "sits": 0,
         "steepness": 0,
         "style": "",
         "sub_type": "",
         "tries": 1,
         "type": "f",
         "updated_at": {},
         "user_id": 230474,
         "virtual": false,
         "vl_ascendable_id": null,
         "vl_id": 5984048,
         "vl_parent_id": null,
         "vl_user_id": 286128,
         "year": 2023
        },
        {
         "archived_at": null,
         "ascendable_filter": null,
         "ascendable_height": 0,
         "ascendable_id": 427863,
         "ascendable_name": "White-blue-green!",
         "ascendable_type": "GymBoulder",
         "comment": null,
         "created_at": {},
         "date": "2023-04-26 12:00:00 +0000",
         "difficulty": "5+",
         "eight_a_ascendable_id": null,
         "eight_a_id": null,
         "eight_a_logbook": false,
         "eight_a_parent_id": null,
         "eight_a_user_id": 133113,
         "exposition": 0,
         "features": 0,
         "grade": "vl-14",
         "grading_system": "font",
         "height": 4,
         "hold_color": null,
         "id": 5637997,
         "parent_id": 69,
         "parent_name": "Klättercentret Solna",
         "path": null,
         "perceived_hardness": 0,
         "project": false,
         "protection": null,
         "provider": "verticallife",
         "rating": null,
         "recommended": false,
         "repeat": false,
         "repeats": 0,
         "safety_issues": 0,
         "score": 353,
         "shade": 0,
         "sits": 0,
         "steepness": 0,
         "style": "",
         "sub_type": "",
         "tries": 1,
         "type": "f",
         "updated_at": {},
         "user_id": 230474,
         "virtual": false,
         "vl_ascendable_id": null,
         "vl_id": 5493680,
         "vl_parent_id": null,
         "vl_user_id": 286128,
         "year": 2023
        },
        {
         "archived_at": null,
         "ascendable_filter": null,
         "ascendable_height": null,
         "ascendable_id": 512936,
         "ascendable_name": "Dark Green",
         "ascendable_type": "GymBoulder",
         "comment": null,
         "created_at": {},
         "date": "2024-04-22 12:00:00 +0000",
         "difficulty": "3",
         "eight_a_ascendable_id": null,
         "eight_a_id": null,
         "eight_a_logbook": false,
         "eight_a_parent_id": null,
         "eight_a_user_id": 133113,
         "exposition": null,
         "features": null,
         "grade": "vl-4",
         "grading_system": "font",
         "height": 4,
         "hold_color": null,
         "id": 15052028,
         "parent_id": 69,
         "parent_name": "Klättercentret Solna",
         "path": null,
         "perceived_hardness": 0,
         "project": false,
         "protection": null,
         "provider": "verticallife",
         "rating": null,
         "recommended": false,
         "repeat": false,
         "repeats": 0,
         "safety_issues": null,
         "score": 103,
         "shade": null,
         "sits": 0,
         "steepness": 0,
         "style": "",
         "sub_type": "",
         "tries": 1,
         "type": "f",
         "updated_at": {},
         "user_id": 230474,
         "virtual": false,
         "vl_ascendable_id": null,
         "vl_id": 6509418,
         "vl_parent_id": null,
         "vl_user_id": 286128,
         "year": 2024
        },
        {
         "archived_at": null,
         "ascendable_filter": null,
         "ascendable_height": 0,
         "ascendable_id": 413060,
         "ascendable_name": "Black",
         "ascendable_type": "GymBoulder",
         "comment": null,
         "created_at": {},
         "date": "2023-02-22 12:00:00 +0000",
         "difficulty": "4+",
         "eight_a_ascendable_id": null,
         "eight_a_id": null,
         "eight_a_logbook": false,
         "eight_a_parent_id": null,
         "eight_a_user_id": 133113,
         "exposition": 0,
         "features": 0,
         "grade": "vl-8",
         "grading_system": "font",
         "height": 4,
         "hold_color": null,
         "id": 5505656,
         "parent_id": 69,
         "parent_name": "Klättercentret Solna",
         "path": null,
         "perceived_hardness": 0,
         "project": false,
         "protection": 0,
         "provider": "verticallife",
         "rating": null,
         "recommended": false,
         "repeat": false,
         "repeats": 0,
         "safety_issues": 0,
         "score": 52,
         "shade": 0,
         "sits": 0,
         "steepness": 0,
         "style": "",
         "sub_type": "",
         "tries": 1,
         "type": "f",
         "updated_at": {},
         "user_id": 230474,
         "virtual": false,
         "vl_ascendable_id": null,
         "vl_id": 5298229,
         "vl_parent_id": null,
         "vl_user_id": 286128,
         "year": 2023
        },
        {
         "archived_at": null,
         "ascendable_filter": null,
         "ascendable_height": 0,
         "ascendable_id": 427857,
         "ascendable_name": "White orange",
         "ascendable_type": "GymBoulder",
         "comment": null,
         "created_at": {},
         "date": "2023-04-26 12:00:00 +0000",
         "difficulty": "5+",
         "eight_a_ascendable_id": null,
         "eight_a_id": null,
         "eight_a_logbook": false,
         "eight_a_parent_id": null,
         "eight_a_user_id": 133113,
         "exposition": 0,
         "features": 0,
         "grade": "vl-14",
         "grading_system": "font",
         "height": 4,
         "hold_color": null,
         "id": 4960698,
         "parent_id": 69,
         "parent_name": "Klättercentret Solna",
         "path": null,
         "perceived_hardness": 0,
         "project": false,
         "protection": null,
         "provider": "verticallife",
         "rating": null,
         "recommended": false,
         "repeat": false,
         "repeats": 0,
         "safety_issues": 0,
         "score": 353,
         "shade": 0,
         "sits": 0,
         "steepness": 0,
         "style": "",
         "sub_type": "",
         "tries": 1,
         "type": "f",
         "updated_at": {},
         "user_id": 230474,
         "virtual": false,
         "vl_ascendable_id": null,
         "vl_id": 5493699,
         "vl_parent_id": null,
         "vl_user_id": 286128,
         "year": 2023
        },
        {
         "archived_at": null,
         "ascendable_filter": null,
         "ascendable_height": 0,
         "ascendable_id": 458797,
         "ascendable_name": "Orange",
         "ascendable_type": "GymBoulder",
         "comment": null,
         "created_at": {},
         "date": "2023-09-06 12:00:00 +0000",
         "difficulty": "6B+",
         "eight_a_ascendable_id": null,
         "eight_a_id": null,
         "eight_a_logbook": false,
         "eight_a_parent_id": null,
         "eight_a_user_id": 133113,
         "exposition": 0,
         "features": 0,
         "grade": "vl-19",
         "grading_system": "font",
         "height": 4,
         "hold_color": null,
         "id": 5829468,
         "parent_id": 69,
         "parent_name": "Klättercentret Solna",
         "path": null,
         "perceived_hardness": 0,
         "project": false,
         "protection": null,
         "provider": "verticallife",
         "rating": null,
         "recommended": false,
         "repeat": false,
         "repeats": 0,
         "safety_issues": 0,
         "score": 603,
         "shade": 0,
         "sits": 0,
         "steepness": 0,
         "style": "a",
         "sub_type": "",
         "tries": 1,
         "type": "f",
         "updated_at": {},
         "user_id": 230474,
         "virtual": false,
         "vl_ascendable_id": null,
         "vl_id": 5853783,
         "vl_parent_id": null,
         "vl_user_id": 286128,
         "year": 2023
        },
        {
         "archived_at": null,
         "ascendable_filter": null,
         "ascendable_height": null,
         "ascendable_id": 569942,
         "ascendable_name": "Orange",
         "ascendable_type": "GymBoulder",
         "comment": null,
         "created_at": {},
         "date": "2025-01-11 12:00:00 +0000",
         "difficulty": "6B",
         "eight_a_ascendable_id": null,
         "eight_a_id": null,
         "eight_a_logbook": false,
         "eight_a_parent_id": null,
         "eight_a_user_id": 133113,
         "exposition": null,
         "features": null,
         "grade": "vl-18",
         "grading_system": "font",
         "height": 4,
         "hold_color": null,
         "id": 16453409,
         "parent_id": 69,
         "parent_name": "Klättercentret Solna",
         "path": null,
         "perceived_hardness": 0,
         "project": false,
         "protection": null,
         "provider": "verticallife",
         "rating": null,
         "recommended": false,
         "repeat": false,
         "repeats": 0,
         "safety_issues": null,
         "score": 553,
         "shade": null,
         "sits": 0,
         "steepness": 0,
         "style": "",
         "sub_type": "",
         "tries": 1,
         "type": "f",
         "updated_at": {},
         "user_id": 230474,
         "virtual": false,
         "vl_ascendable_id": null,
         "vl_id": 7242692,
         "vl_parent_id": null,
         "vl_user_id": 286128,
         "year": 2025
        },
        {
         "archived_at": null,
         "ascendable_filter": null,
         "ascendable_height": null,
         "ascendable_id": 324569,
         "ascendable_name": "Turquoise",
         "ascendable_type": "GymBoulder",
         "comment": null,
         "created_at": {},
         "date": "2022-03-27 12:00:00 +0000",
         "difficulty": "5",
         "eight_a_ascendable_id": null,
         "eight_a_id": null,
         "eight_a_logbook": false,
         "eight_a_parent_id": null,
         "eight_a_user_id": 133113,
         "exposition": null,
         "features": null,
         "grade": "vl-12",
         "grading_system": "font",
         "height": 4,
         "hold_color": null,
         "id": 4463420,
         "parent_id": 69,
         "parent_name": "Klättercentret Solna",
         "path": null,
         "perceived_hardness": 0,
         "project": false,
         "protection": 0,
         "provider": "verticallife",
         "rating": null,
         "recommended": false,
         "repeat": false,
         "repeats": 0,
         "safety_issues": null,
         "score": 253,
         "shade": null,
         "sits": 0,
         "steepness": 0,
         "style": "a",
         "sub_type": "",
         "tries": 1,
         "type": "f",
         "updated_at": {},
         "user_id": 230474,
         "virtual": false,
         "vl_ascendable_id": null,
         "vl_id": 4405175,
         "vl_parent_id": null,
         "vl_user_id": 286128,
         "year": 2022
        },
        {
         "archived_at": null,
         "ascendable_filter": null,
         "ascendable_height": null,
         "ascendable_id": 547532,
         "ascendable_name": "Blue",
         "ascendable_type": "GymBoulder",
         "comment": null,
         "created_at": {},
         "date": "2024-09-23 12:00:00 +0000",
         "difficulty": "6A",
         "eight_a_ascendable_id": null,
         "eight_a_id": null,
         "eight_a_logbook": false,
         "eight_a_parent_id": null,
         "eight_a_user_id": 133113,
         "exposition": null,
         "features": null,
         "grade": "vl-16",
         "grading_system": "font",
         "height": 4,
         "hold_color": null,
         "id": 15883863,
         "parent_id": 69,
         "parent_name": "Klättercentret Solna",
         "path": null,
         "perceived_hardness": 0,
         "project": false,
         "protection": null,
         "provider": "verticallife",
         "rating": null,
         "recommended": false,
         "repeat": false,
         "repeats": 0,
         "safety_issues": null,
         "score": 402,
         "shade": null,
         "sits": 0,
         "steepness": 0,
         "style": "",
         "sub_type": "",
         "tries": 2,
         "type": "rp",
         "updated_at": {},
         "user_id": 230474,
         "virtual": false,
         "vl_ascendable_id": null,
         "vl_id": 6936438,
         "vl_parent_id": null,
         "vl_user_id": 286128,
         "year": 2024
        },
        {
         "archived_at": null,
         "ascendable_filter": null,
         "ascendable_height": null,
         "ascendable_id": 532455,
         "ascendable_name": "Yellow",
         "ascendable_type": "GymBoulder",
         "comment": null,
         "created_at": {},
         "date": "2024-07-15 12:00:00 +0000",
         "difficulty": "4",
         "eight_a_ascendable_id": null,
         "eight_a_id": null,
         "eight_a_logbook": false,
         "eight_a_parent_id": null,
         "eight_a_user_id": 133113,
         "exposition": null,
         "features": null,
         "grade": "vl-7",
         "grading_system": "font",
         "height": 4,
         "hold_color": null,
         "id": 15520335,
         "parent_id": 69,
         "parent_name": "Klättercentret Solna",
         "path": null,
         "perceived_hardness": 0,
         "project": false,
         "protection": null,
         "provider": "verticallife",
         "rating": null,
         "recommended": false,
         "repeat": false,
         "repeats": 0,
         "safety_issues": null,
         "score": 103,
         "shade": null,
         "sits": 0,
         "steepness": 0,
         "style": "",
         "sub_type": "",
         "tries": 1,
         "type": "f",
         "updated_at": {},
         "user_id": 230474,
         "virtual": false,
         "vl_ascendable_id": null,
         "vl_id": 6754344,
         "vl_parent_id": null,
         "vl_user_id": 286128,
         "year": 2024
        },
        {
         "archived_at": null,
         "ascendable_filter": null,
         "ascendable_height": null,
         "ascendable_id": 572580,
         "ascendable_name": "Dark Green low",
         "ascendable_type": "GymBoulder",
         "comment": null,
         "created_at": {},
         "date": "2025-02-05 12:00:00 +0000",
         "difficulty": "7A",
         "eight_a_ascendable_id": null,
         "eight_a_id": null,
         "eight_a_logbook": false,
         "eight_a_parent_id": null,
         "eight_a_user_id": 133113,
         "exposition": null,
         "features": null,
         "grade": "vl-23",
         "grading_system": "font",
         "height": 4,
         "hold_color": null,
         "id": 16564212,
         "parent_id": 69,
         "parent_name": "Klättercentret Solna",
         "path": null,
         "perceived_hardness": 0,
         "project": false,
         "protection": null,
         "provider": "verticallife",
         "rating": null,
         "recommended": false,
         "repeat": false,
         "repeats": 0,
         "safety_issues": null,
         "score": 700,
         "shade": null,
         "sits": 0,
         "steepness": 0,
         "style": "",
         "sub_type": "",
         "tries": 6,
         "type": "rp",
         "updated_at": {},
         "user_id": 230474,
         "virtual": false,
         "vl_ascendable_id": null,
         "vl_id": 7313008,
         "vl_parent_id": null,
         "vl_user_id": 286128,
         "year": 2025
        },
        {
         "archived_at": null,
         "ascendable_filter": null,
         "ascendable_height": null,
         "ascendable_id": 555151,
         "ascendable_name": "Blue",
         "ascendable_type": "GymBoulder",
         "comment": null,
         "created_at": {},
         "date": "2024-10-30 12:00:00 +0000",
         "difficulty": "5+",
         "eight_a_ascendable_id": null,
         "eight_a_id": null,
         "eight_a_logbook": false,
         "eight_a_parent_id": null,
         "eight_a_user_id": 133113,
         "exposition": null,
         "features": null,
         "grade": "vl-14",
         "grading_system": "font",
         "height": 4,
         "hold_color": null,
         "id": 16082655,
         "parent_id": 69,
         "parent_name": "Klättercentret Solna",
         "path": null,
         "perceived_hardness": 0,
         "project": false,
         "protection": null,
         "provider": "verticallife",
         "rating": null,
         "recommended": false,
         "repeat": false,
         "repeats": 0,
         "safety_issues": null,
         "score": 353,
         "shade": null,
         "sits": 0,
         "steepness": 0,
         "style": "",
         "sub_type": "",
         "tries": 1,
         "type": "f",
         "updated_at": {},
         "user_id": 230474,
         "virtual": false,
         "vl_ascendable_id": null,
         "vl_id": 7046505,
         "vl_parent_id": null,
         "vl_user_id": 286128,
         "year": 2024
        },
        {
         "archived_at": null,
         "ascendable_filter": null,
         "ascendable_height": 0,
         "ascendable_id": 478968,
         "ascendable_name": "Yellow",
         "ascendable_type": "GymBoulder",
         "comment": null,
         "created_at": {},
         "date": "2023-12-02 12:00:00 +0000",
         "difficulty": "3+",
         "eight_a_ascendable_id": null,
         "eight_a_id": null,
         "eight_a_logbook": false,
         "eight_a_parent_id": null,
         "eight_a_user_id": 133113,
         "exposition": 0,
         "features": 0,
         "grade": "vl-5",
         "grading_system": "font",
         "height": 4,
         "hold_color": null,
         "id": 14172331,
         "parent_id": 69,
         "parent_name": "Klättercentret Solna",
         "path": null,
         "perceived_hardness": 0,
         "project": false,
         "protection": null,
         "provider": "verticallife",
         "rating": null,
         "recommended": false,
         "repeat": false,
         "repeats": 0,
         "safety_issues": 0,
         "score": 103,
         "shade": 0,
         "sits": 0,
         "steepness": 0,
         "style": "",
         "sub_type": "",
         "tries": 1,
         "type": "f",
         "updated_at": {},
         "user_id": 230474,
         "virtual": false,
         "vl_ascendable_id": null,
         "vl_id": 6108573,
         "vl_parent_id": null,
         "vl_user_id": 286128,
         "year": 2023
        },
        {
         "archived_at": null,
         "ascendable_filter": null,
         "ascendable_height": null,
         "ascendable_id": 514109,
         "ascendable_name": "Red",
         "ascendable_type": "GymBoulder",
         "comment": null,
         "created_at": {},
         "date": "2024-05-05 12:00:00 +0000",
         "difficulty": "5+",
         "eight_a_ascendable_id": null,
         "eight_a_id": null,
         "eight_a_logbook": false,
         "eight_a_parent_id": null,
         "eight_a_user_id": 133113,
         "exposition": null,
         "features": null,
         "grade": "vl-14",
         "grading_system": "font",
         "height": 4,
         "hold_color": null,
         "id": 15137418,
         "parent_id": 69,
         "parent_name": "Klättercentret Solna",
         "path": null,
         "perceived_hardness": 0,
         "project": false,
         "protection": null,
         "provider": "verticallife",
         "rating": null,
         "recommended": false,
         "repeat": false,
         "repeats": 0,
         "safety_issues": null,
         "score": 353,
         "shade": null,
         "sits": 0,
         "steepness": 0,
         "style": "",
         "sub_type": "",
         "tries": 1,
         "type": "f",
         "updated_at": {},
         "user_id": 230474,
         "virtual": false,
         "vl_ascendable_id": null,
         "vl_id": 6553404,
         "vl_parent_id": null,
         "vl_user_id": 286128,
         "year": 2024
        },
        {
         "archived_at": null,
         "ascendable_filter": null,
         "ascendable_height": 0,
         "ascendable_id": 447132,
         "ascendable_name": "Black 4",
         "ascendable_type": "GymBoulder",
         "comment": null,
         "created_at": {},
         "date": "2023-07-16 12:00:00 +0000",
         "difficulty": "3+",
         "eight_a_ascendable_id": null,
         "eight_a_id": null,
         "eight_a_logbook": false,
         "eight_a_parent_id": null,
         "eight_a_user_id": 133113,
         "exposition": 0,
         "features": 0,
         "grade": "vl-5",
         "grading_system": "font",
         "height": 4,
         "hold_color": null,
         "id": 5759458,
         "parent_id": 69,
         "parent_name": "Klättercentret Solna",
         "path": null,
         "perceived_hardness": 0,
         "project": false,
         "protection": null,
         "provider": "verticallife",
         "rating": null,
         "recommended": false,
         "repeat": false,
         "repeats": 0,
         "safety_issues": 0,
         "score": 103,
         "shade": 0,
         "sits": 0,
         "steepness": 0,
         "style": "",
         "sub_type": "",
         "tries": 1,
         "type": "f",
         "updated_at": {},
         "user_id": 230474,
         "virtual": false,
         "vl_ascendable_id": null,
         "vl_id": 5711311,
         "vl_parent_id": null,
         "vl_user_id": 286128,
         "year": 2023
        },
        {
         "archived_at": null,
         "ascendable_filter": null,
         "ascendable_height": 0,
         "ascendable_id": 456957,
         "ascendable_name": "Green",
         "ascendable_type": "GymBoulder",
         "comment": null,
         "created_at": {},
         "date": "2023-08-29 12:00:00 +0000",
         "difficulty": "6B",
         "eight_a_ascendable_id": null,
         "eight_a_id": null,
         "eight_a_logbook": false,
         "eight_a_parent_id": null,
         "eight_a_user_id": 133113,
         "exposition": 0,
         "features": 0,
         "grade": "vl-18",
         "grading_system": "font",
         "height": 4,
         "hold_color": null,
         "id": 5506995,
         "parent_id": 69,
         "parent_name": "Klättercentret Solna",
         "path": null,
         "perceived_hardness": 0,
         "project": false,
         "protection": null,
         "provider": "verticallife",
         "rating": null,
         "recommended": false,
         "repeat": false,
         "repeats": 0,
         "safety_issues": 0,
         "score": 553,
         "shade": 0,
         "sits": 0,
         "steepness": 0,
         "style": "",
         "sub_type": "",
         "tries": 1,
         "type": "f",
         "updated_at": {},
         "user_id": 230474,
         "virtual": false,
         "vl_ascendable_id": null,
         "vl_id": 5830700,
         "vl_parent_id": null,
         "vl_user_id": 286128,
         "year": 2023
        },
        {
         "archived_at": null,
         "ascendable_filter": null,
         "ascendable_height": null,
         "ascendable_id": 531023,
         "ascendable_name": "White",
         "ascendable_type": "GymBoulder",
         "comment": null,
         "created_at": {},
         "date": "2024-07-08 12:00:00 +0000",
         "difficulty": "6A+",
         "eight_a_ascendable_id": null,
         "eight_a_id": null,
         "eight_a_logbook": false,
         "eight_a_parent_id": null,
         "eight_a_user_id": 133113,
         "exposition": null,
         "features": null,
         "grade": "vl-17",
         "grading_system": "font",
         "height": 4,
         "hold_color": null,
         "id": 15486523,
         "parent_id": 69,
         "parent_name": "Klättercentret Solna",
         "path": null,
         "perceived_hardness": 0,
         "project": false,
         "protection": null,
         "provider": "verticallife",
         "rating": null,
         "recommended": false,
         "repeat": false,
         "repeats": 0,
         "safety_issues": null,
         "score": 452,
         "shade": null,
         "sits": 0,
         "steepness": 0,
         "style": "",
         "sub_type": "",
         "tries": 2,
         "type": "rp",
         "updated_at": {},
         "user_id": 230474,
         "virtual": false,
         "vl_ascendable_id": null,
         "vl_id": 6737091,
         "vl_parent_id": null,
         "vl_user_id": 286128,
         "year": 2024
        },
        {
         "archived_at": null,
         "ascendable_filter": null,
         "ascendable_height": 0,
         "ascendable_id": 473874,
         "ascendable_name": "Black",
         "ascendable_type": "GymBoulder",
         "comment": null,
         "created_at": {},
         "date": "2023-11-22 12:00:00 +0000",
         "difficulty": "2",
         "eight_a_ascendable_id": null,
         "eight_a_id": null,
         "eight_a_logbook": false,
         "eight_a_parent_id": null,
         "eight_a_user_id": 133113,
         "exposition": 0,
         "features": 0,
         "grade": "vl-1",
         "grading_system": "font",
         "height": 4,
         "hold_color": null,
         "id": 14128605,
         "parent_id": 69,
         "parent_name": "Klättercentret Solna",
         "path": null,
         "perceived_hardness": 0,
         "project": false,
         "protection": null,
         "provider": "verticallife",
         "rating": null,
         "recommended": false,
         "repeat": false,
         "repeats": 0,
         "safety_issues": 0,
         "score": 103,
         "shade": 0,
         "sits": 0,
         "steepness": 0,
         "style": "",
         "sub_type": "",
         "tries": 1,
         "type": "f",
         "updated_at": {},
         "user_id": 230474,
         "virtual": false,
         "vl_ascendable_id": null,
         "vl_id": 6083722,
         "vl_parent_id": null,
         "vl_user_id": 286128,
         "year": 2023
        },
        {
         "archived_at": null,
         "ascendable_filter": null,
         "ascendable_height": 0,
         "ascendable_id": 419616,
         "ascendable_name": "Yellow 3",
         "ascendable_type": "GymBoulder",
         "comment": null,
         "created_at": {},
         "date": "2023-03-22 12:00:00 +0000",
         "difficulty": "6C+",
         "eight_a_ascendable_id": null,
         "eight_a_id": null,
         "eight_a_logbook": false,
         "eight_a_parent_id": null,
         "eight_a_user_id": 133113,
         "exposition": 0,
         "features": 0,
         "grade": "vl-22",
         "grading_system": "font",
         "height": 4,
         "hold_color": null,
         "id": 5551049,
         "parent_id": 69,
         "parent_name": "Klättercentret Solna",
         "path": null,
         "perceived_hardness": 0,
         "project": false,
         "protection": null,
         "provider": "verticallife",
         "rating": null,
         "recommended": false,
         "repeat": false,
         "repeats": 0,
         "safety_issues": 0,
         "score": 652,
         "shade": 0,
         "sits": 0,
         "steepness": 0,
         "style": "",
         "sub_type": "",
         "tries": 2,
         "type": "rp",
         "updated_at": {},
         "user_id": 230474,
         "virtual": false,
         "vl_ascendable_id": null,
         "vl_id": 5386619,
         "vl_parent_id": null,
         "vl_user_id": 286128,
         "year": 2023
        },
        {
         "archived_at": null,
         "ascendable_filter": null,
         "ascendable_height": null,
         "ascendable_id": 555937,
         "ascendable_name": "Blue",
         "ascendable_type": "GymBoulder",
         "comment": null,
         "created_at": {},
         "date": "2024-11-04 12:00:00 +0000",
         "difficulty": "6A+",
         "eight_a_ascendable_id": null,
         "eight_a_id": null,
         "eight_a_logbook": false,
         "eight_a_parent_id": null,
         "eight_a_user_id": 133113,
         "exposition": null,
         "features": null,
         "grade": "vl-17",
         "grading_system": "font",
         "height": 4,
         "hold_color": null,
         "id": 16118554,
         "parent_id": 69,
         "parent_name": "Klättercentret Solna",
         "path": null,
         "perceived_hardness": 0,
         "project": false,
         "protection": null,
         "provider": "verticallife",
         "rating": null,
         "recommended": false,
         "repeat": false,
         "repeats": 0,
         "safety_issues": null,
         "score": 503,
         "shade": null,
         "sits": 0,
         "steepness": 0,
         "style": "",
         "sub_type": "",
         "tries": 1,
         "type": "f",
         "updated_at": {},
         "user_id": 230474,
         "virtual": false,
         "vl_ascendable_id": null,
         "vl_id": 7063469,
         "vl_parent_id": null,
         "vl_user_id": 286128,
         "year": 2024
        },
        {
         "archived_at": null,
         "ascendable_filter": null,
         "ascendable_height": 0,
         "ascendable_id": 425124,
         "ascendable_name": "Green 5",
         "ascendable_type": "GymBoulder",
         "comment": null,
         "created_at": {},
         "date": "2023-04-26 12:00:00 +0000",
         "difficulty": "5",
         "eight_a_ascendable_id": null,
         "eight_a_id": null,
         "eight_a_logbook": false,
         "eight_a_parent_id": null,
         "eight_a_user_id": 133113,
         "exposition": 0,
         "features": 0,
         "grade": "vl-12",
         "grading_system": "font",
         "height": 4,
         "hold_color": null,
         "id": 4960884,
         "parent_id": 69,
         "parent_name": "Klättercentret Solna",
         "path": null,
         "perceived_hardness": 0,
         "project": false,
         "protection": null,
         "provider": "verticallife",
         "rating": null,
         "recommended": false,
         "repeat": false,
         "repeats": 0,
         "safety_issues": 0,
         "score": 253,
         "shade": 0,
         "sits": 0,
         "steepness": 0,
         "style": "",
         "sub_type": "",
         "tries": 1,
         "type": "f",
         "updated_at": {},
         "user_id": 230474,
         "virtual": false,
         "vl_ascendable_id": null,
         "vl_id": 5494343,
         "vl_parent_id": null,
         "vl_user_id": 286128,
         "year": 2023
        },
        {
         "archived_at": null,
         "ascendable_filter": null,
         "ascendable_height": null,
         "ascendable_id": 555127,
         "ascendable_name": "Black",
         "ascendable_type": "GymBoulder",
         "comment": null,
         "created_at": {},
         "date": "2024-10-30 12:00:00 +0000",
         "difficulty": "4+",
         "eight_a_ascendable_id": null,
         "eight_a_id": null,
         "eight_a_logbook": false,
         "eight_a_parent_id": null,
         "eight_a_user_id": 133113,
         "exposition": null,
         "features": null,
         "grade": "vl-8",
         "grading_system": "font",
         "height": 4,
         "hold_color": null,
         "id": 16082624,
         "parent_id": 69,
         "parent_name": "Klättercentret Solna",
         "path": null,
         "perceived_hardness": 0,
         "project": false,
         "protection": null,
         "provider": "verticallife",
         "rating": null,
         "recommended": false,
         "repeat": false,
         "repeats": 0,
         "safety_issues": null,
         "score": 103,
         "shade": null,
         "sits": 0,
         "steepness": 0,
         "style": "",
         "sub_type": "",
         "tries": 1,
         "type": "f",
         "updated_at": {},
         "user_id": 230474,
         "virtual": false,
         "vl_ascendable_id": null,
         "vl_id": 7046506,
         "vl_parent_id": null,
         "vl_user_id": 286128,
         "year": 2024
        },
        {
         "archived_at": null,
         "ascendable_filter": null,
         "ascendable_height": 0,
         "ascendable_id": 463507,
         "ascendable_name": "Turquoise",
         "ascendable_type": "GymBoulder",
         "comment": null,
         "created_at": {},
         "date": "2023-10-01 12:00:00 +0000",
         "difficulty": "4",
         "eight_a_ascendable_id": null,
         "eight_a_id": null,
         "eight_a_logbook": false,
         "eight_a_parent_id": null,
         "eight_a_user_id": 133113,
         "exposition": 0,
         "features": 0,
         "grade": "vl-7",
         "grading_system": "font",
         "height": 4,
         "hold_color": null,
         "id": 5859161,
         "parent_id": 69,
         "parent_name": "Klättercentret Solna",
         "path": null,
         "perceived_hardness": 0,
         "project": false,
         "protection": null,
         "provider": "verticallife",
         "rating": null,
         "recommended": false,
         "repeat": false,
         "repeats": 0,
         "safety_issues": 0,
         "score": 103,
         "shade": 0,
         "sits": 0,
         "steepness": 0,
         "style": "",
         "sub_type": "",
         "tries": 1,
         "type": "f",
         "updated_at": {},
         "user_id": 230474,
         "virtual": false,
         "vl_ascendable_id": null,
         "vl_id": 5923775,
         "vl_parent_id": null,
         "vl_user_id": 286128,
         "year": 2023
        },
        {
         "archived_at": null,
         "ascendable_filter": null,
         "ascendable_height": 0,
         "ascendable_id": 432201,
         "ascendable_name": "Magenta 1",
         "ascendable_type": "GymBoulder",
         "comment": null,
         "created_at": {},
         "date": "2023-05-28 12:00:00 +0000",
         "difficulty": "6C",
         "eight_a_ascendable_id": null,
         "eight_a_id": null,
         "eight_a_logbook": false,
         "eight_a_parent_id": null,
         "eight_a_user_id": 133113,
         "exposition": 0,
         "features": 0,
         "grade": "vl-21",
         "grading_system": "font",
         "height": 4,
         "hold_color": null,
         "id": 5270044,
         "parent_id": 69,
         "parent_name": "Klättercentret Solna",
         "path": null,
         "perceived_hardness": 0,
         "project": false,
         "protection": null,
         "provider": "verticallife",
         "rating": null,
         "recommended": false,
         "repeat": false,
         "repeats": 0,
         "safety_issues": 0,
         "score": 600,
         "shade": 0,
         "sits": 0,
         "steepness": 0,
         "style": "",
         "sub_type": "",
         "tries": 4,
         "type": "rp",
         "updated_at": {},
         "user_id": 230474,
         "virtual": false,
         "vl_ascendable_id": null,
         "vl_id": 5588433,
         "vl_parent_id": null,
         "vl_user_id": 286128,
         "year": 2023
        },
        {
         "archived_at": null,
         "ascendable_filter": null,
         "ascendable_height": null,
         "ascendable_id": 512933,
         "ascendable_name": "Dark Green",
         "ascendable_type": "GymBoulder",
         "comment": null,
         "created_at": {},
         "date": "2024-04-29 12:00:00 +0000",
         "difficulty": "7A+",
         "eight_a_ascendable_id": null,
         "eight_a_id": null,
         "eight_a_logbook": false,
         "eight_a_parent_id": null,
         "eight_a_user_id": 133113,
         "exposition": null,
         "features": null,
         "grade": "vl-24",
         "grading_system": "font",
         "height": 4,
         "hold_color": null,
         "id": 15094617,
         "parent_id": 69,
         "parent_name": "Klättercentret Solna",
         "path": null,
         "perceived_hardness": 0,
         "project": false,
         "protection": null,
         "provider": "verticallife",
         "rating": null,
         "recommended": false,
         "repeat": false,
         "repeats": 0,
         "safety_issues": null,
         "score": 750,
         "shade": null,
         "sits": 0,
         "steepness": 0,
         "style": "",
         "sub_type": "",
         "tries": 5,
         "type": "rp",
         "updated_at": {},
         "user_id": 230474,
         "virtual": false,
         "vl_ascendable_id": null,
         "vl_id": 6533233,
         "vl_parent_id": null,
         "vl_user_id": 286128,
         "year": 2024
        },
        {
         "archived_at": null,
         "ascendable_filter": null,
         "ascendable_height": null,
         "ascendable_id": 547535,
         "ascendable_name": "White",
         "ascendable_type": "GymBoulder",
         "comment": null,
         "created_at": {},
         "date": "2024-10-02 12:00:00 +0000",
         "difficulty": "6C+",
         "eight_a_ascendable_id": null,
         "eight_a_id": null,
         "eight_a_logbook": false,
         "eight_a_parent_id": null,
         "eight_a_user_id": 133113,
         "exposition": null,
         "features": null,
         "grade": "vl-22",
         "grading_system": "font",
         "height": 4,
         "hold_color": null,
         "id": 15929223,
         "parent_id": 69,
         "parent_name": "Klättercentret Solna",
         "path": null,
         "perceived_hardness": 0,
         "project": false,
         "protection": null,
         "provider": "verticallife",
         "rating": null,
         "recommended": false,
         "repeat": false,
         "repeats": 0,
         "safety_issues": null,
         "score": 650,
         "shade": null,
         "sits": 0,
         "steepness": 0,
         "style": "",
         "sub_type": "",
         "tries": 6,
         "type": "rp",
         "updated_at": {},
         "user_id": 230474,
         "virtual": false,
         "vl_ascendable_id": null,
         "vl_id": 6961303,
         "vl_parent_id": null,
         "vl_user_id": 286128,
         "year": 2024
        },
        {
         "archived_at": null,
         "ascendable_filter": null,
         "ascendable_height": null,
         "ascendable_id": 514106,
         "ascendable_name": "Dark Green",
         "ascendable_type": "GymBoulder",
         "comment": null,
         "created_at": {},
         "date": "2024-05-05 12:00:00 +0000",
         "difficulty": "4+",
         "eight_a_ascendable_id": null,
         "eight_a_id": null,
         "eight_a_logbook": false,
         "eight_a_parent_id": null,
         "eight_a_user_id": 133113,
         "exposition": null,
         "features": null,
         "grade": "vl-8",
         "grading_system": "font",
         "height": 4,
         "hold_color": null,
         "id": 15137384,
         "parent_id": 69,
         "parent_name": "Klättercentret Solna",
         "path": null,
         "perceived_hardness": 0,
         "project": false,
         "protection": null,
         "provider": "verticallife",
         "rating": null,
         "recommended": false,
         "repeat": false,
         "repeats": 0,
         "safety_issues": null,
         "score": 103,
         "shade": null,
         "sits": 0,
         "steepness": 0,
         "style": "",
         "sub_type": "",
         "tries": 1,
         "type": "f",
         "updated_at": {},
         "user_id": 230474,
         "virtual": false,
         "vl_ascendable_id": null,
         "vl_id": 6553407,
         "vl_parent_id": null,
         "vl_user_id": 286128,
         "year": 2024
        },
        {
         "archived_at": null,
         "ascendable_filter": null,
         "ascendable_height": null,
         "ascendable_id": 523297,
         "ascendable_name": "White",
         "ascendable_type": "GymBoulder",
         "comment": null,
         "created_at": {},
         "date": "2024-06-06 12:00:00 +0000",
         "difficulty": "6B",
         "eight_a_ascendable_id": null,
         "eight_a_id": null,
         "eight_a_logbook": false,
         "eight_a_parent_id": null,
         "eight_a_user_id": 133113,
         "exposition": null,
         "features": null,
         "grade": "vl-18",
         "grading_system": "font",
         "height": 4,
         "hold_color": null,
         "id": 15328296,
         "parent_id": 69,
         "parent_name": "Klättercentret Solna",
         "path": null,
         "perceived_hardness": 0,
         "project": false,
         "protection": null,
         "provider": "verticallife",
         "rating": null,
         "recommended": false,
         "repeat": false,
         "repeats": 0,
         "safety_issues": null,
         "score": 502,
         "shade": null,
         "sits": 0,
         "steepness": 0,
         "style": "",
         "sub_type": "",
         "tries": 2,
         "type": "rp",
         "updated_at": {},
         "user_id": 230474,
         "virtual": false,
         "vl_ascendable_id": null,
         "vl_id": 6653002,
         "vl_parent_id": null,
         "vl_user_id": 286128,
         "year": 2024
        },
        {
         "archived_at": null,
         "ascendable_filter": null,
         "ascendable_height": null,
         "ascendable_id": 498919,
         "ascendable_name": "White",
         "ascendable_type": "GymBoulder",
         "comment": null,
         "created_at": {},
         "date": "2024-02-25 12:00:00 +0000",
         "difficulty": "6B+",
         "eight_a_ascendable_id": null,
         "eight_a_id": null,
         "eight_a_logbook": false,
         "eight_a_parent_id": null,
         "eight_a_user_id": 133113,
         "exposition": null,
         "features": null,
         "grade": "vl-19",
         "grading_system": "font",
         "height": 4,
         "hold_color": null,
         "id": 14652745,
         "parent_id": 69,
         "parent_name": "Klättercentret Solna",
         "path": null,
         "perceived_hardness": 0,
         "project": false,
         "protection": null,
         "provider": "verticallife",
         "rating": null,
         "recommended": false,
         "repeat": false,
         "repeats": 0,
         "safety_issues": null,
         "score": 550,
         "shade": null,
         "sits": 0,
         "steepness": 0,
         "style": "",
         "sub_type": "",
         "tries": 3,
         "type": "rp",
         "updated_at": {},
         "user_id": 230474,
         "virtual": false,
         "vl_ascendable_id": null,
         "vl_id": 6338629,
         "vl_parent_id": null,
         "vl_user_id": 286128,
         "year": 2024
        }
       ],
       "schema": {
        "fields": [
         {
          "name": "vl_parent_id",
          "type": "null"
         },
         {
          "name": "ascendable_type",
          "type": "string"
         },
         {
          "name": "ascendable_name",
          "type": "string"
         },
         {
          "name": "score",
          "type": "integer"
         },
         {
          "name": "archived_at",
          "type": "null"
         },
         {
          "name": "eight_a_user_id",
          "type": "integer"
         },
         {
          "name": "parent_name",
          "type": "string"
         },
         {
          "name": "grading_system",
          "type": "string"
         },
         {
          "name": "exposition",
          "type": "integer"
         },
         {
          "name": "path",
          "type": "null"
         },
         {
          "name": "ascendable_filter",
          "type": "null"
         },
         {
          "name": "rating",
          "type": "integer"
         },
         {
          "name": "virtual",
          "type": "boolean"
         },
         {
          "name": "updated_at",
          "type": "string"
         },
         {
          "name": "type",
          "type": "string"
         },
         {
          "name": "vl_user_id",
          "type": "integer"
         },
         {
          "name": "eight_a_logbook",
          "type": "boolean"
         },
         {
          "name": "recommended",
          "type": "boolean"
         },
         {
          "name": "project",
          "type": "boolean"
         },
         {
          "name": "grade",
          "type": "string"
         },
         {
          "name": "safety_issues",
          "type": "integer"
         },
         {
          "name": "repeats",
          "type": "integer"
         },
         {
          "name": "provider",
          "type": "string"
         },
         {
          "name": "height",
          "type": "integer"
         },
         {
          "name": "ascendable_height",
          "type": "integer"
         },
         {
          "name": "eight_a_parent_id",
          "type": "null"
         },
         {
          "name": "ascendable_id",
          "type": "integer"
         },
         {
          "name": "steepness",
          "type": "integer"
         },
         {
          "name": "vl_id",
          "type": "integer"
         },
         {
          "name": "protection",
          "type": "integer"
         },
         {
          "name": "eight_a_ascendable_id",
          "type": "null"
         },
         {
          "name": "created_at",
          "type": "string"
         },
         {
          "name": "sits",
          "type": "integer"
         },
         {
          "name": "difficulty",
          "type": "string"
         },
         {
          "name": "shade",
          "type": "integer"
         },
         {
          "name": "style",
          "type": "string"
         },
         {
          "name": "features",
          "type": "integer"
         },
         {
          "name": "perceived_hardness",
          "type": "integer"
         },
         {
          "name": "tries",
          "type": "integer"
         },
         {
          "name": "parent_id",
          "type": "integer"
         },
         {
          "name": "vl_ascendable_id",
          "type": "null"
         },
         {
          "name": "eight_a_id",
          "type": "null"
         },
         {
          "name": "date",
          "type": "string"
         },
         {
          "name": "comment",
          "type": "string"
         },
         {
          "name": "hold_color",
          "type": "null"
         },
         {
          "name": "id",
          "type": "integer"
         },
         {
          "name": "repeat",
          "type": "boolean"
         },
         {
          "name": "sub_type",
          "type": "string"
         },
         {
          "name": "user_id",
          "type": "integer"
         },
         {
          "name": "year",
          "type": "integer"
         }
        ]
       }
      },
      "text/html": [
       "<table><thead><tr><th>vl_parent_id</th><th>ascendable_type</th><th>ascendable_name</th><th>score</th><th>archived_at</th><th>eight_a_user_id</th><th>parent_name</th><th>grading_system</th><th>exposition</th><th>path</th><th>ascendable_filter</th><th>rating</th><th>virtual</th><th>updated_at</th><th>type</th><th>vl_user_id</th><th>eight_a_logbook</th><th>recommended</th><th>project</th><th>grade</th><th>safety_issues</th><th>repeats</th><th>provider</th><th>height</th><th>ascendable_height</th><th>eight_a_parent_id</th><th>ascendable_id</th><th>steepness</th><th>vl_id</th><th>protection</th><th>eight_a_ascendable_id</th><th>created_at</th><th>sits</th><th>difficulty</th><th>shade</th><th>style</th><th>features</th><th>perceived_hardness</th><th>tries</th><th>parent_id</th><th>vl_ascendable_id</th><th>eight_a_id</th><th>date</th><th>comment</th><th>hold_color</th><th>id</th><th>repeat</th><th>sub_type</th><th>user_id</th><th>year</th></tr></thead><tbody><tr><td>null</td><td>GymBoulder</td><td>Dark Green</td><td>353</td><td>null</td><td>133113</td><td>Klättercentret Solna</td><td>font</td><td>0</td><td>null</td><td>null</td><td>null</td><td>false</td><td>Wed Oct 25 2023 01:48:39 GMT+0200 (Central European Summer Time)</td><td>f</td><td>286128</td><td>false</td><td>false</td><td>false</td><td>vl-14</td><td>0</td><td>0</td><td>verticallife</td><td>4</td><td>0</td><td>null</td><td>467181</td><td>0</td><td>5964298</td><td>null</td><td>null</td><td>Sat Oct 14 2023 15:41:49 GMT+0200 (Central European Summer Time)</td><td>0</td><td>5+</td><td>0</td><td></td><td>0</td><td>0</td><td>1</td><td>69</td><td>null</td><td>null</td><td>2023-10-14 12:00:00 +0000</td><td>null</td><td>null</td><td>5555779</td><td>false</td><td></td><td>230474</td><td>2023</td></tr><tr><td>null</td><td>GymBoulder</td><td>White</td><td>452</td><td>null</td><td>133113</td><td>Klättercentret Solna</td><td>font</td><td>0</td><td>null</td><td>null</td><td>null</td><td>false</td><td>Wed Oct 25 2023 01:09:25 GMT+0200 (Central European Summer Time)</td><td>rp</td><td>286128</td><td>false</td><td>false</td><td>false</td><td>vl-17</td><td>0</td><td>0</td><td>verticallife</td><td>4</td><td>0</td><td>null</td><td>340831</td><td>0</td><td>4590851</td><td>null</td><td>null</td><td>Wed Jun 01 2022 21:17:04 GMT+0200 (Central European Summer Time)</td><td>0</td><td>6A+</td><td>0</td><td>cas</td><td>0</td><td>0</td><td>2</td><td>69</td><td>null</td><td>null</td><td>2022-06-01 12:00:00 +0000</td><td>null</td><td>null</td><td>4836720</td><td>false</td><td></td><td>230474</td><td>2022</td></tr><tr><td>null</td><td>GymBoulder</td><td>Yellow</td><td>353</td><td>null</td><td>133113</td><td>Klättercentret Solna</td><td>font</td><td>0</td><td>null</td><td>null</td><td>null</td><td>false</td><td>Wed Oct 25 2023 02:07:20 GMT+0200 (Central European Summer Time)</td><td>f</td><td>286128</td><td>false</td><td>false</td><td>false</td><td>vl-14</td><td>0</td><td>0</td><td>verticallife</td><td>4</td><td>0</td><td>null</td><td>456960</td><td>0</td><td>5833182</td><td>null</td><td>null</td><td>Wed Aug 30 2023 18:29:32 GMT+0200 (Central European Summer Time)</td><td>0</td><td>5+</td><td>0</td><td></td><td>0</td><td>0</td><td>1</td><td>69</td><td>null</td><td>null</td><td>2023-08-30 12:00:00 +0000</td><td>null</td><td>null</td><td>5775797</td><td>false</td><td></td><td>230474</td><td>2023</td></tr><tr><td>null</td><td>GymBoulder</td><td>Yellow</td><td>503</td><td>null</td><td>133113</td><td>Klättercentret Solna</td><td>font</td><td>0</td><td>null</td><td>null</td><td>null</td><td>false</td><td>Sat Oct 28 2023 14:44:00 GMT+0200 (Central European Summer Time)</td><td>f</td><td>286128</td><td>false</td><td>false</td><td>false</td><td>vl-17</td><td>0</td><td>0</td><td>verticallife</td><td>4</td><td>0</td><td>null</td><td>470581</td><td>0</td><td>6009013</td><td>null</td><td>null</td><td>Sat Oct 28 2023 14:44:00 GMT+0200 (Central European Summer Time)</td><td>0</td><td>6A+</td><td>0</td><td></td><td>0</td><td>0</td><td>1</td><td>69</td><td>null</td><td>null</td><td>2023-10-28 12:00:00 +0000</td><td>null</td><td>null</td><td>13984335</td><td>false</td><td></td><td>230474</td><td>2023</td></tr><tr><td>null</td><td>GymBoulder</td><td>Orange</td><td>453</td><td>null</td><td>133113</td><td>Klättercentret Solna</td><td>font</td><td>0</td><td>null</td><td>null</td><td>null</td><td>false</td><td>Wed Oct 25 2023 02:16:23 GMT+0200 (Central European Summer Time)</td><td>f</td><td>286128</td><td>false</td><td>false</td><td>false</td><td>vl-16</td><td>0</td><td>0</td><td>verticallife</td><td>4</td><td>0</td><td>null</td><td>466124</td><td>0</td><td>5945883</td><td>null</td><td>null</td><td>Sun Oct 08 2023 14:12:47 GMT+0200 (Central European Summer Time)</td><td>0</td><td>6A</td><td>0</td><td></td><td>0</td><td>0</td><td>1</td><td>69</td><td>null</td><td>null</td><td>2023-10-08 12:00:00 +0000</td><td>null</td><td>null</td><td>5866169</td><td>false</td><td></td><td>230474</td><td>2023</td></tr><tr><td>null</td><td>GymBoulder</td><td>Green</td><td>453</td><td>null</td><td>133113</td><td>Klättercentret Solna</td><td>font</td><td>null</td><td>null</td><td>null</td><td>null</td><td>false</td><td>Sat Mar 02 2024 14:17:01 GMT+0100 (Central European Standard Time)</td><td>f</td><td>286128</td><td>false</td><td>false</td><td>false</td><td>vl-16</td><td>null</td><td>0</td><td>verticallife</td><td>4</td><td>null</td><td>null</td><td>498916</td><td>0</td><td>6354889</td><td>null</td><td>null</td><td>Sat Mar 02 2024 14:17:00 GMT+0100 (Central European Standard Time)</td><td>0</td><td>6A</td><td>null</td><td></td><td>null</td><td>0</td><td>1</td><td>69</td><td>null</td><td>null</td><td>2024-03-02 12:00:00 +0000</td><td>null</td><td>null</td><td>14681095</td><td>false</td><td></td><td>230474</td><td>2024</td></tr><tr><td>null</td><td>GymBoulder</td><td>Blue</td><td>353</td><td>null</td><td>133113</td><td>Klättercentret Solna</td><td>font</td><td>0</td><td>null</td><td>null</td><td>null</td><td>false</td><td>Wed Oct 25 2023 00:41:29 GMT+0200 (Central European Summer Time)</td><td>f</td><td>286128</td><td>false</td><td>false</td><td>false</td><td>vl-14</td><td>0</td><td>0</td><td>verticallife</td><td>4</td><td>0</td><td>null</td><td>353815</td><td>0</td><td>4641622</td><td>null</td><td>null</td><td>Wed Jun 22 2022 13:06:27 GMT+0200 (Central European Summer Time)</td><td>0</td><td>5+</td><td>0</td><td>ts</td><td>0</td><td>0</td><td>1</td><td>69</td><td>null</td><td>null</td><td>2022-06-22 12:00:00 +0000</td><td>null</td><td>null</td><td>4312618</td><td>false</td><td></td><td>230474</td><td>2022</td></tr><tr><td>null</td><td>GymBoulder</td><td>Bright Pink</td><td>103</td><td>null</td><td>133113</td><td>Klättercentret Solna</td><td>font</td><td>0</td><td>null</td><td>null</td><td>null</td><td>false</td><td>Wed Oct 25 2023 01:42:14 GMT+0200 (Central European Summer Time)</td><td>f</td><td>286128</td><td>false</td><td>false</td><td>false</td><td>vl-7</td><td>0</td><td>0</td><td>verticallife</td><td>4</td><td>0</td><td>null</td><td>455001</td><td>0</td><td>5804781</td><td>null</td><td>null</td><td>Sun Aug 20 2023 12:31:01 GMT+0200 (Central European Summer Time)</td><td>0</td><td>4</td><td>0</td><td></td><td>0</td><td>0</td><td>1</td><td>69</td><td>null</td><td>null</td><td>2023-08-20 12:00:00 +0000</td><td>null</td><td>null</td><td>5449800</td><td>false</td><td></td><td>230474</td><td>2023</td></tr><tr><td>null</td><td>GymBoulder</td><td>Magenta</td><td>353</td><td>null</td><td>133113</td><td>Klättercentret Solna</td><td>font</td><td>0</td><td>null</td><td>null</td><td>null</td><td>false</td><td>Wed Oct 25 2023 01:15:26 GMT+0200 (Central European Summer Time)</td><td>f</td><td>286128</td><td>false</td><td>false</td><td>false</td><td>vl-14</td><td>0</td><td>0</td><td>verticallife</td><td>4</td><td>0</td><td>null</td><td>407924</td><td>0</td><td>5267530</td><td>null</td><td>null</td><td>Sun Feb 12 2023 14:41:46 GMT+0100 (Central European Standard Time)</td><td>0</td><td>5+</td><td>0</td><td></td><td>0</td><td>0</td><td>1</td><td>69</td><td>null</td><td>null</td><td>2023-02-12 12:00:00 +0000</td><td>null</td><td>null</td><td>4949390</td><td>false</td><td></td><td>230474</td><td>2023</td></tr><tr><td>null</td><td>GymBoulder</td><td>Turquoise</td><td>253</td><td>null</td><td>133113</td><td>Klättercentret Solna</td><td>font</td><td>null</td><td>null</td><td>null</td><td>null</td><td>false</td><td>Sat Jan 11 2025 14:34:58 GMT+0100 (Central European Standard Time)</td><td>f</td><td>286128</td><td>false</td><td>false</td><td>false</td><td>vl-12</td><td>null</td><td>0</td><td>verticallife</td><td>4</td><td>null</td><td>null</td><td>567337</td><td>0</td><td>7242645</td><td>null</td><td>null</td><td>Sat Jan 11 2025 14:34:58 GMT+0100 (Central European Standard Time)</td><td>0</td><td>5</td><td>null</td><td></td><td>null</td><td>0</td><td>1</td><td>69</td><td>null</td><td>null</td><td>2025-01-11 12:00:00 +0000</td><td>null</td><td>null</td><td>16453325</td><td>false</td><td></td><td>230474</td><td>2025</td></tr><tr><td>null</td><td>GymBoulder</td><td>Dark Green</td><td>550</td><td>null</td><td>133113</td><td>Klättercentret Solna</td><td>font</td><td>null</td><td>null</td><td>null</td><td>null</td><td>false</td><td>Wed Feb 14 2024 20:04:25 GMT+0100 (Central European Standard Time)</td><td>rp</td><td>286128</td><td>false</td><td>false</td><td>false</td><td>vl-19</td><td>null</td><td>0</td><td>verticallife</td><td>4</td><td>null</td><td>null</td><td>493941</td><td>0</td><td>6307315</td><td>null</td><td>null</td><td>Wed Feb 14 2024 20:04:24 GMT+0100 (Central European Standard Time)</td><td>0</td><td>6B+</td><td>null</td><td></td><td>null</td><td>0</td><td>5</td><td>69</td><td>null</td><td>null</td><td>2024-02-14 12:00:00 +0000</td><td>null</td><td>null</td><td>14598928</td><td>false</td><td></td><td>230474</td><td>2024</td></tr><tr><td>null</td><td>GymBoulder</td><td>Turquoise</td><td>253</td><td>null</td><td>133113</td><td>Klättercentret Solna</td><td>font</td><td>null</td><td>null</td><td>null</td><td>null</td><td>false</td><td>Sat Mar 16 2024 15:49:34 GMT+0100 (Central European Standard Time)</td><td>f</td><td>286128</td><td>false</td><td>false</td><td>false</td><td>vl-12</td><td>null</td><td>0</td><td>verticallife</td><td>4</td><td>null</td><td>null</td><td>504537</td><td>0</td><td>6396572</td><td>null</td><td>null</td><td>Sat Mar 16 2024 15:49:34 GMT+0100 (Central European Standard Time)</td><td>0</td><td>5</td><td>null</td><td></td><td>null</td><td>0</td><td>1</td><td>69</td><td>null</td><td>null</td><td>2024-03-16 12:00:00 +0000</td><td>null</td><td>null</td><td>14750006</td><td>false</td><td></td><td>230474</td><td>2024</td></tr><tr><td>null</td><td>GymBoulder</td><td>Turquoise low</td><td>103</td><td>null</td><td>133113</td><td>Klättercentret Solna</td><td>font</td><td>0</td><td>null</td><td>null</td><td>null</td><td>false</td><td>Wed Oct 25 2023 01:25:57 GMT+0200 (Central European Summer Time)</td><td>f</td><td>286128</td><td>false</td><td>false</td><td>false</td><td>vl-7</td><td>0</td><td>0</td><td>verticallife</td><td>4</td><td>0</td><td>null</td><td>425508</td><td>0</td><td>5466133</td><td>null</td><td>null</td><td>Mon Apr 17 2023 18:30:14 GMT+0200 (Central European Summer Time)</td><td>0</td><td>4</td><td>0</td><td></td><td>0</td><td>0</td><td>1</td><td>69</td><td>null</td><td>null</td><td>2023-04-17 12:00:00 +0000</td><td>null</td><td>null</td><td>5148002</td><td>false</td><td></td><td>230474</td><td>2023</td></tr><tr><td>null</td><td>GymBoulder</td><td>Yellow</td><td>103</td><td>null</td><td>133113</td><td>Klättercentret Solna</td><td>font</td><td>null</td><td>null</td><td>null</td><td>null</td><td>false</td><td>Wed Dec 18 2024 18:24:42 GMT+0100 (Central European Standard Time)</td><td>f</td><td>286128</td><td>false</td><td>false</td><td>false</td><td>vl-7</td><td>null</td><td>0</td><td>verticallife</td><td>4</td><td>null</td><td>null</td><td>566021</td><td>0</td><td>7183993</td><td>null</td><td>null</td><td>Wed Dec 18 2024 18:24:42 GMT+0100 (Central European Standard Time)</td><td>0</td><td>4</td><td>null</td><td></td><td>null</td><td>0</td><td>1</td><td>69</td><td>null</td><td>null</td><td>2024-12-18 12:00:00 +0000</td><td>null</td><td>null</td><td>16334819</td><td>false</td><td></td><td>230474</td><td>2024</td></tr><tr><td>null</td><td>GymBoulder</td><td>Purple</td><td>552</td><td>null</td><td>133113</td><td>Klättercentret Solna</td><td>font</td><td>null</td><td>null</td><td>null</td><td>null</td><td>false</td><td>Wed Oct 16 2024 19:08:48 GMT+0200 (Central European Summer Time)</td><td>rp</td><td>286128</td><td>false</td><td>false</td><td>false</td><td>vl-19</td><td>null</td><td>0</td><td>verticallife</td><td>4</td><td>null</td><td>null</td><td>552254</td><td>0</td><td>7003719</td><td>null</td><td>null</td><td>Wed Oct 16 2024 19:08:48 GMT+0200 (Central European Summer Time)</td><td>0</td><td>6B+</td><td>null</td><td></td><td>null</td><td>0</td><td>2</td><td>69</td><td>null</td><td>null</td><td>2024-10-16 12:00:00 +0000</td><td>null</td><td>null</td><td>16004307</td><td>false</td><td></td><td>230474</td><td>2024</td></tr><tr><td>null</td><td>GymBoulder</td><td>Orange white</td><td>503</td><td>null</td><td>133113</td><td>Klättercentret Solna</td><td>font</td><td>0</td><td>null</td><td>null</td><td>null</td><td>false</td><td>Sat Oct 28 2023 14:46:43 GMT+0200 (Central European Summer Time)</td><td>f</td><td>286128</td><td>false</td><td>false</td><td>false</td><td>vl-17</td><td>0</td><td>0</td><td>verticallife</td><td>4</td><td>0</td><td>null</td><td>471653</td><td>0</td><td>6009023</td><td>null</td><td>null</td><td>Sat Oct 28 2023 14:46:42 GMT+0200 (Central European Summer Time)</td><td>0</td><td>6A+</td><td>0</td><td></td><td>0</td><td>0</td><td>1</td><td>69</td><td>null</td><td>null</td><td>2023-10-28 12:00:00 +0000</td><td>null</td><td>null</td><td>13984289</td><td>false</td><td></td><td>230474</td><td>2023</td></tr><tr><td>null</td><td>GymBoulder</td><td>Purple</td><td>253</td><td>null</td><td>133113</td><td>Klättercentret Solna</td><td>font</td><td>null</td><td>null</td><td>null</td><td>null</td><td>false</td><td>Sat Nov 09 2024 14:12:58 GMT+0100 (Central European Standard Time)</td><td>f</td><td>286128</td><td>false</td><td>false</td><td>false</td><td>vl-12</td><td>null</td><td>0</td><td>verticallife</td><td>4</td><td>null</td><td>null</td><td>557241</td><td>0</td><td>7076150</td><td>null</td><td>null</td><td>Sat Nov 09 2024 14:12:58 GMT+0100 (Central European Standard Time)</td><td>0</td><td>5</td><td>null</td><td></td><td>null</td><td>0</td><td>1</td><td>69</td><td>null</td><td>null</td><td>2024-11-09 12:00:00 +0000</td><td>null</td><td>null</td><td>16142436</td><td>false</td><td></td><td>230474</td><td>2024</td></tr><tr><td>null</td><td>GymBoulder</td><td>Dark Green</td><td>503</td><td>null</td><td>133113</td><td>Klättercentret Solna</td><td>font</td><td>0</td><td>null</td><td>null</td><td>null</td><td>false</td><td>Wed Nov 22 2023 19:35:44 GMT+0100 (Central European Standard Time)</td><td>f</td><td>286128</td><td>false</td><td>false</td><td>false</td><td>vl-17</td><td>0</td><td>0</td><td>verticallife</td><td>4</td><td>0</td><td>null</td><td>475562</td><td>0</td><td>6083622</td><td>null</td><td>null</td><td>Wed Nov 22 2023 19:35:43 GMT+0100 (Central European Standard Time)</td><td>0</td><td>6A+</td><td>0</td><td></td><td>0</td><td>0</td><td>1</td><td>69</td><td>null</td><td>null</td><td>2023-11-22 12:00:00 +0000</td><td>null</td><td>null</td><td>14128385</td><td>false</td><td></td><td>230474</td><td>2023</td></tr><tr><td>null</td><td>GymBoulder</td><td>Black</td><td>650</td><td>null</td><td>133113</td><td>Klättercentret Solna</td><td>font</td><td>0</td><td>null</td><td>null</td><td>null</td><td>false</td><td>Wed Oct 25 2023 02:11:57 GMT+0200 (Central European Summer Time)</td><td>rp</td><td>286128</td><td>false</td><td>false</td><td>false</td><td>vl-22</td><td>0</td><td>0</td><td>verticallife</td><td>4</td><td>0</td><td>null</td><td>462733</td><td>0</td><td>5945861</td><td>null</td><td>null</td><td>Sun Oct 08 2023 14:07:02 GMT+0200 (Central European Summer Time)</td><td>0</td><td>6C+</td><td>0</td><td></td><td>0</td><td>0</td><td>5</td><td>69</td><td>null</td><td>null</td><td>2023-10-08 12:00:00 +0000</td><td>null</td><td>null</td><td>5826877</td><td>false</td><td></td><td>230474</td><td>2023</td></tr><tr><td>null</td><td>GymBoulder</td><td>Black</td><td>103</td><td>null</td><td>133113</td><td>Klättercentret Solna</td><td>font</td><td>null</td><td>null</td><td>null</td><td>null</td><td>false</td><td>Wed Oct 16 2024 18:59:22 GMT+0200 (Central European Summer Time)</td><td>f</td><td>286128</td><td>false</td><td>false</td><td>false</td><td>vl-7</td><td>null</td><td>0</td><td>verticallife</td><td>4</td><td>null</td><td>null</td><td>552257</td><td>0</td><td>7003675</td><td>null</td><td>null</td><td>Wed Oct 16 2024 18:59:21 GMT+0200 (Central European Summer Time)</td><td>0</td><td>4</td><td>null</td><td></td><td>null</td><td>0</td><td>1</td><td>69</td><td>null</td><td>null</td><td>2024-10-16 12:00:00 +0000</td><td>null</td><td>null</td><td>16004260</td><td>false</td><td></td><td>230474</td><td>2024</td></tr><tr><td>null</td><td>GymBoulder</td><td>Turquoise</td><td>103</td><td>null</td><td>133113</td><td>Klättercentret Solna</td><td>font</td><td>0</td><td>null</td><td>null</td><td>null</td><td>false</td><td>Wed Oct 25 2023 01:37:18 GMT+0200 (Central European Summer Time)</td><td>f</td><td>286128</td><td>false</td><td>false</td><td>false</td><td>vl-5</td><td>0</td><td>0</td><td>verticallife</td><td>4</td><td>0</td><td>null</td><td>462730</td><td>0</td><td>5934670</td><td>null</td><td>null</td><td>Wed Oct 04 2023 18:56:25 GMT+0200 (Central European Summer Time)</td><td>0</td><td>3+</td><td>0</td><td></td><td>0</td><td>0</td><td>1</td><td>69</td><td>null</td><td>null</td><td>2023-10-04 12:00:00 +0000</td><td>null</td><td>null</td><td>5361755</td><td>false</td><td></td><td>230474</td><td>2023</td></tr><tr><td>null</td><td>GymBoulder</td><td>Blue</td><td>503</td><td>null</td><td>133113</td><td>Klättercentret Solna</td><td>font</td><td>0</td><td>null</td><td>null</td><td>null</td><td>false</td><td>Wed Oct 25 2023 02:18:09 GMT+0200 (Central European Summer Time)</td><td>f</td><td>286128</td><td>false</td><td>false</td><td>false</td><td>vl-17</td><td>0</td><td>0</td><td>verticallife</td><td>4</td><td>0</td><td>null</td><td>462727</td><td>0</td><td>5984048</td><td>null</td><td>null</td><td>Fri Oct 20 2023 18:13:06 GMT+0200 (Central European Summer Time)</td><td>0</td><td>6A+</td><td>0</td><td></td><td>0</td><td>0</td><td>1</td><td>69</td><td>null</td><td>null</td><td>2023-10-20 12:00:00 +0000</td><td>null</td><td>null</td><td>5877757</td><td>false</td><td></td><td>230474</td><td>2023</td></tr><tr><td>null</td><td>GymBoulder</td><td>White-blue-green!</td><td>353</td><td>null</td><td>133113</td><td>Klättercentret Solna</td><td>font</td><td>0</td><td>null</td><td>null</td><td>null</td><td>false</td><td>Wed Oct 25 2023 01:54:41 GMT+0200 (Central European Summer Time)</td><td>f</td><td>286128</td><td>false</td><td>false</td><td>false</td><td>vl-14</td><td>0</td><td>0</td><td>verticallife</td><td>4</td><td>0</td><td>null</td><td>427863</td><td>0</td><td>5493680</td><td>null</td><td>null</td><td>Wed Apr 26 2023 18:30:41 GMT+0200 (Central European Summer Time)</td><td>0</td><td>5+</td><td>0</td><td></td><td>0</td><td>0</td><td>1</td><td>69</td><td>null</td><td>null</td><td>2023-04-26 12:00:00 +0000</td><td>null</td><td>null</td><td>5637997</td><td>false</td><td></td><td>230474</td><td>2023</td></tr><tr><td>null</td><td>GymBoulder</td><td>Dark Green</td><td>103</td><td>null</td><td>133113</td><td>Klättercentret Solna</td><td>font</td><td>null</td><td>null</td><td>null</td><td>null</td><td>false</td><td>Mon Apr 22 2024 18:39:13 GMT+0200 (Central European Summer Time)</td><td>f</td><td>286128</td><td>false</td><td>false</td><td>false</td><td>vl-4</td><td>null</td><td>0</td><td>verticallife</td><td>4</td><td>null</td><td>null</td><td>512936</td><td>0</td><td>6509418</td><td>null</td><td>null</td><td>Mon Apr 22 2024 18:39:13 GMT+0200 (Central European Summer Time)</td><td>0</td><td>3</td><td>null</td><td></td><td>null</td><td>0</td><td>1</td><td>69</td><td>null</td><td>null</td><td>2024-04-22 12:00:00 +0000</td><td>null</td><td>null</td><td>15052028</td><td>false</td><td></td><td>230474</td><td>2024</td></tr><tr><td>null</td><td>GymBoulder</td><td>Black</td><td>52</td><td>null</td><td>133113</td><td>Klättercentret Solna</td><td>font</td><td>0</td><td>null</td><td>null</td><td>null</td><td>false</td><td>Wed Oct 25 2023 01:45:34 GMT+0200 (Central European Summer Time)</td><td>f</td><td>286128</td><td>false</td><td>false</td><td>false</td><td>vl-8</td><td>0</td><td>0</td><td>verticallife</td><td>4</td><td>0</td><td>null</td><td>413060</td><td>0</td><td>5298229</td><td>0</td><td>null</td><td>Wed Feb 22 2023 18:17:52 GMT+0100 (Central European Standard Time)</td><td>0</td><td>4+</td><td>0</td><td></td><td>0</td><td>0</td><td>1</td><td>69</td><td>null</td><td>null</td><td>2023-02-22 12:00:00 +0000</td><td>null</td><td>null</td><td>5505656</td><td>false</td><td></td><td>230474</td><td>2023</td></tr><tr><td>null</td><td>GymBoulder</td><td>White orange</td><td>353</td><td>null</td><td>133113</td><td>Klättercentret Solna</td><td>font</td><td>0</td><td>null</td><td>null</td><td>null</td><td>false</td><td>Wed Oct 25 2023 01:16:03 GMT+0200 (Central European Summer Time)</td><td>f</td><td>286128</td><td>false</td><td>false</td><td>false</td><td>vl-14</td><td>0</td><td>0</td><td>verticallife</td><td>4</td><td>0</td><td>null</td><td>427857</td><td>0</td><td>5493699</td><td>null</td><td>null</td><td>Wed Apr 26 2023 18:32:35 GMT+0200 (Central European Summer Time)</td><td>0</td><td>5+</td><td>0</td><td></td><td>0</td><td>0</td><td>1</td><td>69</td><td>null</td><td>null</td><td>2023-04-26 12:00:00 +0000</td><td>null</td><td>null</td><td>4960698</td><td>false</td><td></td><td>230474</td><td>2023</td></tr><tr><td>null</td><td>GymBoulder</td><td>Orange</td><td>603</td><td>null</td><td>133113</td><td>Klättercentret Solna</td><td>font</td><td>0</td><td>null</td><td>null</td><td>null</td><td>false</td><td>Wed Oct 25 2023 02:12:12 GMT+0200 (Central European Summer Time)</td><td>f</td><td>286128</td><td>false</td><td>false</td><td>false</td><td>vl-19</td><td>0</td><td>0</td><td>verticallife</td><td>4</td><td>0</td><td>null</td><td>458797</td><td>0</td><td>5853783</td><td>null</td><td>null</td><td>Wed Sep 06 2023 20:38:35 GMT+0200 (Central European Summer Time)</td><td>0</td><td>6B+</td><td>0</td><td>a</td><td>0</td><td>0</td><td>1</td><td>69</td><td>null</td><td>null</td><td>2023-09-06 12:00:00 +0000</td><td>null</td><td>null</td><td>5829468</td><td>false</td><td></td><td>230474</td><td>2023</td></tr><tr><td>null</td><td>GymBoulder</td><td>Orange</td><td>553</td><td>null</td><td>133113</td><td>Klättercentret Solna</td><td>font</td><td>null</td><td>null</td><td>null</td><td>null</td><td>false</td><td>Sat Jan 11 2025 14:48:51 GMT+0100 (Central European Standard Time)</td><td>f</td><td>286128</td><td>false</td><td>false</td><td>false</td><td>vl-18</td><td>null</td><td>0</td><td>verticallife</td><td>4</td><td>null</td><td>null</td><td>569942</td><td>0</td><td>7242692</td><td>null</td><td>null</td><td>Sat Jan 11 2025 14:48:51 GMT+0100 (Central European Standard Time)</td><td>0</td><td>6B</td><td>null</td><td></td><td>null</td><td>0</td><td>1</td><td>69</td><td>null</td><td>null</td><td>2025-01-11 12:00:00 +0000</td><td>null</td><td>null</td><td>16453409</td><td>false</td><td></td><td>230474</td><td>2025</td></tr><tr><td>null</td><td>GymBoulder</td><td>Turquoise</td><td>253</td><td>null</td><td>133113</td><td>Klättercentret Solna</td><td>font</td><td>null</td><td>null</td><td>null</td><td>null</td><td>false</td><td>Wed Oct 25 2023 00:49:23 GMT+0200 (Central European Summer Time)</td><td>f</td><td>286128</td><td>false</td><td>false</td><td>false</td><td>vl-12</td><td>null</td><td>0</td><td>verticallife</td><td>4</td><td>null</td><td>null</td><td>324569</td><td>0</td><td>4405175</td><td>0</td><td>null</td><td>Sun Mar 27 2022 16:23:05 GMT+0200 (Central European Summer Time)</td><td>0</td><td>5</td><td>null</td><td>a</td><td>null</td><td>0</td><td>1</td><td>69</td><td>null</td><td>null</td><td>2022-03-27 12:00:00 +0000</td><td>null</td><td>null</td><td>4463420</td><td>false</td><td></td><td>230474</td><td>2022</td></tr><tr><td>null</td><td>GymBoulder</td><td>Blue</td><td>402</td><td>null</td><td>133113</td><td>Klättercentret Solna</td><td>font</td><td>null</td><td>null</td><td>null</td><td>null</td><td>false</td><td>Mon Sep 23 2024 20:46:05 GMT+0200 (Central European Summer Time)</td><td>rp</td><td>286128</td><td>false</td><td>false</td><td>false</td><td>vl-16</td><td>null</td><td>0</td><td>verticallife</td><td>4</td><td>null</td><td>null</td><td>547532</td><td>0</td><td>6936438</td><td>null</td><td>null</td><td>Mon Sep 23 2024 20:46:05 GMT+0200 (Central European Summer Time)</td><td>0</td><td>6A</td><td>null</td><td></td><td>null</td><td>0</td><td>2</td><td>69</td><td>null</td><td>null</td><td>2024-09-23 12:00:00 +0000</td><td>null</td><td>null</td><td>15883863</td><td>false</td><td></td><td>230474</td><td>2024</td></tr><tr><td>null</td><td>GymBoulder</td><td>Yellow</td><td>103</td><td>null</td><td>133113</td><td>Klättercentret Solna</td><td>font</td><td>null</td><td>null</td><td>null</td><td>null</td><td>false</td><td>Mon Jul 15 2024 19:01:58 GMT+0200 (Central European Summer Time)</td><td>f</td><td>286128</td><td>false</td><td>false</td><td>false</td><td>vl-7</td><td>null</td><td>0</td><td>verticallife</td><td>4</td><td>null</td><td>null</td><td>532455</td><td>0</td><td>6754344</td><td>null</td><td>null</td><td>Mon Jul 15 2024 19:01:58 GMT+0200 (Central European Summer Time)</td><td>0</td><td>4</td><td>null</td><td></td><td>null</td><td>0</td><td>1</td><td>69</td><td>null</td><td>null</td><td>2024-07-15 12:00:00 +0000</td><td>null</td><td>null</td><td>15520335</td><td>false</td><td></td><td>230474</td><td>2024</td></tr><tr><td>null</td><td>GymBoulder</td><td>Dark Green low</td><td>700</td><td>null</td><td>133113</td><td>Klättercentret Solna</td><td>font</td><td>null</td><td>null</td><td>null</td><td>null</td><td>false</td><td>Wed Feb 05 2025 19:18:09 GMT+0100 (Central European Standard Time)</td><td>rp</td><td>286128</td><td>false</td><td>false</td><td>false</td><td>vl-23</td><td>null</td><td>0</td><td>verticallife</td><td>4</td><td>null</td><td>null</td><td>572580</td><td>0</td><td>7313008</td><td>null</td><td>null</td><td>Wed Feb 05 2025 19:18:09 GMT+0100 (Central European Standard Time)</td><td>0</td><td>7A</td><td>null</td><td></td><td>null</td><td>0</td><td>6</td><td>69</td><td>null</td><td>null</td><td>2025-02-05 12:00:00 +0000</td><td>null</td><td>null</td><td>16564212</td><td>false</td><td></td><td>230474</td><td>2025</td></tr><tr><td>null</td><td>GymBoulder</td><td>Blue</td><td>353</td><td>null</td><td>133113</td><td>Klättercentret Solna</td><td>font</td><td>null</td><td>null</td><td>null</td><td>null</td><td>false</td><td>Wed Oct 30 2024 18:59:56 GMT+0100 (Central European Standard Time)</td><td>f</td><td>286128</td><td>false</td><td>false</td><td>false</td><td>vl-14</td><td>null</td><td>0</td><td>verticallife</td><td>4</td><td>null</td><td>null</td><td>555151</td><td>0</td><td>7046505</td><td>null</td><td>null</td><td>Wed Oct 30 2024 18:59:56 GMT+0100 (Central European Standard Time)</td><td>0</td><td>5+</td><td>null</td><td></td><td>null</td><td>0</td><td>1</td><td>69</td><td>null</td><td>null</td><td>2024-10-30 12:00:00 +0000</td><td>null</td><td>null</td><td>16082655</td><td>false</td><td></td><td>230474</td><td>2024</td></tr><tr><td>null</td><td>GymBoulder</td><td>Yellow</td><td>103</td><td>null</td><td>133113</td><td>Klättercentret Solna</td><td>font</td><td>0</td><td>null</td><td>null</td><td>null</td><td>false</td><td>Sat Dec 02 2023 16:34:20 GMT+0100 (Central European Standard Time)</td><td>f</td><td>286128</td><td>false</td><td>false</td><td>false</td><td>vl-5</td><td>0</td><td>0</td><td>verticallife</td><td>4</td><td>0</td><td>null</td><td>478968</td><td>0</td><td>6108573</td><td>null</td><td>null</td><td>Sat Dec 02 2023 16:34:20 GMT+0100 (Central European Standard Time)</td><td>0</td><td>3+</td><td>0</td><td></td><td>0</td><td>0</td><td>1</td><td>69</td><td>null</td><td>null</td><td>2023-12-02 12:00:00 +0000</td><td>null</td><td>null</td><td>14172331</td><td>false</td><td></td><td>230474</td><td>2023</td></tr><tr><td>null</td><td>GymBoulder</td><td>Red</td><td>353</td><td>null</td><td>133113</td><td>Klättercentret Solna</td><td>font</td><td>null</td><td>null</td><td>null</td><td>null</td><td>false</td><td>Sun May 05 2024 15:59:33 GMT+0200 (Central European Summer Time)</td><td>f</td><td>286128</td><td>false</td><td>false</td><td>false</td><td>vl-14</td><td>null</td><td>0</td><td>verticallife</td><td>4</td><td>null</td><td>null</td><td>514109</td><td>0</td><td>6553404</td><td>null</td><td>null</td><td>Sun May 05 2024 15:59:32 GMT+0200 (Central European Summer Time)</td><td>0</td><td>5+</td><td>null</td><td></td><td>null</td><td>0</td><td>1</td><td>69</td><td>null</td><td>null</td><td>2024-05-05 12:00:00 +0000</td><td>null</td><td>null</td><td>15137418</td><td>false</td><td></td><td>230474</td><td>2024</td></tr><tr><td>null</td><td>GymBoulder</td><td>Black 4</td><td>103</td><td>null</td><td>133113</td><td>Klättercentret Solna</td><td>font</td><td>0</td><td>null</td><td>null</td><td>null</td><td>false</td><td>Wed Oct 25 2023 02:05:51 GMT+0200 (Central European Summer Time)</td><td>f</td><td>286128</td><td>false</td><td>false</td><td>false</td><td>vl-5</td><td>0</td><td>0</td><td>verticallife</td><td>4</td><td>0</td><td>null</td><td>447132</td><td>0</td><td>5711311</td><td>null</td><td>null</td><td>Sun Jul 16 2023 11:25:01 GMT+0200 (Central European Summer Time)</td><td>0</td><td>3+</td><td>0</td><td></td><td>0</td><td>0</td><td>1</td><td>69</td><td>null</td><td>null</td><td>2023-07-16 12:00:00 +0000</td><td>null</td><td>null</td><td>5759458</td><td>false</td><td></td><td>230474</td><td>2023</td></tr><tr><td>null</td><td>GymBoulder</td><td>Green</td><td>553</td><td>null</td><td>133113</td><td>Klättercentret Solna</td><td>font</td><td>0</td><td>null</td><td>null</td><td>null</td><td>false</td><td>Wed Oct 25 2023 01:45:39 GMT+0200 (Central European Summer Time)</td><td>f</td><td>286128</td><td>false</td><td>false</td><td>false</td><td>vl-18</td><td>0</td><td>0</td><td>verticallife</td><td>4</td><td>0</td><td>null</td><td>456957</td><td>0</td><td>5830700</td><td>null</td><td>null</td><td>Tue Aug 29 2023 20:56:37 GMT+0200 (Central European Summer Time)</td><td>0</td><td>6B</td><td>0</td><td></td><td>0</td><td>0</td><td>1</td><td>69</td><td>null</td><td>null</td><td>2023-08-29 12:00:00 +0000</td><td>null</td><td>null</td><td>5506995</td><td>false</td><td></td><td>230474</td><td>2023</td></tr><tr><td>null</td><td>GymBoulder</td><td>White</td><td>452</td><td>null</td><td>133113</td><td>Klättercentret Solna</td><td>font</td><td>null</td><td>null</td><td>null</td><td>null</td><td>false</td><td>Mon Jul 08 2024 20:07:48 GMT+0200 (Central European Summer Time)</td><td>rp</td><td>286128</td><td>false</td><td>false</td><td>false</td><td>vl-17</td><td>null</td><td>0</td><td>verticallife</td><td>4</td><td>null</td><td>null</td><td>531023</td><td>0</td><td>6737091</td><td>null</td><td>null</td><td>Mon Jul 08 2024 20:07:48 GMT+0200 (Central European Summer Time)</td><td>0</td><td>6A+</td><td>null</td><td></td><td>null</td><td>0</td><td>2</td><td>69</td><td>null</td><td>null</td><td>2024-07-08 12:00:00 +0000</td><td>null</td><td>null</td><td>15486523</td><td>false</td><td></td><td>230474</td><td>2024</td></tr><tr><td>null</td><td>GymBoulder</td><td>Black</td><td>103</td><td>null</td><td>133113</td><td>Klättercentret Solna</td><td>font</td><td>0</td><td>null</td><td>null</td><td>null</td><td>false</td><td>Wed Nov 22 2023 19:50:15 GMT+0100 (Central European Standard Time)</td><td>f</td><td>286128</td><td>false</td><td>false</td><td>false</td><td>vl-1</td><td>0</td><td>0</td><td>verticallife</td><td>4</td><td>0</td><td>null</td><td>473874</td><td>0</td><td>6083722</td><td>null</td><td>null</td><td>Wed Nov 22 2023 19:50:14 GMT+0100 (Central European Standard Time)</td><td>0</td><td>2</td><td>0</td><td></td><td>0</td><td>0</td><td>1</td><td>69</td><td>null</td><td>null</td><td>2023-11-22 12:00:00 +0000</td><td>null</td><td>null</td><td>14128605</td><td>false</td><td></td><td>230474</td><td>2023</td></tr><tr><td>null</td><td>GymBoulder</td><td>Yellow 3</td><td>652</td><td>null</td><td>133113</td><td>Klättercentret Solna</td><td>font</td><td>0</td><td>null</td><td>null</td><td>null</td><td>false</td><td>Wed Oct 25 2023 01:48:20 GMT+0200 (Central European Summer Time)</td><td>rp</td><td>286128</td><td>false</td><td>false</td><td>false</td><td>vl-22</td><td>0</td><td>0</td><td>verticallife</td><td>4</td><td>0</td><td>null</td><td>419616</td><td>0</td><td>5386619</td><td>null</td><td>null</td><td>Wed Mar 22 2023 18:39:45 GMT+0100 (Central European Standard Time)</td><td>0</td><td>6C+</td><td>0</td><td></td><td>0</td><td>0</td><td>2</td><td>69</td><td>null</td><td>null</td><td>2023-03-22 12:00:00 +0000</td><td>null</td><td>null</td><td>5551049</td><td>false</td><td></td><td>230474</td><td>2023</td></tr><tr><td>null</td><td>GymBoulder</td><td>Blue</td><td>503</td><td>null</td><td>133113</td><td>Klättercentret Solna</td><td>font</td><td>null</td><td>null</td><td>null</td><td>null</td><td>false</td><td>Mon Nov 04 2024 19:16:22 GMT+0100 (Central European Standard Time)</td><td>f</td><td>286128</td><td>false</td><td>false</td><td>false</td><td>vl-17</td><td>null</td><td>0</td><td>verticallife</td><td>4</td><td>null</td><td>null</td><td>555937</td><td>0</td><td>7063469</td><td>null</td><td>null</td><td>Mon Nov 04 2024 19:16:22 GMT+0100 (Central European Standard Time)</td><td>0</td><td>6A+</td><td>null</td><td></td><td>null</td><td>0</td><td>1</td><td>69</td><td>null</td><td>null</td><td>2024-11-04 12:00:00 +0000</td><td>null</td><td>null</td><td>16118554</td><td>false</td><td></td><td>230474</td><td>2024</td></tr><tr><td>null</td><td>GymBoulder</td><td>Green 5</td><td>253</td><td>null</td><td>133113</td><td>Klättercentret Solna</td><td>font</td><td>0</td><td>null</td><td>null</td><td>null</td><td>false</td><td>Wed Oct 25 2023 01:16:03 GMT+0200 (Central European Summer Time)</td><td>f</td><td>286128</td><td>false</td><td>false</td><td>false</td><td>vl-12</td><td>0</td><td>0</td><td>verticallife</td><td>4</td><td>0</td><td>null</td><td>425124</td><td>0</td><td>5494343</td><td>null</td><td>null</td><td>Wed Apr 26 2023 20:30:56 GMT+0200 (Central European Summer Time)</td><td>0</td><td>5</td><td>0</td><td></td><td>0</td><td>0</td><td>1</td><td>69</td><td>null</td><td>null</td><td>2023-04-26 12:00:00 +0000</td><td>null</td><td>null</td><td>4960884</td><td>false</td><td></td><td>230474</td><td>2023</td></tr><tr><td>null</td><td>GymBoulder</td><td>Black</td><td>103</td><td>null</td><td>133113</td><td>Klättercentret Solna</td><td>font</td><td>null</td><td>null</td><td>null</td><td>null</td><td>false</td><td>Wed Oct 30 2024 19:00:01 GMT+0100 (Central European Standard Time)</td><td>f</td><td>286128</td><td>false</td><td>false</td><td>false</td><td>vl-8</td><td>null</td><td>0</td><td>verticallife</td><td>4</td><td>null</td><td>null</td><td>555127</td><td>0</td><td>7046506</td><td>null</td><td>null</td><td>Wed Oct 30 2024 19:00:00 GMT+0100 (Central European Standard Time)</td><td>0</td><td>4+</td><td>null</td><td></td><td>null</td><td>0</td><td>1</td><td>69</td><td>null</td><td>null</td><td>2024-10-30 12:00:00 +0000</td><td>null</td><td>null</td><td>16082624</td><td>false</td><td></td><td>230474</td><td>2024</td></tr><tr><td>null</td><td>GymBoulder</td><td>Turquoise</td><td>103</td><td>null</td><td>133113</td><td>Klättercentret Solna</td><td>font</td><td>0</td><td>null</td><td>null</td><td>null</td><td>false</td><td>Wed Oct 25 2023 02:15:24 GMT+0200 (Central European Summer Time)</td><td>f</td><td>286128</td><td>false</td><td>false</td><td>false</td><td>vl-7</td><td>0</td><td>0</td><td>verticallife</td><td>4</td><td>0</td><td>null</td><td>463507</td><td>0</td><td>5923775</td><td>null</td><td>null</td><td>Sun Oct 01 2023 11:45:51 GMT+0200 (Central European Summer Time)</td><td>0</td><td>4</td><td>0</td><td></td><td>0</td><td>0</td><td>1</td><td>69</td><td>null</td><td>null</td><td>2023-10-01 12:00:00 +0000</td><td>null</td><td>null</td><td>5859161</td><td>false</td><td></td><td>230474</td><td>2023</td></tr><tr><td>null</td><td>GymBoulder</td><td>Magenta 1</td><td>600</td><td>null</td><td>133113</td><td>Klättercentret Solna</td><td>font</td><td>0</td><td>null</td><td>null</td><td>null</td><td>false</td><td>Wed Oct 25 2023 01:32:34 GMT+0200 (Central European Summer Time)</td><td>rp</td><td>286128</td><td>false</td><td>false</td><td>false</td><td>vl-21</td><td>0</td><td>0</td><td>verticallife</td><td>4</td><td>0</td><td>null</td><td>432201</td><td>0</td><td>5588433</td><td>null</td><td>null</td><td>Sun May 28 2023 13:46:19 GMT+0200 (Central European Summer Time)</td><td>0</td><td>6C</td><td>0</td><td></td><td>0</td><td>0</td><td>4</td><td>69</td><td>null</td><td>null</td><td>2023-05-28 12:00:00 +0000</td><td>null</td><td>null</td><td>5270044</td><td>false</td><td></td><td>230474</td><td>2023</td></tr><tr><td>null</td><td>GymBoulder</td><td>Dark Green</td><td>750</td><td>null</td><td>133113</td><td>Klättercentret Solna</td><td>font</td><td>null</td><td>null</td><td>null</td><td>null</td><td>false</td><td>Mon Apr 29 2024 19:12:54 GMT+0200 (Central European Summer Time)</td><td>rp</td><td>286128</td><td>false</td><td>false</td><td>false</td><td>vl-24</td><td>null</td><td>0</td><td>verticallife</td><td>4</td><td>null</td><td>null</td><td>512933</td><td>0</td><td>6533233</td><td>null</td><td>null</td><td>Mon Apr 29 2024 19:12:54 GMT+0200 (Central European Summer Time)</td><td>0</td><td>7A+</td><td>null</td><td></td><td>null</td><td>0</td><td>5</td><td>69</td><td>null</td><td>null</td><td>2024-04-29 12:00:00 +0000</td><td>null</td><td>null</td><td>15094617</td><td>false</td><td></td><td>230474</td><td>2024</td></tr><tr><td>null</td><td>GymBoulder</td><td>White</td><td>650</td><td>null</td><td>133113</td><td>Klättercentret Solna</td><td>font</td><td>null</td><td>null</td><td>null</td><td>null</td><td>false</td><td>Wed Oct 02 2024 20:20:48 GMT+0200 (Central European Summer Time)</td><td>rp</td><td>286128</td><td>false</td><td>false</td><td>false</td><td>vl-22</td><td>null</td><td>0</td><td>verticallife</td><td>4</td><td>null</td><td>null</td><td>547535</td><td>0</td><td>6961303</td><td>null</td><td>null</td><td>Wed Oct 02 2024 20:20:48 GMT+0200 (Central European Summer Time)</td><td>0</td><td>6C+</td><td>null</td><td></td><td>null</td><td>0</td><td>6</td><td>69</td><td>null</td><td>null</td><td>2024-10-02 12:00:00 +0000</td><td>null</td><td>null</td><td>15929223</td><td>false</td><td></td><td>230474</td><td>2024</td></tr><tr><td>null</td><td>GymBoulder</td><td>Dark Green</td><td>103</td><td>null</td><td>133113</td><td>Klättercentret Solna</td><td>font</td><td>null</td><td>null</td><td>null</td><td>null</td><td>false</td><td>Sun May 05 2024 15:59:46 GMT+0200 (Central European Summer Time)</td><td>f</td><td>286128</td><td>false</td><td>false</td><td>false</td><td>vl-8</td><td>null</td><td>0</td><td>verticallife</td><td>4</td><td>null</td><td>null</td><td>514106</td><td>0</td><td>6553407</td><td>null</td><td>null</td><td>Sun May 05 2024 15:59:45 GMT+0200 (Central European Summer Time)</td><td>0</td><td>4+</td><td>null</td><td></td><td>null</td><td>0</td><td>1</td><td>69</td><td>null</td><td>null</td><td>2024-05-05 12:00:00 +0000</td><td>null</td><td>null</td><td>15137384</td><td>false</td><td></td><td>230474</td><td>2024</td></tr><tr><td>null</td><td>GymBoulder</td><td>White</td><td>502</td><td>null</td><td>133113</td><td>Klättercentret Solna</td><td>font</td><td>null</td><td>null</td><td>null</td><td>null</td><td>false</td><td>Thu Jun 06 2024 23:18:16 GMT+0200 (Central European Summer Time)</td><td>rp</td><td>286128</td><td>false</td><td>false</td><td>false</td><td>vl-18</td><td>null</td><td>0</td><td>verticallife</td><td>4</td><td>null</td><td>null</td><td>523297</td><td>0</td><td>6653002</td><td>null</td><td>null</td><td>Thu Jun 06 2024 23:18:15 GMT+0200 (Central European Summer Time)</td><td>0</td><td>6B</td><td>null</td><td></td><td>null</td><td>0</td><td>2</td><td>69</td><td>null</td><td>null</td><td>2024-06-06 12:00:00 +0000</td><td>null</td><td>null</td><td>15328296</td><td>false</td><td></td><td>230474</td><td>2024</td></tr><tr><td>null</td><td>GymBoulder</td><td>White</td><td>550</td><td>null</td><td>133113</td><td>Klättercentret Solna</td><td>font</td><td>null</td><td>null</td><td>null</td><td>null</td><td>false</td><td>Sun Feb 25 2024 14:22:29 GMT+0100 (Central European Standard Time)</td><td>rp</td><td>286128</td><td>false</td><td>false</td><td>false</td><td>vl-19</td><td>null</td><td>0</td><td>verticallife</td><td>4</td><td>null</td><td>null</td><td>498919</td><td>0</td><td>6338629</td><td>null</td><td>null</td><td>Sun Feb 25 2024 14:22:28 GMT+0100 (Central European Standard Time)</td><td>0</td><td>6B+</td><td>null</td><td></td><td>null</td><td>0</td><td>3</td><td>69</td><td>null</td><td>null</td><td>2024-02-25 12:00:00 +0000</td><td>null</td><td>null</td><td>14652745</td><td>false</td><td></td><td>230474</td><td>2024</td></tr></tbody></table>"
      ]
     },
     "metadata": {},
     "output_type": "display_data"
    }
   ],
   "source": [
    "type Ascent = {\n",
    "  created_at: pl.Datetime;\n",
    "  ascendable_id: pl.Int64;\n",
    "  ascendable_name: pl.String;\n",
    "  ascendable_type: pl.Categorical; //'GymBoulder';\n",
    "  grading_system: pl.Categorical; //'font';\n",
    "  grade: pl.String;\n",
    "  difficulty: pl.String;\n",
    "  type: pl.Categorical; // 'rp' | 'f';\n",
    "  sub_type: pl.String;\n",
    "  tries: pl.Int64;\n",
    "};\n",
    "\n",
    "let ascents = pl.readJSON('./data/ascents.jsonl', {\n",
    "  inferSchemaLength: null,\n",
    "  format: 'lines',\n",
    "}) as pl.DataFrame<Seriesify<Ascent>>;\n",
    "\n",
    "ascents = ascents\n",
    "  .withColumns(\n",
    "    ascents.getColumn('created_at').str.strptime(pl.Datetime, '%Y-%m-%d %H:%M:%S %z').cast(pl.Datetime('ms')),\n",
    "    ascents.getColumn('updated_at').str.strptime(pl.Datetime, '%Y-%m-%d %H:%M:%S %z').cast(pl.Datetime('ms')),\n",
    "    ascents.getColumn('ascendable_type').cast(pl.Categorical),\n",
    "    ascents.getColumn('grading_system').cast(pl.Categorical),\n",
    "  )\n",
    "  .withColumns(pl.col('created_at').date.year().alias('year'))\n",
    "  // remove repeat ascents\n",
    "  .unique({ subset: 'ascendable_id', keep: 'first' });\n"
   ]
  },
  {
   "cell_type": "code",
   "execution_count": null,
   "metadata": {
    "vscode": {
     "languageId": "typescript"
    }
   },
   "outputs": [],
   "source": [
    "type Boulder = {\n",
    "  id: pl.Int64;\n",
    "  route_setter: pl.String;\n",
    "  sector_name: pl.String;\n",
    "  gym_wall_name: pl.String;\n",
    "  set_at: pl.Datetime;\n",
    "  route_card_label: pl.String;\n",
    "};\n",
    "\n",
    "let boulders = pl\n",
    "  .readJSON('./data/gym_boulders.jsonl', {\n",
    "    inferSchemaLength: null,\n",
    "    format: 'lines',\n",
    "  })\n",
    "  .withColumns(\n",
    "    pl.col('route_card_label').str.slice(0, 3),\n",
    "    pl.col('set_at').str.strptime(pl.Datetime, '%Y-%m-%d %H:%M:%S %z').cast(pl.Datetime('ms')),\n",
    "    pl.col('id').alias('nid'),\n",
    "  ) as pl.DataFrame<Seriesify<Boulder>>;\n"
   ]
  },
  {
   "cell_type": "code",
   "execution_count": null,
   "metadata": {
    "vscode": {
     "languageId": "typescript"
    }
   },
   "outputs": [],
   "source": [
    "let detailedAscents = ascents\n",
    "  .join(boulders, {\n",
    "    leftOn: 'ascendable_id',\n",
    "    rightOn: 'nid',\n",
    "  })\n",
    "  .sort(pl.col('created_at'));\n"
   ]
  },
  {
   "cell_type": "code",
   "execution_count": null,
   "metadata": {
    "vscode": {
     "languageId": "typescript"
    }
   },
   "outputs": [
    {
     "data": {
      "text/plain": [
       "{\n",
       "  \u001b[32m\"2\"\u001b[39m: \u001b[33m12\u001b[39m,\n",
       "  \u001b[32m\"3\"\u001b[39m: \u001b[33m24\u001b[39m,\n",
       "  \u001b[32m\"4\"\u001b[39m: \u001b[33m36\u001b[39m,\n",
       "  \u001b[32m\"5\"\u001b[39m: \u001b[33m48\u001b[39m,\n",
       "  \u001b[32m\"2+\"\u001b[39m: \u001b[33m18\u001b[39m,\n",
       "  \u001b[32m\"3+\"\u001b[39m: \u001b[33m30\u001b[39m,\n",
       "  \u001b[32m\"4+\"\u001b[39m: \u001b[33m42\u001b[39m,\n",
       "  \u001b[32m\"5+\"\u001b[39m: \u001b[33m54\u001b[39m,\n",
       "  \u001b[32m\"6A\"\u001b[39m: \u001b[33m60\u001b[39m,\n",
       "  \u001b[32m\"6A+\"\u001b[39m: \u001b[33m66\u001b[39m,\n",
       "  \u001b[32m\"6B\"\u001b[39m: \u001b[33m72\u001b[39m,\n",
       "  \u001b[32m\"6B+\"\u001b[39m: \u001b[33m78\u001b[39m,\n",
       "  \u001b[32m\"6C\"\u001b[39m: \u001b[33m84\u001b[39m,\n",
       "  \u001b[32m\"6C+\"\u001b[39m: \u001b[33m90\u001b[39m,\n",
       "  \u001b[32m\"7A\"\u001b[39m: \u001b[33m96\u001b[39m,\n",
       "  \u001b[32m\"7A+\"\u001b[39m: \u001b[33m102\u001b[39m,\n",
       "  \u001b[32m\"7B\"\u001b[39m: \u001b[33m108\u001b[39m,\n",
       "  \u001b[32m\"7B+\"\u001b[39m: \u001b[33m114\u001b[39m,\n",
       "  \u001b[32m\"7C\"\u001b[39m: \u001b[33m120\u001b[39m,\n",
       "  \u001b[32m\"7C+\"\u001b[39m: \u001b[33m126\u001b[39m\n",
       "}"
      ]
     },
     "metadata": {},
     "output_type": "display_data"
    }
   ],
   "source": [
    "let boulderScores = [\n",
    "  { score: 12, v: 'VB', font: '2' },\n",
    "  { score: 18, v: 'VB', font: '2+' },\n",
    "  { score: 24, v: 'VB+', font: '3' },\n",
    "  { score: 30, v: 'VB+', font: '3+' },\n",
    "  { score: 36, v: 'V0-', font: '4' },\n",
    "  { score: 42, v: 'V0', font: '4+' },\n",
    "  { score: 48, v: 'V1', font: '5' },\n",
    "  { score: 54, v: 'V2', font: '5+' },\n",
    "  { score: 60, v: 'V3', font: '6a' },\n",
    "  { score: 66, v: 'V3', font: '6a+' },\n",
    "  { score: 72, v: 'V4', font: '6b' },\n",
    "  { score: 78, v: 'V4', font: '6b+' },\n",
    "  { score: 84, v: 'V5', font: '6c' },\n",
    "  { score: 90, v: 'V5', font: '6c+' },\n",
    "  { score: 96, v: 'V6', font: '7a' },\n",
    "  { score: 102, v: 'V7', font: '7a+' },\n",
    "  { score: 108, v: 'V7', font: '7b' },\n",
    "  { score: 114, v: 'V8', font: '7b+' },\n",
    "  { score: 120, v: 'V9', font: '7c' },\n",
    "  { score: 126, v: 'V10', font: '7c+' },\n",
    "].map((grade) => ({ ...grade, font: grade.font.toUpperCase() }));\n",
    "let gradeToNumber = boulderScores.reduce((acc, grade) => {\n",
    "  acc[grade.font] = grade.score;\n",
    "  return acc;\n",
    "}, {});\n",
    "\n",
    "gradeToNumber;\n"
   ]
  },
  {
   "cell_type": "code",
   "execution_count": null,
   "metadata": {
    "vscode": {
     "languageId": "typescript"
    }
   },
   "outputs": [
    {
     "data": {
      "application/vnd.dataresource+json": {
       "data": [
        {
         "archived": true,
         "archived_at": null,
         "ascendable_filter": null,
         "ascendable_height": null,
         "ascendable_id": 320041,
         "ascendable_name": "Turquoise",
         "ascendable_type": "GymBoulder",
         "color_1": "#87ccc6",
         "color_2": null,
         "comment": null,
         "created_at": {},
         "created_at_right": "2022-02-14 18:25:35 +0000",
         "date": "2022-03-20 12:00:00 +0000",
         "difficulty": "5",
         "difficulty_right": "5",
         "display_route_setter": true,
         "eight_a_ascendable_id": null,
         "eight_a_id": null,
         "eight_a_logbook": false,
         "eight_a_parent_id": null,
         "eight_a_user_id": 133113,
         "expiration_date": null,
         "exposition": null,
         "features": null,
         "gallery": [],
         "grade": "vl-12",
         "grade_proposals": [
          [
           "vl-1",
           "2"
          ],
          [
           "vl-2",
           "2+"
          ],
          [
           "vl-3",
           "3-"
          ],
          [
           "vl-4",
           "3"
          ],
          [
           "vl-5",
           "3+"
          ],
          [
           "vl-6",
           "4-"
          ],
          [
           "vl-7",
           "4"
          ],
          [
           "vl-8",
           "4+"
          ],
          [
           "vl-9",
           "5-"
          ],
          [
           "vl-12",
           "5"
          ],
          [
           "vl-14",
           "5+"
          ],
          [
           "vl-16",
           "6A"
          ],
          [
           "vl-17",
           "6A+"
          ],
          [
           "vl-18",
           "6B"
          ],
          [
           "vl-19",
           "6B+"
          ],
          [
           "vl-21",
           "6C"
          ],
          [
           "vl-22",
           "6C+"
          ],
          [
           "vl-23",
           "7A"
          ],
          [
           "vl-24",
           "7A+"
          ],
          [
           "vl-25",
           "7B"
          ],
          [
           "vl-26",
           "7B+"
          ],
          [
           "vl-27",
           "7C"
          ],
          [
           "vl-28",
           "7C+"
          ],
          [
           "vl-29",
           "8A"
          ],
          [
           "vl-30",
           "8A+"
          ],
          [
           "vl-31",
           "8B"
          ],
          [
           "vl-32",
           "8B+"
          ],
          [
           "vl-33",
           "8C"
          ],
          [
           "vl-34",
           "8C+"
          ]
         ],
         "grade_right": "vl-12",
         "grading_system": "font",
         "grading_system_right": "font",
         "gym": {
          "ascent_count": 55969,
          "boulder_count": 131,
          "bouldering_grading_system": "font",
          "categories": 24,
          "country": "Sweden",
          "cover": "f85eaa2db48218e30ff6f8fe4197df56",
          "created_at": "2018-06-21 09:50:35 +0000",
          "difficulties": {
           "vl-1": 0,
           "vl-10": 0,
           "vl-11": 0,
           "vl-12": 2,
           "vl-13": 0,
           "vl-14": 11,
           "vl-15": 0,
           "vl-16": 11,
           "vl-17": 9,
           "vl-18": 9,
           "vl-19": 8,
           "vl-2": 0,
           "vl-20": 0,
           "vl-21": 10,
           "vl-22": 5,
           "vl-23": 6,
           "vl-24": 4,
           "vl-25": 4,
           "vl-26": 2,
           "vl-27": 3,
           "vl-28": 2,
           "vl-29": 1,
           "vl-3": 0,
           "vl-30": 1,
           "vl-31": 0,
           "vl-32": 0,
           "vl-33": 0,
           "vl-34": 0,
           "vl-35": 0,
           "vl-36": 0,
           "vl-37": 0,
           "vl-38": 0,
           "vl-39": 0,
           "vl-4": 0,
           "vl-5": 0,
           "vl-6": 5,
           "vl-7": 4,
           "vl-8": 4,
           "vl-9": 7
          },
          "difficulties_bouldering": {
           "vl-1": 0,
           "vl-10": 0,
           "vl-11": 0,
           "vl-12": 8,
           "vl-13": 0,
           "vl-14": 5,
           "vl-15": 0,
           "vl-16": 9,
           "vl-17": 8,
           "vl-18": 7,
           "vl-19": 12,
           "vl-2": 0,
           "vl-20": 0,
           "vl-21": 13,
           "vl-22": 9,
           "vl-23": 9,
           "vl-24": 7,
           "vl-25": 8,
           "vl-26": 6,
           "vl-27": 6,
           "vl-28": 4,
           "vl-29": 4,
           "vl-3": 0,
           "vl-30": 1,
           "vl-31": 0,
           "vl-32": 0,
           "vl-33": 0,
           "vl-34": 0,
           "vl-4": 2,
           "vl-5": 3,
           "vl-6": 0,
           "vl-7": 5,
           "vl-8": 5,
           "vl-9": 0
          },
          "elegible_for_boulder_training": true,
          "gym_status": {
           "checkins_enabled": false,
           "temporarily_closed": false
          },
          "id": 69,
          "item_type": "gym",
          "latitude": 59.3569,
          "logo": "ce68d672c98919d65f4311f9c9d9bb47",
          "longitude": 18.0162,
          "name": "Klättercentret Solna",
          "published": true,
          "published_at": "2018-08-31 07:00:00 +0000",
          "route_count": 108,
          "share_url": "https://zlag.vertical-life.info/en/gyms/klattercentret-solna",
          "sponsor_logo": null,
          "sportclimbing_grading_system": "french",
          "town": "Solna",
          "updated_at": "2019-12-04 08:30:11 +0000",
          "virtual": false
         },
         "gym_id": 69,
         "gym_wall_id": 733,
         "gym_wall_name": "A Sektionen",
         "height": 4,
         "hold_color": null,
         "hold_manufacturer": null,
         "id": 4050981,
         "id_right": 320041,
         "item_type": "gym_boulder",
         "line_number": 2,
         "name": "Turquoise",
         "notes": null,
         "numberDifficulty": 48,
         "parent_id": 69,
         "parent_name": "Klättercentret Solna",
         "parent_name_right": "Bouldering, A Sektionen",
         "path": null,
         "path_right": [
          [
           291,
           182
          ],
          [
           302,
           300
          ],
          [
           294,
           520
          ],
          [
           382,
           504
          ],
          [
           507,
           502
          ],
          [
           721,
           526
          ],
          [
           720,
           489
          ],
          [
           733,
           183
          ],
          [
           565,
           180
          ],
          [
           291,
           182
          ]
         ],
         "perceived_hardness": 0,
         "project": false,
         "protection": 0,
         "provider": "verticallife",
         "rating": null,
         "recommended": false,
         "reference_width": 971,
         "repeat": false,
         "repeats": 0,
         "route_card_label": "A2.",
         "route_setter": "N.N.",
         "safety_issues": null,
         "score": 253,
         "sector_id": 219,
         "sector_name": "Bouldering",
         "set_at": {},
         "shade": null,
         "share_url": "https://zlag.vertical-life.info/en/routes/bb4f0a2fdc87192acb532cc5b4c82257",
         "sit_down_start": null,
         "sits": 0,
         "stats": {
          "b": 0,
          "c": 0,
          "comment_count": 0,
          "e": 0,
          "f": 0,
          "flash": 5,
          "go": 0,
          "hard_count": 0,
          "onsight": 0,
          "overhanging": 0,
          "rating": 0,
          "ratings_count": 0,
          "redpoint": 0,
          "roof": 0,
          "s": 0,
          "safety": 0,
          "safety_issues_count": {
           "1": 0,
           "2": 0,
           "4": 0,
           "8": 0,
           "16": 0,
           "32": 0,
           "64": 0
          },
          "slab": 0,
          "soft_count": 0,
          "t": 0,
          "toprope": 0,
          "vertical": 0,
          "video_count": 0,
          "zlag_count": 5,
          "zlaggable_height_count": {
           "1": 0,
           "2": 0,
           "4": 0,
           "8": 0,
           "16": 0,
           "32": 0
          }
         },
         "steepness": 0,
         "steepness_right": 7,
         "style": "a",
         "style_right": "a",
         "sub_type": "",
         "topo": "e56970f2e4e002f62f72f0061adfa987",
         "topo_num": "41797.2.",
         "traverse": false,
         "tries": 1,
         "two_start_holds": null,
         "type": "flash",
         "updated_at": {},
         "updated_at_right": "2022-03-24 08:21:39 +0000",
         "user_id": 230474,
         "virtual": false,
         "virtual_right": false,
         "vl_ascendable_id": null,
         "vl_id": 4383933,
         "vl_parent_id": null,
         "vl_user_id": 286128,
         "year": 2022
        },
        {
         "archived": true,
         "archived_at": null,
         "ascendable_filter": null,
         "ascendable_height": null,
         "ascendable_id": 322901,
         "ascendable_name": "Blue",
         "ascendable_type": "GymBoulder",
         "color_1": "#0000ff",
         "color_2": null,
         "comment": null,
         "created_at": {},
         "created_at_right": "2022-02-23 16:37:56 +0000",
         "date": "2022-03-20 12:00:00 +0000",
         "difficulty": "5+",
         "difficulty_right": "5+",
         "display_route_setter": true,
         "eight_a_ascendable_id": null,
         "eight_a_id": null,
         "eight_a_logbook": false,
         "eight_a_parent_id": null,
         "eight_a_user_id": 133113,
         "expiration_date": null,
         "exposition": null,
         "features": null,
         "gallery": [],
         "grade": "vl-14",
         "grade_proposals": [
          [
           "vl-1",
           "2"
          ],
          [
           "vl-2",
           "2+"
          ],
          [
           "vl-3",
           "3-"
          ],
          [
           "vl-4",
           "3"
          ],
          [
           "vl-5",
           "3+"
          ],
          [
           "vl-6",
           "4-"
          ],
          [
           "vl-7",
           "4"
          ],
          [
           "vl-8",
           "4+"
          ],
          [
           "vl-9",
           "5-"
          ],
          [
           "vl-12",
           "5"
          ],
          [
           "vl-14",
           "5+"
          ],
          [
           "vl-16",
           "6A"
          ],
          [
           "vl-17",
           "6A+"
          ],
          [
           "vl-18",
           "6B"
          ],
          [
           "vl-19",
           "6B+"
          ],
          [
           "vl-21",
           "6C"
          ],
          [
           "vl-22",
           "6C+"
          ],
          [
           "vl-23",
           "7A"
          ],
          [
           "vl-24",
           "7A+"
          ],
          [
           "vl-25",
           "7B"
          ],
          [
           "vl-26",
           "7B+"
          ],
          [
           "vl-27",
           "7C"
          ],
          [
           "vl-28",
           "7C+"
          ],
          [
           "vl-29",
           "8A"
          ],
          [
           "vl-30",
           "8A+"
          ],
          [
           "vl-31",
           "8B"
          ],
          [
           "vl-32",
           "8B+"
          ],
          [
           "vl-33",
           "8C"
          ],
          [
           "vl-34",
           "8C+"
          ]
         ],
         "grade_right": "vl-14",
         "grading_system": "font",
         "grading_system_right": "font",
         "gym": {
          "ascent_count": 55969,
          "boulder_count": 131,
          "bouldering_grading_system": "font",
          "categories": 24,
          "country": "Sweden",
          "cover": "f85eaa2db48218e30ff6f8fe4197df56",
          "created_at": "2018-06-21 09:50:35 +0000",
          "difficulties": {
           "vl-1": 0,
           "vl-10": 0,
           "vl-11": 0,
           "vl-12": 2,
           "vl-13": 0,
           "vl-14": 11,
           "vl-15": 0,
           "vl-16": 11,
           "vl-17": 9,
           "vl-18": 9,
           "vl-19": 8,
           "vl-2": 0,
           "vl-20": 0,
           "vl-21": 10,
           "vl-22": 5,
           "vl-23": 6,
           "vl-24": 4,
           "vl-25": 4,
           "vl-26": 2,
           "vl-27": 3,
           "vl-28": 2,
           "vl-29": 1,
           "vl-3": 0,
           "vl-30": 1,
           "vl-31": 0,
           "vl-32": 0,
           "vl-33": 0,
           "vl-34": 0,
           "vl-35": 0,
           "vl-36": 0,
           "vl-37": 0,
           "vl-38": 0,
           "vl-39": 0,
           "vl-4": 0,
           "vl-5": 0,
           "vl-6": 5,
           "vl-7": 4,
           "vl-8": 4,
           "vl-9": 7
          },
          "difficulties_bouldering": {
           "vl-1": 0,
           "vl-10": 0,
           "vl-11": 0,
           "vl-12": 8,
           "vl-13": 0,
           "vl-14": 5,
           "vl-15": 0,
           "vl-16": 9,
           "vl-17": 8,
           "vl-18": 7,
           "vl-19": 12,
           "vl-2": 0,
           "vl-20": 0,
           "vl-21": 13,
           "vl-22": 9,
           "vl-23": 9,
           "vl-24": 7,
           "vl-25": 8,
           "vl-26": 6,
           "vl-27": 6,
           "vl-28": 4,
           "vl-29": 4,
           "vl-3": 0,
           "vl-30": 1,
           "vl-31": 0,
           "vl-32": 0,
           "vl-33": 0,
           "vl-34": 0,
           "vl-4": 2,
           "vl-5": 3,
           "vl-6": 0,
           "vl-7": 5,
           "vl-8": 5,
           "vl-9": 0
          },
          "elegible_for_boulder_training": true,
          "gym_status": {
           "checkins_enabled": false,
           "temporarily_closed": false
          },
          "id": 69,
          "item_type": "gym",
          "latitude": 59.3569,
          "logo": "ce68d672c98919d65f4311f9c9d9bb47",
          "longitude": 18.0162,
          "name": "Klättercentret Solna",
          "published": true,
          "published_at": "2018-08-31 07:00:00 +0000",
          "route_count": 108,
          "share_url": "https://zlag.vertical-life.info/en/gyms/klattercentret-solna",
          "sponsor_logo": null,
          "sportclimbing_grading_system": "french",
          "town": "Solna",
          "updated_at": "2019-12-04 08:30:11 +0000",
          "virtual": false
         },
         "gym_id": 69,
         "gym_wall_id": 734,
         "gym_wall_name": "B Sektionen",
         "height": 4,
         "hold_color": null,
         "hold_manufacturer": null,
         "id": 4050616,
         "id_right": 322901,
         "item_type": "gym_boulder",
         "line_number": 3,
         "name": "Blue",
         "notes": null,
         "numberDifficulty": 54,
         "parent_id": 69,
         "parent_name": "Klättercentret Solna",
         "parent_name_right": "Bouldering, B Sektionen",
         "path": null,
         "path_right": [
          [
           508,
           187
          ],
          [
           689,
           184
          ],
          [
           847,
           182
          ],
          [
           931,
           514
          ],
          [
           470,
           491
          ],
          [
           515,
           312
          ],
          [
           508,
           186
          ]
         ],
         "perceived_hardness": 0,
         "project": false,
         "protection": 0,
         "provider": "verticallife",
         "rating": null,
         "recommended": false,
         "reference_width": 971,
         "repeat": false,
         "repeats": 0,
         "route_card_label": "B3.",
         "route_setter": "N.N.",
         "safety_issues": null,
         "score": 353,
         "sector_id": 219,
         "sector_name": "Bouldering",
         "set_at": {},
         "shade": null,
         "share_url": "https://zlag.vertical-life.info/en/routes/a498358a22634efc8ce0b93a66b57dac",
         "sit_down_start": null,
         "sits": 0,
         "stats": {
          "b": 0,
          "c": 0,
          "comment_count": 0,
          "e": 0,
          "f": 0,
          "flash": 7,
          "go": 0,
          "hard_count": 0,
          "onsight": 0,
          "overhanging": 0,
          "rating": 0,
          "ratings_count": 0,
          "redpoint": 1,
          "roof": 0,
          "s": 0,
          "safety": 2,
          "safety_issues_count": {
           "1": 0,
           "2": 0,
           "4": 0,
           "8": 0,
           "16": 0,
           "32": 0,
           "64": 0
          },
          "slab": 0,
          "soft_count": 0,
          "t": 0,
          "toprope": 0,
          "vertical": 0,
          "video_count": 0,
          "zlag_count": 8,
          "zlaggable_height_count": {
           "1": 0,
           "2": 0,
           "4": 0,
           "8": 0,
           "16": 0,
           "32": 0
          }
         },
         "steepness": 0,
         "steepness_right": 3,
         "style": "",
         "style_right": null,
         "sub_type": "",
         "topo": "e6411c2ffc69fdad028b8408b295e45c",
         "topo_num": "41800.3.",
         "traverse": false,
         "tries": 1,
         "two_start_holds": null,
         "type": "flash",
         "updated_at": {},
         "updated_at_right": "2022-03-28 08:23:57 +0000",
         "user_id": 230474,
         "virtual": false,
         "virtual_right": false,
         "vl_ascendable_id": null,
         "vl_id": 4383951,
         "vl_parent_id": null,
         "vl_user_id": 286128,
         "year": 2022
        },
        {
         "archived": true,
         "archived_at": null,
         "ascendable_filter": null,
         "ascendable_height": null,
         "ascendable_id": 326080,
         "ascendable_name": "Turquoise",
         "ascendable_type": "GymBoulder",
         "color_1": "#87ccc6",
         "color_2": null,
         "comment": null,
         "created_at": {},
         "created_at_right": "2022-03-07 22:41:24 +0000",
         "date": "2022-03-20 12:00:00 +0000",
         "difficulty": "3",
         "difficulty_right": "3",
         "display_route_setter": true,
         "eight_a_ascendable_id": null,
         "eight_a_id": null,
         "eight_a_logbook": false,
         "eight_a_parent_id": null,
         "eight_a_user_id": 133113,
         "expiration_date": null,
         "exposition": null,
         "features": null,
         "gallery": [],
         "grade": "vl-4",
         "grade_proposals": [
          [
           "vl-1",
           "2"
          ],
          [
           "vl-2",
           "2+"
          ],
          [
           "vl-3",
           "3-"
          ],
          [
           "vl-4",
           "3"
          ],
          [
           "vl-5",
           "3+"
          ],
          [
           "vl-6",
           "4-"
          ],
          [
           "vl-7",
           "4"
          ],
          [
           "vl-8",
           "4+"
          ],
          [
           "vl-9",
           "5-"
          ],
          [
           "vl-12",
           "5"
          ],
          [
           "vl-14",
           "5+"
          ],
          [
           "vl-16",
           "6A"
          ],
          [
           "vl-17",
           "6A+"
          ],
          [
           "vl-18",
           "6B"
          ],
          [
           "vl-19",
           "6B+"
          ],
          [
           "vl-21",
           "6C"
          ],
          [
           "vl-22",
           "6C+"
          ],
          [
           "vl-23",
           "7A"
          ],
          [
           "vl-24",
           "7A+"
          ],
          [
           "vl-25",
           "7B"
          ],
          [
           "vl-26",
           "7B+"
          ],
          [
           "vl-27",
           "7C"
          ],
          [
           "vl-28",
           "7C+"
          ],
          [
           "vl-29",
           "8A"
          ],
          [
           "vl-30",
           "8A+"
          ],
          [
           "vl-31",
           "8B"
          ],
          [
           "vl-32",
           "8B+"
          ],
          [
           "vl-33",
           "8C"
          ],
          [
           "vl-34",
           "8C+"
          ]
         ],
         "grade_right": "vl-4",
         "grading_system": "font",
         "grading_system_right": "font",
         "gym": {
          "ascent_count": 55970,
          "boulder_count": 131,
          "bouldering_grading_system": "font",
          "categories": 24,
          "country": "Sweden",
          "cover": "f85eaa2db48218e30ff6f8fe4197df56",
          "created_at": "2018-06-21 09:50:35 +0000",
          "difficulties": {
           "vl-1": 0,
           "vl-10": 0,
           "vl-11": 0,
           "vl-12": 2,
           "vl-13": 0,
           "vl-14": 11,
           "vl-15": 0,
           "vl-16": 11,
           "vl-17": 9,
           "vl-18": 9,
           "vl-19": 8,
           "vl-2": 0,
           "vl-20": 0,
           "vl-21": 10,
           "vl-22": 5,
           "vl-23": 6,
           "vl-24": 4,
           "vl-25": 4,
           "vl-26": 2,
           "vl-27": 3,
           "vl-28": 2,
           "vl-29": 1,
           "vl-3": 0,
           "vl-30": 1,
           "vl-31": 0,
           "vl-32": 0,
           "vl-33": 0,
           "vl-34": 0,
           "vl-35": 0,
           "vl-36": 0,
           "vl-37": 0,
           "vl-38": 0,
           "vl-39": 0,
           "vl-4": 0,
           "vl-5": 0,
           "vl-6": 5,
           "vl-7": 4,
           "vl-8": 4,
           "vl-9": 7
          },
          "difficulties_bouldering": {
           "vl-1": 0,
           "vl-10": 0,
           "vl-11": 0,
           "vl-12": 8,
           "vl-13": 0,
           "vl-14": 5,
           "vl-15": 0,
           "vl-16": 9,
           "vl-17": 8,
           "vl-18": 7,
           "vl-19": 12,
           "vl-2": 0,
           "vl-20": 0,
           "vl-21": 13,
           "vl-22": 9,
           "vl-23": 9,
           "vl-24": 7,
           "vl-25": 8,
           "vl-26": 6,
           "vl-27": 6,
           "vl-28": 4,
           "vl-29": 4,
           "vl-3": 0,
           "vl-30": 1,
           "vl-31": 0,
           "vl-32": 0,
           "vl-33": 0,
           "vl-34": 0,
           "vl-4": 2,
           "vl-5": 3,
           "vl-6": 0,
           "vl-7": 5,
           "vl-8": 5,
           "vl-9": 0
          },
          "elegible_for_boulder_training": true,
          "gym_status": {
           "checkins_enabled": false,
           "temporarily_closed": false
          },
          "id": 69,
          "item_type": "gym",
          "latitude": 59.3569,
          "logo": "ce68d672c98919d65f4311f9c9d9bb47",
          "longitude": 18.0162,
          "name": "Klättercentret Solna",
          "published": true,
          "published_at": "2018-08-31 07:00:00 +0000",
          "route_count": 108,
          "share_url": "https://zlag.vertical-life.info/en/gyms/klattercentret-solna",
          "sponsor_logo": null,
          "sportclimbing_grading_system": "french",
          "town": "Solna",
          "updated_at": "2019-12-04 08:30:11 +0000",
          "virtual": false
         },
         "gym_id": 69,
         "gym_wall_id": 733,
         "gym_wall_name": "A Sektionen",
         "height": 4,
         "hold_color": null,
         "hold_manufacturer": null,
         "id": 4634900,
         "id_right": 326080,
         "item_type": "gym_boulder",
         "line_number": 4,
         "name": "Turquoise",
         "notes": null,
         "numberDifficulty": 24,
         "parent_id": 69,
         "parent_name": "Klättercentret Solna",
         "parent_name_right": "Bouldering, A Sektionen",
         "path": null,
         "path_right": [
          [
           513,
           71
          ],
          [
           513,
           587
          ],
          [
           513,
           650
          ],
          [
           879,
           639
          ],
          [
           878,
           580
          ],
          [
           919,
           108
          ],
          [
           514,
           70
          ]
         ],
         "perceived_hardness": 0,
         "project": false,
         "protection": 0,
         "provider": "verticallife",
         "rating": null,
         "recommended": false,
         "reference_width": 971,
         "repeat": false,
         "repeats": 0,
         "route_card_label": "A4.",
         "route_setter": "Benjamin Schlobohm",
         "safety_issues": null,
         "score": 103,
         "sector_id": 219,
         "sector_name": "Bouldering",
         "set_at": {},
         "shade": null,
         "share_url": "https://zlag.vertical-life.info/en/routes/2bdf12b22cf8fa80de82ba005138a991",
         "sit_down_start": null,
         "sits": 0,
         "stats": {
          "b": 0,
          "c": 0,
          "comment_count": 0,
          "e": 0,
          "f": 0,
          "flash": 8,
          "go": 0,
          "hard_count": 0,
          "onsight": 0,
          "overhanging": 0,
          "rating": 5,
          "ratings_count": 1,
          "redpoint": 4,
          "roof": 0,
          "s": 0,
          "safety": 2,
          "safety_issues_count": {
           "1": 0,
           "2": 0,
           "4": 0,
           "8": 0,
           "16": 0,
           "32": 0,
           "64": 0
          },
          "slab": 0,
          "soft_count": 1,
          "t": 0,
          "toprope": 0,
          "vertical": 0,
          "video_count": 0,
          "zlag_count": 12,
          "zlaggable_height_count": {
           "1": 0,
           "2": 0,
           "4": 0,
           "8": 0,
           "16": 0,
           "32": 0
          }
         },
         "steepness": 0,
         "steepness_right": 7,
         "style": "",
         "style_right": null,
         "sub_type": "",
         "topo": "9ba3d48c8e121f154d4f49754e525ba8",
         "topo_num": "41799.4.",
         "traverse": false,
         "tries": 1,
         "two_start_holds": null,
         "type": "flash",
         "updated_at": {},
         "updated_at_right": "2022-05-19 14:29:15 +0000",
         "user_id": 230474,
         "virtual": false,
         "virtual_right": false,
         "vl_ascendable_id": null,
         "vl_id": 4383979,
         "vl_parent_id": null,
         "vl_user_id": 286128,
         "year": 2022
        },
        {
         "archived": true,
         "archived_at": null,
         "ascendable_filter": null,
         "ascendable_height": null,
         "ascendable_id": 322902,
         "ascendable_name": "yellow",
         "ascendable_type": "GymBoulder",
         "color_1": "#f0ff00",
         "color_2": null,
         "comment": null,
         "created_at": {},
         "created_at_right": "2022-02-23 16:38:22 +0000",
         "date": "2022-03-24 12:00:00 +0000",
         "difficulty": "4+",
         "difficulty_right": "4+",
         "display_route_setter": true,
         "eight_a_ascendable_id": null,
         "eight_a_id": null,
         "eight_a_logbook": false,
         "eight_a_parent_id": null,
         "eight_a_user_id": 133113,
         "expiration_date": null,
         "exposition": null,
         "features": null,
         "gallery": [],
         "grade": "vl-8",
         "grade_proposals": [
          [
           "vl-1",
           "2"
          ],
          [
           "vl-2",
           "2+"
          ],
          [
           "vl-3",
           "3-"
          ],
          [
           "vl-4",
           "3"
          ],
          [
           "vl-5",
           "3+"
          ],
          [
           "vl-6",
           "4-"
          ],
          [
           "vl-7",
           "4"
          ],
          [
           "vl-8",
           "4+"
          ],
          [
           "vl-9",
           "5-"
          ],
          [
           "vl-12",
           "5"
          ],
          [
           "vl-14",
           "5+"
          ],
          [
           "vl-16",
           "6A"
          ],
          [
           "vl-17",
           "6A+"
          ],
          [
           "vl-18",
           "6B"
          ],
          [
           "vl-19",
           "6B+"
          ],
          [
           "vl-21",
           "6C"
          ],
          [
           "vl-22",
           "6C+"
          ],
          [
           "vl-23",
           "7A"
          ],
          [
           "vl-24",
           "7A+"
          ],
          [
           "vl-25",
           "7B"
          ],
          [
           "vl-26",
           "7B+"
          ],
          [
           "vl-27",
           "7C"
          ],
          [
           "vl-28",
           "7C+"
          ],
          [
           "vl-29",
           "8A"
          ],
          [
           "vl-30",
           "8A+"
          ],
          [
           "vl-31",
           "8B"
          ],
          [
           "vl-32",
           "8B+"
          ],
          [
           "vl-33",
           "8C"
          ],
          [
           "vl-34",
           "8C+"
          ]
         ],
         "grade_right": "vl-8",
         "grading_system": "font",
         "grading_system_right": "font",
         "gym": {
          "ascent_count": 55969,
          "boulder_count": 131,
          "bouldering_grading_system": "font",
          "categories": 24,
          "country": "Sweden",
          "cover": "f85eaa2db48218e30ff6f8fe4197df56",
          "created_at": "2018-06-21 09:50:35 +0000",
          "difficulties": {
           "vl-1": 0,
           "vl-10": 0,
           "vl-11": 0,
           "vl-12": 2,
           "vl-13": 0,
           "vl-14": 11,
           "vl-15": 0,
           "vl-16": 11,
           "vl-17": 9,
           "vl-18": 9,
           "vl-19": 8,
           "vl-2": 0,
           "vl-20": 0,
           "vl-21": 10,
           "vl-22": 5,
           "vl-23": 6,
           "vl-24": 4,
           "vl-25": 4,
           "vl-26": 2,
           "vl-27": 3,
           "vl-28": 2,
           "vl-29": 1,
           "vl-3": 0,
           "vl-30": 1,
           "vl-31": 0,
           "vl-32": 0,
           "vl-33": 0,
           "vl-34": 0,
           "vl-35": 0,
           "vl-36": 0,
           "vl-37": 0,
           "vl-38": 0,
           "vl-39": 0,
           "vl-4": 0,
           "vl-5": 0,
           "vl-6": 5,
           "vl-7": 4,
           "vl-8": 4,
           "vl-9": 7
          },
          "difficulties_bouldering": {
           "vl-1": 0,
           "vl-10": 0,
           "vl-11": 0,
           "vl-12": 8,
           "vl-13": 0,
           "vl-14": 5,
           "vl-15": 0,
           "vl-16": 9,
           "vl-17": 8,
           "vl-18": 7,
           "vl-19": 12,
           "vl-2": 0,
           "vl-20": 0,
           "vl-21": 13,
           "vl-22": 9,
           "vl-23": 9,
           "vl-24": 7,
           "vl-25": 8,
           "vl-26": 6,
           "vl-27": 6,
           "vl-28": 4,
           "vl-29": 4,
           "vl-3": 0,
           "vl-30": 1,
           "vl-31": 0,
           "vl-32": 0,
           "vl-33": 0,
           "vl-34": 0,
           "vl-4": 2,
           "vl-5": 3,
           "vl-6": 0,
           "vl-7": 5,
           "vl-8": 5,
           "vl-9": 0
          },
          "elegible_for_boulder_training": true,
          "gym_status": {
           "checkins_enabled": false,
           "temporarily_closed": false
          },
          "id": 69,
          "item_type": "gym",
          "latitude": 59.3569,
          "logo": "ce68d672c98919d65f4311f9c9d9bb47",
          "longitude": 18.0162,
          "name": "Klättercentret Solna",
          "published": true,
          "published_at": "2018-08-31 07:00:00 +0000",
          "route_count": 108,
          "share_url": "https://zlag.vertical-life.info/en/gyms/klattercentret-solna",
          "sponsor_logo": null,
          "sportclimbing_grading_system": "french",
          "town": "Solna",
          "updated_at": "2019-12-04 08:30:11 +0000",
          "virtual": false
         },
         "gym_id": 69,
         "gym_wall_id": 734,
         "gym_wall_name": "B Sektionen",
         "height": 4,
         "hold_color": null,
         "hold_manufacturer": null,
         "id": 3969341,
         "id_right": 322902,
         "item_type": "gym_boulder",
         "line_number": 4,
         "name": "yellow",
         "notes": null,
         "numberDifficulty": 42,
         "parent_id": 69,
         "parent_name": "Klättercentret Solna",
         "parent_name_right": "Bouldering, B Sektionen",
         "path": null,
         "path_right": [
          [
           121,
           188
          ],
          [
           232,
           182
          ],
          [
           444,
           185
          ],
          [
           506,
           184
          ],
          [
           514,
           311
          ],
          [
           470,
           489
          ],
          [
           235,
           479
          ],
          [
           138,
           504
          ],
          [
           143,
           350
          ],
          [
           121,
           189
          ]
         ],
         "perceived_hardness": 0,
         "project": false,
         "protection": 0,
         "provider": "verticallife",
         "rating": null,
         "recommended": false,
         "reference_width": 971,
         "repeat": false,
         "repeats": 0,
         "route_card_label": "B4.",
         "route_setter": "N.N.",
         "safety_issues": null,
         "score": 103,
         "sector_id": 219,
         "sector_name": "Bouldering",
         "set_at": {},
         "shade": null,
         "share_url": "https://zlag.vertical-life.info/en/routes/f0ca16d271c6fcb5057f73fe4fdbc7a5",
         "sit_down_start": null,
         "sits": 0,
         "stats": {
          "b": 0,
          "c": 0,
          "comment_count": 0,
          "e": 0,
          "f": 0,
          "flash": 5,
          "go": 0,
          "hard_count": 0,
          "onsight": 0,
          "overhanging": 0,
          "rating": 0,
          "ratings_count": 0,
          "redpoint": 1,
          "roof": 0,
          "s": 0,
          "safety": 2,
          "safety_issues_count": {
           "1": 0,
           "2": 0,
           "4": 0,
           "8": 0,
           "16": 0,
           "32": 0,
           "64": 0
          },
          "slab": 0,
          "soft_count": 0,
          "t": 0,
          "toprope": 0,
          "vertical": 0,
          "video_count": 0,
          "zlag_count": 6,
          "zlaggable_height_count": {
           "1": 0,
           "2": 0,
           "4": 0,
           "8": 0,
           "16": 0,
           "32": 0
          }
         },
         "steepness": 0,
         "steepness_right": 3,
         "style": "",
         "style_right": null,
         "sub_type": "",
         "topo": "e6411c2ffc69fdad028b8408b295e45c",
         "topo_num": "41800.4.",
         "traverse": false,
         "tries": 1,
         "two_start_holds": null,
         "type": "flash",
         "updated_at": {},
         "updated_at_right": "2022-03-28 08:23:49 +0000",
         "user_id": 230474,
         "virtual": false,
         "virtual_right": false,
         "vl_ascendable_id": null,
         "vl_id": 4396978,
         "vl_parent_id": null,
         "vl_user_id": 286128,
         "year": 2022
        },
        {
         "archived": true,
         "archived_at": null,
         "ascendable_filter": null,
         "ascendable_height": null,
         "ascendable_id": 330234,
         "ascendable_name": "Orange",
         "ascendable_type": "GymBoulder",
         "color_1": "#ffa500",
         "color_2": null,
         "comment": null,
         "created_at": {},
         "created_at_right": "2022-03-22 07:08:31 +0000",
         "date": "2022-03-24 12:00:00 +0000",
         "difficulty": "4+",
         "difficulty_right": "4+",
         "display_route_setter": true,
         "eight_a_ascendable_id": null,
         "eight_a_id": null,
         "eight_a_logbook": false,
         "eight_a_parent_id": null,
         "eight_a_user_id": 133113,
         "expiration_date": null,
         "exposition": null,
         "features": null,
         "gallery": [],
         "grade": "vl-8",
         "grade_proposals": [
          [
           "vl-1",
           "2"
          ],
          [
           "vl-2",
           "2+"
          ],
          [
           "vl-3",
           "3-"
          ],
          [
           "vl-4",
           "3"
          ],
          [
           "vl-5",
           "3+"
          ],
          [
           "vl-6",
           "4-"
          ],
          [
           "vl-7",
           "4"
          ],
          [
           "vl-8",
           "4+"
          ],
          [
           "vl-9",
           "5-"
          ],
          [
           "vl-12",
           "5"
          ],
          [
           "vl-14",
           "5+"
          ],
          [
           "vl-16",
           "6A"
          ],
          [
           "vl-17",
           "6A+"
          ],
          [
           "vl-18",
           "6B"
          ],
          [
           "vl-19",
           "6B+"
          ],
          [
           "vl-21",
           "6C"
          ],
          [
           "vl-22",
           "6C+"
          ],
          [
           "vl-23",
           "7A"
          ],
          [
           "vl-24",
           "7A+"
          ],
          [
           "vl-25",
           "7B"
          ],
          [
           "vl-26",
           "7B+"
          ],
          [
           "vl-27",
           "7C"
          ],
          [
           "vl-28",
           "7C+"
          ],
          [
           "vl-29",
           "8A"
          ],
          [
           "vl-30",
           "8A+"
          ],
          [
           "vl-31",
           "8B"
          ],
          [
           "vl-32",
           "8B+"
          ],
          [
           "vl-33",
           "8C"
          ],
          [
           "vl-34",
           "8C+"
          ]
         ],
         "grade_right": "vl-8",
         "grading_system": "font",
         "grading_system_right": "font",
         "gym": {
          "ascent_count": 55969,
          "boulder_count": 131,
          "bouldering_grading_system": "font",
          "categories": 24,
          "country": "Sweden",
          "cover": "f85eaa2db48218e30ff6f8fe4197df56",
          "created_at": "2018-06-21 09:50:35 +0000",
          "difficulties": {
           "vl-1": 0,
           "vl-10": 0,
           "vl-11": 0,
           "vl-12": 2,
           "vl-13": 0,
           "vl-14": 11,
           "vl-15": 0,
           "vl-16": 11,
           "vl-17": 9,
           "vl-18": 9,
           "vl-19": 8,
           "vl-2": 0,
           "vl-20": 0,
           "vl-21": 10,
           "vl-22": 5,
           "vl-23": 6,
           "vl-24": 4,
           "vl-25": 4,
           "vl-26": 2,
           "vl-27": 3,
           "vl-28": 2,
           "vl-29": 1,
           "vl-3": 0,
           "vl-30": 1,
           "vl-31": 0,
           "vl-32": 0,
           "vl-33": 0,
           "vl-34": 0,
           "vl-35": 0,
           "vl-36": 0,
           "vl-37": 0,
           "vl-38": 0,
           "vl-39": 0,
           "vl-4": 0,
           "vl-5": 0,
           "vl-6": 5,
           "vl-7": 4,
           "vl-8": 4,
           "vl-9": 7
          },
          "difficulties_bouldering": {
           "vl-1": 0,
           "vl-10": 0,
           "vl-11": 0,
           "vl-12": 8,
           "vl-13": 0,
           "vl-14": 5,
           "vl-15": 0,
           "vl-16": 9,
           "vl-17": 8,
           "vl-18": 7,
           "vl-19": 12,
           "vl-2": 0,
           "vl-20": 0,
           "vl-21": 13,
           "vl-22": 9,
           "vl-23": 9,
           "vl-24": 7,
           "vl-25": 8,
           "vl-26": 6,
           "vl-27": 6,
           "vl-28": 4,
           "vl-29": 4,
           "vl-3": 0,
           "vl-30": 1,
           "vl-31": 0,
           "vl-32": 0,
           "vl-33": 0,
           "vl-34": 0,
           "vl-4": 2,
           "vl-5": 3,
           "vl-6": 0,
           "vl-7": 5,
           "vl-8": 5,
           "vl-9": 0
          },
          "elegible_for_boulder_training": true,
          "gym_status": {
           "checkins_enabled": false,
           "temporarily_closed": false
          },
          "id": 69,
          "item_type": "gym",
          "latitude": 59.3569,
          "logo": "ce68d672c98919d65f4311f9c9d9bb47",
          "longitude": 18.0162,
          "name": "Klättercentret Solna",
          "published": true,
          "published_at": "2018-08-31 07:00:00 +0000",
          "route_count": 108,
          "share_url": "https://zlag.vertical-life.info/en/gyms/klattercentret-solna",
          "sponsor_logo": null,
          "sportclimbing_grading_system": "french",
          "town": "Solna",
          "updated_at": "2019-12-04 08:30:11 +0000",
          "virtual": false
         },
         "gym_id": 69,
         "gym_wall_id": 734,
         "gym_wall_name": "B Sektionen",
         "height": 4,
         "hold_color": null,
         "hold_manufacturer": null,
         "id": 4571283,
         "id_right": 330234,
         "item_type": "gym_boulder",
         "line_number": 2,
         "name": "Orange",
         "notes": null,
         "numberDifficulty": 42,
         "parent_id": 69,
         "parent_name": "Klättercentret Solna",
         "parent_name_right": "Bouldering, B Sektionen",
         "path": null,
         "path_right": [
          [
           4,
           150
          ],
          [
           164,
           170
          ],
          [
           381,
           190
          ],
          [
           383,
           542
          ],
          [
           219,
           571
          ],
          [
           2,
           609
          ],
          [
           6,
           152
          ]
         ],
         "perceived_hardness": 0,
         "project": false,
         "protection": 0,
         "provider": "verticallife",
         "rating": null,
         "recommended": false,
         "reference_width": 971,
         "repeat": false,
         "repeats": 0,
         "route_card_label": "B2.",
         "route_setter": "Benjamin Schlobohm",
         "safety_issues": null,
         "score": 50,
         "sector_id": 219,
         "sector_name": "Bouldering",
         "set_at": {},
         "shade": null,
         "share_url": "https://zlag.vertical-life.info/en/routes/fc5e0ee98528a4aeed68f23feeea9fcc",
         "sit_down_start": null,
         "sits": 0,
         "stats": {
          "b": 0,
          "c": 0,
          "comment_count": 0,
          "e": 0,
          "f": 0,
          "flash": 7,
          "go": 0,
          "hard_count": 0,
          "onsight": 0,
          "overhanging": 0,
          "rating": 2,
          "ratings_count": 1,
          "redpoint": 1,
          "roof": 0,
          "s": 0,
          "safety": 2,
          "safety_issues_count": {
           "1": 0,
           "2": 0,
           "4": 0,
           "8": 0,
           "16": 0,
           "32": 0,
           "64": 0
          },
          "slab": 0,
          "soft_count": 0,
          "t": 0,
          "toprope": 0,
          "vertical": 0,
          "video_count": 0,
          "zlag_count": 8,
          "zlaggable_height_count": {
           "1": 0,
           "2": 0,
           "4": 0,
           "8": 0,
           "16": 0,
           "32": 0
          }
         },
         "steepness": 0,
         "steepness_right": 3,
         "style": "",
         "style_right": null,
         "sub_type": "",
         "topo": "1e2bd49546a1ab26033e6eca6a575fad",
         "topo_num": "41801.2.",
         "traverse": false,
         "tries": 1,
         "two_start_holds": null,
         "type": "flash",
         "updated_at": {},
         "updated_at_right": "2022-04-28 08:42:30 +0000",
         "user_id": 230474,
         "virtual": false,
         "virtual_right": false,
         "vl_ascendable_id": null,
         "vl_id": 4396986,
         "vl_parent_id": null,
         "vl_user_id": 286128,
         "year": 2022
        },
        {
         "archived": true,
         "archived_at": null,
         "ascendable_filter": null,
         "ascendable_height": null,
         "ascendable_id": 330234,
         "ascendable_name": "Orange",
         "ascendable_type": "GymBoulder",
         "color_1": "#ffa500",
         "color_2": null,
         "comment": null,
         "created_at": {},
         "created_at_right": "2022-03-22 07:08:31 +0000",
         "date": "2022-03-24 12:00:00 +0000",
         "difficulty": "4+",
         "difficulty_right": "4+",
         "display_route_setter": true,
         "eight_a_ascendable_id": null,
         "eight_a_id": null,
         "eight_a_logbook": false,
         "eight_a_parent_id": null,
         "eight_a_user_id": 133113,
         "expiration_date": null,
         "exposition": null,
         "features": null,
         "gallery": [],
         "grade": "vl-8",
         "grade_proposals": [
          [
           "vl-1",
           "2"
          ],
          [
           "vl-2",
           "2+"
          ],
          [
           "vl-3",
           "3-"
          ],
          [
           "vl-4",
           "3"
          ],
          [
           "vl-5",
           "3+"
          ],
          [
           "vl-6",
           "4-"
          ],
          [
           "vl-7",
           "4"
          ],
          [
           "vl-8",
           "4+"
          ],
          [
           "vl-9",
           "5-"
          ],
          [
           "vl-12",
           "5"
          ],
          [
           "vl-14",
           "5+"
          ],
          [
           "vl-16",
           "6A"
          ],
          [
           "vl-17",
           "6A+"
          ],
          [
           "vl-18",
           "6B"
          ],
          [
           "vl-19",
           "6B+"
          ],
          [
           "vl-21",
           "6C"
          ],
          [
           "vl-22",
           "6C+"
          ],
          [
           "vl-23",
           "7A"
          ],
          [
           "vl-24",
           "7A+"
          ],
          [
           "vl-25",
           "7B"
          ],
          [
           "vl-26",
           "7B+"
          ],
          [
           "vl-27",
           "7C"
          ],
          [
           "vl-28",
           "7C+"
          ],
          [
           "vl-29",
           "8A"
          ],
          [
           "vl-30",
           "8A+"
          ],
          [
           "vl-31",
           "8B"
          ],
          [
           "vl-32",
           "8B+"
          ],
          [
           "vl-33",
           "8C"
          ],
          [
           "vl-34",
           "8C+"
          ]
         ],
         "grade_right": "vl-8",
         "grading_system": "font",
         "grading_system_right": "font",
         "gym": {
          "ascent_count": 55969,
          "boulder_count": 131,
          "bouldering_grading_system": "font",
          "categories": 24,
          "country": "Sweden",
          "cover": "f85eaa2db48218e30ff6f8fe4197df56",
          "created_at": "2018-06-21 09:50:35 +0000",
          "difficulties": {
           "vl-1": 0,
           "vl-10": 0,
           "vl-11": 0,
           "vl-12": 2,
           "vl-13": 0,
           "vl-14": 11,
           "vl-15": 0,
           "vl-16": 11,
           "vl-17": 9,
           "vl-18": 9,
           "vl-19": 8,
           "vl-2": 0,
           "vl-20": 0,
           "vl-21": 10,
           "vl-22": 5,
           "vl-23": 6,
           "vl-24": 4,
           "vl-25": 4,
           "vl-26": 2,
           "vl-27": 3,
           "vl-28": 2,
           "vl-29": 1,
           "vl-3": 0,
           "vl-30": 1,
           "vl-31": 0,
           "vl-32": 0,
           "vl-33": 0,
           "vl-34": 0,
           "vl-35": 0,
           "vl-36": 0,
           "vl-37": 0,
           "vl-38": 0,
           "vl-39": 0,
           "vl-4": 0,
           "vl-5": 0,
           "vl-6": 5,
           "vl-7": 4,
           "vl-8": 4,
           "vl-9": 7
          },
          "difficulties_bouldering": {
           "vl-1": 0,
           "vl-10": 0,
           "vl-11": 0,
           "vl-12": 8,
           "vl-13": 0,
           "vl-14": 5,
           "vl-15": 0,
           "vl-16": 9,
           "vl-17": 8,
           "vl-18": 7,
           "vl-19": 12,
           "vl-2": 0,
           "vl-20": 0,
           "vl-21": 13,
           "vl-22": 9,
           "vl-23": 9,
           "vl-24": 7,
           "vl-25": 8,
           "vl-26": 6,
           "vl-27": 6,
           "vl-28": 4,
           "vl-29": 4,
           "vl-3": 0,
           "vl-30": 1,
           "vl-31": 0,
           "vl-32": 0,
           "vl-33": 0,
           "vl-34": 0,
           "vl-4": 2,
           "vl-5": 3,
           "vl-6": 0,
           "vl-7": 5,
           "vl-8": 5,
           "vl-9": 0
          },
          "elegible_for_boulder_training": true,
          "gym_status": {
           "checkins_enabled": false,
           "temporarily_closed": false
          },
          "id": 69,
          "item_type": "gym",
          "latitude": 59.3569,
          "logo": "ce68d672c98919d65f4311f9c9d9bb47",
          "longitude": 18.0162,
          "name": "Klättercentret Solna",
          "published": true,
          "published_at": "2018-08-31 07:00:00 +0000",
          "route_count": 108,
          "share_url": "https://zlag.vertical-life.info/en/gyms/klattercentret-solna",
          "sponsor_logo": null,
          "sportclimbing_grading_system": "french",
          "town": "Solna",
          "updated_at": "2019-12-04 08:30:11 +0000",
          "virtual": false
         },
         "gym_id": 69,
         "gym_wall_id": 734,
         "gym_wall_name": "B Sektionen",
         "height": 4,
         "hold_color": null,
         "hold_manufacturer": null,
         "id": 4571283,
         "id_right": 330234,
         "item_type": "gym_boulder",
         "line_number": 2,
         "name": "Orange",
         "notes": null,
         "numberDifficulty": 42,
         "parent_id": 69,
         "parent_name": "Klättercentret Solna",
         "parent_name_right": "Bouldering, B Sektionen",
         "path": null,
         "path_right": [
          [
           4,
           150
          ],
          [
           164,
           170
          ],
          [
           381,
           190
          ],
          [
           383,
           542
          ],
          [
           219,
           571
          ],
          [
           2,
           609
          ],
          [
           6,
           152
          ]
         ],
         "perceived_hardness": 0,
         "project": false,
         "protection": 0,
         "provider": "verticallife",
         "rating": null,
         "recommended": false,
         "reference_width": 971,
         "repeat": false,
         "repeats": 0,
         "route_card_label": "B2.",
         "route_setter": "Benjamin Schlobohm",
         "safety_issues": null,
         "score": 50,
         "sector_id": 219,
         "sector_name": "Bouldering",
         "set_at": {},
         "shade": null,
         "share_url": "https://zlag.vertical-life.info/en/routes/fc5e0ee98528a4aeed68f23feeea9fcc",
         "sit_down_start": null,
         "sits": 0,
         "stats": {
          "b": 0,
          "c": 0,
          "comment_count": 0,
          "e": 0,
          "f": 0,
          "flash": 7,
          "go": 0,
          "hard_count": 0,
          "onsight": 0,
          "overhanging": 0,
          "rating": 2,
          "ratings_count": 1,
          "redpoint": 1,
          "roof": 0,
          "s": 0,
          "safety": 2,
          "safety_issues_count": {
           "1": 0,
           "2": 0,
           "4": 0,
           "8": 0,
           "16": 0,
           "32": 0,
           "64": 0
          },
          "slab": 0,
          "soft_count": 0,
          "t": 0,
          "toprope": 0,
          "vertical": 0,
          "video_count": 0,
          "zlag_count": 8,
          "zlaggable_height_count": {
           "1": 0,
           "2": 0,
           "4": 0,
           "8": 0,
           "16": 0,
           "32": 0
          }
         },
         "steepness": 0,
         "steepness_right": 3,
         "style": "",
         "style_right": null,
         "sub_type": "",
         "topo": "1e2bd49546a1ab26033e6eca6a575fad",
         "topo_num": "41801.2.",
         "traverse": false,
         "tries": 1,
         "two_start_holds": null,
         "type": "flash",
         "updated_at": {},
         "updated_at_right": "2022-04-28 08:42:30 +0000",
         "user_id": 230474,
         "virtual": false,
         "virtual_right": false,
         "vl_ascendable_id": null,
         "vl_id": 4396986,
         "vl_parent_id": null,
         "vl_user_id": 286128,
         "year": 2022
        },
        {
         "archived": true,
         "archived_at": null,
         "ascendable_filter": null,
         "ascendable_height": null,
         "ascendable_id": 328181,
         "ascendable_name": "Black",
         "ascendable_type": "GymBoulder",
         "color_1": "#000000",
         "color_2": null,
         "comment": null,
         "created_at": {},
         "created_at_right": "2022-03-15 06:25:50 +0000",
         "date": "2022-03-24 12:00:00 +0000",
         "difficulty": "4",
         "difficulty_right": "4",
         "display_route_setter": true,
         "eight_a_ascendable_id": null,
         "eight_a_id": null,
         "eight_a_logbook": false,
         "eight_a_parent_id": null,
         "eight_a_user_id": 133113,
         "expiration_date": null,
         "exposition": null,
         "features": null,
         "gallery": [],
         "grade": "vl-7",
         "grade_proposals": [
          [
           "vl-1",
           "2"
          ],
          [
           "vl-2",
           "2+"
          ],
          [
           "vl-3",
           "3-"
          ],
          [
           "vl-4",
           "3"
          ],
          [
           "vl-5",
           "3+"
          ],
          [
           "vl-6",
           "4-"
          ],
          [
           "vl-7",
           "4"
          ],
          [
           "vl-8",
           "4+"
          ],
          [
           "vl-9",
           "5-"
          ],
          [
           "vl-12",
           "5"
          ],
          [
           "vl-14",
           "5+"
          ],
          [
           "vl-16",
           "6A"
          ],
          [
           "vl-17",
           "6A+"
          ],
          [
           "vl-18",
           "6B"
          ],
          [
           "vl-19",
           "6B+"
          ],
          [
           "vl-21",
           "6C"
          ],
          [
           "vl-22",
           "6C+"
          ],
          [
           "vl-23",
           "7A"
          ],
          [
           "vl-24",
           "7A+"
          ],
          [
           "vl-25",
           "7B"
          ],
          [
           "vl-26",
           "7B+"
          ],
          [
           "vl-27",
           "7C"
          ],
          [
           "vl-28",
           "7C+"
          ],
          [
           "vl-29",
           "8A"
          ],
          [
           "vl-30",
           "8A+"
          ],
          [
           "vl-31",
           "8B"
          ],
          [
           "vl-32",
           "8B+"
          ],
          [
           "vl-33",
           "8C"
          ],
          [
           "vl-34",
           "8C+"
          ]
         ],
         "grade_right": "vl-7",
         "grading_system": "font",
         "grading_system_right": "font",
         "gym": {
          "ascent_count": 55969,
          "boulder_count": 131,
          "bouldering_grading_system": "font",
          "categories": 24,
          "country": "Sweden",
          "cover": "f85eaa2db48218e30ff6f8fe4197df56",
          "created_at": "2018-06-21 09:50:35 +0000",
          "difficulties": {
           "vl-1": 0,
           "vl-10": 0,
           "vl-11": 0,
           "vl-12": 2,
           "vl-13": 0,
           "vl-14": 11,
           "vl-15": 0,
           "vl-16": 11,
           "vl-17": 9,
           "vl-18": 9,
           "vl-19": 8,
           "vl-2": 0,
           "vl-20": 0,
           "vl-21": 10,
           "vl-22": 5,
           "vl-23": 6,
           "vl-24": 4,
           "vl-25": 4,
           "vl-26": 2,
           "vl-27": 3,
           "vl-28": 2,
           "vl-29": 1,
           "vl-3": 0,
           "vl-30": 1,
           "vl-31": 0,
           "vl-32": 0,
           "vl-33": 0,
           "vl-34": 0,
           "vl-35": 0,
           "vl-36": 0,
           "vl-37": 0,
           "vl-38": 0,
           "vl-39": 0,
           "vl-4": 0,
           "vl-5": 0,
           "vl-6": 5,
           "vl-7": 4,
           "vl-8": 4,
           "vl-9": 7
          },
          "difficulties_bouldering": {
           "vl-1": 0,
           "vl-10": 0,
           "vl-11": 0,
           "vl-12": 8,
           "vl-13": 0,
           "vl-14": 5,
           "vl-15": 0,
           "vl-16": 9,
           "vl-17": 8,
           "vl-18": 7,
           "vl-19": 12,
           "vl-2": 0,
           "vl-20": 0,
           "vl-21": 13,
           "vl-22": 9,
           "vl-23": 9,
           "vl-24": 7,
           "vl-25": 8,
           "vl-26": 6,
           "vl-27": 6,
           "vl-28": 4,
           "vl-29": 4,
           "vl-3": 0,
           "vl-30": 1,
           "vl-31": 0,
           "vl-32": 0,
           "vl-33": 0,
           "vl-34": 0,
           "vl-4": 2,
           "vl-5": 3,
           "vl-6": 0,
           "vl-7": 5,
           "vl-8": 5,
           "vl-9": 0
          },
          "elegible_for_boulder_training": true,
          "gym_status": {
           "checkins_enabled": false,
           "temporarily_closed": false
          },
          "id": 69,
          "item_type": "gym",
          "latitude": 59.3569,
          "logo": "ce68d672c98919d65f4311f9c9d9bb47",
          "longitude": 18.0162,
          "name": "Klättercentret Solna",
          "published": true,
          "published_at": "2018-08-31 07:00:00 +0000",
          "route_count": 108,
          "share_url": "https://zlag.vertical-life.info/en/gyms/klattercentret-solna",
          "sponsor_logo": null,
          "sportclimbing_grading_system": "french",
          "town": "Solna",
          "updated_at": "2019-12-04 08:30:11 +0000",
          "virtual": false
         },
         "gym_id": 69,
         "gym_wall_id": 734,
         "gym_wall_name": "B Sektionen",
         "height": 4,
         "hold_color": null,
         "hold_manufacturer": null,
         "id": 4574242,
         "id_right": 328181,
         "item_type": "gym_boulder",
         "line_number": 2,
         "name": "Black",
         "notes": null,
         "numberDifficulty": 36,
         "parent_id": 69,
         "parent_name": "Klättercentret Solna",
         "parent_name_right": "Bouldering, B Sektionen",
         "path": null,
         "path_right": [
          [
           4,
           150
          ],
          [
           164,
           170
          ],
          [
           381,
           190
          ],
          [
           383,
           542
          ],
          [
           219,
           571
          ],
          [
           2,
           609
          ],
          [
           6,
           152
          ]
         ],
         "perceived_hardness": 0,
         "project": false,
         "protection": 0,
         "provider": "verticallife",
         "rating": null,
         "recommended": false,
         "reference_width": 971,
         "repeat": false,
         "repeats": 0,
         "route_card_label": "B2.",
         "route_setter": "N.N.",
         "safety_issues": null,
         "score": 103,
         "sector_id": 219,
         "sector_name": "Bouldering",
         "set_at": {},
         "shade": null,
         "share_url": "https://zlag.vertical-life.info/en/routes/e1d2c9c5078abaeb2d12f541e91b8632",
         "sit_down_start": null,
         "sits": 0,
         "stats": {
          "b": 0,
          "c": 0,
          "comment_count": 0,
          "e": 0,
          "f": 0,
          "flash": 5,
          "go": 0,
          "hard_count": 0,
          "onsight": 0,
          "overhanging": 0,
          "rating": 0,
          "ratings_count": 0,
          "redpoint": 2,
          "roof": 0,
          "s": 0,
          "safety": 2,
          "safety_issues_count": {
           "1": 0,
           "2": 0,
           "4": 0,
           "8": 0,
           "16": 0,
           "32": 0,
           "64": 0
          },
          "slab": 0,
          "soft_count": 0,
          "t": 0,
          "toprope": 0,
          "vertical": 0,
          "video_count": 0,
          "zlag_count": 7,
          "zlaggable_height_count": {
           "1": 0,
           "2": 0,
           "4": 0,
           "8": 0,
           "16": 0,
           "32": 0
          }
         },
         "steepness": 0,
         "steepness_right": 3,
         "style": "",
         "style_right": null,
         "sub_type": "",
         "topo": "1e2bd49546a1ab26033e6eca6a575fad",
         "topo_num": "41801.2.",
         "traverse": false,
         "tries": 1,
         "two_start_holds": null,
         "type": "flash",
         "updated_at": {},
         "updated_at_right": "2022-04-28 08:42:28 +0000",
         "user_id": 230474,
         "virtual": false,
         "virtual_right": false,
         "vl_ascendable_id": null,
         "vl_id": 4396994,
         "vl_parent_id": null,
         "vl_user_id": 286128,
         "year": 2022
        },
        {
         "archived": true,
         "archived_at": null,
         "ascendable_filter": null,
         "ascendable_height": null,
         "ascendable_id": 328181,
         "ascendable_name": "Black",
         "ascendable_type": "GymBoulder",
         "color_1": "#000000",
         "color_2": null,
         "comment": null,
         "created_at": {},
         "created_at_right": "2022-03-15 06:25:50 +0000",
         "date": "2022-03-24 12:00:00 +0000",
         "difficulty": "4",
         "difficulty_right": "4",
         "display_route_setter": true,
         "eight_a_ascendable_id": null,
         "eight_a_id": null,
         "eight_a_logbook": false,
         "eight_a_parent_id": null,
         "eight_a_user_id": 133113,
         "expiration_date": null,
         "exposition": null,
         "features": null,
         "gallery": [],
         "grade": "vl-7",
         "grade_proposals": [
          [
           "vl-1",
           "2"
          ],
          [
           "vl-2",
           "2+"
          ],
          [
           "vl-3",
           "3-"
          ],
          [
           "vl-4",
           "3"
          ],
          [
           "vl-5",
           "3+"
          ],
          [
           "vl-6",
           "4-"
          ],
          [
           "vl-7",
           "4"
          ],
          [
           "vl-8",
           "4+"
          ],
          [
           "vl-9",
           "5-"
          ],
          [
           "vl-12",
           "5"
          ],
          [
           "vl-14",
           "5+"
          ],
          [
           "vl-16",
           "6A"
          ],
          [
           "vl-17",
           "6A+"
          ],
          [
           "vl-18",
           "6B"
          ],
          [
           "vl-19",
           "6B+"
          ],
          [
           "vl-21",
           "6C"
          ],
          [
           "vl-22",
           "6C+"
          ],
          [
           "vl-23",
           "7A"
          ],
          [
           "vl-24",
           "7A+"
          ],
          [
           "vl-25",
           "7B"
          ],
          [
           "vl-26",
           "7B+"
          ],
          [
           "vl-27",
           "7C"
          ],
          [
           "vl-28",
           "7C+"
          ],
          [
           "vl-29",
           "8A"
          ],
          [
           "vl-30",
           "8A+"
          ],
          [
           "vl-31",
           "8B"
          ],
          [
           "vl-32",
           "8B+"
          ],
          [
           "vl-33",
           "8C"
          ],
          [
           "vl-34",
           "8C+"
          ]
         ],
         "grade_right": "vl-7",
         "grading_system": "font",
         "grading_system_right": "font",
         "gym": {
          "ascent_count": 55969,
          "boulder_count": 131,
          "bouldering_grading_system": "font",
          "categories": 24,
          "country": "Sweden",
          "cover": "f85eaa2db48218e30ff6f8fe4197df56",
          "created_at": "2018-06-21 09:50:35 +0000",
          "difficulties": {
           "vl-1": 0,
           "vl-10": 0,
           "vl-11": 0,
           "vl-12": 2,
           "vl-13": 0,
           "vl-14": 11,
           "vl-15": 0,
           "vl-16": 11,
           "vl-17": 9,
           "vl-18": 9,
           "vl-19": 8,
           "vl-2": 0,
           "vl-20": 0,
           "vl-21": 10,
           "vl-22": 5,
           "vl-23": 6,
           "vl-24": 4,
           "vl-25": 4,
           "vl-26": 2,
           "vl-27": 3,
           "vl-28": 2,
           "vl-29": 1,
           "vl-3": 0,
           "vl-30": 1,
           "vl-31": 0,
           "vl-32": 0,
           "vl-33": 0,
           "vl-34": 0,
           "vl-35": 0,
           "vl-36": 0,
           "vl-37": 0,
           "vl-38": 0,
           "vl-39": 0,
           "vl-4": 0,
           "vl-5": 0,
           "vl-6": 5,
           "vl-7": 4,
           "vl-8": 4,
           "vl-9": 7
          },
          "difficulties_bouldering": {
           "vl-1": 0,
           "vl-10": 0,
           "vl-11": 0,
           "vl-12": 8,
           "vl-13": 0,
           "vl-14": 5,
           "vl-15": 0,
           "vl-16": 9,
           "vl-17": 8,
           "vl-18": 7,
           "vl-19": 12,
           "vl-2": 0,
           "vl-20": 0,
           "vl-21": 13,
           "vl-22": 9,
           "vl-23": 9,
           "vl-24": 7,
           "vl-25": 8,
           "vl-26": 6,
           "vl-27": 6,
           "vl-28": 4,
           "vl-29": 4,
           "vl-3": 0,
           "vl-30": 1,
           "vl-31": 0,
           "vl-32": 0,
           "vl-33": 0,
           "vl-34": 0,
           "vl-4": 2,
           "vl-5": 3,
           "vl-6": 0,
           "vl-7": 5,
           "vl-8": 5,
           "vl-9": 0
          },
          "elegible_for_boulder_training": true,
          "gym_status": {
           "checkins_enabled": false,
           "temporarily_closed": false
          },
          "id": 69,
          "item_type": "gym",
          "latitude": 59.3569,
          "logo": "ce68d672c98919d65f4311f9c9d9bb47",
          "longitude": 18.0162,
          "name": "Klättercentret Solna",
          "published": true,
          "published_at": "2018-08-31 07:00:00 +0000",
          "route_count": 108,
          "share_url": "https://zlag.vertical-life.info/en/gyms/klattercentret-solna",
          "sponsor_logo": null,
          "sportclimbing_grading_system": "french",
          "town": "Solna",
          "updated_at": "2019-12-04 08:30:11 +0000",
          "virtual": false
         },
         "gym_id": 69,
         "gym_wall_id": 734,
         "gym_wall_name": "B Sektionen",
         "height": 4,
         "hold_color": null,
         "hold_manufacturer": null,
         "id": 4574242,
         "id_right": 328181,
         "item_type": "gym_boulder",
         "line_number": 2,
         "name": "Black",
         "notes": null,
         "numberDifficulty": 36,
         "parent_id": 69,
         "parent_name": "Klättercentret Solna",
         "parent_name_right": "Bouldering, B Sektionen",
         "path": null,
         "path_right": [
          [
           4,
           150
          ],
          [
           164,
           170
          ],
          [
           381,
           190
          ],
          [
           383,
           542
          ],
          [
           219,
           571
          ],
          [
           2,
           609
          ],
          [
           6,
           152
          ]
         ],
         "perceived_hardness": 0,
         "project": false,
         "protection": 0,
         "provider": "verticallife",
         "rating": null,
         "recommended": false,
         "reference_width": 971,
         "repeat": false,
         "repeats": 0,
         "route_card_label": "B2.",
         "route_setter": "N.N.",
         "safety_issues": null,
         "score": 103,
         "sector_id": 219,
         "sector_name": "Bouldering",
         "set_at": {},
         "shade": null,
         "share_url": "https://zlag.vertical-life.info/en/routes/e1d2c9c5078abaeb2d12f541e91b8632",
         "sit_down_start": null,
         "sits": 0,
         "stats": {
          "b": 0,
          "c": 0,
          "comment_count": 0,
          "e": 0,
          "f": 0,
          "flash": 5,
          "go": 0,
          "hard_count": 0,
          "onsight": 0,
          "overhanging": 0,
          "rating": 0,
          "ratings_count": 0,
          "redpoint": 2,
          "roof": 0,
          "s": 0,
          "safety": 2,
          "safety_issues_count": {
           "1": 0,
           "2": 0,
           "4": 0,
           "8": 0,
           "16": 0,
           "32": 0,
           "64": 0
          },
          "slab": 0,
          "soft_count": 0,
          "t": 0,
          "toprope": 0,
          "vertical": 0,
          "video_count": 0,
          "zlag_count": 7,
          "zlaggable_height_count": {
           "1": 0,
           "2": 0,
           "4": 0,
           "8": 0,
           "16": 0,
           "32": 0
          }
         },
         "steepness": 0,
         "steepness_right": 3,
         "style": "",
         "style_right": null,
         "sub_type": "",
         "topo": "1e2bd49546a1ab26033e6eca6a575fad",
         "topo_num": "41801.2.",
         "traverse": false,
         "tries": 1,
         "two_start_holds": null,
         "type": "flash",
         "updated_at": {},
         "updated_at_right": "2022-04-28 08:42:28 +0000",
         "user_id": 230474,
         "virtual": false,
         "virtual_right": false,
         "vl_ascendable_id": null,
         "vl_id": 4396994,
         "vl_parent_id": null,
         "vl_user_id": 286128,
         "year": 2022
        },
        {
         "archived": true,
         "archived_at": null,
         "ascendable_filter": null,
         "ascendable_height": null,
         "ascendable_id": 328177,
         "ascendable_name": "Turquoise",
         "ascendable_type": "GymBoulder",
         "color_1": "#87ccc6",
         "color_2": null,
         "comment": null,
         "created_at": {},
         "created_at_right": "2022-03-15 06:24:22 +0000",
         "date": "2022-03-24 12:00:00 +0000",
         "difficulty": "4+",
         "difficulty_right": "4+",
         "display_route_setter": true,
         "eight_a_ascendable_id": null,
         "eight_a_id": null,
         "eight_a_logbook": false,
         "eight_a_parent_id": null,
         "eight_a_user_id": 133113,
         "expiration_date": null,
         "exposition": null,
         "features": null,
         "gallery": [],
         "grade": "vl-8",
         "grade_proposals": [
          [
           "vl-1",
           "2"
          ],
          [
           "vl-2",
           "2+"
          ],
          [
           "vl-3",
           "3-"
          ],
          [
           "vl-4",
           "3"
          ],
          [
           "vl-5",
           "3+"
          ],
          [
           "vl-6",
           "4-"
          ],
          [
           "vl-7",
           "4"
          ],
          [
           "vl-8",
           "4+"
          ],
          [
           "vl-9",
           "5-"
          ],
          [
           "vl-12",
           "5"
          ],
          [
           "vl-14",
           "5+"
          ],
          [
           "vl-16",
           "6A"
          ],
          [
           "vl-17",
           "6A+"
          ],
          [
           "vl-18",
           "6B"
          ],
          [
           "vl-19",
           "6B+"
          ],
          [
           "vl-21",
           "6C"
          ],
          [
           "vl-22",
           "6C+"
          ],
          [
           "vl-23",
           "7A"
          ],
          [
           "vl-24",
           "7A+"
          ],
          [
           "vl-25",
           "7B"
          ],
          [
           "vl-26",
           "7B+"
          ],
          [
           "vl-27",
           "7C"
          ],
          [
           "vl-28",
           "7C+"
          ],
          [
           "vl-29",
           "8A"
          ],
          [
           "vl-30",
           "8A+"
          ],
          [
           "vl-31",
           "8B"
          ],
          [
           "vl-32",
           "8B+"
          ],
          [
           "vl-33",
           "8C"
          ],
          [
           "vl-34",
           "8C+"
          ]
         ],
         "grade_right": "vl-8",
         "grading_system": "font",
         "grading_system_right": "font",
         "gym": {
          "ascent_count": 55969,
          "boulder_count": 131,
          "bouldering_grading_system": "font",
          "categories": 24,
          "country": "Sweden",
          "cover": "f85eaa2db48218e30ff6f8fe4197df56",
          "created_at": "2018-06-21 09:50:35 +0000",
          "difficulties": {
           "vl-1": 0,
           "vl-10": 0,
           "vl-11": 0,
           "vl-12": 2,
           "vl-13": 0,
           "vl-14": 11,
           "vl-15": 0,
           "vl-16": 11,
           "vl-17": 9,
           "vl-18": 9,
           "vl-19": 8,
           "vl-2": 0,
           "vl-20": 0,
           "vl-21": 10,
           "vl-22": 5,
           "vl-23": 6,
           "vl-24": 4,
           "vl-25": 4,
           "vl-26": 2,
           "vl-27": 3,
           "vl-28": 2,
           "vl-29": 1,
           "vl-3": 0,
           "vl-30": 1,
           "vl-31": 0,
           "vl-32": 0,
           "vl-33": 0,
           "vl-34": 0,
           "vl-35": 0,
           "vl-36": 0,
           "vl-37": 0,
           "vl-38": 0,
           "vl-39": 0,
           "vl-4": 0,
           "vl-5": 0,
           "vl-6": 5,
           "vl-7": 4,
           "vl-8": 4,
           "vl-9": 7
          },
          "difficulties_bouldering": {
           "vl-1": 0,
           "vl-10": 0,
           "vl-11": 0,
           "vl-12": 8,
           "vl-13": 0,
           "vl-14": 5,
           "vl-15": 0,
           "vl-16": 9,
           "vl-17": 8,
           "vl-18": 7,
           "vl-19": 12,
           "vl-2": 0,
           "vl-20": 0,
           "vl-21": 13,
           "vl-22": 9,
           "vl-23": 9,
           "vl-24": 7,
           "vl-25": 8,
           "vl-26": 6,
           "vl-27": 6,
           "vl-28": 4,
           "vl-29": 4,
           "vl-3": 0,
           "vl-30": 1,
           "vl-31": 0,
           "vl-32": 0,
           "vl-33": 0,
           "vl-34": 0,
           "vl-4": 2,
           "vl-5": 3,
           "vl-6": 0,
           "vl-7": 5,
           "vl-8": 5,
           "vl-9": 0
          },
          "elegible_for_boulder_training": true,
          "gym_status": {
           "checkins_enabled": false,
           "temporarily_closed": false
          },
          "id": 69,
          "item_type": "gym",
          "latitude": 59.3569,
          "logo": "ce68d672c98919d65f4311f9c9d9bb47",
          "longitude": 18.0162,
          "name": "Klättercentret Solna",
          "published": true,
          "published_at": "2018-08-31 07:00:00 +0000",
          "route_count": 108,
          "share_url": "https://zlag.vertical-life.info/en/gyms/klattercentret-solna",
          "sponsor_logo": null,
          "sportclimbing_grading_system": "french",
          "town": "Solna",
          "updated_at": "2019-12-04 08:30:11 +0000",
          "virtual": false
         },
         "gym_id": 69,
         "gym_wall_id": 734,
         "gym_wall_name": "B Sektionen",
         "height": 4,
         "hold_color": null,
         "hold_manufacturer": null,
         "id": 3969417,
         "id_right": 328177,
         "item_type": "gym_boulder",
         "line_number": 1,
         "name": "Turquoise",
         "notes": null,
         "numberDifficulty": 42,
         "parent_id": 69,
         "parent_name": "Klättercentret Solna",
         "parent_name_right": "Bouldering, B Sektionen",
         "path": null,
         "path_right": [
          [
           383,
           192
          ],
          [
           640,
           178
          ],
          [
           715,
           568
          ],
          [
           676,
           545
          ],
          [
           504,
           520
          ],
          [
           385,
           542
          ],
          [
           383,
           193
          ]
         ],
         "perceived_hardness": 0,
         "project": false,
         "protection": 0,
         "provider": "verticallife",
         "rating": null,
         "recommended": false,
         "reference_width": 971,
         "repeat": false,
         "repeats": 0,
         "route_card_label": "B1.",
         "route_setter": "Benjamin Schlobohm",
         "safety_issues": null,
         "score": 52,
         "sector_id": 219,
         "sector_name": "Bouldering",
         "set_at": {},
         "shade": null,
         "share_url": "https://zlag.vertical-life.info/en/routes/c6f8e9e347ff37d14a2e9984d7dda976",
         "sit_down_start": null,
         "sits": 0,
         "stats": {
          "b": 0,
          "c": 0,
          "comment_count": 0,
          "e": 0,
          "f": 0,
          "flash": 2,
          "go": 0,
          "hard_count": 0,
          "onsight": 0,
          "overhanging": 0,
          "rating": 0,
          "ratings_count": 0,
          "redpoint": 3,
          "roof": 0,
          "s": 0,
          "safety": 2,
          "safety_issues_count": {
           "1": 0,
           "2": 0,
           "4": 0,
           "8": 0,
           "16": 0,
           "32": 0,
           "64": 0
          },
          "slab": 0,
          "soft_count": 0,
          "t": 0,
          "toprope": 0,
          "vertical": 0,
          "video_count": 0,
          "zlag_count": 5,
          "zlaggable_height_count": {
           "1": 0,
           "2": 0,
           "4": 0,
           "8": 0,
           "16": 0,
           "32": 0
          }
         },
         "steepness": 0,
         "steepness_right": 3,
         "style": "",
         "style_right": null,
         "sub_type": "",
         "topo": "1e2bd49546a1ab26033e6eca6a575fad",
         "topo_num": "41801.1.",
         "traverse": false,
         "tries": 2,
         "two_start_holds": null,
         "type": "redpoint",
         "updated_at": {},
         "updated_at_right": "2022-04-28 08:42:23 +0000",
         "user_id": 230474,
         "virtual": false,
         "virtual_right": false,
         "vl_ascendable_id": null,
         "vl_id": 4397097,
         "vl_parent_id": null,
         "vl_user_id": 286128,
         "year": 2022
        },
        {
         "archived": true,
         "archived_at": null,
         "ascendable_filter": null,
         "ascendable_height": null,
         "ascendable_id": 331407,
         "ascendable_name": "White",
         "ascendable_type": "GymBoulder",
         "color_1": "#FFFFFF",
         "color_2": null,
         "comment": null,
         "created_at": {},
         "created_at_right": "2022-03-25 10:17:50 +0000",
         "date": "2022-03-24 12:00:00 +0000",
         "difficulty": "5+",
         "difficulty_right": "5+",
         "display_route_setter": true,
         "eight_a_ascendable_id": null,
         "eight_a_id": null,
         "eight_a_logbook": false,
         "eight_a_parent_id": null,
         "eight_a_user_id": 133113,
         "expiration_date": null,
         "exposition": null,
         "features": null,
         "gallery": [],
         "grade": "vl-14",
         "grade_proposals": [
          [
           "vl-1",
           "2"
          ],
          [
           "vl-2",
           "2+"
          ],
          [
           "vl-3",
           "3-"
          ],
          [
           "vl-4",
           "3"
          ],
          [
           "vl-5",
           "3+"
          ],
          [
           "vl-6",
           "4-"
          ],
          [
           "vl-7",
           "4"
          ],
          [
           "vl-8",
           "4+"
          ],
          [
           "vl-9",
           "5-"
          ],
          [
           "vl-12",
           "5"
          ],
          [
           "vl-14",
           "5+"
          ],
          [
           "vl-16",
           "6A"
          ],
          [
           "vl-17",
           "6A+"
          ],
          [
           "vl-18",
           "6B"
          ],
          [
           "vl-19",
           "6B+"
          ],
          [
           "vl-21",
           "6C"
          ],
          [
           "vl-22",
           "6C+"
          ],
          [
           "vl-23",
           "7A"
          ],
          [
           "vl-24",
           "7A+"
          ],
          [
           "vl-25",
           "7B"
          ],
          [
           "vl-26",
           "7B+"
          ],
          [
           "vl-27",
           "7C"
          ],
          [
           "vl-28",
           "7C+"
          ],
          [
           "vl-29",
           "8A"
          ],
          [
           "vl-30",
           "8A+"
          ],
          [
           "vl-31",
           "8B"
          ],
          [
           "vl-32",
           "8B+"
          ],
          [
           "vl-33",
           "8C"
          ],
          [
           "vl-34",
           "8C+"
          ]
         ],
         "grade_right": "vl-14",
         "grading_system": "font",
         "grading_system_right": "font",
         "gym": {
          "ascent_count": 55969,
          "boulder_count": 131,
          "bouldering_grading_system": "font",
          "categories": 24,
          "country": "Sweden",
          "cover": "f85eaa2db48218e30ff6f8fe4197df56",
          "created_at": "2018-06-21 09:50:35 +0000",
          "difficulties": {
           "vl-1": 0,
           "vl-10": 0,
           "vl-11": 0,
           "vl-12": 2,
           "vl-13": 0,
           "vl-14": 11,
           "vl-15": 0,
           "vl-16": 11,
           "vl-17": 9,
           "vl-18": 9,
           "vl-19": 8,
           "vl-2": 0,
           "vl-20": 0,
           "vl-21": 10,
           "vl-22": 5,
           "vl-23": 6,
           "vl-24": 4,
           "vl-25": 4,
           "vl-26": 2,
           "vl-27": 3,
           "vl-28": 2,
           "vl-29": 1,
           "vl-3": 0,
           "vl-30": 1,
           "vl-31": 0,
           "vl-32": 0,
           "vl-33": 0,
           "vl-34": 0,
           "vl-35": 0,
           "vl-36": 0,
           "vl-37": 0,
           "vl-38": 0,
           "vl-39": 0,
           "vl-4": 0,
           "vl-5": 0,
           "vl-6": 5,
           "vl-7": 4,
           "vl-8": 4,
           "vl-9": 7
          },
          "difficulties_bouldering": {
           "vl-1": 0,
           "vl-10": 0,
           "vl-11": 0,
           "vl-12": 8,
           "vl-13": 0,
           "vl-14": 5,
           "vl-15": 0,
           "vl-16": 9,
           "vl-17": 8,
           "vl-18": 7,
           "vl-19": 12,
           "vl-2": 0,
           "vl-20": 0,
           "vl-21": 13,
           "vl-22": 9,
           "vl-23": 9,
           "vl-24": 7,
           "vl-25": 8,
           "vl-26": 6,
           "vl-27": 6,
           "vl-28": 4,
           "vl-29": 4,
           "vl-3": 0,
           "vl-30": 1,
           "vl-31": 0,
           "vl-32": 0,
           "vl-33": 0,
           "vl-34": 0,
           "vl-4": 2,
           "vl-5": 3,
           "vl-6": 0,
           "vl-7": 5,
           "vl-8": 5,
           "vl-9": 0
          },
          "elegible_for_boulder_training": true,
          "gym_status": {
           "checkins_enabled": false,
           "temporarily_closed": false
          },
          "id": 69,
          "item_type": "gym",
          "latitude": 59.3569,
          "logo": "ce68d672c98919d65f4311f9c9d9bb47",
          "longitude": 18.0162,
          "name": "Klättercentret Solna",
          "published": true,
          "published_at": "2018-08-31 07:00:00 +0000",
          "route_count": 108,
          "share_url": "https://zlag.vertical-life.info/en/gyms/klattercentret-solna",
          "sponsor_logo": null,
          "sportclimbing_grading_system": "french",
          "town": "Solna",
          "updated_at": "2019-12-04 08:30:11 +0000",
          "virtual": false
         },
         "gym_id": 69,
         "gym_wall_id": 733,
         "gym_wall_name": "A Sektionen",
         "height": 4,
         "hold_color": null,
         "hold_manufacturer": null,
         "id": 4646561,
         "id_right": 331407,
         "item_type": "gym_boulder",
         "line_number": 1,
         "name": "White",
         "notes": null,
         "numberDifficulty": 54,
         "parent_id": 69,
         "parent_name": "Klättercentret Solna",
         "parent_name_right": "Bouldering, A Sektionen",
         "path": null,
         "path_right": [
          [
           31,
           170
          ],
          [
           7,
           544
          ],
          [
           86,
           526
          ],
          [
           225,
           516
          ],
          [
           295,
           519
          ],
          [
           296,
           482
          ],
          [
           302,
           300
          ],
          [
           290,
           181
          ],
          [
           179,
           183
          ],
          [
           31,
           170
          ]
         ],
         "perceived_hardness": 0,
         "project": false,
         "protection": 0,
         "provider": "verticallife",
         "rating": null,
         "recommended": false,
         "reference_width": 971,
         "repeat": false,
         "repeats": 0,
         "route_card_label": "A1.",
         "route_setter": "Stina Dorwarth",
         "safety_issues": null,
         "score": 353,
         "sector_id": 219,
         "sector_name": "Bouldering",
         "set_at": {},
         "shade": null,
         "share_url": "https://zlag.vertical-life.info/en/routes/5506863690daaa0252b1cf787fb723fb",
         "sit_down_start": null,
         "sits": 0,
         "stats": {
          "b": 0,
          "c": 0,
          "comment_count": 0,
          "e": 0,
          "f": 0,
          "flash": 14,
          "go": 0,
          "hard_count": 0,
          "onsight": 0,
          "overhanging": 0,
          "rating": 4,
          "ratings_count": 1,
          "redpoint": 4,
          "roof": 0,
          "s": 0,
          "safety": 2,
          "safety_issues_count": {
           "1": 0,
           "2": 0,
           "4": 0,
           "8": 0,
           "16": 0,
           "32": 0,
           "64": 0
          },
          "slab": 0,
          "soft_count": 1,
          "t": 0,
          "toprope": 0,
          "vertical": 0,
          "video_count": 0,
          "zlag_count": 18,
          "zlaggable_height_count": {
           "1": 0,
           "2": 0,
           "4": 0,
           "8": 0,
           "16": 0,
           "32": 0
          }
         },
         "steepness": 0,
         "steepness_right": 7,
         "style": "",
         "style_right": null,
         "sub_type": "",
         "topo": "e56970f2e4e002f62f72f0061adfa987",
         "topo_num": "41797.1.",
         "traverse": false,
         "tries": 1,
         "two_start_holds": null,
         "type": "flash",
         "updated_at": {},
         "updated_at_right": "2022-05-30 07:00:57 +0000",
         "user_id": 230474,
         "virtual": false,
         "virtual_right": false,
         "vl_ascendable_id": null,
         "vl_id": 4399030,
         "vl_parent_id": null,
         "vl_user_id": 286128,
         "year": 2022
        },
        {
         "archived": true,
         "archived_at": null,
         "ascendable_filter": null,
         "ascendable_height": null,
         "ascendable_id": 331407,
         "ascendable_name": "White",
         "ascendable_type": "GymBoulder",
         "color_1": "#FFFFFF",
         "color_2": null,
         "comment": null,
         "created_at": {},
         "created_at_right": "2022-03-25 10:17:50 +0000",
         "date": "2022-03-24 12:00:00 +0000",
         "difficulty": "5+",
         "difficulty_right": "5+",
         "display_route_setter": true,
         "eight_a_ascendable_id": null,
         "eight_a_id": null,
         "eight_a_logbook": false,
         "eight_a_parent_id": null,
         "eight_a_user_id": 133113,
         "expiration_date": null,
         "exposition": null,
         "features": null,
         "gallery": [],
         "grade": "vl-14",
         "grade_proposals": [
          [
           "vl-1",
           "2"
          ],
          [
           "vl-2",
           "2+"
          ],
          [
           "vl-3",
           "3-"
          ],
          [
           "vl-4",
           "3"
          ],
          [
           "vl-5",
           "3+"
          ],
          [
           "vl-6",
           "4-"
          ],
          [
           "vl-7",
           "4"
          ],
          [
           "vl-8",
           "4+"
          ],
          [
           "vl-9",
           "5-"
          ],
          [
           "vl-12",
           "5"
          ],
          [
           "vl-14",
           "5+"
          ],
          [
           "vl-16",
           "6A"
          ],
          [
           "vl-17",
           "6A+"
          ],
          [
           "vl-18",
           "6B"
          ],
          [
           "vl-19",
           "6B+"
          ],
          [
           "vl-21",
           "6C"
          ],
          [
           "vl-22",
           "6C+"
          ],
          [
           "vl-23",
           "7A"
          ],
          [
           "vl-24",
           "7A+"
          ],
          [
           "vl-25",
           "7B"
          ],
          [
           "vl-26",
           "7B+"
          ],
          [
           "vl-27",
           "7C"
          ],
          [
           "vl-28",
           "7C+"
          ],
          [
           "vl-29",
           "8A"
          ],
          [
           "vl-30",
           "8A+"
          ],
          [
           "vl-31",
           "8B"
          ],
          [
           "vl-32",
           "8B+"
          ],
          [
           "vl-33",
           "8C"
          ],
          [
           "vl-34",
           "8C+"
          ]
         ],
         "grade_right": "vl-14",
         "grading_system": "font",
         "grading_system_right": "font",
         "gym": {
          "ascent_count": 55969,
          "boulder_count": 131,
          "bouldering_grading_system": "font",
          "categories": 24,
          "country": "Sweden",
          "cover": "f85eaa2db48218e30ff6f8fe4197df56",
          "created_at": "2018-06-21 09:50:35 +0000",
          "difficulties": {
           "vl-1": 0,
           "vl-10": 0,
           "vl-11": 0,
           "vl-12": 2,
           "vl-13": 0,
           "vl-14": 11,
           "vl-15": 0,
           "vl-16": 11,
           "vl-17": 9,
           "vl-18": 9,
           "vl-19": 8,
           "vl-2": 0,
           "vl-20": 0,
           "vl-21": 10,
           "vl-22": 5,
           "vl-23": 6,
           "vl-24": 4,
           "vl-25": 4,
           "vl-26": 2,
           "vl-27": 3,
           "vl-28": 2,
           "vl-29": 1,
           "vl-3": 0,
           "vl-30": 1,
           "vl-31": 0,
           "vl-32": 0,
           "vl-33": 0,
           "vl-34": 0,
           "vl-35": 0,
           "vl-36": 0,
           "vl-37": 0,
           "vl-38": 0,
           "vl-39": 0,
           "vl-4": 0,
           "vl-5": 0,
           "vl-6": 5,
           "vl-7": 4,
           "vl-8": 4,
           "vl-9": 7
          },
          "difficulties_bouldering": {
           "vl-1": 0,
           "vl-10": 0,
           "vl-11": 0,
           "vl-12": 8,
           "vl-13": 0,
           "vl-14": 5,
           "vl-15": 0,
           "vl-16": 9,
           "vl-17": 8,
           "vl-18": 7,
           "vl-19": 12,
           "vl-2": 0,
           "vl-20": 0,
           "vl-21": 13,
           "vl-22": 9,
           "vl-23": 9,
           "vl-24": 7,
           "vl-25": 8,
           "vl-26": 6,
           "vl-27": 6,
           "vl-28": 4,
           "vl-29": 4,
           "vl-3": 0,
           "vl-30": 1,
           "vl-31": 0,
           "vl-32": 0,
           "vl-33": 0,
           "vl-34": 0,
           "vl-4": 2,
           "vl-5": 3,
           "vl-6": 0,
           "vl-7": 5,
           "vl-8": 5,
           "vl-9": 0
          },
          "elegible_for_boulder_training": true,
          "gym_status": {
           "checkins_enabled": false,
           "temporarily_closed": false
          },
          "id": 69,
          "item_type": "gym",
          "latitude": 59.3569,
          "logo": "ce68d672c98919d65f4311f9c9d9bb47",
          "longitude": 18.0162,
          "name": "Klättercentret Solna",
          "published": true,
          "published_at": "2018-08-31 07:00:00 +0000",
          "route_count": 108,
          "share_url": "https://zlag.vertical-life.info/en/gyms/klattercentret-solna",
          "sponsor_logo": null,
          "sportclimbing_grading_system": "french",
          "town": "Solna",
          "updated_at": "2019-12-04 08:30:11 +0000",
          "virtual": false
         },
         "gym_id": 69,
         "gym_wall_id": 733,
         "gym_wall_name": "A Sektionen",
         "height": 4,
         "hold_color": null,
         "hold_manufacturer": null,
         "id": 4646561,
         "id_right": 331407,
         "item_type": "gym_boulder",
         "line_number": 1,
         "name": "White",
         "notes": null,
         "numberDifficulty": 54,
         "parent_id": 69,
         "parent_name": "Klättercentret Solna",
         "parent_name_right": "Bouldering, A Sektionen",
         "path": null,
         "path_right": [
          [
           31,
           170
          ],
          [
           7,
           544
          ],
          [
           86,
           526
          ],
          [
           225,
           516
          ],
          [
           295,
           519
          ],
          [
           296,
           482
          ],
          [
           302,
           300
          ],
          [
           290,
           181
          ],
          [
           179,
           183
          ],
          [
           31,
           170
          ]
         ],
         "perceived_hardness": 0,
         "project": false,
         "protection": 0,
         "provider": "verticallife",
         "rating": null,
         "recommended": false,
         "reference_width": 971,
         "repeat": false,
         "repeats": 0,
         "route_card_label": "A1.",
         "route_setter": "Stina Dorwarth",
         "safety_issues": null,
         "score": 353,
         "sector_id": 219,
         "sector_name": "Bouldering",
         "set_at": {},
         "shade": null,
         "share_url": "https://zlag.vertical-life.info/en/routes/5506863690daaa0252b1cf787fb723fb",
         "sit_down_start": null,
         "sits": 0,
         "stats": {
          "b": 0,
          "c": 0,
          "comment_count": 0,
          "e": 0,
          "f": 0,
          "flash": 14,
          "go": 0,
          "hard_count": 0,
          "onsight": 0,
          "overhanging": 0,
          "rating": 4,
          "ratings_count": 1,
          "redpoint": 4,
          "roof": 0,
          "s": 0,
          "safety": 2,
          "safety_issues_count": {
           "1": 0,
           "2": 0,
           "4": 0,
           "8": 0,
           "16": 0,
           "32": 0,
           "64": 0
          },
          "slab": 0,
          "soft_count": 1,
          "t": 0,
          "toprope": 0,
          "vertical": 0,
          "video_count": 0,
          "zlag_count": 18,
          "zlaggable_height_count": {
           "1": 0,
           "2": 0,
           "4": 0,
           "8": 0,
           "16": 0,
           "32": 0
          }
         },
         "steepness": 0,
         "steepness_right": 7,
         "style": "",
         "style_right": null,
         "sub_type": "",
         "topo": "e56970f2e4e002f62f72f0061adfa987",
         "topo_num": "41797.1.",
         "traverse": false,
         "tries": 1,
         "two_start_holds": null,
         "type": "flash",
         "updated_at": {},
         "updated_at_right": "2022-05-30 07:00:57 +0000",
         "user_id": 230474,
         "virtual": false,
         "virtual_right": false,
         "vl_ascendable_id": null,
         "vl_id": 4399030,
         "vl_parent_id": null,
         "vl_user_id": 286128,
         "year": 2022
        },
        {
         "archived": true,
         "archived_at": null,
         "ascendable_filter": null,
         "ascendable_height": null,
         "ascendable_id": 331407,
         "ascendable_name": "White",
         "ascendable_type": "GymBoulder",
         "color_1": "#FFFFFF",
         "color_2": null,
         "comment": null,
         "created_at": {},
         "created_at_right": "2022-03-25 10:17:50 +0000",
         "date": "2022-03-24 12:00:00 +0000",
         "difficulty": "5+",
         "difficulty_right": "5+",
         "display_route_setter": true,
         "eight_a_ascendable_id": null,
         "eight_a_id": null,
         "eight_a_logbook": false,
         "eight_a_parent_id": null,
         "eight_a_user_id": 133113,
         "expiration_date": null,
         "exposition": null,
         "features": null,
         "gallery": [],
         "grade": "vl-14",
         "grade_proposals": [
          [
           "vl-1",
           "2"
          ],
          [
           "vl-2",
           "2+"
          ],
          [
           "vl-3",
           "3-"
          ],
          [
           "vl-4",
           "3"
          ],
          [
           "vl-5",
           "3+"
          ],
          [
           "vl-6",
           "4-"
          ],
          [
           "vl-7",
           "4"
          ],
          [
           "vl-8",
           "4+"
          ],
          [
           "vl-9",
           "5-"
          ],
          [
           "vl-12",
           "5"
          ],
          [
           "vl-14",
           "5+"
          ],
          [
           "vl-16",
           "6A"
          ],
          [
           "vl-17",
           "6A+"
          ],
          [
           "vl-18",
           "6B"
          ],
          [
           "vl-19",
           "6B+"
          ],
          [
           "vl-21",
           "6C"
          ],
          [
           "vl-22",
           "6C+"
          ],
          [
           "vl-23",
           "7A"
          ],
          [
           "vl-24",
           "7A+"
          ],
          [
           "vl-25",
           "7B"
          ],
          [
           "vl-26",
           "7B+"
          ],
          [
           "vl-27",
           "7C"
          ],
          [
           "vl-28",
           "7C+"
          ],
          [
           "vl-29",
           "8A"
          ],
          [
           "vl-30",
           "8A+"
          ],
          [
           "vl-31",
           "8B"
          ],
          [
           "vl-32",
           "8B+"
          ],
          [
           "vl-33",
           "8C"
          ],
          [
           "vl-34",
           "8C+"
          ]
         ],
         "grade_right": "vl-14",
         "grading_system": "font",
         "grading_system_right": "font",
         "gym": {
          "ascent_count": 55969,
          "boulder_count": 131,
          "bouldering_grading_system": "font",
          "categories": 24,
          "country": "Sweden",
          "cover": "f85eaa2db48218e30ff6f8fe4197df56",
          "created_at": "2018-06-21 09:50:35 +0000",
          "difficulties": {
           "vl-1": 0,
           "vl-10": 0,
           "vl-11": 0,
           "vl-12": 2,
           "vl-13": 0,
           "vl-14": 11,
           "vl-15": 0,
           "vl-16": 11,
           "vl-17": 9,
           "vl-18": 9,
           "vl-19": 8,
           "vl-2": 0,
           "vl-20": 0,
           "vl-21": 10,
           "vl-22": 5,
           "vl-23": 6,
           "vl-24": 4,
           "vl-25": 4,
           "vl-26": 2,
           "vl-27": 3,
           "vl-28": 2,
           "vl-29": 1,
           "vl-3": 0,
           "vl-30": 1,
           "vl-31": 0,
           "vl-32": 0,
           "vl-33": 0,
           "vl-34": 0,
           "vl-35": 0,
           "vl-36": 0,
           "vl-37": 0,
           "vl-38": 0,
           "vl-39": 0,
           "vl-4": 0,
           "vl-5": 0,
           "vl-6": 5,
           "vl-7": 4,
           "vl-8": 4,
           "vl-9": 7
          },
          "difficulties_bouldering": {
           "vl-1": 0,
           "vl-10": 0,
           "vl-11": 0,
           "vl-12": 8,
           "vl-13": 0,
           "vl-14": 5,
           "vl-15": 0,
           "vl-16": 9,
           "vl-17": 8,
           "vl-18": 7,
           "vl-19": 12,
           "vl-2": 0,
           "vl-20": 0,
           "vl-21": 13,
           "vl-22": 9,
           "vl-23": 9,
           "vl-24": 7,
           "vl-25": 8,
           "vl-26": 6,
           "vl-27": 6,
           "vl-28": 4,
           "vl-29": 4,
           "vl-3": 0,
           "vl-30": 1,
           "vl-31": 0,
           "vl-32": 0,
           "vl-33": 0,
           "vl-34": 0,
           "vl-4": 2,
           "vl-5": 3,
           "vl-6": 0,
           "vl-7": 5,
           "vl-8": 5,
           "vl-9": 0
          },
          "elegible_for_boulder_training": true,
          "gym_status": {
           "checkins_enabled": false,
           "temporarily_closed": false
          },
          "id": 69,
          "item_type": "gym",
          "latitude": 59.3569,
          "logo": "ce68d672c98919d65f4311f9c9d9bb47",
          "longitude": 18.0162,
          "name": "Klättercentret Solna",
          "published": true,
          "published_at": "2018-08-31 07:00:00 +0000",
          "route_count": 108,
          "share_url": "https://zlag.vertical-life.info/en/gyms/klattercentret-solna",
          "sponsor_logo": null,
          "sportclimbing_grading_system": "french",
          "town": "Solna",
          "updated_at": "2019-12-04 08:30:11 +0000",
          "virtual": false
         },
         "gym_id": 69,
         "gym_wall_id": 733,
         "gym_wall_name": "A Sektionen",
         "height": 4,
         "hold_color": null,
         "hold_manufacturer": null,
         "id": 4646561,
         "id_right": 331407,
         "item_type": "gym_boulder",
         "line_number": 1,
         "name": "White",
         "notes": null,
         "numberDifficulty": 54,
         "parent_id": 69,
         "parent_name": "Klättercentret Solna",
         "parent_name_right": "Bouldering, A Sektionen",
         "path": null,
         "path_right": [
          [
           31,
           170
          ],
          [
           7,
           544
          ],
          [
           86,
           526
          ],
          [
           225,
           516
          ],
          [
           295,
           519
          ],
          [
           296,
           482
          ],
          [
           302,
           300
          ],
          [
           290,
           181
          ],
          [
           179,
           183
          ],
          [
           31,
           170
          ]
         ],
         "perceived_hardness": 0,
         "project": false,
         "protection": 0,
         "provider": "verticallife",
         "rating": null,
         "recommended": false,
         "reference_width": 971,
         "repeat": false,
         "repeats": 0,
         "route_card_label": "A1.",
         "route_setter": "Stina Dorwarth",
         "safety_issues": null,
         "score": 353,
         "sector_id": 219,
         "sector_name": "Bouldering",
         "set_at": {},
         "shade": null,
         "share_url": "https://zlag.vertical-life.info/en/routes/5506863690daaa0252b1cf787fb723fb",
         "sit_down_start": null,
         "sits": 0,
         "stats": {
          "b": 0,
          "c": 0,
          "comment_count": 0,
          "e": 0,
          "f": 0,
          "flash": 14,
          "go": 0,
          "hard_count": 0,
          "onsight": 0,
          "overhanging": 0,
          "rating": 4,
          "ratings_count": 1,
          "redpoint": 4,
          "roof": 0,
          "s": 0,
          "safety": 2,
          "safety_issues_count": {
           "1": 0,
           "2": 0,
           "4": 0,
           "8": 0,
           "16": 0,
           "32": 0,
           "64": 0
          },
          "slab": 0,
          "soft_count": 1,
          "t": 0,
          "toprope": 0,
          "vertical": 0,
          "video_count": 0,
          "zlag_count": 18,
          "zlaggable_height_count": {
           "1": 0,
           "2": 0,
           "4": 0,
           "8": 0,
           "16": 0,
           "32": 0
          }
         },
         "steepness": 0,
         "steepness_right": 7,
         "style": "",
         "style_right": null,
         "sub_type": "",
         "topo": "e56970f2e4e002f62f72f0061adfa987",
         "topo_num": "41797.1.",
         "traverse": false,
         "tries": 1,
         "two_start_holds": null,
         "type": "flash",
         "updated_at": {},
         "updated_at_right": "2022-05-30 07:00:57 +0000",
         "user_id": 230474,
         "virtual": false,
         "virtual_right": false,
         "vl_ascendable_id": null,
         "vl_id": 4399030,
         "vl_parent_id": null,
         "vl_user_id": 286128,
         "year": 2022
        },
        {
         "archived": true,
         "archived_at": null,
         "ascendable_filter": null,
         "ascendable_height": null,
         "ascendable_id": 331412,
         "ascendable_name": "Turquoise STÅ",
         "ascendable_type": "GymBoulder",
         "color_1": "#87ccc6",
         "color_2": null,
         "comment": null,
         "created_at": {},
         "created_at_right": "2022-03-25 10:20:39 +0000",
         "date": "2022-03-24 12:00:00 +0000",
         "difficulty": "4",
         "difficulty_right": "4",
         "display_route_setter": true,
         "eight_a_ascendable_id": null,
         "eight_a_id": null,
         "eight_a_logbook": false,
         "eight_a_parent_id": null,
         "eight_a_user_id": 133113,
         "expiration_date": null,
         "exposition": null,
         "features": null,
         "gallery": [],
         "grade": "vl-7",
         "grade_proposals": [
          [
           "vl-1",
           "2"
          ],
          [
           "vl-2",
           "2+"
          ],
          [
           "vl-3",
           "3-"
          ],
          [
           "vl-4",
           "3"
          ],
          [
           "vl-5",
           "3+"
          ],
          [
           "vl-6",
           "4-"
          ],
          [
           "vl-7",
           "4"
          ],
          [
           "vl-8",
           "4+"
          ],
          [
           "vl-9",
           "5-"
          ],
          [
           "vl-12",
           "5"
          ],
          [
           "vl-14",
           "5+"
          ],
          [
           "vl-16",
           "6A"
          ],
          [
           "vl-17",
           "6A+"
          ],
          [
           "vl-18",
           "6B"
          ],
          [
           "vl-19",
           "6B+"
          ],
          [
           "vl-21",
           "6C"
          ],
          [
           "vl-22",
           "6C+"
          ],
          [
           "vl-23",
           "7A"
          ],
          [
           "vl-24",
           "7A+"
          ],
          [
           "vl-25",
           "7B"
          ],
          [
           "vl-26",
           "7B+"
          ],
          [
           "vl-27",
           "7C"
          ],
          [
           "vl-28",
           "7C+"
          ],
          [
           "vl-29",
           "8A"
          ],
          [
           "vl-30",
           "8A+"
          ],
          [
           "vl-31",
           "8B"
          ],
          [
           "vl-32",
           "8B+"
          ],
          [
           "vl-33",
           "8C"
          ],
          [
           "vl-34",
           "8C+"
          ]
         ],
         "grade_right": "vl-7",
         "grading_system": "font",
         "grading_system_right": "font",
         "gym": {
          "ascent_count": 55969,
          "boulder_count": 131,
          "bouldering_grading_system": "font",
          "categories": 24,
          "country": "Sweden",
          "cover": "f85eaa2db48218e30ff6f8fe4197df56",
          "created_at": "2018-06-21 09:50:35 +0000",
          "difficulties": {
           "vl-1": 0,
           "vl-10": 0,
           "vl-11": 0,
           "vl-12": 2,
           "vl-13": 0,
           "vl-14": 11,
           "vl-15": 0,
           "vl-16": 11,
           "vl-17": 9,
           "vl-18": 9,
           "vl-19": 8,
           "vl-2": 0,
           "vl-20": 0,
           "vl-21": 10,
           "vl-22": 5,
           "vl-23": 6,
           "vl-24": 4,
           "vl-25": 4,
           "vl-26": 2,
           "vl-27": 3,
           "vl-28": 2,
           "vl-29": 1,
           "vl-3": 0,
           "vl-30": 1,
           "vl-31": 0,
           "vl-32": 0,
           "vl-33": 0,
           "vl-34": 0,
           "vl-35": 0,
           "vl-36": 0,
           "vl-37": 0,
           "vl-38": 0,
           "vl-39": 0,
           "vl-4": 0,
           "vl-5": 0,
           "vl-6": 5,
           "vl-7": 4,
           "vl-8": 4,
           "vl-9": 7
          },
          "difficulties_bouldering": {
           "vl-1": 0,
           "vl-10": 0,
           "vl-11": 0,
           "vl-12": 8,
           "vl-13": 0,
           "vl-14": 5,
           "vl-15": 0,
           "vl-16": 9,
           "vl-17": 8,
           "vl-18": 7,
           "vl-19": 12,
           "vl-2": 0,
           "vl-20": 0,
           "vl-21": 13,
           "vl-22": 9,
           "vl-23": 9,
           "vl-24": 7,
           "vl-25": 8,
           "vl-26": 6,
           "vl-27": 6,
           "vl-28": 4,
           "vl-29": 4,
           "vl-3": 0,
           "vl-30": 1,
           "vl-31": 0,
           "vl-32": 0,
           "vl-33": 0,
           "vl-34": 0,
           "vl-4": 2,
           "vl-5": 3,
           "vl-6": 0,
           "vl-7": 5,
           "vl-8": 5,
           "vl-9": 0
          },
          "elegible_for_boulder_training": true,
          "gym_status": {
           "checkins_enabled": false,
           "temporarily_closed": false
          },
          "id": 69,
          "item_type": "gym",
          "latitude": 59.3569,
          "logo": "ce68d672c98919d65f4311f9c9d9bb47",
          "longitude": 18.0162,
          "name": "Klättercentret Solna",
          "published": true,
          "published_at": "2018-08-31 07:00:00 +0000",
          "route_count": 108,
          "share_url": "https://zlag.vertical-life.info/en/gyms/klattercentret-solna",
          "sponsor_logo": null,
          "sportclimbing_grading_system": "french",
          "town": "Solna",
          "updated_at": "2019-12-04 08:30:11 +0000",
          "virtual": false
         },
         "gym_id": 69,
         "gym_wall_id": 733,
         "gym_wall_name": "A Sektionen",
         "height": 4,
         "hold_color": null,
         "hold_manufacturer": null,
         "id": 4646896,
         "id_right": 331412,
         "item_type": "gym_boulder",
         "line_number": 2,
         "name": "Turquoise STÅ",
         "notes": null,
         "numberDifficulty": 36,
         "parent_id": 69,
         "parent_name": "Klättercentret Solna",
         "parent_name_right": "Bouldering, A Sektionen",
         "path": null,
         "path_right": [
          [
           291,
           182
          ],
          [
           302,
           300
          ],
          [
           294,
           520
          ],
          [
           382,
           504
          ],
          [
           507,
           502
          ],
          [
           721,
           526
          ],
          [
           720,
           489
          ],
          [
           733,
           183
          ],
          [
           565,
           180
          ],
          [
           291,
           182
          ]
         ],
         "perceived_hardness": 0,
         "project": false,
         "protection": 0,
         "provider": "verticallife",
         "rating": null,
         "recommended": false,
         "reference_width": 971,
         "repeat": false,
         "repeats": 0,
         "route_card_label": "A2.",
         "route_setter": "Stina Dorwarth",
         "safety_issues": null,
         "score": 103,
         "sector_id": 219,
         "sector_name": "Bouldering",
         "set_at": {},
         "shade": null,
         "share_url": "https://zlag.vertical-life.info/en/routes/57ea87e54529c8aaf0e6807fd56a26fa",
         "sit_down_start": null,
         "sits": 0,
         "stats": {
          "b": 0,
          "c": 0,
          "comment_count": 0,
          "e": 0,
          "f": 0,
          "flash": 11,
          "go": 0,
          "hard_count": 0,
          "onsight": 0,
          "overhanging": 0,
          "rating": 4,
          "ratings_count": 3,
          "redpoint": 0,
          "roof": 0,
          "s": 0,
          "safety": 0,
          "safety_issues_count": {
           "1": 0,
           "2": 0,
           "4": 0,
           "8": 0,
           "16": 0,
           "32": 0,
           "64": 0
          },
          "slab": 0,
          "soft_count": 2,
          "t": 0,
          "toprope": 0,
          "vertical": 0,
          "video_count": 0,
          "zlag_count": 11,
          "zlaggable_height_count": {
           "1": 0,
           "2": 0,
           "4": 0,
           "8": 0,
           "16": 0,
           "32": 0
          }
         },
         "steepness": 0,
         "steepness_right": 7,
         "style": "",
         "style_right": null,
         "sub_type": "",
         "topo": "e56970f2e4e002f62f72f0061adfa987",
         "topo_num": "41797.2.",
         "traverse": false,
         "tries": 1,
         "two_start_holds": null,
         "type": "flash",
         "updated_at": {},
         "updated_at_right": "2022-06-16 08:51:20 +0000",
         "user_id": 230474,
         "virtual": false,
         "virtual_right": false,
         "vl_ascendable_id": null,
         "vl_id": 4399032,
         "vl_parent_id": null,
         "vl_user_id": 286128,
         "year": 2022
        },
        {
         "archived": true,
         "archived_at": null,
         "ascendable_filter": null,
         "ascendable_height": null,
         "ascendable_id": 323145,
         "ascendable_name": "Red",
         "ascendable_type": "GymBoulder",
         "color_1": "#ff0000",
         "color_2": null,
         "comment": null,
         "created_at": {},
         "created_at_right": "2022-02-24 15:47:08 +0000",
         "date": "2022-03-27 12:00:00 +0000",
         "difficulty": "6A+",
         "difficulty_right": "6A+",
         "display_route_setter": true,
         "eight_a_ascendable_id": null,
         "eight_a_id": null,
         "eight_a_logbook": false,
         "eight_a_parent_id": null,
         "eight_a_user_id": 133113,
         "expiration_date": null,
         "exposition": null,
         "features": null,
         "gallery": [],
         "grade": "vl-17",
         "grade_proposals": [
          [
           "vl-1",
           "2"
          ],
          [
           "vl-2",
           "2+"
          ],
          [
           "vl-3",
           "3-"
          ],
          [
           "vl-4",
           "3"
          ],
          [
           "vl-5",
           "3+"
          ],
          [
           "vl-6",
           "4-"
          ],
          [
           "vl-7",
           "4"
          ],
          [
           "vl-8",
           "4+"
          ],
          [
           "vl-9",
           "5-"
          ],
          [
           "vl-12",
           "5"
          ],
          [
           "vl-14",
           "5+"
          ],
          [
           "vl-16",
           "6A"
          ],
          [
           "vl-17",
           "6A+"
          ],
          [
           "vl-18",
           "6B"
          ],
          [
           "vl-19",
           "6B+"
          ],
          [
           "vl-21",
           "6C"
          ],
          [
           "vl-22",
           "6C+"
          ],
          [
           "vl-23",
           "7A"
          ],
          [
           "vl-24",
           "7A+"
          ],
          [
           "vl-25",
           "7B"
          ],
          [
           "vl-26",
           "7B+"
          ],
          [
           "vl-27",
           "7C"
          ],
          [
           "vl-28",
           "7C+"
          ],
          [
           "vl-29",
           "8A"
          ],
          [
           "vl-30",
           "8A+"
          ],
          [
           "vl-31",
           "8B"
          ],
          [
           "vl-32",
           "8B+"
          ],
          [
           "vl-33",
           "8C"
          ],
          [
           "vl-34",
           "8C+"
          ]
         ],
         "grade_right": "vl-17",
         "grading_system": "font",
         "grading_system_right": "font",
         "gym": {
          "ascent_count": 55969,
          "boulder_count": 131,
          "bouldering_grading_system": "font",
          "categories": 24,
          "country": "Sweden",
          "cover": "f85eaa2db48218e30ff6f8fe4197df56",
          "created_at": "2018-06-21 09:50:35 +0000",
          "difficulties": {
           "vl-1": 0,
           "vl-10": 0,
           "vl-11": 0,
           "vl-12": 2,
           "vl-13": 0,
           "vl-14": 11,
           "vl-15": 0,
           "vl-16": 11,
           "vl-17": 9,
           "vl-18": 9,
           "vl-19": 8,
           "vl-2": 0,
           "vl-20": 0,
           "vl-21": 10,
           "vl-22": 5,
           "vl-23": 6,
           "vl-24": 4,
           "vl-25": 4,
           "vl-26": 2,
           "vl-27": 3,
           "vl-28": 2,
           "vl-29": 1,
           "vl-3": 0,
           "vl-30": 1,
           "vl-31": 0,
           "vl-32": 0,
           "vl-33": 0,
           "vl-34": 0,
           "vl-35": 0,
           "vl-36": 0,
           "vl-37": 0,
           "vl-38": 0,
           "vl-39": 0,
           "vl-4": 0,
           "vl-5": 0,
           "vl-6": 5,
           "vl-7": 4,
           "vl-8": 4,
           "vl-9": 7
          },
          "difficulties_bouldering": {
           "vl-1": 0,
           "vl-10": 0,
           "vl-11": 0,
           "vl-12": 8,
           "vl-13": 0,
           "vl-14": 5,
           "vl-15": 0,
           "vl-16": 9,
           "vl-17": 8,
           "vl-18": 7,
           "vl-19": 12,
           "vl-2": 0,
           "vl-20": 0,
           "vl-21": 13,
           "vl-22": 9,
           "vl-23": 9,
           "vl-24": 7,
           "vl-25": 8,
           "vl-26": 6,
           "vl-27": 6,
           "vl-28": 4,
           "vl-29": 4,
           "vl-3": 0,
           "vl-30": 1,
           "vl-31": 0,
           "vl-32": 0,
           "vl-33": 0,
           "vl-34": 0,
           "vl-4": 2,
           "vl-5": 3,
           "vl-6": 0,
           "vl-7": 5,
           "vl-8": 5,
           "vl-9": 0
          },
          "elegible_for_boulder_training": true,
          "gym_status": {
           "checkins_enabled": false,
           "temporarily_closed": false
          },
          "id": 69,
          "item_type": "gym",
          "latitude": 59.3569,
          "logo": "ce68d672c98919d65f4311f9c9d9bb47",
          "longitude": 18.0162,
          "name": "Klättercentret Solna",
          "published": true,
          "published_at": "2018-08-31 07:00:00 +0000",
          "route_count": 108,
          "share_url": "https://zlag.vertical-life.info/en/gyms/klattercentret-solna",
          "sponsor_logo": null,
          "sportclimbing_grading_system": "french",
          "town": "Solna",
          "updated_at": "2019-12-04 08:30:11 +0000",
          "virtual": false
         },
         "gym_id": 69,
         "gym_wall_id": 733,
         "gym_wall_name": "A Sektionen",
         "height": 4,
         "hold_color": null,
         "hold_manufacturer": null,
         "id": 4651936,
         "id_right": 323145,
         "item_type": "gym_boulder",
         "line_number": 8,
         "name": "Red",
         "notes": null,
         "numberDifficulty": 66,
         "parent_id": 69,
         "parent_name": "Klättercentret Solna",
         "parent_name_right": "Bouldering, A Sektionen",
         "path": null,
         "path_right": [
          [
           31,
           186
          ],
          [
           17,
           521
          ],
          [
           142,
           506
          ],
          [
           268,
           496
          ],
          [
           335,
           500
          ],
          [
           336,
           420
          ],
          [
           335,
           392
          ],
          [
           327,
           340
          ],
          [
           346,
           253
          ],
          [
           312,
           177
          ],
          [
           217,
           180
          ],
          [
           86,
           191
          ],
          [
           31,
           187
          ]
         ],
         "perceived_hardness": 0,
         "project": false,
         "protection": 0,
         "provider": "verticallife",
         "rating": null,
         "recommended": false,
         "reference_width": 971,
         "repeat": false,
         "repeats": 0,
         "route_card_label": "A8.",
         "route_setter": "Benjamin Schlobohm",
         "safety_issues": null,
         "score": 503,
         "sector_id": 219,
         "sector_name": "Bouldering",
         "set_at": {},
         "shade": null,
         "share_url": "https://zlag.vertical-life.info/en/routes/c52048f1c019661d154b560657939abb",
         "sit_down_start": null,
         "sits": 0,
         "stats": {
          "b": 0,
          "c": 0,
          "comment_count": 0,
          "e": 0,
          "f": 0,
          "flash": 9,
          "go": 0,
          "hard_count": 0,
          "onsight": 0,
          "overhanging": 0,
          "rating": 3.7,
          "ratings_count": 3,
          "redpoint": 5,
          "roof": 0,
          "s": 0,
          "safety": 2,
          "safety_issues_count": {
           "1": 0,
           "2": 0,
           "4": 0,
           "8": 0,
           "16": 0,
           "32": 0,
           "64": 0
          },
          "slab": 0,
          "soft_count": 0,
          "t": 0,
          "toprope": 0,
          "vertical": 0,
          "video_count": 0,
          "zlag_count": 14,
          "zlaggable_height_count": {
           "1": 0,
           "2": 0,
           "4": 0,
           "8": 0,
           "16": 0,
           "32": 0
          }
         },
         "steepness": 0,
         "steepness_right": 7,
         "style": "",
         "style_right": null,
         "sub_type": "",
         "topo": "5c34763248de2c434a96e3fd1bd72118",
         "topo_num": "41798.8.",
         "traverse": false,
         "tries": 1,
         "two_start_holds": null,
         "type": "flash",
         "updated_at": {},
         "updated_at_right": "2022-05-02 08:36:41 +0000",
         "user_id": 230474,
         "virtual": false,
         "virtual_right": false,
         "vl_ascendable_id": null,
         "vl_id": 4404729,
         "vl_parent_id": null,
         "vl_user_id": 286128,
         "year": 2022
        },
        {
         "archived": true,
         "archived_at": null,
         "ascendable_filter": null,
         "ascendable_height": null,
         "ascendable_id": 323145,
         "ascendable_name": "Red",
         "ascendable_type": "GymBoulder",
         "color_1": "#ff0000",
         "color_2": null,
         "comment": null,
         "created_at": {},
         "created_at_right": "2022-02-24 15:47:08 +0000",
         "date": "2022-03-27 12:00:00 +0000",
         "difficulty": "6A+",
         "difficulty_right": "6A+",
         "display_route_setter": true,
         "eight_a_ascendable_id": null,
         "eight_a_id": null,
         "eight_a_logbook": false,
         "eight_a_parent_id": null,
         "eight_a_user_id": 133113,
         "expiration_date": null,
         "exposition": null,
         "features": null,
         "gallery": [],
         "grade": "vl-17",
         "grade_proposals": [
          [
           "vl-1",
           "2"
          ],
          [
           "vl-2",
           "2+"
          ],
          [
           "vl-3",
           "3-"
          ],
          [
           "vl-4",
           "3"
          ],
          [
           "vl-5",
           "3+"
          ],
          [
           "vl-6",
           "4-"
          ],
          [
           "vl-7",
           "4"
          ],
          [
           "vl-8",
           "4+"
          ],
          [
           "vl-9",
           "5-"
          ],
          [
           "vl-12",
           "5"
          ],
          [
           "vl-14",
           "5+"
          ],
          [
           "vl-16",
           "6A"
          ],
          [
           "vl-17",
           "6A+"
          ],
          [
           "vl-18",
           "6B"
          ],
          [
           "vl-19",
           "6B+"
          ],
          [
           "vl-21",
           "6C"
          ],
          [
           "vl-22",
           "6C+"
          ],
          [
           "vl-23",
           "7A"
          ],
          [
           "vl-24",
           "7A+"
          ],
          [
           "vl-25",
           "7B"
          ],
          [
           "vl-26",
           "7B+"
          ],
          [
           "vl-27",
           "7C"
          ],
          [
           "vl-28",
           "7C+"
          ],
          [
           "vl-29",
           "8A"
          ],
          [
           "vl-30",
           "8A+"
          ],
          [
           "vl-31",
           "8B"
          ],
          [
           "vl-32",
           "8B+"
          ],
          [
           "vl-33",
           "8C"
          ],
          [
           "vl-34",
           "8C+"
          ]
         ],
         "grade_right": "vl-17",
         "grading_system": "font",
         "grading_system_right": "font",
         "gym": {
          "ascent_count": 55969,
          "boulder_count": 131,
          "bouldering_grading_system": "font",
          "categories": 24,
          "country": "Sweden",
          "cover": "f85eaa2db48218e30ff6f8fe4197df56",
          "created_at": "2018-06-21 09:50:35 +0000",
          "difficulties": {
           "vl-1": 0,
           "vl-10": 0,
           "vl-11": 0,
           "vl-12": 2,
           "vl-13": 0,
           "vl-14": 11,
           "vl-15": 0,
           "vl-16": 11,
           "vl-17": 9,
           "vl-18": 9,
           "vl-19": 8,
           "vl-2": 0,
           "vl-20": 0,
           "vl-21": 10,
           "vl-22": 5,
           "vl-23": 6,
           "vl-24": 4,
           "vl-25": 4,
           "vl-26": 2,
           "vl-27": 3,
           "vl-28": 2,
           "vl-29": 1,
           "vl-3": 0,
           "vl-30": 1,
           "vl-31": 0,
           "vl-32": 0,
           "vl-33": 0,
           "vl-34": 0,
           "vl-35": 0,
           "vl-36": 0,
           "vl-37": 0,
           "vl-38": 0,
           "vl-39": 0,
           "vl-4": 0,
           "vl-5": 0,
           "vl-6": 5,
           "vl-7": 4,
           "vl-8": 4,
           "vl-9": 7
          },
          "difficulties_bouldering": {
           "vl-1": 0,
           "vl-10": 0,
           "vl-11": 0,
           "vl-12": 8,
           "vl-13": 0,
           "vl-14": 5,
           "vl-15": 0,
           "vl-16": 9,
           "vl-17": 8,
           "vl-18": 7,
           "vl-19": 12,
           "vl-2": 0,
           "vl-20": 0,
           "vl-21": 13,
           "vl-22": 9,
           "vl-23": 9,
           "vl-24": 7,
           "vl-25": 8,
           "vl-26": 6,
           "vl-27": 6,
           "vl-28": 4,
           "vl-29": 4,
           "vl-3": 0,
           "vl-30": 1,
           "vl-31": 0,
           "vl-32": 0,
           "vl-33": 0,
           "vl-34": 0,
           "vl-4": 2,
           "vl-5": 3,
           "vl-6": 0,
           "vl-7": 5,
           "vl-8": 5,
           "vl-9": 0
          },
          "elegible_for_boulder_training": true,
          "gym_status": {
           "checkins_enabled": false,
           "temporarily_closed": false
          },
          "id": 69,
          "item_type": "gym",
          "latitude": 59.3569,
          "logo": "ce68d672c98919d65f4311f9c9d9bb47",
          "longitude": 18.0162,
          "name": "Klättercentret Solna",
          "published": true,
          "published_at": "2018-08-31 07:00:00 +0000",
          "route_count": 108,
          "share_url": "https://zlag.vertical-life.info/en/gyms/klattercentret-solna",
          "sponsor_logo": null,
          "sportclimbing_grading_system": "french",
          "town": "Solna",
          "updated_at": "2019-12-04 08:30:11 +0000",
          "virtual": false
         },
         "gym_id": 69,
         "gym_wall_id": 733,
         "gym_wall_name": "A Sektionen",
         "height": 4,
         "hold_color": null,
         "hold_manufacturer": null,
         "id": 4651936,
         "id_right": 323145,
         "item_type": "gym_boulder",
         "line_number": 8,
         "name": "Red",
         "notes": null,
         "numberDifficulty": 66,
         "parent_id": 69,
         "parent_name": "Klättercentret Solna",
         "parent_name_right": "Bouldering, A Sektionen",
         "path": null,
         "path_right": [
          [
           31,
           186
          ],
          [
           17,
           521
          ],
          [
           142,
           506
          ],
          [
           268,
           496
          ],
          [
           335,
           500
          ],
          [
           336,
           420
          ],
          [
           335,
           392
          ],
          [
           327,
           340
          ],
          [
           346,
           253
          ],
          [
           312,
           177
          ],
          [
           217,
           180
          ],
          [
           86,
           191
          ],
          [
           31,
           187
          ]
         ],
         "perceived_hardness": 0,
         "project": false,
         "protection": 0,
         "provider": "verticallife",
         "rating": null,
         "recommended": false,
         "reference_width": 971,
         "repeat": false,
         "repeats": 0,
         "route_card_label": "A8.",
         "route_setter": "Benjamin Schlobohm",
         "safety_issues": null,
         "score": 503,
         "sector_id": 219,
         "sector_name": "Bouldering",
         "set_at": {},
         "shade": null,
         "share_url": "https://zlag.vertical-life.info/en/routes/c52048f1c019661d154b560657939abb",
         "sit_down_start": null,
         "sits": 0,
         "stats": {
          "b": 0,
          "c": 0,
          "comment_count": 0,
          "e": 0,
          "f": 0,
          "flash": 9,
          "go": 0,
          "hard_count": 0,
          "onsight": 0,
          "overhanging": 0,
          "rating": 3.7,
          "ratings_count": 3,
          "redpoint": 5,
          "roof": 0,
          "s": 0,
          "safety": 2,
          "safety_issues_count": {
           "1": 0,
           "2": 0,
           "4": 0,
           "8": 0,
           "16": 0,
           "32": 0,
           "64": 0
          },
          "slab": 0,
          "soft_count": 0,
          "t": 0,
          "toprope": 0,
          "vertical": 0,
          "video_count": 0,
          "zlag_count": 14,
          "zlaggable_height_count": {
           "1": 0,
           "2": 0,
           "4": 0,
           "8": 0,
           "16": 0,
           "32": 0
          }
         },
         "steepness": 0,
         "steepness_right": 7,
         "style": "",
         "style_right": null,
         "sub_type": "",
         "topo": "5c34763248de2c434a96e3fd1bd72118",
         "topo_num": "41798.8.",
         "traverse": false,
         "tries": 1,
         "two_start_holds": null,
         "type": "flash",
         "updated_at": {},
         "updated_at_right": "2022-05-02 08:36:41 +0000",
         "user_id": 230474,
         "virtual": false,
         "virtual_right": false,
         "vl_ascendable_id": null,
         "vl_id": 4404729,
         "vl_parent_id": null,
         "vl_user_id": 286128,
         "year": 2022
        },
        {
         "archived": true,
         "archived_at": null,
         "ascendable_filter": null,
         "ascendable_height": null,
         "ascendable_id": 321167,
         "ascendable_name": "Dark Green",
         "ascendable_type": "GymBoulder",
         "color_1": "#008000",
         "color_2": null,
         "comment": null,
         "created_at": {},
         "created_at_right": "2022-02-17 16:22:37 +0000",
         "date": "2022-03-27 12:00:00 +0000",
         "difficulty": "4",
         "difficulty_right": "4",
         "display_route_setter": true,
         "eight_a_ascendable_id": null,
         "eight_a_id": null,
         "eight_a_logbook": false,
         "eight_a_parent_id": null,
         "eight_a_user_id": 133113,
         "expiration_date": null,
         "exposition": null,
         "features": null,
         "gallery": [],
         "grade": "vl-7",
         "grade_proposals": [
          [
           "vl-1",
           "2"
          ],
          [
           "vl-2",
           "2+"
          ],
          [
           "vl-3",
           "3-"
          ],
          [
           "vl-4",
           "3"
          ],
          [
           "vl-5",
           "3+"
          ],
          [
           "vl-6",
           "4-"
          ],
          [
           "vl-7",
           "4"
          ],
          [
           "vl-8",
           "4+"
          ],
          [
           "vl-9",
           "5-"
          ],
          [
           "vl-12",
           "5"
          ],
          [
           "vl-14",
           "5+"
          ],
          [
           "vl-16",
           "6A"
          ],
          [
           "vl-17",
           "6A+"
          ],
          [
           "vl-18",
           "6B"
          ],
          [
           "vl-19",
           "6B+"
          ],
          [
           "vl-21",
           "6C"
          ],
          [
           "vl-22",
           "6C+"
          ],
          [
           "vl-23",
           "7A"
          ],
          [
           "vl-24",
           "7A+"
          ],
          [
           "vl-25",
           "7B"
          ],
          [
           "vl-26",
           "7B+"
          ],
          [
           "vl-27",
           "7C"
          ],
          [
           "vl-28",
           "7C+"
          ],
          [
           "vl-29",
           "8A"
          ],
          [
           "vl-30",
           "8A+"
          ],
          [
           "vl-31",
           "8B"
          ],
          [
           "vl-32",
           "8B+"
          ],
          [
           "vl-33",
           "8C"
          ],
          [
           "vl-34",
           "8C+"
          ]
         ],
         "grade_right": "vl-7",
         "grading_system": "font",
         "grading_system_right": "font",
         "gym": {
          "ascent_count": 55969,
          "boulder_count": 131,
          "bouldering_grading_system": "font",
          "categories": 24,
          "country": "Sweden",
          "cover": "f85eaa2db48218e30ff6f8fe4197df56",
          "created_at": "2018-06-21 09:50:35 +0000",
          "difficulties": {
           "vl-1": 0,
           "vl-10": 0,
           "vl-11": 0,
           "vl-12": 2,
           "vl-13": 0,
           "vl-14": 11,
           "vl-15": 0,
           "vl-16": 11,
           "vl-17": 9,
           "vl-18": 9,
           "vl-19": 8,
           "vl-2": 0,
           "vl-20": 0,
           "vl-21": 10,
           "vl-22": 5,
           "vl-23": 6,
           "vl-24": 4,
           "vl-25": 4,
           "vl-26": 2,
           "vl-27": 3,
           "vl-28": 2,
           "vl-29": 1,
           "vl-3": 0,
           "vl-30": 1,
           "vl-31": 0,
           "vl-32": 0,
           "vl-33": 0,
           "vl-34": 0,
           "vl-35": 0,
           "vl-36": 0,
           "vl-37": 0,
           "vl-38": 0,
           "vl-39": 0,
           "vl-4": 0,
           "vl-5": 0,
           "vl-6": 5,
           "vl-7": 4,
           "vl-8": 4,
           "vl-9": 7
          },
          "difficulties_bouldering": {
           "vl-1": 0,
           "vl-10": 0,
           "vl-11": 0,
           "vl-12": 8,
           "vl-13": 0,
           "vl-14": 5,
           "vl-15": 0,
           "vl-16": 9,
           "vl-17": 8,
           "vl-18": 7,
           "vl-19": 12,
           "vl-2": 0,
           "vl-20": 0,
           "vl-21": 13,
           "vl-22": 9,
           "vl-23": 9,
           "vl-24": 7,
           "vl-25": 8,
           "vl-26": 6,
           "vl-27": 6,
           "vl-28": 4,
           "vl-29": 4,
           "vl-3": 0,
           "vl-30": 1,
           "vl-31": 0,
           "vl-32": 0,
           "vl-33": 0,
           "vl-34": 0,
           "vl-4": 2,
           "vl-5": 3,
           "vl-6": 0,
           "vl-7": 5,
           "vl-8": 5,
           "vl-9": 0
          },
          "elegible_for_boulder_training": true,
          "gym_status": {
           "checkins_enabled": false,
           "temporarily_closed": false
          },
          "id": 69,
          "item_type": "gym",
          "latitude": 59.3569,
          "logo": "ce68d672c98919d65f4311f9c9d9bb47",
          "longitude": 18.0162,
          "name": "Klättercentret Solna",
          "published": true,
          "published_at": "2018-08-31 07:00:00 +0000",
          "route_count": 108,
          "share_url": "https://zlag.vertical-life.info/en/gyms/klattercentret-solna",
          "sponsor_logo": null,
          "sportclimbing_grading_system": "french",
          "town": "Solna",
          "updated_at": "2019-12-04 08:30:11 +0000",
          "virtual": false
         },
         "gym_id": 69,
         "gym_wall_id": 733,
         "gym_wall_name": "A Sektionen",
         "height": 4,
         "hold_color": null,
         "hold_manufacturer": null,
         "id": 4463426,
         "id_right": 321167,
         "item_type": "gym_boulder",
         "line_number": 6,
         "name": "Dark Green",
         "notes": null,
         "numberDifficulty": 36,
         "parent_id": 69,
         "parent_name": "Klättercentret Solna",
         "parent_name_right": "Bouldering, A Sektionen",
         "path": null,
         "path_right": [
          [
           475,
           188
          ],
          [
           538,
           302
          ],
          [
           466,
           472
          ],
          [
           465,
           507
          ],
          [
           524,
           501
          ],
          [
           756,
           526
          ],
          [
           755,
           487
          ],
          [
           738,
           372
          ],
          [
           715,
           177
          ],
          [
           624,
           177
          ],
          [
           476,
           188
          ]
         ],
         "perceived_hardness": 0,
         "project": false,
         "protection": 0,
         "provider": "verticallife",
         "rating": null,
         "recommended": false,
         "reference_width": 971,
         "repeat": false,
         "repeats": 0,
         "route_card_label": "A6.",
         "route_setter": "Robert  Rundin ",
         "safety_issues": null,
         "score": 103,
         "sector_id": 219,
         "sector_name": "Bouldering",
         "set_at": {},
         "shade": null,
         "share_url": "https://zlag.vertical-life.info/en/routes/0c4b209215991dac15a0bc7f1729141c",
         "sit_down_start": null,
         "sits": 0,
         "stats": {
          "b": 0,
          "c": 0,
          "comment_count": 0,
          "e": 0,
          "f": 0,
          "flash": 8,
          "go": 0,
          "hard_count": 0,
          "onsight": 0,
          "overhanging": 0,
          "rating": 3.5,
          "ratings_count": 2,
          "redpoint": 3,
          "roof": 0,
          "s": 0,
          "safety": 2,
          "safety_issues_count": {
           "1": 0,
           "2": 0,
           "4": 0,
           "8": 0,
           "16": 0,
           "32": 0,
           "64": 0
          },
          "slab": 0,
          "soft_count": 0,
          "t": 0,
          "toprope": 0,
          "vertical": 0,
          "video_count": 0,
          "zlag_count": 11,
          "zlaggable_height_count": {
           "1": 0,
           "2": 0,
           "4": 0,
           "8": 0,
           "16": 0,
           "32": 0
          }
         },
         "steepness": 0,
         "steepness_right": 7,
         "style": "",
         "style_right": null,
         "sub_type": "",
         "topo": "5c34763248de2c434a96e3fd1bd72118",
         "topo_num": "41798.6.",
         "traverse": false,
         "tries": 1,
         "two_start_holds": null,
         "type": "flash",
         "updated_at": {},
         "updated_at_right": "2022-05-02 08:36:39 +0000",
         "user_id": 230474,
         "virtual": false,
         "virtual_right": false,
         "vl_ascendable_id": null,
         "vl_id": 4404741,
         "vl_parent_id": null,
         "vl_user_id": 286128,
         "year": 2022
        },
        {
         "archived": true,
         "archived_at": null,
         "ascendable_filter": null,
         "ascendable_height": null,
         "ascendable_id": 323147,
         "ascendable_name": "Green",
         "ascendable_type": "GymBoulder",
         "color_1": "#32cd32",
         "color_2": null,
         "comment": null,
         "created_at": {},
         "created_at_right": "2022-02-24 15:47:37 +0000",
         "date": "2022-03-27 12:00:00 +0000",
         "difficulty": "6A",
         "difficulty_right": "6A",
         "display_route_setter": true,
         "eight_a_ascendable_id": null,
         "eight_a_id": null,
         "eight_a_logbook": false,
         "eight_a_parent_id": null,
         "eight_a_user_id": 133113,
         "expiration_date": null,
         "exposition": null,
         "features": null,
         "gallery": [],
         "grade": "vl-16",
         "grade_proposals": [
          [
           "vl-1",
           "2"
          ],
          [
           "vl-2",
           "2+"
          ],
          [
           "vl-3",
           "3-"
          ],
          [
           "vl-4",
           "3"
          ],
          [
           "vl-5",
           "3+"
          ],
          [
           "vl-6",
           "4-"
          ],
          [
           "vl-7",
           "4"
          ],
          [
           "vl-8",
           "4+"
          ],
          [
           "vl-9",
           "5-"
          ],
          [
           "vl-12",
           "5"
          ],
          [
           "vl-14",
           "5+"
          ],
          [
           "vl-16",
           "6A"
          ],
          [
           "vl-17",
           "6A+"
          ],
          [
           "vl-18",
           "6B"
          ],
          [
           "vl-19",
           "6B+"
          ],
          [
           "vl-21",
           "6C"
          ],
          [
           "vl-22",
           "6C+"
          ],
          [
           "vl-23",
           "7A"
          ],
          [
           "vl-24",
           "7A+"
          ],
          [
           "vl-25",
           "7B"
          ],
          [
           "vl-26",
           "7B+"
          ],
          [
           "vl-27",
           "7C"
          ],
          [
           "vl-28",
           "7C+"
          ],
          [
           "vl-29",
           "8A"
          ],
          [
           "vl-30",
           "8A+"
          ],
          [
           "vl-31",
           "8B"
          ],
          [
           "vl-32",
           "8B+"
          ],
          [
           "vl-33",
           "8C"
          ],
          [
           "vl-34",
           "8C+"
          ]
         ],
         "grade_right": "vl-16",
         "grading_system": "font",
         "grading_system_right": "font",
         "gym": {
          "ascent_count": 55969,
          "boulder_count": 131,
          "bouldering_grading_system": "font",
          "categories": 24,
          "country": "Sweden",
          "cover": "f85eaa2db48218e30ff6f8fe4197df56",
          "created_at": "2018-06-21 09:50:35 +0000",
          "difficulties": {
           "vl-1": 0,
           "vl-10": 0,
           "vl-11": 0,
           "vl-12": 2,
           "vl-13": 0,
           "vl-14": 11,
           "vl-15": 0,
           "vl-16": 11,
           "vl-17": 9,
           "vl-18": 9,
           "vl-19": 8,
           "vl-2": 0,
           "vl-20": 0,
           "vl-21": 10,
           "vl-22": 5,
           "vl-23": 6,
           "vl-24": 4,
           "vl-25": 4,
           "vl-26": 2,
           "vl-27": 3,
           "vl-28": 2,
           "vl-29": 1,
           "vl-3": 0,
           "vl-30": 1,
           "vl-31": 0,
           "vl-32": 0,
           "vl-33": 0,
           "vl-34": 0,
           "vl-35": 0,
           "vl-36": 0,
           "vl-37": 0,
           "vl-38": 0,
           "vl-39": 0,
           "vl-4": 0,
           "vl-5": 0,
           "vl-6": 5,
           "vl-7": 4,
           "vl-8": 4,
           "vl-9": 7
          },
          "difficulties_bouldering": {
           "vl-1": 0,
           "vl-10": 0,
           "vl-11": 0,
           "vl-12": 8,
           "vl-13": 0,
           "vl-14": 5,
           "vl-15": 0,
           "vl-16": 9,
           "vl-17": 8,
           "vl-18": 7,
           "vl-19": 12,
           "vl-2": 0,
           "vl-20": 0,
           "vl-21": 13,
           "vl-22": 9,
           "vl-23": 9,
           "vl-24": 7,
           "vl-25": 8,
           "vl-26": 6,
           "vl-27": 6,
           "vl-28": 4,
           "vl-29": 4,
           "vl-3": 0,
           "vl-30": 1,
           "vl-31": 0,
           "vl-32": 0,
           "vl-33": 0,
           "vl-34": 0,
           "vl-4": 2,
           "vl-5": 3,
           "vl-6": 0,
           "vl-7": 5,
           "vl-8": 5,
           "vl-9": 0
          },
          "elegible_for_boulder_training": true,
          "gym_status": {
           "checkins_enabled": false,
           "temporarily_closed": false
          },
          "id": 69,
          "item_type": "gym",
          "latitude": 59.3569,
          "logo": "ce68d672c98919d65f4311f9c9d9bb47",
          "longitude": 18.0162,
          "name": "Klättercentret Solna",
          "published": true,
          "published_at": "2018-08-31 07:00:00 +0000",
          "route_count": 108,
          "share_url": "https://zlag.vertical-life.info/en/gyms/klattercentret-solna",
          "sponsor_logo": null,
          "sportclimbing_grading_system": "french",
          "town": "Solna",
          "updated_at": "2019-12-04 08:30:11 +0000",
          "virtual": false
         },
         "gym_id": 69,
         "gym_wall_id": 733,
         "gym_wall_name": "A Sektionen",
         "height": 4,
         "hold_color": null,
         "hold_manufacturer": null,
         "id": 4463302,
         "id_right": 323147,
         "item_type": "gym_boulder",
         "line_number": 8,
         "name": "Green",
         "notes": null,
         "numberDifficulty": 60,
         "parent_id": 69,
         "parent_name": "Klättercentret Solna",
         "parent_name_right": "Bouldering, A Sektionen",
         "path": null,
         "path_right": [
          [
           31,
           186
          ],
          [
           17,
           521
          ],
          [
           142,
           506
          ],
          [
           268,
           496
          ],
          [
           335,
           500
          ],
          [
           336,
           420
          ],
          [
           335,
           392
          ],
          [
           327,
           340
          ],
          [
           346,
           253
          ],
          [
           312,
           177
          ],
          [
           217,
           180
          ],
          [
           86,
           191
          ],
          [
           31,
           187
          ]
         ],
         "perceived_hardness": 0,
         "project": false,
         "protection": 0,
         "provider": "verticallife",
         "rating": null,
         "recommended": false,
         "reference_width": 971,
         "repeat": false,
         "repeats": 0,
         "route_card_label": "A8.",
         "route_setter": "Benjamin Schlobohm",
         "safety_issues": null,
         "score": 453,
         "sector_id": 219,
         "sector_name": "Bouldering",
         "set_at": {},
         "shade": null,
         "share_url": "https://zlag.vertical-life.info/en/routes/faed8c22f9907b573c09f0757d0f7d03",
         "sit_down_start": null,
         "sits": 0,
         "stats": {
          "b": 0,
          "c": 0,
          "comment_count": 0,
          "e": 0,
          "f": 0,
          "flash": 11,
          "go": 0,
          "hard_count": 0,
          "onsight": 0,
          "overhanging": 0,
          "rating": 2,
          "ratings_count": 1,
          "redpoint": 3,
          "roof": 0,
          "s": 0,
          "safety": 2,
          "safety_issues_count": {
           "1": 0,
           "2": 0,
           "4": 0,
           "8": 0,
           "16": 0,
           "32": 0,
           "64": 0
          },
          "slab": 0,
          "soft_count": 0,
          "t": 0,
          "toprope": 0,
          "vertical": 0,
          "video_count": 0,
          "zlag_count": 14,
          "zlaggable_height_count": {
           "1": 0,
           "2": 0,
           "4": 0,
           "8": 0,
           "16": 0,
           "32": 0
          }
         },
         "steepness": 0,
         "steepness_right": 7,
         "style": "",
         "style_right": null,
         "sub_type": "",
         "topo": "5c34763248de2c434a96e3fd1bd72118",
         "topo_num": "41798.8.",
         "traverse": false,
         "tries": 1,
         "two_start_holds": null,
         "type": "flash",
         "updated_at": {},
         "updated_at_right": "2022-05-09 07:22:11 +0000",
         "user_id": 230474,
         "virtual": false,
         "virtual_right": false,
         "vl_ascendable_id": null,
         "vl_id": 4404772,
         "vl_parent_id": null,
         "vl_user_id": 286128,
         "year": 2022
        },
        {
         "archived": true,
         "archived_at": null,
         "ascendable_filter": null,
         "ascendable_height": null,
         "ascendable_id": 325326,
         "ascendable_name": "White",
         "ascendable_type": "GymBoulder",
         "color_1": "#FFFFFF",
         "color_2": null,
         "comment": null,
         "created_at": {},
         "created_at_right": "2022-03-03 15:59:21 +0000",
         "date": "2022-03-27 12:00:00 +0000",
         "difficulty": "5+",
         "difficulty_right": "5+",
         "display_route_setter": true,
         "eight_a_ascendable_id": null,
         "eight_a_id": null,
         "eight_a_logbook": false,
         "eight_a_parent_id": null,
         "eight_a_user_id": 133113,
         "expiration_date": null,
         "exposition": null,
         "features": null,
         "gallery": [],
         "grade": "vl-14",
         "grade_proposals": [
          [
           "vl-1",
           "2"
          ],
          [
           "vl-2",
           "2+"
          ],
          [
           "vl-3",
           "3-"
          ],
          [
           "vl-4",
           "3"
          ],
          [
           "vl-5",
           "3+"
          ],
          [
           "vl-6",
           "4-"
          ],
          [
           "vl-7",
           "4"
          ],
          [
           "vl-8",
           "4+"
          ],
          [
           "vl-9",
           "5-"
          ],
          [
           "vl-12",
           "5"
          ],
          [
           "vl-14",
           "5+"
          ],
          [
           "vl-16",
           "6A"
          ],
          [
           "vl-17",
           "6A+"
          ],
          [
           "vl-18",
           "6B"
          ],
          [
           "vl-19",
           "6B+"
          ],
          [
           "vl-21",
           "6C"
          ],
          [
           "vl-22",
           "6C+"
          ],
          [
           "vl-23",
           "7A"
          ],
          [
           "vl-24",
           "7A+"
          ],
          [
           "vl-25",
           "7B"
          ],
          [
           "vl-26",
           "7B+"
          ],
          [
           "vl-27",
           "7C"
          ],
          [
           "vl-28",
           "7C+"
          ],
          [
           "vl-29",
           "8A"
          ],
          [
           "vl-30",
           "8A+"
          ],
          [
           "vl-31",
           "8B"
          ],
          [
           "vl-32",
           "8B+"
          ],
          [
           "vl-33",
           "8C"
          ],
          [
           "vl-34",
           "8C+"
          ]
         ],
         "grade_right": "vl-14",
         "grading_system": "font",
         "grading_system_right": "font",
         "gym": {
          "ascent_count": 55969,
          "boulder_count": 131,
          "bouldering_grading_system": "font",
          "categories": 24,
          "country": "Sweden",
          "cover": "f85eaa2db48218e30ff6f8fe4197df56",
          "created_at": "2018-06-21 09:50:35 +0000",
          "difficulties": {
           "vl-1": 0,
           "vl-10": 0,
           "vl-11": 0,
           "vl-12": 2,
           "vl-13": 0,
           "vl-14": 11,
           "vl-15": 0,
           "vl-16": 11,
           "vl-17": 9,
           "vl-18": 9,
           "vl-19": 8,
           "vl-2": 0,
           "vl-20": 0,
           "vl-21": 10,
           "vl-22": 5,
           "vl-23": 6,
           "vl-24": 4,
           "vl-25": 4,
           "vl-26": 2,
           "vl-27": 3,
           "vl-28": 2,
           "vl-29": 1,
           "vl-3": 0,
           "vl-30": 1,
           "vl-31": 0,
           "vl-32": 0,
           "vl-33": 0,
           "vl-34": 0,
           "vl-35": 0,
           "vl-36": 0,
           "vl-37": 0,
           "vl-38": 0,
           "vl-39": 0,
           "vl-4": 0,
           "vl-5": 0,
           "vl-6": 5,
           "vl-7": 4,
           "vl-8": 4,
           "vl-9": 7
          },
          "difficulties_bouldering": {
           "vl-1": 0,
           "vl-10": 0,
           "vl-11": 0,
           "vl-12": 8,
           "vl-13": 0,
           "vl-14": 5,
           "vl-15": 0,
           "vl-16": 9,
           "vl-17": 8,
           "vl-18": 7,
           "vl-19": 12,
           "vl-2": 0,
           "vl-20": 0,
           "vl-21": 13,
           "vl-22": 9,
           "vl-23": 9,
           "vl-24": 7,
           "vl-25": 8,
           "vl-26": 6,
           "vl-27": 6,
           "vl-28": 4,
           "vl-29": 4,
           "vl-3": 0,
           "vl-30": 1,
           "vl-31": 0,
           "vl-32": 0,
           "vl-33": 0,
           "vl-34": 0,
           "vl-4": 2,
           "vl-5": 3,
           "vl-6": 0,
           "vl-7": 5,
           "vl-8": 5,
           "vl-9": 0
          },
          "elegible_for_boulder_training": true,
          "gym_status": {
           "checkins_enabled": false,
           "temporarily_closed": false
          },
          "id": 69,
          "item_type": "gym",
          "latitude": 59.3569,
          "logo": "ce68d672c98919d65f4311f9c9d9bb47",
          "longitude": 18.0162,
          "name": "Klättercentret Solna",
          "published": true,
          "published_at": "2018-08-31 07:00:00 +0000",
          "route_count": 108,
          "share_url": "https://zlag.vertical-life.info/en/gyms/klattercentret-solna",
          "sponsor_logo": null,
          "sportclimbing_grading_system": "french",
          "town": "Solna",
          "updated_at": "2019-12-04 08:30:11 +0000",
          "virtual": false
         },
         "gym_id": 69,
         "gym_wall_id": 733,
         "gym_wall_name": "A Sektionen",
         "height": 4,
         "hold_color": null,
         "hold_manufacturer": null,
         "id": 4652269,
         "id_right": 325326,
         "item_type": "gym_boulder",
         "line_number": 8,
         "name": "White",
         "notes": null,
         "numberDifficulty": 54,
         "parent_id": 69,
         "parent_name": "Klättercentret Solna",
         "parent_name_right": "Bouldering, A Sektionen",
         "path": null,
         "path_right": [
          [
           31,
           186
          ],
          [
           17,
           521
          ],
          [
           142,
           506
          ],
          [
           268,
           496
          ],
          [
           335,
           500
          ],
          [
           336,
           420
          ],
          [
           335,
           392
          ],
          [
           327,
           340
          ],
          [
           346,
           253
          ],
          [
           312,
           177
          ],
          [
           217,
           180
          ],
          [
           86,
           191
          ],
          [
           31,
           187
          ]
         ],
         "perceived_hardness": 0,
         "project": false,
         "protection": 0,
         "provider": "verticallife",
         "rating": null,
         "recommended": false,
         "reference_width": 971,
         "repeat": false,
         "repeats": 0,
         "route_card_label": "A8.",
         "route_setter": "N.N.",
         "safety_issues": null,
         "score": 353,
         "sector_id": 219,
         "sector_name": "Bouldering",
         "set_at": {},
         "shade": null,
         "share_url": "https://zlag.vertical-life.info/en/routes/60a7e2b1e7f4521a549bdce0d17d6c15",
         "sit_down_start": null,
         "sits": 0,
         "stats": {
          "b": 0,
          "c": 0,
          "comment_count": 0,
          "e": 0,
          "f": 0,
          "flash": 11,
          "go": 0,
          "hard_count": 0,
          "onsight": 0,
          "overhanging": 0,
          "rating": 4,
          "ratings_count": 1,
          "redpoint": 1,
          "roof": 0,
          "s": 0,
          "safety": 2,
          "safety_issues_count": {
           "1": 0,
           "2": 0,
           "4": 0,
           "8": 0,
           "16": 0,
           "32": 0,
           "64": 0
          },
          "slab": 0,
          "soft_count": 0,
          "t": 0,
          "toprope": 0,
          "vertical": 0,
          "video_count": 0,
          "zlag_count": 12,
          "zlaggable_height_count": {
           "1": 0,
           "2": 0,
           "4": 0,
           "8": 0,
           "16": 0,
           "32": 0
          }
         },
         "steepness": 0,
         "steepness_right": 7,
         "style": "",
         "style_right": null,
         "sub_type": "",
         "topo": "5c34763248de2c434a96e3fd1bd72118",
         "topo_num": "41798.8.",
         "traverse": false,
         "tries": 1,
         "two_start_holds": null,
         "type": "flash",
         "updated_at": {},
         "updated_at_right": "2022-05-09 07:22:15 +0000",
         "user_id": 230474,
         "virtual": false,
         "virtual_right": false,
         "vl_ascendable_id": null,
         "vl_id": 4404871,
         "vl_parent_id": null,
         "vl_user_id": 286128,
         "year": 2022
        },
        {
         "archived": true,
         "archived_at": null,
         "ascendable_filter": null,
         "ascendable_height": null,
         "ascendable_id": 326084,
         "ascendable_name": "Orange",
         "ascendable_type": "GymBoulder",
         "color_1": "#ffa500",
         "color_2": null,
         "comment": null,
         "created_at": {},
         "created_at_right": "2022-03-07 22:42:59 +0000",
         "date": "2022-03-27 12:00:00 +0000",
         "difficulty": "5+",
         "difficulty_right": "5+",
         "display_route_setter": true,
         "eight_a_ascendable_id": null,
         "eight_a_id": null,
         "eight_a_logbook": false,
         "eight_a_parent_id": null,
         "eight_a_user_id": 133113,
         "expiration_date": null,
         "exposition": null,
         "features": null,
         "gallery": [],
         "grade": "vl-14",
         "grade_proposals": [
          [
           "vl-1",
           "2"
          ],
          [
           "vl-2",
           "2+"
          ],
          [
           "vl-3",
           "3-"
          ],
          [
           "vl-4",
           "3"
          ],
          [
           "vl-5",
           "3+"
          ],
          [
           "vl-6",
           "4-"
          ],
          [
           "vl-7",
           "4"
          ],
          [
           "vl-8",
           "4+"
          ],
          [
           "vl-9",
           "5-"
          ],
          [
           "vl-12",
           "5"
          ],
          [
           "vl-14",
           "5+"
          ],
          [
           "vl-16",
           "6A"
          ],
          [
           "vl-17",
           "6A+"
          ],
          [
           "vl-18",
           "6B"
          ],
          [
           "vl-19",
           "6B+"
          ],
          [
           "vl-21",
           "6C"
          ],
          [
           "vl-22",
           "6C+"
          ],
          [
           "vl-23",
           "7A"
          ],
          [
           "vl-24",
           "7A+"
          ],
          [
           "vl-25",
           "7B"
          ],
          [
           "vl-26",
           "7B+"
          ],
          [
           "vl-27",
           "7C"
          ],
          [
           "vl-28",
           "7C+"
          ],
          [
           "vl-29",
           "8A"
          ],
          [
           "vl-30",
           "8A+"
          ],
          [
           "vl-31",
           "8B"
          ],
          [
           "vl-32",
           "8B+"
          ],
          [
           "vl-33",
           "8C"
          ],
          [
           "vl-34",
           "8C+"
          ]
         ],
         "grade_right": "vl-14",
         "grading_system": "font",
         "grading_system_right": "font",
         "gym": {
          "ascent_count": 55969,
          "boulder_count": 131,
          "bouldering_grading_system": "font",
          "categories": 24,
          "country": "Sweden",
          "cover": "f85eaa2db48218e30ff6f8fe4197df56",
          "created_at": "2018-06-21 09:50:35 +0000",
          "difficulties": {
           "vl-1": 0,
           "vl-10": 0,
           "vl-11": 0,
           "vl-12": 2,
           "vl-13": 0,
           "vl-14": 11,
           "vl-15": 0,
           "vl-16": 11,
           "vl-17": 9,
           "vl-18": 9,
           "vl-19": 8,
           "vl-2": 0,
           "vl-20": 0,
           "vl-21": 10,
           "vl-22": 5,
           "vl-23": 6,
           "vl-24": 4,
           "vl-25": 4,
           "vl-26": 2,
           "vl-27": 3,
           "vl-28": 2,
           "vl-29": 1,
           "vl-3": 0,
           "vl-30": 1,
           "vl-31": 0,
           "vl-32": 0,
           "vl-33": 0,
           "vl-34": 0,
           "vl-35": 0,
           "vl-36": 0,
           "vl-37": 0,
           "vl-38": 0,
           "vl-39": 0,
           "vl-4": 0,
           "vl-5": 0,
           "vl-6": 5,
           "vl-7": 4,
           "vl-8": 4,
           "vl-9": 7
          },
          "difficulties_bouldering": {
           "vl-1": 0,
           "vl-10": 0,
           "vl-11": 0,
           "vl-12": 8,
           "vl-13": 0,
           "vl-14": 5,
           "vl-15": 0,
           "vl-16": 9,
           "vl-17": 8,
           "vl-18": 7,
           "vl-19": 12,
           "vl-2": 0,
           "vl-20": 0,
           "vl-21": 13,
           "vl-22": 9,
           "vl-23": 9,
           "vl-24": 7,
           "vl-25": 8,
           "vl-26": 6,
           "vl-27": 6,
           "vl-28": 4,
           "vl-29": 4,
           "vl-3": 0,
           "vl-30": 1,
           "vl-31": 0,
           "vl-32": 0,
           "vl-33": 0,
           "vl-34": 0,
           "vl-4": 2,
           "vl-5": 3,
           "vl-6": 0,
           "vl-7": 5,
           "vl-8": 5,
           "vl-9": 0
          },
          "elegible_for_boulder_training": true,
          "gym_status": {
           "checkins_enabled": false,
           "temporarily_closed": false
          },
          "id": 69,
          "item_type": "gym",
          "latitude": 59.3569,
          "logo": "ce68d672c98919d65f4311f9c9d9bb47",
          "longitude": 18.0162,
          "name": "Klättercentret Solna",
          "published": true,
          "published_at": "2018-08-31 07:00:00 +0000",
          "route_count": 108,
          "share_url": "https://zlag.vertical-life.info/en/gyms/klattercentret-solna",
          "sponsor_logo": null,
          "sportclimbing_grading_system": "french",
          "town": "Solna",
          "updated_at": "2019-12-04 08:30:11 +0000",
          "virtual": false
         },
         "gym_id": 69,
         "gym_wall_id": 733,
         "gym_wall_name": "A Sektionen",
         "height": 4,
         "hold_color": null,
         "hold_manufacturer": null,
         "id": 3975092,
         "id_right": 326084,
         "item_type": "gym_boulder",
         "line_number": 4,
         "name": "Orange",
         "notes": null,
         "numberDifficulty": 54,
         "parent_id": 69,
         "parent_name": "Klättercentret Solna",
         "parent_name_right": "Bouldering, A Sektionen",
         "path": null,
         "path_right": [
          [
           513,
           71
          ],
          [
           513,
           587
          ],
          [
           513,
           650
          ],
          [
           879,
           639
          ],
          [
           878,
           580
          ],
          [
           919,
           108
          ],
          [
           514,
           70
          ]
         ],
         "perceived_hardness": 0,
         "project": false,
         "protection": 0,
         "provider": "verticallife",
         "rating": null,
         "recommended": false,
         "reference_width": 971,
         "repeat": false,
         "repeats": 0,
         "route_card_label": "A4.",
         "route_setter": "Benjamin Schlobohm",
         "safety_issues": null,
         "score": 353,
         "sector_id": 219,
         "sector_name": "Bouldering",
         "set_at": {},
         "shade": null,
         "share_url": "https://zlag.vertical-life.info/en/routes/c6cd1c8cdda83e16da67cc0b92d4409a",
         "sit_down_start": null,
         "sits": 0,
         "stats": {
          "b": 0,
          "c": 0,
          "comment_count": 0,
          "e": 0,
          "f": 0,
          "flash": 8,
          "go": 0,
          "hard_count": 0,
          "onsight": 0,
          "overhanging": 0,
          "rating": 5,
          "ratings_count": 1,
          "redpoint": 1,
          "roof": 0,
          "s": 0,
          "safety": 0,
          "safety_issues_count": {
           "1": 0,
           "2": 0,
           "4": 0,
           "8": 0,
           "16": 0,
           "32": 0,
           "64": 0
          },
          "slab": 0,
          "soft_count": 1,
          "t": 0,
          "toprope": 0,
          "vertical": 0,
          "video_count": 0,
          "zlag_count": 9,
          "zlaggable_height_count": {
           "1": 0,
           "2": 0,
           "4": 0,
           "8": 0,
           "16": 0,
           "32": 0
          }
         },
         "steepness": 0,
         "steepness_right": 7,
         "style": "a",
         "style_right": "a",
         "sub_type": "",
         "topo": "9ba3d48c8e121f154d4f49754e525ba8",
         "topo_num": "41799.4.",
         "traverse": false,
         "tries": 1,
         "two_start_holds": null,
         "type": "flash",
         "updated_at": {},
         "updated_at_right": "2022-05-19 14:29:17 +0000",
         "user_id": 230474,
         "virtual": false,
         "virtual_right": false,
         "vl_ascendable_id": null,
         "vl_id": 4404903,
         "vl_parent_id": null,
         "vl_user_id": 286128,
         "year": 2022
        },
        {
         "archived": true,
         "archived_at": null,
         "ascendable_filter": null,
         "ascendable_height": null,
         "ascendable_id": 324569,
         "ascendable_name": "Turquoise",
         "ascendable_type": "GymBoulder",
         "color_1": "#87ccc6",
         "color_2": null,
         "comment": null,
         "created_at": {},
         "created_at_right": "2022-03-02 10:14:44 +0000",
         "date": "2022-03-27 12:00:00 +0000",
         "difficulty": "5",
         "difficulty_right": "5",
         "display_route_setter": true,
         "eight_a_ascendable_id": null,
         "eight_a_id": null,
         "eight_a_logbook": false,
         "eight_a_parent_id": null,
         "eight_a_user_id": 133113,
         "expiration_date": null,
         "exposition": null,
         "features": null,
         "gallery": [],
         "grade": "vl-12",
         "grade_proposals": [
          [
           "vl-1",
           "2"
          ],
          [
           "vl-2",
           "2+"
          ],
          [
           "vl-3",
           "3-"
          ],
          [
           "vl-4",
           "3"
          ],
          [
           "vl-5",
           "3+"
          ],
          [
           "vl-6",
           "4-"
          ],
          [
           "vl-7",
           "4"
          ],
          [
           "vl-8",
           "4+"
          ],
          [
           "vl-9",
           "5-"
          ],
          [
           "vl-12",
           "5"
          ],
          [
           "vl-14",
           "5+"
          ],
          [
           "vl-16",
           "6A"
          ],
          [
           "vl-17",
           "6A+"
          ],
          [
           "vl-18",
           "6B"
          ],
          [
           "vl-19",
           "6B+"
          ],
          [
           "vl-21",
           "6C"
          ],
          [
           "vl-22",
           "6C+"
          ],
          [
           "vl-23",
           "7A"
          ],
          [
           "vl-24",
           "7A+"
          ],
          [
           "vl-25",
           "7B"
          ],
          [
           "vl-26",
           "7B+"
          ],
          [
           "vl-27",
           "7C"
          ],
          [
           "vl-28",
           "7C+"
          ],
          [
           "vl-29",
           "8A"
          ],
          [
           "vl-30",
           "8A+"
          ],
          [
           "vl-31",
           "8B"
          ],
          [
           "vl-32",
           "8B+"
          ],
          [
           "vl-33",
           "8C"
          ],
          [
           "vl-34",
           "8C+"
          ]
         ],
         "grade_right": "vl-12",
         "grading_system": "font",
         "grading_system_right": "font",
         "gym": {
          "ascent_count": 55969,
          "boulder_count": 131,
          "bouldering_grading_system": "font",
          "categories": 24,
          "country": "Sweden",
          "cover": "f85eaa2db48218e30ff6f8fe4197df56",
          "created_at": "2018-06-21 09:50:35 +0000",
          "difficulties": {
           "vl-1": 0,
           "vl-10": 0,
           "vl-11": 0,
           "vl-12": 2,
           "vl-13": 0,
           "vl-14": 11,
           "vl-15": 0,
           "vl-16": 11,
           "vl-17": 9,
           "vl-18": 9,
           "vl-19": 8,
           "vl-2": 0,
           "vl-20": 0,
           "vl-21": 10,
           "vl-22": 5,
           "vl-23": 6,
           "vl-24": 4,
           "vl-25": 4,
           "vl-26": 2,
           "vl-27": 3,
           "vl-28": 2,
           "vl-29": 1,
           "vl-3": 0,
           "vl-30": 1,
           "vl-31": 0,
           "vl-32": 0,
           "vl-33": 0,
           "vl-34": 0,
           "vl-35": 0,
           "vl-36": 0,
           "vl-37": 0,
           "vl-38": 0,
           "vl-39": 0,
           "vl-4": 0,
           "vl-5": 0,
           "vl-6": 5,
           "vl-7": 4,
           "vl-8": 4,
           "vl-9": 7
          },
          "difficulties_bouldering": {
           "vl-1": 0,
           "vl-10": 0,
           "vl-11": 0,
           "vl-12": 8,
           "vl-13": 0,
           "vl-14": 5,
           "vl-15": 0,
           "vl-16": 9,
           "vl-17": 8,
           "vl-18": 7,
           "vl-19": 12,
           "vl-2": 0,
           "vl-20": 0,
           "vl-21": 13,
           "vl-22": 9,
           "vl-23": 9,
           "vl-24": 7,
           "vl-25": 8,
           "vl-26": 6,
           "vl-27": 6,
           "vl-28": 4,
           "vl-29": 4,
           "vl-3": 0,
           "vl-30": 1,
           "vl-31": 0,
           "vl-32": 0,
           "vl-33": 0,
           "vl-34": 0,
           "vl-4": 2,
           "vl-5": 3,
           "vl-6": 0,
           "vl-7": 5,
           "vl-8": 5,
           "vl-9": 0
          },
          "elegible_for_boulder_training": true,
          "gym_status": {
           "checkins_enabled": false,
           "temporarily_closed": false
          },
          "id": 69,
          "item_type": "gym",
          "latitude": 59.3569,
          "logo": "ce68d672c98919d65f4311f9c9d9bb47",
          "longitude": 18.0162,
          "name": "Klättercentret Solna",
          "published": true,
          "published_at": "2018-08-31 07:00:00 +0000",
          "route_count": 108,
          "share_url": "https://zlag.vertical-life.info/en/gyms/klattercentret-solna",
          "sponsor_logo": null,
          "sportclimbing_grading_system": "french",
          "town": "Solna",
          "updated_at": "2019-12-04 08:30:11 +0000",
          "virtual": false
         },
         "gym_id": 69,
         "gym_wall_id": 733,
         "gym_wall_name": "A Sektionen",
         "height": 4,
         "hold_color": null,
         "hold_manufacturer": null,
         "id": 4463420,
         "id_right": 324569,
         "item_type": "gym_boulder",
         "line_number": 8,
         "name": "Turquoise",
         "notes": null,
         "numberDifficulty": 48,
         "parent_id": 69,
         "parent_name": "Klättercentret Solna",
         "parent_name_right": "Bouldering, A Sektionen",
         "path": null,
         "path_right": [
          [
           31,
           186
          ],
          [
           17,
           521
          ],
          [
           142,
           506
          ],
          [
           268,
           496
          ],
          [
           335,
           500
          ],
          [
           336,
           420
          ],
          [
           335,
           392
          ],
          [
           327,
           340
          ],
          [
           346,
           253
          ],
          [
           312,
           177
          ],
          [
           217,
           180
          ],
          [
           86,
           191
          ],
          [
           31,
           187
          ]
         ],
         "perceived_hardness": 0,
         "project": false,
         "protection": 0,
         "provider": "verticallife",
         "rating": null,
         "recommended": false,
         "reference_width": 971,
         "repeat": false,
         "repeats": 0,
         "route_card_label": "A8.",
         "route_setter": "Benjamin Schlobohm",
         "safety_issues": null,
         "score": 253,
         "sector_id": 219,
         "sector_name": "Bouldering",
         "set_at": {},
         "shade": null,
         "share_url": "https://zlag.vertical-life.info/en/routes/3197728379eb4adfaef88a028fe57606",
         "sit_down_start": null,
         "sits": 0,
         "stats": {
          "b": 0,
          "c": 0,
          "comment_count": 0,
          "e": 0,
          "f": 0,
          "flash": 7,
          "go": 0,
          "hard_count": 0,
          "onsight": 0,
          "overhanging": 0,
          "rating": 0,
          "ratings_count": 0,
          "redpoint": 0,
          "roof": 0,
          "s": 0,
          "safety": 0,
          "safety_issues_count": {
           "1": 0,
           "2": 0,
           "4": 0,
           "8": 0,
           "16": 0,
           "32": 0,
           "64": 0
          },
          "slab": 0,
          "soft_count": 0,
          "t": 0,
          "toprope": 0,
          "vertical": 0,
          "video_count": 0,
          "zlag_count": 7,
          "zlaggable_height_count": {
           "1": 0,
           "2": 0,
           "4": 0,
           "8": 0,
           "16": 0,
           "32": 0
          }
         },
         "steepness": 0,
         "steepness_right": 7,
         "style": "a",
         "style_right": "a",
         "sub_type": "",
         "topo": "5c34763248de2c434a96e3fd1bd72118",
         "topo_num": "41798.8.",
         "traverse": false,
         "tries": 1,
         "two_start_holds": null,
         "type": "flash",
         "updated_at": {},
         "updated_at_right": "2022-05-09 07:22:14 +0000",
         "user_id": 230474,
         "virtual": false,
         "virtual_right": false,
         "vl_ascendable_id": null,
         "vl_id": 4405175,
         "vl_parent_id": null,
         "vl_user_id": 286128,
         "year": 2022
        },
        {
         "archived": true,
         "archived_at": null,
         "ascendable_filter": null,
         "ascendable_height": null,
         "ascendable_id": 332095,
         "ascendable_name": "Green",
         "ascendable_type": "GymBoulder",
         "color_1": "#32cd32",
         "color_2": null,
         "comment": null,
         "created_at": {},
         "created_at_right": "2022-03-29 07:12:15 +0000",
         "date": "2022-03-30 12:00:00 +0000",
         "difficulty": "5+",
         "difficulty_right": "5+",
         "display_route_setter": true,
         "eight_a_ascendable_id": null,
         "eight_a_id": null,
         "eight_a_logbook": false,
         "eight_a_parent_id": null,
         "eight_a_user_id": 133113,
         "expiration_date": null,
         "exposition": null,
         "features": null,
         "gallery": [],
         "grade": "vl-14",
         "grade_proposals": [
          [
           "vl-1",
           "2"
          ],
          [
           "vl-2",
           "2+"
          ],
          [
           "vl-3",
           "3-"
          ],
          [
           "vl-4",
           "3"
          ],
          [
           "vl-5",
           "3+"
          ],
          [
           "vl-6",
           "4-"
          ],
          [
           "vl-7",
           "4"
          ],
          [
           "vl-8",
           "4+"
          ],
          [
           "vl-9",
           "5-"
          ],
          [
           "vl-12",
           "5"
          ],
          [
           "vl-14",
           "5+"
          ],
          [
           "vl-16",
           "6A"
          ],
          [
           "vl-17",
           "6A+"
          ],
          [
           "vl-18",
           "6B"
          ],
          [
           "vl-19",
           "6B+"
          ],
          [
           "vl-21",
           "6C"
          ],
          [
           "vl-22",
           "6C+"
          ],
          [
           "vl-23",
           "7A"
          ],
          [
           "vl-24",
           "7A+"
          ],
          [
           "vl-25",
           "7B"
          ],
          [
           "vl-26",
           "7B+"
          ],
          [
           "vl-27",
           "7C"
          ],
          [
           "vl-28",
           "7C+"
          ],
          [
           "vl-29",
           "8A"
          ],
          [
           "vl-30",
           "8A+"
          ],
          [
           "vl-31",
           "8B"
          ],
          [
           "vl-32",
           "8B+"
          ],
          [
           "vl-33",
           "8C"
          ],
          [
           "vl-34",
           "8C+"
          ]
         ],
         "grade_right": "vl-14",
         "grading_system": "font",
         "grading_system_right": "font",
         "gym": {
          "ascent_count": 55969,
          "boulder_count": 131,
          "bouldering_grading_system": "font",
          "categories": 24,
          "country": "Sweden",
          "cover": "f85eaa2db48218e30ff6f8fe4197df56",
          "created_at": "2018-06-21 09:50:35 +0000",
          "difficulties": {
           "vl-1": 0,
           "vl-10": 0,
           "vl-11": 0,
           "vl-12": 2,
           "vl-13": 0,
           "vl-14": 11,
           "vl-15": 0,
           "vl-16": 11,
           "vl-17": 9,
           "vl-18": 9,
           "vl-19": 8,
           "vl-2": 0,
           "vl-20": 0,
           "vl-21": 10,
           "vl-22": 5,
           "vl-23": 6,
           "vl-24": 4,
           "vl-25": 4,
           "vl-26": 2,
           "vl-27": 3,
           "vl-28": 2,
           "vl-29": 1,
           "vl-3": 0,
           "vl-30": 1,
           "vl-31": 0,
           "vl-32": 0,
           "vl-33": 0,
           "vl-34": 0,
           "vl-35": 0,
           "vl-36": 0,
           "vl-37": 0,
           "vl-38": 0,
           "vl-39": 0,
           "vl-4": 0,
           "vl-5": 0,
           "vl-6": 5,
           "vl-7": 4,
           "vl-8": 4,
           "vl-9": 7
          },
          "difficulties_bouldering": {
           "vl-1": 0,
           "vl-10": 0,
           "vl-11": 0,
           "vl-12": 8,
           "vl-13": 0,
           "vl-14": 5,
           "vl-15": 0,
           "vl-16": 9,
           "vl-17": 8,
           "vl-18": 7,
           "vl-19": 12,
           "vl-2": 0,
           "vl-20": 0,
           "vl-21": 13,
           "vl-22": 9,
           "vl-23": 9,
           "vl-24": 7,
           "vl-25": 8,
           "vl-26": 6,
           "vl-27": 6,
           "vl-28": 4,
           "vl-29": 4,
           "vl-3": 0,
           "vl-30": 1,
           "vl-31": 0,
           "vl-32": 0,
           "vl-33": 0,
           "vl-34": 0,
           "vl-4": 2,
           "vl-5": 3,
           "vl-6": 0,
           "vl-7": 5,
           "vl-8": 5,
           "vl-9": 0
          },
          "elegible_for_boulder_training": true,
          "gym_status": {
           "checkins_enabled": false,
           "temporarily_closed": false
          },
          "id": 69,
          "item_type": "gym",
          "latitude": 59.3569,
          "logo": "ce68d672c98919d65f4311f9c9d9bb47",
          "longitude": 18.0162,
          "name": "Klättercentret Solna",
          "published": true,
          "published_at": "2018-08-31 07:00:00 +0000",
          "route_count": 108,
          "share_url": "https://zlag.vertical-life.info/en/gyms/klattercentret-solna",
          "sponsor_logo": null,
          "sportclimbing_grading_system": "french",
          "town": "Solna",
          "updated_at": "2019-12-04 08:30:11 +0000",
          "virtual": false
         },
         "gym_id": 69,
         "gym_wall_id": 734,
         "gym_wall_name": "B Sektionen",
         "height": 4,
         "hold_color": null,
         "hold_manufacturer": null,
         "id": 4083091,
         "id_right": 332095,
         "item_type": "gym_boulder",
         "line_number": 4,
         "name": "Green",
         "notes": null,
         "numberDifficulty": 54,
         "parent_id": 69,
         "parent_name": "Klättercentret Solna",
         "parent_name_right": "Bouldering, B Sektionen",
         "path": null,
         "path_right": [
          [
           121,
           188
          ],
          [
           232,
           182
          ],
          [
           444,
           185
          ],
          [
           506,
           184
          ],
          [
           514,
           311
          ],
          [
           470,
           489
          ],
          [
           235,
           479
          ],
          [
           138,
           504
          ],
          [
           143,
           350
          ],
          [
           121,
           189
          ]
         ],
         "perceived_hardness": 0,
         "project": false,
         "protection": 0,
         "provider": "verticallife",
         "rating": null,
         "recommended": false,
         "reference_width": 971,
         "repeat": false,
         "repeats": 0,
         "route_card_label": "B4.",
         "route_setter": "Benjamin Schlobohm",
         "safety_issues": null,
         "score": 353,
         "sector_id": 219,
         "sector_name": "Bouldering",
         "set_at": {},
         "shade": null,
         "share_url": "https://zlag.vertical-life.info/en/routes/a9660c812a4691f722a7b6f7bfd9b4b8",
         "sit_down_start": true,
         "sits": 0,
         "stats": {
          "b": 0,
          "c": 0,
          "comment_count": 0,
          "e": 0,
          "f": 0,
          "flash": 9,
          "go": 0,
          "hard_count": 0,
          "onsight": 0,
          "overhanging": 0,
          "rating": 0,
          "ratings_count": 0,
          "redpoint": 2,
          "roof": 0,
          "s": 0,
          "safety": 2,
          "safety_issues_count": {
           "1": 0,
           "2": 0,
           "4": 0,
           "8": 0,
           "16": 0,
           "32": 0,
           "64": 0
          },
          "slab": 0,
          "soft_count": 0,
          "t": 0,
          "toprope": 0,
          "vertical": 0,
          "video_count": 0,
          "zlag_count": 11,
          "zlaggable_height_count": {
           "1": 0,
           "2": 0,
           "4": 0,
           "8": 0,
           "16": 0,
           "32": 0
          }
         },
         "steepness": 0,
         "steepness_right": 3,
         "style": "",
         "style_right": null,
         "sub_type": "",
         "topo": "e6411c2ffc69fdad028b8408b295e45c",
         "topo_num": "41800.4.",
         "traverse": false,
         "tries": 1,
         "two_start_holds": null,
         "type": "flash",
         "updated_at": {},
         "updated_at_right": "2022-05-12 08:25:23 +0000",
         "user_id": 230474,
         "virtual": false,
         "virtual_right": false,
         "vl_ascendable_id": null,
         "vl_id": 4414768,
         "vl_parent_id": null,
         "vl_user_id": 286128,
         "year": 2022
        },
        {
         "archived": true,
         "archived_at": null,
         "ascendable_filter": null,
         "ascendable_height": null,
         "ascendable_id": 332086,
         "ascendable_name": "Turquoise",
         "ascendable_type": "GymBoulder",
         "color_1": "#87ccc6",
         "color_2": null,
         "comment": null,
         "created_at": {},
         "created_at_right": "2022-03-29 07:08:49 +0000",
         "date": "2022-03-30 12:00:00 +0000",
         "difficulty": "5+",
         "difficulty_right": "5+",
         "display_route_setter": true,
         "eight_a_ascendable_id": null,
         "eight_a_id": null,
         "eight_a_logbook": false,
         "eight_a_parent_id": null,
         "eight_a_user_id": 133113,
         "expiration_date": null,
         "exposition": null,
         "features": null,
         "gallery": [],
         "grade": "vl-14",
         "grade_proposals": [
          [
           "vl-1",
           "2"
          ],
          [
           "vl-2",
           "2+"
          ],
          [
           "vl-3",
           "3-"
          ],
          [
           "vl-4",
           "3"
          ],
          [
           "vl-5",
           "3+"
          ],
          [
           "vl-6",
           "4-"
          ],
          [
           "vl-7",
           "4"
          ],
          [
           "vl-8",
           "4+"
          ],
          [
           "vl-9",
           "5-"
          ],
          [
           "vl-12",
           "5"
          ],
          [
           "vl-14",
           "5+"
          ],
          [
           "vl-16",
           "6A"
          ],
          [
           "vl-17",
           "6A+"
          ],
          [
           "vl-18",
           "6B"
          ],
          [
           "vl-19",
           "6B+"
          ],
          [
           "vl-21",
           "6C"
          ],
          [
           "vl-22",
           "6C+"
          ],
          [
           "vl-23",
           "7A"
          ],
          [
           "vl-24",
           "7A+"
          ],
          [
           "vl-25",
           "7B"
          ],
          [
           "vl-26",
           "7B+"
          ],
          [
           "vl-27",
           "7C"
          ],
          [
           "vl-28",
           "7C+"
          ],
          [
           "vl-29",
           "8A"
          ],
          [
           "vl-30",
           "8A+"
          ],
          [
           "vl-31",
           "8B"
          ],
          [
           "vl-32",
           "8B+"
          ],
          [
           "vl-33",
           "8C"
          ],
          [
           "vl-34",
           "8C+"
          ]
         ],
         "grade_right": "vl-14",
         "grading_system": "font",
         "grading_system_right": "font",
         "gym": {
          "ascent_count": 55969,
          "boulder_count": 131,
          "bouldering_grading_system": "font",
          "categories": 24,
          "country": "Sweden",
          "cover": "f85eaa2db48218e30ff6f8fe4197df56",
          "created_at": "2018-06-21 09:50:35 +0000",
          "difficulties": {
           "vl-1": 0,
           "vl-10": 0,
           "vl-11": 0,
           "vl-12": 2,
           "vl-13": 0,
           "vl-14": 11,
           "vl-15": 0,
           "vl-16": 11,
           "vl-17": 9,
           "vl-18": 9,
           "vl-19": 8,
           "vl-2": 0,
           "vl-20": 0,
           "vl-21": 10,
           "vl-22": 5,
           "vl-23": 6,
           "vl-24": 4,
           "vl-25": 4,
           "vl-26": 2,
           "vl-27": 3,
           "vl-28": 2,
           "vl-29": 1,
           "vl-3": 0,
           "vl-30": 1,
           "vl-31": 0,
           "vl-32": 0,
           "vl-33": 0,
           "vl-34": 0,
           "vl-35": 0,
           "vl-36": 0,
           "vl-37": 0,
           "vl-38": 0,
           "vl-39": 0,
           "vl-4": 0,
           "vl-5": 0,
           "vl-6": 5,
           "vl-7": 4,
           "vl-8": 4,
           "vl-9": 7
          },
          "difficulties_bouldering": {
           "vl-1": 0,
           "vl-10": 0,
           "vl-11": 0,
           "vl-12": 8,
           "vl-13": 0,
           "vl-14": 5,
           "vl-15": 0,
           "vl-16": 9,
           "vl-17": 8,
           "vl-18": 7,
           "vl-19": 12,
           "vl-2": 0,
           "vl-20": 0,
           "vl-21": 13,
           "vl-22": 9,
           "vl-23": 9,
           "vl-24": 7,
           "vl-25": 8,
           "vl-26": 6,
           "vl-27": 6,
           "vl-28": 4,
           "vl-29": 4,
           "vl-3": 0,
           "vl-30": 1,
           "vl-31": 0,
           "vl-32": 0,
           "vl-33": 0,
           "vl-34": 0,
           "vl-4": 2,
           "vl-5": 3,
           "vl-6": 0,
           "vl-7": 5,
           "vl-8": 5,
           "vl-9": 0
          },
          "elegible_for_boulder_training": true,
          "gym_status": {
           "checkins_enabled": false,
           "temporarily_closed": false
          },
          "id": 69,
          "item_type": "gym",
          "latitude": 59.3569,
          "logo": "ce68d672c98919d65f4311f9c9d9bb47",
          "longitude": 18.0162,
          "name": "Klättercentret Solna",
          "published": true,
          "published_at": "2018-08-31 07:00:00 +0000",
          "route_count": 108,
          "share_url": "https://zlag.vertical-life.info/en/gyms/klattercentret-solna",
          "sponsor_logo": null,
          "sportclimbing_grading_system": "french",
          "town": "Solna",
          "updated_at": "2019-12-04 08:30:11 +0000",
          "virtual": false
         },
         "gym_id": 69,
         "gym_wall_id": 734,
         "gym_wall_name": "B Sektionen",
         "height": 4,
         "hold_color": null,
         "hold_manufacturer": null,
         "id": 3984300,
         "id_right": 332086,
         "item_type": "gym_boulder",
         "line_number": 3,
         "name": "Turquoise",
         "notes": null,
         "numberDifficulty": 54,
         "parent_id": 69,
         "parent_name": "Klättercentret Solna",
         "parent_name_right": "Bouldering, B Sektionen",
         "path": null,
         "path_right": [
          [
           508,
           187
          ],
          [
           689,
           184
          ],
          [
           847,
           182
          ],
          [
           931,
           514
          ],
          [
           470,
           491
          ],
          [
           515,
           312
          ],
          [
           508,
           186
          ]
         ],
         "perceived_hardness": 0,
         "project": false,
         "protection": 0,
         "provider": "verticallife",
         "rating": null,
         "recommended": false,
         "reference_width": 971,
         "repeat": false,
         "repeats": 0,
         "route_card_label": "B3.",
         "route_setter": "James Thanawat",
         "safety_issues": null,
         "score": 300,
         "sector_id": 219,
         "sector_name": "Bouldering",
         "set_at": {},
         "shade": null,
         "share_url": "https://zlag.vertical-life.info/en/routes/9ea8cfe25fa18b77114fe33fd26e9ece",
         "sit_down_start": null,
         "sits": 0,
         "stats": {
          "b": 0,
          "c": 0,
          "comment_count": 0,
          "e": 0,
          "f": 0,
          "flash": 7,
          "go": 0,
          "hard_count": 0,
          "onsight": 0,
          "overhanging": 0,
          "rating": 5,
          "ratings_count": 1,
          "redpoint": 2,
          "roof": 0,
          "s": 0,
          "safety": 2,
          "safety_issues_count": {
           "1": 0,
           "2": 0,
           "4": 0,
           "8": 0,
           "16": 0,
           "32": 0,
           "64": 0
          },
          "slab": 0,
          "soft_count": 0,
          "t": 0,
          "toprope": 0,
          "vertical": 0,
          "video_count": 0,
          "zlag_count": 9,
          "zlaggable_height_count": {
           "1": 0,
           "2": 0,
           "4": 0,
           "8": 0,
           "16": 0,
           "32": 0
          }
         },
         "steepness": 0,
         "steepness_right": 3,
         "style": "",
         "style_right": null,
         "sub_type": "",
         "topo": "e6411c2ffc69fdad028b8408b295e45c",
         "topo_num": "41800.3.",
         "traverse": false,
         "tries": 1,
         "two_start_holds": null,
         "type": "flash",
         "updated_at": {},
         "updated_at_right": "2022-04-28 08:42:18 +0000",
         "user_id": 230474,
         "virtual": false,
         "virtual_right": false,
         "vl_ascendable_id": null,
         "vl_id": 4414782,
         "vl_parent_id": null,
         "vl_user_id": 286128,
         "year": 2022
        },
        {
         "archived": true,
         "archived_at": null,
         "ascendable_filter": null,
         "ascendable_height": null,
         "ascendable_id": 328179,
         "ascendable_name": "Yellow",
         "ascendable_type": "GymBoulder",
         "color_1": "#ffd700",
         "color_2": null,
         "comment": null,
         "created_at": {},
         "created_at_right": "2022-03-15 06:25:12 +0000",
         "date": "2022-03-30 12:00:00 +0000",
         "difficulty": "4+",
         "difficulty_right": "4+",
         "display_route_setter": true,
         "eight_a_ascendable_id": null,
         "eight_a_id": null,
         "eight_a_logbook": false,
         "eight_a_parent_id": null,
         "eight_a_user_id": 133113,
         "expiration_date": null,
         "exposition": null,
         "features": null,
         "gallery": [],
         "grade": "vl-8",
         "grade_proposals": [
          [
           "vl-1",
           "2"
          ],
          [
           "vl-2",
           "2+"
          ],
          [
           "vl-3",
           "3-"
          ],
          [
           "vl-4",
           "3"
          ],
          [
           "vl-5",
           "3+"
          ],
          [
           "vl-6",
           "4-"
          ],
          [
           "vl-7",
           "4"
          ],
          [
           "vl-8",
           "4+"
          ],
          [
           "vl-9",
           "5-"
          ],
          [
           "vl-12",
           "5"
          ],
          [
           "vl-14",
           "5+"
          ],
          [
           "vl-16",
           "6A"
          ],
          [
           "vl-17",
           "6A+"
          ],
          [
           "vl-18",
           "6B"
          ],
          [
           "vl-19",
           "6B+"
          ],
          [
           "vl-21",
           "6C"
          ],
          [
           "vl-22",
           "6C+"
          ],
          [
           "vl-23",
           "7A"
          ],
          [
           "vl-24",
           "7A+"
          ],
          [
           "vl-25",
           "7B"
          ],
          [
           "vl-26",
           "7B+"
          ],
          [
           "vl-27",
           "7C"
          ],
          [
           "vl-28",
           "7C+"
          ],
          [
           "vl-29",
           "8A"
          ],
          [
           "vl-30",
           "8A+"
          ],
          [
           "vl-31",
           "8B"
          ],
          [
           "vl-32",
           "8B+"
          ],
          [
           "vl-33",
           "8C"
          ],
          [
           "vl-34",
           "8C+"
          ]
         ],
         "grade_right": "vl-8",
         "grading_system": "font",
         "grading_system_right": "font",
         "gym": {
          "ascent_count": 55969,
          "boulder_count": 131,
          "bouldering_grading_system": "font",
          "categories": 24,
          "country": "Sweden",
          "cover": "f85eaa2db48218e30ff6f8fe4197df56",
          "created_at": "2018-06-21 09:50:35 +0000",
          "difficulties": {
           "vl-1": 0,
           "vl-10": 0,
           "vl-11": 0,
           "vl-12": 2,
           "vl-13": 0,
           "vl-14": 11,
           "vl-15": 0,
           "vl-16": 11,
           "vl-17": 9,
           "vl-18": 9,
           "vl-19": 8,
           "vl-2": 0,
           "vl-20": 0,
           "vl-21": 10,
           "vl-22": 5,
           "vl-23": 6,
           "vl-24": 4,
           "vl-25": 4,
           "vl-26": 2,
           "vl-27": 3,
           "vl-28": 2,
           "vl-29": 1,
           "vl-3": 0,
           "vl-30": 1,
           "vl-31": 0,
           "vl-32": 0,
           "vl-33": 0,
           "vl-34": 0,
           "vl-35": 0,
           "vl-36": 0,
           "vl-37": 0,
           "vl-38": 0,
           "vl-39": 0,
           "vl-4": 0,
           "vl-5": 0,
           "vl-6": 5,
           "vl-7": 4,
           "vl-8": 4,
           "vl-9": 7
          },
          "difficulties_bouldering": {
           "vl-1": 0,
           "vl-10": 0,
           "vl-11": 0,
           "vl-12": 8,
           "vl-13": 0,
           "vl-14": 5,
           "vl-15": 0,
           "vl-16": 9,
           "vl-17": 8,
           "vl-18": 7,
           "vl-19": 12,
           "vl-2": 0,
           "vl-20": 0,
           "vl-21": 13,
           "vl-22": 9,
           "vl-23": 9,
           "vl-24": 7,
           "vl-25": 8,
           "vl-26": 6,
           "vl-27": 6,
           "vl-28": 4,
           "vl-29": 4,
           "vl-3": 0,
           "vl-30": 1,
           "vl-31": 0,
           "vl-32": 0,
           "vl-33": 0,
           "vl-34": 0,
           "vl-4": 2,
           "vl-5": 3,
           "vl-6": 0,
           "vl-7": 5,
           "vl-8": 5,
           "vl-9": 0
          },
          "elegible_for_boulder_training": true,
          "gym_status": {
           "checkins_enabled": false,
           "temporarily_closed": false
          },
          "id": 69,
          "item_type": "gym",
          "latitude": 59.3569,
          "logo": "ce68d672c98919d65f4311f9c9d9bb47",
          "longitude": 18.0162,
          "name": "Klättercentret Solna",
          "published": true,
          "published_at": "2018-08-31 07:00:00 +0000",
          "route_count": 108,
          "share_url": "https://zlag.vertical-life.info/en/gyms/klattercentret-solna",
          "sponsor_logo": null,
          "sportclimbing_grading_system": "french",
          "town": "Solna",
          "updated_at": "2019-12-04 08:30:11 +0000",
          "virtual": false
         },
         "gym_id": 69,
         "gym_wall_id": 734,
         "gym_wall_name": "B Sektionen",
         "height": 4,
         "hold_color": null,
         "hold_manufacturer": null,
         "id": 4473697,
         "id_right": 328179,
         "item_type": "gym_boulder",
         "line_number": 2,
         "name": "Yellow",
         "notes": null,
         "numberDifficulty": 42,
         "parent_id": 69,
         "parent_name": "Klättercentret Solna",
         "parent_name_right": "Bouldering, B Sektionen",
         "path": null,
         "path_right": [
          [
           4,
           150
          ],
          [
           164,
           170
          ],
          [
           381,
           190
          ],
          [
           383,
           542
          ],
          [
           219,
           571
          ],
          [
           2,
           609
          ],
          [
           6,
           152
          ]
         ],
         "perceived_hardness": 0,
         "project": false,
         "protection": 0,
         "provider": "verticallife",
         "rating": null,
         "recommended": false,
         "reference_width": 971,
         "repeat": false,
         "repeats": 0,
         "route_card_label": "B2.",
         "route_setter": "N.N.",
         "safety_issues": null,
         "score": 103,
         "sector_id": 219,
         "sector_name": "Bouldering",
         "set_at": {},
         "shade": null,
         "share_url": "https://zlag.vertical-life.info/en/routes/564dbfe8e20d1451cd2910cd6c1c49dc",
         "sit_down_start": null,
         "sits": 0,
         "stats": {
          "b": 0,
          "c": 0,
          "comment_count": 0,
          "e": 0,
          "f": 0,
          "flash": 7,
          "go": 0,
          "hard_count": 0,
          "onsight": 0,
          "overhanging": 0,
          "rating": 3,
          "ratings_count": 1,
          "redpoint": 1,
          "roof": 0,
          "s": 0,
          "safety": 2,
          "safety_issues_count": {
           "1": 0,
           "2": 0,
           "4": 0,
           "8": 0,
           "16": 0,
           "32": 0,
           "64": 0
          },
          "slab": 0,
          "soft_count": 0,
          "t": 0,
          "toprope": 0,
          "vertical": 0,
          "video_count": 0,
          "zlag_count": 8,
          "zlaggable_height_count": {
           "1": 0,
           "2": 0,
           "4": 0,
           "8": 0,
           "16": 0,
           "32": 0
          }
         },
         "steepness": 0,
         "steepness_right": 3,
         "style": "",
         "style_right": null,
         "sub_type": "",
         "topo": "1e2bd49546a1ab26033e6eca6a575fad",
         "topo_num": "41801.2.",
         "traverse": false,
         "tries": 1,
         "two_start_holds": null,
         "type": "flash",
         "updated_at": {},
         "updated_at_right": "2022-04-28 08:42:27 +0000",
         "user_id": 230474,
         "virtual": false,
         "virtual_right": false,
         "vl_ascendable_id": null,
         "vl_id": 4414826,
         "vl_parent_id": null,
         "vl_user_id": 286128,
         "year": 2022
        },
        {
         "archived": true,
         "archived_at": null,
         "ascendable_filter": null,
         "ascendable_height": null,
         "ascendable_id": 328179,
         "ascendable_name": "Yellow",
         "ascendable_type": "GymBoulder",
         "color_1": "#ffd700",
         "color_2": null,
         "comment": null,
         "created_at": {},
         "created_at_right": "2022-03-15 06:25:12 +0000",
         "date": "2022-03-30 12:00:00 +0000",
         "difficulty": "4+",
         "difficulty_right": "4+",
         "display_route_setter": true,
         "eight_a_ascendable_id": null,
         "eight_a_id": null,
         "eight_a_logbook": false,
         "eight_a_parent_id": null,
         "eight_a_user_id": 133113,
         "expiration_date": null,
         "exposition": null,
         "features": null,
         "gallery": [],
         "grade": "vl-8",
         "grade_proposals": [
          [
           "vl-1",
           "2"
          ],
          [
           "vl-2",
           "2+"
          ],
          [
           "vl-3",
           "3-"
          ],
          [
           "vl-4",
           "3"
          ],
          [
           "vl-5",
           "3+"
          ],
          [
           "vl-6",
           "4-"
          ],
          [
           "vl-7",
           "4"
          ],
          [
           "vl-8",
           "4+"
          ],
          [
           "vl-9",
           "5-"
          ],
          [
           "vl-12",
           "5"
          ],
          [
           "vl-14",
           "5+"
          ],
          [
           "vl-16",
           "6A"
          ],
          [
           "vl-17",
           "6A+"
          ],
          [
           "vl-18",
           "6B"
          ],
          [
           "vl-19",
           "6B+"
          ],
          [
           "vl-21",
           "6C"
          ],
          [
           "vl-22",
           "6C+"
          ],
          [
           "vl-23",
           "7A"
          ],
          [
           "vl-24",
           "7A+"
          ],
          [
           "vl-25",
           "7B"
          ],
          [
           "vl-26",
           "7B+"
          ],
          [
           "vl-27",
           "7C"
          ],
          [
           "vl-28",
           "7C+"
          ],
          [
           "vl-29",
           "8A"
          ],
          [
           "vl-30",
           "8A+"
          ],
          [
           "vl-31",
           "8B"
          ],
          [
           "vl-32",
           "8B+"
          ],
          [
           "vl-33",
           "8C"
          ],
          [
           "vl-34",
           "8C+"
          ]
         ],
         "grade_right": "vl-8",
         "grading_system": "font",
         "grading_system_right": "font",
         "gym": {
          "ascent_count": 55969,
          "boulder_count": 131,
          "bouldering_grading_system": "font",
          "categories": 24,
          "country": "Sweden",
          "cover": "f85eaa2db48218e30ff6f8fe4197df56",
          "created_at": "2018-06-21 09:50:35 +0000",
          "difficulties": {
           "vl-1": 0,
           "vl-10": 0,
           "vl-11": 0,
           "vl-12": 2,
           "vl-13": 0,
           "vl-14": 11,
           "vl-15": 0,
           "vl-16": 11,
           "vl-17": 9,
           "vl-18": 9,
           "vl-19": 8,
           "vl-2": 0,
           "vl-20": 0,
           "vl-21": 10,
           "vl-22": 5,
           "vl-23": 6,
           "vl-24": 4,
           "vl-25": 4,
           "vl-26": 2,
           "vl-27": 3,
           "vl-28": 2,
           "vl-29": 1,
           "vl-3": 0,
           "vl-30": 1,
           "vl-31": 0,
           "vl-32": 0,
           "vl-33": 0,
           "vl-34": 0,
           "vl-35": 0,
           "vl-36": 0,
           "vl-37": 0,
           "vl-38": 0,
           "vl-39": 0,
           "vl-4": 0,
           "vl-5": 0,
           "vl-6": 5,
           "vl-7": 4,
           "vl-8": 4,
           "vl-9": 7
          },
          "difficulties_bouldering": {
           "vl-1": 0,
           "vl-10": 0,
           "vl-11": 0,
           "vl-12": 8,
           "vl-13": 0,
           "vl-14": 5,
           "vl-15": 0,
           "vl-16": 9,
           "vl-17": 8,
           "vl-18": 7,
           "vl-19": 12,
           "vl-2": 0,
           "vl-20": 0,
           "vl-21": 13,
           "vl-22": 9,
           "vl-23": 9,
           "vl-24": 7,
           "vl-25": 8,
           "vl-26": 6,
           "vl-27": 6,
           "vl-28": 4,
           "vl-29": 4,
           "vl-3": 0,
           "vl-30": 1,
           "vl-31": 0,
           "vl-32": 0,
           "vl-33": 0,
           "vl-34": 0,
           "vl-4": 2,
           "vl-5": 3,
           "vl-6": 0,
           "vl-7": 5,
           "vl-8": 5,
           "vl-9": 0
          },
          "elegible_for_boulder_training": true,
          "gym_status": {
           "checkins_enabled": false,
           "temporarily_closed": false
          },
          "id": 69,
          "item_type": "gym",
          "latitude": 59.3569,
          "logo": "ce68d672c98919d65f4311f9c9d9bb47",
          "longitude": 18.0162,
          "name": "Klättercentret Solna",
          "published": true,
          "published_at": "2018-08-31 07:00:00 +0000",
          "route_count": 108,
          "share_url": "https://zlag.vertical-life.info/en/gyms/klattercentret-solna",
          "sponsor_logo": null,
          "sportclimbing_grading_system": "french",
          "town": "Solna",
          "updated_at": "2019-12-04 08:30:11 +0000",
          "virtual": false
         },
         "gym_id": 69,
         "gym_wall_id": 734,
         "gym_wall_name": "B Sektionen",
         "height": 4,
         "hold_color": null,
         "hold_manufacturer": null,
         "id": 4473697,
         "id_right": 328179,
         "item_type": "gym_boulder",
         "line_number": 2,
         "name": "Yellow",
         "notes": null,
         "numberDifficulty": 42,
         "parent_id": 69,
         "parent_name": "Klättercentret Solna",
         "parent_name_right": "Bouldering, B Sektionen",
         "path": null,
         "path_right": [
          [
           4,
           150
          ],
          [
           164,
           170
          ],
          [
           381,
           190
          ],
          [
           383,
           542
          ],
          [
           219,
           571
          ],
          [
           2,
           609
          ],
          [
           6,
           152
          ]
         ],
         "perceived_hardness": 0,
         "project": false,
         "protection": 0,
         "provider": "verticallife",
         "rating": null,
         "recommended": false,
         "reference_width": 971,
         "repeat": false,
         "repeats": 0,
         "route_card_label": "B2.",
         "route_setter": "N.N.",
         "safety_issues": null,
         "score": 103,
         "sector_id": 219,
         "sector_name": "Bouldering",
         "set_at": {},
         "shade": null,
         "share_url": "https://zlag.vertical-life.info/en/routes/564dbfe8e20d1451cd2910cd6c1c49dc",
         "sit_down_start": null,
         "sits": 0,
         "stats": {
          "b": 0,
          "c": 0,
          "comment_count": 0,
          "e": 0,
          "f": 0,
          "flash": 7,
          "go": 0,
          "hard_count": 0,
          "onsight": 0,
          "overhanging": 0,
          "rating": 3,
          "ratings_count": 1,
          "redpoint": 1,
          "roof": 0,
          "s": 0,
          "safety": 2,
          "safety_issues_count": {
           "1": 0,
           "2": 0,
           "4": 0,
           "8": 0,
           "16": 0,
           "32": 0,
           "64": 0
          },
          "slab": 0,
          "soft_count": 0,
          "t": 0,
          "toprope": 0,
          "vertical": 0,
          "video_count": 0,
          "zlag_count": 8,
          "zlaggable_height_count": {
           "1": 0,
           "2": 0,
           "4": 0,
           "8": 0,
           "16": 0,
           "32": 0
          }
         },
         "steepness": 0,
         "steepness_right": 3,
         "style": "",
         "style_right": null,
         "sub_type": "",
         "topo": "1e2bd49546a1ab26033e6eca6a575fad",
         "topo_num": "41801.2.",
         "traverse": false,
         "tries": 1,
         "two_start_holds": null,
         "type": "flash",
         "updated_at": {},
         "updated_at_right": "2022-04-28 08:42:27 +0000",
         "user_id": 230474,
         "virtual": false,
         "virtual_right": false,
         "vl_ascendable_id": null,
         "vl_id": 4414826,
         "vl_parent_id": null,
         "vl_user_id": 286128,
         "year": 2022
        },
        {
         "archived": true,
         "archived_at": null,
         "ascendable_filter": null,
         "ascendable_height": null,
         "ascendable_id": 328179,
         "ascendable_name": "Yellow",
         "ascendable_type": "GymBoulder",
         "color_1": "#ffd700",
         "color_2": null,
         "comment": null,
         "created_at": {},
         "created_at_right": "2022-03-15 06:25:12 +0000",
         "date": "2022-03-30 12:00:00 +0000",
         "difficulty": "4+",
         "difficulty_right": "4+",
         "display_route_setter": true,
         "eight_a_ascendable_id": null,
         "eight_a_id": null,
         "eight_a_logbook": false,
         "eight_a_parent_id": null,
         "eight_a_user_id": 133113,
         "expiration_date": null,
         "exposition": null,
         "features": null,
         "gallery": [],
         "grade": "vl-8",
         "grade_proposals": [
          [
           "vl-1",
           "2"
          ],
          [
           "vl-2",
           "2+"
          ],
          [
           "vl-3",
           "3-"
          ],
          [
           "vl-4",
           "3"
          ],
          [
           "vl-5",
           "3+"
          ],
          [
           "vl-6",
           "4-"
          ],
          [
           "vl-7",
           "4"
          ],
          [
           "vl-8",
           "4+"
          ],
          [
           "vl-9",
           "5-"
          ],
          [
           "vl-12",
           "5"
          ],
          [
           "vl-14",
           "5+"
          ],
          [
           "vl-16",
           "6A"
          ],
          [
           "vl-17",
           "6A+"
          ],
          [
           "vl-18",
           "6B"
          ],
          [
           "vl-19",
           "6B+"
          ],
          [
           "vl-21",
           "6C"
          ],
          [
           "vl-22",
           "6C+"
          ],
          [
           "vl-23",
           "7A"
          ],
          [
           "vl-24",
           "7A+"
          ],
          [
           "vl-25",
           "7B"
          ],
          [
           "vl-26",
           "7B+"
          ],
          [
           "vl-27",
           "7C"
          ],
          [
           "vl-28",
           "7C+"
          ],
          [
           "vl-29",
           "8A"
          ],
          [
           "vl-30",
           "8A+"
          ],
          [
           "vl-31",
           "8B"
          ],
          [
           "vl-32",
           "8B+"
          ],
          [
           "vl-33",
           "8C"
          ],
          [
           "vl-34",
           "8C+"
          ]
         ],
         "grade_right": "vl-8",
         "grading_system": "font",
         "grading_system_right": "font",
         "gym": {
          "ascent_count": 55969,
          "boulder_count": 131,
          "bouldering_grading_system": "font",
          "categories": 24,
          "country": "Sweden",
          "cover": "f85eaa2db48218e30ff6f8fe4197df56",
          "created_at": "2018-06-21 09:50:35 +0000",
          "difficulties": {
           "vl-1": 0,
           "vl-10": 0,
           "vl-11": 0,
           "vl-12": 2,
           "vl-13": 0,
           "vl-14": 11,
           "vl-15": 0,
           "vl-16": 11,
           "vl-17": 9,
           "vl-18": 9,
           "vl-19": 8,
           "vl-2": 0,
           "vl-20": 0,
           "vl-21": 10,
           "vl-22": 5,
           "vl-23": 6,
           "vl-24": 4,
           "vl-25": 4,
           "vl-26": 2,
           "vl-27": 3,
           "vl-28": 2,
           "vl-29": 1,
           "vl-3": 0,
           "vl-30": 1,
           "vl-31": 0,
           "vl-32": 0,
           "vl-33": 0,
           "vl-34": 0,
           "vl-35": 0,
           "vl-36": 0,
           "vl-37": 0,
           "vl-38": 0,
           "vl-39": 0,
           "vl-4": 0,
           "vl-5": 0,
           "vl-6": 5,
           "vl-7": 4,
           "vl-8": 4,
           "vl-9": 7
          },
          "difficulties_bouldering": {
           "vl-1": 0,
           "vl-10": 0,
           "vl-11": 0,
           "vl-12": 8,
           "vl-13": 0,
           "vl-14": 5,
           "vl-15": 0,
           "vl-16": 9,
           "vl-17": 8,
           "vl-18": 7,
           "vl-19": 12,
           "vl-2": 0,
           "vl-20": 0,
           "vl-21": 13,
           "vl-22": 9,
           "vl-23": 9,
           "vl-24": 7,
           "vl-25": 8,
           "vl-26": 6,
           "vl-27": 6,
           "vl-28": 4,
           "vl-29": 4,
           "vl-3": 0,
           "vl-30": 1,
           "vl-31": 0,
           "vl-32": 0,
           "vl-33": 0,
           "vl-34": 0,
           "vl-4": 2,
           "vl-5": 3,
           "vl-6": 0,
           "vl-7": 5,
           "vl-8": 5,
           "vl-9": 0
          },
          "elegible_for_boulder_training": true,
          "gym_status": {
           "checkins_enabled": false,
           "temporarily_closed": false
          },
          "id": 69,
          "item_type": "gym",
          "latitude": 59.3569,
          "logo": "ce68d672c98919d65f4311f9c9d9bb47",
          "longitude": 18.0162,
          "name": "Klättercentret Solna",
          "published": true,
          "published_at": "2018-08-31 07:00:00 +0000",
          "route_count": 108,
          "share_url": "https://zlag.vertical-life.info/en/gyms/klattercentret-solna",
          "sponsor_logo": null,
          "sportclimbing_grading_system": "french",
          "town": "Solna",
          "updated_at": "2019-12-04 08:30:11 +0000",
          "virtual": false
         },
         "gym_id": 69,
         "gym_wall_id": 734,
         "gym_wall_name": "B Sektionen",
         "height": 4,
         "hold_color": null,
         "hold_manufacturer": null,
         "id": 4473697,
         "id_right": 328179,
         "item_type": "gym_boulder",
         "line_number": 2,
         "name": "Yellow",
         "notes": null,
         "numberDifficulty": 42,
         "parent_id": 69,
         "parent_name": "Klättercentret Solna",
         "parent_name_right": "Bouldering, B Sektionen",
         "path": null,
         "path_right": [
          [
           4,
           150
          ],
          [
           164,
           170
          ],
          [
           381,
           190
          ],
          [
           383,
           542
          ],
          [
           219,
           571
          ],
          [
           2,
           609
          ],
          [
           6,
           152
          ]
         ],
         "perceived_hardness": 0,
         "project": false,
         "protection": 0,
         "provider": "verticallife",
         "rating": null,
         "recommended": false,
         "reference_width": 971,
         "repeat": false,
         "repeats": 0,
         "route_card_label": "B2.",
         "route_setter": "N.N.",
         "safety_issues": null,
         "score": 103,
         "sector_id": 219,
         "sector_name": "Bouldering",
         "set_at": {},
         "shade": null,
         "share_url": "https://zlag.vertical-life.info/en/routes/564dbfe8e20d1451cd2910cd6c1c49dc",
         "sit_down_start": null,
         "sits": 0,
         "stats": {
          "b": 0,
          "c": 0,
          "comment_count": 0,
          "e": 0,
          "f": 0,
          "flash": 7,
          "go": 0,
          "hard_count": 0,
          "onsight": 0,
          "overhanging": 0,
          "rating": 3,
          "ratings_count": 1,
          "redpoint": 1,
          "roof": 0,
          "s": 0,
          "safety": 2,
          "safety_issues_count": {
           "1": 0,
           "2": 0,
           "4": 0,
           "8": 0,
           "16": 0,
           "32": 0,
           "64": 0
          },
          "slab": 0,
          "soft_count": 0,
          "t": 0,
          "toprope": 0,
          "vertical": 0,
          "video_count": 0,
          "zlag_count": 8,
          "zlaggable_height_count": {
           "1": 0,
           "2": 0,
           "4": 0,
           "8": 0,
           "16": 0,
           "32": 0
          }
         },
         "steepness": 0,
         "steepness_right": 3,
         "style": "",
         "style_right": null,
         "sub_type": "",
         "topo": "1e2bd49546a1ab26033e6eca6a575fad",
         "topo_num": "41801.2.",
         "traverse": false,
         "tries": 1,
         "two_start_holds": null,
         "type": "flash",
         "updated_at": {},
         "updated_at_right": "2022-04-28 08:42:27 +0000",
         "user_id": 230474,
         "virtual": false,
         "virtual_right": false,
         "vl_ascendable_id": null,
         "vl_id": 4414826,
         "vl_parent_id": null,
         "vl_user_id": 286128,
         "year": 2022
        },
        {
         "archived": true,
         "archived_at": null,
         "ascendable_filter": null,
         "ascendable_height": null,
         "ascendable_id": 332094,
         "ascendable_name": "Yellow",
         "ascendable_type": "GymBoulder",
         "color_1": "#ffd700",
         "color_2": null,
         "comment": null,
         "created_at": {},
         "created_at_right": "2022-03-29 07:11:56 +0000",
         "date": "2022-03-30 12:00:00 +0000",
         "difficulty": "6A",
         "difficulty_right": "6A",
         "display_route_setter": true,
         "eight_a_ascendable_id": null,
         "eight_a_id": null,
         "eight_a_logbook": false,
         "eight_a_parent_id": null,
         "eight_a_user_id": 133113,
         "expiration_date": null,
         "exposition": null,
         "features": null,
         "gallery": [],
         "grade": "vl-16",
         "grade_proposals": [
          [
           "vl-1",
           "2"
          ],
          [
           "vl-2",
           "2+"
          ],
          [
           "vl-3",
           "3-"
          ],
          [
           "vl-4",
           "3"
          ],
          [
           "vl-5",
           "3+"
          ],
          [
           "vl-6",
           "4-"
          ],
          [
           "vl-7",
           "4"
          ],
          [
           "vl-8",
           "4+"
          ],
          [
           "vl-9",
           "5-"
          ],
          [
           "vl-12",
           "5"
          ],
          [
           "vl-14",
           "5+"
          ],
          [
           "vl-16",
           "6A"
          ],
          [
           "vl-17",
           "6A+"
          ],
          [
           "vl-18",
           "6B"
          ],
          [
           "vl-19",
           "6B+"
          ],
          [
           "vl-21",
           "6C"
          ],
          [
           "vl-22",
           "6C+"
          ],
          [
           "vl-23",
           "7A"
          ],
          [
           "vl-24",
           "7A+"
          ],
          [
           "vl-25",
           "7B"
          ],
          [
           "vl-26",
           "7B+"
          ],
          [
           "vl-27",
           "7C"
          ],
          [
           "vl-28",
           "7C+"
          ],
          [
           "vl-29",
           "8A"
          ],
          [
           "vl-30",
           "8A+"
          ],
          [
           "vl-31",
           "8B"
          ],
          [
           "vl-32",
           "8B+"
          ],
          [
           "vl-33",
           "8C"
          ],
          [
           "vl-34",
           "8C+"
          ]
         ],
         "grade_right": "vl-16",
         "grading_system": "font",
         "grading_system_right": "font",
         "gym": {
          "ascent_count": 55969,
          "boulder_count": 131,
          "bouldering_grading_system": "font",
          "categories": 24,
          "country": "Sweden",
          "cover": "f85eaa2db48218e30ff6f8fe4197df56",
          "created_at": "2018-06-21 09:50:35 +0000",
          "difficulties": {
           "vl-1": 0,
           "vl-10": 0,
           "vl-11": 0,
           "vl-12": 2,
           "vl-13": 0,
           "vl-14": 11,
           "vl-15": 0,
           "vl-16": 11,
           "vl-17": 9,
           "vl-18": 9,
           "vl-19": 8,
           "vl-2": 0,
           "vl-20": 0,
           "vl-21": 10,
           "vl-22": 5,
           "vl-23": 6,
           "vl-24": 4,
           "vl-25": 4,
           "vl-26": 2,
           "vl-27": 3,
           "vl-28": 2,
           "vl-29": 1,
           "vl-3": 0,
           "vl-30": 1,
           "vl-31": 0,
           "vl-32": 0,
           "vl-33": 0,
           "vl-34": 0,
           "vl-35": 0,
           "vl-36": 0,
           "vl-37": 0,
           "vl-38": 0,
           "vl-39": 0,
           "vl-4": 0,
           "vl-5": 0,
           "vl-6": 5,
           "vl-7": 4,
           "vl-8": 4,
           "vl-9": 7
          },
          "difficulties_bouldering": {
           "vl-1": 0,
           "vl-10": 0,
           "vl-11": 0,
           "vl-12": 8,
           "vl-13": 0,
           "vl-14": 5,
           "vl-15": 0,
           "vl-16": 9,
           "vl-17": 8,
           "vl-18": 7,
           "vl-19": 12,
           "vl-2": 0,
           "vl-20": 0,
           "vl-21": 13,
           "vl-22": 9,
           "vl-23": 9,
           "vl-24": 7,
           "vl-25": 8,
           "vl-26": 6,
           "vl-27": 6,
           "vl-28": 4,
           "vl-29": 4,
           "vl-3": 0,
           "vl-30": 1,
           "vl-31": 0,
           "vl-32": 0,
           "vl-33": 0,
           "vl-34": 0,
           "vl-4": 2,
           "vl-5": 3,
           "vl-6": 0,
           "vl-7": 5,
           "vl-8": 5,
           "vl-9": 0
          },
          "elegible_for_boulder_training": true,
          "gym_status": {
           "checkins_enabled": false,
           "temporarily_closed": false
          },
          "id": 69,
          "item_type": "gym",
          "latitude": 59.3569,
          "logo": "ce68d672c98919d65f4311f9c9d9bb47",
          "longitude": 18.0162,
          "name": "Klättercentret Solna",
          "published": true,
          "published_at": "2018-08-31 07:00:00 +0000",
          "route_count": 108,
          "share_url": "https://zlag.vertical-life.info/en/gyms/klattercentret-solna",
          "sponsor_logo": null,
          "sportclimbing_grading_system": "french",
          "town": "Solna",
          "updated_at": "2019-12-04 08:30:11 +0000",
          "virtual": false
         },
         "gym_id": 69,
         "gym_wall_id": 734,
         "gym_wall_name": "B Sektionen",
         "height": 4,
         "hold_color": null,
         "hold_manufacturer": null,
         "id": 4593930,
         "id_right": 332094,
         "item_type": "gym_boulder",
         "line_number": 4,
         "name": "Yellow",
         "notes": null,
         "numberDifficulty": 60,
         "parent_id": 69,
         "parent_name": "Klättercentret Solna",
         "parent_name_right": "Bouldering, B Sektionen",
         "path": null,
         "path_right": [
          [
           121,
           188
          ],
          [
           232,
           182
          ],
          [
           444,
           185
          ],
          [
           506,
           184
          ],
          [
           514,
           311
          ],
          [
           470,
           489
          ],
          [
           235,
           479
          ],
          [
           138,
           504
          ],
          [
           143,
           350
          ],
          [
           121,
           189
          ]
         ],
         "perceived_hardness": 0,
         "project": false,
         "protection": 0,
         "provider": "verticallife",
         "rating": null,
         "recommended": false,
         "reference_width": 971,
         "repeat": false,
         "repeats": 0,
         "route_card_label": "B4.",
         "route_setter": "Benjamin Schlobohm",
         "safety_issues": null,
         "score": 453,
         "sector_id": 219,
         "sector_name": "Bouldering",
         "set_at": {},
         "shade": null,
         "share_url": "https://zlag.vertical-life.info/en/routes/7a27adc8baf8346da01c19e99280ff1f",
         "sit_down_start": null,
         "sits": 0,
         "stats": {
          "b": 0,
          "c": 0,
          "comment_count": 0,
          "e": 0,
          "f": 0,
          "flash": 11,
          "go": 0,
          "hard_count": 0,
          "onsight": 0,
          "overhanging": 0,
          "rating": 1.7,
          "ratings_count": 3,
          "redpoint": 9,
          "roof": 0,
          "s": 0,
          "safety": 2,
          "safety_issues_count": {
           "1": 0,
           "2": 0,
           "4": 0,
           "8": 0,
           "16": 0,
           "32": 0,
           "64": 0
          },
          "slab": 0,
          "soft_count": 0,
          "t": 0,
          "toprope": 0,
          "vertical": 0,
          "video_count": 0,
          "zlag_count": 20,
          "zlaggable_height_count": {
           "1": 0,
           "2": 0,
           "4": 0,
           "8": 0,
           "16": 0,
           "32": 0
          }
         },
         "steepness": 0,
         "steepness_right": 3,
         "style": "",
         "style_right": null,
         "sub_type": "",
         "topo": "e6411c2ffc69fdad028b8408b295e45c",
         "topo_num": "41800.4.",
         "traverse": false,
         "tries": 1,
         "two_start_holds": null,
         "type": "flash",
         "updated_at": {},
         "updated_at_right": "2022-05-12 08:25:22 +0000",
         "user_id": 230474,
         "virtual": false,
         "virtual_right": false,
         "vl_ascendable_id": null,
         "vl_id": 4414902,
         "vl_parent_id": null,
         "vl_user_id": 286128,
         "year": 2022
        },
        {
         "archived": true,
         "archived_at": null,
         "ascendable_filter": null,
         "ascendable_height": null,
         "ascendable_id": 332094,
         "ascendable_name": "Yellow",
         "ascendable_type": "GymBoulder",
         "color_1": "#ffd700",
         "color_2": null,
         "comment": null,
         "created_at": {},
         "created_at_right": "2022-03-29 07:11:56 +0000",
         "date": "2022-03-30 12:00:00 +0000",
         "difficulty": "6A",
         "difficulty_right": "6A",
         "display_route_setter": true,
         "eight_a_ascendable_id": null,
         "eight_a_id": null,
         "eight_a_logbook": false,
         "eight_a_parent_id": null,
         "eight_a_user_id": 133113,
         "expiration_date": null,
         "exposition": null,
         "features": null,
         "gallery": [],
         "grade": "vl-16",
         "grade_proposals": [
          [
           "vl-1",
           "2"
          ],
          [
           "vl-2",
           "2+"
          ],
          [
           "vl-3",
           "3-"
          ],
          [
           "vl-4",
           "3"
          ],
          [
           "vl-5",
           "3+"
          ],
          [
           "vl-6",
           "4-"
          ],
          [
           "vl-7",
           "4"
          ],
          [
           "vl-8",
           "4+"
          ],
          [
           "vl-9",
           "5-"
          ],
          [
           "vl-12",
           "5"
          ],
          [
           "vl-14",
           "5+"
          ],
          [
           "vl-16",
           "6A"
          ],
          [
           "vl-17",
           "6A+"
          ],
          [
           "vl-18",
           "6B"
          ],
          [
           "vl-19",
           "6B+"
          ],
          [
           "vl-21",
           "6C"
          ],
          [
           "vl-22",
           "6C+"
          ],
          [
           "vl-23",
           "7A"
          ],
          [
           "vl-24",
           "7A+"
          ],
          [
           "vl-25",
           "7B"
          ],
          [
           "vl-26",
           "7B+"
          ],
          [
           "vl-27",
           "7C"
          ],
          [
           "vl-28",
           "7C+"
          ],
          [
           "vl-29",
           "8A"
          ],
          [
           "vl-30",
           "8A+"
          ],
          [
           "vl-31",
           "8B"
          ],
          [
           "vl-32",
           "8B+"
          ],
          [
           "vl-33",
           "8C"
          ],
          [
           "vl-34",
           "8C+"
          ]
         ],
         "grade_right": "vl-16",
         "grading_system": "font",
         "grading_system_right": "font",
         "gym": {
          "ascent_count": 55969,
          "boulder_count": 131,
          "bouldering_grading_system": "font",
          "categories": 24,
          "country": "Sweden",
          "cover": "f85eaa2db48218e30ff6f8fe4197df56",
          "created_at": "2018-06-21 09:50:35 +0000",
          "difficulties": {
           "vl-1": 0,
           "vl-10": 0,
           "vl-11": 0,
           "vl-12": 2,
           "vl-13": 0,
           "vl-14": 11,
           "vl-15": 0,
           "vl-16": 11,
           "vl-17": 9,
           "vl-18": 9,
           "vl-19": 8,
           "vl-2": 0,
           "vl-20": 0,
           "vl-21": 10,
           "vl-22": 5,
           "vl-23": 6,
           "vl-24": 4,
           "vl-25": 4,
           "vl-26": 2,
           "vl-27": 3,
           "vl-28": 2,
           "vl-29": 1,
           "vl-3": 0,
           "vl-30": 1,
           "vl-31": 0,
           "vl-32": 0,
           "vl-33": 0,
           "vl-34": 0,
           "vl-35": 0,
           "vl-36": 0,
           "vl-37": 0,
           "vl-38": 0,
           "vl-39": 0,
           "vl-4": 0,
           "vl-5": 0,
           "vl-6": 5,
           "vl-7": 4,
           "vl-8": 4,
           "vl-9": 7
          },
          "difficulties_bouldering": {
           "vl-1": 0,
           "vl-10": 0,
           "vl-11": 0,
           "vl-12": 8,
           "vl-13": 0,
           "vl-14": 5,
           "vl-15": 0,
           "vl-16": 9,
           "vl-17": 8,
           "vl-18": 7,
           "vl-19": 12,
           "vl-2": 0,
           "vl-20": 0,
           "vl-21": 13,
           "vl-22": 9,
           "vl-23": 9,
           "vl-24": 7,
           "vl-25": 8,
           "vl-26": 6,
           "vl-27": 6,
           "vl-28": 4,
           "vl-29": 4,
           "vl-3": 0,
           "vl-30": 1,
           "vl-31": 0,
           "vl-32": 0,
           "vl-33": 0,
           "vl-34": 0,
           "vl-4": 2,
           "vl-5": 3,
           "vl-6": 0,
           "vl-7": 5,
           "vl-8": 5,
           "vl-9": 0
          },
          "elegible_for_boulder_training": true,
          "gym_status": {
           "checkins_enabled": false,
           "temporarily_closed": false
          },
          "id": 69,
          "item_type": "gym",
          "latitude": 59.3569,
          "logo": "ce68d672c98919d65f4311f9c9d9bb47",
          "longitude": 18.0162,
          "name": "Klättercentret Solna",
          "published": true,
          "published_at": "2018-08-31 07:00:00 +0000",
          "route_count": 108,
          "share_url": "https://zlag.vertical-life.info/en/gyms/klattercentret-solna",
          "sponsor_logo": null,
          "sportclimbing_grading_system": "french",
          "town": "Solna",
          "updated_at": "2019-12-04 08:30:11 +0000",
          "virtual": false
         },
         "gym_id": 69,
         "gym_wall_id": 734,
         "gym_wall_name": "B Sektionen",
         "height": 4,
         "hold_color": null,
         "hold_manufacturer": null,
         "id": 4593930,
         "id_right": 332094,
         "item_type": "gym_boulder",
         "line_number": 4,
         "name": "Yellow",
         "notes": null,
         "numberDifficulty": 60,
         "parent_id": 69,
         "parent_name": "Klättercentret Solna",
         "parent_name_right": "Bouldering, B Sektionen",
         "path": null,
         "path_right": [
          [
           121,
           188
          ],
          [
           232,
           182
          ],
          [
           444,
           185
          ],
          [
           506,
           184
          ],
          [
           514,
           311
          ],
          [
           470,
           489
          ],
          [
           235,
           479
          ],
          [
           138,
           504
          ],
          [
           143,
           350
          ],
          [
           121,
           189
          ]
         ],
         "perceived_hardness": 0,
         "project": false,
         "protection": 0,
         "provider": "verticallife",
         "rating": null,
         "recommended": false,
         "reference_width": 971,
         "repeat": false,
         "repeats": 0,
         "route_card_label": "B4.",
         "route_setter": "Benjamin Schlobohm",
         "safety_issues": null,
         "score": 453,
         "sector_id": 219,
         "sector_name": "Bouldering",
         "set_at": {},
         "shade": null,
         "share_url": "https://zlag.vertical-life.info/en/routes/7a27adc8baf8346da01c19e99280ff1f",
         "sit_down_start": null,
         "sits": 0,
         "stats": {
          "b": 0,
          "c": 0,
          "comment_count": 0,
          "e": 0,
          "f": 0,
          "flash": 11,
          "go": 0,
          "hard_count": 0,
          "onsight": 0,
          "overhanging": 0,
          "rating": 1.7,
          "ratings_count": 3,
          "redpoint": 9,
          "roof": 0,
          "s": 0,
          "safety": 2,
          "safety_issues_count": {
           "1": 0,
           "2": 0,
           "4": 0,
           "8": 0,
           "16": 0,
           "32": 0,
           "64": 0
          },
          "slab": 0,
          "soft_count": 0,
          "t": 0,
          "toprope": 0,
          "vertical": 0,
          "video_count": 0,
          "zlag_count": 20,
          "zlaggable_height_count": {
           "1": 0,
           "2": 0,
           "4": 0,
           "8": 0,
           "16": 0,
           "32": 0
          }
         },
         "steepness": 0,
         "steepness_right": 3,
         "style": "",
         "style_right": null,
         "sub_type": "",
         "topo": "e6411c2ffc69fdad028b8408b295e45c",
         "topo_num": "41800.4.",
         "traverse": false,
         "tries": 1,
         "two_start_holds": null,
         "type": "flash",
         "updated_at": {},
         "updated_at_right": "2022-05-12 08:25:22 +0000",
         "user_id": 230474,
         "virtual": false,
         "virtual_right": false,
         "vl_ascendable_id": null,
         "vl_id": 4414902,
         "vl_parent_id": null,
         "vl_user_id": 286128,
         "year": 2022
        },
        {
         "archived": true,
         "archived_at": null,
         "ascendable_filter": null,
         "ascendable_height": null,
         "ascendable_id": 332083,
         "ascendable_name": "Black",
         "ascendable_type": "GymBoulder",
         "color_1": "#000000",
         "color_2": null,
         "comment": null,
         "created_at": {},
         "created_at_right": "2022-03-29 07:06:38 +0000",
         "date": "2022-03-30 12:00:00 +0000",
         "difficulty": "4",
         "difficulty_right": "4",
         "display_route_setter": true,
         "eight_a_ascendable_id": null,
         "eight_a_id": null,
         "eight_a_logbook": false,
         "eight_a_parent_id": null,
         "eight_a_user_id": 133113,
         "expiration_date": null,
         "exposition": null,
         "features": null,
         "gallery": [],
         "grade": "vl-7",
         "grade_proposals": [
          [
           "vl-1",
           "2"
          ],
          [
           "vl-2",
           "2+"
          ],
          [
           "vl-3",
           "3-"
          ],
          [
           "vl-4",
           "3"
          ],
          [
           "vl-5",
           "3+"
          ],
          [
           "vl-6",
           "4-"
          ],
          [
           "vl-7",
           "4"
          ],
          [
           "vl-8",
           "4+"
          ],
          [
           "vl-9",
           "5-"
          ],
          [
           "vl-12",
           "5"
          ],
          [
           "vl-14",
           "5+"
          ],
          [
           "vl-16",
           "6A"
          ],
          [
           "vl-17",
           "6A+"
          ],
          [
           "vl-18",
           "6B"
          ],
          [
           "vl-19",
           "6B+"
          ],
          [
           "vl-21",
           "6C"
          ],
          [
           "vl-22",
           "6C+"
          ],
          [
           "vl-23",
           "7A"
          ],
          [
           "vl-24",
           "7A+"
          ],
          [
           "vl-25",
           "7B"
          ],
          [
           "vl-26",
           "7B+"
          ],
          [
           "vl-27",
           "7C"
          ],
          [
           "vl-28",
           "7C+"
          ],
          [
           "vl-29",
           "8A"
          ],
          [
           "vl-30",
           "8A+"
          ],
          [
           "vl-31",
           "8B"
          ],
          [
           "vl-32",
           "8B+"
          ],
          [
           "vl-33",
           "8C"
          ],
          [
           "vl-34",
           "8C+"
          ]
         ],
         "grade_right": "vl-7",
         "grading_system": "font",
         "grading_system_right": "font",
         "gym": {
          "ascent_count": 55969,
          "boulder_count": 131,
          "bouldering_grading_system": "font",
          "categories": 24,
          "country": "Sweden",
          "cover": "f85eaa2db48218e30ff6f8fe4197df56",
          "created_at": "2018-06-21 09:50:35 +0000",
          "difficulties": {
           "vl-1": 0,
           "vl-10": 0,
           "vl-11": 0,
           "vl-12": 2,
           "vl-13": 0,
           "vl-14": 11,
           "vl-15": 0,
           "vl-16": 11,
           "vl-17": 9,
           "vl-18": 9,
           "vl-19": 8,
           "vl-2": 0,
           "vl-20": 0,
           "vl-21": 10,
           "vl-22": 5,
           "vl-23": 6,
           "vl-24": 4,
           "vl-25": 4,
           "vl-26": 2,
           "vl-27": 3,
           "vl-28": 2,
           "vl-29": 1,
           "vl-3": 0,
           "vl-30": 1,
           "vl-31": 0,
           "vl-32": 0,
           "vl-33": 0,
           "vl-34": 0,
           "vl-35": 0,
           "vl-36": 0,
           "vl-37": 0,
           "vl-38": 0,
           "vl-39": 0,
           "vl-4": 0,
           "vl-5": 0,
           "vl-6": 5,
           "vl-7": 4,
           "vl-8": 4,
           "vl-9": 7
          },
          "difficulties_bouldering": {
           "vl-1": 0,
           "vl-10": 0,
           "vl-11": 0,
           "vl-12": 8,
           "vl-13": 0,
           "vl-14": 5,
           "vl-15": 0,
           "vl-16": 9,
           "vl-17": 8,
           "vl-18": 7,
           "vl-19": 12,
           "vl-2": 0,
           "vl-20": 0,
           "vl-21": 13,
           "vl-22": 9,
           "vl-23": 9,
           "vl-24": 7,
           "vl-25": 8,
           "vl-26": 6,
           "vl-27": 6,
           "vl-28": 4,
           "vl-29": 4,
           "vl-3": 0,
           "vl-30": 1,
           "vl-31": 0,
           "vl-32": 0,
           "vl-33": 0,
           "vl-34": 0,
           "vl-4": 2,
           "vl-5": 3,
           "vl-6": 0,
           "vl-7": 5,
           "vl-8": 5,
           "vl-9": 0
          },
          "elegible_for_boulder_training": true,
          "gym_status": {
           "checkins_enabled": false,
           "temporarily_closed": false
          },
          "id": 69,
          "item_type": "gym",
          "latitude": 59.3569,
          "logo": "ce68d672c98919d65f4311f9c9d9bb47",
          "longitude": 18.0162,
          "name": "Klättercentret Solna",
          "published": true,
          "published_at": "2018-08-31 07:00:00 +0000",
          "route_count": 108,
          "share_url": "https://zlag.vertical-life.info/en/gyms/klattercentret-solna",
          "sponsor_logo": null,
          "sportclimbing_grading_system": "french",
          "town": "Solna",
          "updated_at": "2019-12-04 08:30:11 +0000",
          "virtual": false
         },
         "gym_id": 69,
         "gym_wall_id": 734,
         "gym_wall_name": "B Sektionen",
         "height": 4,
         "hold_color": null,
         "hold_manufacturer": null,
         "id": 4594252,
         "id_right": 332083,
         "item_type": "gym_boulder",
         "line_number": 3,
         "name": "Black",
         "notes": null,
         "numberDifficulty": 36,
         "parent_id": 69,
         "parent_name": "Klättercentret Solna",
         "parent_name_right": "Bouldering, B Sektionen",
         "path": null,
         "path_right": [
          [
           508,
           187
          ],
          [
           689,
           184
          ],
          [
           847,
           182
          ],
          [
           931,
           514
          ],
          [
           470,
           491
          ],
          [
           515,
           312
          ],
          [
           508,
           186
          ]
         ],
         "perceived_hardness": 0,
         "project": false,
         "protection": 0,
         "provider": "verticallife",
         "rating": null,
         "recommended": false,
         "reference_width": 971,
         "repeat": false,
         "repeats": 0,
         "route_card_label": "B3.",
         "route_setter": "Anton Cuevas",
         "safety_issues": null,
         "score": 103,
         "sector_id": 219,
         "sector_name": "Bouldering",
         "set_at": {},
         "shade": null,
         "share_url": "https://zlag.vertical-life.info/en/routes/b26b626e6742e71a7da43febc560024c",
         "sit_down_start": null,
         "sits": 0,
         "stats": {
          "b": 0,
          "c": 0,
          "comment_count": 0,
          "e": 0,
          "f": 0,
          "flash": 7,
          "go": 0,
          "hard_count": 0,
          "onsight": 0,
          "overhanging": 0,
          "rating": 0,
          "ratings_count": 0,
          "redpoint": 0,
          "roof": 0,
          "s": 0,
          "safety": 2,
          "safety_issues_count": {
           "1": 0,
           "2": 0,
           "4": 0,
           "8": 0,
           "16": 0,
           "32": 0,
           "64": 0
          },
          "slab": 0,
          "soft_count": 0,
          "t": 0,
          "toprope": 0,
          "vertical": 0,
          "video_count": 0,
          "zlag_count": 7,
          "zlaggable_height_count": {
           "1": 0,
           "2": 0,
           "4": 0,
           "8": 0,
           "16": 0,
           "32": 0
          }
         },
         "steepness": 0,
         "steepness_right": 3,
         "style": "",
         "style_right": null,
         "sub_type": "",
         "topo": "e6411c2ffc69fdad028b8408b295e45c",
         "topo_num": "41800.3.",
         "traverse": false,
         "tries": 1,
         "two_start_holds": null,
         "type": "flash",
         "updated_at": {},
         "updated_at_right": "2022-05-12 08:25:26 +0000",
         "user_id": 230474,
         "virtual": false,
         "virtual_right": false,
         "vl_ascendable_id": null,
         "vl_id": 4414955,
         "vl_parent_id": null,
         "vl_user_id": 286128,
         "year": 2022
        },
        {
         "archived": true,
         "archived_at": null,
         "ascendable_filter": null,
         "ascendable_height": null,
         "ascendable_id": 331411,
         "ascendable_name": "Turquoise SIT",
         "ascendable_type": "GymBoulder",
         "color_1": "#87ccc6",
         "color_2": null,
         "comment": null,
         "created_at": {},
         "created_at_right": "2022-03-25 10:20:23 +0000",
         "date": "2022-04-10 12:00:00 +0000",
         "difficulty": "6A",
         "difficulty_right": "6A",
         "display_route_setter": true,
         "eight_a_ascendable_id": null,
         "eight_a_id": null,
         "eight_a_logbook": false,
         "eight_a_parent_id": null,
         "eight_a_user_id": 133113,
         "expiration_date": null,
         "exposition": null,
         "features": null,
         "gallery": [],
         "grade": "vl-16",
         "grade_proposals": [
          [
           "vl-1",
           "2"
          ],
          [
           "vl-2",
           "2+"
          ],
          [
           "vl-3",
           "3-"
          ],
          [
           "vl-4",
           "3"
          ],
          [
           "vl-5",
           "3+"
          ],
          [
           "vl-6",
           "4-"
          ],
          [
           "vl-7",
           "4"
          ],
          [
           "vl-8",
           "4+"
          ],
          [
           "vl-9",
           "5-"
          ],
          [
           "vl-12",
           "5"
          ],
          [
           "vl-14",
           "5+"
          ],
          [
           "vl-16",
           "6A"
          ],
          [
           "vl-17",
           "6A+"
          ],
          [
           "vl-18",
           "6B"
          ],
          [
           "vl-19",
           "6B+"
          ],
          [
           "vl-21",
           "6C"
          ],
          [
           "vl-22",
           "6C+"
          ],
          [
           "vl-23",
           "7A"
          ],
          [
           "vl-24",
           "7A+"
          ],
          [
           "vl-25",
           "7B"
          ],
          [
           "vl-26",
           "7B+"
          ],
          [
           "vl-27",
           "7C"
          ],
          [
           "vl-28",
           "7C+"
          ],
          [
           "vl-29",
           "8A"
          ],
          [
           "vl-30",
           "8A+"
          ],
          [
           "vl-31",
           "8B"
          ],
          [
           "vl-32",
           "8B+"
          ],
          [
           "vl-33",
           "8C"
          ],
          [
           "vl-34",
           "8C+"
          ]
         ],
         "grade_right": "vl-16",
         "grading_system": "font",
         "grading_system_right": "font",
         "gym": {
          "ascent_count": 55969,
          "boulder_count": 131,
          "bouldering_grading_system": "font",
          "categories": 24,
          "country": "Sweden",
          "cover": "f85eaa2db48218e30ff6f8fe4197df56",
          "created_at": "2018-06-21 09:50:35 +0000",
          "difficulties": {
           "vl-1": 0,
           "vl-10": 0,
           "vl-11": 0,
           "vl-12": 2,
           "vl-13": 0,
           "vl-14": 11,
           "vl-15": 0,
           "vl-16": 11,
           "vl-17": 9,
           "vl-18": 9,
           "vl-19": 8,
           "vl-2": 0,
           "vl-20": 0,
           "vl-21": 10,
           "vl-22": 5,
           "vl-23": 6,
           "vl-24": 4,
           "vl-25": 4,
           "vl-26": 2,
           "vl-27": 3,
           "vl-28": 2,
           "vl-29": 1,
           "vl-3": 0,
           "vl-30": 1,
           "vl-31": 0,
           "vl-32": 0,
           "vl-33": 0,
           "vl-34": 0,
           "vl-35": 0,
           "vl-36": 0,
           "vl-37": 0,
           "vl-38": 0,
           "vl-39": 0,
           "vl-4": 0,
           "vl-5": 0,
           "vl-6": 5,
           "vl-7": 4,
           "vl-8": 4,
           "vl-9": 7
          },
          "difficulties_bouldering": {
           "vl-1": 0,
           "vl-10": 0,
           "vl-11": 0,
           "vl-12": 8,
           "vl-13": 0,
           "vl-14": 5,
           "vl-15": 0,
           "vl-16": 9,
           "vl-17": 8,
           "vl-18": 7,
           "vl-19": 12,
           "vl-2": 0,
           "vl-20": 0,
           "vl-21": 13,
           "vl-22": 9,
           "vl-23": 9,
           "vl-24": 7,
           "vl-25": 8,
           "vl-26": 6,
           "vl-27": 6,
           "vl-28": 4,
           "vl-29": 4,
           "vl-3": 0,
           "vl-30": 1,
           "vl-31": 0,
           "vl-32": 0,
           "vl-33": 0,
           "vl-34": 0,
           "vl-4": 2,
           "vl-5": 3,
           "vl-6": 0,
           "vl-7": 5,
           "vl-8": 5,
           "vl-9": 0
          },
          "elegible_for_boulder_training": true,
          "gym_status": {
           "checkins_enabled": false,
           "temporarily_closed": false
          },
          "id": 69,
          "item_type": "gym",
          "latitude": 59.3569,
          "logo": "ce68d672c98919d65f4311f9c9d9bb47",
          "longitude": 18.0162,
          "name": "Klättercentret Solna",
          "published": true,
          "published_at": "2018-08-31 07:00:00 +0000",
          "route_count": 108,
          "share_url": "https://zlag.vertical-life.info/en/gyms/klattercentret-solna",
          "sponsor_logo": null,
          "sportclimbing_grading_system": "french",
          "town": "Solna",
          "updated_at": "2019-12-04 08:30:11 +0000",
          "virtual": false
         },
         "gym_id": 69,
         "gym_wall_id": 733,
         "gym_wall_name": "A Sektionen",
         "height": 4,
         "hold_color": null,
         "hold_manufacturer": null,
         "id": 4244308,
         "id_right": 331411,
         "item_type": "gym_boulder",
         "line_number": 2,
         "name": "Turquoise SIT",
         "notes": null,
         "numberDifficulty": 60,
         "parent_id": 69,
         "parent_name": "Klättercentret Solna",
         "parent_name_right": "Bouldering, A Sektionen",
         "path": null,
         "path_right": [
          [
           291,
           182
          ],
          [
           302,
           300
          ],
          [
           294,
           520
          ],
          [
           382,
           504
          ],
          [
           507,
           502
          ],
          [
           721,
           526
          ],
          [
           720,
           489
          ],
          [
           733,
           183
          ],
          [
           565,
           180
          ],
          [
           291,
           182
          ]
         ],
         "perceived_hardness": 0,
         "project": false,
         "protection": 0,
         "provider": "verticallife",
         "rating": null,
         "recommended": false,
         "reference_width": 971,
         "repeat": false,
         "repeats": 0,
         "route_card_label": "A2.",
         "route_setter": "Stina Dorwarth",
         "safety_issues": null,
         "score": 402,
         "sector_id": 219,
         "sector_name": "Bouldering",
         "set_at": {},
         "shade": null,
         "share_url": "https://zlag.vertical-life.info/en/routes/77e9bf555132c6c61b4b988b91d2721d",
         "sit_down_start": true,
         "sits": 0,
         "stats": {
          "b": 0,
          "c": 0,
          "comment_count": 0,
          "e": 0,
          "f": 0,
          "flash": 10,
          "go": 0,
          "hard_count": 0,
          "onsight": 0,
          "overhanging": 0,
          "rating": 3.5,
          "ratings_count": 2,
          "redpoint": 9,
          "roof": 0,
          "s": 0,
          "safety": 2,
          "safety_issues_count": {
           "1": 0,
           "2": 0,
           "4": 0,
           "8": 0,
           "16": 0,
           "32": 0,
           "64": 0
          },
          "slab": 0,
          "soft_count": 1,
          "t": 0,
          "toprope": 0,
          "vertical": 0,
          "video_count": 0,
          "zlag_count": 19,
          "zlaggable_height_count": {
           "1": 0,
           "2": 0,
           "4": 0,
           "8": 0,
           "16": 0,
           "32": 0
          }
         },
         "steepness": 0,
         "steepness_right": 7,
         "style": "",
         "style_right": null,
         "sub_type": "",
         "topo": "e56970f2e4e002f62f72f0061adfa987",
         "topo_num": "41797.2.",
         "traverse": false,
         "tries": 2,
         "two_start_holds": null,
         "type": "redpoint",
         "updated_at": {},
         "updated_at_right": "2022-06-16 08:51:20 +0000",
         "user_id": 230474,
         "virtual": false,
         "virtual_right": false,
         "vl_ascendable_id": null,
         "vl_id": 4448471,
         "vl_parent_id": null,
         "vl_user_id": 286128,
         "year": 2022
        },
        {
         "archived": true,
         "archived_at": null,
         "ascendable_filter": null,
         "ascendable_height": null,
         "ascendable_id": 323153,
         "ascendable_name": "Turquoise",
         "ascendable_type": "GymBoulder",
         "color_1": "#87ccc6",
         "color_2": null,
         "comment": null,
         "created_at": {},
         "created_at_right": "2022-02-24 15:49:53 +0000",
         "date": "2022-04-13 12:00:00 +0000",
         "difficulty": "5",
         "difficulty_right": "5",
         "display_route_setter": true,
         "eight_a_ascendable_id": null,
         "eight_a_id": null,
         "eight_a_logbook": false,
         "eight_a_parent_id": null,
         "eight_a_user_id": 133113,
         "expiration_date": null,
         "exposition": null,
         "features": null,
         "gallery": [],
         "grade": "vl-12",
         "grade_proposals": [
          [
           "vl-1",
           "2"
          ],
          [
           "vl-2",
           "2+"
          ],
          [
           "vl-3",
           "3-"
          ],
          [
           "vl-4",
           "3"
          ],
          [
           "vl-5",
           "3+"
          ],
          [
           "vl-6",
           "4-"
          ],
          [
           "vl-7",
           "4"
          ],
          [
           "vl-8",
           "4+"
          ],
          [
           "vl-9",
           "5-"
          ],
          [
           "vl-12",
           "5"
          ],
          [
           "vl-14",
           "5+"
          ],
          [
           "vl-16",
           "6A"
          ],
          [
           "vl-17",
           "6A+"
          ],
          [
           "vl-18",
           "6B"
          ],
          [
           "vl-19",
           "6B+"
          ],
          [
           "vl-21",
           "6C"
          ],
          [
           "vl-22",
           "6C+"
          ],
          [
           "vl-23",
           "7A"
          ],
          [
           "vl-24",
           "7A+"
          ],
          [
           "vl-25",
           "7B"
          ],
          [
           "vl-26",
           "7B+"
          ],
          [
           "vl-27",
           "7C"
          ],
          [
           "vl-28",
           "7C+"
          ],
          [
           "vl-29",
           "8A"
          ],
          [
           "vl-30",
           "8A+"
          ],
          [
           "vl-31",
           "8B"
          ],
          [
           "vl-32",
           "8B+"
          ],
          [
           "vl-33",
           "8C"
          ],
          [
           "vl-34",
           "8C+"
          ]
         ],
         "grade_right": "vl-12",
         "grading_system": "font",
         "grading_system_right": "font",
         "gym": {
          "ascent_count": 55969,
          "boulder_count": 131,
          "bouldering_grading_system": "font",
          "categories": 24,
          "country": "Sweden",
          "cover": "f85eaa2db48218e30ff6f8fe4197df56",
          "created_at": "2018-06-21 09:50:35 +0000",
          "difficulties": {
           "vl-1": 0,
           "vl-10": 0,
           "vl-11": 0,
           "vl-12": 2,
           "vl-13": 0,
           "vl-14": 11,
           "vl-15": 0,
           "vl-16": 11,
           "vl-17": 9,
           "vl-18": 9,
           "vl-19": 8,
           "vl-2": 0,
           "vl-20": 0,
           "vl-21": 10,
           "vl-22": 5,
           "vl-23": 6,
           "vl-24": 4,
           "vl-25": 4,
           "vl-26": 2,
           "vl-27": 3,
           "vl-28": 2,
           "vl-29": 1,
           "vl-3": 0,
           "vl-30": 1,
           "vl-31": 0,
           "vl-32": 0,
           "vl-33": 0,
           "vl-34": 0,
           "vl-35": 0,
           "vl-36": 0,
           "vl-37": 0,
           "vl-38": 0,
           "vl-39": 0,
           "vl-4": 0,
           "vl-5": 0,
           "vl-6": 5,
           "vl-7": 4,
           "vl-8": 4,
           "vl-9": 7
          },
          "difficulties_bouldering": {
           "vl-1": 0,
           "vl-10": 0,
           "vl-11": 0,
           "vl-12": 8,
           "vl-13": 0,
           "vl-14": 5,
           "vl-15": 0,
           "vl-16": 9,
           "vl-17": 8,
           "vl-18": 7,
           "vl-19": 12,
           "vl-2": 0,
           "vl-20": 0,
           "vl-21": 13,
           "vl-22": 9,
           "vl-23": 9,
           "vl-24": 7,
           "vl-25": 8,
           "vl-26": 6,
           "vl-27": 6,
           "vl-28": 4,
           "vl-29": 4,
           "vl-3": 0,
           "vl-30": 1,
           "vl-31": 0,
           "vl-32": 0,
           "vl-33": 0,
           "vl-34": 0,
           "vl-4": 2,
           "vl-5": 3,
           "vl-6": 0,
           "vl-7": 5,
           "vl-8": 5,
           "vl-9": 0
          },
          "elegible_for_boulder_training": true,
          "gym_status": {
           "checkins_enabled": false,
           "temporarily_closed": false
          },
          "id": 69,
          "item_type": "gym",
          "latitude": 59.3569,
          "logo": "ce68d672c98919d65f4311f9c9d9bb47",
          "longitude": 18.0162,
          "name": "Klättercentret Solna",
          "published": true,
          "published_at": "2018-08-31 07:00:00 +0000",
          "route_count": 108,
          "share_url": "https://zlag.vertical-life.info/en/gyms/klattercentret-solna",
          "sponsor_logo": null,
          "sportclimbing_grading_system": "french",
          "town": "Solna",
          "updated_at": "2019-12-04 08:30:11 +0000",
          "virtual": false
         },
         "gym_id": 69,
         "gym_wall_id": 733,
         "gym_wall_name": "A Sektionen",
         "height": 4,
         "hold_color": null,
         "hold_manufacturer": null,
         "id": 4124086,
         "id_right": 323153,
         "item_type": "gym_boulder",
         "line_number": 8,
         "name": "Turquoise",
         "notes": null,
         "numberDifficulty": 48,
         "parent_id": 69,
         "parent_name": "Klättercentret Solna",
         "parent_name_right": "Bouldering, A Sektionen",
         "path": null,
         "path_right": [
          [
           31,
           186
          ],
          [
           17,
           521
          ],
          [
           142,
           506
          ],
          [
           268,
           496
          ],
          [
           335,
           500
          ],
          [
           336,
           420
          ],
          [
           335,
           392
          ],
          [
           327,
           340
          ],
          [
           346,
           253
          ],
          [
           312,
           177
          ],
          [
           217,
           180
          ],
          [
           86,
           191
          ],
          [
           31,
           187
          ]
         ],
         "perceived_hardness": 0,
         "project": false,
         "protection": null,
         "provider": "verticallife",
         "rating": null,
         "recommended": false,
         "reference_width": 971,
         "repeat": false,
         "repeats": 0,
         "route_card_label": "A8.",
         "route_setter": "Anton Cuevas",
         "safety_issues": null,
         "score": 253,
         "sector_id": 219,
         "sector_name": "Bouldering",
         "set_at": {},
         "shade": null,
         "share_url": "https://zlag.vertical-life.info/en/routes/826e1884ffc35cd53eb8c39c3f9b1f7a",
         "sit_down_start": null,
         "sits": 0,
         "stats": {
          "b": 0,
          "c": 0,
          "comment_count": 0,
          "e": 0,
          "f": 0,
          "flash": 7,
          "go": 0,
          "hard_count": 0,
          "onsight": 0,
          "overhanging": 0,
          "rating": 0,
          "ratings_count": 0,
          "redpoint": 0,
          "roof": 0,
          "s": 0,
          "safety": 0,
          "safety_issues_count": {
           "1": 0,
           "2": 0,
           "4": 0,
           "8": 0,
           "16": 0,
           "32": 0,
           "64": 0
          },
          "slab": 0,
          "soft_count": 0,
          "t": 0,
          "toprope": 0,
          "vertical": 0,
          "video_count": 0,
          "zlag_count": 7,
          "zlaggable_height_count": {
           "1": 0,
           "2": 0,
           "4": 0,
           "8": 0,
           "16": 0,
           "32": 0
          }
         },
         "steepness": 0,
         "steepness_right": 7,
         "style": "",
         "style_right": null,
         "sub_type": "",
         "topo": "5c34763248de2c434a96e3fd1bd72118",
         "topo_num": "41798.8.",
         "traverse": false,
         "tries": 1,
         "two_start_holds": null,
         "type": "flash",
         "updated_at": {},
         "updated_at_right": "2022-05-09 07:22:13 +0000",
         "user_id": 230474,
         "virtual": false,
         "virtual_right": false,
         "vl_ascendable_id": null,
         "vl_id": 4458244,
         "vl_parent_id": null,
         "vl_user_id": 286128,
         "year": 2022
        },
        {
         "archived": true,
         "archived_at": null,
         "ascendable_filter": null,
         "ascendable_height": null,
         "ascendable_id": 336041,
         "ascendable_name": "Turquoise",
         "ascendable_type": "GymBoulder",
         "color_1": "#87ccc6",
         "color_2": null,
         "comment": null,
         "created_at": {},
         "created_at_right": "2022-04-11 15:34:08 +0000",
         "date": "2022-04-13 12:00:00 +0000",
         "difficulty": "4",
         "difficulty_right": "4",
         "display_route_setter": true,
         "eight_a_ascendable_id": null,
         "eight_a_id": null,
         "eight_a_logbook": false,
         "eight_a_parent_id": null,
         "eight_a_user_id": 133113,
         "expiration_date": null,
         "exposition": null,
         "features": null,
         "gallery": [],
         "grade": "vl-7",
         "grade_proposals": [
          [
           "vl-1",
           "2"
          ],
          [
           "vl-2",
           "2+"
          ],
          [
           "vl-3",
           "3-"
          ],
          [
           "vl-4",
           "3"
          ],
          [
           "vl-5",
           "3+"
          ],
          [
           "vl-6",
           "4-"
          ],
          [
           "vl-7",
           "4"
          ],
          [
           "vl-8",
           "4+"
          ],
          [
           "vl-9",
           "5-"
          ],
          [
           "vl-12",
           "5"
          ],
          [
           "vl-14",
           "5+"
          ],
          [
           "vl-16",
           "6A"
          ],
          [
           "vl-17",
           "6A+"
          ],
          [
           "vl-18",
           "6B"
          ],
          [
           "vl-19",
           "6B+"
          ],
          [
           "vl-21",
           "6C"
          ],
          [
           "vl-22",
           "6C+"
          ],
          [
           "vl-23",
           "7A"
          ],
          [
           "vl-24",
           "7A+"
          ],
          [
           "vl-25",
           "7B"
          ],
          [
           "vl-26",
           "7B+"
          ],
          [
           "vl-27",
           "7C"
          ],
          [
           "vl-28",
           "7C+"
          ],
          [
           "vl-29",
           "8A"
          ],
          [
           "vl-30",
           "8A+"
          ],
          [
           "vl-31",
           "8B"
          ],
          [
           "vl-32",
           "8B+"
          ],
          [
           "vl-33",
           "8C"
          ],
          [
           "vl-34",
           "8C+"
          ]
         ],
         "grade_right": "vl-7",
         "grading_system": "font",
         "grading_system_right": "font",
         "gym": {
          "ascent_count": 55969,
          "boulder_count": 131,
          "bouldering_grading_system": "font",
          "categories": 24,
          "country": "Sweden",
          "cover": "f85eaa2db48218e30ff6f8fe4197df56",
          "created_at": "2018-06-21 09:50:35 +0000",
          "difficulties": {
           "vl-1": 0,
           "vl-10": 0,
           "vl-11": 0,
           "vl-12": 2,
           "vl-13": 0,
           "vl-14": 11,
           "vl-15": 0,
           "vl-16": 11,
           "vl-17": 9,
           "vl-18": 9,
           "vl-19": 8,
           "vl-2": 0,
           "vl-20": 0,
           "vl-21": 10,
           "vl-22": 5,
           "vl-23": 6,
           "vl-24": 4,
           "vl-25": 4,
           "vl-26": 2,
           "vl-27": 3,
           "vl-28": 2,
           "vl-29": 1,
           "vl-3": 0,
           "vl-30": 1,
           "vl-31": 0,
           "vl-32": 0,
           "vl-33": 0,
           "vl-34": 0,
           "vl-35": 0,
           "vl-36": 0,
           "vl-37": 0,
           "vl-38": 0,
           "vl-39": 0,
           "vl-4": 0,
           "vl-5": 0,
           "vl-6": 5,
           "vl-7": 4,
           "vl-8": 4,
           "vl-9": 7
          },
          "difficulties_bouldering": {
           "vl-1": 0,
           "vl-10": 0,
           "vl-11": 0,
           "vl-12": 8,
           "vl-13": 0,
           "vl-14": 5,
           "vl-15": 0,
           "vl-16": 9,
           "vl-17": 8,
           "vl-18": 7,
           "vl-19": 12,
           "vl-2": 0,
           "vl-20": 0,
           "vl-21": 13,
           "vl-22": 9,
           "vl-23": 9,
           "vl-24": 7,
           "vl-25": 8,
           "vl-26": 6,
           "vl-27": 6,
           "vl-28": 4,
           "vl-29": 4,
           "vl-3": 0,
           "vl-30": 1,
           "vl-31": 0,
           "vl-32": 0,
           "vl-33": 0,
           "vl-34": 0,
           "vl-4": 2,
           "vl-5": 3,
           "vl-6": 0,
           "vl-7": 5,
           "vl-8": 5,
           "vl-9": 0
          },
          "elegible_for_boulder_training": true,
          "gym_status": {
           "checkins_enabled": false,
           "temporarily_closed": false
          },
          "id": 69,
          "item_type": "gym",
          "latitude": 59.3569,
          "logo": "ce68d672c98919d65f4311f9c9d9bb47",
          "longitude": 18.0162,
          "name": "Klättercentret Solna",
          "published": true,
          "published_at": "2018-08-31 07:00:00 +0000",
          "route_count": 108,
          "share_url": "https://zlag.vertical-life.info/en/gyms/klattercentret-solna",
          "sponsor_logo": null,
          "sportclimbing_grading_system": "french",
          "town": "Solna",
          "updated_at": "2019-12-04 08:30:11 +0000",
          "virtual": false
         },
         "gym_id": 69,
         "gym_wall_id": 734,
         "gym_wall_name": "B Sektionen",
         "height": 4,
         "hold_color": null,
         "hold_manufacturer": null,
         "id": 4024414,
         "id_right": 336041,
         "item_type": "gym_boulder",
         "line_number": 6,
         "name": "Turquoise",
         "notes": null,
         "numberDifficulty": 36,
         "parent_id": 69,
         "parent_name": "Klättercentret Solna",
         "parent_name_right": "Bouldering, B Sektionen",
         "path": null,
         "path_right": [
          [
           39,
           175
          ],
          [
           422,
           183
          ],
          [
           456,
           589
          ],
          [
           77,
           584
          ],
          [
           40,
           175
          ]
         ],
         "perceived_hardness": 0,
         "project": false,
         "protection": null,
         "provider": "verticallife",
         "rating": null,
         "recommended": false,
         "reference_width": 971,
         "repeat": false,
         "repeats": 0,
         "route_card_label": "B6.",
         "route_setter": "Anton Cuevas",
         "safety_issues": null,
         "score": 103,
         "sector_id": 219,
         "sector_name": "Bouldering",
         "set_at": {},
         "shade": null,
         "share_url": "https://zlag.vertical-life.info/en/routes/1096a2a850f498233e775e752c42bbdb",
         "sit_down_start": null,
         "sits": 0,
         "stats": {
          "b": 0,
          "c": 0,
          "comment_count": 0,
          "e": 0,
          "f": 0,
          "flash": 8,
          "go": 0,
          "hard_count": 0,
          "onsight": 0,
          "overhanging": 0,
          "rating": 5,
          "ratings_count": 2,
          "redpoint": 2,
          "roof": 0,
          "s": 0,
          "safety": 0,
          "safety_issues_count": {
           "1": 0,
           "2": 0,
           "4": 0,
           "8": 0,
           "16": 0,
           "32": 0,
           "64": 0
          },
          "slab": 0,
          "soft_count": 1,
          "t": 0,
          "toprope": 0,
          "vertical": 0,
          "video_count": 0,
          "zlag_count": 10,
          "zlaggable_height_count": {
           "1": 0,
           "2": 0,
           "4": 0,
           "8": 0,
           "16": 0,
           "32": 0
          }
         },
         "steepness": 0,
         "steepness_right": 3,
         "style": "a",
         "style_right": "a",
         "sub_type": "",
         "topo": "abd490d1d42d11879845d640b480b7b2",
         "topo_num": "41802.6.",
         "traverse": false,
         "tries": 1,
         "two_start_holds": null,
         "type": "flash",
         "updated_at": {},
         "updated_at_right": "2022-06-02 09:28:43 +0000",
         "user_id": 230474,
         "virtual": false,
         "virtual_right": false,
         "vl_ascendable_id": null,
         "vl_id": 4458300,
         "vl_parent_id": null,
         "vl_user_id": 286128,
         "year": 2022
        },
        {
         "archived": true,
         "archived_at": null,
         "ascendable_filter": null,
         "ascendable_height": null,
         "ascendable_id": 336603,
         "ascendable_name": "Red",
         "ascendable_type": "GymBoulder",
         "color_1": "#ff0000",
         "color_2": null,
         "comment": null,
         "created_at": {},
         "created_at_right": "2022-04-13 13:50:24 +0000",
         "date": "2022-04-13 12:00:00 +0000",
         "difficulty": "4+",
         "difficulty_right": "4+",
         "display_route_setter": true,
         "eight_a_ascendable_id": null,
         "eight_a_id": null,
         "eight_a_logbook": false,
         "eight_a_parent_id": null,
         "eight_a_user_id": 133113,
         "expiration_date": null,
         "exposition": null,
         "features": null,
         "gallery": [],
         "grade": "vl-8",
         "grade_proposals": [
          [
           "vl-1",
           "2"
          ],
          [
           "vl-2",
           "2+"
          ],
          [
           "vl-3",
           "3-"
          ],
          [
           "vl-4",
           "3"
          ],
          [
           "vl-5",
           "3+"
          ],
          [
           "vl-6",
           "4-"
          ],
          [
           "vl-7",
           "4"
          ],
          [
           "vl-8",
           "4+"
          ],
          [
           "vl-9",
           "5-"
          ],
          [
           "vl-12",
           "5"
          ],
          [
           "vl-14",
           "5+"
          ],
          [
           "vl-16",
           "6A"
          ],
          [
           "vl-17",
           "6A+"
          ],
          [
           "vl-18",
           "6B"
          ],
          [
           "vl-19",
           "6B+"
          ],
          [
           "vl-21",
           "6C"
          ],
          [
           "vl-22",
           "6C+"
          ],
          [
           "vl-23",
           "7A"
          ],
          [
           "vl-24",
           "7A+"
          ],
          [
           "vl-25",
           "7B"
          ],
          [
           "vl-26",
           "7B+"
          ],
          [
           "vl-27",
           "7C"
          ],
          [
           "vl-28",
           "7C+"
          ],
          [
           "vl-29",
           "8A"
          ],
          [
           "vl-30",
           "8A+"
          ],
          [
           "vl-31",
           "8B"
          ],
          [
           "vl-32",
           "8B+"
          ],
          [
           "vl-33",
           "8C"
          ],
          [
           "vl-34",
           "8C+"
          ]
         ],
         "grade_right": "vl-8",
         "grading_system": "font",
         "grading_system_right": "font",
         "gym": {
          "ascent_count": 55969,
          "boulder_count": 131,
          "bouldering_grading_system": "font",
          "categories": 24,
          "country": "Sweden",
          "cover": "f85eaa2db48218e30ff6f8fe4197df56",
          "created_at": "2018-06-21 09:50:35 +0000",
          "difficulties": {
           "vl-1": 0,
           "vl-10": 0,
           "vl-11": 0,
           "vl-12": 2,
           "vl-13": 0,
           "vl-14": 11,
           "vl-15": 0,
           "vl-16": 11,
           "vl-17": 9,
           "vl-18": 9,
           "vl-19": 8,
           "vl-2": 0,
           "vl-20": 0,
           "vl-21": 10,
           "vl-22": 5,
           "vl-23": 6,
           "vl-24": 4,
           "vl-25": 4,
           "vl-26": 2,
           "vl-27": 3,
           "vl-28": 2,
           "vl-29": 1,
           "vl-3": 0,
           "vl-30": 1,
           "vl-31": 0,
           "vl-32": 0,
           "vl-33": 0,
           "vl-34": 0,
           "vl-35": 0,
           "vl-36": 0,
           "vl-37": 0,
           "vl-38": 0,
           "vl-39": 0,
           "vl-4": 0,
           "vl-5": 0,
           "vl-6": 5,
           "vl-7": 4,
           "vl-8": 4,
           "vl-9": 7
          },
          "difficulties_bouldering": {
           "vl-1": 0,
           "vl-10": 0,
           "vl-11": 0,
           "vl-12": 8,
           "vl-13": 0,
           "vl-14": 5,
           "vl-15": 0,
           "vl-16": 9,
           "vl-17": 8,
           "vl-18": 7,
           "vl-19": 12,
           "vl-2": 0,
           "vl-20": 0,
           "vl-21": 13,
           "vl-22": 9,
           "vl-23": 9,
           "vl-24": 7,
           "vl-25": 8,
           "vl-26": 6,
           "vl-27": 6,
           "vl-28": 4,
           "vl-29": 4,
           "vl-3": 0,
           "vl-30": 1,
           "vl-31": 0,
           "vl-32": 0,
           "vl-33": 0,
           "vl-34": 0,
           "vl-4": 2,
           "vl-5": 3,
           "vl-6": 0,
           "vl-7": 5,
           "vl-8": 5,
           "vl-9": 0
          },
          "elegible_for_boulder_training": true,
          "gym_status": {
           "checkins_enabled": false,
           "temporarily_closed": false
          },
          "id": 69,
          "item_type": "gym",
          "latitude": 59.3569,
          "logo": "ce68d672c98919d65f4311f9c9d9bb47",
          "longitude": 18.0162,
          "name": "Klättercentret Solna",
          "published": true,
          "published_at": "2018-08-31 07:00:00 +0000",
          "route_count": 108,
          "share_url": "https://zlag.vertical-life.info/en/gyms/klattercentret-solna",
          "sponsor_logo": null,
          "sportclimbing_grading_system": "french",
          "town": "Solna",
          "updated_at": "2019-12-04 08:30:11 +0000",
          "virtual": false
         },
         "gym_id": 69,
         "gym_wall_id": 734,
         "gym_wall_name": "B Sektionen",
         "height": 4,
         "hold_color": null,
         "hold_manufacturer": null,
         "id": 4024412,
         "id_right": 336603,
         "item_type": "gym_boulder",
         "line_number": 4,
         "name": "Red",
         "notes": null,
         "numberDifficulty": 42,
         "parent_id": 69,
         "parent_name": "Klättercentret Solna",
         "parent_name_right": "Bouldering, B Sektionen",
         "path": null,
         "path_right": [
          [
           121,
           188
          ],
          [
           232,
           182
          ],
          [
           444,
           185
          ],
          [
           506,
           184
          ],
          [
           514,
           311
          ],
          [
           470,
           489
          ],
          [
           235,
           479
          ],
          [
           138,
           504
          ],
          [
           143,
           350
          ],
          [
           121,
           189
          ]
         ],
         "perceived_hardness": 0,
         "project": false,
         "protection": null,
         "provider": "verticallife",
         "rating": null,
         "recommended": false,
         "reference_width": 971,
         "repeat": false,
         "repeats": 0,
         "route_card_label": "B4.",
         "route_setter": "Anton Cuevas",
         "safety_issues": null,
         "score": 103,
         "sector_id": 219,
         "sector_name": "Bouldering",
         "set_at": {},
         "shade": null,
         "share_url": "https://zlag.vertical-life.info/en/routes/a4bf6d739fba379fc18d39e356c33660",
         "sit_down_start": null,
         "sits": 0,
         "stats": {
          "b": 0,
          "c": 0,
          "comment_count": 0,
          "e": 0,
          "f": 0,
          "flash": 5,
          "go": 1,
          "hard_count": 0,
          "onsight": 0,
          "overhanging": 0,
          "rating": 0,
          "ratings_count": 0,
          "redpoint": 0,
          "roof": 0,
          "s": 0,
          "safety": 0,
          "safety_issues_count": {
           "1": 0,
           "2": 0,
           "4": 0,
           "8": 0,
           "16": 0,
           "32": 0,
           "64": 0
          },
          "slab": 0,
          "soft_count": 0,
          "t": 0,
          "toprope": 0,
          "vertical": 0,
          "video_count": 0,
          "zlag_count": 6,
          "zlaggable_height_count": {
           "1": 0,
           "2": 0,
           "4": 0,
           "8": 0,
           "16": 0,
           "32": 0
          }
         },
         "steepness": 0,
         "steepness_right": 3,
         "style": "",
         "style_right": null,
         "sub_type": "",
         "topo": "e6411c2ffc69fdad028b8408b295e45c",
         "topo_num": "41800.4.",
         "traverse": false,
         "tries": 1,
         "two_start_holds": null,
         "type": "flash",
         "updated_at": {},
         "updated_at_right": "2022-05-12 08:25:25 +0000",
         "user_id": 230474,
         "virtual": false,
         "virtual_right": false,
         "vl_ascendable_id": null,
         "vl_id": 4458315,
         "vl_parent_id": null,
         "vl_user_id": 286128,
         "year": 2022
        },
        {
         "archived": true,
         "archived_at": null,
         "ascendable_filter": null,
         "ascendable_height": null,
         "ascendable_id": 336607,
         "ascendable_name": "Yellow",
         "ascendable_type": "GymBoulder",
         "color_1": "#ffd700",
         "color_2": null,
         "comment": null,
         "created_at": {},
         "created_at_right": "2022-04-13 13:52:03 +0000",
         "date": "2022-04-13 12:00:00 +0000",
         "difficulty": "4",
         "difficulty_right": "4",
         "display_route_setter": true,
         "eight_a_ascendable_id": null,
         "eight_a_id": null,
         "eight_a_logbook": false,
         "eight_a_parent_id": null,
         "eight_a_user_id": 133113,
         "expiration_date": null,
         "exposition": null,
         "features": null,
         "gallery": [],
         "grade": "vl-7",
         "grade_proposals": [
          [
           "vl-1",
           "2"
          ],
          [
           "vl-2",
           "2+"
          ],
          [
           "vl-3",
           "3-"
          ],
          [
           "vl-4",
           "3"
          ],
          [
           "vl-5",
           "3+"
          ],
          [
           "vl-6",
           "4-"
          ],
          [
           "vl-7",
           "4"
          ],
          [
           "vl-8",
           "4+"
          ],
          [
           "vl-9",
           "5-"
          ],
          [
           "vl-12",
           "5"
          ],
          [
           "vl-14",
           "5+"
          ],
          [
           "vl-16",
           "6A"
          ],
          [
           "vl-17",
           "6A+"
          ],
          [
           "vl-18",
           "6B"
          ],
          [
           "vl-19",
           "6B+"
          ],
          [
           "vl-21",
           "6C"
          ],
          [
           "vl-22",
           "6C+"
          ],
          [
           "vl-23",
           "7A"
          ],
          [
           "vl-24",
           "7A+"
          ],
          [
           "vl-25",
           "7B"
          ],
          [
           "vl-26",
           "7B+"
          ],
          [
           "vl-27",
           "7C"
          ],
          [
           "vl-28",
           "7C+"
          ],
          [
           "vl-29",
           "8A"
          ],
          [
           "vl-30",
           "8A+"
          ],
          [
           "vl-31",
           "8B"
          ],
          [
           "vl-32",
           "8B+"
          ],
          [
           "vl-33",
           "8C"
          ],
          [
           "vl-34",
           "8C+"
          ]
         ],
         "grade_right": "vl-7",
         "grading_system": "font",
         "grading_system_right": "font",
         "gym": {
          "ascent_count": 55969,
          "boulder_count": 131,
          "bouldering_grading_system": "font",
          "categories": 24,
          "country": "Sweden",
          "cover": "f85eaa2db48218e30ff6f8fe4197df56",
          "created_at": "2018-06-21 09:50:35 +0000",
          "difficulties": {
           "vl-1": 0,
           "vl-10": 0,
           "vl-11": 0,
           "vl-12": 2,
           "vl-13": 0,
           "vl-14": 11,
           "vl-15": 0,
           "vl-16": 11,
           "vl-17": 9,
           "vl-18": 9,
           "vl-19": 8,
           "vl-2": 0,
           "vl-20": 0,
           "vl-21": 10,
           "vl-22": 5,
           "vl-23": 6,
           "vl-24": 4,
           "vl-25": 4,
           "vl-26": 2,
           "vl-27": 3,
           "vl-28": 2,
           "vl-29": 1,
           "vl-3": 0,
           "vl-30": 1,
           "vl-31": 0,
           "vl-32": 0,
           "vl-33": 0,
           "vl-34": 0,
           "vl-35": 0,
           "vl-36": 0,
           "vl-37": 0,
           "vl-38": 0,
           "vl-39": 0,
           "vl-4": 0,
           "vl-5": 0,
           "vl-6": 5,
           "vl-7": 4,
           "vl-8": 4,
           "vl-9": 7
          },
          "difficulties_bouldering": {
           "vl-1": 0,
           "vl-10": 0,
           "vl-11": 0,
           "vl-12": 8,
           "vl-13": 0,
           "vl-14": 5,
           "vl-15": 0,
           "vl-16": 9,
           "vl-17": 8,
           "vl-18": 7,
           "vl-19": 12,
           "vl-2": 0,
           "vl-20": 0,
           "vl-21": 13,
           "vl-22": 9,
           "vl-23": 9,
           "vl-24": 7,
           "vl-25": 8,
           "vl-26": 6,
           "vl-27": 6,
           "vl-28": 4,
           "vl-29": 4,
           "vl-3": 0,
           "vl-30": 1,
           "vl-31": 0,
           "vl-32": 0,
           "vl-33": 0,
           "vl-34": 0,
           "vl-4": 2,
           "vl-5": 3,
           "vl-6": 0,
           "vl-7": 5,
           "vl-8": 5,
           "vl-9": 0
          },
          "elegible_for_boulder_training": true,
          "gym_status": {
           "checkins_enabled": false,
           "temporarily_closed": false
          },
          "id": 69,
          "item_type": "gym",
          "latitude": 59.3569,
          "logo": "ce68d672c98919d65f4311f9c9d9bb47",
          "longitude": 18.0162,
          "name": "Klättercentret Solna",
          "published": true,
          "published_at": "2018-08-31 07:00:00 +0000",
          "route_count": 108,
          "share_url": "https://zlag.vertical-life.info/en/gyms/klattercentret-solna",
          "sponsor_logo": null,
          "sportclimbing_grading_system": "french",
          "town": "Solna",
          "updated_at": "2019-12-04 08:30:11 +0000",
          "virtual": false
         },
         "gym_id": 69,
         "gym_wall_id": 734,
         "gym_wall_name": "B Sektionen",
         "height": 4,
         "hold_color": null,
         "hold_manufacturer": null,
         "id": 4638897,
         "id_right": 336607,
         "item_type": "gym_boulder",
         "line_number": 3,
         "name": "Yellow",
         "notes": null,
         "numberDifficulty": 36,
         "parent_id": 69,
         "parent_name": "Klättercentret Solna",
         "parent_name_right": "Bouldering, B Sektionen",
         "path": null,
         "path_right": [
          [
           508,
           187
          ],
          [
           689,
           184
          ],
          [
           847,
           182
          ],
          [
           931,
           514
          ],
          [
           470,
           491
          ],
          [
           515,
           312
          ],
          [
           508,
           186
          ]
         ],
         "perceived_hardness": 0,
         "project": false,
         "protection": null,
         "provider": "verticallife",
         "rating": null,
         "recommended": false,
         "reference_width": 971,
         "repeat": false,
         "repeats": 0,
         "route_card_label": "B3.",
         "route_setter": "Benjamin Schlobohm",
         "safety_issues": null,
         "score": 103,
         "sector_id": 219,
         "sector_name": "Bouldering",
         "set_at": {},
         "shade": null,
         "share_url": "https://zlag.vertical-life.info/en/routes/f810efaef99561cf4a934d65c7a43aee",
         "sit_down_start": null,
         "sits": 0,
         "stats": {
          "b": 0,
          "c": 0,
          "comment_count": 0,
          "e": 0,
          "f": 0,
          "flash": 12,
          "go": 0,
          "hard_count": 0,
          "onsight": 0,
          "overhanging": 0,
          "rating": 0,
          "ratings_count": 0,
          "redpoint": 0,
          "roof": 0,
          "s": 0,
          "safety": 0,
          "safety_issues_count": {
           "1": 0,
           "2": 0,
           "4": 0,
           "8": 0,
           "16": 0,
           "32": 0,
           "64": 0
          },
          "slab": 0,
          "soft_count": 0,
          "t": 0,
          "toprope": 0,
          "vertical": 0,
          "video_count": 0,
          "zlag_count": 12,
          "zlaggable_height_count": {
           "1": 0,
           "2": 0,
           "4": 0,
           "8": 0,
           "16": 0,
           "32": 0
          }
         },
         "steepness": 0,
         "steepness_right": 3,
         "style": "",
         "style_right": null,
         "sub_type": "",
         "topo": "e6411c2ffc69fdad028b8408b295e45c",
         "topo_num": "41800.3.",
         "traverse": false,
         "tries": 1,
         "two_start_holds": null,
         "type": "flash",
         "updated_at": {},
         "updated_at_right": "2022-05-12 08:25:30 +0000",
         "user_id": 230474,
         "virtual": false,
         "virtual_right": false,
         "vl_ascendable_id": null,
         "vl_id": 4458337,
         "vl_parent_id": null,
         "vl_user_id": 286128,
         "year": 2022
        },
        {
         "archived": true,
         "archived_at": null,
         "ascendable_filter": null,
         "ascendable_height": null,
         "ascendable_id": 328182,
         "ascendable_name": "Magenta",
         "ascendable_type": "GymBoulder",
         "color_1": "#f912f3",
         "color_2": null,
         "comment": null,
         "created_at": {},
         "created_at_right": "2022-03-15 06:26:35 +0000",
         "date": "2022-04-13 12:00:00 +0000",
         "difficulty": "5",
         "difficulty_right": "5",
         "display_route_setter": true,
         "eight_a_ascendable_id": null,
         "eight_a_id": null,
         "eight_a_logbook": false,
         "eight_a_parent_id": null,
         "eight_a_user_id": 133113,
         "expiration_date": null,
         "exposition": null,
         "features": null,
         "gallery": [],
         "grade": "vl-12",
         "grade_proposals": [
          [
           "vl-1",
           "2"
          ],
          [
           "vl-2",
           "2+"
          ],
          [
           "vl-3",
           "3-"
          ],
          [
           "vl-4",
           "3"
          ],
          [
           "vl-5",
           "3+"
          ],
          [
           "vl-6",
           "4-"
          ],
          [
           "vl-7",
           "4"
          ],
          [
           "vl-8",
           "4+"
          ],
          [
           "vl-9",
           "5-"
          ],
          [
           "vl-12",
           "5"
          ],
          [
           "vl-14",
           "5+"
          ],
          [
           "vl-16",
           "6A"
          ],
          [
           "vl-17",
           "6A+"
          ],
          [
           "vl-18",
           "6B"
          ],
          [
           "vl-19",
           "6B+"
          ],
          [
           "vl-21",
           "6C"
          ],
          [
           "vl-22",
           "6C+"
          ],
          [
           "vl-23",
           "7A"
          ],
          [
           "vl-24",
           "7A+"
          ],
          [
           "vl-25",
           "7B"
          ],
          [
           "vl-26",
           "7B+"
          ],
          [
           "vl-27",
           "7C"
          ],
          [
           "vl-28",
           "7C+"
          ],
          [
           "vl-29",
           "8A"
          ],
          [
           "vl-30",
           "8A+"
          ],
          [
           "vl-31",
           "8B"
          ],
          [
           "vl-32",
           "8B+"
          ],
          [
           "vl-33",
           "8C"
          ],
          [
           "vl-34",
           "8C+"
          ]
         ],
         "grade_right": "vl-12",
         "grading_system": "font",
         "grading_system_right": "font",
         "gym": {
          "ascent_count": 55969,
          "boulder_count": 131,
          "bouldering_grading_system": "font",
          "categories": 24,
          "country": "Sweden",
          "cover": "f85eaa2db48218e30ff6f8fe4197df56",
          "created_at": "2018-06-21 09:50:35 +0000",
          "difficulties": {
           "vl-1": 0,
           "vl-10": 0,
           "vl-11": 0,
           "vl-12": 2,
           "vl-13": 0,
           "vl-14": 11,
           "vl-15": 0,
           "vl-16": 11,
           "vl-17": 9,
           "vl-18": 9,
           "vl-19": 8,
           "vl-2": 0,
           "vl-20": 0,
           "vl-21": 10,
           "vl-22": 5,
           "vl-23": 6,
           "vl-24": 4,
           "vl-25": 4,
           "vl-26": 2,
           "vl-27": 3,
           "vl-28": 2,
           "vl-29": 1,
           "vl-3": 0,
           "vl-30": 1,
           "vl-31": 0,
           "vl-32": 0,
           "vl-33": 0,
           "vl-34": 0,
           "vl-35": 0,
           "vl-36": 0,
           "vl-37": 0,
           "vl-38": 0,
           "vl-39": 0,
           "vl-4": 0,
           "vl-5": 0,
           "vl-6": 5,
           "vl-7": 4,
           "vl-8": 4,
           "vl-9": 7
          },
          "difficulties_bouldering": {
           "vl-1": 0,
           "vl-10": 0,
           "vl-11": 0,
           "vl-12": 8,
           "vl-13": 0,
           "vl-14": 5,
           "vl-15": 0,
           "vl-16": 9,
           "vl-17": 8,
           "vl-18": 7,
           "vl-19": 12,
           "vl-2": 0,
           "vl-20": 0,
           "vl-21": 13,
           "vl-22": 9,
           "vl-23": 9,
           "vl-24": 7,
           "vl-25": 8,
           "vl-26": 6,
           "vl-27": 6,
           "vl-28": 4,
           "vl-29": 4,
           "vl-3": 0,
           "vl-30": 1,
           "vl-31": 0,
           "vl-32": 0,
           "vl-33": 0,
           "vl-34": 0,
           "vl-4": 2,
           "vl-5": 3,
           "vl-6": 0,
           "vl-7": 5,
           "vl-8": 5,
           "vl-9": 0
          },
          "elegible_for_boulder_training": true,
          "gym_status": {
           "checkins_enabled": false,
           "temporarily_closed": false
          },
          "id": 69,
          "item_type": "gym",
          "latitude": 59.3569,
          "logo": "ce68d672c98919d65f4311f9c9d9bb47",
          "longitude": 18.0162,
          "name": "Klättercentret Solna",
          "published": true,
          "published_at": "2018-08-31 07:00:00 +0000",
          "route_count": 108,
          "share_url": "https://zlag.vertical-life.info/en/gyms/klattercentret-solna",
          "sponsor_logo": null,
          "sportclimbing_grading_system": "french",
          "town": "Solna",
          "updated_at": "2019-12-04 08:30:11 +0000",
          "virtual": false
         },
         "gym_id": 69,
         "gym_wall_id": 734,
         "gym_wall_name": "B Sektionen",
         "height": 4,
         "hold_color": null,
         "hold_manufacturer": null,
         "id": 4024680,
         "id_right": 328182,
         "item_type": "gym_boulder",
         "line_number": 2,
         "name": "Magenta",
         "notes": null,
         "numberDifficulty": 48,
         "parent_id": 69,
         "parent_name": "Klättercentret Solna",
         "parent_name_right": "Bouldering, B Sektionen",
         "path": null,
         "path_right": [
          [
           4,
           150
          ],
          [
           164,
           170
          ],
          [
           381,
           190
          ],
          [
           383,
           542
          ],
          [
           219,
           571
          ],
          [
           2,
           609
          ],
          [
           6,
           152
          ]
         ],
         "perceived_hardness": 0,
         "project": false,
         "protection": null,
         "provider": "verticallife",
         "rating": null,
         "recommended": false,
         "reference_width": 971,
         "repeat": false,
         "repeats": 0,
         "route_card_label": "B2.",
         "route_setter": "N.N.",
         "safety_issues": null,
         "score": 200,
         "sector_id": 219,
         "sector_name": "Bouldering",
         "set_at": {},
         "shade": null,
         "share_url": "https://zlag.vertical-life.info/en/routes/abee342e114d41f12ef03cde682e50eb",
         "sit_down_start": null,
         "sits": 0,
         "stats": {
          "b": 0,
          "c": 0,
          "comment_count": 0,
          "e": 0,
          "f": 0,
          "flash": 3,
          "go": 0,
          "hard_count": 0,
          "onsight": 0,
          "overhanging": 0,
          "rating": 1,
          "ratings_count": 1,
          "redpoint": 3,
          "roof": 0,
          "s": 0,
          "safety": 0,
          "safety_issues_count": {
           "1": 0,
           "2": 0,
           "4": 0,
           "8": 0,
           "16": 0,
           "32": 0,
           "64": 0
          },
          "slab": 0,
          "soft_count": 0,
          "t": 0,
          "toprope": 0,
          "vertical": 0,
          "video_count": 0,
          "zlag_count": 6,
          "zlaggable_height_count": {
           "1": 0,
           "2": 0,
           "4": 0,
           "8": 0,
           "16": 0,
           "32": 0
          }
         },
         "steepness": 0,
         "steepness_right": 3,
         "style": "",
         "style_right": null,
         "sub_type": "",
         "topo": "1e2bd49546a1ab26033e6eca6a575fad",
         "topo_num": "41801.2.",
         "traverse": false,
         "tries": 1,
         "two_start_holds": null,
         "type": "redpoint",
         "updated_at": {},
         "updated_at_right": "2022-04-28 08:42:29 +0000",
         "user_id": 230474,
         "virtual": false,
         "virtual_right": false,
         "vl_ascendable_id": null,
         "vl_id": 4458357,
         "vl_parent_id": null,
         "vl_user_id": 286128,
         "year": 2022
        },
        {
         "archived": true,
         "archived_at": null,
         "ascendable_filter": null,
         "ascendable_height": null,
         "ascendable_id": 328182,
         "ascendable_name": "Magenta",
         "ascendable_type": "GymBoulder",
         "color_1": "#f912f3",
         "color_2": null,
         "comment": null,
         "created_at": {},
         "created_at_right": "2022-03-15 06:26:35 +0000",
         "date": "2022-04-13 12:00:00 +0000",
         "difficulty": "5",
         "difficulty_right": "5",
         "display_route_setter": true,
         "eight_a_ascendable_id": null,
         "eight_a_id": null,
         "eight_a_logbook": false,
         "eight_a_parent_id": null,
         "eight_a_user_id": 133113,
         "expiration_date": null,
         "exposition": null,
         "features": null,
         "gallery": [],
         "grade": "vl-12",
         "grade_proposals": [
          [
           "vl-1",
           "2"
          ],
          [
           "vl-2",
           "2+"
          ],
          [
           "vl-3",
           "3-"
          ],
          [
           "vl-4",
           "3"
          ],
          [
           "vl-5",
           "3+"
          ],
          [
           "vl-6",
           "4-"
          ],
          [
           "vl-7",
           "4"
          ],
          [
           "vl-8",
           "4+"
          ],
          [
           "vl-9",
           "5-"
          ],
          [
           "vl-12",
           "5"
          ],
          [
           "vl-14",
           "5+"
          ],
          [
           "vl-16",
           "6A"
          ],
          [
           "vl-17",
           "6A+"
          ],
          [
           "vl-18",
           "6B"
          ],
          [
           "vl-19",
           "6B+"
          ],
          [
           "vl-21",
           "6C"
          ],
          [
           "vl-22",
           "6C+"
          ],
          [
           "vl-23",
           "7A"
          ],
          [
           "vl-24",
           "7A+"
          ],
          [
           "vl-25",
           "7B"
          ],
          [
           "vl-26",
           "7B+"
          ],
          [
           "vl-27",
           "7C"
          ],
          [
           "vl-28",
           "7C+"
          ],
          [
           "vl-29",
           "8A"
          ],
          [
           "vl-30",
           "8A+"
          ],
          [
           "vl-31",
           "8B"
          ],
          [
           "vl-32",
           "8B+"
          ],
          [
           "vl-33",
           "8C"
          ],
          [
           "vl-34",
           "8C+"
          ]
         ],
         "grade_right": "vl-12",
         "grading_system": "font",
         "grading_system_right": "font",
         "gym": {
          "ascent_count": 55969,
          "boulder_count": 131,
          "bouldering_grading_system": "font",
          "categories": 24,
          "country": "Sweden",
          "cover": "f85eaa2db48218e30ff6f8fe4197df56",
          "created_at": "2018-06-21 09:50:35 +0000",
          "difficulties": {
           "vl-1": 0,
           "vl-10": 0,
           "vl-11": 0,
           "vl-12": 2,
           "vl-13": 0,
           "vl-14": 11,
           "vl-15": 0,
           "vl-16": 11,
           "vl-17": 9,
           "vl-18": 9,
           "vl-19": 8,
           "vl-2": 0,
           "vl-20": 0,
           "vl-21": 10,
           "vl-22": 5,
           "vl-23": 6,
           "vl-24": 4,
           "vl-25": 4,
           "vl-26": 2,
           "vl-27": 3,
           "vl-28": 2,
           "vl-29": 1,
           "vl-3": 0,
           "vl-30": 1,
           "vl-31": 0,
           "vl-32": 0,
           "vl-33": 0,
           "vl-34": 0,
           "vl-35": 0,
           "vl-36": 0,
           "vl-37": 0,
           "vl-38": 0,
           "vl-39": 0,
           "vl-4": 0,
           "vl-5": 0,
           "vl-6": 5,
           "vl-7": 4,
           "vl-8": 4,
           "vl-9": 7
          },
          "difficulties_bouldering": {
           "vl-1": 0,
           "vl-10": 0,
           "vl-11": 0,
           "vl-12": 8,
           "vl-13": 0,
           "vl-14": 5,
           "vl-15": 0,
           "vl-16": 9,
           "vl-17": 8,
           "vl-18": 7,
           "vl-19": 12,
           "vl-2": 0,
           "vl-20": 0,
           "vl-21": 13,
           "vl-22": 9,
           "vl-23": 9,
           "vl-24": 7,
           "vl-25": 8,
           "vl-26": 6,
           "vl-27": 6,
           "vl-28": 4,
           "vl-29": 4,
           "vl-3": 0,
           "vl-30": 1,
           "vl-31": 0,
           "vl-32": 0,
           "vl-33": 0,
           "vl-34": 0,
           "vl-4": 2,
           "vl-5": 3,
           "vl-6": 0,
           "vl-7": 5,
           "vl-8": 5,
           "vl-9": 0
          },
          "elegible_for_boulder_training": true,
          "gym_status": {
           "checkins_enabled": false,
           "temporarily_closed": false
          },
          "id": 69,
          "item_type": "gym",
          "latitude": 59.3569,
          "logo": "ce68d672c98919d65f4311f9c9d9bb47",
          "longitude": 18.0162,
          "name": "Klättercentret Solna",
          "published": true,
          "published_at": "2018-08-31 07:00:00 +0000",
          "route_count": 108,
          "share_url": "https://zlag.vertical-life.info/en/gyms/klattercentret-solna",
          "sponsor_logo": null,
          "sportclimbing_grading_system": "french",
          "town": "Solna",
          "updated_at": "2019-12-04 08:30:11 +0000",
          "virtual": false
         },
         "gym_id": 69,
         "gym_wall_id": 734,
         "gym_wall_name": "B Sektionen",
         "height": 4,
         "hold_color": null,
         "hold_manufacturer": null,
         "id": 4024680,
         "id_right": 328182,
         "item_type": "gym_boulder",
         "line_number": 2,
         "name": "Magenta",
         "notes": null,
         "numberDifficulty": 48,
         "parent_id": 69,
         "parent_name": "Klättercentret Solna",
         "parent_name_right": "Bouldering, B Sektionen",
         "path": null,
         "path_right": [
          [
           4,
           150
          ],
          [
           164,
           170
          ],
          [
           381,
           190
          ],
          [
           383,
           542
          ],
          [
           219,
           571
          ],
          [
           2,
           609
          ],
          [
           6,
           152
          ]
         ],
         "perceived_hardness": 0,
         "project": false,
         "protection": null,
         "provider": "verticallife",
         "rating": null,
         "recommended": false,
         "reference_width": 971,
         "repeat": false,
         "repeats": 0,
         "route_card_label": "B2.",
         "route_setter": "N.N.",
         "safety_issues": null,
         "score": 200,
         "sector_id": 219,
         "sector_name": "Bouldering",
         "set_at": {},
         "shade": null,
         "share_url": "https://zlag.vertical-life.info/en/routes/abee342e114d41f12ef03cde682e50eb",
         "sit_down_start": null,
         "sits": 0,
         "stats": {
          "b": 0,
          "c": 0,
          "comment_count": 0,
          "e": 0,
          "f": 0,
          "flash": 3,
          "go": 0,
          "hard_count": 0,
          "onsight": 0,
          "overhanging": 0,
          "rating": 1,
          "ratings_count": 1,
          "redpoint": 3,
          "roof": 0,
          "s": 0,
          "safety": 0,
          "safety_issues_count": {
           "1": 0,
           "2": 0,
           "4": 0,
           "8": 0,
           "16": 0,
           "32": 0,
           "64": 0
          },
          "slab": 0,
          "soft_count": 0,
          "t": 0,
          "toprope": 0,
          "vertical": 0,
          "video_count": 0,
          "zlag_count": 6,
          "zlaggable_height_count": {
           "1": 0,
           "2": 0,
           "4": 0,
           "8": 0,
           "16": 0,
           "32": 0
          }
         },
         "steepness": 0,
         "steepness_right": 3,
         "style": "",
         "style_right": null,
         "sub_type": "",
         "topo": "1e2bd49546a1ab26033e6eca6a575fad",
         "topo_num": "41801.2.",
         "traverse": false,
         "tries": 1,
         "two_start_holds": null,
         "type": "redpoint",
         "updated_at": {},
         "updated_at_right": "2022-04-28 08:42:29 +0000",
         "user_id": 230474,
         "virtual": false,
         "virtual_right": false,
         "vl_ascendable_id": null,
         "vl_id": 4458357,
         "vl_parent_id": null,
         "vl_user_id": 286128,
         "year": 2022
        },
        {
         "archived": true,
         "archived_at": null,
         "ascendable_filter": null,
         "ascendable_height": null,
         "ascendable_id": 336611,
         "ascendable_name": "Bright Pink",
         "ascendable_type": "GymBoulder",
         "color_1": "#ff00a9",
         "color_2": null,
         "comment": null,
         "created_at": {},
         "created_at_right": "2022-04-13 13:53:44 +0000",
         "date": "2022-04-13 12:00:00 +0000",
         "difficulty": "5+",
         "difficulty_right": "5+",
         "display_route_setter": true,
         "eight_a_ascendable_id": null,
         "eight_a_id": null,
         "eight_a_logbook": false,
         "eight_a_parent_id": null,
         "eight_a_user_id": 133113,
         "expiration_date": null,
         "exposition": null,
         "features": null,
         "gallery": [],
         "grade": "vl-14",
         "grade_proposals": [
          [
           "vl-1",
           "2"
          ],
          [
           "vl-2",
           "2+"
          ],
          [
           "vl-3",
           "3-"
          ],
          [
           "vl-4",
           "3"
          ],
          [
           "vl-5",
           "3+"
          ],
          [
           "vl-6",
           "4-"
          ],
          [
           "vl-7",
           "4"
          ],
          [
           "vl-8",
           "4+"
          ],
          [
           "vl-9",
           "5-"
          ],
          [
           "vl-12",
           "5"
          ],
          [
           "vl-14",
           "5+"
          ],
          [
           "vl-16",
           "6A"
          ],
          [
           "vl-17",
           "6A+"
          ],
          [
           "vl-18",
           "6B"
          ],
          [
           "vl-19",
           "6B+"
          ],
          [
           "vl-21",
           "6C"
          ],
          [
           "vl-22",
           "6C+"
          ],
          [
           "vl-23",
           "7A"
          ],
          [
           "vl-24",
           "7A+"
          ],
          [
           "vl-25",
           "7B"
          ],
          [
           "vl-26",
           "7B+"
          ],
          [
           "vl-27",
           "7C"
          ],
          [
           "vl-28",
           "7C+"
          ],
          [
           "vl-29",
           "8A"
          ],
          [
           "vl-30",
           "8A+"
          ],
          [
           "vl-31",
           "8B"
          ],
          [
           "vl-32",
           "8B+"
          ],
          [
           "vl-33",
           "8C"
          ],
          [
           "vl-34",
           "8C+"
          ]
         ],
         "grade_right": "vl-14",
         "grading_system": "font",
         "grading_system_right": "font",
         "gym": {
          "ascent_count": 55969,
          "boulder_count": 131,
          "bouldering_grading_system": "font",
          "categories": 24,
          "country": "Sweden",
          "cover": "f85eaa2db48218e30ff6f8fe4197df56",
          "created_at": "2018-06-21 09:50:35 +0000",
          "difficulties": {
           "vl-1": 0,
           "vl-10": 0,
           "vl-11": 0,
           "vl-12": 2,
           "vl-13": 0,
           "vl-14": 11,
           "vl-15": 0,
           "vl-16": 11,
           "vl-17": 9,
           "vl-18": 9,
           "vl-19": 8,
           "vl-2": 0,
           "vl-20": 0,
           "vl-21": 10,
           "vl-22": 5,
           "vl-23": 6,
           "vl-24": 4,
           "vl-25": 4,
           "vl-26": 2,
           "vl-27": 3,
           "vl-28": 2,
           "vl-29": 1,
           "vl-3": 0,
           "vl-30": 1,
           "vl-31": 0,
           "vl-32": 0,
           "vl-33": 0,
           "vl-34": 0,
           "vl-35": 0,
           "vl-36": 0,
           "vl-37": 0,
           "vl-38": 0,
           "vl-39": 0,
           "vl-4": 0,
           "vl-5": 0,
           "vl-6": 5,
           "vl-7": 4,
           "vl-8": 4,
           "vl-9": 7
          },
          "difficulties_bouldering": {
           "vl-1": 0,
           "vl-10": 0,
           "vl-11": 0,
           "vl-12": 8,
           "vl-13": 0,
           "vl-14": 5,
           "vl-15": 0,
           "vl-16": 9,
           "vl-17": 8,
           "vl-18": 7,
           "vl-19": 12,
           "vl-2": 0,
           "vl-20": 0,
           "vl-21": 13,
           "vl-22": 9,
           "vl-23": 9,
           "vl-24": 7,
           "vl-25": 8,
           "vl-26": 6,
           "vl-27": 6,
           "vl-28": 4,
           "vl-29": 4,
           "vl-3": 0,
           "vl-30": 1,
           "vl-31": 0,
           "vl-32": 0,
           "vl-33": 0,
           "vl-34": 0,
           "vl-4": 2,
           "vl-5": 3,
           "vl-6": 0,
           "vl-7": 5,
           "vl-8": 5,
           "vl-9": 0
          },
          "elegible_for_boulder_training": true,
          "gym_status": {
           "checkins_enabled": false,
           "temporarily_closed": false
          },
          "id": 69,
          "item_type": "gym",
          "latitude": 59.3569,
          "logo": "ce68d672c98919d65f4311f9c9d9bb47",
          "longitude": 18.0162,
          "name": "Klättercentret Solna",
          "published": true,
          "published_at": "2018-08-31 07:00:00 +0000",
          "route_count": 108,
          "share_url": "https://zlag.vertical-life.info/en/gyms/klattercentret-solna",
          "sponsor_logo": null,
          "sportclimbing_grading_system": "french",
          "town": "Solna",
          "updated_at": "2019-12-04 08:30:11 +0000",
          "virtual": false
         },
         "gym_id": 69,
         "gym_wall_id": 734,
         "gym_wall_name": "B Sektionen",
         "height": 4,
         "hold_color": null,
         "hold_manufacturer": null,
         "id": 4124165,
         "id_right": 336611,
         "item_type": "gym_boulder",
         "line_number": 5,
         "name": "Bright Pink",
         "notes": null,
         "numberDifficulty": 54,
         "parent_id": 69,
         "parent_name": "Klättercentret Solna",
         "parent_name_right": "Bouldering, B Sektionen",
         "path": null,
         "path_right": [
          [
           423,
           185
          ],
          [
           697,
           176
          ],
          [
           944,
           165
          ],
          [
           884,
           385
          ],
          [
           782,
           584
          ],
          [
           585,
           582
          ],
          [
           456,
           589
          ],
          [
           423,
           186
          ]
         ],
         "perceived_hardness": 0,
         "project": false,
         "protection": null,
         "provider": "verticallife",
         "rating": null,
         "recommended": false,
         "reference_width": 971,
         "repeat": false,
         "repeats": 0,
         "route_card_label": "B5.",
         "route_setter": "Benjamin Schlobohm",
         "safety_issues": null,
         "score": 353,
         "sector_id": 219,
         "sector_name": "Bouldering",
         "set_at": {},
         "shade": null,
         "share_url": "https://zlag.vertical-life.info/en/routes/65096b5f5d8e590a06a9dbe413985ca4",
         "sit_down_start": null,
         "sits": 0,
         "stats": {
          "b": 0,
          "c": 0,
          "comment_count": 0,
          "e": 0,
          "f": 0,
          "flash": 6,
          "go": 0,
          "hard_count": 0,
          "onsight": 0,
          "overhanging": 0,
          "rating": 3.3,
          "ratings_count": 3,
          "redpoint": 1,
          "roof": 0,
          "s": 0,
          "safety": 0,
          "safety_issues_count": {
           "1": 0,
           "2": 0,
           "4": 0,
           "8": 0,
           "16": 0,
           "32": 0,
           "64": 0
          },
          "slab": 0,
          "soft_count": 1,
          "t": 0,
          "toprope": 0,
          "vertical": 0,
          "video_count": 0,
          "zlag_count": 7,
          "zlaggable_height_count": {
           "1": 0,
           "2": 0,
           "4": 0,
           "8": 0,
           "16": 0,
           "32": 0
          }
         },
         "steepness": 0,
         "steepness_right": 3,
         "style": "",
         "style_right": null,
         "sub_type": "",
         "topo": "abd490d1d42d11879845d640b480b7b2",
         "topo_num": "41802.5.",
         "traverse": false,
         "tries": 1,
         "two_start_holds": null,
         "type": "flash",
         "updated_at": {},
         "updated_at_right": "2022-06-02 09:28:40 +0000",
         "user_id": 230474,
         "virtual": false,
         "virtual_right": false,
         "vl_ascendable_id": null,
         "vl_id": 4458359,
         "vl_parent_id": null,
         "vl_user_id": 286128,
         "year": 2022
        },
        {
         "archived": true,
         "archived_at": null,
         "ascendable_filter": null,
         "ascendable_height": null,
         "ascendable_id": 336040,
         "ascendable_name": "Green",
         "ascendable_type": "GymBoulder",
         "color_1": "#32cd32",
         "color_2": null,
         "comment": null,
         "created_at": {},
         "created_at_right": "2022-04-11 15:32:16 +0000",
         "date": "2022-04-13 12:00:00 +0000",
         "difficulty": "3",
         "difficulty_right": "3",
         "display_route_setter": true,
         "eight_a_ascendable_id": null,
         "eight_a_id": null,
         "eight_a_logbook": false,
         "eight_a_parent_id": null,
         "eight_a_user_id": 133113,
         "expiration_date": null,
         "exposition": null,
         "features": null,
         "gallery": [],
         "grade": "vl-4",
         "grade_proposals": [
          [
           "vl-1",
           "2"
          ],
          [
           "vl-2",
           "2+"
          ],
          [
           "vl-3",
           "3-"
          ],
          [
           "vl-4",
           "3"
          ],
          [
           "vl-5",
           "3+"
          ],
          [
           "vl-6",
           "4-"
          ],
          [
           "vl-7",
           "4"
          ],
          [
           "vl-8",
           "4+"
          ],
          [
           "vl-9",
           "5-"
          ],
          [
           "vl-12",
           "5"
          ],
          [
           "vl-14",
           "5+"
          ],
          [
           "vl-16",
           "6A"
          ],
          [
           "vl-17",
           "6A+"
          ],
          [
           "vl-18",
           "6B"
          ],
          [
           "vl-19",
           "6B+"
          ],
          [
           "vl-21",
           "6C"
          ],
          [
           "vl-22",
           "6C+"
          ],
          [
           "vl-23",
           "7A"
          ],
          [
           "vl-24",
           "7A+"
          ],
          [
           "vl-25",
           "7B"
          ],
          [
           "vl-26",
           "7B+"
          ],
          [
           "vl-27",
           "7C"
          ],
          [
           "vl-28",
           "7C+"
          ],
          [
           "vl-29",
           "8A"
          ],
          [
           "vl-30",
           "8A+"
          ],
          [
           "vl-31",
           "8B"
          ],
          [
           "vl-32",
           "8B+"
          ],
          [
           "vl-33",
           "8C"
          ],
          [
           "vl-34",
           "8C+"
          ]
         ],
         "grade_right": "vl-4",
         "grading_system": "font",
         "grading_system_right": "font",
         "gym": {
          "ascent_count": 55970,
          "boulder_count": 131,
          "bouldering_grading_system": "font",
          "categories": 24,
          "country": "Sweden",
          "cover": "f85eaa2db48218e30ff6f8fe4197df56",
          "created_at": "2018-06-21 09:50:35 +0000",
          "difficulties": {
           "vl-1": 0,
           "vl-10": 0,
           "vl-11": 0,
           "vl-12": 2,
           "vl-13": 0,
           "vl-14": 11,
           "vl-15": 0,
           "vl-16": 11,
           "vl-17": 9,
           "vl-18": 9,
           "vl-19": 8,
           "vl-2": 0,
           "vl-20": 0,
           "vl-21": 10,
           "vl-22": 5,
           "vl-23": 6,
           "vl-24": 4,
           "vl-25": 4,
           "vl-26": 2,
           "vl-27": 3,
           "vl-28": 2,
           "vl-29": 1,
           "vl-3": 0,
           "vl-30": 1,
           "vl-31": 0,
           "vl-32": 0,
           "vl-33": 0,
           "vl-34": 0,
           "vl-35": 0,
           "vl-36": 0,
           "vl-37": 0,
           "vl-38": 0,
           "vl-39": 0,
           "vl-4": 0,
           "vl-5": 0,
           "vl-6": 5,
           "vl-7": 4,
           "vl-8": 4,
           "vl-9": 7
          },
          "difficulties_bouldering": {
           "vl-1": 0,
           "vl-10": 0,
           "vl-11": 0,
           "vl-12": 8,
           "vl-13": 0,
           "vl-14": 5,
           "vl-15": 0,
           "vl-16": 9,
           "vl-17": 8,
           "vl-18": 7,
           "vl-19": 12,
           "vl-2": 0,
           "vl-20": 0,
           "vl-21": 13,
           "vl-22": 9,
           "vl-23": 9,
           "vl-24": 7,
           "vl-25": 8,
           "vl-26": 6,
           "vl-27": 6,
           "vl-28": 4,
           "vl-29": 4,
           "vl-3": 0,
           "vl-30": 1,
           "vl-31": 0,
           "vl-32": 0,
           "vl-33": 0,
           "vl-34": 0,
           "vl-4": 2,
           "vl-5": 3,
           "vl-6": 0,
           "vl-7": 5,
           "vl-8": 5,
           "vl-9": 0
          },
          "elegible_for_boulder_training": true,
          "gym_status": {
           "checkins_enabled": false,
           "temporarily_closed": false
          },
          "id": 69,
          "item_type": "gym",
          "latitude": 59.3569,
          "logo": "ce68d672c98919d65f4311f9c9d9bb47",
          "longitude": 18.0162,
          "name": "Klättercentret Solna",
          "published": true,
          "published_at": "2018-08-31 07:00:00 +0000",
          "route_count": 108,
          "share_url": "https://zlag.vertical-life.info/en/gyms/klattercentret-solna",
          "sponsor_logo": null,
          "sportclimbing_grading_system": "french",
          "town": "Solna",
          "updated_at": "2019-12-04 08:30:11 +0000",
          "virtual": false
         },
         "gym_id": 69,
         "gym_wall_id": 734,
         "gym_wall_name": "B Sektionen",
         "height": 4,
         "hold_color": null,
         "hold_manufacturer": null,
         "id": 4124026,
         "id_right": 336040,
         "item_type": "gym_boulder",
         "line_number": 6,
         "name": "Green",
         "notes": null,
         "numberDifficulty": 24,
         "parent_id": 69,
         "parent_name": "Klättercentret Solna",
         "parent_name_right": "Bouldering, B Sektionen",
         "path": null,
         "path_right": [
          [
           39,
           175
          ],
          [
           422,
           183
          ],
          [
           456,
           589
          ],
          [
           77,
           584
          ],
          [
           40,
           175
          ]
         ],
         "perceived_hardness": 0,
         "project": false,
         "protection": null,
         "provider": "verticallife",
         "rating": null,
         "recommended": false,
         "reference_width": 971,
         "repeat": false,
         "repeats": 0,
         "route_card_label": "B6.",
         "route_setter": "Anton Cuevas",
         "safety_issues": null,
         "score": 103,
         "sector_id": 219,
         "sector_name": "Bouldering",
         "set_at": {},
         "shade": null,
         "share_url": "https://zlag.vertical-life.info/en/routes/793722686da36699d87ac312b6696b29",
         "sit_down_start": null,
         "sits": 0,
         "stats": {
          "b": 0,
          "c": 0,
          "comment_count": 0,
          "e": 11,
          "f": 0,
          "flash": 9,
          "go": 0,
          "hard_count": 0,
          "onsight": 0,
          "overhanging": 0,
          "rating": 5,
          "ratings_count": 3,
          "redpoint": 2,
          "roof": 0,
          "s": 0,
          "safety": 0,
          "safety_issues_count": {
           "1": 0,
           "2": 0,
           "4": 0,
           "8": 0,
           "16": 0,
           "32": 0,
           "64": 0
          },
          "slab": 0,
          "soft_count": 1,
          "t": 0,
          "toprope": 0,
          "vertical": 0,
          "video_count": 0,
          "zlag_count": 11,
          "zlaggable_height_count": {
           "1": 0,
           "2": 0,
           "4": 0,
           "8": 0,
           "16": 0,
           "32": 0
          }
         },
         "steepness": 0,
         "steepness_right": 3,
         "style": "ae",
         "style_right": "ae",
         "sub_type": "",
         "topo": "abd490d1d42d11879845d640b480b7b2",
         "topo_num": "41802.6.",
         "traverse": false,
         "tries": 1,
         "two_start_holds": null,
         "type": "flash",
         "updated_at": {},
         "updated_at_right": "2022-06-02 09:28:42 +0000",
         "user_id": 230474,
         "virtual": false,
         "virtual_right": false,
         "vl_ascendable_id": null,
         "vl_id": 4458450,
         "vl_parent_id": null,
         "vl_user_id": 286128,
         "year": 2022
        },
        {
         "archived": true,
         "archived_at": null,
         "ascendable_filter": null,
         "ascendable_height": null,
         "ascendable_id": 332863,
         "ascendable_name": "Black",
         "ascendable_type": "GymBoulder",
         "color_1": "#000000",
         "color_2": null,
         "comment": null,
         "created_at": {},
         "created_at_right": "2022-03-31 10:24:45 +0000",
         "date": "2022-04-27 12:00:00 +0000",
         "difficulty": "4+",
         "difficulty_right": "4+",
         "display_route_setter": true,
         "eight_a_ascendable_id": null,
         "eight_a_id": null,
         "eight_a_logbook": false,
         "eight_a_parent_id": null,
         "eight_a_user_id": 133113,
         "expiration_date": null,
         "exposition": null,
         "features": null,
         "gallery": [],
         "grade": "vl-8",
         "grade_proposals": [
          [
           "vl-1",
           "2"
          ],
          [
           "vl-2",
           "2+"
          ],
          [
           "vl-3",
           "3-"
          ],
          [
           "vl-4",
           "3"
          ],
          [
           "vl-5",
           "3+"
          ],
          [
           "vl-6",
           "4-"
          ],
          [
           "vl-7",
           "4"
          ],
          [
           "vl-8",
           "4+"
          ],
          [
           "vl-9",
           "5-"
          ],
          [
           "vl-12",
           "5"
          ],
          [
           "vl-14",
           "5+"
          ],
          [
           "vl-16",
           "6A"
          ],
          [
           "vl-17",
           "6A+"
          ],
          [
           "vl-18",
           "6B"
          ],
          [
           "vl-19",
           "6B+"
          ],
          [
           "vl-21",
           "6C"
          ],
          [
           "vl-22",
           "6C+"
          ],
          [
           "vl-23",
           "7A"
          ],
          [
           "vl-24",
           "7A+"
          ],
          [
           "vl-25",
           "7B"
          ],
          [
           "vl-26",
           "7B+"
          ],
          [
           "vl-27",
           "7C"
          ],
          [
           "vl-28",
           "7C+"
          ],
          [
           "vl-29",
           "8A"
          ],
          [
           "vl-30",
           "8A+"
          ],
          [
           "vl-31",
           "8B"
          ],
          [
           "vl-32",
           "8B+"
          ],
          [
           "vl-33",
           "8C"
          ],
          [
           "vl-34",
           "8C+"
          ]
         ],
         "grade_right": "vl-8",
         "grading_system": "font",
         "grading_system_right": "font",
         "gym": {
          "ascent_count": 55969,
          "boulder_count": 131,
          "bouldering_grading_system": "font",
          "categories": 24,
          "country": "Sweden",
          "cover": "f85eaa2db48218e30ff6f8fe4197df56",
          "created_at": "2018-06-21 09:50:35 +0000",
          "difficulties": {
           "vl-1": 0,
           "vl-10": 0,
           "vl-11": 0,
           "vl-12": 2,
           "vl-13": 0,
           "vl-14": 11,
           "vl-15": 0,
           "vl-16": 11,
           "vl-17": 9,
           "vl-18": 9,
           "vl-19": 8,
           "vl-2": 0,
           "vl-20": 0,
           "vl-21": 10,
           "vl-22": 5,
           "vl-23": 6,
           "vl-24": 4,
           "vl-25": 4,
           "vl-26": 2,
           "vl-27": 3,
           "vl-28": 2,
           "vl-29": 1,
           "vl-3": 0,
           "vl-30": 1,
           "vl-31": 0,
           "vl-32": 0,
           "vl-33": 0,
           "vl-34": 0,
           "vl-35": 0,
           "vl-36": 0,
           "vl-37": 0,
           "vl-38": 0,
           "vl-39": 0,
           "vl-4": 0,
           "vl-5": 0,
           "vl-6": 5,
           "vl-7": 4,
           "vl-8": 4,
           "vl-9": 7
          },
          "difficulties_bouldering": {
           "vl-1": 0,
           "vl-10": 0,
           "vl-11": 0,
           "vl-12": 8,
           "vl-13": 0,
           "vl-14": 5,
           "vl-15": 0,
           "vl-16": 9,
           "vl-17": 8,
           "vl-18": 7,
           "vl-19": 12,
           "vl-2": 0,
           "vl-20": 0,
           "vl-21": 13,
           "vl-22": 9,
           "vl-23": 9,
           "vl-24": 7,
           "vl-25": 8,
           "vl-26": 6,
           "vl-27": 6,
           "vl-28": 4,
           "vl-29": 4,
           "vl-3": 0,
           "vl-30": 1,
           "vl-31": 0,
           "vl-32": 0,
           "vl-33": 0,
           "vl-34": 0,
           "vl-4": 2,
           "vl-5": 3,
           "vl-6": 0,
           "vl-7": 5,
           "vl-8": 5,
           "vl-9": 0
          },
          "elegible_for_boulder_training": true,
          "gym_status": {
           "checkins_enabled": false,
           "temporarily_closed": false
          },
          "id": 69,
          "item_type": "gym",
          "latitude": 59.3569,
          "logo": "ce68d672c98919d65f4311f9c9d9bb47",
          "longitude": 18.0162,
          "name": "Klättercentret Solna",
          "published": true,
          "published_at": "2018-08-31 07:00:00 +0000",
          "route_count": 108,
          "share_url": "https://zlag.vertical-life.info/en/gyms/klattercentret-solna",
          "sponsor_logo": null,
          "sportclimbing_grading_system": "french",
          "town": "Solna",
          "updated_at": "2019-12-04 08:30:11 +0000",
          "virtual": false
         },
         "gym_id": 69,
         "gym_wall_id": 733,
         "gym_wall_name": "A Sektionen",
         "height": 4,
         "hold_color": null,
         "hold_manufacturer": null,
         "id": 4680735,
         "id_right": 332863,
         "item_type": "gym_boulder",
         "line_number": 5,
         "name": "Black",
         "notes": null,
         "numberDifficulty": 42,
         "parent_id": 69,
         "parent_name": "Klättercentret Solna",
         "parent_name_right": "Bouldering, A Sektionen",
         "path": null,
         "path_right": [
          [
           49,
           118
          ],
          [
           163,
           579
          ],
          [
           162,
           638
          ],
          [
           511,
           651
          ],
          [
           513,
           588
          ],
          [
           512,
           71
          ],
          [
           51,
           120
          ]
         ],
         "perceived_hardness": 0,
         "project": false,
         "protection": null,
         "provider": "verticallife",
         "rating": null,
         "recommended": false,
         "reference_width": 971,
         "repeat": false,
         "repeats": 0,
         "route_card_label": "A5.",
         "route_setter": "Stina Dorwarth",
         "safety_issues": null,
         "score": 103,
         "sector_id": 219,
         "sector_name": "Bouldering",
         "set_at": {},
         "shade": null,
         "share_url": "https://zlag.vertical-life.info/en/routes/d0991b49faa6d87023ce5482d7251001",
         "sit_down_start": null,
         "sits": 0,
         "stats": {
          "b": 0,
          "c": 0,
          "comment_count": 0,
          "e": 0,
          "f": 0,
          "flash": 10,
          "go": 0,
          "hard_count": 0,
          "onsight": 0,
          "overhanging": 0,
          "rating": 5,
          "ratings_count": 1,
          "redpoint": 4,
          "roof": 0,
          "s": 0,
          "safety": 0,
          "safety_issues_count": {
           "1": 0,
           "2": 0,
           "4": 0,
           "8": 0,
           "16": 0,
           "32": 0,
           "64": 0
          },
          "slab": 0,
          "soft_count": 1,
          "t": 0,
          "toprope": 0,
          "vertical": 0,
          "video_count": 0,
          "zlag_count": 14,
          "zlaggable_height_count": {
           "1": 0,
           "2": 0,
           "4": 0,
           "8": 0,
           "16": 0,
           "32": 0
          }
         },
         "steepness": 0,
         "steepness_right": 7,
         "style": "",
         "style_right": null,
         "sub_type": "",
         "topo": "9ba3d48c8e121f154d4f49754e525ba8",
         "topo_num": "41799.5.",
         "traverse": false,
         "tries": 1,
         "two_start_holds": null,
         "type": "flash",
         "updated_at": {},
         "updated_at_right": "2022-05-19 14:29:10 +0000",
         "user_id": 230474,
         "virtual": false,
         "virtual_right": false,
         "vl_ascendable_id": null,
         "vl_id": 4495281,
         "vl_parent_id": null,
         "vl_user_id": 286128,
         "year": 2022
        },
        {
         "archived": true,
         "archived_at": null,
         "ascendable_filter": null,
         "ascendable_height": null,
         "ascendable_id": 332863,
         "ascendable_name": "Black",
         "ascendable_type": "GymBoulder",
         "color_1": "#000000",
         "color_2": null,
         "comment": null,
         "created_at": {},
         "created_at_right": "2022-03-31 10:24:45 +0000",
         "date": "2022-04-27 12:00:00 +0000",
         "difficulty": "4+",
         "difficulty_right": "4+",
         "display_route_setter": true,
         "eight_a_ascendable_id": null,
         "eight_a_id": null,
         "eight_a_logbook": false,
         "eight_a_parent_id": null,
         "eight_a_user_id": 133113,
         "expiration_date": null,
         "exposition": null,
         "features": null,
         "gallery": [],
         "grade": "vl-8",
         "grade_proposals": [
          [
           "vl-1",
           "2"
          ],
          [
           "vl-2",
           "2+"
          ],
          [
           "vl-3",
           "3-"
          ],
          [
           "vl-4",
           "3"
          ],
          [
           "vl-5",
           "3+"
          ],
          [
           "vl-6",
           "4-"
          ],
          [
           "vl-7",
           "4"
          ],
          [
           "vl-8",
           "4+"
          ],
          [
           "vl-9",
           "5-"
          ],
          [
           "vl-12",
           "5"
          ],
          [
           "vl-14",
           "5+"
          ],
          [
           "vl-16",
           "6A"
          ],
          [
           "vl-17",
           "6A+"
          ],
          [
           "vl-18",
           "6B"
          ],
          [
           "vl-19",
           "6B+"
          ],
          [
           "vl-21",
           "6C"
          ],
          [
           "vl-22",
           "6C+"
          ],
          [
           "vl-23",
           "7A"
          ],
          [
           "vl-24",
           "7A+"
          ],
          [
           "vl-25",
           "7B"
          ],
          [
           "vl-26",
           "7B+"
          ],
          [
           "vl-27",
           "7C"
          ],
          [
           "vl-28",
           "7C+"
          ],
          [
           "vl-29",
           "8A"
          ],
          [
           "vl-30",
           "8A+"
          ],
          [
           "vl-31",
           "8B"
          ],
          [
           "vl-32",
           "8B+"
          ],
          [
           "vl-33",
           "8C"
          ],
          [
           "vl-34",
           "8C+"
          ]
         ],
         "grade_right": "vl-8",
         "grading_system": "font",
         "grading_system_right": "font",
         "gym": {
          "ascent_count": 55969,
          "boulder_count": 131,
          "bouldering_grading_system": "font",
          "categories": 24,
          "country": "Sweden",
          "cover": "f85eaa2db48218e30ff6f8fe4197df56",
          "created_at": "2018-06-21 09:50:35 +0000",
          "difficulties": {
           "vl-1": 0,
           "vl-10": 0,
           "vl-11": 0,
           "vl-12": 2,
           "vl-13": 0,
           "vl-14": 11,
           "vl-15": 0,
           "vl-16": 11,
           "vl-17": 9,
           "vl-18": 9,
           "vl-19": 8,
           "vl-2": 0,
           "vl-20": 0,
           "vl-21": 10,
           "vl-22": 5,
           "vl-23": 6,
           "vl-24": 4,
           "vl-25": 4,
           "vl-26": 2,
           "vl-27": 3,
           "vl-28": 2,
           "vl-29": 1,
           "vl-3": 0,
           "vl-30": 1,
           "vl-31": 0,
           "vl-32": 0,
           "vl-33": 0,
           "vl-34": 0,
           "vl-35": 0,
           "vl-36": 0,
           "vl-37": 0,
           "vl-38": 0,
           "vl-39": 0,
           "vl-4": 0,
           "vl-5": 0,
           "vl-6": 5,
           "vl-7": 4,
           "vl-8": 4,
           "vl-9": 7
          },
          "difficulties_bouldering": {
           "vl-1": 0,
           "vl-10": 0,
           "vl-11": 0,
           "vl-12": 8,
           "vl-13": 0,
           "vl-14": 5,
           "vl-15": 0,
           "vl-16": 9,
           "vl-17": 8,
           "vl-18": 7,
           "vl-19": 12,
           "vl-2": 0,
           "vl-20": 0,
           "vl-21": 13,
           "vl-22": 9,
           "vl-23": 9,
           "vl-24": 7,
           "vl-25": 8,
           "vl-26": 6,
           "vl-27": 6,
           "vl-28": 4,
           "vl-29": 4,
           "vl-3": 0,
           "vl-30": 1,
           "vl-31": 0,
           "vl-32": 0,
           "vl-33": 0,
           "vl-34": 0,
           "vl-4": 2,
           "vl-5": 3,
           "vl-6": 0,
           "vl-7": 5,
           "vl-8": 5,
           "vl-9": 0
          },
          "elegible_for_boulder_training": true,
          "gym_status": {
           "checkins_enabled": false,
           "temporarily_closed": false
          },
          "id": 69,
          "item_type": "gym",
          "latitude": 59.3569,
          "logo": "ce68d672c98919d65f4311f9c9d9bb47",
          "longitude": 18.0162,
          "name": "Klättercentret Solna",
          "published": true,
          "published_at": "2018-08-31 07:00:00 +0000",
          "route_count": 108,
          "share_url": "https://zlag.vertical-life.info/en/gyms/klattercentret-solna",
          "sponsor_logo": null,
          "sportclimbing_grading_system": "french",
          "town": "Solna",
          "updated_at": "2019-12-04 08:30:11 +0000",
          "virtual": false
         },
         "gym_id": 69,
         "gym_wall_id": 733,
         "gym_wall_name": "A Sektionen",
         "height": 4,
         "hold_color": null,
         "hold_manufacturer": null,
         "id": 4680735,
         "id_right": 332863,
         "item_type": "gym_boulder",
         "line_number": 5,
         "name": "Black",
         "notes": null,
         "numberDifficulty": 42,
         "parent_id": 69,
         "parent_name": "Klättercentret Solna",
         "parent_name_right": "Bouldering, A Sektionen",
         "path": null,
         "path_right": [
          [
           49,
           118
          ],
          [
           163,
           579
          ],
          [
           162,
           638
          ],
          [
           511,
           651
          ],
          [
           513,
           588
          ],
          [
           512,
           71
          ],
          [
           51,
           120
          ]
         ],
         "perceived_hardness": 0,
         "project": false,
         "protection": null,
         "provider": "verticallife",
         "rating": null,
         "recommended": false,
         "reference_width": 971,
         "repeat": false,
         "repeats": 0,
         "route_card_label": "A5.",
         "route_setter": "Stina Dorwarth",
         "safety_issues": null,
         "score": 103,
         "sector_id": 219,
         "sector_name": "Bouldering",
         "set_at": {},
         "shade": null,
         "share_url": "https://zlag.vertical-life.info/en/routes/d0991b49faa6d87023ce5482d7251001",
         "sit_down_start": null,
         "sits": 0,
         "stats": {
          "b": 0,
          "c": 0,
          "comment_count": 0,
          "e": 0,
          "f": 0,
          "flash": 10,
          "go": 0,
          "hard_count": 0,
          "onsight": 0,
          "overhanging": 0,
          "rating": 5,
          "ratings_count": 1,
          "redpoint": 4,
          "roof": 0,
          "s": 0,
          "safety": 0,
          "safety_issues_count": {
           "1": 0,
           "2": 0,
           "4": 0,
           "8": 0,
           "16": 0,
           "32": 0,
           "64": 0
          },
          "slab": 0,
          "soft_count": 1,
          "t": 0,
          "toprope": 0,
          "vertical": 0,
          "video_count": 0,
          "zlag_count": 14,
          "zlaggable_height_count": {
           "1": 0,
           "2": 0,
           "4": 0,
           "8": 0,
           "16": 0,
           "32": 0
          }
         },
         "steepness": 0,
         "steepness_right": 7,
         "style": "",
         "style_right": null,
         "sub_type": "",
         "topo": "9ba3d48c8e121f154d4f49754e525ba8",
         "topo_num": "41799.5.",
         "traverse": false,
         "tries": 1,
         "two_start_holds": null,
         "type": "flash",
         "updated_at": {},
         "updated_at_right": "2022-05-19 14:29:10 +0000",
         "user_id": 230474,
         "virtual": false,
         "virtual_right": false,
         "vl_ascendable_id": null,
         "vl_id": 4495281,
         "vl_parent_id": null,
         "vl_user_id": 286128,
         "year": 2022
        },
        {
         "archived": true,
         "archived_at": null,
         "ascendable_filter": null,
         "ascendable_height": null,
         "ascendable_id": 330233,
         "ascendable_name": "Terracotta",
         "ascendable_type": "GymBoulder",
         "color_1": "#ee9b6e",
         "color_2": null,
         "comment": null,
         "created_at": {},
         "created_at_right": "2022-03-22 07:08:15 +0000",
         "date": "2022-04-27 12:00:00 +0000",
         "difficulty": "6A+",
         "difficulty_right": "6A+",
         "display_route_setter": true,
         "eight_a_ascendable_id": null,
         "eight_a_id": null,
         "eight_a_logbook": false,
         "eight_a_parent_id": null,
         "eight_a_user_id": 133113,
         "expiration_date": null,
         "exposition": null,
         "features": null,
         "gallery": [],
         "grade": "vl-17",
         "grade_proposals": [
          [
           "vl-1",
           "2"
          ],
          [
           "vl-2",
           "2+"
          ],
          [
           "vl-3",
           "3-"
          ],
          [
           "vl-4",
           "3"
          ],
          [
           "vl-5",
           "3+"
          ],
          [
           "vl-6",
           "4-"
          ],
          [
           "vl-7",
           "4"
          ],
          [
           "vl-8",
           "4+"
          ],
          [
           "vl-9",
           "5-"
          ],
          [
           "vl-12",
           "5"
          ],
          [
           "vl-14",
           "5+"
          ],
          [
           "vl-16",
           "6A"
          ],
          [
           "vl-17",
           "6A+"
          ],
          [
           "vl-18",
           "6B"
          ],
          [
           "vl-19",
           "6B+"
          ],
          [
           "vl-21",
           "6C"
          ],
          [
           "vl-22",
           "6C+"
          ],
          [
           "vl-23",
           "7A"
          ],
          [
           "vl-24",
           "7A+"
          ],
          [
           "vl-25",
           "7B"
          ],
          [
           "vl-26",
           "7B+"
          ],
          [
           "vl-27",
           "7C"
          ],
          [
           "vl-28",
           "7C+"
          ],
          [
           "vl-29",
           "8A"
          ],
          [
           "vl-30",
           "8A+"
          ],
          [
           "vl-31",
           "8B"
          ],
          [
           "vl-32",
           "8B+"
          ],
          [
           "vl-33",
           "8C"
          ],
          [
           "vl-34",
           "8C+"
          ]
         ],
         "grade_right": "vl-17",
         "grading_system": "font",
         "grading_system_right": "font",
         "gym": {
          "ascent_count": 55969,
          "boulder_count": 131,
          "bouldering_grading_system": "font",
          "categories": 24,
          "country": "Sweden",
          "cover": "f85eaa2db48218e30ff6f8fe4197df56",
          "created_at": "2018-06-21 09:50:35 +0000",
          "difficulties": {
           "vl-1": 0,
           "vl-10": 0,
           "vl-11": 0,
           "vl-12": 2,
           "vl-13": 0,
           "vl-14": 11,
           "vl-15": 0,
           "vl-16": 11,
           "vl-17": 9,
           "vl-18": 9,
           "vl-19": 8,
           "vl-2": 0,
           "vl-20": 0,
           "vl-21": 10,
           "vl-22": 5,
           "vl-23": 6,
           "vl-24": 4,
           "vl-25": 4,
           "vl-26": 2,
           "vl-27": 3,
           "vl-28": 2,
           "vl-29": 1,
           "vl-3": 0,
           "vl-30": 1,
           "vl-31": 0,
           "vl-32": 0,
           "vl-33": 0,
           "vl-34": 0,
           "vl-35": 0,
           "vl-36": 0,
           "vl-37": 0,
           "vl-38": 0,
           "vl-39": 0,
           "vl-4": 0,
           "vl-5": 0,
           "vl-6": 5,
           "vl-7": 4,
           "vl-8": 4,
           "vl-9": 7
          },
          "difficulties_bouldering": {
           "vl-1": 0,
           "vl-10": 0,
           "vl-11": 0,
           "vl-12": 8,
           "vl-13": 0,
           "vl-14": 5,
           "vl-15": 0,
           "vl-16": 9,
           "vl-17": 8,
           "vl-18": 7,
           "vl-19": 12,
           "vl-2": 0,
           "vl-20": 0,
           "vl-21": 13,
           "vl-22": 9,
           "vl-23": 9,
           "vl-24": 7,
           "vl-25": 8,
           "vl-26": 6,
           "vl-27": 6,
           "vl-28": 4,
           "vl-29": 4,
           "vl-3": 0,
           "vl-30": 1,
           "vl-31": 0,
           "vl-32": 0,
           "vl-33": 0,
           "vl-34": 0,
           "vl-4": 2,
           "vl-5": 3,
           "vl-6": 0,
           "vl-7": 5,
           "vl-8": 5,
           "vl-9": 0
          },
          "elegible_for_boulder_training": true,
          "gym_status": {
           "checkins_enabled": false,
           "temporarily_closed": false
          },
          "id": 69,
          "item_type": "gym",
          "latitude": 59.3569,
          "logo": "ce68d672c98919d65f4311f9c9d9bb47",
          "longitude": 18.0162,
          "name": "Klättercentret Solna",
          "published": true,
          "published_at": "2018-08-31 07:00:00 +0000",
          "route_count": 108,
          "share_url": "https://zlag.vertical-life.info/en/gyms/klattercentret-solna",
          "sponsor_logo": null,
          "sportclimbing_grading_system": "french",
          "town": "Solna",
          "updated_at": "2019-12-04 08:30:11 +0000",
          "virtual": false
         },
         "gym_id": 69,
         "gym_wall_id": 734,
         "gym_wall_name": "B Sektionen",
         "height": 4,
         "hold_color": null,
         "hold_manufacturer": null,
         "id": 4739866,
         "id_right": 330233,
         "item_type": "gym_boulder",
         "line_number": 2,
         "name": "Terracotta",
         "notes": null,
         "numberDifficulty": 66,
         "parent_id": 69,
         "parent_name": "Klättercentret Solna",
         "parent_name_right": "Bouldering, B Sektionen",
         "path": null,
         "path_right": [
          [
           4,
           150
          ],
          [
           164,
           170
          ],
          [
           381,
           190
          ],
          [
           383,
           542
          ],
          [
           219,
           571
          ],
          [
           2,
           609
          ],
          [
           6,
           152
          ]
         ],
         "perceived_hardness": 0,
         "project": false,
         "protection": null,
         "provider": "verticallife",
         "rating": null,
         "recommended": false,
         "reference_width": 971,
         "repeat": false,
         "repeats": 0,
         "route_card_label": "B2.",
         "route_setter": "Benjamin Schlobohm",
         "safety_issues": null,
         "score": 450,
         "sector_id": 219,
         "sector_name": "Bouldering",
         "set_at": {},
         "shade": null,
         "share_url": "https://zlag.vertical-life.info/en/routes/beea70fd1d4a299036e8e00d139b39ac",
         "sit_down_start": null,
         "sits": 0,
         "stats": {
          "b": 0,
          "c": 0,
          "comment_count": 0,
          "e": 0,
          "f": 0,
          "flash": 6,
          "go": 0,
          "hard_count": 0,
          "onsight": 0,
          "overhanging": 0,
          "rating": 2,
          "ratings_count": 1,
          "redpoint": 3,
          "roof": 0,
          "s": 0,
          "safety": 2,
          "safety_issues_count": {
           "1": 0,
           "2": 0,
           "4": 0,
           "8": 0,
           "16": 0,
           "32": 0,
           "64": 0
          },
          "slab": 0,
          "soft_count": 0,
          "t": 0,
          "toprope": 0,
          "vertical": 0,
          "video_count": 0,
          "zlag_count": 9,
          "zlaggable_height_count": {
           "1": 0,
           "2": 0,
           "4": 0,
           "8": 0,
           "16": 0,
           "32": 0
          }
         },
         "steepness": 0,
         "steepness_right": 3,
         "style": "",
         "style_right": null,
         "sub_type": "",
         "topo": "1e2bd49546a1ab26033e6eca6a575fad",
         "topo_num": "41801.2.",
         "traverse": false,
         "tries": 3,
         "two_start_holds": null,
         "type": "redpoint",
         "updated_at": {},
         "updated_at_right": "2022-04-28 08:42:29 +0000",
         "user_id": 230474,
         "virtual": false,
         "virtual_right": false,
         "vl_ascendable_id": null,
         "vl_id": 4495287,
         "vl_parent_id": null,
         "vl_user_id": 286128,
         "year": 2022
        },
        {
         "archived": true,
         "archived_at": null,
         "ascendable_filter": null,
         "ascendable_height": null,
         "ascendable_id": 330233,
         "ascendable_name": "Terracotta",
         "ascendable_type": "GymBoulder",
         "color_1": "#ee9b6e",
         "color_2": null,
         "comment": null,
         "created_at": {},
         "created_at_right": "2022-03-22 07:08:15 +0000",
         "date": "2022-04-27 12:00:00 +0000",
         "difficulty": "6A+",
         "difficulty_right": "6A+",
         "display_route_setter": true,
         "eight_a_ascendable_id": null,
         "eight_a_id": null,
         "eight_a_logbook": false,
         "eight_a_parent_id": null,
         "eight_a_user_id": 133113,
         "expiration_date": null,
         "exposition": null,
         "features": null,
         "gallery": [],
         "grade": "vl-17",
         "grade_proposals": [
          [
           "vl-1",
           "2"
          ],
          [
           "vl-2",
           "2+"
          ],
          [
           "vl-3",
           "3-"
          ],
          [
           "vl-4",
           "3"
          ],
          [
           "vl-5",
           "3+"
          ],
          [
           "vl-6",
           "4-"
          ],
          [
           "vl-7",
           "4"
          ],
          [
           "vl-8",
           "4+"
          ],
          [
           "vl-9",
           "5-"
          ],
          [
           "vl-12",
           "5"
          ],
          [
           "vl-14",
           "5+"
          ],
          [
           "vl-16",
           "6A"
          ],
          [
           "vl-17",
           "6A+"
          ],
          [
           "vl-18",
           "6B"
          ],
          [
           "vl-19",
           "6B+"
          ],
          [
           "vl-21",
           "6C"
          ],
          [
           "vl-22",
           "6C+"
          ],
          [
           "vl-23",
           "7A"
          ],
          [
           "vl-24",
           "7A+"
          ],
          [
           "vl-25",
           "7B"
          ],
          [
           "vl-26",
           "7B+"
          ],
          [
           "vl-27",
           "7C"
          ],
          [
           "vl-28",
           "7C+"
          ],
          [
           "vl-29",
           "8A"
          ],
          [
           "vl-30",
           "8A+"
          ],
          [
           "vl-31",
           "8B"
          ],
          [
           "vl-32",
           "8B+"
          ],
          [
           "vl-33",
           "8C"
          ],
          [
           "vl-34",
           "8C+"
          ]
         ],
         "grade_right": "vl-17",
         "grading_system": "font",
         "grading_system_right": "font",
         "gym": {
          "ascent_count": 55969,
          "boulder_count": 131,
          "bouldering_grading_system": "font",
          "categories": 24,
          "country": "Sweden",
          "cover": "f85eaa2db48218e30ff6f8fe4197df56",
          "created_at": "2018-06-21 09:50:35 +0000",
          "difficulties": {
           "vl-1": 0,
           "vl-10": 0,
           "vl-11": 0,
           "vl-12": 2,
           "vl-13": 0,
           "vl-14": 11,
           "vl-15": 0,
           "vl-16": 11,
           "vl-17": 9,
           "vl-18": 9,
           "vl-19": 8,
           "vl-2": 0,
           "vl-20": 0,
           "vl-21": 10,
           "vl-22": 5,
           "vl-23": 6,
           "vl-24": 4,
           "vl-25": 4,
           "vl-26": 2,
           "vl-27": 3,
           "vl-28": 2,
           "vl-29": 1,
           "vl-3": 0,
           "vl-30": 1,
           "vl-31": 0,
           "vl-32": 0,
           "vl-33": 0,
           "vl-34": 0,
           "vl-35": 0,
           "vl-36": 0,
           "vl-37": 0,
           "vl-38": 0,
           "vl-39": 0,
           "vl-4": 0,
           "vl-5": 0,
           "vl-6": 5,
           "vl-7": 4,
           "vl-8": 4,
           "vl-9": 7
          },
          "difficulties_bouldering": {
           "vl-1": 0,
           "vl-10": 0,
           "vl-11": 0,
           "vl-12": 8,
           "vl-13": 0,
           "vl-14": 5,
           "vl-15": 0,
           "vl-16": 9,
           "vl-17": 8,
           "vl-18": 7,
           "vl-19": 12,
           "vl-2": 0,
           "vl-20": 0,
           "vl-21": 13,
           "vl-22": 9,
           "vl-23": 9,
           "vl-24": 7,
           "vl-25": 8,
           "vl-26": 6,
           "vl-27": 6,
           "vl-28": 4,
           "vl-29": 4,
           "vl-3": 0,
           "vl-30": 1,
           "vl-31": 0,
           "vl-32": 0,
           "vl-33": 0,
           "vl-34": 0,
           "vl-4": 2,
           "vl-5": 3,
           "vl-6": 0,
           "vl-7": 5,
           "vl-8": 5,
           "vl-9": 0
          },
          "elegible_for_boulder_training": true,
          "gym_status": {
           "checkins_enabled": false,
           "temporarily_closed": false
          },
          "id": 69,
          "item_type": "gym",
          "latitude": 59.3569,
          "logo": "ce68d672c98919d65f4311f9c9d9bb47",
          "longitude": 18.0162,
          "name": "Klättercentret Solna",
          "published": true,
          "published_at": "2018-08-31 07:00:00 +0000",
          "route_count": 108,
          "share_url": "https://zlag.vertical-life.info/en/gyms/klattercentret-solna",
          "sponsor_logo": null,
          "sportclimbing_grading_system": "french",
          "town": "Solna",
          "updated_at": "2019-12-04 08:30:11 +0000",
          "virtual": false
         },
         "gym_id": 69,
         "gym_wall_id": 734,
         "gym_wall_name": "B Sektionen",
         "height": 4,
         "hold_color": null,
         "hold_manufacturer": null,
         "id": 4739866,
         "id_right": 330233,
         "item_type": "gym_boulder",
         "line_number": 2,
         "name": "Terracotta",
         "notes": null,
         "numberDifficulty": 66,
         "parent_id": 69,
         "parent_name": "Klättercentret Solna",
         "parent_name_right": "Bouldering, B Sektionen",
         "path": null,
         "path_right": [
          [
           4,
           150
          ],
          [
           164,
           170
          ],
          [
           381,
           190
          ],
          [
           383,
           542
          ],
          [
           219,
           571
          ],
          [
           2,
           609
          ],
          [
           6,
           152
          ]
         ],
         "perceived_hardness": 0,
         "project": false,
         "protection": null,
         "provider": "verticallife",
         "rating": null,
         "recommended": false,
         "reference_width": 971,
         "repeat": false,
         "repeats": 0,
         "route_card_label": "B2.",
         "route_setter": "Benjamin Schlobohm",
         "safety_issues": null,
         "score": 450,
         "sector_id": 219,
         "sector_name": "Bouldering",
         "set_at": {},
         "shade": null,
         "share_url": "https://zlag.vertical-life.info/en/routes/beea70fd1d4a299036e8e00d139b39ac",
         "sit_down_start": null,
         "sits": 0,
         "stats": {
          "b": 0,
          "c": 0,
          "comment_count": 0,
          "e": 0,
          "f": 0,
          "flash": 6,
          "go": 0,
          "hard_count": 0,
          "onsight": 0,
          "overhanging": 0,
          "rating": 2,
          "ratings_count": 1,
          "redpoint": 3,
          "roof": 0,
          "s": 0,
          "safety": 2,
          "safety_issues_count": {
           "1": 0,
           "2": 0,
           "4": 0,
           "8": 0,
           "16": 0,
           "32": 0,
           "64": 0
          },
          "slab": 0,
          "soft_count": 0,
          "t": 0,
          "toprope": 0,
          "vertical": 0,
          "video_count": 0,
          "zlag_count": 9,
          "zlaggable_height_count": {
           "1": 0,
           "2": 0,
           "4": 0,
           "8": 0,
           "16": 0,
           "32": 0
          }
         },
         "steepness": 0,
         "steepness_right": 3,
         "style": "",
         "style_right": null,
         "sub_type": "",
         "topo": "1e2bd49546a1ab26033e6eca6a575fad",
         "topo_num": "41801.2.",
         "traverse": false,
         "tries": 3,
         "two_start_holds": null,
         "type": "redpoint",
         "updated_at": {},
         "updated_at_right": "2022-04-28 08:42:29 +0000",
         "user_id": 230474,
         "virtual": false,
         "virtual_right": false,
         "vl_ascendable_id": null,
         "vl_id": 4495287,
         "vl_parent_id": null,
         "vl_user_id": 286128,
         "year": 2022
        },
        {
         "archived": true,
         "archived_at": null,
         "ascendable_filter": null,
         "ascendable_height": 0,
         "ascendable_id": 321157,
         "ascendable_name": "Bright yellow",
         "ascendable_type": "GymBoulder",
         "color_1": "#f0ff00",
         "color_2": null,
         "comment": null,
         "created_at": {},
         "created_at_right": "2022-02-17 16:18:44 +0000",
         "date": "2022-05-01 12:00:00 +0000",
         "difficulty": "6A",
         "difficulty_right": "6A",
         "display_route_setter": true,
         "eight_a_ascendable_id": null,
         "eight_a_id": null,
         "eight_a_logbook": false,
         "eight_a_parent_id": null,
         "eight_a_user_id": 133113,
         "expiration_date": null,
         "exposition": 0,
         "features": 0,
         "gallery": [],
         "grade": "vl-16",
         "grade_proposals": [
          [
           "vl-1",
           "2"
          ],
          [
           "vl-2",
           "2+"
          ],
          [
           "vl-3",
           "3-"
          ],
          [
           "vl-4",
           "3"
          ],
          [
           "vl-5",
           "3+"
          ],
          [
           "vl-6",
           "4-"
          ],
          [
           "vl-7",
           "4"
          ],
          [
           "vl-8",
           "4+"
          ],
          [
           "vl-9",
           "5-"
          ],
          [
           "vl-12",
           "5"
          ],
          [
           "vl-14",
           "5+"
          ],
          [
           "vl-16",
           "6A"
          ],
          [
           "vl-17",
           "6A+"
          ],
          [
           "vl-18",
           "6B"
          ],
          [
           "vl-19",
           "6B+"
          ],
          [
           "vl-21",
           "6C"
          ],
          [
           "vl-22",
           "6C+"
          ],
          [
           "vl-23",
           "7A"
          ],
          [
           "vl-24",
           "7A+"
          ],
          [
           "vl-25",
           "7B"
          ],
          [
           "vl-26",
           "7B+"
          ],
          [
           "vl-27",
           "7C"
          ],
          [
           "vl-28",
           "7C+"
          ],
          [
           "vl-29",
           "8A"
          ],
          [
           "vl-30",
           "8A+"
          ],
          [
           "vl-31",
           "8B"
          ],
          [
           "vl-32",
           "8B+"
          ],
          [
           "vl-33",
           "8C"
          ],
          [
           "vl-34",
           "8C+"
          ]
         ],
         "grade_right": "vl-16",
         "grading_system": "font",
         "grading_system_right": "font",
         "gym": {
          "ascent_count": 55969,
          "boulder_count": 131,
          "bouldering_grading_system": "font",
          "categories": 24,
          "country": "Sweden",
          "cover": "f85eaa2db48218e30ff6f8fe4197df56",
          "created_at": "2018-06-21 09:50:35 +0000",
          "difficulties": {
           "vl-1": 0,
           "vl-10": 0,
           "vl-11": 0,
           "vl-12": 2,
           "vl-13": 0,
           "vl-14": 11,
           "vl-15": 0,
           "vl-16": 11,
           "vl-17": 9,
           "vl-18": 9,
           "vl-19": 8,
           "vl-2": 0,
           "vl-20": 0,
           "vl-21": 10,
           "vl-22": 5,
           "vl-23": 6,
           "vl-24": 4,
           "vl-25": 4,
           "vl-26": 2,
           "vl-27": 3,
           "vl-28": 2,
           "vl-29": 1,
           "vl-3": 0,
           "vl-30": 1,
           "vl-31": 0,
           "vl-32": 0,
           "vl-33": 0,
           "vl-34": 0,
           "vl-35": 0,
           "vl-36": 0,
           "vl-37": 0,
           "vl-38": 0,
           "vl-39": 0,
           "vl-4": 0,
           "vl-5": 0,
           "vl-6": 5,
           "vl-7": 4,
           "vl-8": 4,
           "vl-9": 7
          },
          "difficulties_bouldering": {
           "vl-1": 0,
           "vl-10": 0,
           "vl-11": 0,
           "vl-12": 8,
           "vl-13": 0,
           "vl-14": 5,
           "vl-15": 0,
           "vl-16": 9,
           "vl-17": 8,
           "vl-18": 7,
           "vl-19": 12,
           "vl-2": 0,
           "vl-20": 0,
           "vl-21": 13,
           "vl-22": 9,
           "vl-23": 9,
           "vl-24": 7,
           "vl-25": 8,
           "vl-26": 6,
           "vl-27": 6,
           "vl-28": 4,
           "vl-29": 4,
           "vl-3": 0,
           "vl-30": 1,
           "vl-31": 0,
           "vl-32": 0,
           "vl-33": 0,
           "vl-34": 0,
           "vl-4": 2,
           "vl-5": 3,
           "vl-6": 0,
           "vl-7": 5,
           "vl-8": 5,
           "vl-9": 0
          },
          "elegible_for_boulder_training": true,
          "gym_status": {
           "checkins_enabled": false,
           "temporarily_closed": false
          },
          "id": 69,
          "item_type": "gym",
          "latitude": 59.3569,
          "logo": "ce68d672c98919d65f4311f9c9d9bb47",
          "longitude": 18.0162,
          "name": "Klättercentret Solna",
          "published": true,
          "published_at": "2018-08-31 07:00:00 +0000",
          "route_count": 108,
          "share_url": "https://zlag.vertical-life.info/en/gyms/klattercentret-solna",
          "sponsor_logo": null,
          "sportclimbing_grading_system": "french",
          "town": "Solna",
          "updated_at": "2019-12-04 08:30:11 +0000",
          "virtual": false
         },
         "gym_id": 69,
         "gym_wall_id": 733,
         "gym_wall_name": "A Sektionen",
         "height": 4,
         "hold_color": null,
         "hold_manufacturer": null,
         "id": 4293619,
         "id_right": 321157,
         "item_type": "gym_boulder",
         "line_number": 7,
         "name": "Bright yellow",
         "notes": null,
         "numberDifficulty": 60,
         "parent_id": 69,
         "parent_name": "Klättercentret Solna",
         "parent_name_right": "Bouldering, A Sektionen",
         "path": null,
         "path_right": [
          [
           313,
           177
          ],
          [
           348,
           252
          ],
          [
           328,
           339
          ],
          [
           336,
           391
          ],
          [
           336,
           420
          ],
          [
           337,
           500
          ],
          [
           418,
           506
          ],
          [
           464,
           508
          ],
          [
           465,
           471
          ],
          [
           538,
           302
          ],
          [
           474,
           188
          ],
          [
           314,
           177
          ]
         ],
         "perceived_hardness": 0,
         "project": false,
         "protection": null,
         "provider": "verticallife",
         "rating": null,
         "recommended": false,
         "reference_width": 971,
         "repeat": false,
         "repeats": 0,
         "route_card_label": "A7.",
         "route_setter": "Benjamin Schlobohm",
         "safety_issues": 0,
         "score": 453,
         "sector_id": 219,
         "sector_name": "Bouldering",
         "set_at": {},
         "shade": 0,
         "share_url": "https://zlag.vertical-life.info/en/routes/e4c9e21381e4cbf7ca2370d3443f6859",
         "sit_down_start": null,
         "sits": 0,
         "stats": {
          "b": 0,
          "c": 0,
          "comment_count": 0,
          "e": 0,
          "f": 0,
          "flash": 13,
          "go": 0,
          "hard_count": 0,
          "onsight": 0,
          "overhanging": 0,
          "rating": 2,
          "ratings_count": 1,
          "redpoint": 2,
          "roof": 0,
          "s": 0,
          "safety": 2,
          "safety_issues_count": {
           "1": 0,
           "2": 0,
           "4": 0,
           "8": 0,
           "16": 0,
           "32": 0,
           "64": 0
          },
          "slab": 0,
          "soft_count": 0,
          "t": 0,
          "toprope": 0,
          "vertical": 0,
          "video_count": 0,
          "zlag_count": 15,
          "zlaggable_height_count": {
           "1": 0,
           "2": 0,
           "4": 0,
           "8": 0,
           "16": 0,
           "32": 0
          }
         },
         "steepness": 0,
         "steepness_right": 7,
         "style": "",
         "style_right": null,
         "sub_type": "",
         "topo": "5c34763248de2c434a96e3fd1bd72118",
         "topo_num": "41798.7.",
         "traverse": false,
         "tries": 1,
         "two_start_holds": null,
         "type": "flash",
         "updated_at": {},
         "updated_at_right": "2022-05-02 08:36:32 +0000",
         "user_id": 230474,
         "virtual": false,
         "virtual_right": false,
         "vl_ascendable_id": null,
         "vl_id": 4505081,
         "vl_parent_id": null,
         "vl_user_id": 286128,
         "year": 2022
        },
        {
         "archived": true,
         "archived_at": null,
         "ascendable_filter": null,
         "ascendable_height": 0,
         "ascendable_id": 321157,
         "ascendable_name": "Bright yellow",
         "ascendable_type": "GymBoulder",
         "color_1": "#f0ff00",
         "color_2": null,
         "comment": null,
         "created_at": {},
         "created_at_right": "2022-02-17 16:18:44 +0000",
         "date": "2022-05-01 12:00:00 +0000",
         "difficulty": "6A",
         "difficulty_right": "6A",
         "display_route_setter": true,
         "eight_a_ascendable_id": null,
         "eight_a_id": null,
         "eight_a_logbook": false,
         "eight_a_parent_id": null,
         "eight_a_user_id": 133113,
         "expiration_date": null,
         "exposition": 0,
         "features": 0,
         "gallery": [],
         "grade": "vl-16",
         "grade_proposals": [
          [
           "vl-1",
           "2"
          ],
          [
           "vl-2",
           "2+"
          ],
          [
           "vl-3",
           "3-"
          ],
          [
           "vl-4",
           "3"
          ],
          [
           "vl-5",
           "3+"
          ],
          [
           "vl-6",
           "4-"
          ],
          [
           "vl-7",
           "4"
          ],
          [
           "vl-8",
           "4+"
          ],
          [
           "vl-9",
           "5-"
          ],
          [
           "vl-12",
           "5"
          ],
          [
           "vl-14",
           "5+"
          ],
          [
           "vl-16",
           "6A"
          ],
          [
           "vl-17",
           "6A+"
          ],
          [
           "vl-18",
           "6B"
          ],
          [
           "vl-19",
           "6B+"
          ],
          [
           "vl-21",
           "6C"
          ],
          [
           "vl-22",
           "6C+"
          ],
          [
           "vl-23",
           "7A"
          ],
          [
           "vl-24",
           "7A+"
          ],
          [
           "vl-25",
           "7B"
          ],
          [
           "vl-26",
           "7B+"
          ],
          [
           "vl-27",
           "7C"
          ],
          [
           "vl-28",
           "7C+"
          ],
          [
           "vl-29",
           "8A"
          ],
          [
           "vl-30",
           "8A+"
          ],
          [
           "vl-31",
           "8B"
          ],
          [
           "vl-32",
           "8B+"
          ],
          [
           "vl-33",
           "8C"
          ],
          [
           "vl-34",
           "8C+"
          ]
         ],
         "grade_right": "vl-16",
         "grading_system": "font",
         "grading_system_right": "font",
         "gym": {
          "ascent_count": 55969,
          "boulder_count": 131,
          "bouldering_grading_system": "font",
          "categories": 24,
          "country": "Sweden",
          "cover": "f85eaa2db48218e30ff6f8fe4197df56",
          "created_at": "2018-06-21 09:50:35 +0000",
          "difficulties": {
           "vl-1": 0,
           "vl-10": 0,
           "vl-11": 0,
           "vl-12": 2,
           "vl-13": 0,
           "vl-14": 11,
           "vl-15": 0,
           "vl-16": 11,
           "vl-17": 9,
           "vl-18": 9,
           "vl-19": 8,
           "vl-2": 0,
           "vl-20": 0,
           "vl-21": 10,
           "vl-22": 5,
           "vl-23": 6,
           "vl-24": 4,
           "vl-25": 4,
           "vl-26": 2,
           "vl-27": 3,
           "vl-28": 2,
           "vl-29": 1,
           "vl-3": 0,
           "vl-30": 1,
           "vl-31": 0,
           "vl-32": 0,
           "vl-33": 0,
           "vl-34": 0,
           "vl-35": 0,
           "vl-36": 0,
           "vl-37": 0,
           "vl-38": 0,
           "vl-39": 0,
           "vl-4": 0,
           "vl-5": 0,
           "vl-6": 5,
           "vl-7": 4,
           "vl-8": 4,
           "vl-9": 7
          },
          "difficulties_bouldering": {
           "vl-1": 0,
           "vl-10": 0,
           "vl-11": 0,
           "vl-12": 8,
           "vl-13": 0,
           "vl-14": 5,
           "vl-15": 0,
           "vl-16": 9,
           "vl-17": 8,
           "vl-18": 7,
           "vl-19": 12,
           "vl-2": 0,
           "vl-20": 0,
           "vl-21": 13,
           "vl-22": 9,
           "vl-23": 9,
           "vl-24": 7,
           "vl-25": 8,
           "vl-26": 6,
           "vl-27": 6,
           "vl-28": 4,
           "vl-29": 4,
           "vl-3": 0,
           "vl-30": 1,
           "vl-31": 0,
           "vl-32": 0,
           "vl-33": 0,
           "vl-34": 0,
           "vl-4": 2,
           "vl-5": 3,
           "vl-6": 0,
           "vl-7": 5,
           "vl-8": 5,
           "vl-9": 0
          },
          "elegible_for_boulder_training": true,
          "gym_status": {
           "checkins_enabled": false,
           "temporarily_closed": false
          },
          "id": 69,
          "item_type": "gym",
          "latitude": 59.3569,
          "logo": "ce68d672c98919d65f4311f9c9d9bb47",
          "longitude": 18.0162,
          "name": "Klättercentret Solna",
          "published": true,
          "published_at": "2018-08-31 07:00:00 +0000",
          "route_count": 108,
          "share_url": "https://zlag.vertical-life.info/en/gyms/klattercentret-solna",
          "sponsor_logo": null,
          "sportclimbing_grading_system": "french",
          "town": "Solna",
          "updated_at": "2019-12-04 08:30:11 +0000",
          "virtual": false
         },
         "gym_id": 69,
         "gym_wall_id": 733,
         "gym_wall_name": "A Sektionen",
         "height": 4,
         "hold_color": null,
         "hold_manufacturer": null,
         "id": 4293619,
         "id_right": 321157,
         "item_type": "gym_boulder",
         "line_number": 7,
         "name": "Bright yellow",
         "notes": null,
         "numberDifficulty": 60,
         "parent_id": 69,
         "parent_name": "Klättercentret Solna",
         "parent_name_right": "Bouldering, A Sektionen",
         "path": null,
         "path_right": [
          [
           313,
           177
          ],
          [
           348,
           252
          ],
          [
           328,
           339
          ],
          [
           336,
           391
          ],
          [
           336,
           420
          ],
          [
           337,
           500
          ],
          [
           418,
           506
          ],
          [
           464,
           508
          ],
          [
           465,
           471
          ],
          [
           538,
           302
          ],
          [
           474,
           188
          ],
          [
           314,
           177
          ]
         ],
         "perceived_hardness": 0,
         "project": false,
         "protection": null,
         "provider": "verticallife",
         "rating": null,
         "recommended": false,
         "reference_width": 971,
         "repeat": false,
         "repeats": 0,
         "route_card_label": "A7.",
         "route_setter": "Benjamin Schlobohm",
         "safety_issues": 0,
         "score": 453,
         "sector_id": 219,
         "sector_name": "Bouldering",
         "set_at": {},
         "shade": 0,
         "share_url": "https://zlag.vertical-life.info/en/routes/e4c9e21381e4cbf7ca2370d3443f6859",
         "sit_down_start": null,
         "sits": 0,
         "stats": {
          "b": 0,
          "c": 0,
          "comment_count": 0,
          "e": 0,
          "f": 0,
          "flash": 13,
          "go": 0,
          "hard_count": 0,
          "onsight": 0,
          "overhanging": 0,
          "rating": 2,
          "ratings_count": 1,
          "redpoint": 2,
          "roof": 0,
          "s": 0,
          "safety": 2,
          "safety_issues_count": {
           "1": 0,
           "2": 0,
           "4": 0,
           "8": 0,
           "16": 0,
           "32": 0,
           "64": 0
          },
          "slab": 0,
          "soft_count": 0,
          "t": 0,
          "toprope": 0,
          "vertical": 0,
          "video_count": 0,
          "zlag_count": 15,
          "zlaggable_height_count": {
           "1": 0,
           "2": 0,
           "4": 0,
           "8": 0,
           "16": 0,
           "32": 0
          }
         },
         "steepness": 0,
         "steepness_right": 7,
         "style": "",
         "style_right": null,
         "sub_type": "",
         "topo": "5c34763248de2c434a96e3fd1bd72118",
         "topo_num": "41798.7.",
         "traverse": false,
         "tries": 1,
         "two_start_holds": null,
         "type": "flash",
         "updated_at": {},
         "updated_at_right": "2022-05-02 08:36:32 +0000",
         "user_id": 230474,
         "virtual": false,
         "virtual_right": false,
         "vl_ascendable_id": null,
         "vl_id": 4505081,
         "vl_parent_id": null,
         "vl_user_id": 286128,
         "year": 2022
        },
        {
         "archived": true,
         "archived_at": null,
         "ascendable_filter": null,
         "ascendable_height": 0,
         "ascendable_id": 332945,
         "ascendable_name": "Blue",
         "ascendable_type": "GymBoulder",
         "color_1": "#0000ff",
         "color_2": null,
         "comment": null,
         "created_at": {},
         "created_at_right": "2022-03-31 13:38:13 +0000",
         "date": "2022-05-01 12:00:00 +0000",
         "difficulty": "6A",
         "difficulty_right": "6A",
         "display_route_setter": true,
         "eight_a_ascendable_id": null,
         "eight_a_id": null,
         "eight_a_logbook": false,
         "eight_a_parent_id": null,
         "eight_a_user_id": 133113,
         "expiration_date": null,
         "exposition": 0,
         "features": 0,
         "gallery": [],
         "grade": "vl-16",
         "grade_proposals": [
          [
           "vl-1",
           "2"
          ],
          [
           "vl-2",
           "2+"
          ],
          [
           "vl-3",
           "3-"
          ],
          [
           "vl-4",
           "3"
          ],
          [
           "vl-5",
           "3+"
          ],
          [
           "vl-6",
           "4-"
          ],
          [
           "vl-7",
           "4"
          ],
          [
           "vl-8",
           "4+"
          ],
          [
           "vl-9",
           "5-"
          ],
          [
           "vl-12",
           "5"
          ],
          [
           "vl-14",
           "5+"
          ],
          [
           "vl-16",
           "6A"
          ],
          [
           "vl-17",
           "6A+"
          ],
          [
           "vl-18",
           "6B"
          ],
          [
           "vl-19",
           "6B+"
          ],
          [
           "vl-21",
           "6C"
          ],
          [
           "vl-22",
           "6C+"
          ],
          [
           "vl-23",
           "7A"
          ],
          [
           "vl-24",
           "7A+"
          ],
          [
           "vl-25",
           "7B"
          ],
          [
           "vl-26",
           "7B+"
          ],
          [
           "vl-27",
           "7C"
          ],
          [
           "vl-28",
           "7C+"
          ],
          [
           "vl-29",
           "8A"
          ],
          [
           "vl-30",
           "8A+"
          ],
          [
           "vl-31",
           "8B"
          ],
          [
           "vl-32",
           "8B+"
          ],
          [
           "vl-33",
           "8C"
          ],
          [
           "vl-34",
           "8C+"
          ]
         ],
         "grade_right": "vl-16",
         "grading_system": "font",
         "grading_system_right": "font",
         "gym": {
          "ascent_count": 55969,
          "boulder_count": 131,
          "bouldering_grading_system": "font",
          "categories": 24,
          "country": "Sweden",
          "cover": "f85eaa2db48218e30ff6f8fe4197df56",
          "created_at": "2018-06-21 09:50:35 +0000",
          "difficulties": {
           "vl-1": 0,
           "vl-10": 0,
           "vl-11": 0,
           "vl-12": 2,
           "vl-13": 0,
           "vl-14": 11,
           "vl-15": 0,
           "vl-16": 11,
           "vl-17": 9,
           "vl-18": 9,
           "vl-19": 8,
           "vl-2": 0,
           "vl-20": 0,
           "vl-21": 10,
           "vl-22": 5,
           "vl-23": 6,
           "vl-24": 4,
           "vl-25": 4,
           "vl-26": 2,
           "vl-27": 3,
           "vl-28": 2,
           "vl-29": 1,
           "vl-3": 0,
           "vl-30": 1,
           "vl-31": 0,
           "vl-32": 0,
           "vl-33": 0,
           "vl-34": 0,
           "vl-35": 0,
           "vl-36": 0,
           "vl-37": 0,
           "vl-38": 0,
           "vl-39": 0,
           "vl-4": 0,
           "vl-5": 0,
           "vl-6": 5,
           "vl-7": 4,
           "vl-8": 4,
           "vl-9": 7
          },
          "difficulties_bouldering": {
           "vl-1": 0,
           "vl-10": 0,
           "vl-11": 0,
           "vl-12": 8,
           "vl-13": 0,
           "vl-14": 5,
           "vl-15": 0,
           "vl-16": 9,
           "vl-17": 8,
           "vl-18": 7,
           "vl-19": 12,
           "vl-2": 0,
           "vl-20": 0,
           "vl-21": 13,
           "vl-22": 9,
           "vl-23": 9,
           "vl-24": 7,
           "vl-25": 8,
           "vl-26": 6,
           "vl-27": 6,
           "vl-28": 4,
           "vl-29": 4,
           "vl-3": 0,
           "vl-30": 1,
           "vl-31": 0,
           "vl-32": 0,
           "vl-33": 0,
           "vl-34": 0,
           "vl-4": 2,
           "vl-5": 3,
           "vl-6": 0,
           "vl-7": 5,
           "vl-8": 5,
           "vl-9": 0
          },
          "elegible_for_boulder_training": true,
          "gym_status": {
           "checkins_enabled": false,
           "temporarily_closed": false
          },
          "id": 69,
          "item_type": "gym",
          "latitude": 59.3569,
          "logo": "ce68d672c98919d65f4311f9c9d9bb47",
          "longitude": 18.0162,
          "name": "Klättercentret Solna",
          "published": true,
          "published_at": "2018-08-31 07:00:00 +0000",
          "route_count": 108,
          "share_url": "https://zlag.vertical-life.info/en/gyms/klattercentret-solna",
          "sponsor_logo": null,
          "sportclimbing_grading_system": "french",
          "town": "Solna",
          "updated_at": "2019-12-04 08:30:11 +0000",
          "virtual": false
         },
         "gym_id": 69,
         "gym_wall_id": 733,
         "gym_wall_name": "A Sektionen",
         "height": 4,
         "hold_color": null,
         "hold_manufacturer": null,
         "id": 4578120,
         "id_right": 332945,
         "item_type": "gym_boulder",
         "line_number": 5,
         "name": "Blue",
         "notes": null,
         "numberDifficulty": 60,
         "parent_id": 69,
         "parent_name": "Klättercentret Solna",
         "parent_name_right": "Bouldering, A Sektionen",
         "path": null,
         "path_right": [
          [
           49,
           118
          ],
          [
           163,
           579
          ],
          [
           162,
           638
          ],
          [
           511,
           651
          ],
          [
           513,
           588
          ],
          [
           512,
           71
          ],
          [
           51,
           120
          ]
         ],
         "perceived_hardness": 0,
         "project": false,
         "protection": null,
         "provider": "verticallife",
         "rating": null,
         "recommended": false,
         "reference_width": 971,
         "repeat": false,
         "repeats": 0,
         "route_card_label": "A5.",
         "route_setter": "Stina Dorwarth",
         "safety_issues": 0,
         "score": 452,
         "sector_id": 219,
         "sector_name": "Bouldering",
         "set_at": {},
         "shade": 0,
         "share_url": "https://zlag.vertical-life.info/en/routes/dea809ac62f3843062fecf47493baf0d",
         "sit_down_start": null,
         "sits": 0,
         "stats": {
          "b": 0,
          "c": 0,
          "comment_count": 0,
          "e": 0,
          "f": 0,
          "flash": 10,
          "go": 1,
          "hard_count": 0,
          "onsight": 0,
          "overhanging": 0,
          "rating": 2.8,
          "ratings_count": 6,
          "redpoint": 3,
          "roof": 0,
          "s": 0,
          "safety": 0,
          "safety_issues_count": {
           "1": 0,
           "2": 0,
           "4": 0,
           "8": 0,
           "16": 0,
           "32": 0,
           "64": 0
          },
          "slab": 0,
          "soft_count": 1,
          "t": 0,
          "toprope": 0,
          "vertical": 0,
          "video_count": 0,
          "zlag_count": 14,
          "zlaggable_height_count": {
           "1": 0,
           "2": 0,
           "4": 0,
           "8": 0,
           "16": 0,
           "32": 0
          }
         },
         "steepness": 0,
         "steepness_right": 7,
         "style": "",
         "style_right": null,
         "sub_type": "",
         "topo": "9ba3d48c8e121f154d4f49754e525ba8",
         "topo_num": "41799.5.",
         "traverse": false,
         "tries": 1,
         "two_start_holds": null,
         "type": "flash",
         "updated_at": {},
         "updated_at_right": "2022-05-19 14:29:15 +0000",
         "user_id": 230474,
         "virtual": false,
         "virtual_right": false,
         "vl_ascendable_id": null,
         "vl_id": 4505471,
         "vl_parent_id": null,
         "vl_user_id": 286128,
         "year": 2022
        },
        {
         "archived": true,
         "archived_at": null,
         "ascendable_filter": null,
         "ascendable_height": 0,
         "ascendable_id": 332945,
         "ascendable_name": "Blue",
         "ascendable_type": "GymBoulder",
         "color_1": "#0000ff",
         "color_2": null,
         "comment": null,
         "created_at": {},
         "created_at_right": "2022-03-31 13:38:13 +0000",
         "date": "2022-05-01 12:00:00 +0000",
         "difficulty": "6A",
         "difficulty_right": "6A",
         "display_route_setter": true,
         "eight_a_ascendable_id": null,
         "eight_a_id": null,
         "eight_a_logbook": false,
         "eight_a_parent_id": null,
         "eight_a_user_id": 133113,
         "expiration_date": null,
         "exposition": 0,
         "features": 0,
         "gallery": [],
         "grade": "vl-16",
         "grade_proposals": [
          [
           "vl-1",
           "2"
          ],
          [
           "vl-2",
           "2+"
          ],
          [
           "vl-3",
           "3-"
          ],
          [
           "vl-4",
           "3"
          ],
          [
           "vl-5",
           "3+"
          ],
          [
           "vl-6",
           "4-"
          ],
          [
           "vl-7",
           "4"
          ],
          [
           "vl-8",
           "4+"
          ],
          [
           "vl-9",
           "5-"
          ],
          [
           "vl-12",
           "5"
          ],
          [
           "vl-14",
           "5+"
          ],
          [
           "vl-16",
           "6A"
          ],
          [
           "vl-17",
           "6A+"
          ],
          [
           "vl-18",
           "6B"
          ],
          [
           "vl-19",
           "6B+"
          ],
          [
           "vl-21",
           "6C"
          ],
          [
           "vl-22",
           "6C+"
          ],
          [
           "vl-23",
           "7A"
          ],
          [
           "vl-24",
           "7A+"
          ],
          [
           "vl-25",
           "7B"
          ],
          [
           "vl-26",
           "7B+"
          ],
          [
           "vl-27",
           "7C"
          ],
          [
           "vl-28",
           "7C+"
          ],
          [
           "vl-29",
           "8A"
          ],
          [
           "vl-30",
           "8A+"
          ],
          [
           "vl-31",
           "8B"
          ],
          [
           "vl-32",
           "8B+"
          ],
          [
           "vl-33",
           "8C"
          ],
          [
           "vl-34",
           "8C+"
          ]
         ],
         "grade_right": "vl-16",
         "grading_system": "font",
         "grading_system_right": "font",
         "gym": {
          "ascent_count": 55969,
          "boulder_count": 131,
          "bouldering_grading_system": "font",
          "categories": 24,
          "country": "Sweden",
          "cover": "f85eaa2db48218e30ff6f8fe4197df56",
          "created_at": "2018-06-21 09:50:35 +0000",
          "difficulties": {
           "vl-1": 0,
           "vl-10": 0,
           "vl-11": 0,
           "vl-12": 2,
           "vl-13": 0,
           "vl-14": 11,
           "vl-15": 0,
           "vl-16": 11,
           "vl-17": 9,
           "vl-18": 9,
           "vl-19": 8,
           "vl-2": 0,
           "vl-20": 0,
           "vl-21": 10,
           "vl-22": 5,
           "vl-23": 6,
           "vl-24": 4,
           "vl-25": 4,
           "vl-26": 2,
           "vl-27": 3,
           "vl-28": 2,
           "vl-29": 1,
           "vl-3": 0,
           "vl-30": 1,
           "vl-31": 0,
           "vl-32": 0,
           "vl-33": 0,
           "vl-34": 0,
           "vl-35": 0,
           "vl-36": 0,
           "vl-37": 0,
           "vl-38": 0,
           "vl-39": 0,
           "vl-4": 0,
           "vl-5": 0,
           "vl-6": 5,
           "vl-7": 4,
           "vl-8": 4,
           "vl-9": 7
          },
          "difficulties_bouldering": {
           "vl-1": 0,
           "vl-10": 0,
           "vl-11": 0,
           "vl-12": 8,
           "vl-13": 0,
           "vl-14": 5,
           "vl-15": 0,
           "vl-16": 9,
           "vl-17": 8,
           "vl-18": 7,
           "vl-19": 12,
           "vl-2": 0,
           "vl-20": 0,
           "vl-21": 13,
           "vl-22": 9,
           "vl-23": 9,
           "vl-24": 7,
           "vl-25": 8,
           "vl-26": 6,
           "vl-27": 6,
           "vl-28": 4,
           "vl-29": 4,
           "vl-3": 0,
           "vl-30": 1,
           "vl-31": 0,
           "vl-32": 0,
           "vl-33": 0,
           "vl-34": 0,
           "vl-4": 2,
           "vl-5": 3,
           "vl-6": 0,
           "vl-7": 5,
           "vl-8": 5,
           "vl-9": 0
          },
          "elegible_for_boulder_training": true,
          "gym_status": {
           "checkins_enabled": false,
           "temporarily_closed": false
          },
          "id": 69,
          "item_type": "gym",
          "latitude": 59.3569,
          "logo": "ce68d672c98919d65f4311f9c9d9bb47",
          "longitude": 18.0162,
          "name": "Klättercentret Solna",
          "published": true,
          "published_at": "2018-08-31 07:00:00 +0000",
          "route_count": 108,
          "share_url": "https://zlag.vertical-life.info/en/gyms/klattercentret-solna",
          "sponsor_logo": null,
          "sportclimbing_grading_system": "french",
          "town": "Solna",
          "updated_at": "2019-12-04 08:30:11 +0000",
          "virtual": false
         },
         "gym_id": 69,
         "gym_wall_id": 733,
         "gym_wall_name": "A Sektionen",
         "height": 4,
         "hold_color": null,
         "hold_manufacturer": null,
         "id": 4578120,
         "id_right": 332945,
         "item_type": "gym_boulder",
         "line_number": 5,
         "name": "Blue",
         "notes": null,
         "numberDifficulty": 60,
         "parent_id": 69,
         "parent_name": "Klättercentret Solna",
         "parent_name_right": "Bouldering, A Sektionen",
         "path": null,
         "path_right": [
          [
           49,
           118
          ],
          [
           163,
           579
          ],
          [
           162,
           638
          ],
          [
           511,
           651
          ],
          [
           513,
           588
          ],
          [
           512,
           71
          ],
          [
           51,
           120
          ]
         ],
         "perceived_hardness": 0,
         "project": false,
         "protection": null,
         "provider": "verticallife",
         "rating": null,
         "recommended": false,
         "reference_width": 971,
         "repeat": false,
         "repeats": 0,
         "route_card_label": "A5.",
         "route_setter": "Stina Dorwarth",
         "safety_issues": 0,
         "score": 452,
         "sector_id": 219,
         "sector_name": "Bouldering",
         "set_at": {},
         "shade": 0,
         "share_url": "https://zlag.vertical-life.info/en/routes/dea809ac62f3843062fecf47493baf0d",
         "sit_down_start": null,
         "sits": 0,
         "stats": {
          "b": 0,
          "c": 0,
          "comment_count": 0,
          "e": 0,
          "f": 0,
          "flash": 10,
          "go": 1,
          "hard_count": 0,
          "onsight": 0,
          "overhanging": 0,
          "rating": 2.8,
          "ratings_count": 6,
          "redpoint": 3,
          "roof": 0,
          "s": 0,
          "safety": 0,
          "safety_issues_count": {
           "1": 0,
           "2": 0,
           "4": 0,
           "8": 0,
           "16": 0,
           "32": 0,
           "64": 0
          },
          "slab": 0,
          "soft_count": 1,
          "t": 0,
          "toprope": 0,
          "vertical": 0,
          "video_count": 0,
          "zlag_count": 14,
          "zlaggable_height_count": {
           "1": 0,
           "2": 0,
           "4": 0,
           "8": 0,
           "16": 0,
           "32": 0
          }
         },
         "steepness": 0,
         "steepness_right": 7,
         "style": "",
         "style_right": null,
         "sub_type": "",
         "topo": "9ba3d48c8e121f154d4f49754e525ba8",
         "topo_num": "41799.5.",
         "traverse": false,
         "tries": 1,
         "two_start_holds": null,
         "type": "flash",
         "updated_at": {},
         "updated_at_right": "2022-05-19 14:29:15 +0000",
         "user_id": 230474,
         "virtual": false,
         "virtual_right": false,
         "vl_ascendable_id": null,
         "vl_id": 4505471,
         "vl_parent_id": null,
         "vl_user_id": 286128,
         "year": 2022
        },
        {
         "archived": true,
         "archived_at": null,
         "ascendable_filter": null,
         "ascendable_height": 0,
         "ascendable_id": 332945,
         "ascendable_name": "Blue",
         "ascendable_type": "GymBoulder",
         "color_1": "#0000ff",
         "color_2": null,
         "comment": null,
         "created_at": {},
         "created_at_right": "2022-03-31 13:38:13 +0000",
         "date": "2022-05-01 12:00:00 +0000",
         "difficulty": "6A",
         "difficulty_right": "6A",
         "display_route_setter": true,
         "eight_a_ascendable_id": null,
         "eight_a_id": null,
         "eight_a_logbook": false,
         "eight_a_parent_id": null,
         "eight_a_user_id": 133113,
         "expiration_date": null,
         "exposition": 0,
         "features": 0,
         "gallery": [],
         "grade": "vl-16",
         "grade_proposals": [
          [
           "vl-1",
           "2"
          ],
          [
           "vl-2",
           "2+"
          ],
          [
           "vl-3",
           "3-"
          ],
          [
           "vl-4",
           "3"
          ],
          [
           "vl-5",
           "3+"
          ],
          [
           "vl-6",
           "4-"
          ],
          [
           "vl-7",
           "4"
          ],
          [
           "vl-8",
           "4+"
          ],
          [
           "vl-9",
           "5-"
          ],
          [
           "vl-12",
           "5"
          ],
          [
           "vl-14",
           "5+"
          ],
          [
           "vl-16",
           "6A"
          ],
          [
           "vl-17",
           "6A+"
          ],
          [
           "vl-18",
           "6B"
          ],
          [
           "vl-19",
           "6B+"
          ],
          [
           "vl-21",
           "6C"
          ],
          [
           "vl-22",
           "6C+"
          ],
          [
           "vl-23",
           "7A"
          ],
          [
           "vl-24",
           "7A+"
          ],
          [
           "vl-25",
           "7B"
          ],
          [
           "vl-26",
           "7B+"
          ],
          [
           "vl-27",
           "7C"
          ],
          [
           "vl-28",
           "7C+"
          ],
          [
           "vl-29",
           "8A"
          ],
          [
           "vl-30",
           "8A+"
          ],
          [
           "vl-31",
           "8B"
          ],
          [
           "vl-32",
           "8B+"
          ],
          [
           "vl-33",
           "8C"
          ],
          [
           "vl-34",
           "8C+"
          ]
         ],
         "grade_right": "vl-16",
         "grading_system": "font",
         "grading_system_right": "font",
         "gym": {
          "ascent_count": 55969,
          "boulder_count": 131,
          "bouldering_grading_system": "font",
          "categories": 24,
          "country": "Sweden",
          "cover": "f85eaa2db48218e30ff6f8fe4197df56",
          "created_at": "2018-06-21 09:50:35 +0000",
          "difficulties": {
           "vl-1": 0,
           "vl-10": 0,
           "vl-11": 0,
           "vl-12": 2,
           "vl-13": 0,
           "vl-14": 11,
           "vl-15": 0,
           "vl-16": 11,
           "vl-17": 9,
           "vl-18": 9,
           "vl-19": 8,
           "vl-2": 0,
           "vl-20": 0,
           "vl-21": 10,
           "vl-22": 5,
           "vl-23": 6,
           "vl-24": 4,
           "vl-25": 4,
           "vl-26": 2,
           "vl-27": 3,
           "vl-28": 2,
           "vl-29": 1,
           "vl-3": 0,
           "vl-30": 1,
           "vl-31": 0,
           "vl-32": 0,
           "vl-33": 0,
           "vl-34": 0,
           "vl-35": 0,
           "vl-36": 0,
           "vl-37": 0,
           "vl-38": 0,
           "vl-39": 0,
           "vl-4": 0,
           "vl-5": 0,
           "vl-6": 5,
           "vl-7": 4,
           "vl-8": 4,
           "vl-9": 7
          },
          "difficulties_bouldering": {
           "vl-1": 0,
           "vl-10": 0,
           "vl-11": 0,
           "vl-12": 8,
           "vl-13": 0,
           "vl-14": 5,
           "vl-15": 0,
           "vl-16": 9,
           "vl-17": 8,
           "vl-18": 7,
           "vl-19": 12,
           "vl-2": 0,
           "vl-20": 0,
           "vl-21": 13,
           "vl-22": 9,
           "vl-23": 9,
           "vl-24": 7,
           "vl-25": 8,
           "vl-26": 6,
           "vl-27": 6,
           "vl-28": 4,
           "vl-29": 4,
           "vl-3": 0,
           "vl-30": 1,
           "vl-31": 0,
           "vl-32": 0,
           "vl-33": 0,
           "vl-34": 0,
           "vl-4": 2,
           "vl-5": 3,
           "vl-6": 0,
           "vl-7": 5,
           "vl-8": 5,
           "vl-9": 0
          },
          "elegible_for_boulder_training": true,
          "gym_status": {
           "checkins_enabled": false,
           "temporarily_closed": false
          },
          "id": 69,
          "item_type": "gym",
          "latitude": 59.3569,
          "logo": "ce68d672c98919d65f4311f9c9d9bb47",
          "longitude": 18.0162,
          "name": "Klättercentret Solna",
          "published": true,
          "published_at": "2018-08-31 07:00:00 +0000",
          "route_count": 108,
          "share_url": "https://zlag.vertical-life.info/en/gyms/klattercentret-solna",
          "sponsor_logo": null,
          "sportclimbing_grading_system": "french",
          "town": "Solna",
          "updated_at": "2019-12-04 08:30:11 +0000",
          "virtual": false
         },
         "gym_id": 69,
         "gym_wall_id": 733,
         "gym_wall_name": "A Sektionen",
         "height": 4,
         "hold_color": null,
         "hold_manufacturer": null,
         "id": 4578120,
         "id_right": 332945,
         "item_type": "gym_boulder",
         "line_number": 5,
         "name": "Blue",
         "notes": null,
         "numberDifficulty": 60,
         "parent_id": 69,
         "parent_name": "Klättercentret Solna",
         "parent_name_right": "Bouldering, A Sektionen",
         "path": null,
         "path_right": [
          [
           49,
           118
          ],
          [
           163,
           579
          ],
          [
           162,
           638
          ],
          [
           511,
           651
          ],
          [
           513,
           588
          ],
          [
           512,
           71
          ],
          [
           51,
           120
          ]
         ],
         "perceived_hardness": 0,
         "project": false,
         "protection": null,
         "provider": "verticallife",
         "rating": null,
         "recommended": false,
         "reference_width": 971,
         "repeat": false,
         "repeats": 0,
         "route_card_label": "A5.",
         "route_setter": "Stina Dorwarth",
         "safety_issues": 0,
         "score": 452,
         "sector_id": 219,
         "sector_name": "Bouldering",
         "set_at": {},
         "shade": 0,
         "share_url": "https://zlag.vertical-life.info/en/routes/dea809ac62f3843062fecf47493baf0d",
         "sit_down_start": null,
         "sits": 0,
         "stats": {
          "b": 0,
          "c": 0,
          "comment_count": 0,
          "e": 0,
          "f": 0,
          "flash": 10,
          "go": 1,
          "hard_count": 0,
          "onsight": 0,
          "overhanging": 0,
          "rating": 2.8,
          "ratings_count": 6,
          "redpoint": 3,
          "roof": 0,
          "s": 0,
          "safety": 0,
          "safety_issues_count": {
           "1": 0,
           "2": 0,
           "4": 0,
           "8": 0,
           "16": 0,
           "32": 0,
           "64": 0
          },
          "slab": 0,
          "soft_count": 1,
          "t": 0,
          "toprope": 0,
          "vertical": 0,
          "video_count": 0,
          "zlag_count": 14,
          "zlaggable_height_count": {
           "1": 0,
           "2": 0,
           "4": 0,
           "8": 0,
           "16": 0,
           "32": 0
          }
         },
         "steepness": 0,
         "steepness_right": 7,
         "style": "",
         "style_right": null,
         "sub_type": "",
         "topo": "9ba3d48c8e121f154d4f49754e525ba8",
         "topo_num": "41799.5.",
         "traverse": false,
         "tries": 1,
         "two_start_holds": null,
         "type": "flash",
         "updated_at": {},
         "updated_at_right": "2022-05-19 14:29:15 +0000",
         "user_id": 230474,
         "virtual": false,
         "virtual_right": false,
         "vl_ascendable_id": null,
         "vl_id": 4505471,
         "vl_parent_id": null,
         "vl_user_id": 286128,
         "year": 2022
        },
        {
         "archived": true,
         "archived_at": null,
         "ascendable_filter": null,
         "ascendable_height": 0,
         "ascendable_id": 339862,
         "ascendable_name": "White",
         "ascendable_type": "GymBoulder",
         "color_1": "#FFFFFF",
         "color_2": null,
         "comment": null,
         "created_at": {},
         "created_at_right": "2022-04-28 14:57:52 +0000",
         "date": "2022-05-01 12:00:00 +0000",
         "difficulty": "4+",
         "difficulty_right": "4+",
         "display_route_setter": true,
         "eight_a_ascendable_id": null,
         "eight_a_id": null,
         "eight_a_logbook": false,
         "eight_a_parent_id": null,
         "eight_a_user_id": 133113,
         "expiration_date": null,
         "exposition": 0,
         "features": 0,
         "gallery": [],
         "grade": "vl-8",
         "grade_proposals": [
          [
           "vl-1",
           "2"
          ],
          [
           "vl-2",
           "2+"
          ],
          [
           "vl-3",
           "3-"
          ],
          [
           "vl-4",
           "3"
          ],
          [
           "vl-5",
           "3+"
          ],
          [
           "vl-6",
           "4-"
          ],
          [
           "vl-7",
           "4"
          ],
          [
           "vl-8",
           "4+"
          ],
          [
           "vl-9",
           "5-"
          ],
          [
           "vl-12",
           "5"
          ],
          [
           "vl-14",
           "5+"
          ],
          [
           "vl-16",
           "6A"
          ],
          [
           "vl-17",
           "6A+"
          ],
          [
           "vl-18",
           "6B"
          ],
          [
           "vl-19",
           "6B+"
          ],
          [
           "vl-21",
           "6C"
          ],
          [
           "vl-22",
           "6C+"
          ],
          [
           "vl-23",
           "7A"
          ],
          [
           "vl-24",
           "7A+"
          ],
          [
           "vl-25",
           "7B"
          ],
          [
           "vl-26",
           "7B+"
          ],
          [
           "vl-27",
           "7C"
          ],
          [
           "vl-28",
           "7C+"
          ],
          [
           "vl-29",
           "8A"
          ],
          [
           "vl-30",
           "8A+"
          ],
          [
           "vl-31",
           "8B"
          ],
          [
           "vl-32",
           "8B+"
          ],
          [
           "vl-33",
           "8C"
          ],
          [
           "vl-34",
           "8C+"
          ]
         ],
         "grade_right": "vl-8",
         "grading_system": "font",
         "grading_system_right": "font",
         "gym": {
          "ascent_count": 55969,
          "boulder_count": 131,
          "bouldering_grading_system": "font",
          "categories": 24,
          "country": "Sweden",
          "cover": "f85eaa2db48218e30ff6f8fe4197df56",
          "created_at": "2018-06-21 09:50:35 +0000",
          "difficulties": {
           "vl-1": 0,
           "vl-10": 0,
           "vl-11": 0,
           "vl-12": 2,
           "vl-13": 0,
           "vl-14": 11,
           "vl-15": 0,
           "vl-16": 11,
           "vl-17": 9,
           "vl-18": 9,
           "vl-19": 8,
           "vl-2": 0,
           "vl-20": 0,
           "vl-21": 10,
           "vl-22": 5,
           "vl-23": 6,
           "vl-24": 4,
           "vl-25": 4,
           "vl-26": 2,
           "vl-27": 3,
           "vl-28": 2,
           "vl-29": 1,
           "vl-3": 0,
           "vl-30": 1,
           "vl-31": 0,
           "vl-32": 0,
           "vl-33": 0,
           "vl-34": 0,
           "vl-35": 0,
           "vl-36": 0,
           "vl-37": 0,
           "vl-38": 0,
           "vl-39": 0,
           "vl-4": 0,
           "vl-5": 0,
           "vl-6": 5,
           "vl-7": 4,
           "vl-8": 4,
           "vl-9": 7
          },
          "difficulties_bouldering": {
           "vl-1": 0,
           "vl-10": 0,
           "vl-11": 0,
           "vl-12": 8,
           "vl-13": 0,
           "vl-14": 5,
           "vl-15": 0,
           "vl-16": 9,
           "vl-17": 8,
           "vl-18": 7,
           "vl-19": 12,
           "vl-2": 0,
           "vl-20": 0,
           "vl-21": 13,
           "vl-22": 9,
           "vl-23": 9,
           "vl-24": 7,
           "vl-25": 8,
           "vl-26": 6,
           "vl-27": 6,
           "vl-28": 4,
           "vl-29": 4,
           "vl-3": 0,
           "vl-30": 1,
           "vl-31": 0,
           "vl-32": 0,
           "vl-33": 0,
           "vl-34": 0,
           "vl-4": 2,
           "vl-5": 3,
           "vl-6": 0,
           "vl-7": 5,
           "vl-8": 5,
           "vl-9": 0
          },
          "elegible_for_boulder_training": true,
          "gym_status": {
           "checkins_enabled": false,
           "temporarily_closed": false
          },
          "id": 69,
          "item_type": "gym",
          "latitude": 59.3569,
          "logo": "ce68d672c98919d65f4311f9c9d9bb47",
          "longitude": 18.0162,
          "name": "Klättercentret Solna",
          "published": true,
          "published_at": "2018-08-31 07:00:00 +0000",
          "route_count": 108,
          "share_url": "https://zlag.vertical-life.info/en/gyms/klattercentret-solna",
          "sponsor_logo": null,
          "sportclimbing_grading_system": "french",
          "town": "Solna",
          "updated_at": "2019-12-04 08:30:11 +0000",
          "virtual": false
         },
         "gym_id": 69,
         "gym_wall_id": 734,
         "gym_wall_name": "B Sektionen",
         "height": 4,
         "hold_color": null,
         "hold_manufacturer": null,
         "id": 4752204,
         "id_right": 339862,
         "item_type": "gym_boulder",
         "line_number": 2,
         "name": "White",
         "notes": null,
         "numberDifficulty": 42,
         "parent_id": 69,
         "parent_name": "Klättercentret Solna",
         "parent_name_right": "Bouldering, B Sektionen",
         "path": null,
         "path_right": [
          [
           4,
           150
          ],
          [
           164,
           170
          ],
          [
           381,
           190
          ],
          [
           383,
           542
          ],
          [
           219,
           571
          ],
          [
           2,
           609
          ],
          [
           6,
           152
          ]
         ],
         "perceived_hardness": 0,
         "project": false,
         "protection": null,
         "provider": "verticallife",
         "rating": null,
         "recommended": false,
         "reference_width": 971,
         "repeat": false,
         "repeats": 0,
         "route_card_label": "B2.",
         "route_setter": "Benjamin Schlobohm",
         "safety_issues": 0,
         "score": 103,
         "sector_id": 219,
         "sector_name": "Bouldering",
         "set_at": {},
         "shade": 0,
         "share_url": "https://zlag.vertical-life.info/en/routes/633546ae4b4a721cde27d59ed59d09ae",
         "sit_down_start": null,
         "sits": 0,
         "stats": {
          "b": 0,
          "c": 0,
          "comment_count": 0,
          "e": 0,
          "f": 0,
          "flash": 7,
          "go": 1,
          "hard_count": 0,
          "onsight": 0,
          "overhanging": 0,
          "rating": 4,
          "ratings_count": 2,
          "redpoint": 0,
          "roof": 0,
          "s": 0,
          "safety": 0,
          "safety_issues_count": {
           "1": 0,
           "2": 0,
           "4": 0,
           "8": 0,
           "16": 0,
           "32": 0,
           "64": 0
          },
          "slab": 0,
          "soft_count": 1,
          "t": 0,
          "toprope": 0,
          "vertical": 0,
          "video_count": 0,
          "zlag_count": 8,
          "zlaggable_height_count": {
           "1": 0,
           "2": 0,
           "4": 0,
           "8": 0,
           "16": 0,
           "32": 0
          }
         },
         "steepness": 0,
         "steepness_right": 3,
         "style": "",
         "style_right": null,
         "sub_type": "",
         "topo": "1e2bd49546a1ab26033e6eca6a575fad",
         "topo_num": "41801.2.",
         "traverse": false,
         "tries": 1,
         "two_start_holds": null,
         "type": "flash",
         "updated_at": {},
         "updated_at_right": "2022-06-29 06:10:12 +0000",
         "user_id": 230474,
         "virtual": false,
         "virtual_right": false,
         "vl_ascendable_id": null,
         "vl_id": 4505476,
         "vl_parent_id": null,
         "vl_user_id": 286128,
         "year": 2022
        },
        {
         "archived": true,
         "archived_at": null,
         "ascendable_filter": null,
         "ascendable_height": 0,
         "ascendable_id": 339864,
         "ascendable_name": "Turquoise",
         "ascendable_type": "GymBoulder",
         "color_1": "#87ccc6",
         "color_2": null,
         "comment": null,
         "created_at": {},
         "created_at_right": "2022-04-28 14:58:17 +0000",
         "date": "2022-05-01 12:00:00 +0000",
         "difficulty": "3+",
         "difficulty_right": "3+",
         "display_route_setter": true,
         "eight_a_ascendable_id": null,
         "eight_a_id": null,
         "eight_a_logbook": false,
         "eight_a_parent_id": null,
         "eight_a_user_id": 133113,
         "expiration_date": null,
         "exposition": 0,
         "features": 0,
         "gallery": [],
         "grade": "vl-5",
         "grade_proposals": [
          [
           "vl-1",
           "2"
          ],
          [
           "vl-2",
           "2+"
          ],
          [
           "vl-3",
           "3-"
          ],
          [
           "vl-4",
           "3"
          ],
          [
           "vl-5",
           "3+"
          ],
          [
           "vl-6",
           "4-"
          ],
          [
           "vl-7",
           "4"
          ],
          [
           "vl-8",
           "4+"
          ],
          [
           "vl-9",
           "5-"
          ],
          [
           "vl-12",
           "5"
          ],
          [
           "vl-14",
           "5+"
          ],
          [
           "vl-16",
           "6A"
          ],
          [
           "vl-17",
           "6A+"
          ],
          [
           "vl-18",
           "6B"
          ],
          [
           "vl-19",
           "6B+"
          ],
          [
           "vl-21",
           "6C"
          ],
          [
           "vl-22",
           "6C+"
          ],
          [
           "vl-23",
           "7A"
          ],
          [
           "vl-24",
           "7A+"
          ],
          [
           "vl-25",
           "7B"
          ],
          [
           "vl-26",
           "7B+"
          ],
          [
           "vl-27",
           "7C"
          ],
          [
           "vl-28",
           "7C+"
          ],
          [
           "vl-29",
           "8A"
          ],
          [
           "vl-30",
           "8A+"
          ],
          [
           "vl-31",
           "8B"
          ],
          [
           "vl-32",
           "8B+"
          ],
          [
           "vl-33",
           "8C"
          ],
          [
           "vl-34",
           "8C+"
          ]
         ],
         "grade_right": "vl-5",
         "grading_system": "font",
         "grading_system_right": "font",
         "gym": {
          "ascent_count": 55970,
          "boulder_count": 131,
          "bouldering_grading_system": "font",
          "categories": 24,
          "country": "Sweden",
          "cover": "f85eaa2db48218e30ff6f8fe4197df56",
          "created_at": "2018-06-21 09:50:35 +0000",
          "difficulties": {
           "vl-1": 0,
           "vl-10": 0,
           "vl-11": 0,
           "vl-12": 2,
           "vl-13": 0,
           "vl-14": 11,
           "vl-15": 0,
           "vl-16": 11,
           "vl-17": 9,
           "vl-18": 9,
           "vl-19": 8,
           "vl-2": 0,
           "vl-20": 0,
           "vl-21": 10,
           "vl-22": 5,
           "vl-23": 6,
           "vl-24": 4,
           "vl-25": 4,
           "vl-26": 2,
           "vl-27": 3,
           "vl-28": 2,
           "vl-29": 1,
           "vl-3": 0,
           "vl-30": 1,
           "vl-31": 0,
           "vl-32": 0,
           "vl-33": 0,
           "vl-34": 0,
           "vl-35": 0,
           "vl-36": 0,
           "vl-37": 0,
           "vl-38": 0,
           "vl-39": 0,
           "vl-4": 0,
           "vl-5": 0,
           "vl-6": 5,
           "vl-7": 4,
           "vl-8": 4,
           "vl-9": 7
          },
          "difficulties_bouldering": {
           "vl-1": 0,
           "vl-10": 0,
           "vl-11": 0,
           "vl-12": 8,
           "vl-13": 0,
           "vl-14": 5,
           "vl-15": 0,
           "vl-16": 9,
           "vl-17": 8,
           "vl-18": 7,
           "vl-19": 12,
           "vl-2": 0,
           "vl-20": 0,
           "vl-21": 13,
           "vl-22": 9,
           "vl-23": 9,
           "vl-24": 7,
           "vl-25": 8,
           "vl-26": 6,
           "vl-27": 6,
           "vl-28": 4,
           "vl-29": 4,
           "vl-3": 0,
           "vl-30": 1,
           "vl-31": 0,
           "vl-32": 0,
           "vl-33": 0,
           "vl-34": 0,
           "vl-4": 2,
           "vl-5": 3,
           "vl-6": 0,
           "vl-7": 5,
           "vl-8": 5,
           "vl-9": 0
          },
          "elegible_for_boulder_training": true,
          "gym_status": {
           "checkins_enabled": false,
           "temporarily_closed": false
          },
          "id": 69,
          "item_type": "gym",
          "latitude": 59.3569,
          "logo": "ce68d672c98919d65f4311f9c9d9bb47",
          "longitude": 18.0162,
          "name": "Klättercentret Solna",
          "published": true,
          "published_at": "2018-08-31 07:00:00 +0000",
          "route_count": 108,
          "share_url": "https://zlag.vertical-life.info/en/gyms/klattercentret-solna",
          "sponsor_logo": null,
          "sportclimbing_grading_system": "french",
          "town": "Solna",
          "updated_at": "2019-12-04 08:30:11 +0000",
          "virtual": false
         },
         "gym_id": 69,
         "gym_wall_id": 734,
         "gym_wall_name": "B Sektionen",
         "height": 4,
         "hold_color": null,
         "hold_manufacturer": null,
         "id": 4296091,
         "id_right": 339864,
         "item_type": "gym_boulder",
         "line_number": 2,
         "name": "Turquoise",
         "notes": null,
         "numberDifficulty": 30,
         "parent_id": 69,
         "parent_name": "Klättercentret Solna",
         "parent_name_right": "Bouldering, B Sektionen",
         "path": null,
         "path_right": [
          [
           4,
           150
          ],
          [
           164,
           170
          ],
          [
           381,
           190
          ],
          [
           383,
           542
          ],
          [
           219,
           571
          ],
          [
           2,
           609
          ],
          [
           6,
           152
          ]
         ],
         "perceived_hardness": 0,
         "project": false,
         "protection": null,
         "provider": "verticallife",
         "rating": null,
         "recommended": false,
         "reference_width": 971,
         "repeat": false,
         "repeats": 0,
         "route_card_label": "B2.",
         "route_setter": "Robert  Rundin ",
         "safety_issues": 0,
         "score": 103,
         "sector_id": 219,
         "sector_name": "Bouldering",
         "set_at": {},
         "shade": 0,
         "share_url": "https://zlag.vertical-life.info/en/routes/0c38f61f7271cd008f59f94b0de14fe2",
         "sit_down_start": null,
         "sits": 0,
         "stats": {
          "b": 0,
          "c": 0,
          "comment_count": 0,
          "e": 0,
          "f": 0,
          "flash": 9,
          "go": 0,
          "hard_count": 0,
          "onsight": 0,
          "overhanging": 0,
          "rating": 5,
          "ratings_count": 4,
          "redpoint": 2,
          "roof": 0,
          "s": 0,
          "safety": 0,
          "safety_issues_count": {
           "1": 0,
           "2": 0,
           "4": 0,
           "8": 0,
           "16": 0,
           "32": 0,
           "64": 0
          },
          "slab": 0,
          "soft_count": 1,
          "t": 0,
          "toprope": 0,
          "vertical": 0,
          "video_count": 0,
          "zlag_count": 11,
          "zlaggable_height_count": {
           "1": 0,
           "2": 0,
           "4": 0,
           "8": 0,
           "16": 0,
           "32": 0
          }
         },
         "steepness": 0,
         "steepness_right": 3,
         "style": "",
         "style_right": null,
         "sub_type": "",
         "topo": "1e2bd49546a1ab26033e6eca6a575fad",
         "topo_num": "41801.2.",
         "traverse": false,
         "tries": 1,
         "two_start_holds": null,
         "type": "flash",
         "updated_at": {},
         "updated_at_right": "2022-06-29 06:10:13 +0000",
         "user_id": 230474,
         "virtual": false,
         "virtual_right": false,
         "vl_ascendable_id": null,
         "vl_id": 4505482,
         "vl_parent_id": null,
         "vl_user_id": 286128,
         "year": 2022
        },
        {
         "archived": true,
         "archived_at": null,
         "ascendable_filter": null,
         "ascendable_height": 0,
         "ascendable_id": 339865,
         "ascendable_name": "Yellow",
         "ascendable_type": "GymBoulder",
         "color_1": "#ffd700",
         "color_2": null,
         "comment": null,
         "created_at": {},
         "created_at_right": "2022-04-28 14:58:36 +0000",
         "date": "2022-05-01 12:00:00 +0000",
         "difficulty": "4+",
         "difficulty_right": "5",
         "display_route_setter": true,
         "eight_a_ascendable_id": null,
         "eight_a_id": null,
         "eight_a_logbook": false,
         "eight_a_parent_id": null,
         "eight_a_user_id": 133113,
         "expiration_date": null,
         "exposition": 0,
         "features": 0,
         "gallery": [],
         "grade": "vl-8",
         "grade_proposals": [
          [
           "vl-1",
           "2"
          ],
          [
           "vl-2",
           "2+"
          ],
          [
           "vl-3",
           "3-"
          ],
          [
           "vl-4",
           "3"
          ],
          [
           "vl-5",
           "3+"
          ],
          [
           "vl-6",
           "4-"
          ],
          [
           "vl-7",
           "4"
          ],
          [
           "vl-8",
           "4+"
          ],
          [
           "vl-9",
           "5-"
          ],
          [
           "vl-12",
           "5"
          ],
          [
           "vl-14",
           "5+"
          ],
          [
           "vl-16",
           "6A"
          ],
          [
           "vl-17",
           "6A+"
          ],
          [
           "vl-18",
           "6B"
          ],
          [
           "vl-19",
           "6B+"
          ],
          [
           "vl-21",
           "6C"
          ],
          [
           "vl-22",
           "6C+"
          ],
          [
           "vl-23",
           "7A"
          ],
          [
           "vl-24",
           "7A+"
          ],
          [
           "vl-25",
           "7B"
          ],
          [
           "vl-26",
           "7B+"
          ],
          [
           "vl-27",
           "7C"
          ],
          [
           "vl-28",
           "7C+"
          ],
          [
           "vl-29",
           "8A"
          ],
          [
           "vl-30",
           "8A+"
          ],
          [
           "vl-31",
           "8B"
          ],
          [
           "vl-32",
           "8B+"
          ],
          [
           "vl-33",
           "8C"
          ],
          [
           "vl-34",
           "8C+"
          ]
         ],
         "grade_right": "vl-12",
         "grading_system": "font",
         "grading_system_right": "font",
         "gym": {
          "ascent_count": 55969,
          "boulder_count": 131,
          "bouldering_grading_system": "font",
          "categories": 24,
          "country": "Sweden",
          "cover": "f85eaa2db48218e30ff6f8fe4197df56",
          "created_at": "2018-06-21 09:50:35 +0000",
          "difficulties": {
           "vl-1": 0,
           "vl-10": 0,
           "vl-11": 0,
           "vl-12": 2,
           "vl-13": 0,
           "vl-14": 11,
           "vl-15": 0,
           "vl-16": 11,
           "vl-17": 9,
           "vl-18": 9,
           "vl-19": 8,
           "vl-2": 0,
           "vl-20": 0,
           "vl-21": 10,
           "vl-22": 5,
           "vl-23": 6,
           "vl-24": 4,
           "vl-25": 4,
           "vl-26": 2,
           "vl-27": 3,
           "vl-28": 2,
           "vl-29": 1,
           "vl-3": 0,
           "vl-30": 1,
           "vl-31": 0,
           "vl-32": 0,
           "vl-33": 0,
           "vl-34": 0,
           "vl-35": 0,
           "vl-36": 0,
           "vl-37": 0,
           "vl-38": 0,
           "vl-39": 0,
           "vl-4": 0,
           "vl-5": 0,
           "vl-6": 5,
           "vl-7": 4,
           "vl-8": 4,
           "vl-9": 7
          },
          "difficulties_bouldering": {
           "vl-1": 0,
           "vl-10": 0,
           "vl-11": 0,
           "vl-12": 8,
           "vl-13": 0,
           "vl-14": 5,
           "vl-15": 0,
           "vl-16": 9,
           "vl-17": 8,
           "vl-18": 7,
           "vl-19": 12,
           "vl-2": 0,
           "vl-20": 0,
           "vl-21": 13,
           "vl-22": 9,
           "vl-23": 9,
           "vl-24": 7,
           "vl-25": 8,
           "vl-26": 6,
           "vl-27": 6,
           "vl-28": 4,
           "vl-29": 4,
           "vl-3": 0,
           "vl-30": 1,
           "vl-31": 0,
           "vl-32": 0,
           "vl-33": 0,
           "vl-34": 0,
           "vl-4": 2,
           "vl-5": 3,
           "vl-6": 0,
           "vl-7": 5,
           "vl-8": 5,
           "vl-9": 0
          },
          "elegible_for_boulder_training": true,
          "gym_status": {
           "checkins_enabled": false,
           "temporarily_closed": false
          },
          "id": 69,
          "item_type": "gym",
          "latitude": 59.3569,
          "logo": "ce68d672c98919d65f4311f9c9d9bb47",
          "longitude": 18.0162,
          "name": "Klättercentret Solna",
          "published": true,
          "published_at": "2018-08-31 07:00:00 +0000",
          "route_count": 108,
          "share_url": "https://zlag.vertical-life.info/en/gyms/klattercentret-solna",
          "sponsor_logo": null,
          "sportclimbing_grading_system": "french",
          "town": "Solna",
          "updated_at": "2019-12-04 08:30:11 +0000",
          "virtual": false
         },
         "gym_id": 69,
         "gym_wall_id": 734,
         "gym_wall_name": "B Sektionen",
         "height": 4,
         "hold_color": null,
         "hold_manufacturer": null,
         "id": 4752475,
         "id_right": 339865,
         "item_type": "gym_boulder",
         "line_number": 2,
         "name": "Yellow",
         "notes": null,
         "numberDifficulty": 42,
         "parent_id": 69,
         "parent_name": "Klättercentret Solna",
         "parent_name_right": "Bouldering, B Sektionen",
         "path": null,
         "path_right": [
          [
           4,
           150
          ],
          [
           164,
           170
          ],
          [
           381,
           190
          ],
          [
           383,
           542
          ],
          [
           219,
           571
          ],
          [
           2,
           609
          ],
          [
           6,
           152
          ]
         ],
         "perceived_hardness": 0,
         "project": false,
         "protection": null,
         "provider": "verticallife",
         "rating": null,
         "recommended": false,
         "reference_width": 971,
         "repeat": false,
         "repeats": 0,
         "route_card_label": "B2.",
         "route_setter": "Benjamin Schlobohm",
         "safety_issues": 0,
         "score": 103,
         "sector_id": 219,
         "sector_name": "Bouldering",
         "set_at": {},
         "shade": 0,
         "share_url": "https://zlag.vertical-life.info/en/routes/78a117ea7c673b623214285228af1121",
         "sit_down_start": null,
         "sits": 0,
         "stats": {
          "b": 0,
          "c": 0,
          "comment_count": 0,
          "e": 0,
          "f": 0,
          "flash": 10,
          "go": 1,
          "hard_count": 0,
          "onsight": 0,
          "overhanging": 0,
          "rating": 4.5,
          "ratings_count": 2,
          "redpoint": 0,
          "roof": 0,
          "s": 0,
          "safety": 0,
          "safety_issues_count": {
           "1": 0,
           "2": 0,
           "4": 0,
           "8": 0,
           "16": 0,
           "32": 0,
           "64": 0
          },
          "slab": 0,
          "soft_count": 1,
          "t": 0,
          "toprope": 0,
          "vertical": 0,
          "video_count": 0,
          "zlag_count": 11,
          "zlaggable_height_count": {
           "1": 0,
           "2": 0,
           "4": 0,
           "8": 0,
           "16": 0,
           "32": 0
          }
         },
         "steepness": 0,
         "steepness_right": 3,
         "style": "",
         "style_right": null,
         "sub_type": "",
         "topo": "1e2bd49546a1ab26033e6eca6a575fad",
         "topo_num": "41801.2.",
         "traverse": false,
         "tries": 1,
         "two_start_holds": null,
         "type": "flash",
         "updated_at": {},
         "updated_at_right": "2022-06-29 06:10:14 +0000",
         "user_id": 230474,
         "virtual": false,
         "virtual_right": false,
         "vl_ascendable_id": null,
         "vl_id": 4505513,
         "vl_parent_id": null,
         "vl_user_id": 286128,
         "year": 2022
        },
        {
         "archived": true,
         "archived_at": null,
         "ascendable_filter": null,
         "ascendable_height": 0,
         "ascendable_id": 339865,
         "ascendable_name": "Yellow",
         "ascendable_type": "GymBoulder",
         "color_1": "#ffd700",
         "color_2": null,
         "comment": null,
         "created_at": {},
         "created_at_right": "2022-04-28 14:58:36 +0000",
         "date": "2022-05-01 12:00:00 +0000",
         "difficulty": "4+",
         "difficulty_right": "5",
         "display_route_setter": true,
         "eight_a_ascendable_id": null,
         "eight_a_id": null,
         "eight_a_logbook": false,
         "eight_a_parent_id": null,
         "eight_a_user_id": 133113,
         "expiration_date": null,
         "exposition": 0,
         "features": 0,
         "gallery": [],
         "grade": "vl-8",
         "grade_proposals": [
          [
           "vl-1",
           "2"
          ],
          [
           "vl-2",
           "2+"
          ],
          [
           "vl-3",
           "3-"
          ],
          [
           "vl-4",
           "3"
          ],
          [
           "vl-5",
           "3+"
          ],
          [
           "vl-6",
           "4-"
          ],
          [
           "vl-7",
           "4"
          ],
          [
           "vl-8",
           "4+"
          ],
          [
           "vl-9",
           "5-"
          ],
          [
           "vl-12",
           "5"
          ],
          [
           "vl-14",
           "5+"
          ],
          [
           "vl-16",
           "6A"
          ],
          [
           "vl-17",
           "6A+"
          ],
          [
           "vl-18",
           "6B"
          ],
          [
           "vl-19",
           "6B+"
          ],
          [
           "vl-21",
           "6C"
          ],
          [
           "vl-22",
           "6C+"
          ],
          [
           "vl-23",
           "7A"
          ],
          [
           "vl-24",
           "7A+"
          ],
          [
           "vl-25",
           "7B"
          ],
          [
           "vl-26",
           "7B+"
          ],
          [
           "vl-27",
           "7C"
          ],
          [
           "vl-28",
           "7C+"
          ],
          [
           "vl-29",
           "8A"
          ],
          [
           "vl-30",
           "8A+"
          ],
          [
           "vl-31",
           "8B"
          ],
          [
           "vl-32",
           "8B+"
          ],
          [
           "vl-33",
           "8C"
          ],
          [
           "vl-34",
           "8C+"
          ]
         ],
         "grade_right": "vl-12",
         "grading_system": "font",
         "grading_system_right": "font",
         "gym": {
          "ascent_count": 55969,
          "boulder_count": 131,
          "bouldering_grading_system": "font",
          "categories": 24,
          "country": "Sweden",
          "cover": "f85eaa2db48218e30ff6f8fe4197df56",
          "created_at": "2018-06-21 09:50:35 +0000",
          "difficulties": {
           "vl-1": 0,
           "vl-10": 0,
           "vl-11": 0,
           "vl-12": 2,
           "vl-13": 0,
           "vl-14": 11,
           "vl-15": 0,
           "vl-16": 11,
           "vl-17": 9,
           "vl-18": 9,
           "vl-19": 8,
           "vl-2": 0,
           "vl-20": 0,
           "vl-21": 10,
           "vl-22": 5,
           "vl-23": 6,
           "vl-24": 4,
           "vl-25": 4,
           "vl-26": 2,
           "vl-27": 3,
           "vl-28": 2,
           "vl-29": 1,
           "vl-3": 0,
           "vl-30": 1,
           "vl-31": 0,
           "vl-32": 0,
           "vl-33": 0,
           "vl-34": 0,
           "vl-35": 0,
           "vl-36": 0,
           "vl-37": 0,
           "vl-38": 0,
           "vl-39": 0,
           "vl-4": 0,
           "vl-5": 0,
           "vl-6": 5,
           "vl-7": 4,
           "vl-8": 4,
           "vl-9": 7
          },
          "difficulties_bouldering": {
           "vl-1": 0,
           "vl-10": 0,
           "vl-11": 0,
           "vl-12": 8,
           "vl-13": 0,
           "vl-14": 5,
           "vl-15": 0,
           "vl-16": 9,
           "vl-17": 8,
           "vl-18": 7,
           "vl-19": 12,
           "vl-2": 0,
           "vl-20": 0,
           "vl-21": 13,
           "vl-22": 9,
           "vl-23": 9,
           "vl-24": 7,
           "vl-25": 8,
           "vl-26": 6,
           "vl-27": 6,
           "vl-28": 4,
           "vl-29": 4,
           "vl-3": 0,
           "vl-30": 1,
           "vl-31": 0,
           "vl-32": 0,
           "vl-33": 0,
           "vl-34": 0,
           "vl-4": 2,
           "vl-5": 3,
           "vl-6": 0,
           "vl-7": 5,
           "vl-8": 5,
           "vl-9": 0
          },
          "elegible_for_boulder_training": true,
          "gym_status": {
           "checkins_enabled": false,
           "temporarily_closed": false
          },
          "id": 69,
          "item_type": "gym",
          "latitude": 59.3569,
          "logo": "ce68d672c98919d65f4311f9c9d9bb47",
          "longitude": 18.0162,
          "name": "Klättercentret Solna",
          "published": true,
          "published_at": "2018-08-31 07:00:00 +0000",
          "route_count": 108,
          "share_url": "https://zlag.vertical-life.info/en/gyms/klattercentret-solna",
          "sponsor_logo": null,
          "sportclimbing_grading_system": "french",
          "town": "Solna",
          "updated_at": "2019-12-04 08:30:11 +0000",
          "virtual": false
         },
         "gym_id": 69,
         "gym_wall_id": 734,
         "gym_wall_name": "B Sektionen",
         "height": 4,
         "hold_color": null,
         "hold_manufacturer": null,
         "id": 4752475,
         "id_right": 339865,
         "item_type": "gym_boulder",
         "line_number": 2,
         "name": "Yellow",
         "notes": null,
         "numberDifficulty": 42,
         "parent_id": 69,
         "parent_name": "Klättercentret Solna",
         "parent_name_right": "Bouldering, B Sektionen",
         "path": null,
         "path_right": [
          [
           4,
           150
          ],
          [
           164,
           170
          ],
          [
           381,
           190
          ],
          [
           383,
           542
          ],
          [
           219,
           571
          ],
          [
           2,
           609
          ],
          [
           6,
           152
          ]
         ],
         "perceived_hardness": 0,
         "project": false,
         "protection": null,
         "provider": "verticallife",
         "rating": null,
         "recommended": false,
         "reference_width": 971,
         "repeat": false,
         "repeats": 0,
         "route_card_label": "B2.",
         "route_setter": "Benjamin Schlobohm",
         "safety_issues": 0,
         "score": 103,
         "sector_id": 219,
         "sector_name": "Bouldering",
         "set_at": {},
         "shade": 0,
         "share_url": "https://zlag.vertical-life.info/en/routes/78a117ea7c673b623214285228af1121",
         "sit_down_start": null,
         "sits": 0,
         "stats": {
          "b": 0,
          "c": 0,
          "comment_count": 0,
          "e": 0,
          "f": 0,
          "flash": 10,
          "go": 1,
          "hard_count": 0,
          "onsight": 0,
          "overhanging": 0,
          "rating": 4.5,
          "ratings_count": 2,
          "redpoint": 0,
          "roof": 0,
          "s": 0,
          "safety": 0,
          "safety_issues_count": {
           "1": 0,
           "2": 0,
           "4": 0,
           "8": 0,
           "16": 0,
           "32": 0,
           "64": 0
          },
          "slab": 0,
          "soft_count": 1,
          "t": 0,
          "toprope": 0,
          "vertical": 0,
          "video_count": 0,
          "zlag_count": 11,
          "zlaggable_height_count": {
           "1": 0,
           "2": 0,
           "4": 0,
           "8": 0,
           "16": 0,
           "32": 0
          }
         },
         "steepness": 0,
         "steepness_right": 3,
         "style": "",
         "style_right": null,
         "sub_type": "",
         "topo": "1e2bd49546a1ab26033e6eca6a575fad",
         "topo_num": "41801.2.",
         "traverse": false,
         "tries": 1,
         "two_start_holds": null,
         "type": "flash",
         "updated_at": {},
         "updated_at_right": "2022-06-29 06:10:14 +0000",
         "user_id": 230474,
         "virtual": false,
         "virtual_right": false,
         "vl_ascendable_id": null,
         "vl_id": 4505513,
         "vl_parent_id": null,
         "vl_user_id": 286128,
         "year": 2022
        }
       ],
       "schema": {
        "fields": [
         {
          "name": "vl_parent_id",
          "type": "null"
         },
         {
          "name": "ascendable_type",
          "type": "string"
         },
         {
          "name": "ascendable_name",
          "type": "string"
         },
         {
          "name": "score",
          "type": "integer"
         },
         {
          "name": "archived_at",
          "type": "null"
         },
         {
          "name": "eight_a_user_id",
          "type": "integer"
         },
         {
          "name": "parent_name",
          "type": "string"
         },
         {
          "name": "grading_system",
          "type": "string"
         },
         {
          "name": "exposition",
          "type": "integer"
         },
         {
          "name": "path",
          "type": "null"
         },
         {
          "name": "ascendable_filter",
          "type": "null"
         },
         {
          "name": "rating",
          "type": "integer"
         },
         {
          "name": "virtual",
          "type": "boolean"
         },
         {
          "name": "updated_at",
          "type": "string"
         },
         {
          "name": "type",
          "type": "string"
         },
         {
          "name": "vl_user_id",
          "type": "integer"
         },
         {
          "name": "eight_a_logbook",
          "type": "boolean"
         },
         {
          "name": "recommended",
          "type": "boolean"
         },
         {
          "name": "project",
          "type": "boolean"
         },
         {
          "name": "grade",
          "type": "string"
         },
         {
          "name": "safety_issues",
          "type": "integer"
         },
         {
          "name": "repeats",
          "type": "integer"
         },
         {
          "name": "provider",
          "type": "string"
         },
         {
          "name": "height",
          "type": "integer"
         },
         {
          "name": "ascendable_height",
          "type": "integer"
         },
         {
          "name": "eight_a_parent_id",
          "type": "null"
         },
         {
          "name": "ascendable_id",
          "type": "integer"
         },
         {
          "name": "steepness",
          "type": "integer"
         },
         {
          "name": "vl_id",
          "type": "integer"
         },
         {
          "name": "protection",
          "type": "integer"
         },
         {
          "name": "eight_a_ascendable_id",
          "type": "null"
         },
         {
          "name": "created_at",
          "type": "string"
         },
         {
          "name": "sits",
          "type": "integer"
         },
         {
          "name": "difficulty",
          "type": "string"
         },
         {
          "name": "shade",
          "type": "integer"
         },
         {
          "name": "style",
          "type": "string"
         },
         {
          "name": "features",
          "type": "integer"
         },
         {
          "name": "perceived_hardness",
          "type": "integer"
         },
         {
          "name": "tries",
          "type": "integer"
         },
         {
          "name": "parent_id",
          "type": "integer"
         },
         {
          "name": "vl_ascendable_id",
          "type": "null"
         },
         {
          "name": "eight_a_id",
          "type": "null"
         },
         {
          "name": "date",
          "type": "string"
         },
         {
          "name": "comment",
          "type": "string"
         },
         {
          "name": "hold_color",
          "type": "null"
         },
         {
          "name": "id",
          "type": "integer"
         },
         {
          "name": "repeat",
          "type": "boolean"
         },
         {
          "name": "sub_type",
          "type": "string"
         },
         {
          "name": "user_id",
          "type": "integer"
         },
         {
          "name": "year",
          "type": "integer"
         },
         {
          "name": "path_right",
          "type": "array"
         },
         {
          "name": "topo_num",
          "type": "string"
         },
         {
          "name": "gym",
          "type": "object"
         },
         {
          "name": "hold_manufacturer",
          "type": "null"
         },
         {
          "name": "route_card_label",
          "type": "string"
         },
         {
          "name": "parent_name_right",
          "type": "string"
         },
         {
          "name": "grading_system_right",
          "type": "string"
         },
         {
          "name": "archived",
          "type": "boolean"
         },
         {
          "name": "line_number",
          "type": "integer"
         },
         {
          "name": "notes",
          "type": "null"
         },
         {
          "name": "updated_at_right",
          "type": "string"
         },
         {
          "name": "gym_wall_id",
          "type": "integer"
         },
         {
          "name": "stats",
          "type": "object"
         },
         {
          "name": "virtual_right",
          "type": "boolean"
         },
         {
          "name": "name",
          "type": "string"
         },
         {
          "name": "gym_id",
          "type": "integer"
         },
         {
          "name": "topo",
          "type": "string"
         },
         {
          "name": "grade_right",
          "type": "string"
         },
         {
          "name": "color_1",
          "type": "string"
         },
         {
          "name": "color_2",
          "type": "string"
         },
         {
          "name": "steepness_right",
          "type": "integer"
         },
         {
          "name": "display_route_setter",
          "type": "boolean"
         },
         {
          "name": "grade_proposals",
          "type": "array"
         },
         {
          "name": "created_at_right",
          "type": "string"
         },
         {
          "name": "two_start_holds",
          "type": "boolean"
         },
         {
          "name": "difficulty_right",
          "type": "string"
         },
         {
          "name": "gym_wall_name",
          "type": "string"
         },
         {
          "name": "gallery",
          "type": "array"
         },
         {
          "name": "style_right",
          "type": "string"
         },
         {
          "name": "sector_name",
          "type": "string"
         },
         {
          "name": "reference_width",
          "type": "integer"
         },
         {
          "name": "traverse",
          "type": "boolean"
         },
         {
          "name": "expiration_date",
          "type": "string"
         },
         {
          "name": "sector_id",
          "type": "integer"
         },
         {
          "name": "item_type",
          "type": "string"
         },
         {
          "name": "route_setter",
          "type": "string"
         },
         {
          "name": "sit_down_start",
          "type": "boolean"
         },
         {
          "name": "id_right",
          "type": "integer"
         },
         {
          "name": "share_url",
          "type": "string"
         },
         {
          "name": "set_at",
          "type": "string"
         },
         {
          "name": "numberDifficulty",
          "type": "number"
         }
        ]
       }
      },
      "text/html": [
       "<table><thead><tr><th>vl_parent_id</th><th>ascendable_type</th><th>ascendable_name</th><th>score</th><th>archived_at</th><th>eight_a_user_id</th><th>parent_name</th><th>grading_system</th><th>exposition</th><th>path</th><th>ascendable_filter</th><th>rating</th><th>virtual</th><th>updated_at</th><th>type</th><th>vl_user_id</th><th>eight_a_logbook</th><th>recommended</th><th>project</th><th>grade</th><th>safety_issues</th><th>repeats</th><th>provider</th><th>height</th><th>ascendable_height</th><th>eight_a_parent_id</th><th>ascendable_id</th><th>steepness</th><th>vl_id</th><th>protection</th><th>eight_a_ascendable_id</th><th>created_at</th><th>sits</th><th>difficulty</th><th>shade</th><th>style</th><th>features</th><th>perceived_hardness</th><th>tries</th><th>parent_id</th><th>vl_ascendable_id</th><th>eight_a_id</th><th>date</th><th>comment</th><th>hold_color</th><th>id</th><th>repeat</th><th>sub_type</th><th>user_id</th><th>year</th><th>path_right</th><th>topo_num</th><th>gym</th><th>hold_manufacturer</th><th>route_card_label</th><th>parent_name_right</th><th>grading_system_right</th><th>archived</th><th>line_number</th><th>notes</th><th>updated_at_right</th><th>gym_wall_id</th><th>stats</th><th>virtual_right</th><th>name</th><th>gym_id</th><th>topo</th><th>grade_right</th><th>color_1</th><th>color_2</th><th>steepness_right</th><th>display_route_setter</th><th>grade_proposals</th><th>created_at_right</th><th>two_start_holds</th><th>difficulty_right</th><th>gym_wall_name</th><th>gallery</th><th>style_right</th><th>sector_name</th><th>reference_width</th><th>traverse</th><th>expiration_date</th><th>sector_id</th><th>item_type</th><th>route_setter</th><th>sit_down_start</th><th>id_right</th><th>share_url</th><th>set_at</th><th>numberDifficulty</th></tr></thead><tbody><tr><td>null</td><td>GymBoulder</td><td>Turquoise</td><td>253</td><td>null</td><td>133113</td><td>Klättercentret Solna</td><td>font</td><td>null</td><td>null</td><td>null</td><td>null</td><td>false</td><td>Wed Oct 25 2023 00:27:09 GMT+0200 (Central European Summer Time)</td><td>flash</td><td>286128</td><td>false</td><td>false</td><td>false</td><td>vl-12</td><td>null</td><td>0</td><td>verticallife</td><td>4</td><td>null</td><td>null</td><td>320041</td><td>0</td><td>4383933</td><td>0</td><td>null</td><td>Sun Mar 20 2022 16:55:49 GMT+0100 (Central European Standard Time)</td><td>0</td><td>5</td><td>null</td><td>a</td><td>null</td><td>0</td><td>1</td><td>69</td><td>null</td><td>null</td><td>2022-03-20 12:00:00 +0000</td><td>null</td><td>null</td><td>4050981</td><td>false</td><td></td><td>230474</td><td>2022</td><td>291,182,302,300,294,520,382,504,507,502,721,526,720,489,733,183,565,180,291,182</td><td>41797.2.</td><td>[object Object]</td><td>null</td><td>A2.</td><td>Bouldering, A Sektionen</td><td>font</td><td>true</td><td>2</td><td>null</td><td>2022-03-24 08:21:39 +0000</td><td>733</td><td>[object Object]</td><td>false</td><td>Turquoise</td><td>69</td><td>e56970f2e4e002f62f72f0061adfa987</td><td>vl-12</td><td>#87ccc6</td><td>null</td><td>7</td><td>true</td><td>vl-1,2,vl-2,2+,vl-3,3-,vl-4,3,vl-5,3+,vl-6,4-,vl-7,4,vl-8,4+,vl-9,5-,vl-12,5,vl-14,5+,vl-16,6A,vl-17,6A+,vl-18,6B,vl-19,6B+,vl-21,6C,vl-22,6C+,vl-23,7A,vl-24,7A+,vl-25,7B,vl-26,7B+,vl-27,7C,vl-28,7C+,vl-29,8A,vl-30,8A+,vl-31,8B,vl-32,8B+,vl-33,8C,vl-34,8C+</td><td>2022-02-14 18:25:35 +0000</td><td>null</td><td>5</td><td>A Sektionen</td><td></td><td>a</td><td>Bouldering</td><td>971</td><td>false</td><td>null</td><td>219</td><td>gym_boulder</td><td>N.N.</td><td>null</td><td>320041</td><td>https://zlag.vertical-life.info/en/routes/bb4f0a2fdc87192acb532cc5b4c82257</td><td>Mon Feb 14 2022 19:25:18 GMT+0100 (Central European Standard Time)</td><td>48</td></tr><tr><td>null</td><td>GymBoulder</td><td>Blue</td><td>353</td><td>null</td><td>133113</td><td>Klättercentret Solna</td><td>font</td><td>null</td><td>null</td><td>null</td><td>null</td><td>false</td><td>Wed Oct 25 2023 00:27:09 GMT+0200 (Central European Summer Time)</td><td>flash</td><td>286128</td><td>false</td><td>false</td><td>false</td><td>vl-14</td><td>null</td><td>0</td><td>verticallife</td><td>4</td><td>null</td><td>null</td><td>322901</td><td>0</td><td>4383951</td><td>0</td><td>null</td><td>Sun Mar 20 2022 16:57:12 GMT+0100 (Central European Standard Time)</td><td>0</td><td>5+</td><td>null</td><td></td><td>null</td><td>0</td><td>1</td><td>69</td><td>null</td><td>null</td><td>2022-03-20 12:00:00 +0000</td><td>null</td><td>null</td><td>4050616</td><td>false</td><td></td><td>230474</td><td>2022</td><td>508,187,689,184,847,182,931,514,470,491,515,312,508,186</td><td>41800.3.</td><td>[object Object]</td><td>null</td><td>B3.</td><td>Bouldering, B Sektionen</td><td>font</td><td>true</td><td>3</td><td>null</td><td>2022-03-28 08:23:57 +0000</td><td>734</td><td>[object Object]</td><td>false</td><td>Blue</td><td>69</td><td>e6411c2ffc69fdad028b8408b295e45c</td><td>vl-14</td><td>#0000ff</td><td>null</td><td>3</td><td>true</td><td>vl-1,2,vl-2,2+,vl-3,3-,vl-4,3,vl-5,3+,vl-6,4-,vl-7,4,vl-8,4+,vl-9,5-,vl-12,5,vl-14,5+,vl-16,6A,vl-17,6A+,vl-18,6B,vl-19,6B+,vl-21,6C,vl-22,6C+,vl-23,7A,vl-24,7A+,vl-25,7B,vl-26,7B+,vl-27,7C,vl-28,7C+,vl-29,8A,vl-30,8A+,vl-31,8B,vl-32,8B+,vl-33,8C,vl-34,8C+</td><td>2022-02-23 16:37:56 +0000</td><td>null</td><td>5+</td><td>B Sektionen</td><td></td><td>null</td><td>Bouldering</td><td>971</td><td>false</td><td>null</td><td>219</td><td>gym_boulder</td><td>N.N.</td><td>null</td><td>322901</td><td>https://zlag.vertical-life.info/en/routes/a498358a22634efc8ce0b93a66b57dac</td><td>Wed Feb 23 2022 17:37:42 GMT+0100 (Central European Standard Time)</td><td>54</td></tr><tr><td>null</td><td>GymBoulder</td><td>Turquoise</td><td>103</td><td>null</td><td>133113</td><td>Klättercentret Solna</td><td>font</td><td>null</td><td>null</td><td>null</td><td>null</td><td>false</td><td>Wed Oct 25 2023 00:58:25 GMT+0200 (Central European Summer Time)</td><td>flash</td><td>286128</td><td>false</td><td>false</td><td>false</td><td>vl-4</td><td>null</td><td>0</td><td>verticallife</td><td>4</td><td>null</td><td>null</td><td>326080</td><td>0</td><td>4383979</td><td>0</td><td>null</td><td>Sun Mar 20 2022 17:03:56 GMT+0100 (Central European Standard Time)</td><td>0</td><td>3</td><td>null</td><td></td><td>null</td><td>0</td><td>1</td><td>69</td><td>null</td><td>null</td><td>2022-03-20 12:00:00 +0000</td><td>null</td><td>null</td><td>4634900</td><td>false</td><td></td><td>230474</td><td>2022</td><td>513,71,513,587,513,650,879,639,878,580,919,108,514,70</td><td>41799.4.</td><td>[object Object]</td><td>null</td><td>A4.</td><td>Bouldering, A Sektionen</td><td>font</td><td>true</td><td>4</td><td>null</td><td>2022-05-19 14:29:15 +0000</td><td>733</td><td>[object Object]</td><td>false</td><td>Turquoise</td><td>69</td><td>9ba3d48c8e121f154d4f49754e525ba8</td><td>vl-4</td><td>#87ccc6</td><td>null</td><td>7</td><td>true</td><td>vl-1,2,vl-2,2+,vl-3,3-,vl-4,3,vl-5,3+,vl-6,4-,vl-7,4,vl-8,4+,vl-9,5-,vl-12,5,vl-14,5+,vl-16,6A,vl-17,6A+,vl-18,6B,vl-19,6B+,vl-21,6C,vl-22,6C+,vl-23,7A,vl-24,7A+,vl-25,7B,vl-26,7B+,vl-27,7C,vl-28,7C+,vl-29,8A,vl-30,8A+,vl-31,8B,vl-32,8B+,vl-33,8C,vl-34,8C+</td><td>2022-03-07 22:41:24 +0000</td><td>null</td><td>3</td><td>A Sektionen</td><td></td><td>null</td><td>Bouldering</td><td>971</td><td>false</td><td>null</td><td>219</td><td>gym_boulder</td><td>Benjamin Schlobohm</td><td>null</td><td>326080</td><td>https://zlag.vertical-life.info/en/routes/2bdf12b22cf8fa80de82ba005138a991</td><td>Mon Mar 07 2022 23:41:14 GMT+0100 (Central European Standard Time)</td><td>24</td></tr><tr><td>null</td><td>GymBoulder</td><td>yellow</td><td>103</td><td>null</td><td>133113</td><td>Klättercentret Solna</td><td>font</td><td>null</td><td>null</td><td>null</td><td>null</td><td>false</td><td>Wed Oct 25 2023 00:22:52 GMT+0200 (Central European Summer Time)</td><td>flash</td><td>286128</td><td>false</td><td>false</td><td>false</td><td>vl-8</td><td>null</td><td>0</td><td>verticallife</td><td>4</td><td>null</td><td>null</td><td>322902</td><td>0</td><td>4396978</td><td>0</td><td>null</td><td>Thu Mar 24 2022 19:41:18 GMT+0100 (Central European Standard Time)</td><td>0</td><td>4+</td><td>null</td><td></td><td>null</td><td>0</td><td>1</td><td>69</td><td>null</td><td>null</td><td>2022-03-24 12:00:00 +0000</td><td>null</td><td>null</td><td>3969341</td><td>false</td><td></td><td>230474</td><td>2022</td><td>121,188,232,182,444,185,506,184,514,311,470,489,235,479,138,504,143,350,121,189</td><td>41800.4.</td><td>[object Object]</td><td>null</td><td>B4.</td><td>Bouldering, B Sektionen</td><td>font</td><td>true</td><td>4</td><td>null</td><td>2022-03-28 08:23:49 +0000</td><td>734</td><td>[object Object]</td><td>false</td><td>yellow</td><td>69</td><td>e6411c2ffc69fdad028b8408b295e45c</td><td>vl-8</td><td>#f0ff00</td><td>null</td><td>3</td><td>true</td><td>vl-1,2,vl-2,2+,vl-3,3-,vl-4,3,vl-5,3+,vl-6,4-,vl-7,4,vl-8,4+,vl-9,5-,vl-12,5,vl-14,5+,vl-16,6A,vl-17,6A+,vl-18,6B,vl-19,6B+,vl-21,6C,vl-22,6C+,vl-23,7A,vl-24,7A+,vl-25,7B,vl-26,7B+,vl-27,7C,vl-28,7C+,vl-29,8A,vl-30,8A+,vl-31,8B,vl-32,8B+,vl-33,8C,vl-34,8C+</td><td>2022-02-23 16:38:22 +0000</td><td>null</td><td>4+</td><td>B Sektionen</td><td></td><td>null</td><td>Bouldering</td><td>971</td><td>false</td><td>null</td><td>219</td><td>gym_boulder</td><td>N.N.</td><td>null</td><td>322902</td><td>https://zlag.vertical-life.info/en/routes/f0ca16d271c6fcb5057f73fe4fdbc7a5</td><td>Wed Feb 23 2022 17:37:57 GMT+0100 (Central European Standard Time)</td><td>42</td></tr><tr><td>null</td><td>GymBoulder</td><td>Orange</td><td>50</td><td>null</td><td>133113</td><td>Klättercentret Solna</td><td>font</td><td>null</td><td>null</td><td>null</td><td>null</td><td>false</td><td>Wed Oct 25 2023 00:55:14 GMT+0200 (Central European Summer Time)</td><td>flash</td><td>286128</td><td>false</td><td>false</td><td>false</td><td>vl-8</td><td>null</td><td>0</td><td>verticallife</td><td>4</td><td>null</td><td>null</td><td>330234</td><td>0</td><td>4396986</td><td>0</td><td>null</td><td>Thu Mar 24 2022 19:42:01 GMT+0100 (Central European Standard Time)</td><td>0</td><td>4+</td><td>null</td><td></td><td>null</td><td>0</td><td>1</td><td>69</td><td>null</td><td>null</td><td>2022-03-24 12:00:00 +0000</td><td>null</td><td>null</td><td>4571283</td><td>false</td><td></td><td>230474</td><td>2022</td><td>4,150,164,170,381,190,383,542,219,571,2,609,6,152</td><td>41801.2.</td><td>[object Object]</td><td>null</td><td>B2.</td><td>Bouldering, B Sektionen</td><td>font</td><td>true</td><td>2</td><td>null</td><td>2022-04-28 08:42:30 +0000</td><td>734</td><td>[object Object]</td><td>false</td><td>Orange</td><td>69</td><td>1e2bd49546a1ab26033e6eca6a575fad</td><td>vl-8</td><td>#ffa500</td><td>null</td><td>3</td><td>true</td><td>vl-1,2,vl-2,2+,vl-3,3-,vl-4,3,vl-5,3+,vl-6,4-,vl-7,4,vl-8,4+,vl-9,5-,vl-12,5,vl-14,5+,vl-16,6A,vl-17,6A+,vl-18,6B,vl-19,6B+,vl-21,6C,vl-22,6C+,vl-23,7A,vl-24,7A+,vl-25,7B,vl-26,7B+,vl-27,7C,vl-28,7C+,vl-29,8A,vl-30,8A+,vl-31,8B,vl-32,8B+,vl-33,8C,vl-34,8C+</td><td>2022-03-22 07:08:31 +0000</td><td>null</td><td>4+</td><td>B Sektionen</td><td></td><td>null</td><td>Bouldering</td><td>971</td><td>false</td><td>null</td><td>219</td><td>gym_boulder</td><td>Benjamin Schlobohm</td><td>null</td><td>330234</td><td>https://zlag.vertical-life.info/en/routes/fc5e0ee98528a4aeed68f23feeea9fcc</td><td>Tue Mar 22 2022 08:08:20 GMT+0100 (Central European Standard Time)</td><td>42</td></tr><tr><td>null</td><td>GymBoulder</td><td>Orange</td><td>50</td><td>null</td><td>133113</td><td>Klättercentret Solna</td><td>font</td><td>null</td><td>null</td><td>null</td><td>null</td><td>false</td><td>Wed Oct 25 2023 00:55:14 GMT+0200 (Central European Summer Time)</td><td>flash</td><td>286128</td><td>false</td><td>false</td><td>false</td><td>vl-8</td><td>null</td><td>0</td><td>verticallife</td><td>4</td><td>null</td><td>null</td><td>330234</td><td>0</td><td>4396986</td><td>0</td><td>null</td><td>Thu Mar 24 2022 19:42:01 GMT+0100 (Central European Standard Time)</td><td>0</td><td>4+</td><td>null</td><td></td><td>null</td><td>0</td><td>1</td><td>69</td><td>null</td><td>null</td><td>2022-03-24 12:00:00 +0000</td><td>null</td><td>null</td><td>4571283</td><td>false</td><td></td><td>230474</td><td>2022</td><td>4,150,164,170,381,190,383,542,219,571,2,609,6,152</td><td>41801.2.</td><td>[object Object]</td><td>null</td><td>B2.</td><td>Bouldering, B Sektionen</td><td>font</td><td>true</td><td>2</td><td>null</td><td>2022-04-28 08:42:30 +0000</td><td>734</td><td>[object Object]</td><td>false</td><td>Orange</td><td>69</td><td>1e2bd49546a1ab26033e6eca6a575fad</td><td>vl-8</td><td>#ffa500</td><td>null</td><td>3</td><td>true</td><td>vl-1,2,vl-2,2+,vl-3,3-,vl-4,3,vl-5,3+,vl-6,4-,vl-7,4,vl-8,4+,vl-9,5-,vl-12,5,vl-14,5+,vl-16,6A,vl-17,6A+,vl-18,6B,vl-19,6B+,vl-21,6C,vl-22,6C+,vl-23,7A,vl-24,7A+,vl-25,7B,vl-26,7B+,vl-27,7C,vl-28,7C+,vl-29,8A,vl-30,8A+,vl-31,8B,vl-32,8B+,vl-33,8C,vl-34,8C+</td><td>2022-03-22 07:08:31 +0000</td><td>null</td><td>4+</td><td>B Sektionen</td><td></td><td>null</td><td>Bouldering</td><td>971</td><td>false</td><td>null</td><td>219</td><td>gym_boulder</td><td>Benjamin Schlobohm</td><td>null</td><td>330234</td><td>https://zlag.vertical-life.info/en/routes/fc5e0ee98528a4aeed68f23feeea9fcc</td><td>Tue Mar 22 2022 08:08:20 GMT+0100 (Central European Standard Time)</td><td>42</td></tr><tr><td>null</td><td>GymBoulder</td><td>Black</td><td>103</td><td>null</td><td>133113</td><td>Klättercentret Solna</td><td>font</td><td>null</td><td>null</td><td>null</td><td>null</td><td>false</td><td>Wed Oct 25 2023 00:55:14 GMT+0200 (Central European Summer Time)</td><td>flash</td><td>286128</td><td>false</td><td>false</td><td>false</td><td>vl-7</td><td>null</td><td>0</td><td>verticallife</td><td>4</td><td>null</td><td>null</td><td>328181</td><td>0</td><td>4396994</td><td>0</td><td>null</td><td>Thu Mar 24 2022 19:45:57 GMT+0100 (Central European Standard Time)</td><td>0</td><td>4</td><td>null</td><td></td><td>null</td><td>0</td><td>1</td><td>69</td><td>null</td><td>null</td><td>2022-03-24 12:00:00 +0000</td><td>null</td><td>null</td><td>4574242</td><td>false</td><td></td><td>230474</td><td>2022</td><td>4,150,164,170,381,190,383,542,219,571,2,609,6,152</td><td>41801.2.</td><td>[object Object]</td><td>null</td><td>B2.</td><td>Bouldering, B Sektionen</td><td>font</td><td>true</td><td>2</td><td>null</td><td>2022-04-28 08:42:28 +0000</td><td>734</td><td>[object Object]</td><td>false</td><td>Black</td><td>69</td><td>1e2bd49546a1ab26033e6eca6a575fad</td><td>vl-7</td><td>#000000</td><td>null</td><td>3</td><td>true</td><td>vl-1,2,vl-2,2+,vl-3,3-,vl-4,3,vl-5,3+,vl-6,4-,vl-7,4,vl-8,4+,vl-9,5-,vl-12,5,vl-14,5+,vl-16,6A,vl-17,6A+,vl-18,6B,vl-19,6B+,vl-21,6C,vl-22,6C+,vl-23,7A,vl-24,7A+,vl-25,7B,vl-26,7B+,vl-27,7C,vl-28,7C+,vl-29,8A,vl-30,8A+,vl-31,8B,vl-32,8B+,vl-33,8C,vl-34,8C+</td><td>2022-03-15 06:25:50 +0000</td><td>null</td><td>4</td><td>B Sektionen</td><td></td><td>null</td><td>Bouldering</td><td>971</td><td>false</td><td>null</td><td>219</td><td>gym_boulder</td><td>N.N.</td><td>null</td><td>328181</td><td>https://zlag.vertical-life.info/en/routes/e1d2c9c5078abaeb2d12f541e91b8632</td><td>Tue Mar 15 2022 07:25:31 GMT+0100 (Central European Standard Time)</td><td>36</td></tr><tr><td>null</td><td>GymBoulder</td><td>Black</td><td>103</td><td>null</td><td>133113</td><td>Klättercentret Solna</td><td>font</td><td>null</td><td>null</td><td>null</td><td>null</td><td>false</td><td>Wed Oct 25 2023 00:55:14 GMT+0200 (Central European Summer Time)</td><td>flash</td><td>286128</td><td>false</td><td>false</td><td>false</td><td>vl-7</td><td>null</td><td>0</td><td>verticallife</td><td>4</td><td>null</td><td>null</td><td>328181</td><td>0</td><td>4396994</td><td>0</td><td>null</td><td>Thu Mar 24 2022 19:45:57 GMT+0100 (Central European Standard Time)</td><td>0</td><td>4</td><td>null</td><td></td><td>null</td><td>0</td><td>1</td><td>69</td><td>null</td><td>null</td><td>2022-03-24 12:00:00 +0000</td><td>null</td><td>null</td><td>4574242</td><td>false</td><td></td><td>230474</td><td>2022</td><td>4,150,164,170,381,190,383,542,219,571,2,609,6,152</td><td>41801.2.</td><td>[object Object]</td><td>null</td><td>B2.</td><td>Bouldering, B Sektionen</td><td>font</td><td>true</td><td>2</td><td>null</td><td>2022-04-28 08:42:28 +0000</td><td>734</td><td>[object Object]</td><td>false</td><td>Black</td><td>69</td><td>1e2bd49546a1ab26033e6eca6a575fad</td><td>vl-7</td><td>#000000</td><td>null</td><td>3</td><td>true</td><td>vl-1,2,vl-2,2+,vl-3,3-,vl-4,3,vl-5,3+,vl-6,4-,vl-7,4,vl-8,4+,vl-9,5-,vl-12,5,vl-14,5+,vl-16,6A,vl-17,6A+,vl-18,6B,vl-19,6B+,vl-21,6C,vl-22,6C+,vl-23,7A,vl-24,7A+,vl-25,7B,vl-26,7B+,vl-27,7C,vl-28,7C+,vl-29,8A,vl-30,8A+,vl-31,8B,vl-32,8B+,vl-33,8C,vl-34,8C+</td><td>2022-03-15 06:25:50 +0000</td><td>null</td><td>4</td><td>B Sektionen</td><td></td><td>null</td><td>Bouldering</td><td>971</td><td>false</td><td>null</td><td>219</td><td>gym_boulder</td><td>N.N.</td><td>null</td><td>328181</td><td>https://zlag.vertical-life.info/en/routes/e1d2c9c5078abaeb2d12f541e91b8632</td><td>Tue Mar 15 2022 07:25:31 GMT+0100 (Central European Standard Time)</td><td>36</td></tr><tr><td>null</td><td>GymBoulder</td><td>Turquoise</td><td>52</td><td>null</td><td>133113</td><td>Klättercentret Solna</td><td>font</td><td>null</td><td>null</td><td>null</td><td>null</td><td>false</td><td>Wed Oct 25 2023 00:22:52 GMT+0200 (Central European Summer Time)</td><td>redpoint</td><td>286128</td><td>false</td><td>false</td><td>false</td><td>vl-8</td><td>null</td><td>0</td><td>verticallife</td><td>4</td><td>null</td><td>null</td><td>328177</td><td>0</td><td>4397097</td><td>0</td><td>null</td><td>Thu Mar 24 2022 20:00:57 GMT+0100 (Central European Standard Time)</td><td>0</td><td>4+</td><td>null</td><td></td><td>null</td><td>0</td><td>2</td><td>69</td><td>null</td><td>null</td><td>2022-03-24 12:00:00 +0000</td><td>null</td><td>null</td><td>3969417</td><td>false</td><td></td><td>230474</td><td>2022</td><td>383,192,640,178,715,568,676,545,504,520,385,542,383,193</td><td>41801.1.</td><td>[object Object]</td><td>null</td><td>B1.</td><td>Bouldering, B Sektionen</td><td>font</td><td>true</td><td>1</td><td>null</td><td>2022-04-28 08:42:23 +0000</td><td>734</td><td>[object Object]</td><td>false</td><td>Turquoise</td><td>69</td><td>1e2bd49546a1ab26033e6eca6a575fad</td><td>vl-8</td><td>#87ccc6</td><td>null</td><td>3</td><td>true</td><td>vl-1,2,vl-2,2+,vl-3,3-,vl-4,3,vl-5,3+,vl-6,4-,vl-7,4,vl-8,4+,vl-9,5-,vl-12,5,vl-14,5+,vl-16,6A,vl-17,6A+,vl-18,6B,vl-19,6B+,vl-21,6C,vl-22,6C+,vl-23,7A,vl-24,7A+,vl-25,7B,vl-26,7B+,vl-27,7C,vl-28,7C+,vl-29,8A,vl-30,8A+,vl-31,8B,vl-32,8B+,vl-33,8C,vl-34,8C+</td><td>2022-03-15 06:24:22 +0000</td><td>null</td><td>4+</td><td>B Sektionen</td><td></td><td>null</td><td>Bouldering</td><td>971</td><td>false</td><td>null</td><td>219</td><td>gym_boulder</td><td>Benjamin Schlobohm</td><td>null</td><td>328177</td><td>https://zlag.vertical-life.info/en/routes/c6f8e9e347ff37d14a2e9984d7dda976</td><td>Tue Mar 15 2022 07:24:08 GMT+0100 (Central European Standard Time)</td><td>42</td></tr><tr><td>null</td><td>GymBoulder</td><td>White</td><td>353</td><td>null</td><td>133113</td><td>Klättercentret Solna</td><td>font</td><td>null</td><td>null</td><td>null</td><td>null</td><td>false</td><td>Wed Oct 25 2023 00:59:02 GMT+0200 (Central European Summer Time)</td><td>flash</td><td>286128</td><td>false</td><td>false</td><td>false</td><td>vl-14</td><td>null</td><td>0</td><td>verticallife</td><td>4</td><td>null</td><td>null</td><td>331407</td><td>0</td><td>4399030</td><td>0</td><td>null</td><td>Fri Mar 25 2022 13:25:29 GMT+0100 (Central European Standard Time)</td><td>0</td><td>5+</td><td>null</td><td></td><td>null</td><td>0</td><td>1</td><td>69</td><td>null</td><td>null</td><td>2022-03-24 12:00:00 +0000</td><td>null</td><td>null</td><td>4646561</td><td>false</td><td></td><td>230474</td><td>2022</td><td>31,170,7,544,86,526,225,516,295,519,296,482,302,300,290,181,179,183,31,170</td><td>41797.1.</td><td>[object Object]</td><td>null</td><td>A1.</td><td>Bouldering, A Sektionen</td><td>font</td><td>true</td><td>1</td><td>null</td><td>2022-05-30 07:00:57 +0000</td><td>733</td><td>[object Object]</td><td>false</td><td>White</td><td>69</td><td>e56970f2e4e002f62f72f0061adfa987</td><td>vl-14</td><td>#FFFFFF</td><td>null</td><td>7</td><td>true</td><td>vl-1,2,vl-2,2+,vl-3,3-,vl-4,3,vl-5,3+,vl-6,4-,vl-7,4,vl-8,4+,vl-9,5-,vl-12,5,vl-14,5+,vl-16,6A,vl-17,6A+,vl-18,6B,vl-19,6B+,vl-21,6C,vl-22,6C+,vl-23,7A,vl-24,7A+,vl-25,7B,vl-26,7B+,vl-27,7C,vl-28,7C+,vl-29,8A,vl-30,8A+,vl-31,8B,vl-32,8B+,vl-33,8C,vl-34,8C+</td><td>2022-03-25 10:17:50 +0000</td><td>null</td><td>5+</td><td>A Sektionen</td><td></td><td>null</td><td>Bouldering</td><td>971</td><td>false</td><td>null</td><td>219</td><td>gym_boulder</td><td>Stina Dorwarth</td><td>null</td><td>331407</td><td>https://zlag.vertical-life.info/en/routes/5506863690daaa0252b1cf787fb723fb</td><td>Fri Mar 25 2022 11:17:19 GMT+0100 (Central European Standard Time)</td><td>54</td></tr><tr><td>null</td><td>GymBoulder</td><td>White</td><td>353</td><td>null</td><td>133113</td><td>Klättercentret Solna</td><td>font</td><td>null</td><td>null</td><td>null</td><td>null</td><td>false</td><td>Wed Oct 25 2023 00:59:02 GMT+0200 (Central European Summer Time)</td><td>flash</td><td>286128</td><td>false</td><td>false</td><td>false</td><td>vl-14</td><td>null</td><td>0</td><td>verticallife</td><td>4</td><td>null</td><td>null</td><td>331407</td><td>0</td><td>4399030</td><td>0</td><td>null</td><td>Fri Mar 25 2022 13:25:29 GMT+0100 (Central European Standard Time)</td><td>0</td><td>5+</td><td>null</td><td></td><td>null</td><td>0</td><td>1</td><td>69</td><td>null</td><td>null</td><td>2022-03-24 12:00:00 +0000</td><td>null</td><td>null</td><td>4646561</td><td>false</td><td></td><td>230474</td><td>2022</td><td>31,170,7,544,86,526,225,516,295,519,296,482,302,300,290,181,179,183,31,170</td><td>41797.1.</td><td>[object Object]</td><td>null</td><td>A1.</td><td>Bouldering, A Sektionen</td><td>font</td><td>true</td><td>1</td><td>null</td><td>2022-05-30 07:00:57 +0000</td><td>733</td><td>[object Object]</td><td>false</td><td>White</td><td>69</td><td>e56970f2e4e002f62f72f0061adfa987</td><td>vl-14</td><td>#FFFFFF</td><td>null</td><td>7</td><td>true</td><td>vl-1,2,vl-2,2+,vl-3,3-,vl-4,3,vl-5,3+,vl-6,4-,vl-7,4,vl-8,4+,vl-9,5-,vl-12,5,vl-14,5+,vl-16,6A,vl-17,6A+,vl-18,6B,vl-19,6B+,vl-21,6C,vl-22,6C+,vl-23,7A,vl-24,7A+,vl-25,7B,vl-26,7B+,vl-27,7C,vl-28,7C+,vl-29,8A,vl-30,8A+,vl-31,8B,vl-32,8B+,vl-33,8C,vl-34,8C+</td><td>2022-03-25 10:17:50 +0000</td><td>null</td><td>5+</td><td>A Sektionen</td><td></td><td>null</td><td>Bouldering</td><td>971</td><td>false</td><td>null</td><td>219</td><td>gym_boulder</td><td>Stina Dorwarth</td><td>null</td><td>331407</td><td>https://zlag.vertical-life.info/en/routes/5506863690daaa0252b1cf787fb723fb</td><td>Fri Mar 25 2022 11:17:19 GMT+0100 (Central European Standard Time)</td><td>54</td></tr><tr><td>null</td><td>GymBoulder</td><td>White</td><td>353</td><td>null</td><td>133113</td><td>Klättercentret Solna</td><td>font</td><td>null</td><td>null</td><td>null</td><td>null</td><td>false</td><td>Wed Oct 25 2023 00:59:02 GMT+0200 (Central European Summer Time)</td><td>flash</td><td>286128</td><td>false</td><td>false</td><td>false</td><td>vl-14</td><td>null</td><td>0</td><td>verticallife</td><td>4</td><td>null</td><td>null</td><td>331407</td><td>0</td><td>4399030</td><td>0</td><td>null</td><td>Fri Mar 25 2022 13:25:29 GMT+0100 (Central European Standard Time)</td><td>0</td><td>5+</td><td>null</td><td></td><td>null</td><td>0</td><td>1</td><td>69</td><td>null</td><td>null</td><td>2022-03-24 12:00:00 +0000</td><td>null</td><td>null</td><td>4646561</td><td>false</td><td></td><td>230474</td><td>2022</td><td>31,170,7,544,86,526,225,516,295,519,296,482,302,300,290,181,179,183,31,170</td><td>41797.1.</td><td>[object Object]</td><td>null</td><td>A1.</td><td>Bouldering, A Sektionen</td><td>font</td><td>true</td><td>1</td><td>null</td><td>2022-05-30 07:00:57 +0000</td><td>733</td><td>[object Object]</td><td>false</td><td>White</td><td>69</td><td>e56970f2e4e002f62f72f0061adfa987</td><td>vl-14</td><td>#FFFFFF</td><td>null</td><td>7</td><td>true</td><td>vl-1,2,vl-2,2+,vl-3,3-,vl-4,3,vl-5,3+,vl-6,4-,vl-7,4,vl-8,4+,vl-9,5-,vl-12,5,vl-14,5+,vl-16,6A,vl-17,6A+,vl-18,6B,vl-19,6B+,vl-21,6C,vl-22,6C+,vl-23,7A,vl-24,7A+,vl-25,7B,vl-26,7B+,vl-27,7C,vl-28,7C+,vl-29,8A,vl-30,8A+,vl-31,8B,vl-32,8B+,vl-33,8C,vl-34,8C+</td><td>2022-03-25 10:17:50 +0000</td><td>null</td><td>5+</td><td>A Sektionen</td><td></td><td>null</td><td>Bouldering</td><td>971</td><td>false</td><td>null</td><td>219</td><td>gym_boulder</td><td>Stina Dorwarth</td><td>null</td><td>331407</td><td>https://zlag.vertical-life.info/en/routes/5506863690daaa0252b1cf787fb723fb</td><td>Fri Mar 25 2022 11:17:19 GMT+0100 (Central European Standard Time)</td><td>54</td></tr><tr><td>null</td><td>GymBoulder</td><td>Turquoise STÅ</td><td>103</td><td>null</td><td>133113</td><td>Klättercentret Solna</td><td>font</td><td>null</td><td>null</td><td>null</td><td>null</td><td>false</td><td>Wed Oct 25 2023 00:59:02 GMT+0200 (Central European Summer Time)</td><td>flash</td><td>286128</td><td>false</td><td>false</td><td>false</td><td>vl-7</td><td>null</td><td>0</td><td>verticallife</td><td>4</td><td>null</td><td>null</td><td>331412</td><td>0</td><td>4399032</td><td>0</td><td>null</td><td>Fri Mar 25 2022 13:25:56 GMT+0100 (Central European Standard Time)</td><td>0</td><td>4</td><td>null</td><td></td><td>null</td><td>0</td><td>1</td><td>69</td><td>null</td><td>null</td><td>2022-03-24 12:00:00 +0000</td><td>null</td><td>null</td><td>4646896</td><td>false</td><td></td><td>230474</td><td>2022</td><td>291,182,302,300,294,520,382,504,507,502,721,526,720,489,733,183,565,180,291,182</td><td>41797.2.</td><td>[object Object]</td><td>null</td><td>A2.</td><td>Bouldering, A Sektionen</td><td>font</td><td>true</td><td>2</td><td>null</td><td>2022-06-16 08:51:20 +0000</td><td>733</td><td>[object Object]</td><td>false</td><td>Turquoise STÅ</td><td>69</td><td>e56970f2e4e002f62f72f0061adfa987</td><td>vl-7</td><td>#87ccc6</td><td>null</td><td>7</td><td>true</td><td>vl-1,2,vl-2,2+,vl-3,3-,vl-4,3,vl-5,3+,vl-6,4-,vl-7,4,vl-8,4+,vl-9,5-,vl-12,5,vl-14,5+,vl-16,6A,vl-17,6A+,vl-18,6B,vl-19,6B+,vl-21,6C,vl-22,6C+,vl-23,7A,vl-24,7A+,vl-25,7B,vl-26,7B+,vl-27,7C,vl-28,7C+,vl-29,8A,vl-30,8A+,vl-31,8B,vl-32,8B+,vl-33,8C,vl-34,8C+</td><td>2022-03-25 10:20:39 +0000</td><td>null</td><td>4</td><td>A Sektionen</td><td></td><td>null</td><td>Bouldering</td><td>971</td><td>false</td><td>null</td><td>219</td><td>gym_boulder</td><td>Stina Dorwarth</td><td>null</td><td>331412</td><td>https://zlag.vertical-life.info/en/routes/57ea87e54529c8aaf0e6807fd56a26fa</td><td>Fri Mar 25 2022 11:20:28 GMT+0100 (Central European Standard Time)</td><td>36</td></tr><tr><td>null</td><td>GymBoulder</td><td>Red</td><td>503</td><td>null</td><td>133113</td><td>Klättercentret Solna</td><td>font</td><td>null</td><td>null</td><td>null</td><td>null</td><td>false</td><td>Wed Oct 25 2023 00:59:22 GMT+0200 (Central European Summer Time)</td><td>flash</td><td>286128</td><td>false</td><td>false</td><td>false</td><td>vl-17</td><td>null</td><td>0</td><td>verticallife</td><td>4</td><td>null</td><td>null</td><td>323145</td><td>0</td><td>4404729</td><td>0</td><td>null</td><td>Sun Mar 27 2022 14:41:47 GMT+0200 (Central European Summer Time)</td><td>0</td><td>6A+</td><td>null</td><td></td><td>null</td><td>0</td><td>1</td><td>69</td><td>null</td><td>null</td><td>2022-03-27 12:00:00 +0000</td><td>null</td><td>null</td><td>4651936</td><td>false</td><td></td><td>230474</td><td>2022</td><td>31,186,17,521,142,506,268,496,335,500,336,420,335,392,327,340,346,253,312,177,217,180,86,191,31,187</td><td>41798.8.</td><td>[object Object]</td><td>null</td><td>A8.</td><td>Bouldering, A Sektionen</td><td>font</td><td>true</td><td>8</td><td>null</td><td>2022-05-02 08:36:41 +0000</td><td>733</td><td>[object Object]</td><td>false</td><td>Red</td><td>69</td><td>5c34763248de2c434a96e3fd1bd72118</td><td>vl-17</td><td>#ff0000</td><td>null</td><td>7</td><td>true</td><td>vl-1,2,vl-2,2+,vl-3,3-,vl-4,3,vl-5,3+,vl-6,4-,vl-7,4,vl-8,4+,vl-9,5-,vl-12,5,vl-14,5+,vl-16,6A,vl-17,6A+,vl-18,6B,vl-19,6B+,vl-21,6C,vl-22,6C+,vl-23,7A,vl-24,7A+,vl-25,7B,vl-26,7B+,vl-27,7C,vl-28,7C+,vl-29,8A,vl-30,8A+,vl-31,8B,vl-32,8B+,vl-33,8C,vl-34,8C+</td><td>2022-02-24 15:47:08 +0000</td><td>null</td><td>6A+</td><td>A Sektionen</td><td></td><td>null</td><td>Bouldering</td><td>971</td><td>false</td><td>null</td><td>219</td><td>gym_boulder</td><td>Benjamin Schlobohm</td><td>null</td><td>323145</td><td>https://zlag.vertical-life.info/en/routes/c52048f1c019661d154b560657939abb</td><td>Thu Feb 24 2022 16:46:47 GMT+0100 (Central European Standard Time)</td><td>66</td></tr><tr><td>null</td><td>GymBoulder</td><td>Red</td><td>503</td><td>null</td><td>133113</td><td>Klättercentret Solna</td><td>font</td><td>null</td><td>null</td><td>null</td><td>null</td><td>false</td><td>Wed Oct 25 2023 00:59:22 GMT+0200 (Central European Summer Time)</td><td>flash</td><td>286128</td><td>false</td><td>false</td><td>false</td><td>vl-17</td><td>null</td><td>0</td><td>verticallife</td><td>4</td><td>null</td><td>null</td><td>323145</td><td>0</td><td>4404729</td><td>0</td><td>null</td><td>Sun Mar 27 2022 14:41:47 GMT+0200 (Central European Summer Time)</td><td>0</td><td>6A+</td><td>null</td><td></td><td>null</td><td>0</td><td>1</td><td>69</td><td>null</td><td>null</td><td>2022-03-27 12:00:00 +0000</td><td>null</td><td>null</td><td>4651936</td><td>false</td><td></td><td>230474</td><td>2022</td><td>31,186,17,521,142,506,268,496,335,500,336,420,335,392,327,340,346,253,312,177,217,180,86,191,31,187</td><td>41798.8.</td><td>[object Object]</td><td>null</td><td>A8.</td><td>Bouldering, A Sektionen</td><td>font</td><td>true</td><td>8</td><td>null</td><td>2022-05-02 08:36:41 +0000</td><td>733</td><td>[object Object]</td><td>false</td><td>Red</td><td>69</td><td>5c34763248de2c434a96e3fd1bd72118</td><td>vl-17</td><td>#ff0000</td><td>null</td><td>7</td><td>true</td><td>vl-1,2,vl-2,2+,vl-3,3-,vl-4,3,vl-5,3+,vl-6,4-,vl-7,4,vl-8,4+,vl-9,5-,vl-12,5,vl-14,5+,vl-16,6A,vl-17,6A+,vl-18,6B,vl-19,6B+,vl-21,6C,vl-22,6C+,vl-23,7A,vl-24,7A+,vl-25,7B,vl-26,7B+,vl-27,7C,vl-28,7C+,vl-29,8A,vl-30,8A+,vl-31,8B,vl-32,8B+,vl-33,8C,vl-34,8C+</td><td>2022-02-24 15:47:08 +0000</td><td>null</td><td>6A+</td><td>A Sektionen</td><td></td><td>null</td><td>Bouldering</td><td>971</td><td>false</td><td>null</td><td>219</td><td>gym_boulder</td><td>Benjamin Schlobohm</td><td>null</td><td>323145</td><td>https://zlag.vertical-life.info/en/routes/c52048f1c019661d154b560657939abb</td><td>Thu Feb 24 2022 16:46:47 GMT+0100 (Central European Standard Time)</td><td>66</td></tr><tr><td>null</td><td>GymBoulder</td><td>Dark Green</td><td>103</td><td>null</td><td>133113</td><td>Klättercentret Solna</td><td>font</td><td>null</td><td>null</td><td>null</td><td>null</td><td>false</td><td>Wed Oct 25 2023 00:49:23 GMT+0200 (Central European Summer Time)</td><td>flash</td><td>286128</td><td>false</td><td>false</td><td>false</td><td>vl-7</td><td>null</td><td>0</td><td>verticallife</td><td>4</td><td>null</td><td>null</td><td>321167</td><td>0</td><td>4404741</td><td>0</td><td>null</td><td>Sun Mar 27 2022 14:47:38 GMT+0200 (Central European Summer Time)</td><td>0</td><td>4</td><td>null</td><td></td><td>null</td><td>0</td><td>1</td><td>69</td><td>null</td><td>null</td><td>2022-03-27 12:00:00 +0000</td><td>null</td><td>null</td><td>4463426</td><td>false</td><td></td><td>230474</td><td>2022</td><td>475,188,538,302,466,472,465,507,524,501,756,526,755,487,738,372,715,177,624,177,476,188</td><td>41798.6.</td><td>[object Object]</td><td>null</td><td>A6.</td><td>Bouldering, A Sektionen</td><td>font</td><td>true</td><td>6</td><td>null</td><td>2022-05-02 08:36:39 +0000</td><td>733</td><td>[object Object]</td><td>false</td><td>Dark Green</td><td>69</td><td>5c34763248de2c434a96e3fd1bd72118</td><td>vl-7</td><td>#008000</td><td>null</td><td>7</td><td>true</td><td>vl-1,2,vl-2,2+,vl-3,3-,vl-4,3,vl-5,3+,vl-6,4-,vl-7,4,vl-8,4+,vl-9,5-,vl-12,5,vl-14,5+,vl-16,6A,vl-17,6A+,vl-18,6B,vl-19,6B+,vl-21,6C,vl-22,6C+,vl-23,7A,vl-24,7A+,vl-25,7B,vl-26,7B+,vl-27,7C,vl-28,7C+,vl-29,8A,vl-30,8A+,vl-31,8B,vl-32,8B+,vl-33,8C,vl-34,8C+</td><td>2022-02-17 16:22:37 +0000</td><td>null</td><td>4</td><td>A Sektionen</td><td></td><td>null</td><td>Bouldering</td><td>971</td><td>false</td><td>null</td><td>219</td><td>gym_boulder</td><td>Robert  Rundin </td><td>null</td><td>321167</td><td>https://zlag.vertical-life.info/en/routes/0c4b209215991dac15a0bc7f1729141c</td><td>Thu Feb 17 2022 17:22:23 GMT+0100 (Central European Standard Time)</td><td>36</td></tr><tr><td>null</td><td>GymBoulder</td><td>Green</td><td>453</td><td>null</td><td>133113</td><td>Klättercentret Solna</td><td>font</td><td>null</td><td>null</td><td>null</td><td>null</td><td>false</td><td>Wed Oct 25 2023 00:49:23 GMT+0200 (Central European Summer Time)</td><td>flash</td><td>286128</td><td>false</td><td>false</td><td>false</td><td>vl-16</td><td>null</td><td>0</td><td>verticallife</td><td>4</td><td>null</td><td>null</td><td>323147</td><td>0</td><td>4404772</td><td>0</td><td>null</td><td>Sun Mar 27 2022 14:51:47 GMT+0200 (Central European Summer Time)</td><td>0</td><td>6A</td><td>null</td><td></td><td>null</td><td>0</td><td>1</td><td>69</td><td>null</td><td>null</td><td>2022-03-27 12:00:00 +0000</td><td>null</td><td>null</td><td>4463302</td><td>false</td><td></td><td>230474</td><td>2022</td><td>31,186,17,521,142,506,268,496,335,500,336,420,335,392,327,340,346,253,312,177,217,180,86,191,31,187</td><td>41798.8.</td><td>[object Object]</td><td>null</td><td>A8.</td><td>Bouldering, A Sektionen</td><td>font</td><td>true</td><td>8</td><td>null</td><td>2022-05-09 07:22:11 +0000</td><td>733</td><td>[object Object]</td><td>false</td><td>Green</td><td>69</td><td>5c34763248de2c434a96e3fd1bd72118</td><td>vl-16</td><td>#32cd32</td><td>null</td><td>7</td><td>true</td><td>vl-1,2,vl-2,2+,vl-3,3-,vl-4,3,vl-5,3+,vl-6,4-,vl-7,4,vl-8,4+,vl-9,5-,vl-12,5,vl-14,5+,vl-16,6A,vl-17,6A+,vl-18,6B,vl-19,6B+,vl-21,6C,vl-22,6C+,vl-23,7A,vl-24,7A+,vl-25,7B,vl-26,7B+,vl-27,7C,vl-28,7C+,vl-29,8A,vl-30,8A+,vl-31,8B,vl-32,8B+,vl-33,8C,vl-34,8C+</td><td>2022-02-24 15:47:37 +0000</td><td>null</td><td>6A</td><td>A Sektionen</td><td></td><td>null</td><td>Bouldering</td><td>971</td><td>false</td><td>null</td><td>219</td><td>gym_boulder</td><td>Benjamin Schlobohm</td><td>null</td><td>323147</td><td>https://zlag.vertical-life.info/en/routes/faed8c22f9907b573c09f0757d0f7d03</td><td>Thu Feb 24 2022 16:47:16 GMT+0100 (Central European Standard Time)</td><td>60</td></tr><tr><td>null</td><td>GymBoulder</td><td>White</td><td>353</td><td>null</td><td>133113</td><td>Klättercentret Solna</td><td>font</td><td>null</td><td>null</td><td>null</td><td>null</td><td>false</td><td>Wed Oct 25 2023 00:59:22 GMT+0200 (Central European Summer Time)</td><td>flash</td><td>286128</td><td>false</td><td>false</td><td>false</td><td>vl-14</td><td>null</td><td>0</td><td>verticallife</td><td>4</td><td>null</td><td>null</td><td>325326</td><td>0</td><td>4404871</td><td>0</td><td>null</td><td>Sun Mar 27 2022 15:06:06 GMT+0200 (Central European Summer Time)</td><td>0</td><td>5+</td><td>null</td><td></td><td>null</td><td>0</td><td>1</td><td>69</td><td>null</td><td>null</td><td>2022-03-27 12:00:00 +0000</td><td>null</td><td>null</td><td>4652269</td><td>false</td><td></td><td>230474</td><td>2022</td><td>31,186,17,521,142,506,268,496,335,500,336,420,335,392,327,340,346,253,312,177,217,180,86,191,31,187</td><td>41798.8.</td><td>[object Object]</td><td>null</td><td>A8.</td><td>Bouldering, A Sektionen</td><td>font</td><td>true</td><td>8</td><td>null</td><td>2022-05-09 07:22:15 +0000</td><td>733</td><td>[object Object]</td><td>false</td><td>White</td><td>69</td><td>5c34763248de2c434a96e3fd1bd72118</td><td>vl-14</td><td>#FFFFFF</td><td>null</td><td>7</td><td>true</td><td>vl-1,2,vl-2,2+,vl-3,3-,vl-4,3,vl-5,3+,vl-6,4-,vl-7,4,vl-8,4+,vl-9,5-,vl-12,5,vl-14,5+,vl-16,6A,vl-17,6A+,vl-18,6B,vl-19,6B+,vl-21,6C,vl-22,6C+,vl-23,7A,vl-24,7A+,vl-25,7B,vl-26,7B+,vl-27,7C,vl-28,7C+,vl-29,8A,vl-30,8A+,vl-31,8B,vl-32,8B+,vl-33,8C,vl-34,8C+</td><td>2022-03-03 15:59:21 +0000</td><td>null</td><td>5+</td><td>A Sektionen</td><td></td><td>null</td><td>Bouldering</td><td>971</td><td>false</td><td>null</td><td>219</td><td>gym_boulder</td><td>N.N.</td><td>null</td><td>325326</td><td>https://zlag.vertical-life.info/en/routes/60a7e2b1e7f4521a549bdce0d17d6c15</td><td>Thu Mar 03 2022 16:59:12 GMT+0100 (Central European Standard Time)</td><td>54</td></tr><tr><td>null</td><td>GymBoulder</td><td>Orange</td><td>353</td><td>null</td><td>133113</td><td>Klättercentret Solna</td><td>font</td><td>null</td><td>null</td><td>null</td><td>null</td><td>false</td><td>Wed Oct 25 2023 00:23:11 GMT+0200 (Central European Summer Time)</td><td>flash</td><td>286128</td><td>false</td><td>false</td><td>false</td><td>vl-14</td><td>null</td><td>0</td><td>verticallife</td><td>4</td><td>null</td><td>null</td><td>326084</td><td>0</td><td>4404903</td><td>0</td><td>null</td><td>Sun Mar 27 2022 15:14:59 GMT+0200 (Central European Summer Time)</td><td>0</td><td>5+</td><td>null</td><td>a</td><td>null</td><td>0</td><td>1</td><td>69</td><td>null</td><td>null</td><td>2022-03-27 12:00:00 +0000</td><td>null</td><td>null</td><td>3975092</td><td>false</td><td></td><td>230474</td><td>2022</td><td>513,71,513,587,513,650,879,639,878,580,919,108,514,70</td><td>41799.4.</td><td>[object Object]</td><td>null</td><td>A4.</td><td>Bouldering, A Sektionen</td><td>font</td><td>true</td><td>4</td><td>null</td><td>2022-05-19 14:29:17 +0000</td><td>733</td><td>[object Object]</td><td>false</td><td>Orange</td><td>69</td><td>9ba3d48c8e121f154d4f49754e525ba8</td><td>vl-14</td><td>#ffa500</td><td>null</td><td>7</td><td>true</td><td>vl-1,2,vl-2,2+,vl-3,3-,vl-4,3,vl-5,3+,vl-6,4-,vl-7,4,vl-8,4+,vl-9,5-,vl-12,5,vl-14,5+,vl-16,6A,vl-17,6A+,vl-18,6B,vl-19,6B+,vl-21,6C,vl-22,6C+,vl-23,7A,vl-24,7A+,vl-25,7B,vl-26,7B+,vl-27,7C,vl-28,7C+,vl-29,8A,vl-30,8A+,vl-31,8B,vl-32,8B+,vl-33,8C,vl-34,8C+</td><td>2022-03-07 22:42:59 +0000</td><td>null</td><td>5+</td><td>A Sektionen</td><td></td><td>a</td><td>Bouldering</td><td>971</td><td>false</td><td>null</td><td>219</td><td>gym_boulder</td><td>Benjamin Schlobohm</td><td>null</td><td>326084</td><td>https://zlag.vertical-life.info/en/routes/c6cd1c8cdda83e16da67cc0b92d4409a</td><td>Mon Mar 07 2022 23:42:43 GMT+0100 (Central European Standard Time)</td><td>54</td></tr><tr><td>null</td><td>GymBoulder</td><td>Turquoise</td><td>253</td><td>null</td><td>133113</td><td>Klättercentret Solna</td><td>font</td><td>null</td><td>null</td><td>null</td><td>null</td><td>false</td><td>Wed Oct 25 2023 00:49:23 GMT+0200 (Central European Summer Time)</td><td>flash</td><td>286128</td><td>false</td><td>false</td><td>false</td><td>vl-12</td><td>null</td><td>0</td><td>verticallife</td><td>4</td><td>null</td><td>null</td><td>324569</td><td>0</td><td>4405175</td><td>0</td><td>null</td><td>Sun Mar 27 2022 16:23:05 GMT+0200 (Central European Summer Time)</td><td>0</td><td>5</td><td>null</td><td>a</td><td>null</td><td>0</td><td>1</td><td>69</td><td>null</td><td>null</td><td>2022-03-27 12:00:00 +0000</td><td>null</td><td>null</td><td>4463420</td><td>false</td><td></td><td>230474</td><td>2022</td><td>31,186,17,521,142,506,268,496,335,500,336,420,335,392,327,340,346,253,312,177,217,180,86,191,31,187</td><td>41798.8.</td><td>[object Object]</td><td>null</td><td>A8.</td><td>Bouldering, A Sektionen</td><td>font</td><td>true</td><td>8</td><td>null</td><td>2022-05-09 07:22:14 +0000</td><td>733</td><td>[object Object]</td><td>false</td><td>Turquoise</td><td>69</td><td>5c34763248de2c434a96e3fd1bd72118</td><td>vl-12</td><td>#87ccc6</td><td>null</td><td>7</td><td>true</td><td>vl-1,2,vl-2,2+,vl-3,3-,vl-4,3,vl-5,3+,vl-6,4-,vl-7,4,vl-8,4+,vl-9,5-,vl-12,5,vl-14,5+,vl-16,6A,vl-17,6A+,vl-18,6B,vl-19,6B+,vl-21,6C,vl-22,6C+,vl-23,7A,vl-24,7A+,vl-25,7B,vl-26,7B+,vl-27,7C,vl-28,7C+,vl-29,8A,vl-30,8A+,vl-31,8B,vl-32,8B+,vl-33,8C,vl-34,8C+</td><td>2022-03-02 10:14:44 +0000</td><td>null</td><td>5</td><td>A Sektionen</td><td></td><td>a</td><td>Bouldering</td><td>971</td><td>false</td><td>null</td><td>219</td><td>gym_boulder</td><td>Benjamin Schlobohm</td><td>null</td><td>324569</td><td>https://zlag.vertical-life.info/en/routes/3197728379eb4adfaef88a028fe57606</td><td>Wed Mar 02 2022 11:14:30 GMT+0100 (Central European Standard Time)</td><td>48</td></tr><tr><td>null</td><td>GymBoulder</td><td>Green</td><td>353</td><td>null</td><td>133113</td><td>Klättercentret Solna</td><td>font</td><td>null</td><td>null</td><td>null</td><td>null</td><td>false</td><td>Wed Oct 25 2023 00:28:53 GMT+0200 (Central European Summer Time)</td><td>flash</td><td>286128</td><td>false</td><td>false</td><td>false</td><td>vl-14</td><td>null</td><td>0</td><td>verticallife</td><td>4</td><td>null</td><td>null</td><td>332095</td><td>0</td><td>4414768</td><td>0</td><td>null</td><td>Wed Mar 30 2022 18:40:02 GMT+0200 (Central European Summer Time)</td><td>0</td><td>5+</td><td>null</td><td></td><td>null</td><td>0</td><td>1</td><td>69</td><td>null</td><td>null</td><td>2022-03-30 12:00:00 +0000</td><td>null</td><td>null</td><td>4083091</td><td>false</td><td></td><td>230474</td><td>2022</td><td>121,188,232,182,444,185,506,184,514,311,470,489,235,479,138,504,143,350,121,189</td><td>41800.4.</td><td>[object Object]</td><td>null</td><td>B4.</td><td>Bouldering, B Sektionen</td><td>font</td><td>true</td><td>4</td><td>null</td><td>2022-05-12 08:25:23 +0000</td><td>734</td><td>[object Object]</td><td>false</td><td>Green</td><td>69</td><td>e6411c2ffc69fdad028b8408b295e45c</td><td>vl-14</td><td>#32cd32</td><td>null</td><td>3</td><td>true</td><td>vl-1,2,vl-2,2+,vl-3,3-,vl-4,3,vl-5,3+,vl-6,4-,vl-7,4,vl-8,4+,vl-9,5-,vl-12,5,vl-14,5+,vl-16,6A,vl-17,6A+,vl-18,6B,vl-19,6B+,vl-21,6C,vl-22,6C+,vl-23,7A,vl-24,7A+,vl-25,7B,vl-26,7B+,vl-27,7C,vl-28,7C+,vl-29,8A,vl-30,8A+,vl-31,8B,vl-32,8B+,vl-33,8C,vl-34,8C+</td><td>2022-03-29 07:12:15 +0000</td><td>null</td><td>5+</td><td>B Sektionen</td><td></td><td>null</td><td>Bouldering</td><td>971</td><td>false</td><td>null</td><td>219</td><td>gym_boulder</td><td>Benjamin Schlobohm</td><td>true</td><td>332095</td><td>https://zlag.vertical-life.info/en/routes/a9660c812a4691f722a7b6f7bfd9b4b8</td><td>Tue Mar 29 2022 09:11:59 GMT+0200 (Central European Summer Time)</td><td>54</td></tr><tr><td>null</td><td>GymBoulder</td><td>Turquoise</td><td>300</td><td>null</td><td>133113</td><td>Klättercentret Solna</td><td>font</td><td>null</td><td>null</td><td>null</td><td>null</td><td>false</td><td>Wed Oct 25 2023 00:23:38 GMT+0200 (Central European Summer Time)</td><td>flash</td><td>286128</td><td>false</td><td>false</td><td>false</td><td>vl-14</td><td>null</td><td>0</td><td>verticallife</td><td>4</td><td>null</td><td>null</td><td>332086</td><td>0</td><td>4414782</td><td>0</td><td>null</td><td>Wed Mar 30 2022 18:42:12 GMT+0200 (Central European Summer Time)</td><td>0</td><td>5+</td><td>null</td><td></td><td>null</td><td>0</td><td>1</td><td>69</td><td>null</td><td>null</td><td>2022-03-30 12:00:00 +0000</td><td>null</td><td>null</td><td>3984300</td><td>false</td><td></td><td>230474</td><td>2022</td><td>508,187,689,184,847,182,931,514,470,491,515,312,508,186</td><td>41800.3.</td><td>[object Object]</td><td>null</td><td>B3.</td><td>Bouldering, B Sektionen</td><td>font</td><td>true</td><td>3</td><td>null</td><td>2022-04-28 08:42:18 +0000</td><td>734</td><td>[object Object]</td><td>false</td><td>Turquoise</td><td>69</td><td>e6411c2ffc69fdad028b8408b295e45c</td><td>vl-14</td><td>#87ccc6</td><td>null</td><td>3</td><td>true</td><td>vl-1,2,vl-2,2+,vl-3,3-,vl-4,3,vl-5,3+,vl-6,4-,vl-7,4,vl-8,4+,vl-9,5-,vl-12,5,vl-14,5+,vl-16,6A,vl-17,6A+,vl-18,6B,vl-19,6B+,vl-21,6C,vl-22,6C+,vl-23,7A,vl-24,7A+,vl-25,7B,vl-26,7B+,vl-27,7C,vl-28,7C+,vl-29,8A,vl-30,8A+,vl-31,8B,vl-32,8B+,vl-33,8C,vl-34,8C+</td><td>2022-03-29 07:08:49 +0000</td><td>null</td><td>5+</td><td>B Sektionen</td><td></td><td>null</td><td>Bouldering</td><td>971</td><td>false</td><td>null</td><td>219</td><td>gym_boulder</td><td>James Thanawat</td><td>null</td><td>332086</td><td>https://zlag.vertical-life.info/en/routes/9ea8cfe25fa18b77114fe33fd26e9ece</td><td>Tue Mar 29 2022 09:08:27 GMT+0200 (Central European Summer Time)</td><td>54</td></tr><tr><td>null</td><td>GymBoulder</td><td>Yellow</td><td>103</td><td>null</td><td>133113</td><td>Klättercentret Solna</td><td>font</td><td>null</td><td>null</td><td>null</td><td>null</td><td>false</td><td>Wed Oct 25 2023 00:50:00 GMT+0200 (Central European Summer Time)</td><td>flash</td><td>286128</td><td>false</td><td>false</td><td>false</td><td>vl-8</td><td>null</td><td>0</td><td>verticallife</td><td>4</td><td>null</td><td>null</td><td>328179</td><td>0</td><td>4414826</td><td>0</td><td>null</td><td>Wed Mar 30 2022 18:52:03 GMT+0200 (Central European Summer Time)</td><td>0</td><td>4+</td><td>null</td><td></td><td>null</td><td>0</td><td>1</td><td>69</td><td>null</td><td>null</td><td>2022-03-30 12:00:00 +0000</td><td>null</td><td>null</td><td>4473697</td><td>false</td><td></td><td>230474</td><td>2022</td><td>4,150,164,170,381,190,383,542,219,571,2,609,6,152</td><td>41801.2.</td><td>[object Object]</td><td>null</td><td>B2.</td><td>Bouldering, B Sektionen</td><td>font</td><td>true</td><td>2</td><td>null</td><td>2022-04-28 08:42:27 +0000</td><td>734</td><td>[object Object]</td><td>false</td><td>Yellow</td><td>69</td><td>1e2bd49546a1ab26033e6eca6a575fad</td><td>vl-8</td><td>#ffd700</td><td>null</td><td>3</td><td>true</td><td>vl-1,2,vl-2,2+,vl-3,3-,vl-4,3,vl-5,3+,vl-6,4-,vl-7,4,vl-8,4+,vl-9,5-,vl-12,5,vl-14,5+,vl-16,6A,vl-17,6A+,vl-18,6B,vl-19,6B+,vl-21,6C,vl-22,6C+,vl-23,7A,vl-24,7A+,vl-25,7B,vl-26,7B+,vl-27,7C,vl-28,7C+,vl-29,8A,vl-30,8A+,vl-31,8B,vl-32,8B+,vl-33,8C,vl-34,8C+</td><td>2022-03-15 06:25:12 +0000</td><td>null</td><td>4+</td><td>B Sektionen</td><td></td><td>null</td><td>Bouldering</td><td>971</td><td>false</td><td>null</td><td>219</td><td>gym_boulder</td><td>N.N.</td><td>null</td><td>328179</td><td>https://zlag.vertical-life.info/en/routes/564dbfe8e20d1451cd2910cd6c1c49dc</td><td>Tue Mar 15 2022 07:24:57 GMT+0100 (Central European Standard Time)</td><td>42</td></tr><tr><td>null</td><td>GymBoulder</td><td>Yellow</td><td>103</td><td>null</td><td>133113</td><td>Klättercentret Solna</td><td>font</td><td>null</td><td>null</td><td>null</td><td>null</td><td>false</td><td>Wed Oct 25 2023 00:50:00 GMT+0200 (Central European Summer Time)</td><td>flash</td><td>286128</td><td>false</td><td>false</td><td>false</td><td>vl-8</td><td>null</td><td>0</td><td>verticallife</td><td>4</td><td>null</td><td>null</td><td>328179</td><td>0</td><td>4414826</td><td>0</td><td>null</td><td>Wed Mar 30 2022 18:52:03 GMT+0200 (Central European Summer Time)</td><td>0</td><td>4+</td><td>null</td><td></td><td>null</td><td>0</td><td>1</td><td>69</td><td>null</td><td>null</td><td>2022-03-30 12:00:00 +0000</td><td>null</td><td>null</td><td>4473697</td><td>false</td><td></td><td>230474</td><td>2022</td><td>4,150,164,170,381,190,383,542,219,571,2,609,6,152</td><td>41801.2.</td><td>[object Object]</td><td>null</td><td>B2.</td><td>Bouldering, B Sektionen</td><td>font</td><td>true</td><td>2</td><td>null</td><td>2022-04-28 08:42:27 +0000</td><td>734</td><td>[object Object]</td><td>false</td><td>Yellow</td><td>69</td><td>1e2bd49546a1ab26033e6eca6a575fad</td><td>vl-8</td><td>#ffd700</td><td>null</td><td>3</td><td>true</td><td>vl-1,2,vl-2,2+,vl-3,3-,vl-4,3,vl-5,3+,vl-6,4-,vl-7,4,vl-8,4+,vl-9,5-,vl-12,5,vl-14,5+,vl-16,6A,vl-17,6A+,vl-18,6B,vl-19,6B+,vl-21,6C,vl-22,6C+,vl-23,7A,vl-24,7A+,vl-25,7B,vl-26,7B+,vl-27,7C,vl-28,7C+,vl-29,8A,vl-30,8A+,vl-31,8B,vl-32,8B+,vl-33,8C,vl-34,8C+</td><td>2022-03-15 06:25:12 +0000</td><td>null</td><td>4+</td><td>B Sektionen</td><td></td><td>null</td><td>Bouldering</td><td>971</td><td>false</td><td>null</td><td>219</td><td>gym_boulder</td><td>N.N.</td><td>null</td><td>328179</td><td>https://zlag.vertical-life.info/en/routes/564dbfe8e20d1451cd2910cd6c1c49dc</td><td>Tue Mar 15 2022 07:24:57 GMT+0100 (Central European Standard Time)</td><td>42</td></tr><tr><td>null</td><td>GymBoulder</td><td>Yellow</td><td>103</td><td>null</td><td>133113</td><td>Klättercentret Solna</td><td>font</td><td>null</td><td>null</td><td>null</td><td>null</td><td>false</td><td>Wed Oct 25 2023 00:50:00 GMT+0200 (Central European Summer Time)</td><td>flash</td><td>286128</td><td>false</td><td>false</td><td>false</td><td>vl-8</td><td>null</td><td>0</td><td>verticallife</td><td>4</td><td>null</td><td>null</td><td>328179</td><td>0</td><td>4414826</td><td>0</td><td>null</td><td>Wed Mar 30 2022 18:52:03 GMT+0200 (Central European Summer Time)</td><td>0</td><td>4+</td><td>null</td><td></td><td>null</td><td>0</td><td>1</td><td>69</td><td>null</td><td>null</td><td>2022-03-30 12:00:00 +0000</td><td>null</td><td>null</td><td>4473697</td><td>false</td><td></td><td>230474</td><td>2022</td><td>4,150,164,170,381,190,383,542,219,571,2,609,6,152</td><td>41801.2.</td><td>[object Object]</td><td>null</td><td>B2.</td><td>Bouldering, B Sektionen</td><td>font</td><td>true</td><td>2</td><td>null</td><td>2022-04-28 08:42:27 +0000</td><td>734</td><td>[object Object]</td><td>false</td><td>Yellow</td><td>69</td><td>1e2bd49546a1ab26033e6eca6a575fad</td><td>vl-8</td><td>#ffd700</td><td>null</td><td>3</td><td>true</td><td>vl-1,2,vl-2,2+,vl-3,3-,vl-4,3,vl-5,3+,vl-6,4-,vl-7,4,vl-8,4+,vl-9,5-,vl-12,5,vl-14,5+,vl-16,6A,vl-17,6A+,vl-18,6B,vl-19,6B+,vl-21,6C,vl-22,6C+,vl-23,7A,vl-24,7A+,vl-25,7B,vl-26,7B+,vl-27,7C,vl-28,7C+,vl-29,8A,vl-30,8A+,vl-31,8B,vl-32,8B+,vl-33,8C,vl-34,8C+</td><td>2022-03-15 06:25:12 +0000</td><td>null</td><td>4+</td><td>B Sektionen</td><td></td><td>null</td><td>Bouldering</td><td>971</td><td>false</td><td>null</td><td>219</td><td>gym_boulder</td><td>N.N.</td><td>null</td><td>328179</td><td>https://zlag.vertical-life.info/en/routes/564dbfe8e20d1451cd2910cd6c1c49dc</td><td>Tue Mar 15 2022 07:24:57 GMT+0100 (Central European Standard Time)</td><td>42</td></tr><tr><td>null</td><td>GymBoulder</td><td>Yellow</td><td>453</td><td>null</td><td>133113</td><td>Klättercentret Solna</td><td>font</td><td>null</td><td>null</td><td>null</td><td>null</td><td>false</td><td>Wed Oct 25 2023 00:56:16 GMT+0200 (Central European Summer Time)</td><td>flash</td><td>286128</td><td>false</td><td>false</td><td>false</td><td>vl-16</td><td>null</td><td>0</td><td>verticallife</td><td>4</td><td>null</td><td>null</td><td>332094</td><td>0</td><td>4414902</td><td>0</td><td>null</td><td>Wed Mar 30 2022 19:00:24 GMT+0200 (Central European Summer Time)</td><td>0</td><td>6A</td><td>null</td><td></td><td>null</td><td>0</td><td>1</td><td>69</td><td>null</td><td>null</td><td>2022-03-30 12:00:00 +0000</td><td>null</td><td>null</td><td>4593930</td><td>false</td><td></td><td>230474</td><td>2022</td><td>121,188,232,182,444,185,506,184,514,311,470,489,235,479,138,504,143,350,121,189</td><td>41800.4.</td><td>[object Object]</td><td>null</td><td>B4.</td><td>Bouldering, B Sektionen</td><td>font</td><td>true</td><td>4</td><td>null</td><td>2022-05-12 08:25:22 +0000</td><td>734</td><td>[object Object]</td><td>false</td><td>Yellow</td><td>69</td><td>e6411c2ffc69fdad028b8408b295e45c</td><td>vl-16</td><td>#ffd700</td><td>null</td><td>3</td><td>true</td><td>vl-1,2,vl-2,2+,vl-3,3-,vl-4,3,vl-5,3+,vl-6,4-,vl-7,4,vl-8,4+,vl-9,5-,vl-12,5,vl-14,5+,vl-16,6A,vl-17,6A+,vl-18,6B,vl-19,6B+,vl-21,6C,vl-22,6C+,vl-23,7A,vl-24,7A+,vl-25,7B,vl-26,7B+,vl-27,7C,vl-28,7C+,vl-29,8A,vl-30,8A+,vl-31,8B,vl-32,8B+,vl-33,8C,vl-34,8C+</td><td>2022-03-29 07:11:56 +0000</td><td>null</td><td>6A</td><td>B Sektionen</td><td></td><td>null</td><td>Bouldering</td><td>971</td><td>false</td><td>null</td><td>219</td><td>gym_boulder</td><td>Benjamin Schlobohm</td><td>null</td><td>332094</td><td>https://zlag.vertical-life.info/en/routes/7a27adc8baf8346da01c19e99280ff1f</td><td>Tue Mar 29 2022 09:11:42 GMT+0200 (Central European Summer Time)</td><td>60</td></tr><tr><td>null</td><td>GymBoulder</td><td>Yellow</td><td>453</td><td>null</td><td>133113</td><td>Klättercentret Solna</td><td>font</td><td>null</td><td>null</td><td>null</td><td>null</td><td>false</td><td>Wed Oct 25 2023 00:56:16 GMT+0200 (Central European Summer Time)</td><td>flash</td><td>286128</td><td>false</td><td>false</td><td>false</td><td>vl-16</td><td>null</td><td>0</td><td>verticallife</td><td>4</td><td>null</td><td>null</td><td>332094</td><td>0</td><td>4414902</td><td>0</td><td>null</td><td>Wed Mar 30 2022 19:00:24 GMT+0200 (Central European Summer Time)</td><td>0</td><td>6A</td><td>null</td><td></td><td>null</td><td>0</td><td>1</td><td>69</td><td>null</td><td>null</td><td>2022-03-30 12:00:00 +0000</td><td>null</td><td>null</td><td>4593930</td><td>false</td><td></td><td>230474</td><td>2022</td><td>121,188,232,182,444,185,506,184,514,311,470,489,235,479,138,504,143,350,121,189</td><td>41800.4.</td><td>[object Object]</td><td>null</td><td>B4.</td><td>Bouldering, B Sektionen</td><td>font</td><td>true</td><td>4</td><td>null</td><td>2022-05-12 08:25:22 +0000</td><td>734</td><td>[object Object]</td><td>false</td><td>Yellow</td><td>69</td><td>e6411c2ffc69fdad028b8408b295e45c</td><td>vl-16</td><td>#ffd700</td><td>null</td><td>3</td><td>true</td><td>vl-1,2,vl-2,2+,vl-3,3-,vl-4,3,vl-5,3+,vl-6,4-,vl-7,4,vl-8,4+,vl-9,5-,vl-12,5,vl-14,5+,vl-16,6A,vl-17,6A+,vl-18,6B,vl-19,6B+,vl-21,6C,vl-22,6C+,vl-23,7A,vl-24,7A+,vl-25,7B,vl-26,7B+,vl-27,7C,vl-28,7C+,vl-29,8A,vl-30,8A+,vl-31,8B,vl-32,8B+,vl-33,8C,vl-34,8C+</td><td>2022-03-29 07:11:56 +0000</td><td>null</td><td>6A</td><td>B Sektionen</td><td></td><td>null</td><td>Bouldering</td><td>971</td><td>false</td><td>null</td><td>219</td><td>gym_boulder</td><td>Benjamin Schlobohm</td><td>null</td><td>332094</td><td>https://zlag.vertical-life.info/en/routes/7a27adc8baf8346da01c19e99280ff1f</td><td>Tue Mar 29 2022 09:11:42 GMT+0200 (Central European Summer Time)</td><td>60</td></tr><tr><td>null</td><td>GymBoulder</td><td>Black</td><td>103</td><td>null</td><td>133113</td><td>Klättercentret Solna</td><td>font</td><td>null</td><td>null</td><td>null</td><td>null</td><td>false</td><td>Wed Oct 25 2023 00:56:16 GMT+0200 (Central European Summer Time)</td><td>flash</td><td>286128</td><td>false</td><td>false</td><td>false</td><td>vl-7</td><td>null</td><td>0</td><td>verticallife</td><td>4</td><td>null</td><td>null</td><td>332083</td><td>0</td><td>4414955</td><td>0</td><td>null</td><td>Wed Mar 30 2022 19:10:25 GMT+0200 (Central European Summer Time)</td><td>0</td><td>4</td><td>null</td><td></td><td>null</td><td>0</td><td>1</td><td>69</td><td>null</td><td>null</td><td>2022-03-30 12:00:00 +0000</td><td>null</td><td>null</td><td>4594252</td><td>false</td><td></td><td>230474</td><td>2022</td><td>508,187,689,184,847,182,931,514,470,491,515,312,508,186</td><td>41800.3.</td><td>[object Object]</td><td>null</td><td>B3.</td><td>Bouldering, B Sektionen</td><td>font</td><td>true</td><td>3</td><td>null</td><td>2022-05-12 08:25:26 +0000</td><td>734</td><td>[object Object]</td><td>false</td><td>Black</td><td>69</td><td>e6411c2ffc69fdad028b8408b295e45c</td><td>vl-7</td><td>#000000</td><td>null</td><td>3</td><td>true</td><td>vl-1,2,vl-2,2+,vl-3,3-,vl-4,3,vl-5,3+,vl-6,4-,vl-7,4,vl-8,4+,vl-9,5-,vl-12,5,vl-14,5+,vl-16,6A,vl-17,6A+,vl-18,6B,vl-19,6B+,vl-21,6C,vl-22,6C+,vl-23,7A,vl-24,7A+,vl-25,7B,vl-26,7B+,vl-27,7C,vl-28,7C+,vl-29,8A,vl-30,8A+,vl-31,8B,vl-32,8B+,vl-33,8C,vl-34,8C+</td><td>2022-03-29 07:06:38 +0000</td><td>null</td><td>4</td><td>B Sektionen</td><td></td><td>null</td><td>Bouldering</td><td>971</td><td>false</td><td>null</td><td>219</td><td>gym_boulder</td><td>Anton Cuevas</td><td>null</td><td>332083</td><td>https://zlag.vertical-life.info/en/routes/b26b626e6742e71a7da43febc560024c</td><td>Tue Mar 29 2022 09:06:18 GMT+0200 (Central European Summer Time)</td><td>36</td></tr><tr><td>null</td><td>GymBoulder</td><td>Turquoise SIT</td><td>402</td><td>null</td><td>133113</td><td>Klättercentret Solna</td><td>font</td><td>null</td><td>null</td><td>null</td><td>null</td><td>false</td><td>Wed Oct 25 2023 00:37:40 GMT+0200 (Central European Summer Time)</td><td>redpoint</td><td>286128</td><td>false</td><td>false</td><td>false</td><td>vl-16</td><td>null</td><td>0</td><td>verticallife</td><td>4</td><td>null</td><td>null</td><td>331411</td><td>0</td><td>4448471</td><td>0</td><td>null</td><td>Sun Apr 10 2022 15:40:16 GMT+0200 (Central European Summer Time)</td><td>0</td><td>6A</td><td>null</td><td></td><td>null</td><td>0</td><td>2</td><td>69</td><td>null</td><td>null</td><td>2022-04-10 12:00:00 +0000</td><td>null</td><td>null</td><td>4244308</td><td>false</td><td></td><td>230474</td><td>2022</td><td>291,182,302,300,294,520,382,504,507,502,721,526,720,489,733,183,565,180,291,182</td><td>41797.2.</td><td>[object Object]</td><td>null</td><td>A2.</td><td>Bouldering, A Sektionen</td><td>font</td><td>true</td><td>2</td><td>null</td><td>2022-06-16 08:51:20 +0000</td><td>733</td><td>[object Object]</td><td>false</td><td>Turquoise SIT</td><td>69</td><td>e56970f2e4e002f62f72f0061adfa987</td><td>vl-16</td><td>#87ccc6</td><td>null</td><td>7</td><td>true</td><td>vl-1,2,vl-2,2+,vl-3,3-,vl-4,3,vl-5,3+,vl-6,4-,vl-7,4,vl-8,4+,vl-9,5-,vl-12,5,vl-14,5+,vl-16,6A,vl-17,6A+,vl-18,6B,vl-19,6B+,vl-21,6C,vl-22,6C+,vl-23,7A,vl-24,7A+,vl-25,7B,vl-26,7B+,vl-27,7C,vl-28,7C+,vl-29,8A,vl-30,8A+,vl-31,8B,vl-32,8B+,vl-33,8C,vl-34,8C+</td><td>2022-03-25 10:20:23 +0000</td><td>null</td><td>6A</td><td>A Sektionen</td><td></td><td>null</td><td>Bouldering</td><td>971</td><td>false</td><td>null</td><td>219</td><td>gym_boulder</td><td>Stina Dorwarth</td><td>true</td><td>331411</td><td>https://zlag.vertical-life.info/en/routes/77e9bf555132c6c61b4b988b91d2721d</td><td>Fri Mar 25 2022 11:20:08 GMT+0100 (Central European Standard Time)</td><td>60</td></tr><tr><td>null</td><td>GymBoulder</td><td>Turquoise</td><td>253</td><td>null</td><td>133113</td><td>Klättercentret Solna</td><td>font</td><td>null</td><td>null</td><td>null</td><td>null</td><td>false</td><td>Wed Oct 25 2023 00:31:12 GMT+0200 (Central European Summer Time)</td><td>flash</td><td>286128</td><td>false</td><td>false</td><td>false</td><td>vl-12</td><td>null</td><td>0</td><td>verticallife</td><td>4</td><td>null</td><td>null</td><td>323153</td><td>0</td><td>4458244</td><td>null</td><td>null</td><td>Wed Apr 13 2022 19:43:19 GMT+0200 (Central European Summer Time)</td><td>0</td><td>5</td><td>null</td><td></td><td>null</td><td>0</td><td>1</td><td>69</td><td>null</td><td>null</td><td>2022-04-13 12:00:00 +0000</td><td>null</td><td>null</td><td>4124086</td><td>false</td><td></td><td>230474</td><td>2022</td><td>31,186,17,521,142,506,268,496,335,500,336,420,335,392,327,340,346,253,312,177,217,180,86,191,31,187</td><td>41798.8.</td><td>[object Object]</td><td>null</td><td>A8.</td><td>Bouldering, A Sektionen</td><td>font</td><td>true</td><td>8</td><td>null</td><td>2022-05-09 07:22:13 +0000</td><td>733</td><td>[object Object]</td><td>false</td><td>Turquoise</td><td>69</td><td>5c34763248de2c434a96e3fd1bd72118</td><td>vl-12</td><td>#87ccc6</td><td>null</td><td>7</td><td>true</td><td>vl-1,2,vl-2,2+,vl-3,3-,vl-4,3,vl-5,3+,vl-6,4-,vl-7,4,vl-8,4+,vl-9,5-,vl-12,5,vl-14,5+,vl-16,6A,vl-17,6A+,vl-18,6B,vl-19,6B+,vl-21,6C,vl-22,6C+,vl-23,7A,vl-24,7A+,vl-25,7B,vl-26,7B+,vl-27,7C,vl-28,7C+,vl-29,8A,vl-30,8A+,vl-31,8B,vl-32,8B+,vl-33,8C,vl-34,8C+</td><td>2022-02-24 15:49:53 +0000</td><td>null</td><td>5</td><td>A Sektionen</td><td></td><td>null</td><td>Bouldering</td><td>971</td><td>false</td><td>null</td><td>219</td><td>gym_boulder</td><td>Anton Cuevas</td><td>null</td><td>323153</td><td>https://zlag.vertical-life.info/en/routes/826e1884ffc35cd53eb8c39c3f9b1f7a</td><td>Thu Feb 24 2022 16:49:19 GMT+0100 (Central European Standard Time)</td><td>48</td></tr><tr><td>null</td><td>GymBoulder</td><td>Turquoise</td><td>103</td><td>null</td><td>133113</td><td>Klättercentret Solna</td><td>font</td><td>null</td><td>null</td><td>null</td><td>null</td><td>false</td><td>Wed Oct 25 2023 00:25:47 GMT+0200 (Central European Summer Time)</td><td>flash</td><td>286128</td><td>false</td><td>false</td><td>false</td><td>vl-7</td><td>null</td><td>0</td><td>verticallife</td><td>4</td><td>null</td><td>null</td><td>336041</td><td>0</td><td>4458300</td><td>null</td><td>null</td><td>Wed Apr 13 2022 19:53:33 GMT+0200 (Central European Summer Time)</td><td>0</td><td>4</td><td>null</td><td>a</td><td>null</td><td>0</td><td>1</td><td>69</td><td>null</td><td>null</td><td>2022-04-13 12:00:00 +0000</td><td>null</td><td>null</td><td>4024414</td><td>false</td><td></td><td>230474</td><td>2022</td><td>39,175,422,183,456,589,77,584,40,175</td><td>41802.6.</td><td>[object Object]</td><td>null</td><td>B6.</td><td>Bouldering, B Sektionen</td><td>font</td><td>true</td><td>6</td><td>null</td><td>2022-06-02 09:28:43 +0000</td><td>734</td><td>[object Object]</td><td>false</td><td>Turquoise</td><td>69</td><td>abd490d1d42d11879845d640b480b7b2</td><td>vl-7</td><td>#87ccc6</td><td>null</td><td>3</td><td>true</td><td>vl-1,2,vl-2,2+,vl-3,3-,vl-4,3,vl-5,3+,vl-6,4-,vl-7,4,vl-8,4+,vl-9,5-,vl-12,5,vl-14,5+,vl-16,6A,vl-17,6A+,vl-18,6B,vl-19,6B+,vl-21,6C,vl-22,6C+,vl-23,7A,vl-24,7A+,vl-25,7B,vl-26,7B+,vl-27,7C,vl-28,7C+,vl-29,8A,vl-30,8A+,vl-31,8B,vl-32,8B+,vl-33,8C,vl-34,8C+</td><td>2022-04-11 15:34:08 +0000</td><td>null</td><td>4</td><td>B Sektionen</td><td></td><td>a</td><td>Bouldering</td><td>971</td><td>false</td><td>null</td><td>219</td><td>gym_boulder</td><td>Anton Cuevas</td><td>null</td><td>336041</td><td>https://zlag.vertical-life.info/en/routes/1096a2a850f498233e775e752c42bbdb</td><td>Mon Apr 11 2022 17:32:20 GMT+0200 (Central European Summer Time)</td><td>36</td></tr><tr><td>null</td><td>GymBoulder</td><td>Red</td><td>103</td><td>null</td><td>133113</td><td>Klättercentret Solna</td><td>font</td><td>null</td><td>null</td><td>null</td><td>null</td><td>false</td><td>Wed Oct 25 2023 00:25:47 GMT+0200 (Central European Summer Time)</td><td>flash</td><td>286128</td><td>false</td><td>false</td><td>false</td><td>vl-8</td><td>null</td><td>0</td><td>verticallife</td><td>4</td><td>null</td><td>null</td><td>336603</td><td>0</td><td>4458315</td><td>null</td><td>null</td><td>Wed Apr 13 2022 19:56:43 GMT+0200 (Central European Summer Time)</td><td>0</td><td>4+</td><td>null</td><td></td><td>null</td><td>0</td><td>1</td><td>69</td><td>null</td><td>null</td><td>2022-04-13 12:00:00 +0000</td><td>null</td><td>null</td><td>4024412</td><td>false</td><td></td><td>230474</td><td>2022</td><td>121,188,232,182,444,185,506,184,514,311,470,489,235,479,138,504,143,350,121,189</td><td>41800.4.</td><td>[object Object]</td><td>null</td><td>B4.</td><td>Bouldering, B Sektionen</td><td>font</td><td>true</td><td>4</td><td>null</td><td>2022-05-12 08:25:25 +0000</td><td>734</td><td>[object Object]</td><td>false</td><td>Red</td><td>69</td><td>e6411c2ffc69fdad028b8408b295e45c</td><td>vl-8</td><td>#ff0000</td><td>null</td><td>3</td><td>true</td><td>vl-1,2,vl-2,2+,vl-3,3-,vl-4,3,vl-5,3+,vl-6,4-,vl-7,4,vl-8,4+,vl-9,5-,vl-12,5,vl-14,5+,vl-16,6A,vl-17,6A+,vl-18,6B,vl-19,6B+,vl-21,6C,vl-22,6C+,vl-23,7A,vl-24,7A+,vl-25,7B,vl-26,7B+,vl-27,7C,vl-28,7C+,vl-29,8A,vl-30,8A+,vl-31,8B,vl-32,8B+,vl-33,8C,vl-34,8C+</td><td>2022-04-13 13:50:24 +0000</td><td>null</td><td>4+</td><td>B Sektionen</td><td></td><td>null</td><td>Bouldering</td><td>971</td><td>false</td><td>null</td><td>219</td><td>gym_boulder</td><td>Anton Cuevas</td><td>null</td><td>336603</td><td>https://zlag.vertical-life.info/en/routes/a4bf6d739fba379fc18d39e356c33660</td><td>Wed Apr 13 2022 15:50:08 GMT+0200 (Central European Summer Time)</td><td>42</td></tr><tr><td>null</td><td>GymBoulder</td><td>Yellow</td><td>103</td><td>null</td><td>133113</td><td>Klättercentret Solna</td><td>font</td><td>null</td><td>null</td><td>null</td><td>null</td><td>false</td><td>Wed Oct 25 2023 00:58:47 GMT+0200 (Central European Summer Time)</td><td>flash</td><td>286128</td><td>false</td><td>false</td><td>false</td><td>vl-7</td><td>null</td><td>0</td><td>verticallife</td><td>4</td><td>null</td><td>null</td><td>336607</td><td>0</td><td>4458337</td><td>null</td><td>null</td><td>Wed Apr 13 2022 20:06:24 GMT+0200 (Central European Summer Time)</td><td>0</td><td>4</td><td>null</td><td></td><td>null</td><td>0</td><td>1</td><td>69</td><td>null</td><td>null</td><td>2022-04-13 12:00:00 +0000</td><td>null</td><td>null</td><td>4638897</td><td>false</td><td></td><td>230474</td><td>2022</td><td>508,187,689,184,847,182,931,514,470,491,515,312,508,186</td><td>41800.3.</td><td>[object Object]</td><td>null</td><td>B3.</td><td>Bouldering, B Sektionen</td><td>font</td><td>true</td><td>3</td><td>null</td><td>2022-05-12 08:25:30 +0000</td><td>734</td><td>[object Object]</td><td>false</td><td>Yellow</td><td>69</td><td>e6411c2ffc69fdad028b8408b295e45c</td><td>vl-7</td><td>#ffd700</td><td>null</td><td>3</td><td>true</td><td>vl-1,2,vl-2,2+,vl-3,3-,vl-4,3,vl-5,3+,vl-6,4-,vl-7,4,vl-8,4+,vl-9,5-,vl-12,5,vl-14,5+,vl-16,6A,vl-17,6A+,vl-18,6B,vl-19,6B+,vl-21,6C,vl-22,6C+,vl-23,7A,vl-24,7A+,vl-25,7B,vl-26,7B+,vl-27,7C,vl-28,7C+,vl-29,8A,vl-30,8A+,vl-31,8B,vl-32,8B+,vl-33,8C,vl-34,8C+</td><td>2022-04-13 13:52:03 +0000</td><td>null</td><td>4</td><td>B Sektionen</td><td></td><td>null</td><td>Bouldering</td><td>971</td><td>false</td><td>null</td><td>219</td><td>gym_boulder</td><td>Benjamin Schlobohm</td><td>null</td><td>336607</td><td>https://zlag.vertical-life.info/en/routes/f810efaef99561cf4a934d65c7a43aee</td><td>Wed Apr 13 2022 15:51:48 GMT+0200 (Central European Summer Time)</td><td>36</td></tr><tr><td>null</td><td>GymBoulder</td><td>Magenta</td><td>200</td><td>null</td><td>133113</td><td>Klättercentret Solna</td><td>font</td><td>null</td><td>null</td><td>null</td><td>null</td><td>false</td><td>Wed Oct 25 2023 00:25:47 GMT+0200 (Central European Summer Time)</td><td>redpoint</td><td>286128</td><td>false</td><td>false</td><td>false</td><td>vl-12</td><td>null</td><td>0</td><td>verticallife</td><td>4</td><td>null</td><td>null</td><td>328182</td><td>0</td><td>4458357</td><td>null</td><td>null</td><td>Wed Apr 13 2022 20:13:28 GMT+0200 (Central European Summer Time)</td><td>0</td><td>5</td><td>null</td><td></td><td>null</td><td>0</td><td>1</td><td>69</td><td>null</td><td>null</td><td>2022-04-13 12:00:00 +0000</td><td>null</td><td>null</td><td>4024680</td><td>false</td><td></td><td>230474</td><td>2022</td><td>4,150,164,170,381,190,383,542,219,571,2,609,6,152</td><td>41801.2.</td><td>[object Object]</td><td>null</td><td>B2.</td><td>Bouldering, B Sektionen</td><td>font</td><td>true</td><td>2</td><td>null</td><td>2022-04-28 08:42:29 +0000</td><td>734</td><td>[object Object]</td><td>false</td><td>Magenta</td><td>69</td><td>1e2bd49546a1ab26033e6eca6a575fad</td><td>vl-12</td><td>#f912f3</td><td>null</td><td>3</td><td>true</td><td>vl-1,2,vl-2,2+,vl-3,3-,vl-4,3,vl-5,3+,vl-6,4-,vl-7,4,vl-8,4+,vl-9,5-,vl-12,5,vl-14,5+,vl-16,6A,vl-17,6A+,vl-18,6B,vl-19,6B+,vl-21,6C,vl-22,6C+,vl-23,7A,vl-24,7A+,vl-25,7B,vl-26,7B+,vl-27,7C,vl-28,7C+,vl-29,8A,vl-30,8A+,vl-31,8B,vl-32,8B+,vl-33,8C,vl-34,8C+</td><td>2022-03-15 06:26:35 +0000</td><td>null</td><td>5</td><td>B Sektionen</td><td></td><td>null</td><td>Bouldering</td><td>971</td><td>false</td><td>null</td><td>219</td><td>gym_boulder</td><td>N.N.</td><td>null</td><td>328182</td><td>https://zlag.vertical-life.info/en/routes/abee342e114d41f12ef03cde682e50eb</td><td>Tue Mar 15 2022 07:26:08 GMT+0100 (Central European Standard Time)</td><td>48</td></tr><tr><td>null</td><td>GymBoulder</td><td>Magenta</td><td>200</td><td>null</td><td>133113</td><td>Klättercentret Solna</td><td>font</td><td>null</td><td>null</td><td>null</td><td>null</td><td>false</td><td>Wed Oct 25 2023 00:25:47 GMT+0200 (Central European Summer Time)</td><td>redpoint</td><td>286128</td><td>false</td><td>false</td><td>false</td><td>vl-12</td><td>null</td><td>0</td><td>verticallife</td><td>4</td><td>null</td><td>null</td><td>328182</td><td>0</td><td>4458357</td><td>null</td><td>null</td><td>Wed Apr 13 2022 20:13:28 GMT+0200 (Central European Summer Time)</td><td>0</td><td>5</td><td>null</td><td></td><td>null</td><td>0</td><td>1</td><td>69</td><td>null</td><td>null</td><td>2022-04-13 12:00:00 +0000</td><td>null</td><td>null</td><td>4024680</td><td>false</td><td></td><td>230474</td><td>2022</td><td>4,150,164,170,381,190,383,542,219,571,2,609,6,152</td><td>41801.2.</td><td>[object Object]</td><td>null</td><td>B2.</td><td>Bouldering, B Sektionen</td><td>font</td><td>true</td><td>2</td><td>null</td><td>2022-04-28 08:42:29 +0000</td><td>734</td><td>[object Object]</td><td>false</td><td>Magenta</td><td>69</td><td>1e2bd49546a1ab26033e6eca6a575fad</td><td>vl-12</td><td>#f912f3</td><td>null</td><td>3</td><td>true</td><td>vl-1,2,vl-2,2+,vl-3,3-,vl-4,3,vl-5,3+,vl-6,4-,vl-7,4,vl-8,4+,vl-9,5-,vl-12,5,vl-14,5+,vl-16,6A,vl-17,6A+,vl-18,6B,vl-19,6B+,vl-21,6C,vl-22,6C+,vl-23,7A,vl-24,7A+,vl-25,7B,vl-26,7B+,vl-27,7C,vl-28,7C+,vl-29,8A,vl-30,8A+,vl-31,8B,vl-32,8B+,vl-33,8C,vl-34,8C+</td><td>2022-03-15 06:26:35 +0000</td><td>null</td><td>5</td><td>B Sektionen</td><td></td><td>null</td><td>Bouldering</td><td>971</td><td>false</td><td>null</td><td>219</td><td>gym_boulder</td><td>N.N.</td><td>null</td><td>328182</td><td>https://zlag.vertical-life.info/en/routes/abee342e114d41f12ef03cde682e50eb</td><td>Tue Mar 15 2022 07:26:08 GMT+0100 (Central European Standard Time)</td><td>48</td></tr><tr><td>null</td><td>GymBoulder</td><td>Bright Pink</td><td>353</td><td>null</td><td>133113</td><td>Klättercentret Solna</td><td>font</td><td>null</td><td>null</td><td>null</td><td>null</td><td>false</td><td>Wed Oct 25 2023 00:31:12 GMT+0200 (Central European Summer Time)</td><td>flash</td><td>286128</td><td>false</td><td>false</td><td>false</td><td>vl-14</td><td>null</td><td>0</td><td>verticallife</td><td>4</td><td>null</td><td>null</td><td>336611</td><td>0</td><td>4458359</td><td>null</td><td>null</td><td>Wed Apr 13 2022 20:13:44 GMT+0200 (Central European Summer Time)</td><td>0</td><td>5+</td><td>null</td><td></td><td>null</td><td>0</td><td>1</td><td>69</td><td>null</td><td>null</td><td>2022-04-13 12:00:00 +0000</td><td>null</td><td>null</td><td>4124165</td><td>false</td><td></td><td>230474</td><td>2022</td><td>423,185,697,176,944,165,884,385,782,584,585,582,456,589,423,186</td><td>41802.5.</td><td>[object Object]</td><td>null</td><td>B5.</td><td>Bouldering, B Sektionen</td><td>font</td><td>true</td><td>5</td><td>null</td><td>2022-06-02 09:28:40 +0000</td><td>734</td><td>[object Object]</td><td>false</td><td>Bright Pink</td><td>69</td><td>abd490d1d42d11879845d640b480b7b2</td><td>vl-14</td><td>#ff00a9</td><td>null</td><td>3</td><td>true</td><td>vl-1,2,vl-2,2+,vl-3,3-,vl-4,3,vl-5,3+,vl-6,4-,vl-7,4,vl-8,4+,vl-9,5-,vl-12,5,vl-14,5+,vl-16,6A,vl-17,6A+,vl-18,6B,vl-19,6B+,vl-21,6C,vl-22,6C+,vl-23,7A,vl-24,7A+,vl-25,7B,vl-26,7B+,vl-27,7C,vl-28,7C+,vl-29,8A,vl-30,8A+,vl-31,8B,vl-32,8B+,vl-33,8C,vl-34,8C+</td><td>2022-04-13 13:53:44 +0000</td><td>null</td><td>5+</td><td>B Sektionen</td><td></td><td>null</td><td>Bouldering</td><td>971</td><td>false</td><td>null</td><td>219</td><td>gym_boulder</td><td>Benjamin Schlobohm</td><td>null</td><td>336611</td><td>https://zlag.vertical-life.info/en/routes/65096b5f5d8e590a06a9dbe413985ca4</td><td>Wed Apr 13 2022 15:53:33 GMT+0200 (Central European Summer Time)</td><td>54</td></tr><tr><td>null</td><td>GymBoulder</td><td>Green</td><td>103</td><td>null</td><td>133113</td><td>Klättercentret Solna</td><td>font</td><td>null</td><td>null</td><td>null</td><td>null</td><td>false</td><td>Wed Oct 25 2023 00:31:12 GMT+0200 (Central European Summer Time)</td><td>flash</td><td>286128</td><td>false</td><td>false</td><td>false</td><td>vl-4</td><td>null</td><td>0</td><td>verticallife</td><td>4</td><td>null</td><td>null</td><td>336040</td><td>0</td><td>4458450</td><td>null</td><td>null</td><td>Wed Apr 13 2022 20:35:11 GMT+0200 (Central European Summer Time)</td><td>0</td><td>3</td><td>null</td><td>ae</td><td>null</td><td>0</td><td>1</td><td>69</td><td>null</td><td>null</td><td>2022-04-13 12:00:00 +0000</td><td>null</td><td>null</td><td>4124026</td><td>false</td><td></td><td>230474</td><td>2022</td><td>39,175,422,183,456,589,77,584,40,175</td><td>41802.6.</td><td>[object Object]</td><td>null</td><td>B6.</td><td>Bouldering, B Sektionen</td><td>font</td><td>true</td><td>6</td><td>null</td><td>2022-06-02 09:28:42 +0000</td><td>734</td><td>[object Object]</td><td>false</td><td>Green</td><td>69</td><td>abd490d1d42d11879845d640b480b7b2</td><td>vl-4</td><td>#32cd32</td><td>null</td><td>3</td><td>true</td><td>vl-1,2,vl-2,2+,vl-3,3-,vl-4,3,vl-5,3+,vl-6,4-,vl-7,4,vl-8,4+,vl-9,5-,vl-12,5,vl-14,5+,vl-16,6A,vl-17,6A+,vl-18,6B,vl-19,6B+,vl-21,6C,vl-22,6C+,vl-23,7A,vl-24,7A+,vl-25,7B,vl-26,7B+,vl-27,7C,vl-28,7C+,vl-29,8A,vl-30,8A+,vl-31,8B,vl-32,8B+,vl-33,8C,vl-34,8C+</td><td>2022-04-11 15:32:16 +0000</td><td>null</td><td>3</td><td>B Sektionen</td><td></td><td>ae</td><td>Bouldering</td><td>971</td><td>false</td><td>null</td><td>219</td><td>gym_boulder</td><td>Anton Cuevas</td><td>null</td><td>336040</td><td>https://zlag.vertical-life.info/en/routes/793722686da36699d87ac312b6696b29</td><td>Mon Apr 11 2022 17:31:51 GMT+0200 (Central European Summer Time)</td><td>24</td></tr><tr><td>null</td><td>GymBoulder</td><td>Black</td><td>103</td><td>null</td><td>133113</td><td>Klättercentret Solna</td><td>font</td><td>null</td><td>null</td><td>null</td><td>null</td><td>false</td><td>Wed Oct 25 2023 01:00:54 GMT+0200 (Central European Summer Time)</td><td>flash</td><td>286128</td><td>false</td><td>false</td><td>false</td><td>vl-8</td><td>null</td><td>0</td><td>verticallife</td><td>4</td><td>null</td><td>null</td><td>332863</td><td>0</td><td>4495281</td><td>null</td><td>null</td><td>Wed Apr 27 2022 21:19:13 GMT+0200 (Central European Summer Time)</td><td>0</td><td>4+</td><td>null</td><td></td><td>null</td><td>0</td><td>1</td><td>69</td><td>null</td><td>null</td><td>2022-04-27 12:00:00 +0000</td><td>null</td><td>null</td><td>4680735</td><td>false</td><td></td><td>230474</td><td>2022</td><td>49,118,163,579,162,638,511,651,513,588,512,71,51,120</td><td>41799.5.</td><td>[object Object]</td><td>null</td><td>A5.</td><td>Bouldering, A Sektionen</td><td>font</td><td>true</td><td>5</td><td>null</td><td>2022-05-19 14:29:10 +0000</td><td>733</td><td>[object Object]</td><td>false</td><td>Black</td><td>69</td><td>9ba3d48c8e121f154d4f49754e525ba8</td><td>vl-8</td><td>#000000</td><td>null</td><td>7</td><td>true</td><td>vl-1,2,vl-2,2+,vl-3,3-,vl-4,3,vl-5,3+,vl-6,4-,vl-7,4,vl-8,4+,vl-9,5-,vl-12,5,vl-14,5+,vl-16,6A,vl-17,6A+,vl-18,6B,vl-19,6B+,vl-21,6C,vl-22,6C+,vl-23,7A,vl-24,7A+,vl-25,7B,vl-26,7B+,vl-27,7C,vl-28,7C+,vl-29,8A,vl-30,8A+,vl-31,8B,vl-32,8B+,vl-33,8C,vl-34,8C+</td><td>2022-03-31 10:24:45 +0000</td><td>null</td><td>4+</td><td>A Sektionen</td><td></td><td>null</td><td>Bouldering</td><td>971</td><td>false</td><td>null</td><td>219</td><td>gym_boulder</td><td>Stina Dorwarth</td><td>null</td><td>332863</td><td>https://zlag.vertical-life.info/en/routes/d0991b49faa6d87023ce5482d7251001</td><td>Thu Mar 31 2022 12:24:18 GMT+0200 (Central European Summer Time)</td><td>42</td></tr><tr><td>null</td><td>GymBoulder</td><td>Black</td><td>103</td><td>null</td><td>133113</td><td>Klättercentret Solna</td><td>font</td><td>null</td><td>null</td><td>null</td><td>null</td><td>false</td><td>Wed Oct 25 2023 01:00:54 GMT+0200 (Central European Summer Time)</td><td>flash</td><td>286128</td><td>false</td><td>false</td><td>false</td><td>vl-8</td><td>null</td><td>0</td><td>verticallife</td><td>4</td><td>null</td><td>null</td><td>332863</td><td>0</td><td>4495281</td><td>null</td><td>null</td><td>Wed Apr 27 2022 21:19:13 GMT+0200 (Central European Summer Time)</td><td>0</td><td>4+</td><td>null</td><td></td><td>null</td><td>0</td><td>1</td><td>69</td><td>null</td><td>null</td><td>2022-04-27 12:00:00 +0000</td><td>null</td><td>null</td><td>4680735</td><td>false</td><td></td><td>230474</td><td>2022</td><td>49,118,163,579,162,638,511,651,513,588,512,71,51,120</td><td>41799.5.</td><td>[object Object]</td><td>null</td><td>A5.</td><td>Bouldering, A Sektionen</td><td>font</td><td>true</td><td>5</td><td>null</td><td>2022-05-19 14:29:10 +0000</td><td>733</td><td>[object Object]</td><td>false</td><td>Black</td><td>69</td><td>9ba3d48c8e121f154d4f49754e525ba8</td><td>vl-8</td><td>#000000</td><td>null</td><td>7</td><td>true</td><td>vl-1,2,vl-2,2+,vl-3,3-,vl-4,3,vl-5,3+,vl-6,4-,vl-7,4,vl-8,4+,vl-9,5-,vl-12,5,vl-14,5+,vl-16,6A,vl-17,6A+,vl-18,6B,vl-19,6B+,vl-21,6C,vl-22,6C+,vl-23,7A,vl-24,7A+,vl-25,7B,vl-26,7B+,vl-27,7C,vl-28,7C+,vl-29,8A,vl-30,8A+,vl-31,8B,vl-32,8B+,vl-33,8C,vl-34,8C+</td><td>2022-03-31 10:24:45 +0000</td><td>null</td><td>4+</td><td>A Sektionen</td><td></td><td>null</td><td>Bouldering</td><td>971</td><td>false</td><td>null</td><td>219</td><td>gym_boulder</td><td>Stina Dorwarth</td><td>null</td><td>332863</td><td>https://zlag.vertical-life.info/en/routes/d0991b49faa6d87023ce5482d7251001</td><td>Thu Mar 31 2022 12:24:18 GMT+0200 (Central European Summer Time)</td><td>42</td></tr><tr><td>null</td><td>GymBoulder</td><td>Terracotta</td><td>450</td><td>null</td><td>133113</td><td>Klättercentret Solna</td><td>font</td><td>null</td><td>null</td><td>null</td><td>null</td><td>false</td><td>Wed Oct 25 2023 01:04:05 GMT+0200 (Central European Summer Time)</td><td>redpoint</td><td>286128</td><td>false</td><td>false</td><td>false</td><td>vl-17</td><td>null</td><td>0</td><td>verticallife</td><td>4</td><td>null</td><td>null</td><td>330233</td><td>0</td><td>4495287</td><td>null</td><td>null</td><td>Wed Apr 27 2022 21:19:56 GMT+0200 (Central European Summer Time)</td><td>0</td><td>6A+</td><td>null</td><td></td><td>null</td><td>0</td><td>3</td><td>69</td><td>null</td><td>null</td><td>2022-04-27 12:00:00 +0000</td><td>null</td><td>null</td><td>4739866</td><td>false</td><td></td><td>230474</td><td>2022</td><td>4,150,164,170,381,190,383,542,219,571,2,609,6,152</td><td>41801.2.</td><td>[object Object]</td><td>null</td><td>B2.</td><td>Bouldering, B Sektionen</td><td>font</td><td>true</td><td>2</td><td>null</td><td>2022-04-28 08:42:29 +0000</td><td>734</td><td>[object Object]</td><td>false</td><td>Terracotta</td><td>69</td><td>1e2bd49546a1ab26033e6eca6a575fad</td><td>vl-17</td><td>#ee9b6e</td><td>null</td><td>3</td><td>true</td><td>vl-1,2,vl-2,2+,vl-3,3-,vl-4,3,vl-5,3+,vl-6,4-,vl-7,4,vl-8,4+,vl-9,5-,vl-12,5,vl-14,5+,vl-16,6A,vl-17,6A+,vl-18,6B,vl-19,6B+,vl-21,6C,vl-22,6C+,vl-23,7A,vl-24,7A+,vl-25,7B,vl-26,7B+,vl-27,7C,vl-28,7C+,vl-29,8A,vl-30,8A+,vl-31,8B,vl-32,8B+,vl-33,8C,vl-34,8C+</td><td>2022-03-22 07:08:15 +0000</td><td>null</td><td>6A+</td><td>B Sektionen</td><td></td><td>null</td><td>Bouldering</td><td>971</td><td>false</td><td>null</td><td>219</td><td>gym_boulder</td><td>Benjamin Schlobohm</td><td>null</td><td>330233</td><td>https://zlag.vertical-life.info/en/routes/beea70fd1d4a299036e8e00d139b39ac</td><td>Tue Mar 22 2022 08:07:59 GMT+0100 (Central European Standard Time)</td><td>66</td></tr><tr><td>null</td><td>GymBoulder</td><td>Terracotta</td><td>450</td><td>null</td><td>133113</td><td>Klättercentret Solna</td><td>font</td><td>null</td><td>null</td><td>null</td><td>null</td><td>false</td><td>Wed Oct 25 2023 01:04:05 GMT+0200 (Central European Summer Time)</td><td>redpoint</td><td>286128</td><td>false</td><td>false</td><td>false</td><td>vl-17</td><td>null</td><td>0</td><td>verticallife</td><td>4</td><td>null</td><td>null</td><td>330233</td><td>0</td><td>4495287</td><td>null</td><td>null</td><td>Wed Apr 27 2022 21:19:56 GMT+0200 (Central European Summer Time)</td><td>0</td><td>6A+</td><td>null</td><td></td><td>null</td><td>0</td><td>3</td><td>69</td><td>null</td><td>null</td><td>2022-04-27 12:00:00 +0000</td><td>null</td><td>null</td><td>4739866</td><td>false</td><td></td><td>230474</td><td>2022</td><td>4,150,164,170,381,190,383,542,219,571,2,609,6,152</td><td>41801.2.</td><td>[object Object]</td><td>null</td><td>B2.</td><td>Bouldering, B Sektionen</td><td>font</td><td>true</td><td>2</td><td>null</td><td>2022-04-28 08:42:29 +0000</td><td>734</td><td>[object Object]</td><td>false</td><td>Terracotta</td><td>69</td><td>1e2bd49546a1ab26033e6eca6a575fad</td><td>vl-17</td><td>#ee9b6e</td><td>null</td><td>3</td><td>true</td><td>vl-1,2,vl-2,2+,vl-3,3-,vl-4,3,vl-5,3+,vl-6,4-,vl-7,4,vl-8,4+,vl-9,5-,vl-12,5,vl-14,5+,vl-16,6A,vl-17,6A+,vl-18,6B,vl-19,6B+,vl-21,6C,vl-22,6C+,vl-23,7A,vl-24,7A+,vl-25,7B,vl-26,7B+,vl-27,7C,vl-28,7C+,vl-29,8A,vl-30,8A+,vl-31,8B,vl-32,8B+,vl-33,8C,vl-34,8C+</td><td>2022-03-22 07:08:15 +0000</td><td>null</td><td>6A+</td><td>B Sektionen</td><td></td><td>null</td><td>Bouldering</td><td>971</td><td>false</td><td>null</td><td>219</td><td>gym_boulder</td><td>Benjamin Schlobohm</td><td>null</td><td>330233</td><td>https://zlag.vertical-life.info/en/routes/beea70fd1d4a299036e8e00d139b39ac</td><td>Tue Mar 22 2022 08:07:59 GMT+0100 (Central European Standard Time)</td><td>66</td></tr><tr><td>null</td><td>GymBoulder</td><td>Bright yellow</td><td>453</td><td>null</td><td>133113</td><td>Klättercentret Solna</td><td>font</td><td>0</td><td>null</td><td>null</td><td>null</td><td>false</td><td>Wed Oct 25 2023 00:40:27 GMT+0200 (Central European Summer Time)</td><td>flash</td><td>286128</td><td>false</td><td>false</td><td>false</td><td>vl-16</td><td>0</td><td>0</td><td>verticallife</td><td>4</td><td>0</td><td>null</td><td>321157</td><td>0</td><td>4505081</td><td>null</td><td>null</td><td>Sun May 01 2022 15:03:48 GMT+0200 (Central European Summer Time)</td><td>0</td><td>6A</td><td>0</td><td></td><td>0</td><td>0</td><td>1</td><td>69</td><td>null</td><td>null</td><td>2022-05-01 12:00:00 +0000</td><td>null</td><td>null</td><td>4293619</td><td>false</td><td></td><td>230474</td><td>2022</td><td>313,177,348,252,328,339,336,391,336,420,337,500,418,506,464,508,465,471,538,302,474,188,314,177</td><td>41798.7.</td><td>[object Object]</td><td>null</td><td>A7.</td><td>Bouldering, A Sektionen</td><td>font</td><td>true</td><td>7</td><td>null</td><td>2022-05-02 08:36:32 +0000</td><td>733</td><td>[object Object]</td><td>false</td><td>Bright yellow</td><td>69</td><td>5c34763248de2c434a96e3fd1bd72118</td><td>vl-16</td><td>#f0ff00</td><td>null</td><td>7</td><td>true</td><td>vl-1,2,vl-2,2+,vl-3,3-,vl-4,3,vl-5,3+,vl-6,4-,vl-7,4,vl-8,4+,vl-9,5-,vl-12,5,vl-14,5+,vl-16,6A,vl-17,6A+,vl-18,6B,vl-19,6B+,vl-21,6C,vl-22,6C+,vl-23,7A,vl-24,7A+,vl-25,7B,vl-26,7B+,vl-27,7C,vl-28,7C+,vl-29,8A,vl-30,8A+,vl-31,8B,vl-32,8B+,vl-33,8C,vl-34,8C+</td><td>2022-02-17 16:18:44 +0000</td><td>null</td><td>6A</td><td>A Sektionen</td><td></td><td>null</td><td>Bouldering</td><td>971</td><td>false</td><td>null</td><td>219</td><td>gym_boulder</td><td>Benjamin Schlobohm</td><td>null</td><td>321157</td><td>https://zlag.vertical-life.info/en/routes/e4c9e21381e4cbf7ca2370d3443f6859</td><td>Thu Feb 17 2022 17:16:58 GMT+0100 (Central European Standard Time)</td><td>60</td></tr><tr><td>null</td><td>GymBoulder</td><td>Bright yellow</td><td>453</td><td>null</td><td>133113</td><td>Klättercentret Solna</td><td>font</td><td>0</td><td>null</td><td>null</td><td>null</td><td>false</td><td>Wed Oct 25 2023 00:40:27 GMT+0200 (Central European Summer Time)</td><td>flash</td><td>286128</td><td>false</td><td>false</td><td>false</td><td>vl-16</td><td>0</td><td>0</td><td>verticallife</td><td>4</td><td>0</td><td>null</td><td>321157</td><td>0</td><td>4505081</td><td>null</td><td>null</td><td>Sun May 01 2022 15:03:48 GMT+0200 (Central European Summer Time)</td><td>0</td><td>6A</td><td>0</td><td></td><td>0</td><td>0</td><td>1</td><td>69</td><td>null</td><td>null</td><td>2022-05-01 12:00:00 +0000</td><td>null</td><td>null</td><td>4293619</td><td>false</td><td></td><td>230474</td><td>2022</td><td>313,177,348,252,328,339,336,391,336,420,337,500,418,506,464,508,465,471,538,302,474,188,314,177</td><td>41798.7.</td><td>[object Object]</td><td>null</td><td>A7.</td><td>Bouldering, A Sektionen</td><td>font</td><td>true</td><td>7</td><td>null</td><td>2022-05-02 08:36:32 +0000</td><td>733</td><td>[object Object]</td><td>false</td><td>Bright yellow</td><td>69</td><td>5c34763248de2c434a96e3fd1bd72118</td><td>vl-16</td><td>#f0ff00</td><td>null</td><td>7</td><td>true</td><td>vl-1,2,vl-2,2+,vl-3,3-,vl-4,3,vl-5,3+,vl-6,4-,vl-7,4,vl-8,4+,vl-9,5-,vl-12,5,vl-14,5+,vl-16,6A,vl-17,6A+,vl-18,6B,vl-19,6B+,vl-21,6C,vl-22,6C+,vl-23,7A,vl-24,7A+,vl-25,7B,vl-26,7B+,vl-27,7C,vl-28,7C+,vl-29,8A,vl-30,8A+,vl-31,8B,vl-32,8B+,vl-33,8C,vl-34,8C+</td><td>2022-02-17 16:18:44 +0000</td><td>null</td><td>6A</td><td>A Sektionen</td><td></td><td>null</td><td>Bouldering</td><td>971</td><td>false</td><td>null</td><td>219</td><td>gym_boulder</td><td>Benjamin Schlobohm</td><td>null</td><td>321157</td><td>https://zlag.vertical-life.info/en/routes/e4c9e21381e4cbf7ca2370d3443f6859</td><td>Thu Feb 17 2022 17:16:58 GMT+0100 (Central European Standard Time)</td><td>60</td></tr><tr><td>null</td><td>GymBoulder</td><td>Blue</td><td>452</td><td>null</td><td>133113</td><td>Klättercentret Solna</td><td>font</td><td>0</td><td>null</td><td>null</td><td>null</td><td>false</td><td>Wed Oct 25 2023 00:55:26 GMT+0200 (Central European Summer Time)</td><td>flash</td><td>286128</td><td>false</td><td>false</td><td>false</td><td>vl-16</td><td>0</td><td>0</td><td>verticallife</td><td>4</td><td>0</td><td>null</td><td>332945</td><td>0</td><td>4505471</td><td>null</td><td>null</td><td>Sun May 01 2022 16:37:06 GMT+0200 (Central European Summer Time)</td><td>0</td><td>6A</td><td>0</td><td></td><td>0</td><td>0</td><td>1</td><td>69</td><td>null</td><td>null</td><td>2022-05-01 12:00:00 +0000</td><td>null</td><td>null</td><td>4578120</td><td>false</td><td></td><td>230474</td><td>2022</td><td>49,118,163,579,162,638,511,651,513,588,512,71,51,120</td><td>41799.5.</td><td>[object Object]</td><td>null</td><td>A5.</td><td>Bouldering, A Sektionen</td><td>font</td><td>true</td><td>5</td><td>null</td><td>2022-05-19 14:29:15 +0000</td><td>733</td><td>[object Object]</td><td>false</td><td>Blue</td><td>69</td><td>9ba3d48c8e121f154d4f49754e525ba8</td><td>vl-16</td><td>#0000ff</td><td>null</td><td>7</td><td>true</td><td>vl-1,2,vl-2,2+,vl-3,3-,vl-4,3,vl-5,3+,vl-6,4-,vl-7,4,vl-8,4+,vl-9,5-,vl-12,5,vl-14,5+,vl-16,6A,vl-17,6A+,vl-18,6B,vl-19,6B+,vl-21,6C,vl-22,6C+,vl-23,7A,vl-24,7A+,vl-25,7B,vl-26,7B+,vl-27,7C,vl-28,7C+,vl-29,8A,vl-30,8A+,vl-31,8B,vl-32,8B+,vl-33,8C,vl-34,8C+</td><td>2022-03-31 13:38:13 +0000</td><td>null</td><td>6A</td><td>A Sektionen</td><td></td><td>null</td><td>Bouldering</td><td>971</td><td>false</td><td>null</td><td>219</td><td>gym_boulder</td><td>Stina Dorwarth</td><td>null</td><td>332945</td><td>https://zlag.vertical-life.info/en/routes/dea809ac62f3843062fecf47493baf0d</td><td>Thu Mar 31 2022 15:38:03 GMT+0200 (Central European Summer Time)</td><td>60</td></tr><tr><td>null</td><td>GymBoulder</td><td>Blue</td><td>452</td><td>null</td><td>133113</td><td>Klättercentret Solna</td><td>font</td><td>0</td><td>null</td><td>null</td><td>null</td><td>false</td><td>Wed Oct 25 2023 00:55:26 GMT+0200 (Central European Summer Time)</td><td>flash</td><td>286128</td><td>false</td><td>false</td><td>false</td><td>vl-16</td><td>0</td><td>0</td><td>verticallife</td><td>4</td><td>0</td><td>null</td><td>332945</td><td>0</td><td>4505471</td><td>null</td><td>null</td><td>Sun May 01 2022 16:37:06 GMT+0200 (Central European Summer Time)</td><td>0</td><td>6A</td><td>0</td><td></td><td>0</td><td>0</td><td>1</td><td>69</td><td>null</td><td>null</td><td>2022-05-01 12:00:00 +0000</td><td>null</td><td>null</td><td>4578120</td><td>false</td><td></td><td>230474</td><td>2022</td><td>49,118,163,579,162,638,511,651,513,588,512,71,51,120</td><td>41799.5.</td><td>[object Object]</td><td>null</td><td>A5.</td><td>Bouldering, A Sektionen</td><td>font</td><td>true</td><td>5</td><td>null</td><td>2022-05-19 14:29:15 +0000</td><td>733</td><td>[object Object]</td><td>false</td><td>Blue</td><td>69</td><td>9ba3d48c8e121f154d4f49754e525ba8</td><td>vl-16</td><td>#0000ff</td><td>null</td><td>7</td><td>true</td><td>vl-1,2,vl-2,2+,vl-3,3-,vl-4,3,vl-5,3+,vl-6,4-,vl-7,4,vl-8,4+,vl-9,5-,vl-12,5,vl-14,5+,vl-16,6A,vl-17,6A+,vl-18,6B,vl-19,6B+,vl-21,6C,vl-22,6C+,vl-23,7A,vl-24,7A+,vl-25,7B,vl-26,7B+,vl-27,7C,vl-28,7C+,vl-29,8A,vl-30,8A+,vl-31,8B,vl-32,8B+,vl-33,8C,vl-34,8C+</td><td>2022-03-31 13:38:13 +0000</td><td>null</td><td>6A</td><td>A Sektionen</td><td></td><td>null</td><td>Bouldering</td><td>971</td><td>false</td><td>null</td><td>219</td><td>gym_boulder</td><td>Stina Dorwarth</td><td>null</td><td>332945</td><td>https://zlag.vertical-life.info/en/routes/dea809ac62f3843062fecf47493baf0d</td><td>Thu Mar 31 2022 15:38:03 GMT+0200 (Central European Summer Time)</td><td>60</td></tr><tr><td>null</td><td>GymBoulder</td><td>Blue</td><td>452</td><td>null</td><td>133113</td><td>Klättercentret Solna</td><td>font</td><td>0</td><td>null</td><td>null</td><td>null</td><td>false</td><td>Wed Oct 25 2023 00:55:26 GMT+0200 (Central European Summer Time)</td><td>flash</td><td>286128</td><td>false</td><td>false</td><td>false</td><td>vl-16</td><td>0</td><td>0</td><td>verticallife</td><td>4</td><td>0</td><td>null</td><td>332945</td><td>0</td><td>4505471</td><td>null</td><td>null</td><td>Sun May 01 2022 16:37:06 GMT+0200 (Central European Summer Time)</td><td>0</td><td>6A</td><td>0</td><td></td><td>0</td><td>0</td><td>1</td><td>69</td><td>null</td><td>null</td><td>2022-05-01 12:00:00 +0000</td><td>null</td><td>null</td><td>4578120</td><td>false</td><td></td><td>230474</td><td>2022</td><td>49,118,163,579,162,638,511,651,513,588,512,71,51,120</td><td>41799.5.</td><td>[object Object]</td><td>null</td><td>A5.</td><td>Bouldering, A Sektionen</td><td>font</td><td>true</td><td>5</td><td>null</td><td>2022-05-19 14:29:15 +0000</td><td>733</td><td>[object Object]</td><td>false</td><td>Blue</td><td>69</td><td>9ba3d48c8e121f154d4f49754e525ba8</td><td>vl-16</td><td>#0000ff</td><td>null</td><td>7</td><td>true</td><td>vl-1,2,vl-2,2+,vl-3,3-,vl-4,3,vl-5,3+,vl-6,4-,vl-7,4,vl-8,4+,vl-9,5-,vl-12,5,vl-14,5+,vl-16,6A,vl-17,6A+,vl-18,6B,vl-19,6B+,vl-21,6C,vl-22,6C+,vl-23,7A,vl-24,7A+,vl-25,7B,vl-26,7B+,vl-27,7C,vl-28,7C+,vl-29,8A,vl-30,8A+,vl-31,8B,vl-32,8B+,vl-33,8C,vl-34,8C+</td><td>2022-03-31 13:38:13 +0000</td><td>null</td><td>6A</td><td>A Sektionen</td><td></td><td>null</td><td>Bouldering</td><td>971</td><td>false</td><td>null</td><td>219</td><td>gym_boulder</td><td>Stina Dorwarth</td><td>null</td><td>332945</td><td>https://zlag.vertical-life.info/en/routes/dea809ac62f3843062fecf47493baf0d</td><td>Thu Mar 31 2022 15:38:03 GMT+0200 (Central European Summer Time)</td><td>60</td></tr><tr><td>null</td><td>GymBoulder</td><td>White</td><td>103</td><td>null</td><td>133113</td><td>Klättercentret Solna</td><td>font</td><td>0</td><td>null</td><td>null</td><td>null</td><td>false</td><td>Wed Oct 25 2023 01:04:45 GMT+0200 (Central European Summer Time)</td><td>flash</td><td>286128</td><td>false</td><td>false</td><td>false</td><td>vl-8</td><td>0</td><td>0</td><td>verticallife</td><td>4</td><td>0</td><td>null</td><td>339862</td><td>0</td><td>4505476</td><td>null</td><td>null</td><td>Sun May 01 2022 16:37:42 GMT+0200 (Central European Summer Time)</td><td>0</td><td>4+</td><td>0</td><td></td><td>0</td><td>0</td><td>1</td><td>69</td><td>null</td><td>null</td><td>2022-05-01 12:00:00 +0000</td><td>null</td><td>null</td><td>4752204</td><td>false</td><td></td><td>230474</td><td>2022</td><td>4,150,164,170,381,190,383,542,219,571,2,609,6,152</td><td>41801.2.</td><td>[object Object]</td><td>null</td><td>B2.</td><td>Bouldering, B Sektionen</td><td>font</td><td>true</td><td>2</td><td>null</td><td>2022-06-29 06:10:12 +0000</td><td>734</td><td>[object Object]</td><td>false</td><td>White</td><td>69</td><td>1e2bd49546a1ab26033e6eca6a575fad</td><td>vl-8</td><td>#FFFFFF</td><td>null</td><td>3</td><td>true</td><td>vl-1,2,vl-2,2+,vl-3,3-,vl-4,3,vl-5,3+,vl-6,4-,vl-7,4,vl-8,4+,vl-9,5-,vl-12,5,vl-14,5+,vl-16,6A,vl-17,6A+,vl-18,6B,vl-19,6B+,vl-21,6C,vl-22,6C+,vl-23,7A,vl-24,7A+,vl-25,7B,vl-26,7B+,vl-27,7C,vl-28,7C+,vl-29,8A,vl-30,8A+,vl-31,8B,vl-32,8B+,vl-33,8C,vl-34,8C+</td><td>2022-04-28 14:57:52 +0000</td><td>null</td><td>4+</td><td>B Sektionen</td><td></td><td>null</td><td>Bouldering</td><td>971</td><td>false</td><td>null</td><td>219</td><td>gym_boulder</td><td>Benjamin Schlobohm</td><td>null</td><td>339862</td><td>https://zlag.vertical-life.info/en/routes/633546ae4b4a721cde27d59ed59d09ae</td><td>Thu Apr 28 2022 16:57:41 GMT+0200 (Central European Summer Time)</td><td>42</td></tr><tr><td>null</td><td>GymBoulder</td><td>Turquoise</td><td>103</td><td>null</td><td>133113</td><td>Klättercentret Solna</td><td>font</td><td>0</td><td>null</td><td>null</td><td>null</td><td>false</td><td>Wed Oct 25 2023 00:40:36 GMT+0200 (Central European Summer Time)</td><td>flash</td><td>286128</td><td>false</td><td>false</td><td>false</td><td>vl-5</td><td>0</td><td>0</td><td>verticallife</td><td>4</td><td>0</td><td>null</td><td>339864</td><td>0</td><td>4505482</td><td>null</td><td>null</td><td>Sun May 01 2022 16:39:05 GMT+0200 (Central European Summer Time)</td><td>0</td><td>3+</td><td>0</td><td></td><td>0</td><td>0</td><td>1</td><td>69</td><td>null</td><td>null</td><td>2022-05-01 12:00:00 +0000</td><td>null</td><td>null</td><td>4296091</td><td>false</td><td></td><td>230474</td><td>2022</td><td>4,150,164,170,381,190,383,542,219,571,2,609,6,152</td><td>41801.2.</td><td>[object Object]</td><td>null</td><td>B2.</td><td>Bouldering, B Sektionen</td><td>font</td><td>true</td><td>2</td><td>null</td><td>2022-06-29 06:10:13 +0000</td><td>734</td><td>[object Object]</td><td>false</td><td>Turquoise</td><td>69</td><td>1e2bd49546a1ab26033e6eca6a575fad</td><td>vl-5</td><td>#87ccc6</td><td>null</td><td>3</td><td>true</td><td>vl-1,2,vl-2,2+,vl-3,3-,vl-4,3,vl-5,3+,vl-6,4-,vl-7,4,vl-8,4+,vl-9,5-,vl-12,5,vl-14,5+,vl-16,6A,vl-17,6A+,vl-18,6B,vl-19,6B+,vl-21,6C,vl-22,6C+,vl-23,7A,vl-24,7A+,vl-25,7B,vl-26,7B+,vl-27,7C,vl-28,7C+,vl-29,8A,vl-30,8A+,vl-31,8B,vl-32,8B+,vl-33,8C,vl-34,8C+</td><td>2022-04-28 14:58:17 +0000</td><td>null</td><td>3+</td><td>B Sektionen</td><td></td><td>null</td><td>Bouldering</td><td>971</td><td>false</td><td>null</td><td>219</td><td>gym_boulder</td><td>Robert  Rundin </td><td>null</td><td>339864</td><td>https://zlag.vertical-life.info/en/routes/0c38f61f7271cd008f59f94b0de14fe2</td><td>Thu Apr 28 2022 16:58:08 GMT+0200 (Central European Summer Time)</td><td>30</td></tr><tr><td>null</td><td>GymBoulder</td><td>Yellow</td><td>103</td><td>null</td><td>133113</td><td>Klättercentret Solna</td><td>font</td><td>0</td><td>null</td><td>null</td><td>null</td><td>false</td><td>Wed Oct 25 2023 01:04:45 GMT+0200 (Central European Summer Time)</td><td>flash</td><td>286128</td><td>false</td><td>false</td><td>false</td><td>vl-8</td><td>0</td><td>0</td><td>verticallife</td><td>4</td><td>0</td><td>null</td><td>339865</td><td>0</td><td>4505513</td><td>null</td><td>null</td><td>Sun May 01 2022 16:47:59 GMT+0200 (Central European Summer Time)</td><td>0</td><td>4+</td><td>0</td><td></td><td>0</td><td>0</td><td>1</td><td>69</td><td>null</td><td>null</td><td>2022-05-01 12:00:00 +0000</td><td>null</td><td>null</td><td>4752475</td><td>false</td><td></td><td>230474</td><td>2022</td><td>4,150,164,170,381,190,383,542,219,571,2,609,6,152</td><td>41801.2.</td><td>[object Object]</td><td>null</td><td>B2.</td><td>Bouldering, B Sektionen</td><td>font</td><td>true</td><td>2</td><td>null</td><td>2022-06-29 06:10:14 +0000</td><td>734</td><td>[object Object]</td><td>false</td><td>Yellow</td><td>69</td><td>1e2bd49546a1ab26033e6eca6a575fad</td><td>vl-12</td><td>#ffd700</td><td>null</td><td>3</td><td>true</td><td>vl-1,2,vl-2,2+,vl-3,3-,vl-4,3,vl-5,3+,vl-6,4-,vl-7,4,vl-8,4+,vl-9,5-,vl-12,5,vl-14,5+,vl-16,6A,vl-17,6A+,vl-18,6B,vl-19,6B+,vl-21,6C,vl-22,6C+,vl-23,7A,vl-24,7A+,vl-25,7B,vl-26,7B+,vl-27,7C,vl-28,7C+,vl-29,8A,vl-30,8A+,vl-31,8B,vl-32,8B+,vl-33,8C,vl-34,8C+</td><td>2022-04-28 14:58:36 +0000</td><td>null</td><td>5</td><td>B Sektionen</td><td></td><td>null</td><td>Bouldering</td><td>971</td><td>false</td><td>null</td><td>219</td><td>gym_boulder</td><td>Benjamin Schlobohm</td><td>null</td><td>339865</td><td>https://zlag.vertical-life.info/en/routes/78a117ea7c673b623214285228af1121</td><td>Thu Apr 28 2022 16:58:19 GMT+0200 (Central European Summer Time)</td><td>42</td></tr><tr><td>null</td><td>GymBoulder</td><td>Yellow</td><td>103</td><td>null</td><td>133113</td><td>Klättercentret Solna</td><td>font</td><td>0</td><td>null</td><td>null</td><td>null</td><td>false</td><td>Wed Oct 25 2023 01:04:45 GMT+0200 (Central European Summer Time)</td><td>flash</td><td>286128</td><td>false</td><td>false</td><td>false</td><td>vl-8</td><td>0</td><td>0</td><td>verticallife</td><td>4</td><td>0</td><td>null</td><td>339865</td><td>0</td><td>4505513</td><td>null</td><td>null</td><td>Sun May 01 2022 16:47:59 GMT+0200 (Central European Summer Time)</td><td>0</td><td>4+</td><td>0</td><td></td><td>0</td><td>0</td><td>1</td><td>69</td><td>null</td><td>null</td><td>2022-05-01 12:00:00 +0000</td><td>null</td><td>null</td><td>4752475</td><td>false</td><td></td><td>230474</td><td>2022</td><td>4,150,164,170,381,190,383,542,219,571,2,609,6,152</td><td>41801.2.</td><td>[object Object]</td><td>null</td><td>B2.</td><td>Bouldering, B Sektionen</td><td>font</td><td>true</td><td>2</td><td>null</td><td>2022-06-29 06:10:14 +0000</td><td>734</td><td>[object Object]</td><td>false</td><td>Yellow</td><td>69</td><td>1e2bd49546a1ab26033e6eca6a575fad</td><td>vl-12</td><td>#ffd700</td><td>null</td><td>3</td><td>true</td><td>vl-1,2,vl-2,2+,vl-3,3-,vl-4,3,vl-5,3+,vl-6,4-,vl-7,4,vl-8,4+,vl-9,5-,vl-12,5,vl-14,5+,vl-16,6A,vl-17,6A+,vl-18,6B,vl-19,6B+,vl-21,6C,vl-22,6C+,vl-23,7A,vl-24,7A+,vl-25,7B,vl-26,7B+,vl-27,7C,vl-28,7C+,vl-29,8A,vl-30,8A+,vl-31,8B,vl-32,8B+,vl-33,8C,vl-34,8C+</td><td>2022-04-28 14:58:36 +0000</td><td>null</td><td>5</td><td>B Sektionen</td><td></td><td>null</td><td>Bouldering</td><td>971</td><td>false</td><td>null</td><td>219</td><td>gym_boulder</td><td>Benjamin Schlobohm</td><td>null</td><td>339865</td><td>https://zlag.vertical-life.info/en/routes/78a117ea7c673b623214285228af1121</td><td>Thu Apr 28 2022 16:58:19 GMT+0200 (Central European Summer Time)</td><td>42</td></tr></tbody></table>"
      ]
     },
     "metadata": {},
     "output_type": "display_data"
    }
   ],
   "source": [
    "detailedAscents = detailedAscents.withColumns(\n",
    "  pl.col('difficulty').replace({ old: gradeToNumber }).cast(pl.Float32).alias('numberDifficulty'),\n",
    "  pl.col('type').replace(['f', 'rp'], ['flash', 'redpoint']),\n",
    ");\n"
   ]
  },
  {
   "cell_type": "code",
   "execution_count": null,
   "metadata": {
    "vscode": {
     "languageId": "typescript"
    }
   },
   "outputs": [
    {
     "data": {
      "text/html": [
       "<table><thead><tr><th>route_setter</th><th>count</th></tr></thead><tbody><tr><td>Anton Cuevas</td><td>255</td></tr><tr><td>Silver Breiktopf</td><td>178</td></tr><tr><td>Benjamin Schlobohm</td><td>153</td></tr><tr><td>James Thanawat</td><td>139</td></tr><tr><td>Stina Dorwarth</td><td>95</td></tr><tr><td>Sebastian Dahlgren </td><td>73</td></tr><tr><td>N.N.</td><td>73</td></tr><tr><td>Robert  Rundin </td><td>51</td></tr><tr><td>Isabelle Fugelstad</td><td>19</td></tr><tr><td>Sophie Machaczek</td><td>16</td></tr><tr><td>Scott Mooney</td><td>9</td></tr><tr><td>Oliver Sjödin</td><td>4</td></tr><tr><td>Sofia Wideroth</td><td>2</td></tr><tr><td>Robin Dahlberg</td><td>2</td></tr><tr><td>Tobias Lindgren</td><td>1</td></tr><tr><td>Zac Chattaway</td><td>1</td></tr></tbody></table>"
      ]
     },
     "metadata": {},
     "output_type": "display_data"
    }
   ],
   "source": [
    "html`${detailedAscents.getColumn('route_setter').valueCounts().sort('count', true).toHTML()}`;\n"
   ]
  },
  {
   "cell_type": "code",
   "execution_count": null,
   "metadata": {
    "vscode": {
     "languageId": "typescript"
    }
   },
   "outputs": [],
   "source": [
    "let baseWidth = 640;\n",
    "let ascentTypeColorDomain = { domain: ['flash', 'redpoint'], range: ['#ffd800', '#ff5151'] };\n"
   ]
  },
  {
   "cell_type": "code",
   "execution_count": null,
   "metadata": {
    "vscode": {
     "languageId": "typescript"
    }
   },
   "outputs": [
    {
     "data": {
      "text/markdown": [
       "## Everything"
      ]
     },
     "metadata": {},
     "output_type": "display_data"
    },
    {
     "data": {
      "text/html": [
       "<figure style=\"max-width:initial\" class=\"plot-d6a7b5-figure\"><div class=\"plot-d6a7b5-swatches plot-d6a7b5-swatches-wrap\"><style>:where(.plot-d6a7b5-swatches) {\n",
       "  font-family: system-ui, sans-serif;\n",
       "  font-size: 10px;\n",
       "  margin-bottom: 0.5em;\n",
       "}\n",
       ":where(.plot-d6a7b5-swatch > svg) {\n",
       "  margin-right: 0.5em;\n",
       "  overflow: visible;\n",
       "}\n",
       ":where(.plot-d6a7b5-swatches-wrap) {\n",
       "  display: flex;\n",
       "  align-items: center;\n",
       "  min-height: 33px;\n",
       "  flex-wrap: wrap;\n",
       "}\n",
       ":where(.plot-d6a7b5-swatches-wrap .plot-d6a7b5-swatch) {\n",
       "  display: inline-flex;\n",
       "  align-items: center;\n",
       "  margin-right: 1em;\n",
       "}</style><span class=\"plot-d6a7b5-swatch\"><svg fill=\"#ffd800\" height=\"15\" width=\"15\"><rect height=\"100%\" width=\"100%\" /></svg>flash</span><span class=\"plot-d6a7b5-swatch\"><svg fill=\"#ff5151\" height=\"15\" width=\"15\"><rect height=\"100%\" width=\"100%\" /></svg>redpoint</span></div><svg viewBox=\"0 0 640 380\" height=\"380\" width=\"640\" text-anchor=\"middle\" font-size=\"10\" font-family=\"system-ui, sans-serif\" fill=\"currentColor\" class=\"plot-d6a7b5\"><style>:where(.plot-d6a7b5) {\n",
       "  --plot-background: white;\n",
       "  display: block;\n",
       "  height: auto;\n",
       "  height: intrinsic;\n",
       "  max-width: 100%;\n",
       "}\n",
       ":where(.plot-d6a7b5 text),\n",
       ":where(.plot-d6a7b5 tspan) {\n",
       "  white-space: pre;\n",
       "}</style><g transform=\"translate(0,9)\" stroke-opacity=\"0.1\" stroke=\"currentColor\" aria-hidden=\"true\" aria-label=\"y-grid\"><line y2=\"26\" y1=\"26\" x2=\"620\" x1=\"40\" /><line y2=\"46\" y1=\"46\" x2=\"620\" x1=\"40\" /><line y2=\"66\" y1=\"66\" x2=\"620\" x1=\"40\" /><line y2=\"86\" y1=\"86\" x2=\"620\" x1=\"40\" /><line y2=\"106\" y1=\"106\" x2=\"620\" x1=\"40\" /><line y2=\"126\" y1=\"126\" x2=\"620\" x1=\"40\" /><line y2=\"146\" y1=\"146\" x2=\"620\" x1=\"40\" /><line y2=\"166\" y1=\"166\" x2=\"620\" x1=\"40\" /><line y2=\"186\" y1=\"186\" x2=\"620\" x1=\"40\" /><line y2=\"206\" y1=\"206\" x2=\"620\" x1=\"40\" /><line y2=\"226\" y1=\"226\" x2=\"620\" x1=\"40\" /><line y2=\"246\" y1=\"246\" x2=\"620\" x1=\"40\" /><line y2=\"266\" y1=\"266\" x2=\"620\" x1=\"40\" /><line y2=\"286\" y1=\"286\" x2=\"620\" x1=\"40\" /><line y2=\"306\" y1=\"306\" x2=\"620\" x1=\"40\" /><line y2=\"326\" y1=\"326\" x2=\"620\" x1=\"40\" /></g><g transform=\"translate(0,9)\" stroke=\"currentColor\" fill=\"none\" aria-hidden=\"true\" aria-label=\"y-axis tick\"><path d=\"M0,0L-6,0\" transform=\"translate(40,26)\" /><path d=\"M0,0L-6,0\" transform=\"translate(40,46)\" /><path d=\"M0,0L-6,0\" transform=\"translate(40,66)\" /><path d=\"M0,0L-6,0\" transform=\"translate(40,86)\" /><path d=\"M0,0L-6,0\" transform=\"translate(40,106)\" /><path d=\"M0,0L-6,0\" transform=\"translate(40,126)\" /><path d=\"M0,0L-6,0\" transform=\"translate(40,146)\" /><path d=\"M0,0L-6,0\" transform=\"translate(40,166)\" /><path d=\"M0,0L-6,0\" transform=\"translate(40,186)\" /><path d=\"M0,0L-6,0\" transform=\"translate(40,206)\" /><path d=\"M0,0L-6,0\" transform=\"translate(40,226)\" /><path d=\"M0,0L-6,0\" transform=\"translate(40,246)\" /><path d=\"M0,0L-6,0\" transform=\"translate(40,266)\" /><path d=\"M0,0L-6,0\" transform=\"translate(40,286)\" /><path d=\"M0,0L-6,0\" transform=\"translate(40,306)\" /><path d=\"M0,0L-6,0\" transform=\"translate(40,326)\" /></g><g transform=\"translate(-9,9)\" text-anchor=\"end\" aria-label=\"y-axis tick label\"><text transform=\"translate(40,26)\" y=\"0.32em\">7B</text><text transform=\"translate(40,46)\" y=\"0.32em\">7A+</text><text transform=\"translate(40,66)\" y=\"0.32em\">7A</text><text transform=\"translate(40,86)\" y=\"0.32em\">6C+</text><text transform=\"translate(40,106)\" y=\"0.32em\">6C</text><text transform=\"translate(40,126)\" y=\"0.32em\">6B+</text><text transform=\"translate(40,146)\" y=\"0.32em\">6B</text><text transform=\"translate(40,166)\" y=\"0.32em\">6A+</text><text transform=\"translate(40,186)\" y=\"0.32em\">6A</text><text transform=\"translate(40,206)\" y=\"0.32em\">5+</text><text transform=\"translate(40,226)\" y=\"0.32em\">5</text><text transform=\"translate(40,246)\" y=\"0.32em\">4+</text><text transform=\"translate(40,266)\" y=\"0.32em\">4</text><text transform=\"translate(40,286)\" y=\"0.32em\">3+</text><text transform=\"translate(40,306)\" y=\"0.32em\">3</text><text transform=\"translate(40,326)\" y=\"0.32em\">2</text></g><g transform=\"translate(-37,0)\" aria-label=\"y-axis label\"><text transform=\"translate(40,185) rotate(-90)\" y=\"0.71em\">difficulty</text></g><g stroke-opacity=\"0.1\" stroke=\"currentColor\" aria-hidden=\"true\" aria-label=\"x-grid\"><line y2=\"350\" y1=\"20\" x2=\"40\" x1=\"40\" /><line y2=\"350\" y1=\"20\" x2=\"128.54961832061068\" x1=\"128.54961832061068\" /><line y2=\"350\" y1=\"20\" x2=\"217.09923664122135\" x1=\"217.09923664122135\" /><line y2=\"350\" y1=\"20\" x2=\"305.64885496183206\" x1=\"305.64885496183206\" /><line y2=\"350\" y1=\"20\" x2=\"394.1984732824427\" x1=\"394.1984732824427\" /><line y2=\"350\" y1=\"20\" x2=\"482.74809160305347\" x1=\"482.74809160305347\" /><line y2=\"350\" y1=\"20\" x2=\"571.2977099236641\" x1=\"571.2977099236641\" /></g><g stroke=\"currentColor\" fill=\"none\" aria-hidden=\"true\" aria-label=\"x-axis tick\"><path d=\"M0,0L0,6\" transform=\"translate(40,350)\" /><path d=\"M0,0L0,6\" transform=\"translate(128.54961832061068,350)\" /><path d=\"M0,0L0,6\" transform=\"translate(217.09923664122135,350)\" /><path d=\"M0,0L0,6\" transform=\"translate(305.64885496183206,350)\" /><path d=\"M0,0L0,6\" transform=\"translate(394.1984732824427,350)\" /><path d=\"M0,0L0,6\" transform=\"translate(482.74809160305347,350)\" /><path d=\"M0,0L0,6\" transform=\"translate(571.2977099236641,350)\" /></g><g transform=\"translate(0,9)\" font-variant=\"tabular-nums\" aria-label=\"x-axis tick label\"><text transform=\"translate(40,350)\" y=\"0.71em\">0</text><text transform=\"translate(128.54961832061068,350)\" y=\"0.71em\">20</text><text transform=\"translate(217.09923664122135,350)\" y=\"0.71em\">40</text><text transform=\"translate(305.64885496183206,350)\" y=\"0.71em\">60</text><text transform=\"translate(394.1984732824427,350)\" y=\"0.71em\">80</text><text transform=\"translate(482.74809160305347,350)\" y=\"0.71em\">100</text><text transform=\"translate(571.2977099236641,350)\" y=\"0.71em\">120</text></g><g transform=\"translate(17,27)\" text-anchor=\"end\" aria-label=\"x-axis label\"><text transform=\"translate(620,350)\">Frequency →</text></g><rect height=\"330\" width=\"580\" y=\"20\" x=\"40\" stroke=\"currentColor\" fill=\"none\" aria-label=\"frame\" /><g aria-label=\"bar\"><rect fill=\"#ffd800\" height=\"18\" y=\"226\" width=\"367.4809160305343\" x=\"40\" /><rect fill=\"#ffd800\" height=\"18\" y=\"206\" width=\"425.0381679389313\" x=\"40\" /><rect fill=\"#ffd800\" height=\"18\" y=\"306\" width=\"212.51908396946567\" x=\"40\" /><rect fill=\"#ffd800\" height=\"18\" y=\"246\" width=\"429.46564885496184\" x=\"40\" /><rect fill=\"#ffd800\" height=\"18\" y=\"266\" width=\"345.34351145038164\" x=\"40\" /><rect fill=\"#ffd800\" height=\"18\" y=\"166\" width=\"500.30534351145036\" x=\"40\" /><rect fill=\"#ffd800\" height=\"18\" y=\"186\" width=\"531.2977099236641\" x=\"40\" /><rect fill=\"#ffd800\" height=\"18\" y=\"286\" width=\"261.22137404580155\" x=\"40\" /><rect fill=\"#ffd800\" height=\"18\" y=\"146\" width=\"261.22137404580155\" x=\"40\" /><rect fill=\"#ffd800\" height=\"18\" y=\"106\" width=\"79.69465648854961\" x=\"40\" /><rect fill=\"#ffd800\" height=\"18\" y=\"126\" width=\"216.94656488549617\" x=\"40\" /><rect fill=\"#ffd800\" height=\"18\" y=\"326\" width=\"13.282442748091604\" x=\"40\" /><rect fill=\"#ffd800\" height=\"18\" y=\"86\" width=\"30.99236641221374\" x=\"40\" /><rect fill=\"#ffd800\" height=\"18\" y=\"66\" width=\"4.427480916030532\" x=\"40\" /><rect fill=\"#ff5151\" height=\"18\" y=\"246\" width=\"4.427480916030561\" x=\"469.46564885496184\" /><rect fill=\"#ff5151\" height=\"18\" y=\"186\" width=\"26.56488549618325\" x=\"571.2977099236641\" /><rect fill=\"#ff5151\" height=\"18\" y=\"226\" width=\"13.282442748091682\" x=\"407.4809160305343\" /><rect fill=\"#ff5151\" height=\"18\" y=\"166\" width=\"79.69465648854964\" x=\"540.3053435114504\" /><rect fill=\"#ff5151\" height=\"18\" y=\"206\" width=\"22.13740458015269\" x=\"465.0381679389313\" /><rect fill=\"#ff5151\" height=\"18\" y=\"146\" width=\"150.53435114503816\" x=\"301.22137404580155\" /><rect fill=\"#ff5151\" height=\"18\" y=\"126\" width=\"212.51908396946567\" x=\"256.9465648854962\" /><rect fill=\"#ff5151\" height=\"18\" y=\"106\" width=\"252.3664122137404\" x=\"119.69465648854961\" /><rect fill=\"#ff5151\" height=\"18\" y=\"66\" width=\"101.8320610687023\" x=\"44.42748091603053\" /><rect fill=\"#ff5151\" height=\"18\" y=\"86\" width=\"119.54198473282442\" x=\"70.99236641221374\" /><rect fill=\"#ff5151\" height=\"18\" y=\"46\" width=\"61.98473282442748\" x=\"40\" /><rect fill=\"#ff5151\" height=\"18\" y=\"26\" width=\"17.709923664122137\" x=\"40\" /></g></svg></figure>"
      ]
     },
     "metadata": {},
     "output_type": "display_data"
    },
    {
     "data": {
      "text/markdown": [
       "## By year"
      ]
     },
     "metadata": {},
     "output_type": "display_data"
    },
    {
     "data": {
      "text/html": [
       "<figure style=\"max-width:initial\" class=\"plot-d6a7b5-figure\"><div class=\"plot-d6a7b5-swatches plot-d6a7b5-swatches-wrap\"><style>:where(.plot-d6a7b5-swatches) {\n",
       "  font-family: system-ui, sans-serif;\n",
       "  font-size: 10px;\n",
       "  margin-bottom: 0.5em;\n",
       "}\n",
       ":where(.plot-d6a7b5-swatch > svg) {\n",
       "  margin-right: 0.5em;\n",
       "  overflow: visible;\n",
       "}\n",
       ":where(.plot-d6a7b5-swatches-wrap) {\n",
       "  display: flex;\n",
       "  align-items: center;\n",
       "  min-height: 33px;\n",
       "  flex-wrap: wrap;\n",
       "}\n",
       ":where(.plot-d6a7b5-swatches-wrap .plot-d6a7b5-swatch) {\n",
       "  display: inline-flex;\n",
       "  align-items: center;\n",
       "  margin-right: 1em;\n",
       "}</style><span class=\"plot-d6a7b5-swatch\"><svg fill=\"#ffd800\" height=\"15\" width=\"15\"><rect height=\"100%\" width=\"100%\" /></svg>flash</span><span class=\"plot-d6a7b5-swatch\"><svg fill=\"#ff5151\" height=\"15\" width=\"15\"><rect height=\"100%\" width=\"100%\" /></svg>redpoint</span></div><svg viewBox=\"0 0 640 1260\" height=\"1260\" width=\"640\" text-anchor=\"middle\" font-size=\"10\" font-family=\"system-ui, sans-serif\" fill=\"currentColor\" class=\"plot-d6a7b5\"><style>:where(.plot-d6a7b5) {\n",
       "  --plot-background: white;\n",
       "  display: block;\n",
       "  height: auto;\n",
       "  height: intrinsic;\n",
       "  max-width: 100%;\n",
       "}\n",
       ":where(.plot-d6a7b5 text),\n",
       ":where(.plot-d6a7b5 tspan) {\n",
       "  white-space: pre;\n",
       "}</style><g transform=\"translate(9,0)\" aria-label=\"fy-axis tick label\"><g transform=\"translate(0,1)\" text-anchor=\"start\"><text transform=\"translate(600,159.5)\" y=\"0.32em\">2,022</text></g><g transform=\"translate(0,311)\" text-anchor=\"start\"><text transform=\"translate(600,159.5)\" y=\"0.32em\">2,023</text></g><g transform=\"translate(0,621)\" text-anchor=\"start\"><text transform=\"translate(600,159.5)\" y=\"0.32em\">2,024</text></g><g transform=\"translate(0,931)\" text-anchor=\"start\"><text transform=\"translate(600,159.5)\" y=\"0.32em\">2,025</text></g></g><g transform=\"translate(37,0)\" aria-label=\"fy-axis label\"><text transform=\"translate(600,625.5) rotate(-90)\">year</text></g><g transform=\"translate(0,7.5)\" aria-hidden=\"true\" aria-label=\"y-grid\"><g transform=\"translate(0,1)\" stroke-opacity=\"0.1\" stroke=\"currentColor\"><line y2=\"24\" y1=\"24\" x2=\"600\" x1=\"40\" /><line y2=\"41\" y1=\"41\" x2=\"600\" x1=\"40\" /><line y2=\"58\" y1=\"58\" x2=\"600\" x1=\"40\" /><line y2=\"75\" y1=\"75\" x2=\"600\" x1=\"40\" /><line y2=\"92\" y1=\"92\" x2=\"600\" x1=\"40\" /><line y2=\"109\" y1=\"109\" x2=\"600\" x1=\"40\" /><line y2=\"126\" y1=\"126\" x2=\"600\" x1=\"40\" /><line y2=\"143\" y1=\"143\" x2=\"600\" x1=\"40\" /><line y2=\"160\" y1=\"160\" x2=\"600\" x1=\"40\" /><line y2=\"177\" y1=\"177\" x2=\"600\" x1=\"40\" /><line y2=\"194\" y1=\"194\" x2=\"600\" x1=\"40\" /><line y2=\"211\" y1=\"211\" x2=\"600\" x1=\"40\" /><line y2=\"228\" y1=\"228\" x2=\"600\" x1=\"40\" /><line y2=\"245\" y1=\"245\" x2=\"600\" x1=\"40\" /><line y2=\"262\" y1=\"262\" x2=\"600\" x1=\"40\" /><line y2=\"279\" y1=\"279\" x2=\"600\" x1=\"40\" /></g><g transform=\"translate(0,311)\" stroke-opacity=\"0.1\" stroke=\"currentColor\"><line y2=\"24\" y1=\"24\" x2=\"600\" x1=\"40\" /><line y2=\"41\" y1=\"41\" x2=\"600\" x1=\"40\" /><line y2=\"58\" y1=\"58\" x2=\"600\" x1=\"40\" /><line y2=\"75\" y1=\"75\" x2=\"600\" x1=\"40\" /><line y2=\"92\" y1=\"92\" x2=\"600\" x1=\"40\" /><line y2=\"109\" y1=\"109\" x2=\"600\" x1=\"40\" /><line y2=\"126\" y1=\"126\" x2=\"600\" x1=\"40\" /><line y2=\"143\" y1=\"143\" x2=\"600\" x1=\"40\" /><line y2=\"160\" y1=\"160\" x2=\"600\" x1=\"40\" /><line y2=\"177\" y1=\"177\" x2=\"600\" x1=\"40\" /><line y2=\"194\" y1=\"194\" x2=\"600\" x1=\"40\" /><line y2=\"211\" y1=\"211\" x2=\"600\" x1=\"40\" /><line y2=\"228\" y1=\"228\" x2=\"600\" x1=\"40\" /><line y2=\"245\" y1=\"245\" x2=\"600\" x1=\"40\" /><line y2=\"262\" y1=\"262\" x2=\"600\" x1=\"40\" /><line y2=\"279\" y1=\"279\" x2=\"600\" x1=\"40\" /></g><g transform=\"translate(0,621)\" stroke-opacity=\"0.1\" stroke=\"currentColor\"><line y2=\"24\" y1=\"24\" x2=\"600\" x1=\"40\" /><line y2=\"41\" y1=\"41\" x2=\"600\" x1=\"40\" /><line y2=\"58\" y1=\"58\" x2=\"600\" x1=\"40\" /><line y2=\"75\" y1=\"75\" x2=\"600\" x1=\"40\" /><line y2=\"92\" y1=\"92\" x2=\"600\" x1=\"40\" /><line y2=\"109\" y1=\"109\" x2=\"600\" x1=\"40\" /><line y2=\"126\" y1=\"126\" x2=\"600\" x1=\"40\" /><line y2=\"143\" y1=\"143\" x2=\"600\" x1=\"40\" /><line y2=\"160\" y1=\"160\" x2=\"600\" x1=\"40\" /><line y2=\"177\" y1=\"177\" x2=\"600\" x1=\"40\" /><line y2=\"194\" y1=\"194\" x2=\"600\" x1=\"40\" /><line y2=\"211\" y1=\"211\" x2=\"600\" x1=\"40\" /><line y2=\"228\" y1=\"228\" x2=\"600\" x1=\"40\" /><line y2=\"245\" y1=\"245\" x2=\"600\" x1=\"40\" /><line y2=\"262\" y1=\"262\" x2=\"600\" x1=\"40\" /><line y2=\"279\" y1=\"279\" x2=\"600\" x1=\"40\" /></g><g transform=\"translate(0,931)\" stroke-opacity=\"0.1\" stroke=\"currentColor\"><line y2=\"24\" y1=\"24\" x2=\"600\" x1=\"40\" /><line y2=\"41\" y1=\"41\" x2=\"600\" x1=\"40\" /><line y2=\"58\" y1=\"58\" x2=\"600\" x1=\"40\" /><line y2=\"75\" y1=\"75\" x2=\"600\" x1=\"40\" /><line y2=\"92\" y1=\"92\" x2=\"600\" x1=\"40\" /><line y2=\"109\" y1=\"109\" x2=\"600\" x1=\"40\" /><line y2=\"126\" y1=\"126\" x2=\"600\" x1=\"40\" /><line y2=\"143\" y1=\"143\" x2=\"600\" x1=\"40\" /><line y2=\"160\" y1=\"160\" x2=\"600\" x1=\"40\" /><line y2=\"177\" y1=\"177\" x2=\"600\" x1=\"40\" /><line y2=\"194\" y1=\"194\" x2=\"600\" x1=\"40\" /><line y2=\"211\" y1=\"211\" x2=\"600\" x1=\"40\" /><line y2=\"228\" y1=\"228\" x2=\"600\" x1=\"40\" /><line y2=\"245\" y1=\"245\" x2=\"600\" x1=\"40\" /><line y2=\"262\" y1=\"262\" x2=\"600\" x1=\"40\" /><line y2=\"279\" y1=\"279\" x2=\"600\" x1=\"40\" /></g></g><g transform=\"translate(0,7.5)\" aria-hidden=\"true\" aria-label=\"y-axis tick\"><g transform=\"translate(0,1)\" stroke=\"currentColor\" fill=\"none\"><path d=\"M0,0L-6,0\" transform=\"translate(40,24)\" /><path d=\"M0,0L-6,0\" transform=\"translate(40,41)\" /><path d=\"M0,0L-6,0\" transform=\"translate(40,58)\" /><path d=\"M0,0L-6,0\" transform=\"translate(40,75)\" /><path d=\"M0,0L-6,0\" transform=\"translate(40,92)\" /><path d=\"M0,0L-6,0\" transform=\"translate(40,109)\" /><path d=\"M0,0L-6,0\" transform=\"translate(40,126)\" /><path d=\"M0,0L-6,0\" transform=\"translate(40,143)\" /><path d=\"M0,0L-6,0\" transform=\"translate(40,160)\" /><path d=\"M0,0L-6,0\" transform=\"translate(40,177)\" /><path d=\"M0,0L-6,0\" transform=\"translate(40,194)\" /><path d=\"M0,0L-6,0\" transform=\"translate(40,211)\" /><path d=\"M0,0L-6,0\" transform=\"translate(40,228)\" /><path d=\"M0,0L-6,0\" transform=\"translate(40,245)\" /><path d=\"M0,0L-6,0\" transform=\"translate(40,262)\" /><path d=\"M0,0L-6,0\" transform=\"translate(40,279)\" /></g><g transform=\"translate(0,311)\" stroke=\"currentColor\" fill=\"none\"><path d=\"M0,0L-6,0\" transform=\"translate(40,24)\" /><path d=\"M0,0L-6,0\" transform=\"translate(40,41)\" /><path d=\"M0,0L-6,0\" transform=\"translate(40,58)\" /><path d=\"M0,0L-6,0\" transform=\"translate(40,75)\" /><path d=\"M0,0L-6,0\" transform=\"translate(40,92)\" /><path d=\"M0,0L-6,0\" transform=\"translate(40,109)\" /><path d=\"M0,0L-6,0\" transform=\"translate(40,126)\" /><path d=\"M0,0L-6,0\" transform=\"translate(40,143)\" /><path d=\"M0,0L-6,0\" transform=\"translate(40,160)\" /><path d=\"M0,0L-6,0\" transform=\"translate(40,177)\" /><path d=\"M0,0L-6,0\" transform=\"translate(40,194)\" /><path d=\"M0,0L-6,0\" transform=\"translate(40,211)\" /><path d=\"M0,0L-6,0\" transform=\"translate(40,228)\" /><path d=\"M0,0L-6,0\" transform=\"translate(40,245)\" /><path d=\"M0,0L-6,0\" transform=\"translate(40,262)\" /><path d=\"M0,0L-6,0\" transform=\"translate(40,279)\" /></g><g transform=\"translate(0,621)\" stroke=\"currentColor\" fill=\"none\"><path d=\"M0,0L-6,0\" transform=\"translate(40,24)\" /><path d=\"M0,0L-6,0\" transform=\"translate(40,41)\" /><path d=\"M0,0L-6,0\" transform=\"translate(40,58)\" /><path d=\"M0,0L-6,0\" transform=\"translate(40,75)\" /><path d=\"M0,0L-6,0\" transform=\"translate(40,92)\" /><path d=\"M0,0L-6,0\" transform=\"translate(40,109)\" /><path d=\"M0,0L-6,0\" transform=\"translate(40,126)\" /><path d=\"M0,0L-6,0\" transform=\"translate(40,143)\" /><path d=\"M0,0L-6,0\" transform=\"translate(40,160)\" /><path d=\"M0,0L-6,0\" transform=\"translate(40,177)\" /><path d=\"M0,0L-6,0\" transform=\"translate(40,194)\" /><path d=\"M0,0L-6,0\" transform=\"translate(40,211)\" /><path d=\"M0,0L-6,0\" transform=\"translate(40,228)\" /><path d=\"M0,0L-6,0\" transform=\"translate(40,245)\" /><path d=\"M0,0L-6,0\" transform=\"translate(40,262)\" /><path d=\"M0,0L-6,0\" transform=\"translate(40,279)\" /></g><g transform=\"translate(0,931)\" stroke=\"currentColor\" fill=\"none\"><path d=\"M0,0L-6,0\" transform=\"translate(40,24)\" /><path d=\"M0,0L-6,0\" transform=\"translate(40,41)\" /><path d=\"M0,0L-6,0\" transform=\"translate(40,58)\" /><path d=\"M0,0L-6,0\" transform=\"translate(40,75)\" /><path d=\"M0,0L-6,0\" transform=\"translate(40,92)\" /><path d=\"M0,0L-6,0\" transform=\"translate(40,109)\" /><path d=\"M0,0L-6,0\" transform=\"translate(40,126)\" /><path d=\"M0,0L-6,0\" transform=\"translate(40,143)\" /><path d=\"M0,0L-6,0\" transform=\"translate(40,160)\" /><path d=\"M0,0L-6,0\" transform=\"translate(40,177)\" /><path d=\"M0,0L-6,0\" transform=\"translate(40,194)\" /><path d=\"M0,0L-6,0\" transform=\"translate(40,211)\" /><path d=\"M0,0L-6,0\" transform=\"translate(40,228)\" /><path d=\"M0,0L-6,0\" transform=\"translate(40,245)\" /><path d=\"M0,0L-6,0\" transform=\"translate(40,262)\" /><path d=\"M0,0L-6,0\" transform=\"translate(40,279)\" /></g></g><g transform=\"translate(-9,7.5)\" aria-label=\"y-axis tick label\"><g transform=\"translate(0,1)\" text-anchor=\"end\"><text transform=\"translate(40,24)\" y=\"0.32em\">7B</text><text transform=\"translate(40,41)\" y=\"0.32em\">7A+</text><text transform=\"translate(40,58)\" y=\"0.32em\">7A</text><text transform=\"translate(40,75)\" y=\"0.32em\">6C+</text><text transform=\"translate(40,92)\" y=\"0.32em\">6C</text><text transform=\"translate(40,109)\" y=\"0.32em\">6B+</text><text transform=\"translate(40,126)\" y=\"0.32em\">6B</text><text transform=\"translate(40,143)\" y=\"0.32em\">6A+</text><text transform=\"translate(40,160)\" y=\"0.32em\">6A</text><text transform=\"translate(40,177)\" y=\"0.32em\">5+</text><text transform=\"translate(40,194)\" y=\"0.32em\">5</text><text transform=\"translate(40,211)\" y=\"0.32em\">4+</text><text transform=\"translate(40,228)\" y=\"0.32em\">4</text><text transform=\"translate(40,245)\" y=\"0.32em\">3+</text><text transform=\"translate(40,262)\" y=\"0.32em\">3</text><text transform=\"translate(40,279)\" y=\"0.32em\">2</text></g><g transform=\"translate(0,311)\" text-anchor=\"end\"><text transform=\"translate(40,24)\" y=\"0.32em\">7B</text><text transform=\"translate(40,41)\" y=\"0.32em\">7A+</text><text transform=\"translate(40,58)\" y=\"0.32em\">7A</text><text transform=\"translate(40,75)\" y=\"0.32em\">6C+</text><text transform=\"translate(40,92)\" y=\"0.32em\">6C</text><text transform=\"translate(40,109)\" y=\"0.32em\">6B+</text><text transform=\"translate(40,126)\" y=\"0.32em\">6B</text><text transform=\"translate(40,143)\" y=\"0.32em\">6A+</text><text transform=\"translate(40,160)\" y=\"0.32em\">6A</text><text transform=\"translate(40,177)\" y=\"0.32em\">5+</text><text transform=\"translate(40,194)\" y=\"0.32em\">5</text><text transform=\"translate(40,211)\" y=\"0.32em\">4+</text><text transform=\"translate(40,228)\" y=\"0.32em\">4</text><text transform=\"translate(40,245)\" y=\"0.32em\">3+</text><text transform=\"translate(40,262)\" y=\"0.32em\">3</text><text transform=\"translate(40,279)\" y=\"0.32em\">2</text></g><g transform=\"translate(0,621)\" text-anchor=\"end\"><text transform=\"translate(40,24)\" y=\"0.32em\">7B</text><text transform=\"translate(40,41)\" y=\"0.32em\">7A+</text><text transform=\"translate(40,58)\" y=\"0.32em\">7A</text><text transform=\"translate(40,75)\" y=\"0.32em\">6C+</text><text transform=\"translate(40,92)\" y=\"0.32em\">6C</text><text transform=\"translate(40,109)\" y=\"0.32em\">6B+</text><text transform=\"translate(40,126)\" y=\"0.32em\">6B</text><text transform=\"translate(40,143)\" y=\"0.32em\">6A+</text><text transform=\"translate(40,160)\" y=\"0.32em\">6A</text><text transform=\"translate(40,177)\" y=\"0.32em\">5+</text><text transform=\"translate(40,194)\" y=\"0.32em\">5</text><text transform=\"translate(40,211)\" y=\"0.32em\">4+</text><text transform=\"translate(40,228)\" y=\"0.32em\">4</text><text transform=\"translate(40,245)\" y=\"0.32em\">3+</text><text transform=\"translate(40,262)\" y=\"0.32em\">3</text><text transform=\"translate(40,279)\" y=\"0.32em\">2</text></g><g transform=\"translate(0,931)\" text-anchor=\"end\"><text transform=\"translate(40,24)\" y=\"0.32em\">7B</text><text transform=\"translate(40,41)\" y=\"0.32em\">7A+</text><text transform=\"translate(40,58)\" y=\"0.32em\">7A</text><text transform=\"translate(40,75)\" y=\"0.32em\">6C+</text><text transform=\"translate(40,92)\" y=\"0.32em\">6C</text><text transform=\"translate(40,109)\" y=\"0.32em\">6B+</text><text transform=\"translate(40,126)\" y=\"0.32em\">6B</text><text transform=\"translate(40,143)\" y=\"0.32em\">6A+</text><text transform=\"translate(40,160)\" y=\"0.32em\">6A</text><text transform=\"translate(40,177)\" y=\"0.32em\">5+</text><text transform=\"translate(40,194)\" y=\"0.32em\">5</text><text transform=\"translate(40,211)\" y=\"0.32em\">4+</text><text transform=\"translate(40,228)\" y=\"0.32em\">4</text><text transform=\"translate(40,245)\" y=\"0.32em\">3+</text><text transform=\"translate(40,262)\" y=\"0.32em\">3</text><text transform=\"translate(40,279)\" y=\"0.32em\">2</text></g></g><g transform=\"translate(-37,0)\" aria-label=\"y-axis label\"><text transform=\"translate(40,625.5) rotate(-90)\" y=\"0.71em\">difficulty</text></g><g aria-hidden=\"true\" aria-label=\"x-grid\"><g transform=\"translate(0,1)\" stroke-opacity=\"0.1\" stroke=\"currentColor\"><line y2=\"299\" y1=\"20\" x2=\"40\" x1=\"40\" /><line y2=\"299\" y1=\"20\" x2=\"149.80392156862746\" x1=\"149.80392156862746\" /><line y2=\"299\" y1=\"20\" x2=\"259.6078431372549\" x1=\"259.6078431372549\" /><line y2=\"299\" y1=\"20\" x2=\"369.4117647058823\" x1=\"369.4117647058823\" /><line y2=\"299\" y1=\"20\" x2=\"479.2156862745098\" x1=\"479.2156862745098\" /><line y2=\"299\" y1=\"20\" x2=\"589.0196078431372\" x1=\"589.0196078431372\" /></g><g transform=\"translate(0,311)\" stroke-opacity=\"0.1\" stroke=\"currentColor\"><line y2=\"299\" y1=\"20\" x2=\"40\" x1=\"40\" /><line y2=\"299\" y1=\"20\" x2=\"149.80392156862746\" x1=\"149.80392156862746\" /><line y2=\"299\" y1=\"20\" x2=\"259.6078431372549\" x1=\"259.6078431372549\" /><line y2=\"299\" y1=\"20\" x2=\"369.4117647058823\" x1=\"369.4117647058823\" /><line y2=\"299\" y1=\"20\" x2=\"479.2156862745098\" x1=\"479.2156862745098\" /><line y2=\"299\" y1=\"20\" x2=\"589.0196078431372\" x1=\"589.0196078431372\" /></g><g transform=\"translate(0,621)\" stroke-opacity=\"0.1\" stroke=\"currentColor\"><line y2=\"299\" y1=\"20\" x2=\"40\" x1=\"40\" /><line y2=\"299\" y1=\"20\" x2=\"149.80392156862746\" x1=\"149.80392156862746\" /><line y2=\"299\" y1=\"20\" x2=\"259.6078431372549\" x1=\"259.6078431372549\" /><line y2=\"299\" y1=\"20\" x2=\"369.4117647058823\" x1=\"369.4117647058823\" /><line y2=\"299\" y1=\"20\" x2=\"479.2156862745098\" x1=\"479.2156862745098\" /><line y2=\"299\" y1=\"20\" x2=\"589.0196078431372\" x1=\"589.0196078431372\" /></g><g transform=\"translate(0,931)\" stroke-opacity=\"0.1\" stroke=\"currentColor\"><line y2=\"299\" y1=\"20\" x2=\"40\" x1=\"40\" /><line y2=\"299\" y1=\"20\" x2=\"149.80392156862746\" x1=\"149.80392156862746\" /><line y2=\"299\" y1=\"20\" x2=\"259.6078431372549\" x1=\"259.6078431372549\" /><line y2=\"299\" y1=\"20\" x2=\"369.4117647058823\" x1=\"369.4117647058823\" /><line y2=\"299\" y1=\"20\" x2=\"479.2156862745098\" x1=\"479.2156862745098\" /><line y2=\"299\" y1=\"20\" x2=\"589.0196078431372\" x1=\"589.0196078431372\" /></g></g><g aria-hidden=\"true\" aria-label=\"x-axis tick\"><g transform=\"translate(0,931)\" stroke=\"currentColor\" fill=\"none\"><path d=\"M0,0L0,6\" transform=\"translate(40,299)\" /><path d=\"M0,0L0,6\" transform=\"translate(149.80392156862746,299)\" /><path d=\"M0,0L0,6\" transform=\"translate(259.6078431372549,299)\" /><path d=\"M0,0L0,6\" transform=\"translate(369.4117647058823,299)\" /><path d=\"M0,0L0,6\" transform=\"translate(479.2156862745098,299)\" /><path d=\"M0,0L0,6\" transform=\"translate(589.0196078431372,299)\" /></g></g><g transform=\"translate(0,9)\" aria-label=\"x-axis tick label\"><g transform=\"translate(0,931)\" font-variant=\"tabular-nums\"><text transform=\"translate(40,299)\" y=\"0.71em\">0</text><text transform=\"translate(149.80392156862746,299)\" y=\"0.71em\">10</text><text transform=\"translate(259.6078431372549,299)\" y=\"0.71em\">20</text><text transform=\"translate(369.4117647058823,299)\" y=\"0.71em\">30</text><text transform=\"translate(479.2156862745098,299)\" y=\"0.71em\">40</text><text transform=\"translate(589.0196078431372,299)\" y=\"0.71em\">50</text></g></g><g transform=\"translate(37,27)\" text-anchor=\"end\" aria-label=\"x-axis label\"><text transform=\"translate(600,1230)\">Frequency →</text></g><g aria-label=\"frame\"><rect transform=\"translate(0,1)\" height=\"279\" width=\"560\" y=\"20\" x=\"40\" stroke=\"currentColor\" fill=\"none\" /><rect transform=\"translate(0,311)\" height=\"279\" width=\"560\" y=\"20\" x=\"40\" stroke=\"currentColor\" fill=\"none\" /><rect transform=\"translate(0,621)\" height=\"279\" width=\"560\" y=\"20\" x=\"40\" stroke=\"currentColor\" fill=\"none\" /><rect transform=\"translate(0,931)\" height=\"279\" width=\"560\" y=\"20\" x=\"40\" stroke=\"currentColor\" fill=\"none\" /></g><g aria-label=\"bar\"><g transform=\"translate(0,1)\"><rect fill=\"#ffd800\" height=\"15\" y=\"194\" width=\"109.80392156862746\" x=\"40\" /><rect fill=\"#ffd800\" height=\"15\" y=\"177\" width=\"208.62745098039215\" x=\"40\" /><rect fill=\"#ffd800\" height=\"15\" y=\"262\" width=\"21.960784313725483\" x=\"40\" /><rect fill=\"#ffd800\" height=\"15\" y=\"211\" width=\"230.58823529411762\" x=\"40\" /><rect fill=\"#ffd800\" height=\"15\" y=\"228\" width=\"142.7450980392157\" x=\"40\" /><rect fill=\"#ffd800\" height=\"15\" y=\"143\" width=\"208.62745098039215\" x=\"40\" /><rect fill=\"#ffd800\" height=\"15\" y=\"160\" width=\"208.62745098039215\" x=\"40\" /><rect fill=\"#ffd800\" height=\"15\" y=\"245\" width=\"10.980392156862742\" x=\"40\" /><rect fill=\"#ff5151\" height=\"15\" y=\"211\" width=\"10.980392156862763\" x=\"270.5882352941176\" /><rect fill=\"#ff5151\" height=\"15\" y=\"160\" width=\"32.94117647058823\" x=\"248.62745098039215\" /><rect fill=\"#ff5151\" height=\"15\" y=\"194\" width=\"21.960784313725497\" x=\"149.80392156862746\" /><rect fill=\"#ff5151\" height=\"15\" y=\"143\" width=\"43.92156862745094\" x=\"248.62745098039215\" /><rect fill=\"#ff5151\" height=\"15\" y=\"177\" width=\"10.980392156862763\" x=\"248.62745098039215\" /><rect fill=\"#ff5151\" height=\"15\" y=\"126\" width=\"21.960784313725483\" x=\"40\" /><rect fill=\"#ff5151\" height=\"15\" y=\"109\" width=\"10.980392156862742\" x=\"40\" /><rect fill=\"#ff5151\" height=\"15\" y=\"92\" width=\"21.960784313725483\" x=\"40\" /></g><g transform=\"translate(0,311)\"><rect fill=\"#ff5151\" height=\"15\" y=\"58\" width=\"43.92156862745098\" x=\"40\" /><rect fill=\"#ff5151\" height=\"15\" y=\"92\" width=\"296.4705882352941\" x=\"40\" /><rect fill=\"#ff5151\" height=\"15\" y=\"109\" width=\"241.5686274509804\" x=\"40\" /><rect fill=\"#ff5151\" height=\"15\" y=\"75\" width=\"142.7450980392157\" x=\"40\" /><rect fill=\"#ff5151\" height=\"15\" y=\"143\" width=\"32.94117647058823\" x=\"40\" /><rect fill=\"#ff5151\" height=\"15\" y=\"177\" width=\"43.92156862745098\" x=\"40\" /><rect fill=\"#ff5151\" height=\"15\" y=\"41\" width=\"65.88235294117648\" x=\"40\" /><rect fill=\"#ff5151\" height=\"15\" y=\"126\" width=\"153.72549019607845\" x=\"40\" /><rect fill=\"#ff5151\" height=\"15\" y=\"24\" width=\"10.980392156862742\" x=\"40\" /><rect fill=\"#ff5151\" height=\"15\" y=\"160\" width=\"10.980392156862742\" x=\"40\" /><rect fill=\"#ffd800\" height=\"15\" y=\"126\" width=\"263.52941176470586\" x=\"193.72549019607845\" /><rect fill=\"#ffd800\" height=\"15\" y=\"160\" width=\"527.0588235294118\" x=\"50.98039215686274\" /><rect fill=\"#ffd800\" height=\"15\" y=\"92\" width=\"43.921568627450995\" x=\"336.4705882352941\" /><rect fill=\"#ffd800\" height=\"15\" y=\"143\" width=\"483.1372549019607\" x=\"72.94117647058823\" /><rect fill=\"#ffd800\" height=\"15\" y=\"177\" width=\"329.4117647058823\" x=\"83.92156862745098\" /><rect fill=\"#ffd800\" height=\"15\" y=\"194\" width=\"373.3333333333333\" x=\"40\" /><rect fill=\"#ffd800\" height=\"15\" y=\"211\" width=\"395.29411764705884\" x=\"40\" /><rect fill=\"#ffd800\" height=\"15\" y=\"245\" width=\"307.4509803921569\" x=\"40\" /><rect fill=\"#ffd800\" height=\"15\" y=\"228\" width=\"351.3725490196078\" x=\"40\" /><rect fill=\"#ffd800\" height=\"15\" y=\"109\" width=\"186.66666666666669\" x=\"281.5686274509804\" /><rect fill=\"#ffd800\" height=\"15\" y=\"262\" width=\"252.5490196078431\" x=\"40\" /><rect fill=\"#ffd800\" height=\"15\" y=\"279\" width=\"32.94117647058823\" x=\"40\" /></g><g transform=\"translate(0,621)\"><rect fill=\"#ffd800\" height=\"15\" y=\"194\" width=\"329.4117647058823\" x=\"40\" /><rect fill=\"#ffd800\" height=\"15\" y=\"211\" width=\"395.29411764705884\" x=\"40\" /><rect fill=\"#ffd800\" height=\"15\" y=\"177\" width=\"472.156862745098\" x=\"40\" /><rect fill=\"#ffd800\" height=\"15\" y=\"245\" width=\"285.4901960784314\" x=\"40\" /><rect fill=\"#ffd800\" height=\"15\" y=\"228\" width=\"274.5098039215686\" x=\"40\" /><rect fill=\"#ffd800\" height=\"15\" y=\"126\" width=\"329.4117647058823\" x=\"40\" /><rect fill=\"#ffd800\" height=\"15\" y=\"109\" width=\"263.5294117647059\" x=\"40\" /><rect fill=\"#ffd800\" height=\"15\" y=\"143\" width=\"461.17647058823525\" x=\"40\" /><rect fill=\"#ffd800\" height=\"15\" y=\"160\" width=\"450.19607843137254\" x=\"40\" /><rect fill=\"#ffd800\" height=\"15\" y=\"262\" width=\"197.64705882352942\" x=\"40\" /><rect fill=\"#ffd800\" height=\"15\" y=\"92\" width=\"109.80392156862746\" x=\"40\" /><rect fill=\"#ffd800\" height=\"15\" y=\"75\" width=\"54.90196078431373\" x=\"40\" /><rect fill=\"#ffd800\" height=\"15\" y=\"58\" width=\"10.980392156862742\" x=\"40\" /><rect fill=\"#ff5151\" height=\"15\" y=\"143\" width=\"98.82352941176475\" x=\"501.17647058823525\" /><rect fill=\"#ff5151\" height=\"15\" y=\"58\" width=\"186.66666666666669\" x=\"50.98039215686274\" /><rect fill=\"#ff5151\" height=\"15\" y=\"109\" width=\"252.54901960784304\" x=\"303.5294117647059\" /><rect fill=\"#ff5151\" height=\"15\" y=\"126\" width=\"175.68627450980387\" x=\"369.4117647058823\" /><rect fill=\"#ff5151\" height=\"15\" y=\"41\" width=\"65.88235294117648\" x=\"40\" /><rect fill=\"#ff5151\" height=\"15\" y=\"75\" width=\"142.7450980392157\" x=\"94.90196078431373\" /><rect fill=\"#ff5151\" height=\"15\" y=\"24\" width=\"10.980392156862742\" x=\"40\" /><rect fill=\"#ff5151\" height=\"15\" y=\"92\" width=\"274.5098039215686\" x=\"149.80392156862746\" /><rect fill=\"#ff5151\" height=\"15\" y=\"160\" width=\"21.96078431372547\" x=\"490.19607843137254\" /></g><g transform=\"translate(0,931)\"><rect fill=\"#ffd800\" height=\"15\" y=\"177\" width=\"43.92156862745098\" x=\"40\" /><rect fill=\"#ffd800\" height=\"15\" y=\"228\" width=\"87.84313725490196\" x=\"40\" /><rect fill=\"#ffd800\" height=\"15\" y=\"262\" width=\"54.90196078431373\" x=\"40\" /><rect fill=\"#ffd800\" height=\"15\" y=\"160\" width=\"131.76470588235296\" x=\"40\" /><rect fill=\"#ffd800\" height=\"15\" y=\"126\" width=\"54.90196078431373\" x=\"40\" /><rect fill=\"#ffd800\" height=\"15\" y=\"245\" width=\"43.92156862745098\" x=\"40\" /><rect fill=\"#ffd800\" height=\"15\" y=\"143\" width=\"87.84313725490196\" x=\"40\" /><rect fill=\"#ffd800\" height=\"15\" y=\"194\" width=\"98.8235294117647\" x=\"40\" /><rect fill=\"#ffd800\" height=\"15\" y=\"109\" width=\"87.84313725490196\" x=\"40\" /><rect fill=\"#ffd800\" height=\"15\" y=\"92\" width=\"43.92156862745098\" x=\"40\" /><rect fill=\"#ffd800\" height=\"15\" y=\"75\" width=\"21.960784313725483\" x=\"40\" /><rect fill=\"#ffd800\" height=\"15\" y=\"211\" width=\"43.92156862745098\" x=\"40\" /><rect fill=\"#ff5151\" height=\"15\" y=\"109\" width=\"21.960784313725497\" x=\"127.84313725490196\" /><rect fill=\"#ff5151\" height=\"15\" y=\"143\" width=\"21.960784313725497\" x=\"127.84313725490196\" /><rect fill=\"#ff5151\" height=\"15\" y=\"92\" width=\"32.941176470588246\" x=\"83.92156862745098\" /><rect fill=\"#ff5151\" height=\"15\" y=\"194\" width=\"10.980392156862763\" x=\"138.8235294117647\" /><rect fill=\"#ff5151\" height=\"15\" y=\"126\" width=\"21.960784313725497\" x=\"94.90196078431373\" /><rect fill=\"#ff5151\" height=\"15\" y=\"24\" width=\"21.960784313725483\" x=\"40\" /><rect fill=\"#ff5151\" height=\"15\" y=\"41\" width=\"21.960784313725483\" x=\"40\" /><rect fill=\"#ff5151\" height=\"15\" y=\"75\" width=\"10.980392156862749\" x=\"61.96078431372548\" /><rect fill=\"#ff5151\" height=\"15\" y=\"58\" width=\"21.960784313725483\" x=\"40\" /></g></g></svg></figure>"
      ]
     },
     "metadata": {},
     "output_type": "display_data"
    },
    {
     "data": {
      "text/markdown": [
       "## By route setter"
      ]
     },
     "metadata": {},
     "output_type": "display_data"
    },
    {
     "data": {
      "text/html": [
       "<figure style=\"max-width:initial\" class=\"plot-d6a7b5-figure\"><div class=\"plot-d6a7b5-swatches plot-d6a7b5-swatches-wrap\"><style>:where(.plot-d6a7b5-swatches) {\n",
       "  font-family: system-ui, sans-serif;\n",
       "  font-size: 10px;\n",
       "  margin-bottom: 0.5em;\n",
       "}\n",
       ":where(.plot-d6a7b5-swatch > svg) {\n",
       "  margin-right: 0.5em;\n",
       "  overflow: visible;\n",
       "}\n",
       ":where(.plot-d6a7b5-swatches-wrap) {\n",
       "  display: flex;\n",
       "  align-items: center;\n",
       "  min-height: 33px;\n",
       "  flex-wrap: wrap;\n",
       "}\n",
       ":where(.plot-d6a7b5-swatches-wrap .plot-d6a7b5-swatch) {\n",
       "  display: inline-flex;\n",
       "  align-items: center;\n",
       "  margin-right: 1em;\n",
       "}</style><span class=\"plot-d6a7b5-swatch\"><svg fill=\"#ffd800\" height=\"15\" width=\"15\"><rect height=\"100%\" width=\"100%\" /></svg>flash</span><span class=\"plot-d6a7b5-swatch\"><svg fill=\"#ff5151\" height=\"15\" width=\"15\"><rect height=\"100%\" width=\"100%\" /></svg>redpoint</span></div><svg viewBox=\"0 0 1280 1290\" height=\"1290\" width=\"1280\" text-anchor=\"middle\" font-size=\"10\" font-family=\"system-ui, sans-serif\" fill=\"currentColor\" class=\"plot-d6a7b5\"><style>:where(.plot-d6a7b5) {\n",
       "  --plot-background: white;\n",
       "  display: block;\n",
       "  height: auto;\n",
       "  height: intrinsic;\n",
       "  max-width: 100%;\n",
       "}\n",
       ":where(.plot-d6a7b5 text),\n",
       ":where(.plot-d6a7b5 tspan) {\n",
       "  white-space: pre;\n",
       "}</style><g transform=\"translate(9,0)\" aria-label=\"fy-axis tick label\"><g transform=\"translate(922,3)\" text-anchor=\"start\"><text transform=\"translate(316,64.5)\" y=\"0.32em\">Anton Cuevas</text></g><g transform=\"translate(922,80)\" text-anchor=\"start\"><text transform=\"translate(316,64.5)\" y=\"0.32em\">Silver Breiktopf</text></g><g transform=\"translate(922,157)\" text-anchor=\"start\"><text transform=\"translate(316,64.5)\" y=\"0.32em\">Benjamin Schlobohm</text></g><g transform=\"translate(922,234)\" text-anchor=\"start\"><text transform=\"translate(316,64.5)\" y=\"0.32em\">James Thanawat</text></g><g transform=\"translate(922,311)\" text-anchor=\"start\"><text transform=\"translate(316,64.5)\" y=\"0.32em\">N.N.</text></g><g transform=\"translate(922,388)\" text-anchor=\"start\"><text transform=\"translate(316,64.5)\" y=\"0.32em\">Stina Dorwarth</text></g><g transform=\"translate(922,465)\" text-anchor=\"start\"><text transform=\"translate(316,64.5)\" y=\"0.32em\">Robert  Rundin </text></g><g transform=\"translate(922,542)\" text-anchor=\"start\"><text transform=\"translate(316,64.5)\" y=\"0.32em\">Sebastian Dahlgren </text></g><g transform=\"translate(922,619)\" text-anchor=\"start\"><text transform=\"translate(316,64.5)\" y=\"0.32em\">Isabelle Fugelstad</text></g><g transform=\"translate(922,696)\" text-anchor=\"start\"><text transform=\"translate(316,64.5)\" y=\"0.32em\">Sophie Machaczek</text></g><g transform=\"translate(922,773)\" text-anchor=\"start\"><text transform=\"translate(316,64.5)\" y=\"0.32em\">Scott Mooney</text></g><g transform=\"translate(922,850)\" text-anchor=\"start\"><text transform=\"translate(316,64.5)\" y=\"0.32em\">Oliver Sjödin</text></g><g transform=\"translate(922,927)\" text-anchor=\"start\"><text transform=\"translate(316,64.5)\" y=\"0.32em\">Robin Dahlberg</text></g><g transform=\"translate(922,1004)\" text-anchor=\"start\"><text transform=\"translate(316,64.5)\" y=\"0.32em\">Sofia Wideroth</text></g><g transform=\"translate(922,1081)\" text-anchor=\"start\"><text transform=\"translate(316,64.5)\" y=\"0.32em\">Tobias Lindgren</text></g><g transform=\"translate(922,1158)\" text-anchor=\"start\"><text transform=\"translate(316,64.5)\" y=\"0.32em\">Zac Chattaway</text></g></g><g transform=\"translate(39,0)\" aria-label=\"fy-axis label\"><text transform=\"translate(1238,645) rotate(-90)\">route_setter</text></g><g transform=\"translate(0,-9)\" aria-label=\"fx-axis tick label\"><g transform=\"translate(1,3)\"><text transform=\"translate(178,30)\">2,022</text></g><g transform=\"translate(308,3)\"><text transform=\"translate(178,30)\">2,023</text></g><g transform=\"translate(615,3)\"><text transform=\"translate(178,30)\">2,024</text></g><g transform=\"translate(922,3)\"><text transform=\"translate(178,30)\">2,025</text></g></g><g transform=\"translate(0,-30)\" aria-label=\"fx-axis label\"><text transform=\"translate(639.5,33)\" y=\"0.71em\">year</text></g><g transform=\"translate(0,2)\" aria-hidden=\"true\" aria-label=\"y-grid\"><g transform=\"translate(1,3)\" stroke-opacity=\"0.1\" stroke=\"currentColor\"><line y2=\"33\" y1=\"33\" x2=\"316\" x1=\"40\" /><line y2=\"37\" y1=\"37\" x2=\"316\" x1=\"40\" /><line y2=\"41\" y1=\"41\" x2=\"316\" x1=\"40\" /><line y2=\"45\" y1=\"45\" x2=\"316\" x1=\"40\" /><line y2=\"49\" y1=\"49\" x2=\"316\" x1=\"40\" /><line y2=\"53\" y1=\"53\" x2=\"316\" x1=\"40\" /><line y2=\"57\" y1=\"57\" x2=\"316\" x1=\"40\" /><line y2=\"61\" y1=\"61\" x2=\"316\" x1=\"40\" /><line y2=\"65\" y1=\"65\" x2=\"316\" x1=\"40\" /><line y2=\"69\" y1=\"69\" x2=\"316\" x1=\"40\" /><line y2=\"73\" y1=\"73\" x2=\"316\" x1=\"40\" /><line y2=\"77\" y1=\"77\" x2=\"316\" x1=\"40\" /><line y2=\"81\" y1=\"81\" x2=\"316\" x1=\"40\" /><line y2=\"85\" y1=\"85\" x2=\"316\" x1=\"40\" /><line y2=\"89\" y1=\"89\" x2=\"316\" x1=\"40\" /><line y2=\"93\" y1=\"93\" x2=\"316\" x1=\"40\" /></g><g transform=\"translate(1,157)\" stroke-opacity=\"0.1\" stroke=\"currentColor\"><line y2=\"33\" y1=\"33\" x2=\"316\" x1=\"40\" /><line y2=\"37\" y1=\"37\" x2=\"316\" x1=\"40\" /><line y2=\"41\" y1=\"41\" x2=\"316\" x1=\"40\" /><line y2=\"45\" y1=\"45\" x2=\"316\" x1=\"40\" /><line y2=\"49\" y1=\"49\" x2=\"316\" x1=\"40\" /><line y2=\"53\" y1=\"53\" x2=\"316\" x1=\"40\" /><line y2=\"57\" y1=\"57\" x2=\"316\" x1=\"40\" /><line y2=\"61\" y1=\"61\" x2=\"316\" x1=\"40\" /><line y2=\"65\" y1=\"65\" x2=\"316\" x1=\"40\" /><line y2=\"69\" y1=\"69\" x2=\"316\" x1=\"40\" /><line y2=\"73\" y1=\"73\" x2=\"316\" x1=\"40\" /><line y2=\"77\" y1=\"77\" x2=\"316\" x1=\"40\" /><line y2=\"81\" y1=\"81\" x2=\"316\" x1=\"40\" /><line y2=\"85\" y1=\"85\" x2=\"316\" x1=\"40\" /><line y2=\"89\" y1=\"89\" x2=\"316\" x1=\"40\" /><line y2=\"93\" y1=\"93\" x2=\"316\" x1=\"40\" /></g><g transform=\"translate(1,234)\" stroke-opacity=\"0.1\" stroke=\"currentColor\"><line y2=\"33\" y1=\"33\" x2=\"316\" x1=\"40\" /><line y2=\"37\" y1=\"37\" x2=\"316\" x1=\"40\" /><line y2=\"41\" y1=\"41\" x2=\"316\" x1=\"40\" /><line y2=\"45\" y1=\"45\" x2=\"316\" x1=\"40\" /><line y2=\"49\" y1=\"49\" x2=\"316\" x1=\"40\" /><line y2=\"53\" y1=\"53\" x2=\"316\" x1=\"40\" /><line y2=\"57\" y1=\"57\" x2=\"316\" x1=\"40\" /><line y2=\"61\" y1=\"61\" x2=\"316\" x1=\"40\" /><line y2=\"65\" y1=\"65\" x2=\"316\" x1=\"40\" /><line y2=\"69\" y1=\"69\" x2=\"316\" x1=\"40\" /><line y2=\"73\" y1=\"73\" x2=\"316\" x1=\"40\" /><line y2=\"77\" y1=\"77\" x2=\"316\" x1=\"40\" /><line y2=\"81\" y1=\"81\" x2=\"316\" x1=\"40\" /><line y2=\"85\" y1=\"85\" x2=\"316\" x1=\"40\" /><line y2=\"89\" y1=\"89\" x2=\"316\" x1=\"40\" /><line y2=\"93\" y1=\"93\" x2=\"316\" x1=\"40\" /></g><g transform=\"translate(1,311)\" stroke-opacity=\"0.1\" stroke=\"currentColor\"><line y2=\"33\" y1=\"33\" x2=\"316\" x1=\"40\" /><line y2=\"37\" y1=\"37\" x2=\"316\" x1=\"40\" /><line y2=\"41\" y1=\"41\" x2=\"316\" x1=\"40\" /><line y2=\"45\" y1=\"45\" x2=\"316\" x1=\"40\" /><line y2=\"49\" y1=\"49\" x2=\"316\" x1=\"40\" /><line y2=\"53\" y1=\"53\" x2=\"316\" x1=\"40\" /><line y2=\"57\" y1=\"57\" x2=\"316\" x1=\"40\" /><line y2=\"61\" y1=\"61\" x2=\"316\" x1=\"40\" /><line y2=\"65\" y1=\"65\" x2=\"316\" x1=\"40\" /><line y2=\"69\" y1=\"69\" x2=\"316\" x1=\"40\" /><line y2=\"73\" y1=\"73\" x2=\"316\" x1=\"40\" /><line y2=\"77\" y1=\"77\" x2=\"316\" x1=\"40\" /><line y2=\"81\" y1=\"81\" x2=\"316\" x1=\"40\" /><line y2=\"85\" y1=\"85\" x2=\"316\" x1=\"40\" /><line y2=\"89\" y1=\"89\" x2=\"316\" x1=\"40\" /><line y2=\"93\" y1=\"93\" x2=\"316\" x1=\"40\" /></g><g transform=\"translate(1,388)\" stroke-opacity=\"0.1\" stroke=\"currentColor\"><line y2=\"33\" y1=\"33\" x2=\"316\" x1=\"40\" /><line y2=\"37\" y1=\"37\" x2=\"316\" x1=\"40\" /><line y2=\"41\" y1=\"41\" x2=\"316\" x1=\"40\" /><line y2=\"45\" y1=\"45\" x2=\"316\" x1=\"40\" /><line y2=\"49\" y1=\"49\" x2=\"316\" x1=\"40\" /><line y2=\"53\" y1=\"53\" x2=\"316\" x1=\"40\" /><line y2=\"57\" y1=\"57\" x2=\"316\" x1=\"40\" /><line y2=\"61\" y1=\"61\" x2=\"316\" x1=\"40\" /><line y2=\"65\" y1=\"65\" x2=\"316\" x1=\"40\" /><line y2=\"69\" y1=\"69\" x2=\"316\" x1=\"40\" /><line y2=\"73\" y1=\"73\" x2=\"316\" x1=\"40\" /><line y2=\"77\" y1=\"77\" x2=\"316\" x1=\"40\" /><line y2=\"81\" y1=\"81\" x2=\"316\" x1=\"40\" /><line y2=\"85\" y1=\"85\" x2=\"316\" x1=\"40\" /><line y2=\"89\" y1=\"89\" x2=\"316\" x1=\"40\" /><line y2=\"93\" y1=\"93\" x2=\"316\" x1=\"40\" /></g><g transform=\"translate(1,465)\" stroke-opacity=\"0.1\" stroke=\"currentColor\"><line y2=\"33\" y1=\"33\" x2=\"316\" x1=\"40\" /><line y2=\"37\" y1=\"37\" x2=\"316\" x1=\"40\" /><line y2=\"41\" y1=\"41\" x2=\"316\" x1=\"40\" /><line y2=\"45\" y1=\"45\" x2=\"316\" x1=\"40\" /><line y2=\"49\" y1=\"49\" x2=\"316\" x1=\"40\" /><line y2=\"53\" y1=\"53\" x2=\"316\" x1=\"40\" /><line y2=\"57\" y1=\"57\" x2=\"316\" x1=\"40\" /><line y2=\"61\" y1=\"61\" x2=\"316\" x1=\"40\" /><line y2=\"65\" y1=\"65\" x2=\"316\" x1=\"40\" /><line y2=\"69\" y1=\"69\" x2=\"316\" x1=\"40\" /><line y2=\"73\" y1=\"73\" x2=\"316\" x1=\"40\" /><line y2=\"77\" y1=\"77\" x2=\"316\" x1=\"40\" /><line y2=\"81\" y1=\"81\" x2=\"316\" x1=\"40\" /><line y2=\"85\" y1=\"85\" x2=\"316\" x1=\"40\" /><line y2=\"89\" y1=\"89\" x2=\"316\" x1=\"40\" /><line y2=\"93\" y1=\"93\" x2=\"316\" x1=\"40\" /></g><g transform=\"translate(308,3)\" stroke-opacity=\"0.1\" stroke=\"currentColor\"><line y2=\"33\" y1=\"33\" x2=\"316\" x1=\"40\" /><line y2=\"37\" y1=\"37\" x2=\"316\" x1=\"40\" /><line y2=\"41\" y1=\"41\" x2=\"316\" x1=\"40\" /><line y2=\"45\" y1=\"45\" x2=\"316\" x1=\"40\" /><line y2=\"49\" y1=\"49\" x2=\"316\" x1=\"40\" /><line y2=\"53\" y1=\"53\" x2=\"316\" x1=\"40\" /><line y2=\"57\" y1=\"57\" x2=\"316\" x1=\"40\" /><line y2=\"61\" y1=\"61\" x2=\"316\" x1=\"40\" /><line y2=\"65\" y1=\"65\" x2=\"316\" x1=\"40\" /><line y2=\"69\" y1=\"69\" x2=\"316\" x1=\"40\" /><line y2=\"73\" y1=\"73\" x2=\"316\" x1=\"40\" /><line y2=\"77\" y1=\"77\" x2=\"316\" x1=\"40\" /><line y2=\"81\" y1=\"81\" x2=\"316\" x1=\"40\" /><line y2=\"85\" y1=\"85\" x2=\"316\" x1=\"40\" /><line y2=\"89\" y1=\"89\" x2=\"316\" x1=\"40\" /><line y2=\"93\" y1=\"93\" x2=\"316\" x1=\"40\" /></g><g transform=\"translate(308,80)\" stroke-opacity=\"0.1\" stroke=\"currentColor\"><line y2=\"33\" y1=\"33\" x2=\"316\" x1=\"40\" /><line y2=\"37\" y1=\"37\" x2=\"316\" x1=\"40\" /><line y2=\"41\" y1=\"41\" x2=\"316\" x1=\"40\" /><line y2=\"45\" y1=\"45\" x2=\"316\" x1=\"40\" /><line y2=\"49\" y1=\"49\" x2=\"316\" x1=\"40\" /><line y2=\"53\" y1=\"53\" x2=\"316\" x1=\"40\" /><line y2=\"57\" y1=\"57\" x2=\"316\" x1=\"40\" /><line y2=\"61\" y1=\"61\" x2=\"316\" x1=\"40\" /><line y2=\"65\" y1=\"65\" x2=\"316\" x1=\"40\" /><line y2=\"69\" y1=\"69\" x2=\"316\" x1=\"40\" /><line y2=\"73\" y1=\"73\" x2=\"316\" x1=\"40\" /><line y2=\"77\" y1=\"77\" x2=\"316\" x1=\"40\" /><line y2=\"81\" y1=\"81\" x2=\"316\" x1=\"40\" /><line y2=\"85\" y1=\"85\" x2=\"316\" x1=\"40\" /><line y2=\"89\" y1=\"89\" x2=\"316\" x1=\"40\" /><line y2=\"93\" y1=\"93\" x2=\"316\" x1=\"40\" /></g><g transform=\"translate(308,157)\" stroke-opacity=\"0.1\" stroke=\"currentColor\"><line y2=\"33\" y1=\"33\" x2=\"316\" x1=\"40\" /><line y2=\"37\" y1=\"37\" x2=\"316\" x1=\"40\" /><line y2=\"41\" y1=\"41\" x2=\"316\" x1=\"40\" /><line y2=\"45\" y1=\"45\" x2=\"316\" x1=\"40\" /><line y2=\"49\" y1=\"49\" x2=\"316\" x1=\"40\" /><line y2=\"53\" y1=\"53\" x2=\"316\" x1=\"40\" /><line y2=\"57\" y1=\"57\" x2=\"316\" x1=\"40\" /><line y2=\"61\" y1=\"61\" x2=\"316\" x1=\"40\" /><line y2=\"65\" y1=\"65\" x2=\"316\" x1=\"40\" /><line y2=\"69\" y1=\"69\" x2=\"316\" x1=\"40\" /><line y2=\"73\" y1=\"73\" x2=\"316\" x1=\"40\" /><line y2=\"77\" y1=\"77\" x2=\"316\" x1=\"40\" /><line y2=\"81\" y1=\"81\" x2=\"316\" x1=\"40\" /><line y2=\"85\" y1=\"85\" x2=\"316\" x1=\"40\" /><line y2=\"89\" y1=\"89\" x2=\"316\" x1=\"40\" /><line y2=\"93\" y1=\"93\" x2=\"316\" x1=\"40\" /></g><g transform=\"translate(308,234)\" stroke-opacity=\"0.1\" stroke=\"currentColor\"><line y2=\"33\" y1=\"33\" x2=\"316\" x1=\"40\" /><line y2=\"37\" y1=\"37\" x2=\"316\" x1=\"40\" /><line y2=\"41\" y1=\"41\" x2=\"316\" x1=\"40\" /><line y2=\"45\" y1=\"45\" x2=\"316\" x1=\"40\" /><line y2=\"49\" y1=\"49\" x2=\"316\" x1=\"40\" /><line y2=\"53\" y1=\"53\" x2=\"316\" x1=\"40\" /><line y2=\"57\" y1=\"57\" x2=\"316\" x1=\"40\" /><line y2=\"61\" y1=\"61\" x2=\"316\" x1=\"40\" /><line y2=\"65\" y1=\"65\" x2=\"316\" x1=\"40\" /><line y2=\"69\" y1=\"69\" x2=\"316\" x1=\"40\" /><line y2=\"73\" y1=\"73\" x2=\"316\" x1=\"40\" /><line y2=\"77\" y1=\"77\" x2=\"316\" x1=\"40\" /><line y2=\"81\" y1=\"81\" x2=\"316\" x1=\"40\" /><line y2=\"85\" y1=\"85\" x2=\"316\" x1=\"40\" /><line y2=\"89\" y1=\"89\" x2=\"316\" x1=\"40\" /><line y2=\"93\" y1=\"93\" x2=\"316\" x1=\"40\" /></g><g transform=\"translate(308,311)\" stroke-opacity=\"0.1\" stroke=\"currentColor\"><line y2=\"33\" y1=\"33\" x2=\"316\" x1=\"40\" /><line y2=\"37\" y1=\"37\" x2=\"316\" x1=\"40\" /><line y2=\"41\" y1=\"41\" x2=\"316\" x1=\"40\" /><line y2=\"45\" y1=\"45\" x2=\"316\" x1=\"40\" /><line y2=\"49\" y1=\"49\" x2=\"316\" x1=\"40\" /><line y2=\"53\" y1=\"53\" x2=\"316\" x1=\"40\" /><line y2=\"57\" y1=\"57\" x2=\"316\" x1=\"40\" /><line y2=\"61\" y1=\"61\" x2=\"316\" x1=\"40\" /><line y2=\"65\" y1=\"65\" x2=\"316\" x1=\"40\" /><line y2=\"69\" y1=\"69\" x2=\"316\" x1=\"40\" /><line y2=\"73\" y1=\"73\" x2=\"316\" x1=\"40\" /><line y2=\"77\" y1=\"77\" x2=\"316\" x1=\"40\" /><line y2=\"81\" y1=\"81\" x2=\"316\" x1=\"40\" /><line y2=\"85\" y1=\"85\" x2=\"316\" x1=\"40\" /><line y2=\"89\" y1=\"89\" x2=\"316\" x1=\"40\" /><line y2=\"93\" y1=\"93\" x2=\"316\" x1=\"40\" /></g><g transform=\"translate(308,388)\" stroke-opacity=\"0.1\" stroke=\"currentColor\"><line y2=\"33\" y1=\"33\" x2=\"316\" x1=\"40\" /><line y2=\"37\" y1=\"37\" x2=\"316\" x1=\"40\" /><line y2=\"41\" y1=\"41\" x2=\"316\" x1=\"40\" /><line y2=\"45\" y1=\"45\" x2=\"316\" x1=\"40\" /><line y2=\"49\" y1=\"49\" x2=\"316\" x1=\"40\" /><line y2=\"53\" y1=\"53\" x2=\"316\" x1=\"40\" /><line y2=\"57\" y1=\"57\" x2=\"316\" x1=\"40\" /><line y2=\"61\" y1=\"61\" x2=\"316\" x1=\"40\" /><line y2=\"65\" y1=\"65\" x2=\"316\" x1=\"40\" /><line y2=\"69\" y1=\"69\" x2=\"316\" x1=\"40\" /><line y2=\"73\" y1=\"73\" x2=\"316\" x1=\"40\" /><line y2=\"77\" y1=\"77\" x2=\"316\" x1=\"40\" /><line y2=\"81\" y1=\"81\" x2=\"316\" x1=\"40\" /><line y2=\"85\" y1=\"85\" x2=\"316\" x1=\"40\" /><line y2=\"89\" y1=\"89\" x2=\"316\" x1=\"40\" /><line y2=\"93\" y1=\"93\" x2=\"316\" x1=\"40\" /></g><g transform=\"translate(308,465)\" stroke-opacity=\"0.1\" stroke=\"currentColor\"><line y2=\"33\" y1=\"33\" x2=\"316\" x1=\"40\" /><line y2=\"37\" y1=\"37\" x2=\"316\" x1=\"40\" /><line y2=\"41\" y1=\"41\" x2=\"316\" x1=\"40\" /><line y2=\"45\" y1=\"45\" x2=\"316\" x1=\"40\" /><line y2=\"49\" y1=\"49\" x2=\"316\" x1=\"40\" /><line y2=\"53\" y1=\"53\" x2=\"316\" x1=\"40\" /><line y2=\"57\" y1=\"57\" x2=\"316\" x1=\"40\" /><line y2=\"61\" y1=\"61\" x2=\"316\" x1=\"40\" /><line y2=\"65\" y1=\"65\" x2=\"316\" x1=\"40\" /><line y2=\"69\" y1=\"69\" x2=\"316\" x1=\"40\" /><line y2=\"73\" y1=\"73\" x2=\"316\" x1=\"40\" /><line y2=\"77\" y1=\"77\" x2=\"316\" x1=\"40\" /><line y2=\"81\" y1=\"81\" x2=\"316\" x1=\"40\" /><line y2=\"85\" y1=\"85\" x2=\"316\" x1=\"40\" /><line y2=\"89\" y1=\"89\" x2=\"316\" x1=\"40\" /><line y2=\"93\" y1=\"93\" x2=\"316\" x1=\"40\" /></g><g transform=\"translate(308,542)\" stroke-opacity=\"0.1\" stroke=\"currentColor\"><line y2=\"33\" y1=\"33\" x2=\"316\" x1=\"40\" /><line y2=\"37\" y1=\"37\" x2=\"316\" x1=\"40\" /><line y2=\"41\" y1=\"41\" x2=\"316\" x1=\"40\" /><line y2=\"45\" y1=\"45\" x2=\"316\" x1=\"40\" /><line y2=\"49\" y1=\"49\" x2=\"316\" x1=\"40\" /><line y2=\"53\" y1=\"53\" x2=\"316\" x1=\"40\" /><line y2=\"57\" y1=\"57\" x2=\"316\" x1=\"40\" /><line y2=\"61\" y1=\"61\" x2=\"316\" x1=\"40\" /><line y2=\"65\" y1=\"65\" x2=\"316\" x1=\"40\" /><line y2=\"69\" y1=\"69\" x2=\"316\" x1=\"40\" /><line y2=\"73\" y1=\"73\" x2=\"316\" x1=\"40\" /><line y2=\"77\" y1=\"77\" x2=\"316\" x1=\"40\" /><line y2=\"81\" y1=\"81\" x2=\"316\" x1=\"40\" /><line y2=\"85\" y1=\"85\" x2=\"316\" x1=\"40\" /><line y2=\"89\" y1=\"89\" x2=\"316\" x1=\"40\" /><line y2=\"93\" y1=\"93\" x2=\"316\" x1=\"40\" /></g><g transform=\"translate(308,619)\" stroke-opacity=\"0.1\" stroke=\"currentColor\"><line y2=\"33\" y1=\"33\" x2=\"316\" x1=\"40\" /><line y2=\"37\" y1=\"37\" x2=\"316\" x1=\"40\" /><line y2=\"41\" y1=\"41\" x2=\"316\" x1=\"40\" /><line y2=\"45\" y1=\"45\" x2=\"316\" x1=\"40\" /><line y2=\"49\" y1=\"49\" x2=\"316\" x1=\"40\" /><line y2=\"53\" y1=\"53\" x2=\"316\" x1=\"40\" /><line y2=\"57\" y1=\"57\" x2=\"316\" x1=\"40\" /><line y2=\"61\" y1=\"61\" x2=\"316\" x1=\"40\" /><line y2=\"65\" y1=\"65\" x2=\"316\" x1=\"40\" /><line y2=\"69\" y1=\"69\" x2=\"316\" x1=\"40\" /><line y2=\"73\" y1=\"73\" x2=\"316\" x1=\"40\" /><line y2=\"77\" y1=\"77\" x2=\"316\" x1=\"40\" /><line y2=\"81\" y1=\"81\" x2=\"316\" x1=\"40\" /><line y2=\"85\" y1=\"85\" x2=\"316\" x1=\"40\" /><line y2=\"89\" y1=\"89\" x2=\"316\" x1=\"40\" /><line y2=\"93\" y1=\"93\" x2=\"316\" x1=\"40\" /></g><g transform=\"translate(308,773)\" stroke-opacity=\"0.1\" stroke=\"currentColor\"><line y2=\"33\" y1=\"33\" x2=\"316\" x1=\"40\" /><line y2=\"37\" y1=\"37\" x2=\"316\" x1=\"40\" /><line y2=\"41\" y1=\"41\" x2=\"316\" x1=\"40\" /><line y2=\"45\" y1=\"45\" x2=\"316\" x1=\"40\" /><line y2=\"49\" y1=\"49\" x2=\"316\" x1=\"40\" /><line y2=\"53\" y1=\"53\" x2=\"316\" x1=\"40\" /><line y2=\"57\" y1=\"57\" x2=\"316\" x1=\"40\" /><line y2=\"61\" y1=\"61\" x2=\"316\" x1=\"40\" /><line y2=\"65\" y1=\"65\" x2=\"316\" x1=\"40\" /><line y2=\"69\" y1=\"69\" x2=\"316\" x1=\"40\" /><line y2=\"73\" y1=\"73\" x2=\"316\" x1=\"40\" /><line y2=\"77\" y1=\"77\" x2=\"316\" x1=\"40\" /><line y2=\"81\" y1=\"81\" x2=\"316\" x1=\"40\" /><line y2=\"85\" y1=\"85\" x2=\"316\" x1=\"40\" /><line y2=\"89\" y1=\"89\" x2=\"316\" x1=\"40\" /><line y2=\"93\" y1=\"93\" x2=\"316\" x1=\"40\" /></g><g transform=\"translate(308,850)\" stroke-opacity=\"0.1\" stroke=\"currentColor\"><line y2=\"33\" y1=\"33\" x2=\"316\" x1=\"40\" /><line y2=\"37\" y1=\"37\" x2=\"316\" x1=\"40\" /><line y2=\"41\" y1=\"41\" x2=\"316\" x1=\"40\" /><line y2=\"45\" y1=\"45\" x2=\"316\" x1=\"40\" /><line y2=\"49\" y1=\"49\" x2=\"316\" x1=\"40\" /><line y2=\"53\" y1=\"53\" x2=\"316\" x1=\"40\" /><line y2=\"57\" y1=\"57\" x2=\"316\" x1=\"40\" /><line y2=\"61\" y1=\"61\" x2=\"316\" x1=\"40\" /><line y2=\"65\" y1=\"65\" x2=\"316\" x1=\"40\" /><line y2=\"69\" y1=\"69\" x2=\"316\" x1=\"40\" /><line y2=\"73\" y1=\"73\" x2=\"316\" x1=\"40\" /><line y2=\"77\" y1=\"77\" x2=\"316\" x1=\"40\" /><line y2=\"81\" y1=\"81\" x2=\"316\" x1=\"40\" /><line y2=\"85\" y1=\"85\" x2=\"316\" x1=\"40\" /><line y2=\"89\" y1=\"89\" x2=\"316\" x1=\"40\" /><line y2=\"93\" y1=\"93\" x2=\"316\" x1=\"40\" /></g><g transform=\"translate(308,927)\" stroke-opacity=\"0.1\" stroke=\"currentColor\"><line y2=\"33\" y1=\"33\" x2=\"316\" x1=\"40\" /><line y2=\"37\" y1=\"37\" x2=\"316\" x1=\"40\" /><line y2=\"41\" y1=\"41\" x2=\"316\" x1=\"40\" /><line y2=\"45\" y1=\"45\" x2=\"316\" x1=\"40\" /><line y2=\"49\" y1=\"49\" x2=\"316\" x1=\"40\" /><line y2=\"53\" y1=\"53\" x2=\"316\" x1=\"40\" /><line y2=\"57\" y1=\"57\" x2=\"316\" x1=\"40\" /><line y2=\"61\" y1=\"61\" x2=\"316\" x1=\"40\" /><line y2=\"65\" y1=\"65\" x2=\"316\" x1=\"40\" /><line y2=\"69\" y1=\"69\" x2=\"316\" x1=\"40\" /><line y2=\"73\" y1=\"73\" x2=\"316\" x1=\"40\" /><line y2=\"77\" y1=\"77\" x2=\"316\" x1=\"40\" /><line y2=\"81\" y1=\"81\" x2=\"316\" x1=\"40\" /><line y2=\"85\" y1=\"85\" x2=\"316\" x1=\"40\" /><line y2=\"89\" y1=\"89\" x2=\"316\" x1=\"40\" /><line y2=\"93\" y1=\"93\" x2=\"316\" x1=\"40\" /></g><g transform=\"translate(308,1004)\" stroke-opacity=\"0.1\" stroke=\"currentColor\"><line y2=\"33\" y1=\"33\" x2=\"316\" x1=\"40\" /><line y2=\"37\" y1=\"37\" x2=\"316\" x1=\"40\" /><line y2=\"41\" y1=\"41\" x2=\"316\" x1=\"40\" /><line y2=\"45\" y1=\"45\" x2=\"316\" x1=\"40\" /><line y2=\"49\" y1=\"49\" x2=\"316\" x1=\"40\" /><line y2=\"53\" y1=\"53\" x2=\"316\" x1=\"40\" /><line y2=\"57\" y1=\"57\" x2=\"316\" x1=\"40\" /><line y2=\"61\" y1=\"61\" x2=\"316\" x1=\"40\" /><line y2=\"65\" y1=\"65\" x2=\"316\" x1=\"40\" /><line y2=\"69\" y1=\"69\" x2=\"316\" x1=\"40\" /><line y2=\"73\" y1=\"73\" x2=\"316\" x1=\"40\" /><line y2=\"77\" y1=\"77\" x2=\"316\" x1=\"40\" /><line y2=\"81\" y1=\"81\" x2=\"316\" x1=\"40\" /><line y2=\"85\" y1=\"85\" x2=\"316\" x1=\"40\" /><line y2=\"89\" y1=\"89\" x2=\"316\" x1=\"40\" /><line y2=\"93\" y1=\"93\" x2=\"316\" x1=\"40\" /></g><g transform=\"translate(615,3)\" stroke-opacity=\"0.1\" stroke=\"currentColor\"><line y2=\"33\" y1=\"33\" x2=\"316\" x1=\"40\" /><line y2=\"37\" y1=\"37\" x2=\"316\" x1=\"40\" /><line y2=\"41\" y1=\"41\" x2=\"316\" x1=\"40\" /><line y2=\"45\" y1=\"45\" x2=\"316\" x1=\"40\" /><line y2=\"49\" y1=\"49\" x2=\"316\" x1=\"40\" /><line y2=\"53\" y1=\"53\" x2=\"316\" x1=\"40\" /><line y2=\"57\" y1=\"57\" x2=\"316\" x1=\"40\" /><line y2=\"61\" y1=\"61\" x2=\"316\" x1=\"40\" /><line y2=\"65\" y1=\"65\" x2=\"316\" x1=\"40\" /><line y2=\"69\" y1=\"69\" x2=\"316\" x1=\"40\" /><line y2=\"73\" y1=\"73\" x2=\"316\" x1=\"40\" /><line y2=\"77\" y1=\"77\" x2=\"316\" x1=\"40\" /><line y2=\"81\" y1=\"81\" x2=\"316\" x1=\"40\" /><line y2=\"85\" y1=\"85\" x2=\"316\" x1=\"40\" /><line y2=\"89\" y1=\"89\" x2=\"316\" x1=\"40\" /><line y2=\"93\" y1=\"93\" x2=\"316\" x1=\"40\" /></g><g transform=\"translate(615,80)\" stroke-opacity=\"0.1\" stroke=\"currentColor\"><line y2=\"33\" y1=\"33\" x2=\"316\" x1=\"40\" /><line y2=\"37\" y1=\"37\" x2=\"316\" x1=\"40\" /><line y2=\"41\" y1=\"41\" x2=\"316\" x1=\"40\" /><line y2=\"45\" y1=\"45\" x2=\"316\" x1=\"40\" /><line y2=\"49\" y1=\"49\" x2=\"316\" x1=\"40\" /><line y2=\"53\" y1=\"53\" x2=\"316\" x1=\"40\" /><line y2=\"57\" y1=\"57\" x2=\"316\" x1=\"40\" /><line y2=\"61\" y1=\"61\" x2=\"316\" x1=\"40\" /><line y2=\"65\" y1=\"65\" x2=\"316\" x1=\"40\" /><line y2=\"69\" y1=\"69\" x2=\"316\" x1=\"40\" /><line y2=\"73\" y1=\"73\" x2=\"316\" x1=\"40\" /><line y2=\"77\" y1=\"77\" x2=\"316\" x1=\"40\" /><line y2=\"81\" y1=\"81\" x2=\"316\" x1=\"40\" /><line y2=\"85\" y1=\"85\" x2=\"316\" x1=\"40\" /><line y2=\"89\" y1=\"89\" x2=\"316\" x1=\"40\" /><line y2=\"93\" y1=\"93\" x2=\"316\" x1=\"40\" /></g><g transform=\"translate(615,157)\" stroke-opacity=\"0.1\" stroke=\"currentColor\"><line y2=\"33\" y1=\"33\" x2=\"316\" x1=\"40\" /><line y2=\"37\" y1=\"37\" x2=\"316\" x1=\"40\" /><line y2=\"41\" y1=\"41\" x2=\"316\" x1=\"40\" /><line y2=\"45\" y1=\"45\" x2=\"316\" x1=\"40\" /><line y2=\"49\" y1=\"49\" x2=\"316\" x1=\"40\" /><line y2=\"53\" y1=\"53\" x2=\"316\" x1=\"40\" /><line y2=\"57\" y1=\"57\" x2=\"316\" x1=\"40\" /><line y2=\"61\" y1=\"61\" x2=\"316\" x1=\"40\" /><line y2=\"65\" y1=\"65\" x2=\"316\" x1=\"40\" /><line y2=\"69\" y1=\"69\" x2=\"316\" x1=\"40\" /><line y2=\"73\" y1=\"73\" x2=\"316\" x1=\"40\" /><line y2=\"77\" y1=\"77\" x2=\"316\" x1=\"40\" /><line y2=\"81\" y1=\"81\" x2=\"316\" x1=\"40\" /><line y2=\"85\" y1=\"85\" x2=\"316\" x1=\"40\" /><line y2=\"89\" y1=\"89\" x2=\"316\" x1=\"40\" /><line y2=\"93\" y1=\"93\" x2=\"316\" x1=\"40\" /></g><g transform=\"translate(615,234)\" stroke-opacity=\"0.1\" stroke=\"currentColor\"><line y2=\"33\" y1=\"33\" x2=\"316\" x1=\"40\" /><line y2=\"37\" y1=\"37\" x2=\"316\" x1=\"40\" /><line y2=\"41\" y1=\"41\" x2=\"316\" x1=\"40\" /><line y2=\"45\" y1=\"45\" x2=\"316\" x1=\"40\" /><line y2=\"49\" y1=\"49\" x2=\"316\" x1=\"40\" /><line y2=\"53\" y1=\"53\" x2=\"316\" x1=\"40\" /><line y2=\"57\" y1=\"57\" x2=\"316\" x1=\"40\" /><line y2=\"61\" y1=\"61\" x2=\"316\" x1=\"40\" /><line y2=\"65\" y1=\"65\" x2=\"316\" x1=\"40\" /><line y2=\"69\" y1=\"69\" x2=\"316\" x1=\"40\" /><line y2=\"73\" y1=\"73\" x2=\"316\" x1=\"40\" /><line y2=\"77\" y1=\"77\" x2=\"316\" x1=\"40\" /><line y2=\"81\" y1=\"81\" x2=\"316\" x1=\"40\" /><line y2=\"85\" y1=\"85\" x2=\"316\" x1=\"40\" /><line y2=\"89\" y1=\"89\" x2=\"316\" x1=\"40\" /><line y2=\"93\" y1=\"93\" x2=\"316\" x1=\"40\" /></g><g transform=\"translate(615,311)\" stroke-opacity=\"0.1\" stroke=\"currentColor\"><line y2=\"33\" y1=\"33\" x2=\"316\" x1=\"40\" /><line y2=\"37\" y1=\"37\" x2=\"316\" x1=\"40\" /><line y2=\"41\" y1=\"41\" x2=\"316\" x1=\"40\" /><line y2=\"45\" y1=\"45\" x2=\"316\" x1=\"40\" /><line y2=\"49\" y1=\"49\" x2=\"316\" x1=\"40\" /><line y2=\"53\" y1=\"53\" x2=\"316\" x1=\"40\" /><line y2=\"57\" y1=\"57\" x2=\"316\" x1=\"40\" /><line y2=\"61\" y1=\"61\" x2=\"316\" x1=\"40\" /><line y2=\"65\" y1=\"65\" x2=\"316\" x1=\"40\" /><line y2=\"69\" y1=\"69\" x2=\"316\" x1=\"40\" /><line y2=\"73\" y1=\"73\" x2=\"316\" x1=\"40\" /><line y2=\"77\" y1=\"77\" x2=\"316\" x1=\"40\" /><line y2=\"81\" y1=\"81\" x2=\"316\" x1=\"40\" /><line y2=\"85\" y1=\"85\" x2=\"316\" x1=\"40\" /><line y2=\"89\" y1=\"89\" x2=\"316\" x1=\"40\" /><line y2=\"93\" y1=\"93\" x2=\"316\" x1=\"40\" /></g><g transform=\"translate(615,388)\" stroke-opacity=\"0.1\" stroke=\"currentColor\"><line y2=\"33\" y1=\"33\" x2=\"316\" x1=\"40\" /><line y2=\"37\" y1=\"37\" x2=\"316\" x1=\"40\" /><line y2=\"41\" y1=\"41\" x2=\"316\" x1=\"40\" /><line y2=\"45\" y1=\"45\" x2=\"316\" x1=\"40\" /><line y2=\"49\" y1=\"49\" x2=\"316\" x1=\"40\" /><line y2=\"53\" y1=\"53\" x2=\"316\" x1=\"40\" /><line y2=\"57\" y1=\"57\" x2=\"316\" x1=\"40\" /><line y2=\"61\" y1=\"61\" x2=\"316\" x1=\"40\" /><line y2=\"65\" y1=\"65\" x2=\"316\" x1=\"40\" /><line y2=\"69\" y1=\"69\" x2=\"316\" x1=\"40\" /><line y2=\"73\" y1=\"73\" x2=\"316\" x1=\"40\" /><line y2=\"77\" y1=\"77\" x2=\"316\" x1=\"40\" /><line y2=\"81\" y1=\"81\" x2=\"316\" x1=\"40\" /><line y2=\"85\" y1=\"85\" x2=\"316\" x1=\"40\" /><line y2=\"89\" y1=\"89\" x2=\"316\" x1=\"40\" /><line y2=\"93\" y1=\"93\" x2=\"316\" x1=\"40\" /></g><g transform=\"translate(615,465)\" stroke-opacity=\"0.1\" stroke=\"currentColor\"><line y2=\"33\" y1=\"33\" x2=\"316\" x1=\"40\" /><line y2=\"37\" y1=\"37\" x2=\"316\" x1=\"40\" /><line y2=\"41\" y1=\"41\" x2=\"316\" x1=\"40\" /><line y2=\"45\" y1=\"45\" x2=\"316\" x1=\"40\" /><line y2=\"49\" y1=\"49\" x2=\"316\" x1=\"40\" /><line y2=\"53\" y1=\"53\" x2=\"316\" x1=\"40\" /><line y2=\"57\" y1=\"57\" x2=\"316\" x1=\"40\" /><line y2=\"61\" y1=\"61\" x2=\"316\" x1=\"40\" /><line y2=\"65\" y1=\"65\" x2=\"316\" x1=\"40\" /><line y2=\"69\" y1=\"69\" x2=\"316\" x1=\"40\" /><line y2=\"73\" y1=\"73\" x2=\"316\" x1=\"40\" /><line y2=\"77\" y1=\"77\" x2=\"316\" x1=\"40\" /><line y2=\"81\" y1=\"81\" x2=\"316\" x1=\"40\" /><line y2=\"85\" y1=\"85\" x2=\"316\" x1=\"40\" /><line y2=\"89\" y1=\"89\" x2=\"316\" x1=\"40\" /><line y2=\"93\" y1=\"93\" x2=\"316\" x1=\"40\" /></g><g transform=\"translate(615,542)\" stroke-opacity=\"0.1\" stroke=\"currentColor\"><line y2=\"33\" y1=\"33\" x2=\"316\" x1=\"40\" /><line y2=\"37\" y1=\"37\" x2=\"316\" x1=\"40\" /><line y2=\"41\" y1=\"41\" x2=\"316\" x1=\"40\" /><line y2=\"45\" y1=\"45\" x2=\"316\" x1=\"40\" /><line y2=\"49\" y1=\"49\" x2=\"316\" x1=\"40\" /><line y2=\"53\" y1=\"53\" x2=\"316\" x1=\"40\" /><line y2=\"57\" y1=\"57\" x2=\"316\" x1=\"40\" /><line y2=\"61\" y1=\"61\" x2=\"316\" x1=\"40\" /><line y2=\"65\" y1=\"65\" x2=\"316\" x1=\"40\" /><line y2=\"69\" y1=\"69\" x2=\"316\" x1=\"40\" /><line y2=\"73\" y1=\"73\" x2=\"316\" x1=\"40\" /><line y2=\"77\" y1=\"77\" x2=\"316\" x1=\"40\" /><line y2=\"81\" y1=\"81\" x2=\"316\" x1=\"40\" /><line y2=\"85\" y1=\"85\" x2=\"316\" x1=\"40\" /><line y2=\"89\" y1=\"89\" x2=\"316\" x1=\"40\" /><line y2=\"93\" y1=\"93\" x2=\"316\" x1=\"40\" /></g><g transform=\"translate(615,696)\" stroke-opacity=\"0.1\" stroke=\"currentColor\"><line y2=\"33\" y1=\"33\" x2=\"316\" x1=\"40\" /><line y2=\"37\" y1=\"37\" x2=\"316\" x1=\"40\" /><line y2=\"41\" y1=\"41\" x2=\"316\" x1=\"40\" /><line y2=\"45\" y1=\"45\" x2=\"316\" x1=\"40\" /><line y2=\"49\" y1=\"49\" x2=\"316\" x1=\"40\" /><line y2=\"53\" y1=\"53\" x2=\"316\" x1=\"40\" /><line y2=\"57\" y1=\"57\" x2=\"316\" x1=\"40\" /><line y2=\"61\" y1=\"61\" x2=\"316\" x1=\"40\" /><line y2=\"65\" y1=\"65\" x2=\"316\" x1=\"40\" /><line y2=\"69\" y1=\"69\" x2=\"316\" x1=\"40\" /><line y2=\"73\" y1=\"73\" x2=\"316\" x1=\"40\" /><line y2=\"77\" y1=\"77\" x2=\"316\" x1=\"40\" /><line y2=\"81\" y1=\"81\" x2=\"316\" x1=\"40\" /><line y2=\"85\" y1=\"85\" x2=\"316\" x1=\"40\" /><line y2=\"89\" y1=\"89\" x2=\"316\" x1=\"40\" /><line y2=\"93\" y1=\"93\" x2=\"316\" x1=\"40\" /></g><g transform=\"translate(615,773)\" stroke-opacity=\"0.1\" stroke=\"currentColor\"><line y2=\"33\" y1=\"33\" x2=\"316\" x1=\"40\" /><line y2=\"37\" y1=\"37\" x2=\"316\" x1=\"40\" /><line y2=\"41\" y1=\"41\" x2=\"316\" x1=\"40\" /><line y2=\"45\" y1=\"45\" x2=\"316\" x1=\"40\" /><line y2=\"49\" y1=\"49\" x2=\"316\" x1=\"40\" /><line y2=\"53\" y1=\"53\" x2=\"316\" x1=\"40\" /><line y2=\"57\" y1=\"57\" x2=\"316\" x1=\"40\" /><line y2=\"61\" y1=\"61\" x2=\"316\" x1=\"40\" /><line y2=\"65\" y1=\"65\" x2=\"316\" x1=\"40\" /><line y2=\"69\" y1=\"69\" x2=\"316\" x1=\"40\" /><line y2=\"73\" y1=\"73\" x2=\"316\" x1=\"40\" /><line y2=\"77\" y1=\"77\" x2=\"316\" x1=\"40\" /><line y2=\"81\" y1=\"81\" x2=\"316\" x1=\"40\" /><line y2=\"85\" y1=\"85\" x2=\"316\" x1=\"40\" /><line y2=\"89\" y1=\"89\" x2=\"316\" x1=\"40\" /><line y2=\"93\" y1=\"93\" x2=\"316\" x1=\"40\" /></g><g transform=\"translate(615,1081)\" stroke-opacity=\"0.1\" stroke=\"currentColor\"><line y2=\"33\" y1=\"33\" x2=\"316\" x1=\"40\" /><line y2=\"37\" y1=\"37\" x2=\"316\" x1=\"40\" /><line y2=\"41\" y1=\"41\" x2=\"316\" x1=\"40\" /><line y2=\"45\" y1=\"45\" x2=\"316\" x1=\"40\" /><line y2=\"49\" y1=\"49\" x2=\"316\" x1=\"40\" /><line y2=\"53\" y1=\"53\" x2=\"316\" x1=\"40\" /><line y2=\"57\" y1=\"57\" x2=\"316\" x1=\"40\" /><line y2=\"61\" y1=\"61\" x2=\"316\" x1=\"40\" /><line y2=\"65\" y1=\"65\" x2=\"316\" x1=\"40\" /><line y2=\"69\" y1=\"69\" x2=\"316\" x1=\"40\" /><line y2=\"73\" y1=\"73\" x2=\"316\" x1=\"40\" /><line y2=\"77\" y1=\"77\" x2=\"316\" x1=\"40\" /><line y2=\"81\" y1=\"81\" x2=\"316\" x1=\"40\" /><line y2=\"85\" y1=\"85\" x2=\"316\" x1=\"40\" /><line y2=\"89\" y1=\"89\" x2=\"316\" x1=\"40\" /><line y2=\"93\" y1=\"93\" x2=\"316\" x1=\"40\" /></g><g transform=\"translate(615,1158)\" stroke-opacity=\"0.1\" stroke=\"currentColor\"><line y2=\"33\" y1=\"33\" x2=\"316\" x1=\"40\" /><line y2=\"37\" y1=\"37\" x2=\"316\" x1=\"40\" /><line y2=\"41\" y1=\"41\" x2=\"316\" x1=\"40\" /><line y2=\"45\" y1=\"45\" x2=\"316\" x1=\"40\" /><line y2=\"49\" y1=\"49\" x2=\"316\" x1=\"40\" /><line y2=\"53\" y1=\"53\" x2=\"316\" x1=\"40\" /><line y2=\"57\" y1=\"57\" x2=\"316\" x1=\"40\" /><line y2=\"61\" y1=\"61\" x2=\"316\" x1=\"40\" /><line y2=\"65\" y1=\"65\" x2=\"316\" x1=\"40\" /><line y2=\"69\" y1=\"69\" x2=\"316\" x1=\"40\" /><line y2=\"73\" y1=\"73\" x2=\"316\" x1=\"40\" /><line y2=\"77\" y1=\"77\" x2=\"316\" x1=\"40\" /><line y2=\"81\" y1=\"81\" x2=\"316\" x1=\"40\" /><line y2=\"85\" y1=\"85\" x2=\"316\" x1=\"40\" /><line y2=\"89\" y1=\"89\" x2=\"316\" x1=\"40\" /><line y2=\"93\" y1=\"93\" x2=\"316\" x1=\"40\" /></g><g transform=\"translate(922,3)\" stroke-opacity=\"0.1\" stroke=\"currentColor\"><line y2=\"33\" y1=\"33\" x2=\"316\" x1=\"40\" /><line y2=\"37\" y1=\"37\" x2=\"316\" x1=\"40\" /><line y2=\"41\" y1=\"41\" x2=\"316\" x1=\"40\" /><line y2=\"45\" y1=\"45\" x2=\"316\" x1=\"40\" /><line y2=\"49\" y1=\"49\" x2=\"316\" x1=\"40\" /><line y2=\"53\" y1=\"53\" x2=\"316\" x1=\"40\" /><line y2=\"57\" y1=\"57\" x2=\"316\" x1=\"40\" /><line y2=\"61\" y1=\"61\" x2=\"316\" x1=\"40\" /><line y2=\"65\" y1=\"65\" x2=\"316\" x1=\"40\" /><line y2=\"69\" y1=\"69\" x2=\"316\" x1=\"40\" /><line y2=\"73\" y1=\"73\" x2=\"316\" x1=\"40\" /><line y2=\"77\" y1=\"77\" x2=\"316\" x1=\"40\" /><line y2=\"81\" y1=\"81\" x2=\"316\" x1=\"40\" /><line y2=\"85\" y1=\"85\" x2=\"316\" x1=\"40\" /><line y2=\"89\" y1=\"89\" x2=\"316\" x1=\"40\" /><line y2=\"93\" y1=\"93\" x2=\"316\" x1=\"40\" /></g><g transform=\"translate(922,80)\" stroke-opacity=\"0.1\" stroke=\"currentColor\"><line y2=\"33\" y1=\"33\" x2=\"316\" x1=\"40\" /><line y2=\"37\" y1=\"37\" x2=\"316\" x1=\"40\" /><line y2=\"41\" y1=\"41\" x2=\"316\" x1=\"40\" /><line y2=\"45\" y1=\"45\" x2=\"316\" x1=\"40\" /><line y2=\"49\" y1=\"49\" x2=\"316\" x1=\"40\" /><line y2=\"53\" y1=\"53\" x2=\"316\" x1=\"40\" /><line y2=\"57\" y1=\"57\" x2=\"316\" x1=\"40\" /><line y2=\"61\" y1=\"61\" x2=\"316\" x1=\"40\" /><line y2=\"65\" y1=\"65\" x2=\"316\" x1=\"40\" /><line y2=\"69\" y1=\"69\" x2=\"316\" x1=\"40\" /><line y2=\"73\" y1=\"73\" x2=\"316\" x1=\"40\" /><line y2=\"77\" y1=\"77\" x2=\"316\" x1=\"40\" /><line y2=\"81\" y1=\"81\" x2=\"316\" x1=\"40\" /><line y2=\"85\" y1=\"85\" x2=\"316\" x1=\"40\" /><line y2=\"89\" y1=\"89\" x2=\"316\" x1=\"40\" /><line y2=\"93\" y1=\"93\" x2=\"316\" x1=\"40\" /></g><g transform=\"translate(922,234)\" stroke-opacity=\"0.1\" stroke=\"currentColor\"><line y2=\"33\" y1=\"33\" x2=\"316\" x1=\"40\" /><line y2=\"37\" y1=\"37\" x2=\"316\" x1=\"40\" /><line y2=\"41\" y1=\"41\" x2=\"316\" x1=\"40\" /><line y2=\"45\" y1=\"45\" x2=\"316\" x1=\"40\" /><line y2=\"49\" y1=\"49\" x2=\"316\" x1=\"40\" /><line y2=\"53\" y1=\"53\" x2=\"316\" x1=\"40\" /><line y2=\"57\" y1=\"57\" x2=\"316\" x1=\"40\" /><line y2=\"61\" y1=\"61\" x2=\"316\" x1=\"40\" /><line y2=\"65\" y1=\"65\" x2=\"316\" x1=\"40\" /><line y2=\"69\" y1=\"69\" x2=\"316\" x1=\"40\" /><line y2=\"73\" y1=\"73\" x2=\"316\" x1=\"40\" /><line y2=\"77\" y1=\"77\" x2=\"316\" x1=\"40\" /><line y2=\"81\" y1=\"81\" x2=\"316\" x1=\"40\" /><line y2=\"85\" y1=\"85\" x2=\"316\" x1=\"40\" /><line y2=\"89\" y1=\"89\" x2=\"316\" x1=\"40\" /><line y2=\"93\" y1=\"93\" x2=\"316\" x1=\"40\" /></g><g transform=\"translate(922,311)\" stroke-opacity=\"0.1\" stroke=\"currentColor\"><line y2=\"33\" y1=\"33\" x2=\"316\" x1=\"40\" /><line y2=\"37\" y1=\"37\" x2=\"316\" x1=\"40\" /><line y2=\"41\" y1=\"41\" x2=\"316\" x1=\"40\" /><line y2=\"45\" y1=\"45\" x2=\"316\" x1=\"40\" /><line y2=\"49\" y1=\"49\" x2=\"316\" x1=\"40\" /><line y2=\"53\" y1=\"53\" x2=\"316\" x1=\"40\" /><line y2=\"57\" y1=\"57\" x2=\"316\" x1=\"40\" /><line y2=\"61\" y1=\"61\" x2=\"316\" x1=\"40\" /><line y2=\"65\" y1=\"65\" x2=\"316\" x1=\"40\" /><line y2=\"69\" y1=\"69\" x2=\"316\" x1=\"40\" /><line y2=\"73\" y1=\"73\" x2=\"316\" x1=\"40\" /><line y2=\"77\" y1=\"77\" x2=\"316\" x1=\"40\" /><line y2=\"81\" y1=\"81\" x2=\"316\" x1=\"40\" /><line y2=\"85\" y1=\"85\" x2=\"316\" x1=\"40\" /><line y2=\"89\" y1=\"89\" x2=\"316\" x1=\"40\" /><line y2=\"93\" y1=\"93\" x2=\"316\" x1=\"40\" /></g><g transform=\"translate(922,465)\" stroke-opacity=\"0.1\" stroke=\"currentColor\"><line y2=\"33\" y1=\"33\" x2=\"316\" x1=\"40\" /><line y2=\"37\" y1=\"37\" x2=\"316\" x1=\"40\" /><line y2=\"41\" y1=\"41\" x2=\"316\" x1=\"40\" /><line y2=\"45\" y1=\"45\" x2=\"316\" x1=\"40\" /><line y2=\"49\" y1=\"49\" x2=\"316\" x1=\"40\" /><line y2=\"53\" y1=\"53\" x2=\"316\" x1=\"40\" /><line y2=\"57\" y1=\"57\" x2=\"316\" x1=\"40\" /><line y2=\"61\" y1=\"61\" x2=\"316\" x1=\"40\" /><line y2=\"65\" y1=\"65\" x2=\"316\" x1=\"40\" /><line y2=\"69\" y1=\"69\" x2=\"316\" x1=\"40\" /><line y2=\"73\" y1=\"73\" x2=\"316\" x1=\"40\" /><line y2=\"77\" y1=\"77\" x2=\"316\" x1=\"40\" /><line y2=\"81\" y1=\"81\" x2=\"316\" x1=\"40\" /><line y2=\"85\" y1=\"85\" x2=\"316\" x1=\"40\" /><line y2=\"89\" y1=\"89\" x2=\"316\" x1=\"40\" /><line y2=\"93\" y1=\"93\" x2=\"316\" x1=\"40\" /></g><g transform=\"translate(922,542)\" stroke-opacity=\"0.1\" stroke=\"currentColor\"><line y2=\"33\" y1=\"33\" x2=\"316\" x1=\"40\" /><line y2=\"37\" y1=\"37\" x2=\"316\" x1=\"40\" /><line y2=\"41\" y1=\"41\" x2=\"316\" x1=\"40\" /><line y2=\"45\" y1=\"45\" x2=\"316\" x1=\"40\" /><line y2=\"49\" y1=\"49\" x2=\"316\" x1=\"40\" /><line y2=\"53\" y1=\"53\" x2=\"316\" x1=\"40\" /><line y2=\"57\" y1=\"57\" x2=\"316\" x1=\"40\" /><line y2=\"61\" y1=\"61\" x2=\"316\" x1=\"40\" /><line y2=\"65\" y1=\"65\" x2=\"316\" x1=\"40\" /><line y2=\"69\" y1=\"69\" x2=\"316\" x1=\"40\" /><line y2=\"73\" y1=\"73\" x2=\"316\" x1=\"40\" /><line y2=\"77\" y1=\"77\" x2=\"316\" x1=\"40\" /><line y2=\"81\" y1=\"81\" x2=\"316\" x1=\"40\" /><line y2=\"85\" y1=\"85\" x2=\"316\" x1=\"40\" /><line y2=\"89\" y1=\"89\" x2=\"316\" x1=\"40\" /><line y2=\"93\" y1=\"93\" x2=\"316\" x1=\"40\" /></g><g transform=\"translate(922,696)\" stroke-opacity=\"0.1\" stroke=\"currentColor\"><line y2=\"33\" y1=\"33\" x2=\"316\" x1=\"40\" /><line y2=\"37\" y1=\"37\" x2=\"316\" x1=\"40\" /><line y2=\"41\" y1=\"41\" x2=\"316\" x1=\"40\" /><line y2=\"45\" y1=\"45\" x2=\"316\" x1=\"40\" /><line y2=\"49\" y1=\"49\" x2=\"316\" x1=\"40\" /><line y2=\"53\" y1=\"53\" x2=\"316\" x1=\"40\" /><line y2=\"57\" y1=\"57\" x2=\"316\" x1=\"40\" /><line y2=\"61\" y1=\"61\" x2=\"316\" x1=\"40\" /><line y2=\"65\" y1=\"65\" x2=\"316\" x1=\"40\" /><line y2=\"69\" y1=\"69\" x2=\"316\" x1=\"40\" /><line y2=\"73\" y1=\"73\" x2=\"316\" x1=\"40\" /><line y2=\"77\" y1=\"77\" x2=\"316\" x1=\"40\" /><line y2=\"81\" y1=\"81\" x2=\"316\" x1=\"40\" /><line y2=\"85\" y1=\"85\" x2=\"316\" x1=\"40\" /><line y2=\"89\" y1=\"89\" x2=\"316\" x1=\"40\" /><line y2=\"93\" y1=\"93\" x2=\"316\" x1=\"40\" /></g></g><g transform=\"translate(0,2)\" aria-hidden=\"true\" aria-label=\"y-axis tick\"><g transform=\"translate(1,3)\" stroke=\"currentColor\" fill=\"none\"><path d=\"M0,0L-6,0\" transform=\"translate(40,33)\" /><path d=\"M0,0L-6,0\" transform=\"translate(40,37)\" /><path d=\"M0,0L-6,0\" transform=\"translate(40,41)\" /><path d=\"M0,0L-6,0\" transform=\"translate(40,45)\" /><path d=\"M0,0L-6,0\" transform=\"translate(40,49)\" /><path d=\"M0,0L-6,0\" transform=\"translate(40,53)\" /><path d=\"M0,0L-6,0\" transform=\"translate(40,57)\" /><path d=\"M0,0L-6,0\" transform=\"translate(40,61)\" /><path d=\"M0,0L-6,0\" transform=\"translate(40,65)\" /><path d=\"M0,0L-6,0\" transform=\"translate(40,69)\" /><path d=\"M0,0L-6,0\" transform=\"translate(40,73)\" /><path d=\"M0,0L-6,0\" transform=\"translate(40,77)\" /><path d=\"M0,0L-6,0\" transform=\"translate(40,81)\" /><path d=\"M0,0L-6,0\" transform=\"translate(40,85)\" /><path d=\"M0,0L-6,0\" transform=\"translate(40,89)\" /><path d=\"M0,0L-6,0\" transform=\"translate(40,93)\" /></g><g transform=\"translate(1,157)\" stroke=\"currentColor\" fill=\"none\"><path d=\"M0,0L-6,0\" transform=\"translate(40,33)\" /><path d=\"M0,0L-6,0\" transform=\"translate(40,37)\" /><path d=\"M0,0L-6,0\" transform=\"translate(40,41)\" /><path d=\"M0,0L-6,0\" transform=\"translate(40,45)\" /><path d=\"M0,0L-6,0\" transform=\"translate(40,49)\" /><path d=\"M0,0L-6,0\" transform=\"translate(40,53)\" /><path d=\"M0,0L-6,0\" transform=\"translate(40,57)\" /><path d=\"M0,0L-6,0\" transform=\"translate(40,61)\" /><path d=\"M0,0L-6,0\" transform=\"translate(40,65)\" /><path d=\"M0,0L-6,0\" transform=\"translate(40,69)\" /><path d=\"M0,0L-6,0\" transform=\"translate(40,73)\" /><path d=\"M0,0L-6,0\" transform=\"translate(40,77)\" /><path d=\"M0,0L-6,0\" transform=\"translate(40,81)\" /><path d=\"M0,0L-6,0\" transform=\"translate(40,85)\" /><path d=\"M0,0L-6,0\" transform=\"translate(40,89)\" /><path d=\"M0,0L-6,0\" transform=\"translate(40,93)\" /></g><g transform=\"translate(1,234)\" stroke=\"currentColor\" fill=\"none\"><path d=\"M0,0L-6,0\" transform=\"translate(40,33)\" /><path d=\"M0,0L-6,0\" transform=\"translate(40,37)\" /><path d=\"M0,0L-6,0\" transform=\"translate(40,41)\" /><path d=\"M0,0L-6,0\" transform=\"translate(40,45)\" /><path d=\"M0,0L-6,0\" transform=\"translate(40,49)\" /><path d=\"M0,0L-6,0\" transform=\"translate(40,53)\" /><path d=\"M0,0L-6,0\" transform=\"translate(40,57)\" /><path d=\"M0,0L-6,0\" transform=\"translate(40,61)\" /><path d=\"M0,0L-6,0\" transform=\"translate(40,65)\" /><path d=\"M0,0L-6,0\" transform=\"translate(40,69)\" /><path d=\"M0,0L-6,0\" transform=\"translate(40,73)\" /><path d=\"M0,0L-6,0\" transform=\"translate(40,77)\" /><path d=\"M0,0L-6,0\" transform=\"translate(40,81)\" /><path d=\"M0,0L-6,0\" transform=\"translate(40,85)\" /><path d=\"M0,0L-6,0\" transform=\"translate(40,89)\" /><path d=\"M0,0L-6,0\" transform=\"translate(40,93)\" /></g><g transform=\"translate(1,311)\" stroke=\"currentColor\" fill=\"none\"><path d=\"M0,0L-6,0\" transform=\"translate(40,33)\" /><path d=\"M0,0L-6,0\" transform=\"translate(40,37)\" /><path d=\"M0,0L-6,0\" transform=\"translate(40,41)\" /><path d=\"M0,0L-6,0\" transform=\"translate(40,45)\" /><path d=\"M0,0L-6,0\" transform=\"translate(40,49)\" /><path d=\"M0,0L-6,0\" transform=\"translate(40,53)\" /><path d=\"M0,0L-6,0\" transform=\"translate(40,57)\" /><path d=\"M0,0L-6,0\" transform=\"translate(40,61)\" /><path d=\"M0,0L-6,0\" transform=\"translate(40,65)\" /><path d=\"M0,0L-6,0\" transform=\"translate(40,69)\" /><path d=\"M0,0L-6,0\" transform=\"translate(40,73)\" /><path d=\"M0,0L-6,0\" transform=\"translate(40,77)\" /><path d=\"M0,0L-6,0\" transform=\"translate(40,81)\" /><path d=\"M0,0L-6,0\" transform=\"translate(40,85)\" /><path d=\"M0,0L-6,0\" transform=\"translate(40,89)\" /><path d=\"M0,0L-6,0\" transform=\"translate(40,93)\" /></g><g transform=\"translate(1,388)\" stroke=\"currentColor\" fill=\"none\"><path d=\"M0,0L-6,0\" transform=\"translate(40,33)\" /><path d=\"M0,0L-6,0\" transform=\"translate(40,37)\" /><path d=\"M0,0L-6,0\" transform=\"translate(40,41)\" /><path d=\"M0,0L-6,0\" transform=\"translate(40,45)\" /><path d=\"M0,0L-6,0\" transform=\"translate(40,49)\" /><path d=\"M0,0L-6,0\" transform=\"translate(40,53)\" /><path d=\"M0,0L-6,0\" transform=\"translate(40,57)\" /><path d=\"M0,0L-6,0\" transform=\"translate(40,61)\" /><path d=\"M0,0L-6,0\" transform=\"translate(40,65)\" /><path d=\"M0,0L-6,0\" transform=\"translate(40,69)\" /><path d=\"M0,0L-6,0\" transform=\"translate(40,73)\" /><path d=\"M0,0L-6,0\" transform=\"translate(40,77)\" /><path d=\"M0,0L-6,0\" transform=\"translate(40,81)\" /><path d=\"M0,0L-6,0\" transform=\"translate(40,85)\" /><path d=\"M0,0L-6,0\" transform=\"translate(40,89)\" /><path d=\"M0,0L-6,0\" transform=\"translate(40,93)\" /></g><g transform=\"translate(1,465)\" stroke=\"currentColor\" fill=\"none\"><path d=\"M0,0L-6,0\" transform=\"translate(40,33)\" /><path d=\"M0,0L-6,0\" transform=\"translate(40,37)\" /><path d=\"M0,0L-6,0\" transform=\"translate(40,41)\" /><path d=\"M0,0L-6,0\" transform=\"translate(40,45)\" /><path d=\"M0,0L-6,0\" transform=\"translate(40,49)\" /><path d=\"M0,0L-6,0\" transform=\"translate(40,53)\" /><path d=\"M0,0L-6,0\" transform=\"translate(40,57)\" /><path d=\"M0,0L-6,0\" transform=\"translate(40,61)\" /><path d=\"M0,0L-6,0\" transform=\"translate(40,65)\" /><path d=\"M0,0L-6,0\" transform=\"translate(40,69)\" /><path d=\"M0,0L-6,0\" transform=\"translate(40,73)\" /><path d=\"M0,0L-6,0\" transform=\"translate(40,77)\" /><path d=\"M0,0L-6,0\" transform=\"translate(40,81)\" /><path d=\"M0,0L-6,0\" transform=\"translate(40,85)\" /><path d=\"M0,0L-6,0\" transform=\"translate(40,89)\" /><path d=\"M0,0L-6,0\" transform=\"translate(40,93)\" /></g><g transform=\"translate(308,80)\" stroke=\"currentColor\" fill=\"none\"><path d=\"M0,0L-6,0\" transform=\"translate(40,33)\" /><path d=\"M0,0L-6,0\" transform=\"translate(40,37)\" /><path d=\"M0,0L-6,0\" transform=\"translate(40,41)\" /><path d=\"M0,0L-6,0\" transform=\"translate(40,45)\" /><path d=\"M0,0L-6,0\" transform=\"translate(40,49)\" /><path d=\"M0,0L-6,0\" transform=\"translate(40,53)\" /><path d=\"M0,0L-6,0\" transform=\"translate(40,57)\" /><path d=\"M0,0L-6,0\" transform=\"translate(40,61)\" /><path d=\"M0,0L-6,0\" transform=\"translate(40,65)\" /><path d=\"M0,0L-6,0\" transform=\"translate(40,69)\" /><path d=\"M0,0L-6,0\" transform=\"translate(40,73)\" /><path d=\"M0,0L-6,0\" transform=\"translate(40,77)\" /><path d=\"M0,0L-6,0\" transform=\"translate(40,81)\" /><path d=\"M0,0L-6,0\" transform=\"translate(40,85)\" /><path d=\"M0,0L-6,0\" transform=\"translate(40,89)\" /><path d=\"M0,0L-6,0\" transform=\"translate(40,93)\" /></g><g transform=\"translate(308,542)\" stroke=\"currentColor\" fill=\"none\"><path d=\"M0,0L-6,0\" transform=\"translate(40,33)\" /><path d=\"M0,0L-6,0\" transform=\"translate(40,37)\" /><path d=\"M0,0L-6,0\" transform=\"translate(40,41)\" /><path d=\"M0,0L-6,0\" transform=\"translate(40,45)\" /><path d=\"M0,0L-6,0\" transform=\"translate(40,49)\" /><path d=\"M0,0L-6,0\" transform=\"translate(40,53)\" /><path d=\"M0,0L-6,0\" transform=\"translate(40,57)\" /><path d=\"M0,0L-6,0\" transform=\"translate(40,61)\" /><path d=\"M0,0L-6,0\" transform=\"translate(40,65)\" /><path d=\"M0,0L-6,0\" transform=\"translate(40,69)\" /><path d=\"M0,0L-6,0\" transform=\"translate(40,73)\" /><path d=\"M0,0L-6,0\" transform=\"translate(40,77)\" /><path d=\"M0,0L-6,0\" transform=\"translate(40,81)\" /><path d=\"M0,0L-6,0\" transform=\"translate(40,85)\" /><path d=\"M0,0L-6,0\" transform=\"translate(40,89)\" /><path d=\"M0,0L-6,0\" transform=\"translate(40,93)\" /></g><g transform=\"translate(308,619)\" stroke=\"currentColor\" fill=\"none\"><path d=\"M0,0L-6,0\" transform=\"translate(40,33)\" /><path d=\"M0,0L-6,0\" transform=\"translate(40,37)\" /><path d=\"M0,0L-6,0\" transform=\"translate(40,41)\" /><path d=\"M0,0L-6,0\" transform=\"translate(40,45)\" /><path d=\"M0,0L-6,0\" transform=\"translate(40,49)\" /><path d=\"M0,0L-6,0\" transform=\"translate(40,53)\" /><path d=\"M0,0L-6,0\" transform=\"translate(40,57)\" /><path d=\"M0,0L-6,0\" transform=\"translate(40,61)\" /><path d=\"M0,0L-6,0\" transform=\"translate(40,65)\" /><path d=\"M0,0L-6,0\" transform=\"translate(40,69)\" /><path d=\"M0,0L-6,0\" transform=\"translate(40,73)\" /><path d=\"M0,0L-6,0\" transform=\"translate(40,77)\" /><path d=\"M0,0L-6,0\" transform=\"translate(40,81)\" /><path d=\"M0,0L-6,0\" transform=\"translate(40,85)\" /><path d=\"M0,0L-6,0\" transform=\"translate(40,89)\" /><path d=\"M0,0L-6,0\" transform=\"translate(40,93)\" /></g><g transform=\"translate(308,773)\" stroke=\"currentColor\" fill=\"none\"><path d=\"M0,0L-6,0\" transform=\"translate(40,33)\" /><path d=\"M0,0L-6,0\" transform=\"translate(40,37)\" /><path d=\"M0,0L-6,0\" transform=\"translate(40,41)\" /><path d=\"M0,0L-6,0\" transform=\"translate(40,45)\" /><path d=\"M0,0L-6,0\" transform=\"translate(40,49)\" /><path d=\"M0,0L-6,0\" transform=\"translate(40,53)\" /><path d=\"M0,0L-6,0\" transform=\"translate(40,57)\" /><path d=\"M0,0L-6,0\" transform=\"translate(40,61)\" /><path d=\"M0,0L-6,0\" transform=\"translate(40,65)\" /><path d=\"M0,0L-6,0\" transform=\"translate(40,69)\" /><path d=\"M0,0L-6,0\" transform=\"translate(40,73)\" /><path d=\"M0,0L-6,0\" transform=\"translate(40,77)\" /><path d=\"M0,0L-6,0\" transform=\"translate(40,81)\" /><path d=\"M0,0L-6,0\" transform=\"translate(40,85)\" /><path d=\"M0,0L-6,0\" transform=\"translate(40,89)\" /><path d=\"M0,0L-6,0\" transform=\"translate(40,93)\" /></g><g transform=\"translate(308,850)\" stroke=\"currentColor\" fill=\"none\"><path d=\"M0,0L-6,0\" transform=\"translate(40,33)\" /><path d=\"M0,0L-6,0\" transform=\"translate(40,37)\" /><path d=\"M0,0L-6,0\" transform=\"translate(40,41)\" /><path d=\"M0,0L-6,0\" transform=\"translate(40,45)\" /><path d=\"M0,0L-6,0\" transform=\"translate(40,49)\" /><path d=\"M0,0L-6,0\" transform=\"translate(40,53)\" /><path d=\"M0,0L-6,0\" transform=\"translate(40,57)\" /><path d=\"M0,0L-6,0\" transform=\"translate(40,61)\" /><path d=\"M0,0L-6,0\" transform=\"translate(40,65)\" /><path d=\"M0,0L-6,0\" transform=\"translate(40,69)\" /><path d=\"M0,0L-6,0\" transform=\"translate(40,73)\" /><path d=\"M0,0L-6,0\" transform=\"translate(40,77)\" /><path d=\"M0,0L-6,0\" transform=\"translate(40,81)\" /><path d=\"M0,0L-6,0\" transform=\"translate(40,85)\" /><path d=\"M0,0L-6,0\" transform=\"translate(40,89)\" /><path d=\"M0,0L-6,0\" transform=\"translate(40,93)\" /></g><g transform=\"translate(308,927)\" stroke=\"currentColor\" fill=\"none\"><path d=\"M0,0L-6,0\" transform=\"translate(40,33)\" /><path d=\"M0,0L-6,0\" transform=\"translate(40,37)\" /><path d=\"M0,0L-6,0\" transform=\"translate(40,41)\" /><path d=\"M0,0L-6,0\" transform=\"translate(40,45)\" /><path d=\"M0,0L-6,0\" transform=\"translate(40,49)\" /><path d=\"M0,0L-6,0\" transform=\"translate(40,53)\" /><path d=\"M0,0L-6,0\" transform=\"translate(40,57)\" /><path d=\"M0,0L-6,0\" transform=\"translate(40,61)\" /><path d=\"M0,0L-6,0\" transform=\"translate(40,65)\" /><path d=\"M0,0L-6,0\" transform=\"translate(40,69)\" /><path d=\"M0,0L-6,0\" transform=\"translate(40,73)\" /><path d=\"M0,0L-6,0\" transform=\"translate(40,77)\" /><path d=\"M0,0L-6,0\" transform=\"translate(40,81)\" /><path d=\"M0,0L-6,0\" transform=\"translate(40,85)\" /><path d=\"M0,0L-6,0\" transform=\"translate(40,89)\" /><path d=\"M0,0L-6,0\" transform=\"translate(40,93)\" /></g><g transform=\"translate(308,1004)\" stroke=\"currentColor\" fill=\"none\"><path d=\"M0,0L-6,0\" transform=\"translate(40,33)\" /><path d=\"M0,0L-6,0\" transform=\"translate(40,37)\" /><path d=\"M0,0L-6,0\" transform=\"translate(40,41)\" /><path d=\"M0,0L-6,0\" transform=\"translate(40,45)\" /><path d=\"M0,0L-6,0\" transform=\"translate(40,49)\" /><path d=\"M0,0L-6,0\" transform=\"translate(40,53)\" /><path d=\"M0,0L-6,0\" transform=\"translate(40,57)\" /><path d=\"M0,0L-6,0\" transform=\"translate(40,61)\" /><path d=\"M0,0L-6,0\" transform=\"translate(40,65)\" /><path d=\"M0,0L-6,0\" transform=\"translate(40,69)\" /><path d=\"M0,0L-6,0\" transform=\"translate(40,73)\" /><path d=\"M0,0L-6,0\" transform=\"translate(40,77)\" /><path d=\"M0,0L-6,0\" transform=\"translate(40,81)\" /><path d=\"M0,0L-6,0\" transform=\"translate(40,85)\" /><path d=\"M0,0L-6,0\" transform=\"translate(40,89)\" /><path d=\"M0,0L-6,0\" transform=\"translate(40,93)\" /></g><g transform=\"translate(615,696)\" stroke=\"currentColor\" fill=\"none\"><path d=\"M0,0L-6,0\" transform=\"translate(40,33)\" /><path d=\"M0,0L-6,0\" transform=\"translate(40,37)\" /><path d=\"M0,0L-6,0\" transform=\"translate(40,41)\" /><path d=\"M0,0L-6,0\" transform=\"translate(40,45)\" /><path d=\"M0,0L-6,0\" transform=\"translate(40,49)\" /><path d=\"M0,0L-6,0\" transform=\"translate(40,53)\" /><path d=\"M0,0L-6,0\" transform=\"translate(40,57)\" /><path d=\"M0,0L-6,0\" transform=\"translate(40,61)\" /><path d=\"M0,0L-6,0\" transform=\"translate(40,65)\" /><path d=\"M0,0L-6,0\" transform=\"translate(40,69)\" /><path d=\"M0,0L-6,0\" transform=\"translate(40,73)\" /><path d=\"M0,0L-6,0\" transform=\"translate(40,77)\" /><path d=\"M0,0L-6,0\" transform=\"translate(40,81)\" /><path d=\"M0,0L-6,0\" transform=\"translate(40,85)\" /><path d=\"M0,0L-6,0\" transform=\"translate(40,89)\" /><path d=\"M0,0L-6,0\" transform=\"translate(40,93)\" /></g><g transform=\"translate(615,1081)\" stroke=\"currentColor\" fill=\"none\"><path d=\"M0,0L-6,0\" transform=\"translate(40,33)\" /><path d=\"M0,0L-6,0\" transform=\"translate(40,37)\" /><path d=\"M0,0L-6,0\" transform=\"translate(40,41)\" /><path d=\"M0,0L-6,0\" transform=\"translate(40,45)\" /><path d=\"M0,0L-6,0\" transform=\"translate(40,49)\" /><path d=\"M0,0L-6,0\" transform=\"translate(40,53)\" /><path d=\"M0,0L-6,0\" transform=\"translate(40,57)\" /><path d=\"M0,0L-6,0\" transform=\"translate(40,61)\" /><path d=\"M0,0L-6,0\" transform=\"translate(40,65)\" /><path d=\"M0,0L-6,0\" transform=\"translate(40,69)\" /><path d=\"M0,0L-6,0\" transform=\"translate(40,73)\" /><path d=\"M0,0L-6,0\" transform=\"translate(40,77)\" /><path d=\"M0,0L-6,0\" transform=\"translate(40,81)\" /><path d=\"M0,0L-6,0\" transform=\"translate(40,85)\" /><path d=\"M0,0L-6,0\" transform=\"translate(40,89)\" /><path d=\"M0,0L-6,0\" transform=\"translate(40,93)\" /></g><g transform=\"translate(615,1158)\" stroke=\"currentColor\" fill=\"none\"><path d=\"M0,0L-6,0\" transform=\"translate(40,33)\" /><path d=\"M0,0L-6,0\" transform=\"translate(40,37)\" /><path d=\"M0,0L-6,0\" transform=\"translate(40,41)\" /><path d=\"M0,0L-6,0\" transform=\"translate(40,45)\" /><path d=\"M0,0L-6,0\" transform=\"translate(40,49)\" /><path d=\"M0,0L-6,0\" transform=\"translate(40,53)\" /><path d=\"M0,0L-6,0\" transform=\"translate(40,57)\" /><path d=\"M0,0L-6,0\" transform=\"translate(40,61)\" /><path d=\"M0,0L-6,0\" transform=\"translate(40,65)\" /><path d=\"M0,0L-6,0\" transform=\"translate(40,69)\" /><path d=\"M0,0L-6,0\" transform=\"translate(40,73)\" /><path d=\"M0,0L-6,0\" transform=\"translate(40,77)\" /><path d=\"M0,0L-6,0\" transform=\"translate(40,81)\" /><path d=\"M0,0L-6,0\" transform=\"translate(40,85)\" /><path d=\"M0,0L-6,0\" transform=\"translate(40,89)\" /><path d=\"M0,0L-6,0\" transform=\"translate(40,93)\" /></g></g><g transform=\"translate(-9,2)\" aria-label=\"y-axis tick label\"><g transform=\"translate(1,3)\" text-anchor=\"end\"><text transform=\"translate(40,33)\" y=\"0.32em\">7B</text><text transform=\"translate(40,37)\" y=\"0.32em\">7A+</text><text transform=\"translate(40,41)\" y=\"0.32em\">7A</text><text transform=\"translate(40,45)\" y=\"0.32em\">6C+</text><text transform=\"translate(40,49)\" y=\"0.32em\">6C</text><text transform=\"translate(40,53)\" y=\"0.32em\">6B+</text><text transform=\"translate(40,57)\" y=\"0.32em\">6B</text><text transform=\"translate(40,61)\" y=\"0.32em\">6A+</text><text transform=\"translate(40,65)\" y=\"0.32em\">6A</text><text transform=\"translate(40,69)\" y=\"0.32em\">5+</text><text transform=\"translate(40,73)\" y=\"0.32em\">5</text><text transform=\"translate(40,77)\" y=\"0.32em\">4+</text><text transform=\"translate(40,81)\" y=\"0.32em\">4</text><text transform=\"translate(40,85)\" y=\"0.32em\">3+</text><text transform=\"translate(40,89)\" y=\"0.32em\">3</text><text transform=\"translate(40,93)\" y=\"0.32em\">2</text></g><g transform=\"translate(1,157)\" text-anchor=\"end\"><text transform=\"translate(40,33)\" y=\"0.32em\">7B</text><text transform=\"translate(40,37)\" y=\"0.32em\">7A+</text><text transform=\"translate(40,41)\" y=\"0.32em\">7A</text><text transform=\"translate(40,45)\" y=\"0.32em\">6C+</text><text transform=\"translate(40,49)\" y=\"0.32em\">6C</text><text transform=\"translate(40,53)\" y=\"0.32em\">6B+</text><text transform=\"translate(40,57)\" y=\"0.32em\">6B</text><text transform=\"translate(40,61)\" y=\"0.32em\">6A+</text><text transform=\"translate(40,65)\" y=\"0.32em\">6A</text><text transform=\"translate(40,69)\" y=\"0.32em\">5+</text><text transform=\"translate(40,73)\" y=\"0.32em\">5</text><text transform=\"translate(40,77)\" y=\"0.32em\">4+</text><text transform=\"translate(40,81)\" y=\"0.32em\">4</text><text transform=\"translate(40,85)\" y=\"0.32em\">3+</text><text transform=\"translate(40,89)\" y=\"0.32em\">3</text><text transform=\"translate(40,93)\" y=\"0.32em\">2</text></g><g transform=\"translate(1,234)\" text-anchor=\"end\"><text transform=\"translate(40,33)\" y=\"0.32em\">7B</text><text transform=\"translate(40,37)\" y=\"0.32em\">7A+</text><text transform=\"translate(40,41)\" y=\"0.32em\">7A</text><text transform=\"translate(40,45)\" y=\"0.32em\">6C+</text><text transform=\"translate(40,49)\" y=\"0.32em\">6C</text><text transform=\"translate(40,53)\" y=\"0.32em\">6B+</text><text transform=\"translate(40,57)\" y=\"0.32em\">6B</text><text transform=\"translate(40,61)\" y=\"0.32em\">6A+</text><text transform=\"translate(40,65)\" y=\"0.32em\">6A</text><text transform=\"translate(40,69)\" y=\"0.32em\">5+</text><text transform=\"translate(40,73)\" y=\"0.32em\">5</text><text transform=\"translate(40,77)\" y=\"0.32em\">4+</text><text transform=\"translate(40,81)\" y=\"0.32em\">4</text><text transform=\"translate(40,85)\" y=\"0.32em\">3+</text><text transform=\"translate(40,89)\" y=\"0.32em\">3</text><text transform=\"translate(40,93)\" y=\"0.32em\">2</text></g><g transform=\"translate(1,311)\" text-anchor=\"end\"><text transform=\"translate(40,33)\" y=\"0.32em\">7B</text><text transform=\"translate(40,37)\" y=\"0.32em\">7A+</text><text transform=\"translate(40,41)\" y=\"0.32em\">7A</text><text transform=\"translate(40,45)\" y=\"0.32em\">6C+</text><text transform=\"translate(40,49)\" y=\"0.32em\">6C</text><text transform=\"translate(40,53)\" y=\"0.32em\">6B+</text><text transform=\"translate(40,57)\" y=\"0.32em\">6B</text><text transform=\"translate(40,61)\" y=\"0.32em\">6A+</text><text transform=\"translate(40,65)\" y=\"0.32em\">6A</text><text transform=\"translate(40,69)\" y=\"0.32em\">5+</text><text transform=\"translate(40,73)\" y=\"0.32em\">5</text><text transform=\"translate(40,77)\" y=\"0.32em\">4+</text><text transform=\"translate(40,81)\" y=\"0.32em\">4</text><text transform=\"translate(40,85)\" y=\"0.32em\">3+</text><text transform=\"translate(40,89)\" y=\"0.32em\">3</text><text transform=\"translate(40,93)\" y=\"0.32em\">2</text></g><g transform=\"translate(1,388)\" text-anchor=\"end\"><text transform=\"translate(40,33)\" y=\"0.32em\">7B</text><text transform=\"translate(40,37)\" y=\"0.32em\">7A+</text><text transform=\"translate(40,41)\" y=\"0.32em\">7A</text><text transform=\"translate(40,45)\" y=\"0.32em\">6C+</text><text transform=\"translate(40,49)\" y=\"0.32em\">6C</text><text transform=\"translate(40,53)\" y=\"0.32em\">6B+</text><text transform=\"translate(40,57)\" y=\"0.32em\">6B</text><text transform=\"translate(40,61)\" y=\"0.32em\">6A+</text><text transform=\"translate(40,65)\" y=\"0.32em\">6A</text><text transform=\"translate(40,69)\" y=\"0.32em\">5+</text><text transform=\"translate(40,73)\" y=\"0.32em\">5</text><text transform=\"translate(40,77)\" y=\"0.32em\">4+</text><text transform=\"translate(40,81)\" y=\"0.32em\">4</text><text transform=\"translate(40,85)\" y=\"0.32em\">3+</text><text transform=\"translate(40,89)\" y=\"0.32em\">3</text><text transform=\"translate(40,93)\" y=\"0.32em\">2</text></g><g transform=\"translate(1,465)\" text-anchor=\"end\"><text transform=\"translate(40,33)\" y=\"0.32em\">7B</text><text transform=\"translate(40,37)\" y=\"0.32em\">7A+</text><text transform=\"translate(40,41)\" y=\"0.32em\">7A</text><text transform=\"translate(40,45)\" y=\"0.32em\">6C+</text><text transform=\"translate(40,49)\" y=\"0.32em\">6C</text><text transform=\"translate(40,53)\" y=\"0.32em\">6B+</text><text transform=\"translate(40,57)\" y=\"0.32em\">6B</text><text transform=\"translate(40,61)\" y=\"0.32em\">6A+</text><text transform=\"translate(40,65)\" y=\"0.32em\">6A</text><text transform=\"translate(40,69)\" y=\"0.32em\">5+</text><text transform=\"translate(40,73)\" y=\"0.32em\">5</text><text transform=\"translate(40,77)\" y=\"0.32em\">4+</text><text transform=\"translate(40,81)\" y=\"0.32em\">4</text><text transform=\"translate(40,85)\" y=\"0.32em\">3+</text><text transform=\"translate(40,89)\" y=\"0.32em\">3</text><text transform=\"translate(40,93)\" y=\"0.32em\">2</text></g><g transform=\"translate(308,80)\" text-anchor=\"end\"><text transform=\"translate(40,33)\" y=\"0.32em\">7B</text><text transform=\"translate(40,37)\" y=\"0.32em\">7A+</text><text transform=\"translate(40,41)\" y=\"0.32em\">7A</text><text transform=\"translate(40,45)\" y=\"0.32em\">6C+</text><text transform=\"translate(40,49)\" y=\"0.32em\">6C</text><text transform=\"translate(40,53)\" y=\"0.32em\">6B+</text><text transform=\"translate(40,57)\" y=\"0.32em\">6B</text><text transform=\"translate(40,61)\" y=\"0.32em\">6A+</text><text transform=\"translate(40,65)\" y=\"0.32em\">6A</text><text transform=\"translate(40,69)\" y=\"0.32em\">5+</text><text transform=\"translate(40,73)\" y=\"0.32em\">5</text><text transform=\"translate(40,77)\" y=\"0.32em\">4+</text><text transform=\"translate(40,81)\" y=\"0.32em\">4</text><text transform=\"translate(40,85)\" y=\"0.32em\">3+</text><text transform=\"translate(40,89)\" y=\"0.32em\">3</text><text transform=\"translate(40,93)\" y=\"0.32em\">2</text></g><g transform=\"translate(308,542)\" text-anchor=\"end\"><text transform=\"translate(40,33)\" y=\"0.32em\">7B</text><text transform=\"translate(40,37)\" y=\"0.32em\">7A+</text><text transform=\"translate(40,41)\" y=\"0.32em\">7A</text><text transform=\"translate(40,45)\" y=\"0.32em\">6C+</text><text transform=\"translate(40,49)\" y=\"0.32em\">6C</text><text transform=\"translate(40,53)\" y=\"0.32em\">6B+</text><text transform=\"translate(40,57)\" y=\"0.32em\">6B</text><text transform=\"translate(40,61)\" y=\"0.32em\">6A+</text><text transform=\"translate(40,65)\" y=\"0.32em\">6A</text><text transform=\"translate(40,69)\" y=\"0.32em\">5+</text><text transform=\"translate(40,73)\" y=\"0.32em\">5</text><text transform=\"translate(40,77)\" y=\"0.32em\">4+</text><text transform=\"translate(40,81)\" y=\"0.32em\">4</text><text transform=\"translate(40,85)\" y=\"0.32em\">3+</text><text transform=\"translate(40,89)\" y=\"0.32em\">3</text><text transform=\"translate(40,93)\" y=\"0.32em\">2</text></g><g transform=\"translate(308,619)\" text-anchor=\"end\"><text transform=\"translate(40,33)\" y=\"0.32em\">7B</text><text transform=\"translate(40,37)\" y=\"0.32em\">7A+</text><text transform=\"translate(40,41)\" y=\"0.32em\">7A</text><text transform=\"translate(40,45)\" y=\"0.32em\">6C+</text><text transform=\"translate(40,49)\" y=\"0.32em\">6C</text><text transform=\"translate(40,53)\" y=\"0.32em\">6B+</text><text transform=\"translate(40,57)\" y=\"0.32em\">6B</text><text transform=\"translate(40,61)\" y=\"0.32em\">6A+</text><text transform=\"translate(40,65)\" y=\"0.32em\">6A</text><text transform=\"translate(40,69)\" y=\"0.32em\">5+</text><text transform=\"translate(40,73)\" y=\"0.32em\">5</text><text transform=\"translate(40,77)\" y=\"0.32em\">4+</text><text transform=\"translate(40,81)\" y=\"0.32em\">4</text><text transform=\"translate(40,85)\" y=\"0.32em\">3+</text><text transform=\"translate(40,89)\" y=\"0.32em\">3</text><text transform=\"translate(40,93)\" y=\"0.32em\">2</text></g><g transform=\"translate(308,773)\" text-anchor=\"end\"><text transform=\"translate(40,33)\" y=\"0.32em\">7B</text><text transform=\"translate(40,37)\" y=\"0.32em\">7A+</text><text transform=\"translate(40,41)\" y=\"0.32em\">7A</text><text transform=\"translate(40,45)\" y=\"0.32em\">6C+</text><text transform=\"translate(40,49)\" y=\"0.32em\">6C</text><text transform=\"translate(40,53)\" y=\"0.32em\">6B+</text><text transform=\"translate(40,57)\" y=\"0.32em\">6B</text><text transform=\"translate(40,61)\" y=\"0.32em\">6A+</text><text transform=\"translate(40,65)\" y=\"0.32em\">6A</text><text transform=\"translate(40,69)\" y=\"0.32em\">5+</text><text transform=\"translate(40,73)\" y=\"0.32em\">5</text><text transform=\"translate(40,77)\" y=\"0.32em\">4+</text><text transform=\"translate(40,81)\" y=\"0.32em\">4</text><text transform=\"translate(40,85)\" y=\"0.32em\">3+</text><text transform=\"translate(40,89)\" y=\"0.32em\">3</text><text transform=\"translate(40,93)\" y=\"0.32em\">2</text></g><g transform=\"translate(308,850)\" text-anchor=\"end\"><text transform=\"translate(40,33)\" y=\"0.32em\">7B</text><text transform=\"translate(40,37)\" y=\"0.32em\">7A+</text><text transform=\"translate(40,41)\" y=\"0.32em\">7A</text><text transform=\"translate(40,45)\" y=\"0.32em\">6C+</text><text transform=\"translate(40,49)\" y=\"0.32em\">6C</text><text transform=\"translate(40,53)\" y=\"0.32em\">6B+</text><text transform=\"translate(40,57)\" y=\"0.32em\">6B</text><text transform=\"translate(40,61)\" y=\"0.32em\">6A+</text><text transform=\"translate(40,65)\" y=\"0.32em\">6A</text><text transform=\"translate(40,69)\" y=\"0.32em\">5+</text><text transform=\"translate(40,73)\" y=\"0.32em\">5</text><text transform=\"translate(40,77)\" y=\"0.32em\">4+</text><text transform=\"translate(40,81)\" y=\"0.32em\">4</text><text transform=\"translate(40,85)\" y=\"0.32em\">3+</text><text transform=\"translate(40,89)\" y=\"0.32em\">3</text><text transform=\"translate(40,93)\" y=\"0.32em\">2</text></g><g transform=\"translate(308,927)\" text-anchor=\"end\"><text transform=\"translate(40,33)\" y=\"0.32em\">7B</text><text transform=\"translate(40,37)\" y=\"0.32em\">7A+</text><text transform=\"translate(40,41)\" y=\"0.32em\">7A</text><text transform=\"translate(40,45)\" y=\"0.32em\">6C+</text><text transform=\"translate(40,49)\" y=\"0.32em\">6C</text><text transform=\"translate(40,53)\" y=\"0.32em\">6B+</text><text transform=\"translate(40,57)\" y=\"0.32em\">6B</text><text transform=\"translate(40,61)\" y=\"0.32em\">6A+</text><text transform=\"translate(40,65)\" y=\"0.32em\">6A</text><text transform=\"translate(40,69)\" y=\"0.32em\">5+</text><text transform=\"translate(40,73)\" y=\"0.32em\">5</text><text transform=\"translate(40,77)\" y=\"0.32em\">4+</text><text transform=\"translate(40,81)\" y=\"0.32em\">4</text><text transform=\"translate(40,85)\" y=\"0.32em\">3+</text><text transform=\"translate(40,89)\" y=\"0.32em\">3</text><text transform=\"translate(40,93)\" y=\"0.32em\">2</text></g><g transform=\"translate(308,1004)\" text-anchor=\"end\"><text transform=\"translate(40,33)\" y=\"0.32em\">7B</text><text transform=\"translate(40,37)\" y=\"0.32em\">7A+</text><text transform=\"translate(40,41)\" y=\"0.32em\">7A</text><text transform=\"translate(40,45)\" y=\"0.32em\">6C+</text><text transform=\"translate(40,49)\" y=\"0.32em\">6C</text><text transform=\"translate(40,53)\" y=\"0.32em\">6B+</text><text transform=\"translate(40,57)\" y=\"0.32em\">6B</text><text transform=\"translate(40,61)\" y=\"0.32em\">6A+</text><text transform=\"translate(40,65)\" y=\"0.32em\">6A</text><text transform=\"translate(40,69)\" y=\"0.32em\">5+</text><text transform=\"translate(40,73)\" y=\"0.32em\">5</text><text transform=\"translate(40,77)\" y=\"0.32em\">4+</text><text transform=\"translate(40,81)\" y=\"0.32em\">4</text><text transform=\"translate(40,85)\" y=\"0.32em\">3+</text><text transform=\"translate(40,89)\" y=\"0.32em\">3</text><text transform=\"translate(40,93)\" y=\"0.32em\">2</text></g><g transform=\"translate(615,696)\" text-anchor=\"end\"><text transform=\"translate(40,33)\" y=\"0.32em\">7B</text><text transform=\"translate(40,37)\" y=\"0.32em\">7A+</text><text transform=\"translate(40,41)\" y=\"0.32em\">7A</text><text transform=\"translate(40,45)\" y=\"0.32em\">6C+</text><text transform=\"translate(40,49)\" y=\"0.32em\">6C</text><text transform=\"translate(40,53)\" y=\"0.32em\">6B+</text><text transform=\"translate(40,57)\" y=\"0.32em\">6B</text><text transform=\"translate(40,61)\" y=\"0.32em\">6A+</text><text transform=\"translate(40,65)\" y=\"0.32em\">6A</text><text transform=\"translate(40,69)\" y=\"0.32em\">5+</text><text transform=\"translate(40,73)\" y=\"0.32em\">5</text><text transform=\"translate(40,77)\" y=\"0.32em\">4+</text><text transform=\"translate(40,81)\" y=\"0.32em\">4</text><text transform=\"translate(40,85)\" y=\"0.32em\">3+</text><text transform=\"translate(40,89)\" y=\"0.32em\">3</text><text transform=\"translate(40,93)\" y=\"0.32em\">2</text></g><g transform=\"translate(615,1081)\" text-anchor=\"end\"><text transform=\"translate(40,33)\" y=\"0.32em\">7B</text><text transform=\"translate(40,37)\" y=\"0.32em\">7A+</text><text transform=\"translate(40,41)\" y=\"0.32em\">7A</text><text transform=\"translate(40,45)\" y=\"0.32em\">6C+</text><text transform=\"translate(40,49)\" y=\"0.32em\">6C</text><text transform=\"translate(40,53)\" y=\"0.32em\">6B+</text><text transform=\"translate(40,57)\" y=\"0.32em\">6B</text><text transform=\"translate(40,61)\" y=\"0.32em\">6A+</text><text transform=\"translate(40,65)\" y=\"0.32em\">6A</text><text transform=\"translate(40,69)\" y=\"0.32em\">5+</text><text transform=\"translate(40,73)\" y=\"0.32em\">5</text><text transform=\"translate(40,77)\" y=\"0.32em\">4+</text><text transform=\"translate(40,81)\" y=\"0.32em\">4</text><text transform=\"translate(40,85)\" y=\"0.32em\">3+</text><text transform=\"translate(40,89)\" y=\"0.32em\">3</text><text transform=\"translate(40,93)\" y=\"0.32em\">2</text></g><g transform=\"translate(615,1158)\" text-anchor=\"end\"><text transform=\"translate(40,33)\" y=\"0.32em\">7B</text><text transform=\"translate(40,37)\" y=\"0.32em\">7A+</text><text transform=\"translate(40,41)\" y=\"0.32em\">7A</text><text transform=\"translate(40,45)\" y=\"0.32em\">6C+</text><text transform=\"translate(40,49)\" y=\"0.32em\">6C</text><text transform=\"translate(40,53)\" y=\"0.32em\">6B+</text><text transform=\"translate(40,57)\" y=\"0.32em\">6B</text><text transform=\"translate(40,61)\" y=\"0.32em\">6A+</text><text transform=\"translate(40,65)\" y=\"0.32em\">6A</text><text transform=\"translate(40,69)\" y=\"0.32em\">5+</text><text transform=\"translate(40,73)\" y=\"0.32em\">5</text><text transform=\"translate(40,77)\" y=\"0.32em\">4+</text><text transform=\"translate(40,81)\" y=\"0.32em\">4</text><text transform=\"translate(40,85)\" y=\"0.32em\">3+</text><text transform=\"translate(40,89)\" y=\"0.32em\">3</text><text transform=\"translate(40,93)\" y=\"0.32em\">2</text></g></g><g transform=\"translate(-37,0)\" aria-label=\"y-axis label\"><text transform=\"translate(41,645) rotate(-90)\" y=\"0.71em\">difficulty</text></g><g aria-hidden=\"true\" aria-label=\"x-grid\"><g transform=\"translate(1,3)\" stroke-opacity=\"0.1\" stroke=\"currentColor\"><line y2=\"99\" y1=\"30\" x2=\"40\" x1=\"40\" /><line y2=\"99\" y1=\"30\" x2=\"116.66666666666667\" x1=\"116.66666666666667\" /><line y2=\"99\" y1=\"30\" x2=\"193.33333333333334\" x1=\"193.33333333333334\" /><line y2=\"99\" y1=\"30\" x2=\"270.00000000000006\" x1=\"270.00000000000006\" /></g><g transform=\"translate(1,157)\" stroke-opacity=\"0.1\" stroke=\"currentColor\"><line y2=\"99\" y1=\"30\" x2=\"40\" x1=\"40\" /><line y2=\"99\" y1=\"30\" x2=\"116.66666666666667\" x1=\"116.66666666666667\" /><line y2=\"99\" y1=\"30\" x2=\"193.33333333333334\" x1=\"193.33333333333334\" /><line y2=\"99\" y1=\"30\" x2=\"270.00000000000006\" x1=\"270.00000000000006\" /></g><g transform=\"translate(1,234)\" stroke-opacity=\"0.1\" stroke=\"currentColor\"><line y2=\"99\" y1=\"30\" x2=\"40\" x1=\"40\" /><line y2=\"99\" y1=\"30\" x2=\"116.66666666666667\" x1=\"116.66666666666667\" /><line y2=\"99\" y1=\"30\" x2=\"193.33333333333334\" x1=\"193.33333333333334\" /><line y2=\"99\" y1=\"30\" x2=\"270.00000000000006\" x1=\"270.00000000000006\" /></g><g transform=\"translate(1,311)\" stroke-opacity=\"0.1\" stroke=\"currentColor\"><line y2=\"99\" y1=\"30\" x2=\"40\" x1=\"40\" /><line y2=\"99\" y1=\"30\" x2=\"116.66666666666667\" x1=\"116.66666666666667\" /><line y2=\"99\" y1=\"30\" x2=\"193.33333333333334\" x1=\"193.33333333333334\" /><line y2=\"99\" y1=\"30\" x2=\"270.00000000000006\" x1=\"270.00000000000006\" /></g><g transform=\"translate(1,388)\" stroke-opacity=\"0.1\" stroke=\"currentColor\"><line y2=\"99\" y1=\"30\" x2=\"40\" x1=\"40\" /><line y2=\"99\" y1=\"30\" x2=\"116.66666666666667\" x1=\"116.66666666666667\" /><line y2=\"99\" y1=\"30\" x2=\"193.33333333333334\" x1=\"193.33333333333334\" /><line y2=\"99\" y1=\"30\" x2=\"270.00000000000006\" x1=\"270.00000000000006\" /></g><g transform=\"translate(1,465)\" stroke-opacity=\"0.1\" stroke=\"currentColor\"><line y2=\"99\" y1=\"30\" x2=\"40\" x1=\"40\" /><line y2=\"99\" y1=\"30\" x2=\"116.66666666666667\" x1=\"116.66666666666667\" /><line y2=\"99\" y1=\"30\" x2=\"193.33333333333334\" x1=\"193.33333333333334\" /><line y2=\"99\" y1=\"30\" x2=\"270.00000000000006\" x1=\"270.00000000000006\" /></g><g transform=\"translate(308,3)\" stroke-opacity=\"0.1\" stroke=\"currentColor\"><line y2=\"99\" y1=\"30\" x2=\"40\" x1=\"40\" /><line y2=\"99\" y1=\"30\" x2=\"116.66666666666667\" x1=\"116.66666666666667\" /><line y2=\"99\" y1=\"30\" x2=\"193.33333333333334\" x1=\"193.33333333333334\" /><line y2=\"99\" y1=\"30\" x2=\"270.00000000000006\" x1=\"270.00000000000006\" /></g><g transform=\"translate(308,80)\" stroke-opacity=\"0.1\" stroke=\"currentColor\"><line y2=\"99\" y1=\"30\" x2=\"40\" x1=\"40\" /><line y2=\"99\" y1=\"30\" x2=\"116.66666666666667\" x1=\"116.66666666666667\" /><line y2=\"99\" y1=\"30\" x2=\"193.33333333333334\" x1=\"193.33333333333334\" /><line y2=\"99\" y1=\"30\" x2=\"270.00000000000006\" x1=\"270.00000000000006\" /></g><g transform=\"translate(308,157)\" stroke-opacity=\"0.1\" stroke=\"currentColor\"><line y2=\"99\" y1=\"30\" x2=\"40\" x1=\"40\" /><line y2=\"99\" y1=\"30\" x2=\"116.66666666666667\" x1=\"116.66666666666667\" /><line y2=\"99\" y1=\"30\" x2=\"193.33333333333334\" x1=\"193.33333333333334\" /><line y2=\"99\" y1=\"30\" x2=\"270.00000000000006\" x1=\"270.00000000000006\" /></g><g transform=\"translate(308,234)\" stroke-opacity=\"0.1\" stroke=\"currentColor\"><line y2=\"99\" y1=\"30\" x2=\"40\" x1=\"40\" /><line y2=\"99\" y1=\"30\" x2=\"116.66666666666667\" x1=\"116.66666666666667\" /><line y2=\"99\" y1=\"30\" x2=\"193.33333333333334\" x1=\"193.33333333333334\" /><line y2=\"99\" y1=\"30\" x2=\"270.00000000000006\" x1=\"270.00000000000006\" /></g><g transform=\"translate(308,311)\" stroke-opacity=\"0.1\" stroke=\"currentColor\"><line y2=\"99\" y1=\"30\" x2=\"40\" x1=\"40\" /><line y2=\"99\" y1=\"30\" x2=\"116.66666666666667\" x1=\"116.66666666666667\" /><line y2=\"99\" y1=\"30\" x2=\"193.33333333333334\" x1=\"193.33333333333334\" /><line y2=\"99\" y1=\"30\" x2=\"270.00000000000006\" x1=\"270.00000000000006\" /></g><g transform=\"translate(308,388)\" stroke-opacity=\"0.1\" stroke=\"currentColor\"><line y2=\"99\" y1=\"30\" x2=\"40\" x1=\"40\" /><line y2=\"99\" y1=\"30\" x2=\"116.66666666666667\" x1=\"116.66666666666667\" /><line y2=\"99\" y1=\"30\" x2=\"193.33333333333334\" x1=\"193.33333333333334\" /><line y2=\"99\" y1=\"30\" x2=\"270.00000000000006\" x1=\"270.00000000000006\" /></g><g transform=\"translate(308,465)\" stroke-opacity=\"0.1\" stroke=\"currentColor\"><line y2=\"99\" y1=\"30\" x2=\"40\" x1=\"40\" /><line y2=\"99\" y1=\"30\" x2=\"116.66666666666667\" x1=\"116.66666666666667\" /><line y2=\"99\" y1=\"30\" x2=\"193.33333333333334\" x1=\"193.33333333333334\" /><line y2=\"99\" y1=\"30\" x2=\"270.00000000000006\" x1=\"270.00000000000006\" /></g><g transform=\"translate(308,542)\" stroke-opacity=\"0.1\" stroke=\"currentColor\"><line y2=\"99\" y1=\"30\" x2=\"40\" x1=\"40\" /><line y2=\"99\" y1=\"30\" x2=\"116.66666666666667\" x1=\"116.66666666666667\" /><line y2=\"99\" y1=\"30\" x2=\"193.33333333333334\" x1=\"193.33333333333334\" /><line y2=\"99\" y1=\"30\" x2=\"270.00000000000006\" x1=\"270.00000000000006\" /></g><g transform=\"translate(308,619)\" stroke-opacity=\"0.1\" stroke=\"currentColor\"><line y2=\"99\" y1=\"30\" x2=\"40\" x1=\"40\" /><line y2=\"99\" y1=\"30\" x2=\"116.66666666666667\" x1=\"116.66666666666667\" /><line y2=\"99\" y1=\"30\" x2=\"193.33333333333334\" x1=\"193.33333333333334\" /><line y2=\"99\" y1=\"30\" x2=\"270.00000000000006\" x1=\"270.00000000000006\" /></g><g transform=\"translate(308,773)\" stroke-opacity=\"0.1\" stroke=\"currentColor\"><line y2=\"99\" y1=\"30\" x2=\"40\" x1=\"40\" /><line y2=\"99\" y1=\"30\" x2=\"116.66666666666667\" x1=\"116.66666666666667\" /><line y2=\"99\" y1=\"30\" x2=\"193.33333333333334\" x1=\"193.33333333333334\" /><line y2=\"99\" y1=\"30\" x2=\"270.00000000000006\" x1=\"270.00000000000006\" /></g><g transform=\"translate(308,850)\" stroke-opacity=\"0.1\" stroke=\"currentColor\"><line y2=\"99\" y1=\"30\" x2=\"40\" x1=\"40\" /><line y2=\"99\" y1=\"30\" x2=\"116.66666666666667\" x1=\"116.66666666666667\" /><line y2=\"99\" y1=\"30\" x2=\"193.33333333333334\" x1=\"193.33333333333334\" /><line y2=\"99\" y1=\"30\" x2=\"270.00000000000006\" x1=\"270.00000000000006\" /></g><g transform=\"translate(308,927)\" stroke-opacity=\"0.1\" stroke=\"currentColor\"><line y2=\"99\" y1=\"30\" x2=\"40\" x1=\"40\" /><line y2=\"99\" y1=\"30\" x2=\"116.66666666666667\" x1=\"116.66666666666667\" /><line y2=\"99\" y1=\"30\" x2=\"193.33333333333334\" x1=\"193.33333333333334\" /><line y2=\"99\" y1=\"30\" x2=\"270.00000000000006\" x1=\"270.00000000000006\" /></g><g transform=\"translate(308,1004)\" stroke-opacity=\"0.1\" stroke=\"currentColor\"><line y2=\"99\" y1=\"30\" x2=\"40\" x1=\"40\" /><line y2=\"99\" y1=\"30\" x2=\"116.66666666666667\" x1=\"116.66666666666667\" /><line y2=\"99\" y1=\"30\" x2=\"193.33333333333334\" x1=\"193.33333333333334\" /><line y2=\"99\" y1=\"30\" x2=\"270.00000000000006\" x1=\"270.00000000000006\" /></g><g transform=\"translate(615,3)\" stroke-opacity=\"0.1\" stroke=\"currentColor\"><line y2=\"99\" y1=\"30\" x2=\"40\" x1=\"40\" /><line y2=\"99\" y1=\"30\" x2=\"116.66666666666667\" x1=\"116.66666666666667\" /><line y2=\"99\" y1=\"30\" x2=\"193.33333333333334\" x1=\"193.33333333333334\" /><line y2=\"99\" y1=\"30\" x2=\"270.00000000000006\" x1=\"270.00000000000006\" /></g><g transform=\"translate(615,80)\" stroke-opacity=\"0.1\" stroke=\"currentColor\"><line y2=\"99\" y1=\"30\" x2=\"40\" x1=\"40\" /><line y2=\"99\" y1=\"30\" x2=\"116.66666666666667\" x1=\"116.66666666666667\" /><line y2=\"99\" y1=\"30\" x2=\"193.33333333333334\" x1=\"193.33333333333334\" /><line y2=\"99\" y1=\"30\" x2=\"270.00000000000006\" x1=\"270.00000000000006\" /></g><g transform=\"translate(615,157)\" stroke-opacity=\"0.1\" stroke=\"currentColor\"><line y2=\"99\" y1=\"30\" x2=\"40\" x1=\"40\" /><line y2=\"99\" y1=\"30\" x2=\"116.66666666666667\" x1=\"116.66666666666667\" /><line y2=\"99\" y1=\"30\" x2=\"193.33333333333334\" x1=\"193.33333333333334\" /><line y2=\"99\" y1=\"30\" x2=\"270.00000000000006\" x1=\"270.00000000000006\" /></g><g transform=\"translate(615,234)\" stroke-opacity=\"0.1\" stroke=\"currentColor\"><line y2=\"99\" y1=\"30\" x2=\"40\" x1=\"40\" /><line y2=\"99\" y1=\"30\" x2=\"116.66666666666667\" x1=\"116.66666666666667\" /><line y2=\"99\" y1=\"30\" x2=\"193.33333333333334\" x1=\"193.33333333333334\" /><line y2=\"99\" y1=\"30\" x2=\"270.00000000000006\" x1=\"270.00000000000006\" /></g><g transform=\"translate(615,311)\" stroke-opacity=\"0.1\" stroke=\"currentColor\"><line y2=\"99\" y1=\"30\" x2=\"40\" x1=\"40\" /><line y2=\"99\" y1=\"30\" x2=\"116.66666666666667\" x1=\"116.66666666666667\" /><line y2=\"99\" y1=\"30\" x2=\"193.33333333333334\" x1=\"193.33333333333334\" /><line y2=\"99\" y1=\"30\" x2=\"270.00000000000006\" x1=\"270.00000000000006\" /></g><g transform=\"translate(615,388)\" stroke-opacity=\"0.1\" stroke=\"currentColor\"><line y2=\"99\" y1=\"30\" x2=\"40\" x1=\"40\" /><line y2=\"99\" y1=\"30\" x2=\"116.66666666666667\" x1=\"116.66666666666667\" /><line y2=\"99\" y1=\"30\" x2=\"193.33333333333334\" x1=\"193.33333333333334\" /><line y2=\"99\" y1=\"30\" x2=\"270.00000000000006\" x1=\"270.00000000000006\" /></g><g transform=\"translate(615,465)\" stroke-opacity=\"0.1\" stroke=\"currentColor\"><line y2=\"99\" y1=\"30\" x2=\"40\" x1=\"40\" /><line y2=\"99\" y1=\"30\" x2=\"116.66666666666667\" x1=\"116.66666666666667\" /><line y2=\"99\" y1=\"30\" x2=\"193.33333333333334\" x1=\"193.33333333333334\" /><line y2=\"99\" y1=\"30\" x2=\"270.00000000000006\" x1=\"270.00000000000006\" /></g><g transform=\"translate(615,542)\" stroke-opacity=\"0.1\" stroke=\"currentColor\"><line y2=\"99\" y1=\"30\" x2=\"40\" x1=\"40\" /><line y2=\"99\" y1=\"30\" x2=\"116.66666666666667\" x1=\"116.66666666666667\" /><line y2=\"99\" y1=\"30\" x2=\"193.33333333333334\" x1=\"193.33333333333334\" /><line y2=\"99\" y1=\"30\" x2=\"270.00000000000006\" x1=\"270.00000000000006\" /></g><g transform=\"translate(615,696)\" stroke-opacity=\"0.1\" stroke=\"currentColor\"><line y2=\"99\" y1=\"30\" x2=\"40\" x1=\"40\" /><line y2=\"99\" y1=\"30\" x2=\"116.66666666666667\" x1=\"116.66666666666667\" /><line y2=\"99\" y1=\"30\" x2=\"193.33333333333334\" x1=\"193.33333333333334\" /><line y2=\"99\" y1=\"30\" x2=\"270.00000000000006\" x1=\"270.00000000000006\" /></g><g transform=\"translate(615,773)\" stroke-opacity=\"0.1\" stroke=\"currentColor\"><line y2=\"99\" y1=\"30\" x2=\"40\" x1=\"40\" /><line y2=\"99\" y1=\"30\" x2=\"116.66666666666667\" x1=\"116.66666666666667\" /><line y2=\"99\" y1=\"30\" x2=\"193.33333333333334\" x1=\"193.33333333333334\" /><line y2=\"99\" y1=\"30\" x2=\"270.00000000000006\" x1=\"270.00000000000006\" /></g><g transform=\"translate(615,1081)\" stroke-opacity=\"0.1\" stroke=\"currentColor\"><line y2=\"99\" y1=\"30\" x2=\"40\" x1=\"40\" /><line y2=\"99\" y1=\"30\" x2=\"116.66666666666667\" x1=\"116.66666666666667\" /><line y2=\"99\" y1=\"30\" x2=\"193.33333333333334\" x1=\"193.33333333333334\" /><line y2=\"99\" y1=\"30\" x2=\"270.00000000000006\" x1=\"270.00000000000006\" /></g><g transform=\"translate(615,1158)\" stroke-opacity=\"0.1\" stroke=\"currentColor\"><line y2=\"99\" y1=\"30\" x2=\"40\" x1=\"40\" /><line y2=\"99\" y1=\"30\" x2=\"116.66666666666667\" x1=\"116.66666666666667\" /><line y2=\"99\" y1=\"30\" x2=\"193.33333333333334\" x1=\"193.33333333333334\" /><line y2=\"99\" y1=\"30\" x2=\"270.00000000000006\" x1=\"270.00000000000006\" /></g><g transform=\"translate(922,3)\" stroke-opacity=\"0.1\" stroke=\"currentColor\"><line y2=\"99\" y1=\"30\" x2=\"40\" x1=\"40\" /><line y2=\"99\" y1=\"30\" x2=\"116.66666666666667\" x1=\"116.66666666666667\" /><line y2=\"99\" y1=\"30\" x2=\"193.33333333333334\" x1=\"193.33333333333334\" /><line y2=\"99\" y1=\"30\" x2=\"270.00000000000006\" x1=\"270.00000000000006\" /></g><g transform=\"translate(922,80)\" stroke-opacity=\"0.1\" stroke=\"currentColor\"><line y2=\"99\" y1=\"30\" x2=\"40\" x1=\"40\" /><line y2=\"99\" y1=\"30\" x2=\"116.66666666666667\" x1=\"116.66666666666667\" /><line y2=\"99\" y1=\"30\" x2=\"193.33333333333334\" x1=\"193.33333333333334\" /><line y2=\"99\" y1=\"30\" x2=\"270.00000000000006\" x1=\"270.00000000000006\" /></g><g transform=\"translate(922,234)\" stroke-opacity=\"0.1\" stroke=\"currentColor\"><line y2=\"99\" y1=\"30\" x2=\"40\" x1=\"40\" /><line y2=\"99\" y1=\"30\" x2=\"116.66666666666667\" x1=\"116.66666666666667\" /><line y2=\"99\" y1=\"30\" x2=\"193.33333333333334\" x1=\"193.33333333333334\" /><line y2=\"99\" y1=\"30\" x2=\"270.00000000000006\" x1=\"270.00000000000006\" /></g><g transform=\"translate(922,311)\" stroke-opacity=\"0.1\" stroke=\"currentColor\"><line y2=\"99\" y1=\"30\" x2=\"40\" x1=\"40\" /><line y2=\"99\" y1=\"30\" x2=\"116.66666666666667\" x1=\"116.66666666666667\" /><line y2=\"99\" y1=\"30\" x2=\"193.33333333333334\" x1=\"193.33333333333334\" /><line y2=\"99\" y1=\"30\" x2=\"270.00000000000006\" x1=\"270.00000000000006\" /></g><g transform=\"translate(922,465)\" stroke-opacity=\"0.1\" stroke=\"currentColor\"><line y2=\"99\" y1=\"30\" x2=\"40\" x1=\"40\" /><line y2=\"99\" y1=\"30\" x2=\"116.66666666666667\" x1=\"116.66666666666667\" /><line y2=\"99\" y1=\"30\" x2=\"193.33333333333334\" x1=\"193.33333333333334\" /><line y2=\"99\" y1=\"30\" x2=\"270.00000000000006\" x1=\"270.00000000000006\" /></g><g transform=\"translate(922,542)\" stroke-opacity=\"0.1\" stroke=\"currentColor\"><line y2=\"99\" y1=\"30\" x2=\"40\" x1=\"40\" /><line y2=\"99\" y1=\"30\" x2=\"116.66666666666667\" x1=\"116.66666666666667\" /><line y2=\"99\" y1=\"30\" x2=\"193.33333333333334\" x1=\"193.33333333333334\" /><line y2=\"99\" y1=\"30\" x2=\"270.00000000000006\" x1=\"270.00000000000006\" /></g><g transform=\"translate(922,696)\" stroke-opacity=\"0.1\" stroke=\"currentColor\"><line y2=\"99\" y1=\"30\" x2=\"40\" x1=\"40\" /><line y2=\"99\" y1=\"30\" x2=\"116.66666666666667\" x1=\"116.66666666666667\" /><line y2=\"99\" y1=\"30\" x2=\"193.33333333333334\" x1=\"193.33333333333334\" /><line y2=\"99\" y1=\"30\" x2=\"270.00000000000006\" x1=\"270.00000000000006\" /></g></g><g aria-hidden=\"true\" aria-label=\"x-axis tick\"><g transform=\"translate(1,3)\" stroke=\"currentColor\" fill=\"none\"><path d=\"M0,0L0,6\" transform=\"translate(40,99)\" /><path d=\"M0,0L0,6\" transform=\"translate(116.66666666666667,99)\" /><path d=\"M0,0L0,6\" transform=\"translate(193.33333333333334,99)\" /><path d=\"M0,0L0,6\" transform=\"translate(270.00000000000006,99)\" /></g><g transform=\"translate(1,465)\" stroke=\"currentColor\" fill=\"none\"><path d=\"M0,0L0,6\" transform=\"translate(40,99)\" /><path d=\"M0,0L0,6\" transform=\"translate(116.66666666666667,99)\" /><path d=\"M0,0L0,6\" transform=\"translate(193.33333333333334,99)\" /><path d=\"M0,0L0,6\" transform=\"translate(270.00000000000006,99)\" /></g><g transform=\"translate(308,619)\" stroke=\"currentColor\" fill=\"none\"><path d=\"M0,0L0,6\" transform=\"translate(40,99)\" /><path d=\"M0,0L0,6\" transform=\"translate(116.66666666666667,99)\" /><path d=\"M0,0L0,6\" transform=\"translate(193.33333333333334,99)\" /><path d=\"M0,0L0,6\" transform=\"translate(270.00000000000006,99)\" /></g><g transform=\"translate(308,1004)\" stroke=\"currentColor\" fill=\"none\"><path d=\"M0,0L0,6\" transform=\"translate(40,99)\" /><path d=\"M0,0L0,6\" transform=\"translate(116.66666666666667,99)\" /><path d=\"M0,0L0,6\" transform=\"translate(193.33333333333334,99)\" /><path d=\"M0,0L0,6\" transform=\"translate(270.00000000000006,99)\" /></g><g transform=\"translate(615,542)\" stroke=\"currentColor\" fill=\"none\"><path d=\"M0,0L0,6\" transform=\"translate(40,99)\" /><path d=\"M0,0L0,6\" transform=\"translate(116.66666666666667,99)\" /><path d=\"M0,0L0,6\" transform=\"translate(193.33333333333334,99)\" /><path d=\"M0,0L0,6\" transform=\"translate(270.00000000000006,99)\" /></g><g transform=\"translate(615,773)\" stroke=\"currentColor\" fill=\"none\"><path d=\"M0,0L0,6\" transform=\"translate(40,99)\" /><path d=\"M0,0L0,6\" transform=\"translate(116.66666666666667,99)\" /><path d=\"M0,0L0,6\" transform=\"translate(193.33333333333334,99)\" /><path d=\"M0,0L0,6\" transform=\"translate(270.00000000000006,99)\" /></g><g transform=\"translate(615,1158)\" stroke=\"currentColor\" fill=\"none\"><path d=\"M0,0L0,6\" transform=\"translate(40,99)\" /><path d=\"M0,0L0,6\" transform=\"translate(116.66666666666667,99)\" /><path d=\"M0,0L0,6\" transform=\"translate(193.33333333333334,99)\" /><path d=\"M0,0L0,6\" transform=\"translate(270.00000000000006,99)\" /></g><g transform=\"translate(922,80)\" stroke=\"currentColor\" fill=\"none\"><path d=\"M0,0L0,6\" transform=\"translate(40,99)\" /><path d=\"M0,0L0,6\" transform=\"translate(116.66666666666667,99)\" /><path d=\"M0,0L0,6\" transform=\"translate(193.33333333333334,99)\" /><path d=\"M0,0L0,6\" transform=\"translate(270.00000000000006,99)\" /></g><g transform=\"translate(922,311)\" stroke=\"currentColor\" fill=\"none\"><path d=\"M0,0L0,6\" transform=\"translate(40,99)\" /><path d=\"M0,0L0,6\" transform=\"translate(116.66666666666667,99)\" /><path d=\"M0,0L0,6\" transform=\"translate(193.33333333333334,99)\" /><path d=\"M0,0L0,6\" transform=\"translate(270.00000000000006,99)\" /></g><g transform=\"translate(922,542)\" stroke=\"currentColor\" fill=\"none\"><path d=\"M0,0L0,6\" transform=\"translate(40,99)\" /><path d=\"M0,0L0,6\" transform=\"translate(116.66666666666667,99)\" /><path d=\"M0,0L0,6\" transform=\"translate(193.33333333333334,99)\" /><path d=\"M0,0L0,6\" transform=\"translate(270.00000000000006,99)\" /></g><g transform=\"translate(922,696)\" stroke=\"currentColor\" fill=\"none\"><path d=\"M0,0L0,6\" transform=\"translate(40,99)\" /><path d=\"M0,0L0,6\" transform=\"translate(116.66666666666667,99)\" /><path d=\"M0,0L0,6\" transform=\"translate(193.33333333333334,99)\" /><path d=\"M0,0L0,6\" transform=\"translate(270.00000000000006,99)\" /></g></g><g transform=\"translate(0,9)\" aria-label=\"x-axis tick label\"><g transform=\"translate(1,3)\" font-variant=\"tabular-nums\"><text transform=\"translate(40,99)\" y=\"0.71em\">0</text><text transform=\"translate(116.66666666666667,99)\" y=\"0.71em\">5</text><text transform=\"translate(193.33333333333334,99)\" y=\"0.71em\">10</text><text transform=\"translate(270.00000000000006,99)\" y=\"0.71em\">15</text></g><g transform=\"translate(1,465)\" font-variant=\"tabular-nums\"><text transform=\"translate(40,99)\" y=\"0.71em\">0</text><text transform=\"translate(116.66666666666667,99)\" y=\"0.71em\">5</text><text transform=\"translate(193.33333333333334,99)\" y=\"0.71em\">10</text><text transform=\"translate(270.00000000000006,99)\" y=\"0.71em\">15</text></g><g transform=\"translate(308,619)\" font-variant=\"tabular-nums\"><text transform=\"translate(40,99)\" y=\"0.71em\">0</text><text transform=\"translate(116.66666666666667,99)\" y=\"0.71em\">5</text><text transform=\"translate(193.33333333333334,99)\" y=\"0.71em\">10</text><text transform=\"translate(270.00000000000006,99)\" y=\"0.71em\">15</text></g><g transform=\"translate(308,1004)\" font-variant=\"tabular-nums\"><text transform=\"translate(40,99)\" y=\"0.71em\">0</text><text transform=\"translate(116.66666666666667,99)\" y=\"0.71em\">5</text><text transform=\"translate(193.33333333333334,99)\" y=\"0.71em\">10</text><text transform=\"translate(270.00000000000006,99)\" y=\"0.71em\">15</text></g><g transform=\"translate(615,542)\" font-variant=\"tabular-nums\"><text transform=\"translate(40,99)\" y=\"0.71em\">0</text><text transform=\"translate(116.66666666666667,99)\" y=\"0.71em\">5</text><text transform=\"translate(193.33333333333334,99)\" y=\"0.71em\">10</text><text transform=\"translate(270.00000000000006,99)\" y=\"0.71em\">15</text></g><g transform=\"translate(615,773)\" font-variant=\"tabular-nums\"><text transform=\"translate(40,99)\" y=\"0.71em\">0</text><text transform=\"translate(116.66666666666667,99)\" y=\"0.71em\">5</text><text transform=\"translate(193.33333333333334,99)\" y=\"0.71em\">10</text><text transform=\"translate(270.00000000000006,99)\" y=\"0.71em\">15</text></g><g transform=\"translate(615,1158)\" font-variant=\"tabular-nums\"><text transform=\"translate(40,99)\" y=\"0.71em\">0</text><text transform=\"translate(116.66666666666667,99)\" y=\"0.71em\">5</text><text transform=\"translate(193.33333333333334,99)\" y=\"0.71em\">10</text><text transform=\"translate(270.00000000000006,99)\" y=\"0.71em\">15</text></g><g transform=\"translate(922,80)\" font-variant=\"tabular-nums\"><text transform=\"translate(40,99)\" y=\"0.71em\">0</text><text transform=\"translate(116.66666666666667,99)\" y=\"0.71em\">5</text><text transform=\"translate(193.33333333333334,99)\" y=\"0.71em\">10</text><text transform=\"translate(270.00000000000006,99)\" y=\"0.71em\">15</text></g><g transform=\"translate(922,311)\" font-variant=\"tabular-nums\"><text transform=\"translate(40,99)\" y=\"0.71em\">0</text><text transform=\"translate(116.66666666666667,99)\" y=\"0.71em\">5</text><text transform=\"translate(193.33333333333334,99)\" y=\"0.71em\">10</text><text transform=\"translate(270.00000000000006,99)\" y=\"0.71em\">15</text></g><g transform=\"translate(922,542)\" font-variant=\"tabular-nums\"><text transform=\"translate(40,99)\" y=\"0.71em\">0</text><text transform=\"translate(116.66666666666667,99)\" y=\"0.71em\">5</text><text transform=\"translate(193.33333333333334,99)\" y=\"0.71em\">10</text><text transform=\"translate(270.00000000000006,99)\" y=\"0.71em\">15</text></g><g transform=\"translate(922,696)\" font-variant=\"tabular-nums\"><text transform=\"translate(40,99)\" y=\"0.71em\">0</text><text transform=\"translate(116.66666666666667,99)\" y=\"0.71em\">5</text><text transform=\"translate(193.33333333333334,99)\" y=\"0.71em\">10</text><text transform=\"translate(270.00000000000006,99)\" y=\"0.71em\">15</text></g></g><g transform=\"translate(37,27)\" text-anchor=\"end\" aria-label=\"x-axis label\"><text transform=\"translate(1238,1257)\">Frequency →</text></g><g aria-label=\"frame\"><rect transform=\"translate(1,3)\" height=\"69\" width=\"276\" y=\"30\" x=\"40\" stroke=\"currentColor\" fill=\"none\" /><rect transform=\"translate(1,157)\" height=\"69\" width=\"276\" y=\"30\" x=\"40\" stroke=\"currentColor\" fill=\"none\" /><rect transform=\"translate(1,234)\" height=\"69\" width=\"276\" y=\"30\" x=\"40\" stroke=\"currentColor\" fill=\"none\" /><rect transform=\"translate(1,311)\" height=\"69\" width=\"276\" y=\"30\" x=\"40\" stroke=\"currentColor\" fill=\"none\" /><rect transform=\"translate(1,388)\" height=\"69\" width=\"276\" y=\"30\" x=\"40\" stroke=\"currentColor\" fill=\"none\" /><rect transform=\"translate(1,465)\" height=\"69\" width=\"276\" y=\"30\" x=\"40\" stroke=\"currentColor\" fill=\"none\" /><rect transform=\"translate(308,3)\" height=\"69\" width=\"276\" y=\"30\" x=\"40\" stroke=\"currentColor\" fill=\"none\" /><rect transform=\"translate(308,80)\" height=\"69\" width=\"276\" y=\"30\" x=\"40\" stroke=\"currentColor\" fill=\"none\" /><rect transform=\"translate(308,157)\" height=\"69\" width=\"276\" y=\"30\" x=\"40\" stroke=\"currentColor\" fill=\"none\" /><rect transform=\"translate(308,234)\" height=\"69\" width=\"276\" y=\"30\" x=\"40\" stroke=\"currentColor\" fill=\"none\" /><rect transform=\"translate(308,311)\" height=\"69\" width=\"276\" y=\"30\" x=\"40\" stroke=\"currentColor\" fill=\"none\" /><rect transform=\"translate(308,388)\" height=\"69\" width=\"276\" y=\"30\" x=\"40\" stroke=\"currentColor\" fill=\"none\" /><rect transform=\"translate(308,465)\" height=\"69\" width=\"276\" y=\"30\" x=\"40\" stroke=\"currentColor\" fill=\"none\" /><rect transform=\"translate(308,542)\" height=\"69\" width=\"276\" y=\"30\" x=\"40\" stroke=\"currentColor\" fill=\"none\" /><rect transform=\"translate(308,619)\" height=\"69\" width=\"276\" y=\"30\" x=\"40\" stroke=\"currentColor\" fill=\"none\" /><rect transform=\"translate(308,773)\" height=\"69\" width=\"276\" y=\"30\" x=\"40\" stroke=\"currentColor\" fill=\"none\" /><rect transform=\"translate(308,850)\" height=\"69\" width=\"276\" y=\"30\" x=\"40\" stroke=\"currentColor\" fill=\"none\" /><rect transform=\"translate(308,927)\" height=\"69\" width=\"276\" y=\"30\" x=\"40\" stroke=\"currentColor\" fill=\"none\" /><rect transform=\"translate(308,1004)\" height=\"69\" width=\"276\" y=\"30\" x=\"40\" stroke=\"currentColor\" fill=\"none\" /><rect transform=\"translate(615,3)\" height=\"69\" width=\"276\" y=\"30\" x=\"40\" stroke=\"currentColor\" fill=\"none\" /><rect transform=\"translate(615,80)\" height=\"69\" width=\"276\" y=\"30\" x=\"40\" stroke=\"currentColor\" fill=\"none\" /><rect transform=\"translate(615,157)\" height=\"69\" width=\"276\" y=\"30\" x=\"40\" stroke=\"currentColor\" fill=\"none\" /><rect transform=\"translate(615,234)\" height=\"69\" width=\"276\" y=\"30\" x=\"40\" stroke=\"currentColor\" fill=\"none\" /><rect transform=\"translate(615,311)\" height=\"69\" width=\"276\" y=\"30\" x=\"40\" stroke=\"currentColor\" fill=\"none\" /><rect transform=\"translate(615,388)\" height=\"69\" width=\"276\" y=\"30\" x=\"40\" stroke=\"currentColor\" fill=\"none\" /><rect transform=\"translate(615,465)\" height=\"69\" width=\"276\" y=\"30\" x=\"40\" stroke=\"currentColor\" fill=\"none\" /><rect transform=\"translate(615,542)\" height=\"69\" width=\"276\" y=\"30\" x=\"40\" stroke=\"currentColor\" fill=\"none\" /><rect transform=\"translate(615,696)\" height=\"69\" width=\"276\" y=\"30\" x=\"40\" stroke=\"currentColor\" fill=\"none\" /><rect transform=\"translate(615,773)\" height=\"69\" width=\"276\" y=\"30\" x=\"40\" stroke=\"currentColor\" fill=\"none\" /><rect transform=\"translate(615,1081)\" height=\"69\" width=\"276\" y=\"30\" x=\"40\" stroke=\"currentColor\" fill=\"none\" /><rect transform=\"translate(615,1158)\" height=\"69\" width=\"276\" y=\"30\" x=\"40\" stroke=\"currentColor\" fill=\"none\" /><rect transform=\"translate(922,3)\" height=\"69\" width=\"276\" y=\"30\" x=\"40\" stroke=\"currentColor\" fill=\"none\" /><rect transform=\"translate(922,80)\" height=\"69\" width=\"276\" y=\"30\" x=\"40\" stroke=\"currentColor\" fill=\"none\" /><rect transform=\"translate(922,234)\" height=\"69\" width=\"276\" y=\"30\" x=\"40\" stroke=\"currentColor\" fill=\"none\" /><rect transform=\"translate(922,311)\" height=\"69\" width=\"276\" y=\"30\" x=\"40\" stroke=\"currentColor\" fill=\"none\" /><rect transform=\"translate(922,465)\" height=\"69\" width=\"276\" y=\"30\" x=\"40\" stroke=\"currentColor\" fill=\"none\" /><rect transform=\"translate(922,542)\" height=\"69\" width=\"276\" y=\"30\" x=\"40\" stroke=\"currentColor\" fill=\"none\" /><rect transform=\"translate(922,696)\" height=\"69\" width=\"276\" y=\"30\" x=\"40\" stroke=\"currentColor\" fill=\"none\" /></g><g aria-label=\"bar\"><g transform=\"translate(1,3)\"><rect fill=\"#ffd800\" height=\"4\" y=\"81\" width=\"46\" x=\"40\" /><rect fill=\"#ffd800\" height=\"4\" y=\"73\" width=\"15.333333333333329\" x=\"40\" /><rect fill=\"#ffd800\" height=\"4\" y=\"77\" width=\"15.333333333333329\" x=\"40\" /><rect fill=\"#ffd800\" height=\"4\" y=\"89\" width=\"15.333333333333329\" x=\"40\" /><rect fill=\"#ffd800\" height=\"4\" y=\"61\" width=\"199.33333333333334\" x=\"40\" /><rect fill=\"#ffd800\" height=\"4\" y=\"69\" width=\"46\" x=\"40\" /><rect fill=\"#ff5151\" height=\"4\" y=\"65\" width=\"15.333333333333329\" x=\"40\" /><rect fill=\"#ff5151\" height=\"4\" y=\"69\" width=\"15.333333333333329\" x=\"86\" /><rect fill=\"#ff5151\" height=\"4\" y=\"57\" width=\"15.333333333333329\" x=\"40\" /></g><g transform=\"translate(1,157)\"><rect fill=\"#ffd800\" height=\"4\" y=\"89\" width=\"15.333333333333329\" x=\"40\" /><rect fill=\"#ffd800\" height=\"4\" y=\"77\" width=\"138\" x=\"40\" /><rect fill=\"#ffd800\" height=\"4\" y=\"61\" width=\"76.66666666666667\" x=\"40\" /><rect fill=\"#ffd800\" height=\"4\" y=\"65\" width=\"107.33333333333334\" x=\"40\" /><rect fill=\"#ffd800\" height=\"4\" y=\"69\" width=\"46\" x=\"40\" /><rect fill=\"#ffd800\" height=\"4\" y=\"73\" width=\"76.66666666666667\" x=\"40\" /><rect fill=\"#ffd800\" height=\"4\" y=\"81\" width=\"76.66666666666667\" x=\"40\" /><rect fill=\"#ff5151\" height=\"4\" y=\"77\" width=\"15.333333333333343\" x=\"178\" /><rect fill=\"#ff5151\" height=\"4\" y=\"61\" width=\"30.66666666666667\" x=\"116.66666666666667\" /><rect fill=\"#ff5151\" height=\"4\" y=\"65\" width=\"15.333333333333314\" x=\"147.33333333333334\" /><rect fill=\"#ff5151\" height=\"4\" y=\"49\" width=\"15.333333333333329\" x=\"40\" /></g><g transform=\"translate(1,234)\"><rect fill=\"#ffd800\" height=\"4\" y=\"69\" width=\"30.666666666666657\" x=\"40\" /><rect fill=\"#ffd800\" height=\"4\" y=\"73\" width=\"15.333333333333329\" x=\"40\" /><rect fill=\"#ffd800\" height=\"4\" y=\"81\" width=\"15.333333333333329\" x=\"40\" /></g><g transform=\"translate(1,311)\"><rect fill=\"#ffd800\" height=\"4\" y=\"73\" width=\"15.333333333333329\" x=\"40\" /><rect fill=\"#ffd800\" height=\"4\" y=\"69\" width=\"30.666666666666657\" x=\"40\" /><rect fill=\"#ffd800\" height=\"4\" y=\"77\" width=\"61.33333333333333\" x=\"40\" /><rect fill=\"#ffd800\" height=\"4\" y=\"81\" width=\"30.666666666666657\" x=\"40\" /><rect fill=\"#ffd800\" height=\"4\" y=\"65\" width=\"15.333333333333329\" x=\"40\" /><rect fill=\"#ff5151\" height=\"4\" y=\"73\" width=\"30.66666666666667\" x=\"55.33333333333333\" /></g><g transform=\"translate(1,388)\"><rect fill=\"#ffd800\" height=\"4\" y=\"69\" width=\"46\" x=\"40\" /><rect fill=\"#ffd800\" height=\"4\" y=\"81\" width=\"15.333333333333329\" x=\"40\" /><rect fill=\"#ffd800\" height=\"4\" y=\"77\" width=\"61.33333333333333\" x=\"40\" /><rect fill=\"#ffd800\" height=\"4\" y=\"65\" width=\"76.66666666666667\" x=\"40\" /><rect fill=\"#ffd800\" height=\"4\" y=\"73\" width=\"30.666666666666657\" x=\"40\" /><rect fill=\"#ffd800\" height=\"4\" y=\"61\" width=\"15.333333333333329\" x=\"40\" /><rect fill=\"#ff5151\" height=\"4\" y=\"65\" width=\"15.333333333333329\" x=\"116.66666666666667\" /><rect fill=\"#ff5151\" height=\"4\" y=\"57\" width=\"15.333333333333329\" x=\"40\" /><rect fill=\"#ff5151\" height=\"4\" y=\"49\" width=\"15.333333333333329\" x=\"40\" /></g><g transform=\"translate(1,465)\"><rect fill=\"#ffd800\" height=\"4\" y=\"81\" width=\"15.333333333333329\" x=\"40\" /><rect fill=\"#ffd800\" height=\"4\" y=\"85\" width=\"15.333333333333329\" x=\"40\" /><rect fill=\"#ffd800\" height=\"4\" y=\"65\" width=\"92\" x=\"40\" /><rect fill=\"#ffd800\" height=\"4\" y=\"77\" width=\"46\" x=\"40\" /><rect fill=\"#ffd800\" height=\"4\" y=\"69\" width=\"92\" x=\"40\" /><rect fill=\"#ff5151\" height=\"4\" y=\"61\" width=\"30.666666666666657\" x=\"40\" /><rect fill=\"#ff5151\" height=\"4\" y=\"53\" width=\"15.333333333333329\" x=\"40\" /></g><g transform=\"translate(308,3)\"><rect fill=\"#ff5151\" height=\"4\" y=\"53\" width=\"122.66666666666666\" x=\"40\" /><rect fill=\"#ff5151\" height=\"4\" y=\"49\" width=\"122.66666666666666\" x=\"40\" /><rect fill=\"#ff5151\" height=\"4\" y=\"37\" width=\"92\" x=\"40\" /><rect fill=\"#ff5151\" height=\"4\" y=\"45\" width=\"76.66666666666667\" x=\"40\" /><rect fill=\"#ff5151\" height=\"4\" y=\"41\" width=\"15.333333333333329\" x=\"40\" /><rect fill=\"#ff5151\" height=\"4\" y=\"57\" width=\"76.66666666666667\" x=\"40\" /><rect fill=\"#ff5151\" height=\"4\" y=\"61\" width=\"15.333333333333329\" x=\"40\" /><rect fill=\"#ffd800\" height=\"4\" y=\"49\" width=\"15.333333333333343\" x=\"162.66666666666666\" /><rect fill=\"#ffd800\" height=\"4\" y=\"65\" width=\"92\" x=\"40\" /><rect fill=\"#ffd800\" height=\"4\" y=\"69\" width=\"168.66666666666666\" x=\"40\" /><rect fill=\"#ffd800\" height=\"4\" y=\"81\" width=\"61.33333333333333\" x=\"40\" /><rect fill=\"#ffd800\" height=\"4\" y=\"53\" width=\"107.3333333333334\" x=\"162.66666666666666\" /><rect fill=\"#ffd800\" height=\"4\" y=\"89\" width=\"46\" x=\"40\" /><rect fill=\"#ffd800\" height=\"4\" y=\"85\" width=\"107.33333333333334\" x=\"40\" /><rect fill=\"#ffd800\" height=\"4\" y=\"77\" width=\"76.66666666666667\" x=\"40\" /><rect fill=\"#ffd800\" height=\"4\" y=\"57\" width=\"76.66666666666667\" x=\"116.66666666666667\" /><rect fill=\"#ffd800\" height=\"4\" y=\"61\" width=\"61.33333333333334\" x=\"55.33333333333333\" /><rect fill=\"#ffd800\" height=\"4\" y=\"73\" width=\"92\" x=\"40\" /><rect fill=\"#ffd800\" height=\"4\" y=\"93\" width=\"15.333333333333329\" x=\"40\" /></g><g transform=\"translate(308,80)\"><rect fill=\"#ffd800\" height=\"4\" y=\"81\" width=\"46\" x=\"40\" /><rect fill=\"#ffd800\" height=\"4\" y=\"89\" width=\"61.33333333333333\" x=\"40\" /><rect fill=\"#ffd800\" height=\"4\" y=\"85\" width=\"15.333333333333329\" x=\"40\" /><rect fill=\"#ffd800\" height=\"4\" y=\"65\" width=\"46\" x=\"40\" /><rect fill=\"#ffd800\" height=\"4\" y=\"53\" width=\"30.666666666666657\" x=\"40\" /><rect fill=\"#ffd800\" height=\"4\" y=\"73\" width=\"61.33333333333333\" x=\"40\" /><rect fill=\"#ffd800\" height=\"4\" y=\"61\" width=\"30.666666666666657\" x=\"40\" /><rect fill=\"#ffd800\" height=\"4\" y=\"57\" width=\"15.333333333333329\" x=\"40\" /><rect fill=\"#ffd800\" height=\"4\" y=\"77\" width=\"30.666666666666657\" x=\"40\" /><rect fill=\"#ffd800\" height=\"4\" y=\"93\" width=\"15.333333333333329\" x=\"40\" /><rect fill=\"#ff5151\" height=\"4\" y=\"45\" width=\"30.666666666666657\" x=\"40\" /><rect fill=\"#ff5151\" height=\"4\" y=\"49\" width=\"30.666666666666657\" x=\"40\" /><rect fill=\"#ff5151\" height=\"4\" y=\"33\" width=\"15.333333333333329\" x=\"40\" /><rect fill=\"#ff5151\" height=\"4\" y=\"57\" width=\"30.66666666666667\" x=\"55.33333333333333\" /><rect fill=\"#ff5151\" height=\"4\" y=\"53\" width=\"15.333333333333343\" x=\"70.66666666666666\" /></g><g transform=\"translate(308,157)\"><rect fill=\"#ffd800\" height=\"4\" y=\"57\" width=\"122.66666666666666\" x=\"40\" /><rect fill=\"#ffd800\" height=\"4\" y=\"65\" width=\"199.33333333333334\" x=\"40\" /><rect fill=\"#ffd800\" height=\"4\" y=\"61\" width=\"245.33333333333331\" x=\"40\" /><rect fill=\"#ffd800\" height=\"4\" y=\"73\" width=\"92\" x=\"40\" /><rect fill=\"#ffd800\" height=\"4\" y=\"81\" width=\"107.33333333333334\" x=\"40\" /><rect fill=\"#ffd800\" height=\"4\" y=\"85\" width=\"76.66666666666667\" x=\"40\" /><rect fill=\"#ffd800\" height=\"4\" y=\"77\" width=\"61.33333333333333\" x=\"40\" /><rect fill=\"#ffd800\" height=\"4\" y=\"89\" width=\"107.33333333333334\" x=\"40\" /><rect fill=\"#ffd800\" height=\"4\" y=\"53\" width=\"30.666666666666657\" x=\"40\" /><rect fill=\"#ffd800\" height=\"4\" y=\"69\" width=\"92\" x=\"40\" /><rect fill=\"#ffd800\" height=\"4\" y=\"49\" width=\"30.666666666666657\" x=\"40\" /><rect fill=\"#ffd800\" height=\"4\" y=\"93\" width=\"15.333333333333329\" x=\"40\" /><rect fill=\"#ff5151\" height=\"4\" y=\"45\" width=\"92\" x=\"40\" /><rect fill=\"#ff5151\" height=\"4\" y=\"61\" width=\"30.666666666666686\" x=\"285.3333333333333\" /><rect fill=\"#ff5151\" height=\"4\" y=\"49\" width=\"61.33333333333334\" x=\"70.66666666666666\" /><rect fill=\"#ff5151\" height=\"4\" y=\"53\" width=\"76.66666666666669\" x=\"70.66666666666666\" /><rect fill=\"#ff5151\" height=\"4\" y=\"69\" width=\"30.666666666666657\" x=\"132\" /></g><g transform=\"translate(308,234)\"><rect fill=\"#ff5151\" height=\"4\" y=\"41\" width=\"15.333333333333329\" x=\"40\" /><rect fill=\"#ff5151\" height=\"4\" y=\"53\" width=\"61.33333333333333\" x=\"40\" /><rect fill=\"#ff5151\" height=\"4\" y=\"57\" width=\"15.333333333333329\" x=\"40\" /><rect fill=\"#ff5151\" height=\"4\" y=\"65\" width=\"15.333333333333329\" x=\"40\" /><rect fill=\"#ffd800\" height=\"4\" y=\"61\" width=\"92\" x=\"40\" /><rect fill=\"#ffd800\" height=\"4\" y=\"69\" width=\"76.66666666666667\" x=\"40\" /><rect fill=\"#ffd800\" height=\"4\" y=\"85\" width=\"92\" x=\"40\" /><rect fill=\"#ffd800\" height=\"4\" y=\"77\" width=\"122.66666666666666\" x=\"40\" /><rect fill=\"#ffd800\" height=\"4\" y=\"73\" width=\"92\" x=\"40\" /><rect fill=\"#ffd800\" height=\"4\" y=\"81\" width=\"138\" x=\"40\" /><rect fill=\"#ffd800\" height=\"4\" y=\"65\" width=\"76.66666666666667\" x=\"55.33333333333333\" /><rect fill=\"#ffd800\" height=\"4\" y=\"53\" width=\"61.33333333333333\" x=\"101.33333333333333\" /><rect fill=\"#ffd800\" height=\"4\" y=\"57\" width=\"15.333333333333329\" x=\"55.33333333333333\" /><rect fill=\"#ffd800\" height=\"4\" y=\"89\" width=\"15.333333333333329\" x=\"40\" /></g><g transform=\"translate(308,311)\"><rect fill=\"#ffd800\" height=\"4\" y=\"77\" width=\"30.666666666666657\" x=\"40\" /><rect fill=\"#ffd800\" height=\"4\" y=\"57\" width=\"30.666666666666657\" x=\"40\" /><rect fill=\"#ffd800\" height=\"4\" y=\"53\" width=\"15.333333333333329\" x=\"40\" /><rect fill=\"#ffd800\" height=\"4\" y=\"61\" width=\"46\" x=\"40\" /><rect fill=\"#ffd800\" height=\"4\" y=\"65\" width=\"46\" x=\"40\" /><rect fill=\"#ffd800\" height=\"4\" y=\"85\" width=\"30.666666666666657\" x=\"40\" /><rect fill=\"#ffd800\" height=\"4\" y=\"73\" width=\"15.333333333333329\" x=\"40\" /><rect fill=\"#ffd800\" height=\"4\" y=\"89\" width=\"15.333333333333329\" x=\"40\" /><rect fill=\"#ffd800\" height=\"4\" y=\"81\" width=\"15.333333333333329\" x=\"40\" /><rect fill=\"#ff5151\" height=\"4\" y=\"49\" width=\"30.666666666666657\" x=\"40\" /></g><g transform=\"translate(308,388)\"><rect fill=\"#ff5151\" height=\"4\" y=\"49\" width=\"107.33333333333334\" x=\"40\" /><rect fill=\"#ff5151\" height=\"4\" y=\"53\" width=\"15.333333333333329\" x=\"40\" /><rect fill=\"#ff5151\" height=\"4\" y=\"57\" width=\"61.33333333333333\" x=\"40\" /><rect fill=\"#ff5151\" height=\"4\" y=\"69\" width=\"15.333333333333329\" x=\"40\" /><rect fill=\"#ff5151\" height=\"4\" y=\"41\" width=\"15.333333333333329\" x=\"40\" /><rect fill=\"#ffd800\" height=\"4\" y=\"69\" width=\"46\" x=\"55.33333333333333\" /><rect fill=\"#ffd800\" height=\"4\" y=\"57\" width=\"76.66666666666667\" x=\"101.33333333333333\" /><rect fill=\"#ffd800\" height=\"4\" y=\"73\" width=\"107.33333333333334\" x=\"40\" /><rect fill=\"#ffd800\" height=\"4\" y=\"65\" width=\"153.33333333333334\" x=\"40\" /><rect fill=\"#ffd800\" height=\"4\" y=\"61\" width=\"122.66666666666666\" x=\"40\" /><rect fill=\"#ffd800\" height=\"4\" y=\"77\" width=\"153.33333333333334\" x=\"40\" /><rect fill=\"#ffd800\" height=\"4\" y=\"81\" width=\"61.33333333333333\" x=\"40\" /><rect fill=\"#ffd800\" height=\"4\" y=\"85\" width=\"15.333333333333329\" x=\"40\" /><rect fill=\"#ffd800\" height=\"4\" y=\"89\" width=\"15.333333333333329\" x=\"40\" /><rect fill=\"#ffd800\" height=\"4\" y=\"49\" width=\"15.333333333333314\" x=\"147.33333333333334\" /></g><g transform=\"translate(308,465)\"><rect fill=\"#ffd800\" height=\"4\" y=\"61\" width=\"46\" x=\"40\" /><rect fill=\"#ffd800\" height=\"4\" y=\"69\" width=\"30.666666666666657\" x=\"40\" /><rect fill=\"#ffd800\" height=\"4\" y=\"77\" width=\"30.666666666666657\" x=\"40\" /><rect fill=\"#ffd800\" height=\"4\" y=\"81\" width=\"30.666666666666657\" x=\"40\" /><rect fill=\"#ffd800\" height=\"4\" y=\"89\" width=\"46\" x=\"40\" /><rect fill=\"#ffd800\" height=\"4\" y=\"85\" width=\"30.666666666666657\" x=\"40\" /><rect fill=\"#ffd800\" height=\"4\" y=\"57\" width=\"15.333333333333329\" x=\"40\" /><rect fill=\"#ffd800\" height=\"4\" y=\"53\" width=\"15.333333333333329\" x=\"40\" /><rect fill=\"#ff5151\" height=\"4\" y=\"69\" width=\"15.333333333333343\" x=\"70.66666666666666\" /><rect fill=\"#ff5151\" height=\"4\" y=\"57\" width=\"15.333333333333329\" x=\"55.33333333333333\" /><rect fill=\"#ff5151\" height=\"4\" y=\"53\" width=\"15.333333333333329\" x=\"55.33333333333333\" /></g><g transform=\"translate(308,542)\"><rect fill=\"#ffd800\" height=\"4\" y=\"85\" width=\"15.333333333333329\" x=\"40\" /><rect fill=\"#ffd800\" height=\"4\" y=\"65\" width=\"30.666666666666657\" x=\"40\" /></g><g transform=\"translate(308,619)\"><rect fill=\"#ffd800\" height=\"4\" y=\"57\" width=\"15.333333333333329\" x=\"40\" /><rect fill=\"#ffd800\" height=\"4\" y=\"85\" width=\"30.666666666666657\" x=\"40\" /><rect fill=\"#ffd800\" height=\"4\" y=\"73\" width=\"30.666666666666657\" x=\"40\" /><rect fill=\"#ffd800\" height=\"4\" y=\"65\" width=\"46\" x=\"40\" /><rect fill=\"#ffd800\" height=\"4\" y=\"77\" width=\"30.666666666666657\" x=\"40\" /><rect fill=\"#ffd800\" height=\"4\" y=\"89\" width=\"15.333333333333329\" x=\"40\" /><rect fill=\"#ffd800\" height=\"4\" y=\"81\" width=\"15.333333333333329\" x=\"40\" /><rect fill=\"#ffd800\" height=\"4\" y=\"69\" width=\"15.333333333333329\" x=\"40\" /><rect fill=\"#ff5151\" height=\"4\" y=\"53\" width=\"30.666666666666657\" x=\"40\" /><rect fill=\"#ff5151\" height=\"4\" y=\"41\" width=\"15.333333333333329\" x=\"40\" /><rect fill=\"#ff5151\" height=\"4\" y=\"57\" width=\"15.333333333333329\" x=\"55.33333333333333\" /><rect fill=\"#ff5151\" height=\"4\" y=\"49\" width=\"30.666666666666657\" x=\"40\" /></g><g transform=\"translate(308,773)\"><rect fill=\"#ffd800\" height=\"4\" y=\"81\" width=\"15.333333333333329\" x=\"40\" /><rect fill=\"#ffd800\" height=\"4\" y=\"89\" width=\"30.666666666666657\" x=\"40\" /><rect fill=\"#ffd800\" height=\"4\" y=\"85\" width=\"15.333333333333329\" x=\"40\" /><rect fill=\"#ffd800\" height=\"4\" y=\"61\" width=\"15.333333333333329\" x=\"40\" /><rect fill=\"#ffd800\" height=\"4\" y=\"77\" width=\"15.333333333333329\" x=\"40\" /><rect fill=\"#ffd800\" height=\"4\" y=\"69\" width=\"15.333333333333329\" x=\"40\" /><rect fill=\"#ff5151\" height=\"4\" y=\"49\" width=\"15.333333333333329\" x=\"40\" /></g><g transform=\"translate(308,850)\"><rect fill=\"#ffd800\" height=\"4\" y=\"61\" width=\"15.333333333333329\" x=\"40\" /><rect fill=\"#ffd800\" height=\"4\" y=\"65\" width=\"30.666666666666657\" x=\"40\" /><rect fill=\"#ffd800\" height=\"4\" y=\"73\" width=\"15.333333333333329\" x=\"40\" /></g><g transform=\"translate(308,927)\"><rect fill=\"#ffd800\" height=\"4\" y=\"65\" width=\"15.333333333333329\" x=\"40\" /><rect fill=\"#ff5151\" height=\"4\" y=\"49\" width=\"15.333333333333329\" x=\"40\" /></g><g transform=\"translate(308,1004)\"><rect fill=\"#ffd800\" height=\"4\" y=\"73\" width=\"15.333333333333329\" x=\"40\" /><rect fill=\"#ffd800\" height=\"4\" y=\"69\" width=\"15.333333333333329\" x=\"40\" /></g><g transform=\"translate(615,3)\"><rect fill=\"#ffd800\" height=\"4\" y=\"57\" width=\"122.66666666666666\" x=\"40\" /><rect fill=\"#ffd800\" height=\"4\" y=\"69\" width=\"138\" x=\"40\" /><rect fill=\"#ffd800\" height=\"4\" y=\"81\" width=\"61.33333333333333\" x=\"40\" /><rect fill=\"#ffd800\" height=\"4\" y=\"77\" width=\"153.33333333333334\" x=\"40\" /><rect fill=\"#ffd800\" height=\"4\" y=\"49\" width=\"61.33333333333333\" x=\"40\" /><rect fill=\"#ffd800\" height=\"4\" y=\"65\" width=\"168.66666666666666\" x=\"40\" /><rect fill=\"#ffd800\" height=\"4\" y=\"53\" width=\"138\" x=\"40\" /><rect fill=\"#ffd800\" height=\"4\" y=\"73\" width=\"92\" x=\"40\" /><rect fill=\"#ffd800\" height=\"4\" y=\"61\" width=\"138\" x=\"40\" /><rect fill=\"#ffd800\" height=\"4\" y=\"85\" width=\"76.66666666666667\" x=\"40\" /><rect fill=\"#ffd800\" height=\"4\" y=\"89\" width=\"61.33333333333333\" x=\"40\" /><rect fill=\"#ffd800\" height=\"4\" y=\"45\" width=\"30.666666666666657\" x=\"40\" /><rect fill=\"#ff5151\" height=\"4\" y=\"37\" width=\"61.33333333333333\" x=\"40\" /><rect fill=\"#ff5151\" height=\"4\" y=\"33\" width=\"15.333333333333329\" x=\"40\" /><rect fill=\"#ff5151\" height=\"4\" y=\"53\" width=\"122.66666666666669\" x=\"178\" /><rect fill=\"#ff5151\" height=\"4\" y=\"41\" width=\"122.66666666666666\" x=\"40\" /><rect fill=\"#ff5151\" height=\"4\" y=\"45\" width=\"46.000000000000014\" x=\"70.66666666666666\" /><rect fill=\"#ff5151\" height=\"4\" y=\"61\" width=\"15.333333333333343\" x=\"178\" /><rect fill=\"#ff5151\" height=\"4\" y=\"57\" width=\"61.33333333333334\" x=\"162.66666666666666\" /><rect fill=\"#ff5151\" height=\"4\" y=\"49\" width=\"76.66666666666667\" x=\"101.33333333333333\" /><rect fill=\"#ff5151\" height=\"4\" y=\"65\" width=\"15.333333333333343\" x=\"208.66666666666666\" /></g><g transform=\"translate(615,80)\"><rect fill=\"#ffd800\" height=\"4\" y=\"69\" width=\"184\" x=\"40\" /><rect fill=\"#ffd800\" height=\"4\" y=\"53\" width=\"184\" x=\"40\" /><rect fill=\"#ffd800\" height=\"4\" y=\"61\" width=\"214.66666666666666\" x=\"40\" /><rect fill=\"#ffd800\" height=\"4\" y=\"85\" width=\"76.66666666666667\" x=\"40\" /><rect fill=\"#ffd800\" height=\"4\" y=\"89\" width=\"107.33333333333334\" x=\"40\" /><rect fill=\"#ffd800\" height=\"4\" y=\"77\" width=\"122.66666666666666\" x=\"40\" /><rect fill=\"#ffd800\" height=\"4\" y=\"73\" width=\"168.66666666666666\" x=\"40\" /><rect fill=\"#ffd800\" height=\"4\" y=\"65\" width=\"199.33333333333334\" x=\"40\" /><rect fill=\"#ffd800\" height=\"4\" y=\"57\" width=\"184\" x=\"40\" /><rect fill=\"#ffd800\" height=\"4\" y=\"81\" width=\"138\" x=\"40\" /><rect fill=\"#ffd800\" height=\"4\" y=\"45\" width=\"15.333333333333329\" x=\"40\" /><rect fill=\"#ffd800\" height=\"4\" y=\"49\" width=\"30.666666666666657\" x=\"40\" /><rect fill=\"#ff5151\" height=\"4\" y=\"65\" width=\"15.333333333333314\" x=\"239.33333333333334\" /><rect fill=\"#ff5151\" height=\"4\" y=\"49\" width=\"61.33333333333334\" x=\"70.66666666666666\" /><rect fill=\"#ff5151\" height=\"4\" y=\"45\" width=\"61.33333333333334\" x=\"55.33333333333333\" /><rect fill=\"#ff5151\" height=\"4\" y=\"53\" width=\"61.333333333333314\" x=\"224\" /><rect fill=\"#ff5151\" height=\"4\" y=\"61\" width=\"61.33333333333334\" x=\"254.66666666666666\" /><rect fill=\"#ff5151\" height=\"4\" y=\"57\" width=\"76.66666666666669\" x=\"224\" /><rect fill=\"#ff5151\" height=\"4\" y=\"41\" width=\"61.33333333333333\" x=\"40\" /></g><g transform=\"translate(615,157)\"><rect fill=\"#ff5151\" height=\"4\" y=\"57\" width=\"15.333333333333329\" x=\"40\" /><rect fill=\"#ff5151\" height=\"4\" y=\"41\" width=\"15.333333333333329\" x=\"40\" /><rect fill=\"#ff5151\" height=\"4\" y=\"45\" width=\"30.666666666666657\" x=\"40\" /><rect fill=\"#ff5151\" height=\"4\" y=\"53\" width=\"30.666666666666657\" x=\"40\" /><rect fill=\"#ff5151\" height=\"4\" y=\"49\" width=\"15.333333333333329\" x=\"40\" /><rect fill=\"#ffd800\" height=\"4\" y=\"65\" width=\"15.333333333333329\" x=\"40\" /><rect fill=\"#ffd800\" height=\"4\" y=\"61\" width=\"15.333333333333329\" x=\"40\" /><rect fill=\"#ffd800\" height=\"4\" y=\"89\" width=\"15.333333333333329\" x=\"40\" /><rect fill=\"#ffd800\" height=\"4\" y=\"69\" width=\"30.666666666666657\" x=\"40\" /><rect fill=\"#ffd800\" height=\"4\" y=\"57\" width=\"15.333333333333329\" x=\"55.33333333333333\" /><rect fill=\"#ffd800\" height=\"4\" y=\"73\" width=\"15.333333333333329\" x=\"40\" /><rect fill=\"#ffd800\" height=\"4\" y=\"45\" width=\"15.333333333333343\" x=\"70.66666666666666\" /><rect fill=\"#ffd800\" height=\"4\" y=\"49\" width=\"15.333333333333329\" x=\"55.33333333333333\" /><rect fill=\"#ffd800\" height=\"4\" y=\"85\" width=\"15.333333333333329\" x=\"40\" /></g><g transform=\"translate(615,234)\"><rect fill=\"#ffd800\" height=\"4\" y=\"69\" width=\"107.33333333333334\" x=\"40\" /><rect fill=\"#ffd800\" height=\"4\" y=\"65\" width=\"46\" x=\"40\" /><rect fill=\"#ffd800\" height=\"4\" y=\"77\" width=\"199.33333333333334\" x=\"40\" /><rect fill=\"#ffd800\" height=\"4\" y=\"85\" width=\"107.33333333333334\" x=\"40\" /><rect fill=\"#ffd800\" height=\"4\" y=\"73\" width=\"76.66666666666667\" x=\"40\" /><rect fill=\"#ffd800\" height=\"4\" y=\"61\" width=\"107.33333333333334\" x=\"40\" /><rect fill=\"#ffd800\" height=\"4\" y=\"57\" width=\"30.666666666666657\" x=\"40\" /><rect fill=\"#ffd800\" height=\"4\" y=\"81\" width=\"61.33333333333333\" x=\"40\" /><rect fill=\"#ffd800\" height=\"4\" y=\"89\" width=\"46\" x=\"40\" /><rect fill=\"#ffd800\" height=\"4\" y=\"45\" width=\"15.333333333333329\" x=\"40\" /><rect fill=\"#ff5151\" height=\"4\" y=\"53\" width=\"46\" x=\"40\" /><rect fill=\"#ff5151\" height=\"4\" y=\"41\" width=\"15.333333333333329\" x=\"40\" /><rect fill=\"#ff5151\" height=\"4\" y=\"49\" width=\"46\" x=\"40\" /><rect fill=\"#ff5151\" height=\"4\" y=\"37\" width=\"15.333333333333329\" x=\"40\" /><rect fill=\"#ff5151\" height=\"4\" y=\"57\" width=\"15.333333333333343\" x=\"70.66666666666666\" /><rect fill=\"#ff5151\" height=\"4\" y=\"61\" width=\"15.333333333333314\" x=\"147.33333333333334\" /></g><g transform=\"translate(615,311)\"><rect fill=\"#ffd800\" height=\"4\" y=\"65\" width=\"61.33333333333333\" x=\"40\" /><rect fill=\"#ffd800\" height=\"4\" y=\"85\" width=\"46\" x=\"40\" /><rect fill=\"#ffd800\" height=\"4\" y=\"41\" width=\"15.333333333333329\" x=\"40\" /><rect fill=\"#ffd800\" height=\"4\" y=\"53\" width=\"15.333333333333329\" x=\"40\" /><rect fill=\"#ffd800\" height=\"4\" y=\"73\" width=\"30.666666666666657\" x=\"40\" /><rect fill=\"#ffd800\" height=\"4\" y=\"89\" width=\"15.333333333333329\" x=\"40\" /><rect fill=\"#ffd800\" height=\"4\" y=\"81\" width=\"15.333333333333329\" x=\"40\" /><rect fill=\"#ffd800\" height=\"4\" y=\"77\" width=\"15.333333333333329\" x=\"40\" /><rect fill=\"#ffd800\" height=\"4\" y=\"69\" width=\"46\" x=\"40\" /><rect fill=\"#ffd800\" height=\"4\" y=\"57\" width=\"30.666666666666657\" x=\"40\" /><rect fill=\"#ffd800\" height=\"4\" y=\"49\" width=\"15.333333333333329\" x=\"40\" /><rect fill=\"#ffd800\" height=\"4\" y=\"61\" width=\"46\" x=\"40\" /><rect fill=\"#ff5151\" height=\"4\" y=\"45\" width=\"15.333333333333329\" x=\"40\" /><rect fill=\"#ff5151\" height=\"4\" y=\"49\" width=\"30.66666666666667\" x=\"55.33333333333333\" /><rect fill=\"#ff5151\" height=\"4\" y=\"53\" width=\"15.333333333333329\" x=\"55.33333333333333\" /><rect fill=\"#ff5151\" height=\"4\" y=\"61\" width=\"15.333333333333329\" x=\"86\" /><rect fill=\"#ff5151\" height=\"4\" y=\"57\" width=\"15.333333333333343\" x=\"70.66666666666666\" /></g><g transform=\"translate(615,388)\"><rect fill=\"#ffd800\" height=\"4\" y=\"61\" width=\"15.333333333333329\" x=\"40\" /><rect fill=\"#ffd800\" height=\"4\" y=\"65\" width=\"46\" x=\"40\" /><rect fill=\"#ffd800\" height=\"4\" y=\"69\" width=\"30.666666666666657\" x=\"40\" /><rect fill=\"#ffd800\" height=\"4\" y=\"85\" width=\"15.333333333333329\" x=\"40\" /><rect fill=\"#ffd800\" height=\"4\" y=\"89\" width=\"15.333333333333329\" x=\"40\" /><rect fill=\"#ff5151\" height=\"4\" y=\"57\" width=\"15.333333333333329\" x=\"40\" /><rect fill=\"#ff5151\" height=\"4\" y=\"49\" width=\"30.666666666666657\" x=\"40\" /><rect fill=\"#ff5151\" height=\"4\" y=\"53\" width=\"15.333333333333329\" x=\"40\" /></g><g transform=\"translate(615,465)\"><rect fill=\"#ff5151\" height=\"4\" y=\"37\" width=\"15.333333333333329\" x=\"40\" /><rect fill=\"#ff5151\" height=\"4\" y=\"45\" width=\"15.333333333333329\" x=\"40\" /><rect fill=\"#ffd800\" height=\"4\" y=\"61\" width=\"15.333333333333329\" x=\"40\" /><rect fill=\"#ffd800\" height=\"4\" y=\"69\" width=\"15.333333333333329\" x=\"40\" /><rect fill=\"#ffd800\" height=\"4\" y=\"57\" width=\"15.333333333333329\" x=\"40\" /><rect fill=\"#ffd800\" height=\"4\" y=\"81\" width=\"15.333333333333329\" x=\"40\" /></g><g transform=\"translate(615,542)\"><rect fill=\"#ffd800\" height=\"4\" y=\"73\" width=\"76.66666666666667\" x=\"40\" /><rect fill=\"#ffd800\" height=\"4\" y=\"77\" width=\"30.666666666666657\" x=\"40\" /><rect fill=\"#ffd800\" height=\"4\" y=\"85\" width=\"61.33333333333333\" x=\"40\" /><rect fill=\"#ffd800\" height=\"4\" y=\"81\" width=\"61.33333333333333\" x=\"40\" /><rect fill=\"#ffd800\" height=\"4\" y=\"57\" width=\"46\" x=\"40\" /><rect fill=\"#ffd800\" height=\"4\" y=\"61\" width=\"76.66666666666667\" x=\"40\" /><rect fill=\"#ffd800\" height=\"4\" y=\"65\" width=\"92\" x=\"40\" /><rect fill=\"#ffd800\" height=\"4\" y=\"69\" width=\"76.66666666666667\" x=\"40\" /><rect fill=\"#ffd800\" height=\"4\" y=\"89\" width=\"15.333333333333329\" x=\"40\" /><rect fill=\"#ffd800\" height=\"4\" y=\"49\" width=\"15.333333333333329\" x=\"40\" /><rect fill=\"#ffd800\" height=\"4\" y=\"53\" width=\"15.333333333333329\" x=\"40\" /><rect fill=\"#ff5151\" height=\"4\" y=\"61\" width=\"30.66666666666667\" x=\"116.66666666666667\" /><rect fill=\"#ff5151\" height=\"4\" y=\"41\" width=\"46\" x=\"40\" /><rect fill=\"#ff5151\" height=\"4\" y=\"57\" width=\"46\" x=\"86\" /><rect fill=\"#ff5151\" height=\"4\" y=\"49\" width=\"122.66666666666667\" x=\"55.33333333333333\" /><rect fill=\"#ff5151\" height=\"4\" y=\"53\" width=\"30.66666666666667\" x=\"55.33333333333333\" /><rect fill=\"#ff5151\" height=\"4\" y=\"45\" width=\"15.333333333333329\" x=\"40\" /></g><g transform=\"translate(615,696)\"><rect fill=\"#ffd800\" height=\"4\" y=\"69\" width=\"15.333333333333329\" x=\"40\" /><rect fill=\"#ffd800\" height=\"4\" y=\"81\" width=\"30.666666666666657\" x=\"40\" /><rect fill=\"#ffd800\" height=\"4\" y=\"77\" width=\"15.333333333333329\" x=\"40\" /><rect fill=\"#ffd800\" height=\"4\" y=\"53\" width=\"15.333333333333329\" x=\"40\" /><rect fill=\"#ffd800\" height=\"4\" y=\"49\" width=\"15.333333333333329\" x=\"40\" /><rect fill=\"#ffd800\" height=\"4\" y=\"57\" width=\"15.333333333333329\" x=\"40\" /><rect fill=\"#ff5151\" height=\"4\" y=\"45\" width=\"15.333333333333329\" x=\"40\" /><rect fill=\"#ff5151\" height=\"4\" y=\"53\" width=\"30.66666666666667\" x=\"55.33333333333333\" /></g><g transform=\"translate(615,773)\"><rect fill=\"#ffd800\" height=\"4\" y=\"77\" width=\"15.333333333333329\" x=\"40\" /></g><g transform=\"translate(615,1081)\"><rect fill=\"#ffd800\" height=\"4\" y=\"61\" width=\"15.333333333333329\" x=\"40\" /></g><g transform=\"translate(615,1158)\"><rect fill=\"#ffd800\" height=\"4\" y=\"69\" width=\"15.333333333333329\" x=\"40\" /></g><g transform=\"translate(922,3)\"><rect fill=\"#ffd800\" height=\"4\" y=\"89\" width=\"15.333333333333329\" x=\"40\" /><rect fill=\"#ffd800\" height=\"4\" y=\"81\" width=\"30.666666666666657\" x=\"40\" /><rect fill=\"#ffd800\" height=\"4\" y=\"53\" width=\"61.33333333333333\" x=\"40\" /><rect fill=\"#ffd800\" height=\"4\" y=\"77\" width=\"15.333333333333329\" x=\"40\" /><rect fill=\"#ffd800\" height=\"4\" y=\"49\" width=\"15.333333333333329\" x=\"40\" /><rect fill=\"#ffd800\" height=\"4\" y=\"45\" width=\"15.333333333333329\" x=\"40\" /><rect fill=\"#ffd800\" height=\"4\" y=\"85\" width=\"15.333333333333329\" x=\"40\" /><rect fill=\"#ffd800\" height=\"4\" y=\"61\" width=\"46\" x=\"40\" /><rect fill=\"#ffd800\" height=\"4\" y=\"73\" width=\"15.333333333333329\" x=\"40\" /><rect fill=\"#ff5151\" height=\"4\" y=\"49\" width=\"30.66666666666667\" x=\"55.33333333333333\" /><rect fill=\"#ff5151\" height=\"4\" y=\"73\" width=\"15.333333333333329\" x=\"55.33333333333333\" /><rect fill=\"#ff5151\" height=\"4\" y=\"61\" width=\"15.333333333333329\" x=\"86\" /><rect fill=\"#ff5151\" height=\"4\" y=\"53\" width=\"15.333333333333343\" x=\"101.33333333333333\" /></g><g transform=\"translate(922,80)\"><rect fill=\"#ffd800\" height=\"4\" y=\"57\" width=\"15.333333333333329\" x=\"40\" /><rect fill=\"#ffd800\" height=\"4\" y=\"89\" width=\"46\" x=\"40\" /><rect fill=\"#ffd800\" height=\"4\" y=\"73\" width=\"30.666666666666657\" x=\"40\" /><rect fill=\"#ffd800\" height=\"4\" y=\"45\" width=\"15.333333333333329\" x=\"40\" /><rect fill=\"#ffd800\" height=\"4\" y=\"61\" width=\"15.333333333333329\" x=\"40\" /><rect fill=\"#ffd800\" height=\"4\" y=\"65\" width=\"15.333333333333329\" x=\"40\" /><rect fill=\"#ffd800\" height=\"4\" y=\"77\" width=\"30.666666666666657\" x=\"40\" /><rect fill=\"#ffd800\" height=\"4\" y=\"49\" width=\"15.333333333333329\" x=\"40\" /><rect fill=\"#ff5151\" height=\"4\" y=\"41\" width=\"15.333333333333329\" x=\"40\" /><rect fill=\"#ff5151\" height=\"4\" y=\"37\" width=\"15.333333333333329\" x=\"40\" /><rect fill=\"#ff5151\" height=\"4\" y=\"57\" width=\"15.333333333333329\" x=\"55.33333333333333\" /></g><g transform=\"translate(922,234)\"><rect fill=\"#ffd800\" height=\"4\" y=\"85\" width=\"46\" x=\"40\" /><rect fill=\"#ffd800\" height=\"4\" y=\"69\" width=\"30.666666666666657\" x=\"40\" /><rect fill=\"#ffd800\" height=\"4\" y=\"73\" width=\"15.333333333333329\" x=\"40\" /><rect fill=\"#ffd800\" height=\"4\" y=\"61\" width=\"46\" x=\"40\" /><rect fill=\"#ffd800\" height=\"4\" y=\"65\" width=\"30.666666666666657\" x=\"40\" /><rect fill=\"#ffd800\" height=\"4\" y=\"81\" width=\"15.333333333333329\" x=\"40\" /><rect fill=\"#ffd800\" height=\"4\" y=\"89\" width=\"15.333333333333329\" x=\"40\" /><rect fill=\"#ff5151\" height=\"4\" y=\"61\" width=\"15.333333333333329\" x=\"86\" /><rect fill=\"#ff5151\" height=\"4\" y=\"33\" width=\"15.333333333333329\" x=\"40\" /></g><g transform=\"translate(922,311)\"><rect fill=\"#ff5151\" height=\"4\" y=\"53\" width=\"15.333333333333329\" x=\"40\" /><rect fill=\"#ff5151\" height=\"4\" y=\"57\" width=\"15.333333333333329\" x=\"40\" /><rect fill=\"#ffd800\" height=\"4\" y=\"81\" width=\"30.666666666666657\" x=\"40\" /><rect fill=\"#ffd800\" height=\"4\" y=\"65\" width=\"30.666666666666657\" x=\"40\" /><rect fill=\"#ffd800\" height=\"4\" y=\"73\" width=\"46\" x=\"40\" /><rect fill=\"#ffd800\" height=\"4\" y=\"53\" width=\"46\" x=\"55.33333333333333\" /><rect fill=\"#ffd800\" height=\"4\" y=\"57\" width=\"15.333333333333329\" x=\"55.33333333333333\" /><rect fill=\"#ffd800\" height=\"4\" y=\"49\" width=\"15.333333333333329\" x=\"40\" /></g><g transform=\"translate(922,465)\"><rect fill=\"#ffd800\" height=\"4\" y=\"61\" width=\"15.333333333333329\" x=\"40\" /><rect fill=\"#ffd800\" height=\"4\" y=\"65\" width=\"15.333333333333329\" x=\"40\" /><rect fill=\"#ffd800\" height=\"4\" y=\"81\" width=\"15.333333333333329\" x=\"40\" /><rect fill=\"#ffd800\" height=\"4\" y=\"69\" width=\"15.333333333333329\" x=\"40\" /><rect fill=\"#ffd800\" height=\"4\" y=\"77\" width=\"15.333333333333329\" x=\"40\" /><rect fill=\"#ff5151\" height=\"4\" y=\"33\" width=\"15.333333333333329\" x=\"40\" /></g><g transform=\"translate(922,542)\"><rect fill=\"#ffd800\" height=\"4\" y=\"69\" width=\"15.333333333333329\" x=\"40\" /><rect fill=\"#ffd800\" height=\"4\" y=\"81\" width=\"15.333333333333329\" x=\"40\" /><rect fill=\"#ffd800\" height=\"4\" y=\"65\" width=\"61.33333333333333\" x=\"40\" /><rect fill=\"#ffd800\" height=\"4\" y=\"57\" width=\"30.666666666666657\" x=\"40\" /><rect fill=\"#ffd800\" height=\"4\" y=\"49\" width=\"15.333333333333329\" x=\"40\" /><rect fill=\"#ffd800\" height=\"4\" y=\"53\" width=\"15.333333333333329\" x=\"40\" /><rect fill=\"#ff5151\" height=\"4\" y=\"37\" width=\"15.333333333333329\" x=\"40\" /><rect fill=\"#ff5151\" height=\"4\" y=\"45\" width=\"15.333333333333329\" x=\"40\" /><rect fill=\"#ff5151\" height=\"4\" y=\"49\" width=\"15.333333333333329\" x=\"55.33333333333333\" /><rect fill=\"#ff5151\" height=\"4\" y=\"41\" width=\"15.333333333333329\" x=\"40\" /></g><g transform=\"translate(922,696)\"><rect fill=\"#ffd800\" height=\"4\" y=\"65\" width=\"30.666666666666657\" x=\"40\" /><rect fill=\"#ffd800\" height=\"4\" y=\"73\" width=\"30.666666666666657\" x=\"40\" /><rect fill=\"#ffd800\" height=\"4\" y=\"81\" width=\"15.333333333333329\" x=\"40\" /><rect fill=\"#ffd800\" height=\"4\" y=\"57\" width=\"15.333333333333329\" x=\"40\" /></g></g></svg></figure>"
      ]
     },
     "metadata": {},
     "output_type": "display_data"
    }
   ],
   "source": [
    "let groupings = [\n",
    "  {\n",
    "    name: 'Everything',\n",
    "    y: 'difficulty',\n",
    "    fill: 'type',\n",
    "  },\n",
    "  {\n",
    "    name: 'By year',\n",
    "    y: 'difficulty',\n",
    "    fy: 'year',\n",
    "    fill: 'type',\n",
    "  },\n",
    "  {\n",
    "    name: 'By route setter',\n",
    "    y: 'difficulty',\n",
    "    fx: 'year',\n",
    "    fy: 'route_setter',\n",
    "    fill: 'type',\n",
    "    sort: { fy: '-x', reduce: 'count' },\n",
    "  },\n",
    "];\n",
    "for (const grouping of groupings) {\n",
    "  await display(md`## ${grouping.name}`);\n",
    "  await display(\n",
    "    Plot.plot({\n",
    "      grid: true,\n",
    "      width: grouping.fx ? baseWidth * 2 : baseWidth,\n",
    "      color: { legend: true, type: 'categorical', ...ascentTypeColorDomain },\n",
    "      marks: [Plot.frame(), Plot.barX(detailedAscents.toRecords(), Plot.groupY({ x: 'count' }, grouping))],\n",
    "      y: { type: 'band', reverse: true },\n",
    "      document,\n",
    "    }),\n",
    "  );\n",
    "}\n"
   ]
  },
  {
   "cell_type": "code",
   "execution_count": null,
   "metadata": {
    "vscode": {
     "languageId": "typescript"
    }
   },
   "outputs": [
    {
     "data": {
      "text/markdown": [
       "\n",
       "## Poor man's CPR\n",
       "  "
      ]
     },
     "metadata": {},
     "output_type": "display_data"
    },
    {
     "data": {
      "text/html": [
       "<figure style=\"max-width:initial\" class=\"plot-d6a7b5-figure\"><div class=\"plot-d6a7b5-swatches plot-d6a7b5-swatches-wrap\"><style>:where(.plot-d6a7b5-swatches) {\n",
       "  font-family: system-ui, sans-serif;\n",
       "  font-size: 10px;\n",
       "  margin-bottom: 0.5em;\n",
       "}\n",
       ":where(.plot-d6a7b5-swatch > svg) {\n",
       "  margin-right: 0.5em;\n",
       "  overflow: visible;\n",
       "}\n",
       ":where(.plot-d6a7b5-swatches-wrap) {\n",
       "  display: flex;\n",
       "  align-items: center;\n",
       "  min-height: 33px;\n",
       "  flex-wrap: wrap;\n",
       "}\n",
       ":where(.plot-d6a7b5-swatches-wrap .plot-d6a7b5-swatch) {\n",
       "  display: inline-flex;\n",
       "  align-items: center;\n",
       "  margin-right: 1em;\n",
       "}</style><span class=\"plot-d6a7b5-swatch\"><svg fill=\"#ffd800\" height=\"15\" width=\"15\"><rect height=\"100%\" width=\"100%\" /></svg>flash</span><span class=\"plot-d6a7b5-swatch\"><svg fill=\"#ff5151\" height=\"15\" width=\"15\"><rect height=\"100%\" width=\"100%\" /></svg>redpoint</span></div><svg viewBox=\"0 0 1500 400\" height=\"400\" width=\"1500\" text-anchor=\"middle\" font-size=\"10\" font-family=\"system-ui, sans-serif\" fill=\"currentColor\" class=\"plot-d6a7b5\"><style>:where(.plot-d6a7b5) {\n",
       "  --plot-background: white;\n",
       "  display: block;\n",
       "  height: auto;\n",
       "  height: intrinsic;\n",
       "  max-width: 100%;\n",
       "}\n",
       ":where(.plot-d6a7b5 text),\n",
       ":where(.plot-d6a7b5 tspan) {\n",
       "  white-space: pre;\n",
       "}</style><g stroke-opacity=\"0.1\" stroke=\"currentColor\" aria-hidden=\"true\" aria-label=\"y-grid\"><line y2=\"359.39393939393943\" y1=\"359.39393939393943\" x2=\"1480\" x1=\"40\" /><line y2=\"338.1818181818182\" y1=\"338.1818181818182\" x2=\"1480\" x1=\"40\" /><line y2=\"316.96969696969694\" y1=\"316.96969696969694\" x2=\"1480\" x1=\"40\" /><line y2=\"295.75757575757575\" y1=\"295.75757575757575\" x2=\"1480\" x1=\"40\" /><line y2=\"274.54545454545456\" y1=\"274.54545454545456\" x2=\"1480\" x1=\"40\" /><line y2=\"253.33333333333334\" y1=\"253.33333333333334\" x2=\"1480\" x1=\"40\" /><line y2=\"232.12121212121212\" y1=\"232.12121212121212\" x2=\"1480\" x1=\"40\" /><line y2=\"210.9090909090909\" y1=\"210.9090909090909\" x2=\"1480\" x1=\"40\" /><line y2=\"189.69696969696972\" y1=\"189.69696969696972\" x2=\"1480\" x1=\"40\" /><line y2=\"168.48484848484844\" y1=\"168.48484848484844\" x2=\"1480\" x1=\"40\" /><line y2=\"147.27272727272728\" y1=\"147.27272727272728\" x2=\"1480\" x1=\"40\" /><line y2=\"126.06060606060605\" y1=\"126.06060606060605\" x2=\"1480\" x1=\"40\" /><line y2=\"104.84848484848486\" y1=\"104.84848484848486\" x2=\"1480\" x1=\"40\" /><line y2=\"83.63636363636361\" y1=\"83.63636363636361\" x2=\"1480\" x1=\"40\" /><line y2=\"62.42424242424242\" y1=\"62.42424242424242\" x2=\"1480\" x1=\"40\" /><line y2=\"41.21212121212119\" y1=\"41.21212121212119\" x2=\"1480\" x1=\"40\" /><line y2=\"20\" y1=\"20\" x2=\"1480\" x1=\"40\" /></g><g stroke=\"currentColor\" fill=\"none\" aria-hidden=\"true\" aria-label=\"y-axis tick\"><path d=\"M0,0L-6,0\" transform=\"translate(40,359.39393939393943)\" /><path d=\"M0,0L-6,0\" transform=\"translate(40,338.1818181818182)\" /><path d=\"M0,0L-6,0\" transform=\"translate(40,316.96969696969694)\" /><path d=\"M0,0L-6,0\" transform=\"translate(40,295.75757575757575)\" /><path d=\"M0,0L-6,0\" transform=\"translate(40,274.54545454545456)\" /><path d=\"M0,0L-6,0\" transform=\"translate(40,253.33333333333334)\" /><path d=\"M0,0L-6,0\" transform=\"translate(40,232.12121212121212)\" /><path d=\"M0,0L-6,0\" transform=\"translate(40,210.9090909090909)\" /><path d=\"M0,0L-6,0\" transform=\"translate(40,189.69696969696972)\" /><path d=\"M0,0L-6,0\" transform=\"translate(40,168.48484848484844)\" /><path d=\"M0,0L-6,0\" transform=\"translate(40,147.27272727272728)\" /><path d=\"M0,0L-6,0\" transform=\"translate(40,126.06060606060605)\" /><path d=\"M0,0L-6,0\" transform=\"translate(40,104.84848484848486)\" /><path d=\"M0,0L-6,0\" transform=\"translate(40,83.63636363636361)\" /><path d=\"M0,0L-6,0\" transform=\"translate(40,62.42424242424242)\" /><path d=\"M0,0L-6,0\" transform=\"translate(40,41.21212121212119)\" /><path d=\"M0,0L-6,0\" transform=\"translate(40,20)\" /></g><g transform=\"translate(-9,0)\" font-variant=\"tabular-nums\" text-anchor=\"end\" aria-label=\"y-axis tick label\"><text transform=\"translate(40,359.39393939393943)\" y=\"0.32em\">2</text><text transform=\"translate(40,338.1818181818182)\" y=\"0.32em\">2+</text><text transform=\"translate(40,316.96969696969694)\" y=\"0.32em\">3</text><text transform=\"translate(40,295.75757575757575)\" y=\"0.32em\">3+</text><text transform=\"translate(40,274.54545454545456)\" y=\"0.32em\">4</text><text transform=\"translate(40,253.33333333333334)\" y=\"0.32em\">4+</text><text transform=\"translate(40,232.12121212121212)\" y=\"0.32em\">5</text><text transform=\"translate(40,210.9090909090909)\" y=\"0.32em\">5+</text><text transform=\"translate(40,189.69696969696972)\" y=\"0.32em\">6A</text><text transform=\"translate(40,168.48484848484844)\" y=\"0.32em\">6A+</text><text transform=\"translate(40,147.27272727272728)\" y=\"0.32em\">6B</text><text transform=\"translate(40,126.06060606060605)\" y=\"0.32em\">6B+</text><text transform=\"translate(40,104.84848484848486)\" y=\"0.32em\">6C</text><text transform=\"translate(40,83.63636363636361)\" y=\"0.32em\">6C+</text><text transform=\"translate(40,62.42424242424242)\" y=\"0.32em\">7A</text><text transform=\"translate(40,41.21212121212119)\" y=\"0.32em\">7A+</text><text transform=\"translate(40,20)\" y=\"0.32em\">7B</text></g><g stroke-opacity=\"0.1\" stroke=\"currentColor\" aria-hidden=\"true\" aria-label=\"x-grid\"><line y2=\"370\" y1=\"20\" x2=\"56.34815515610217\" x1=\"56.34815515610217\" /><line y2=\"370\" y1=\"20\" x2=\"180.32166508987703\" x1=\"180.32166508987703\" /><line y2=\"370\" y1=\"20\" x2=\"305.65752128666037\" x1=\"305.65752128666037\" /><line y2=\"370\" y1=\"20\" x2=\"430.99337748344374\" x1=\"430.99337748344374\" /><line y2=\"370\" y1=\"20\" x2=\"553.60454115421\" x1=\"553.60454115421\" /><line y2=\"370\" y1=\"20\" x2=\"677.5780510879849\" x1=\"677.5780510879849\" /><line y2=\"370\" y1=\"20\" x2=\"802.9139072847684\" x1=\"802.9139072847684\" /><line y2=\"370\" y1=\"20\" x2=\"928.2497634815516\" x1=\"928.2497634815516\" /><line y2=\"370\" y1=\"20\" x2=\"1052.2232734153263\" x1=\"1052.2232734153263\" /><line y2=\"370\" y1=\"20\" x2=\"1176.1967833491012\" x1=\"1176.1967833491012\" /><line y2=\"370\" y1=\"20\" x2=\"1301.5326395458846\" x1=\"1301.5326395458846\" /><line y2=\"370\" y1=\"20\" x2=\"1426.8684957426678\" x1=\"1426.8684957426678\" /></g><g stroke=\"currentColor\" fill=\"none\" aria-hidden=\"true\" aria-label=\"x-axis tick\"><path d=\"M0,0L0,6\" transform=\"translate(56.34815515610217,370)\" /><path d=\"M0,0L0,6\" transform=\"translate(180.32166508987703,370)\" /><path d=\"M0,0L0,6\" transform=\"translate(305.65752128666037,370)\" /><path d=\"M0,0L0,6\" transform=\"translate(430.99337748344374,370)\" /><path d=\"M0,0L0,6\" transform=\"translate(553.60454115421,370)\" /><path d=\"M0,0L0,6\" transform=\"translate(677.5780510879849,370)\" /><path d=\"M0,0L0,6\" transform=\"translate(802.9139072847684,370)\" /><path d=\"M0,0L0,6\" transform=\"translate(928.2497634815516,370)\" /><path d=\"M0,0L0,6\" transform=\"translate(1052.2232734153263,370)\" /><path d=\"M0,0L0,6\" transform=\"translate(1176.1967833491012,370)\" /><path d=\"M0,0L0,6\" transform=\"translate(1301.5326395458846,370)\" /><path d=\"M0,0L0,6\" transform=\"translate(1426.8684957426678,370)\" /></g><g transform=\"translate(0,9)\" font-variant=\"tabular-nums\" aria-label=\"x-axis tick label\"><text transform=\"translate(56.34815515610217,370)\"><tspan y=\"0.71em\" x=\"0\">Apr</tspan><tspan dy=\"1em\" x=\"0\">2022</tspan></text><text transform=\"translate(180.32166508987703,370)\" y=\"0.71em\">Jul</text><text transform=\"translate(305.65752128666037,370)\" y=\"0.71em\">Oct</text><text transform=\"translate(430.99337748344374,370)\"><tspan y=\"0.71em\" x=\"0\">Jan</tspan><tspan dy=\"1em\" x=\"0\">2023</tspan></text><text transform=\"translate(553.60454115421,370)\" y=\"0.71em\">Apr</text><text transform=\"translate(677.5780510879849,370)\" y=\"0.71em\">Jul</text><text transform=\"translate(802.9139072847684,370)\" y=\"0.71em\">Oct</text><text transform=\"translate(928.2497634815516,370)\"><tspan y=\"0.71em\" x=\"0\">Jan</tspan><tspan dy=\"1em\" x=\"0\">2024</tspan></text><text transform=\"translate(1052.2232734153263,370)\" y=\"0.71em\">Apr</text><text transform=\"translate(1176.1967833491012,370)\" y=\"0.71em\">Jul</text><text transform=\"translate(1301.5326395458846,370)\" y=\"0.71em\">Oct</text><text transform=\"translate(1426.8684957426678,370)\"><tspan y=\"0.71em\" x=\"0\">Jan</tspan><tspan dy=\"1em\" x=\"0\">2025</tspan></text></g><g transform=\"translate(17,27)\" text-anchor=\"end\" aria-label=\"x-axis label\"><text transform=\"translate(1480,370)\">created_at →</text></g><rect height=\"350\" width=\"1440\" y=\"20\" x=\"40\" stroke=\"currentColor\" fill=\"none\" aria-label=\"frame\" /><g aria-label=\"rect\"><rect fill=\"#ff5151\" height=\"8.606060606060595\" width=\"7.536423841059332\" y=\"148.27272727272728\" x=\"1080.4701986754967\" style=\"mix-blend-mode:color-dodge\"><title>6B</title></rect><rect fill=\"#ff5151\" height=\"29.818181818181813\" width=\"7.536423841059559\" y=\"148.27272727272728\" x=\"136.36423841059604\" style=\"mix-blend-mode:color-dodge\"><title>6A+ - 6B</title></rect><rect fill=\"#ff5151\" height=\"8.606060606060637\" width=\"7.536423841059445\" y=\"127.06060606060605\" x=\"803.9139072847684\" style=\"mix-blend-mode:color-dodge\"><title>6B+</title></rect><rect fill=\"#ff5151\" height=\"72.24242424242426\" width=\"7.536423841059673\" y=\"84.63636363636361\" x=\"889.7417218543046\" style=\"mix-blend-mode:color-dodge\"><title>6B - 6C+</title></rect><rect fill=\"#ff5151\" height=\"72.24242424242425\" width=\"7.536423841059559\" y=\"21\" x=\"822.9867549668875\" style=\"mix-blend-mode:color-dodge\"><title>6C+ - 7B</title></rect><rect fill=\"#ff5151\" height=\"29.818181818181827\" width=\"7.536423841059559\" y=\"105.84848484848486\" x=\"1318.8807947019868\" style=\"mix-blend-mode:color-dodge\"><title>6B+ - 6C</title></rect><rect fill=\"#ff5151\" height=\"114.66666666666667\" width=\"7.536423841059559\" y=\"63.42424242424242\" x=\"1051.8609271523178\" style=\"mix-blend-mode:color-dodge\"><title>6A+ - 7A</title></rect><rect fill=\"#ff5151\" height=\"93.4545454545455\" width=\"7.536423841059559\" y=\"42.21212121212119\" x=\"908.8145695364238\" style=\"mix-blend-mode:color-dodge\"><title>6B+ - 7A+</title></rect><rect fill=\"#ff5151\" height=\"29.818181818181827\" width=\"7.536423841059332\" y=\"63.42424242424242\" x=\"1118.6158940397352\" style=\"mix-blend-mode:color-dodge\"><title>6C+ - 7A</title></rect><rect fill=\"#ff5151\" height=\"72.24242424242426\" width=\"7.536423841059559\" y=\"84.63636363636361\" x=\"1137.6887417218543\" style=\"mix-blend-mode:color-dodge\"><title>6B - 6C+</title></rect><rect fill=\"#ff5151\" height=\"51.03030303030303\" width=\"7.536423841059332\" y=\"63.42424242424242\" x=\"1042.3245033112585\" style=\"mix-blend-mode:color-dodge\"><title>6C - 7A</title></rect><rect fill=\"#ff5151\" height=\"29.818181818181827\" width=\"7.536423841059616\" y=\"105.84848484848486\" x=\"479.6754966887417\" style=\"mix-blend-mode:color-dodge\"><title>6B+ - 6C</title></rect><rect fill=\"#ff5151\" height=\"8.606060606060637\" width=\"7.536423841059559\" y=\"84.63636363636361\" x=\"498.748344370861\" style=\"mix-blend-mode:color-dodge\"><title>6C+</title></rect><rect fill=\"#ff5151\" height=\"8.606060606060637\" width=\"7.536423841059673\" y=\"84.63636363636361\" x=\"966.0331125827814\" style=\"mix-blend-mode:color-dodge\"><title>6C+</title></rect><rect fill=\"#ff5151\" height=\"157.09090909090907\" width=\"7.536423841059559\" y=\"63.42424242424242\" x=\"536.8940397350993\" style=\"mix-blend-mode:color-dodge\"><title>5+ - 7A</title></rect><rect fill=\"#ff5151\" height=\"8.606060606060595\" width=\"7.536423841059616\" y=\"105.84848484848486\" x=\"346.1655629139073\" style=\"mix-blend-mode:color-dodge\"><title>6C</title></rect><rect fill=\"#ff5151\" height=\"51.030303030303\" width=\"7.536423841059587\" y=\"190.69696969696972\" x=\"69.60927152317882\" style=\"mix-blend-mode:color-dodge\"><title>5 - 6A</title></rect><rect fill=\"#ff5151\" height=\"178.3030303030303\" width=\"7.536423841059673\" y=\"42.21212121212119\" x=\"489.2119205298013\" style=\"mix-blend-mode:color-dodge\"><title>5+ - 7A+</title></rect><rect fill=\"#ff5151\" height=\"8.606060606060595\" width=\"7.536423841059673\" y=\"105.84848484848486\" x=\"660.8675496688742\" style=\"mix-blend-mode:color-dodge\"><title>6C</title></rect><rect fill=\"#ff5151\" height=\"51.030303030303074\" width=\"7.536423841059786\" y=\"84.63636363636361\" x=\"1070.933774834437\" style=\"mix-blend-mode:color-dodge\"><title>6B+ - 6C+</title></rect><rect fill=\"#ff5151\" height=\"93.45454545454545\" width=\"7.536423841059559\" y=\"21\" x=\"975.5695364238411\" style=\"mix-blend-mode:color-dodge\"><title>6C - 7B</title></rect><rect fill=\"#ff5151\" height=\"29.81818181818184\" width=\"7.536423841059559\" y=\"42.21212121212119\" x=\"1385.635761589404\" style=\"mix-blend-mode:color-dodge\"><title>7A - 7A+</title></rect><rect fill=\"#ff5151\" height=\"29.818181818181827\" width=\"7.536423841059673\" y=\"105.84848484848486\" x=\"1004.1788079470198\" style=\"mix-blend-mode:color-dodge\"><title>6B+ - 6C</title></rect><rect fill=\"#ff5151\" height=\"135.87878787878788\" width=\"7.536423841059786\" y=\"63.42424242424242\" x=\"1290.271523178808\" style=\"mix-blend-mode:color-dodge\"><title>6A - 7A</title></rect><rect fill=\"#ff5151\" height=\"72.24242424242426\" width=\"7.536423841059559\" y=\"63.42424242424242\" x=\"1309.3443708609273\" style=\"mix-blend-mode:color-dodge\"><title>6B+ - 7A</title></rect><rect fill=\"#ff5151\" height=\"72.24242424242426\" width=\"7.536423841059673\" y=\"42.21212121212119\" x=\"813.4503311258278\" style=\"mix-blend-mode:color-dodge\"><title>6C - 7A+</title></rect><rect fill=\"#ff5151\" height=\"72.24242424242426\" width=\"7.536423841059559\" y=\"63.42424242424242\" x=\"1395.1721854304635\" style=\"mix-blend-mode:color-dodge\"><title>6B+ - 7A</title></rect><rect fill=\"#ff5151\" height=\"8.606060606060566\" width=\"7.536423841059616\" y=\"190.69696969696972\" x=\"184.04635761589404\" style=\"mix-blend-mode:color-dodge\"><title>6A</title></rect><rect fill=\"#ff5151\" height=\"8.606060606060637\" width=\"7.536423841059786\" y=\"42.21212121212119\" x=\"1090.006622516556\" style=\"mix-blend-mode:color-dodge\"><title>7A+</title></rect><rect fill=\"#ff5151\" height=\"93.4545454545455\" width=\"7.536423841059559\" y=\"42.21212121212119\" x=\"1271.1986754966888\" style=\"mix-blend-mode:color-dodge\"><title>6B+ - 7A+</title></rect><rect fill=\"#ff5151\" height=\"8.606060606060637\" width=\"7.536423841059786\" y=\"127.06060606060605\" x=\"1233.0529801324503\" style=\"mix-blend-mode:color-dodge\"><title>6B+</title></rect><rect fill=\"#ff5151\" height=\"8.606060606060595\" width=\"7.536423841059673\" y=\"148.27272727272728\" x=\"946.9602649006623\" style=\"mix-blend-mode:color-dodge\"><title>6B</title></rect><rect fill=\"#ff5151\" height=\"135.8787878787879\" width=\"7.536423841059673\" y=\"42.21212121212119\" x=\"880.2052980132449\" style=\"mix-blend-mode:color-dodge\"><title>6A+ - 7A+</title></rect><rect fill=\"#ff5151\" height=\"8.606060606060595\" width=\"7.536423841059673\" y=\"105.84848484848486\" x=\"727.6225165562913\" style=\"mix-blend-mode:color-dodge\"><title>6C</title></rect><rect fill=\"#ff5151\" height=\"51.030303030303045\" width=\"7.536423841059559\" y=\"127.06060606060605\" x=\"1423.7814569536424\" style=\"mix-blend-mode:color-dodge\"><title>6A+ - 6B+</title></rect><rect fill=\"#ff5151\" height=\"114.66666666666669\" width=\"7.536423841059332\" y=\"42.21212121212119\" x=\"1366.5629139072848\" style=\"mix-blend-mode:color-dodge\"><title>6B - 7A+</title></rect><rect fill=\"#ff5151\" height=\"29.81818181818184\" width=\"7.536423841059445\" y=\"42.21212121212119\" x=\"956.496688741722\" style=\"mix-blend-mode:color-dodge\"><title>7A - 7A+</title></rect><rect fill=\"#ff5151\" height=\"51.03030303030302\" width=\"7.536423841059673\" y=\"105.84848484848486\" x=\"746.6953642384105\" style=\"mix-blend-mode:color-dodge\"><title>6B - 6C</title></rect><rect fill=\"#ff5151\" height=\"93.45454545454542\" width=\"7.536423841059559\" y=\"105.84848484848486\" x=\"1023.2516556291391\" style=\"mix-blend-mode:color-dodge\"><title>6A - 6C</title></rect><rect fill=\"#ff5151\" height=\"51.03030303030303\" width=\"7.536423841059559\" y=\"63.42424242424242\" x=\"1261.6622516556292\" style=\"mix-blend-mode:color-dodge\"><title>6C - 7A</title></rect><rect fill=\"#ff5151\" height=\"135.8787878787879\" width=\"7.536423841059786\" y=\"42.21212121212119\" x=\"1252.1258278145694\" style=\"mix-blend-mode:color-dodge\"><title>6A+ - 7A+</title></rect><rect fill=\"#ff5151\" height=\"51.030303030303045\" width=\"7.536423841059559\" y=\"127.06060606060605\" x=\"1404.708609271523\" style=\"mix-blend-mode:color-dodge\"><title>6A+ - 6B+</title></rect><rect fill=\"#ff5151\" height=\"114.66666666666669\" width=\"7.536423841059559\" y=\"42.21212121212119\" x=\"1471.4635761589404\" style=\"mix-blend-mode:color-dodge\"><title>6B - 7A+</title></rect><rect fill=\"#ff5151\" height=\"114.66666666666667\" width=\"7.536423841059559\" y=\"63.42424242424242\" x=\"1185.3708609271523\" style=\"mix-blend-mode:color-dodge\"><title>6A+ - 7A</title></rect><rect fill=\"#ff5151\" height=\"29.818181818181827\" width=\"7.536423841059559\" y=\"105.84848484848486\" x=\"575.0397350993377\" style=\"mix-blend-mode:color-dodge\"><title>6B+ - 6C</title></rect><rect fill=\"#ff5151\" height=\"8.606060606060595\" width=\"7.536423841059786\" y=\"105.84848484848486\" x=\"1128.1523178807945\" style=\"mix-blend-mode:color-dodge\"><title>6C</title></rect><rect fill=\"#ff5151\" height=\"8.606060606060595\" width=\"7.536423841059332\" y=\"105.84848484848486\" x=\"1242.5894039735101\" style=\"mix-blend-mode:color-dodge\"><title>6C</title></rect><rect fill=\"#ff5151\" height=\"8.606060606060595\" width=\"7.536423841059673\" y=\"105.84848484848486\" x=\"584.5761589403972\" style=\"mix-blend-mode:color-dodge\"><title>6C</title></rect><rect fill=\"#ff5151\" height=\"72.24242424242426\" width=\"7.536423841059673\" y=\"63.42424242424242\" x=\"1013.7152317880794\" style=\"mix-blend-mode:color-dodge\"><title>6B+ - 7A</title></rect><rect fill=\"#ff5151\" height=\"29.818181818181827\" width=\"7.536423841059786\" y=\"21\" x=\"1452.390728476821\" style=\"mix-blend-mode:color-dodge\"><title>7A+ - 7B</title></rect><rect fill=\"#ff5151\" height=\"51.03030303030302\" width=\"7.536423841059559\" y=\"105.84848484848486\" x=\"699.0132450331125\" style=\"mix-blend-mode:color-dodge\"><title>6B - 6C</title></rect><rect fill=\"#ff5151\" height=\"114.66666666666667\" width=\"7.536423841059559\" y=\"63.42424242424242\" x=\"470.13907284768214\" style=\"mix-blend-mode:color-dodge\"><title>6A+ - 7A</title></rect><rect fill=\"#ff5151\" height=\"8.606060606060609\" width=\"7.536423841059559\" y=\"63.42424242424242\" x=\"689.476821192053\" style=\"mix-blend-mode:color-dodge\"><title>7A</title></rect><rect fill=\"#ff5151\" height=\"93.45454545454542\" width=\"7.536423841059559\" y=\"105.84848484848486\" x=\"899.2781456953643\" style=\"mix-blend-mode:color-dodge\"><title>6A - 6C</title></rect><rect fill=\"#ff5151\" height=\"8.606060606060595\" width=\"7.536423841059673\" y=\"105.84848484848486\" x=\"842.0596026490065\" style=\"mix-blend-mode:color-dodge\"><title>6C</title></rect><rect fill=\"#ff5151\" height=\"29.818181818181785\" width=\"7.536423841059616\" y=\"190.69696969696972\" x=\"126.82781456953643\" style=\"mix-blend-mode:color-dodge\"><title>5+ - 6A</title></rect><rect fill=\"#ff5151\" height=\"135.87878787878788\" width=\"7.536423841059559\" y=\"105.84848484848486\" x=\"1433.317880794702\" style=\"mix-blend-mode:color-dodge\"><title>5 - 6C</title></rect><rect fill=\"#ff5151\" height=\"51.030303030303045\" width=\"7.536423841059587\" y=\"127.06060606060605\" x=\"164.97350993377484\" style=\"mix-blend-mode:color-dodge\"><title>6A+ - 6B+</title></rect><rect fill=\"#ff5151\" height=\"8.606060606060637\" width=\"7.536423841059559\" y=\"127.06060606060605\" x=\"641.7947019867551\" style=\"mix-blend-mode:color-dodge\"><title>6B+</title></rect><rect fill=\"#ff5151\" height=\"51.03030303030302\" width=\"7.536423841059559\" y=\"105.84848484848486\" x=\"756.2317880794702\" style=\"mix-blend-mode:color-dodge\"><title>6B - 6C</title></rect><rect fill=\"#ff5151\" height=\"29.818181818181827\" width=\"7.536423841059786\" y=\"105.84848484848486\" x=\"1376.0993377483442\" style=\"mix-blend-mode:color-dodge\"><title>6B+ - 6C</title></rect><rect fill=\"#ff5151\" height=\"51.030303030303074\" width=\"7.536423841059559\" y=\"84.63636363636361\" x=\"1347.4900662251655\" style=\"mix-blend-mode:color-dodge\"><title>6B+ - 6C+</title></rect><rect fill=\"#ff5151\" height=\"8.606060606060595\" width=\"7.536423841059673\" y=\"148.27272727272728\" x=\"870.6688741721853\" style=\"mix-blend-mode:color-dodge\"><title>6B</title></rect><rect fill=\"#ff5151\" height=\"29.818181818181827\" width=\"7.536423841059673\" y=\"105.84848484848486\" x=\"508.28476821192055\" style=\"mix-blend-mode:color-dodge\"><title>6B+ - 6C</title></rect><rect fill=\"#ff5151\" height=\"8.606060606060595\" width=\"7.536423841059786\" y=\"105.84848484848486\" x=\"1032.7880794701987\" style=\"mix-blend-mode:color-dodge\"><title>6C</title></rect><rect fill=\"#ff5151\" height=\"114.66666666666667\" width=\"7.536423841059559\" y=\"63.42424242424242\" x=\"1280.7350993377484\" style=\"mix-blend-mode:color-dodge\"><title>6A+ - 7A</title></rect><rect fill=\"#ff5151\" height=\"72.24242424242426\" width=\"7.536423841059559\" y=\"84.63636363636361\" x=\"1299.8079470198677\" style=\"mix-blend-mode:color-dodge\"><title>6B - 6C+</title></rect><rect fill=\"#ff5151\" height=\"8.606060606060595\" width=\"7.536423841059559\" y=\"105.84848484848486\" x=\"737.158940397351\" style=\"mix-blend-mode:color-dodge\"><title>6C</title></rect><rect fill=\"#ff5151\" height=\"72.24242424242424\" width=\"7.536423841059559\" y=\"105.84848484848486\" x=\"1223.5165562913908\" style=\"mix-blend-mode:color-dodge\"><title>6A+ - 6C</title></rect><rect fill=\"#ff5151\" height=\"93.4545454545455\" width=\"7.536423841059559\" y=\"42.21212121212119\" x=\"718.0860927152318\" style=\"mix-blend-mode:color-dodge\"><title>6B+ - 7A+</title></rect><rect fill=\"#ff5151\" height=\"72.24242424242422\" width=\"7.536423841059559\" y=\"148.27272727272728\" x=\"622.7218543046358\" style=\"mix-blend-mode:color-dodge\"><title>5+ - 6B</title></rect><rect fill=\"#ff5151\" height=\"8.606060606060595\" width=\"7.536423841059559\" y=\"105.84848484848486\" x=\"1213.9801324503312\" style=\"mix-blend-mode:color-dodge\"><title>6C</title></rect><rect fill=\"#ff5151\" height=\"51.030303030303074\" width=\"7.536423841059559\" y=\"84.63636363636361\" x=\"1061.3973509933774\" style=\"mix-blend-mode:color-dodge\"><title>6B+ - 6C+</title></rect><rect fill=\"#ff5151\" height=\"8.606060606060595\" width=\"7.536423841059673\" y=\"105.84848484848486\" x=\"708.5496688741721\" style=\"mix-blend-mode:color-dodge\"><title>6C</title></rect><rect fill=\"#ff5151\" height=\"51.030303030303074\" width=\"7.536423841059559\" y=\"84.63636363636361\" x=\"651.3311258278146\" style=\"mix-blend-mode:color-dodge\"><title>6B+ - 6C+</title></rect><rect fill=\"#ff5151\" height=\"135.8787878787879\" width=\"7.536423841059559\" y=\"42.21212121212119\" x=\"775.3046357615895\" style=\"mix-blend-mode:color-dodge\"><title>6A+ - 7A+</title></rect><rect fill=\"#ff5151\" height=\"29.818181818181813\" width=\"7.536423841059559\" y=\"148.27272727272728\" x=\"1337.953642384106\" style=\"mix-blend-mode:color-dodge\"><title>6A+ - 6B</title></rect><rect fill=\"#ff5151\" height=\"8.606060606060652\" width=\"7.536423841059602\" y=\"169.48484848484844\" x=\"88.68211920529802\" style=\"mix-blend-mode:color-dodge\"><title>6A+</title></rect><rect fill=\"#ff5151\" height=\"8.606060606060595\" width=\"7.536423841059786\" y=\"105.84848484848486\" x=\"1109.0794701986754\" style=\"mix-blend-mode:color-dodge\"><title>6C</title></rect><rect fill=\"#ff5151\" height=\"8.606060606060637\" width=\"7.536423841059559\" y=\"127.06060606060605\" x=\"546.4304635761589\" style=\"mix-blend-mode:color-dodge\"><title>6B+</title></rect><rect fill=\"#ff5151\" height=\"8.606060606060637\" width=\"7.536423841059673\" y=\"127.06060606060605\" x=\"985.1059602649007\" style=\"mix-blend-mode:color-dodge\"><title>6B+</title></rect><rect fill=\"#ff5151\" height=\"8.606060606060595\" width=\"7.536423841059559\" y=\"148.27272727272728\" x=\"1099.5430463576158\" style=\"mix-blend-mode:color-dodge\"><title>6B</title></rect><rect fill=\"#ff5151\" height=\"8.606060606060637\" width=\"7.536423841059559\" y=\"127.06060606060605\" x=\"1147.2251655629138\" style=\"mix-blend-mode:color-dodge\"><title>6B+</title></rect><rect fill=\"#ff5151\" height=\"51.03030303030302\" width=\"7.536423841059673\" y=\"105.84848484848486\" x=\"632.2582781456954\" style=\"mix-blend-mode:color-dodge\"><title>6B - 6C</title></rect><rect fill=\"#ff5151\" height=\"8.606060606060595\" width=\"7.536423841059673\" y=\"148.27272727272728\" x=\"594.1125827814569\" style=\"mix-blend-mode:color-dodge\"><title>6B</title></rect><rect fill=\"#ff5151\" height=\"51.03030303030303\" width=\"7.536423841059559\" y=\"63.42424242424242\" x=\"1461.9271523178809\" style=\"mix-blend-mode:color-dodge\"><title>6C - 7A</title></rect><rect fill=\"#ff5151\" height=\"8.606060606060595\" width=\"7.536423841059559\" y=\"105.84848484848486\" x=\"603.6490066225166\" style=\"mix-blend-mode:color-dodge\"><title>6C</title></rect><rect fill=\"#ff5151\" height=\"114.66666666666667\" width=\"7.536423841059673\" y=\"63.42424242424242\" x=\"937.4238410596026\" style=\"mix-blend-mode:color-dodge\"><title>6A+ - 7A</title></rect><rect fill=\"#ff5151\" height=\"8.606060606060595\" width=\"7.536423841059602\" y=\"254.33333333333334\" x=\"41\" style=\"mix-blend-mode:color-dodge\"><title>4+</title></rect><rect fill=\"#ff5151\" height=\"114.66666666666669\" width=\"7.536423841059559\" y=\"21\" x=\"1442.8543046357615\" style=\"mix-blend-mode:color-dodge\"><title>6B+ - 7B</title></rect><rect fill=\"#ff5151\" height=\"8.606060606060595\" width=\"7.536423841059786\" y=\"105.84848484848486\" x=\"1194.9072847682119\" style=\"mix-blend-mode:color-dodge\"><title>6C</title></rect></g><g aria-label=\"rect\"><rect fill=\"#ffd800\" height=\"114.66666666666674\" width=\"7.536423841059559\" y=\"169.48484848484844\" x=\"1051.8609271523178\" style=\"mix-blend-mode:color-dodge\"><title>4 - 6A+</title></rect><rect fill=\"#ffd800\" height=\"178.30303030303028\" width=\"7.536423841059445\" y=\"148.27272727272728\" x=\"803.9139072847684\" style=\"mix-blend-mode:color-dodge\"><title>3 - 6B</title></rect><rect fill=\"#ffd800\" height=\"135.87878787878785\" width=\"7.536423841059559\" y=\"190.69696969696972\" x=\"1471.4635761589404\" style=\"mix-blend-mode:color-dodge\"><title>3 - 6A</title></rect><rect fill=\"#ffd800\" height=\"157.09090909090912\" width=\"7.536423841059673\" y=\"169.48484848484844\" x=\"708.5496688741721\" style=\"mix-blend-mode:color-dodge\"><title>3 - 6A+</title></rect><rect fill=\"#ffd800\" height=\"199.5151515151515\" width=\"7.536423841059559\" y=\"127.06060606060605\" x=\"536.8940397350993\" style=\"mix-blend-mode:color-dodge\"><title>3 - 6B+</title></rect><rect fill=\"#ffd800\" height=\"178.30303030303025\" width=\"7.536423841059786\" y=\"127.06060606060605\" x=\"1452.390728476821\" style=\"mix-blend-mode:color-dodge\"><title>3+ - 6B+</title></rect><rect fill=\"#ffd800\" height=\"51.030303030303\" width=\"7.536423841059673\" y=\"148.27272727272728\" x=\"985.1059602649007\" style=\"mix-blend-mode:color-dodge\"><title>6A - 6B</title></rect><rect fill=\"#ffd800\" height=\"114.66666666666667\" width=\"7.536423841059559\" y=\"127.06060606060605\" x=\"1147.2251655629138\" style=\"mix-blend-mode:color-dodge\"><title>5 - 6B+</title></rect><rect fill=\"#ffd800\" height=\"220.7272727272727\" width=\"7.536423841059559\" y=\"105.84848484848486\" x=\"1461.9271523178809\" style=\"mix-blend-mode:color-dodge\"><title>3 - 6C</title></rect><rect fill=\"#ffd800\" height=\"114.66666666666666\" width=\"7.536423841059587\" y=\"211.9090909090909\" x=\"69.60927152317882\" style=\"mix-blend-mode:color-dodge\"><title>3 - 5+</title></rect><rect fill=\"#ffd800\" height=\"178.30303030303025\" width=\"7.536423841059559\" y=\"127.06060606060605\" x=\"555.9668874172185\" style=\"mix-blend-mode:color-dodge\"><title>3+ - 6B+</title></rect><rect fill=\"#ffd800\" height=\"199.5151515151515\" width=\"7.536423841059559\" y=\"127.06060606060605\" x=\"651.3311258278146\" style=\"mix-blend-mode:color-dodge\"><title>3 - 6B+</title></rect><rect fill=\"#ffd800\" height=\"199.5151515151515\" width=\"7.536423841059559\" y=\"127.06060606060605\" x=\"822.9867549668875\" style=\"mix-blend-mode:color-dodge\"><title>3 - 6B+</title></rect><rect fill=\"#ffd800\" height=\"178.30303030303028\" width=\"7.536423841059559\" y=\"148.27272727272728\" x=\"1423.7814569536424\" style=\"mix-blend-mode:color-dodge\"><title>3 - 6B</title></rect><rect fill=\"#ffd800\" height=\"135.87878787878788\" width=\"7.536423841059673\" y=\"169.48484848484844\" x=\"489.2119205298013\" style=\"mix-blend-mode:color-dodge\"><title>3+ - 6A+</title></rect><rect fill=\"#ffd800\" height=\"135.87878787878788\" width=\"7.536423841059786\" y=\"169.48484848484844\" x=\"1109.0794701986754\" style=\"mix-blend-mode:color-dodge\"><title>3+ - 6A+</title></rect><rect fill=\"#ffd800\" height=\"157.09090909090904\" width=\"7.536423841059559\" y=\"148.27272727272728\" x=\"622.7218543046358\" style=\"mix-blend-mode:color-dodge\"><title>3+ - 6B</title></rect><rect fill=\"#ffd800\" height=\"199.5151515151515\" width=\"7.536423841059332\" y=\"127.06060606060605\" x=\"1042.3245033112585\" style=\"mix-blend-mode:color-dodge\"><title>3 - 6B+</title></rect><rect fill=\"#ffd800\" height=\"199.51515151515156\" width=\"7.536423841059559\" y=\"84.63636363636361\" x=\"1442.8543046357615\" style=\"mix-blend-mode:color-dodge\"><title>4 - 6C+</title></rect><rect fill=\"#ffd800\" height=\"157.09090909090904\" width=\"7.536423841059786\" y=\"148.27272727272728\" x=\"1233.0529801324503\" style=\"mix-blend-mode:color-dodge\"><title>3+ - 6B</title></rect><rect fill=\"#ffd800\" height=\"135.87878787878788\" width=\"7.536423841059559\" y=\"169.48484848484844\" x=\"1213.9801324503312\" style=\"mix-blend-mode:color-dodge\"><title>3+ - 6A+</title></rect><rect fill=\"#ffd800\" height=\"93.4545454545455\" width=\"7.536423841059616\" y=\"169.48484848484844\" x=\"126.82781456953643\" style=\"mix-blend-mode:color-dodge\"><title>4+ - 6A+</title></rect><rect fill=\"#ffd800\" height=\"135.87878787878788\" width=\"7.536423841059559\" y=\"169.48484848484844\" x=\"1271.1986754966888\" style=\"mix-blend-mode:color-dodge\"><title>3+ - 6A+</title></rect><rect fill=\"#ffd800\" height=\"8.606060606060595\" width=\"7.536423841059786\" y=\"254.33333333333334\" x=\"1090.006622516556\" style=\"mix-blend-mode:color-dodge\"><title>4+</title></rect><rect fill=\"#ffd800\" height=\"157.09090909090904\" width=\"7.536423841059616\" y=\"148.27272727272728\" x=\"479.6754966887417\" style=\"mix-blend-mode:color-dodge\"><title>3+ - 6B</title></rect><rect fill=\"#ffd800\" height=\"135.87878787878785\" width=\"7.536423841059673\" y=\"190.69696969696972\" x=\"594.1125827814569\" style=\"mix-blend-mode:color-dodge\"><title>3 - 6A</title></rect><rect fill=\"#ffd800\" height=\"157.09090909090904\" width=\"7.536423841059559\" y=\"148.27272727272728\" x=\"641.7947019867551\" style=\"mix-blend-mode:color-dodge\"><title>3+ - 6B</title></rect><rect fill=\"#ffd800\" height=\"199.51515151515144\" width=\"7.536423841059332\" y=\"105.84848484848486\" x=\"1366.5629139072848\" style=\"mix-blend-mode:color-dodge\"><title>3+ - 6C</title></rect><rect fill=\"#ffd800\" height=\"51.03030303030306\" width=\"7.536423841059559\" y=\"169.48484848484844\" x=\"1385.635761589404\" style=\"mix-blend-mode:color-dodge\"><title>5+ - 6A+</title></rect><rect fill=\"#ffd800\" height=\"220.7272727272727\" width=\"7.536423841059673\" y=\"105.84848484848486\" x=\"813.4503311258278\" style=\"mix-blend-mode:color-dodge\"><title>3 - 6C</title></rect><rect fill=\"#ffd800\" height=\"114.66666666666674\" width=\"7.536423841059602\" y=\"169.48484848484844\" x=\"50.5364238410596\" style=\"mix-blend-mode:color-dodge\"><title>4 - 6A+</title></rect><rect fill=\"#ffd800\" height=\"199.5151515151515\" width=\"7.536423841059559\" y=\"127.06060606060605\" x=\"908.8145695364238\" style=\"mix-blend-mode:color-dodge\"><title>3 - 6B+</title></rect><rect fill=\"#ffd800\" height=\"220.7272727272727\" width=\"7.536423841059445\" y=\"105.84848484848486\" x=\"956.496688741722\" style=\"mix-blend-mode:color-dodge\"><title>3 - 6C</title></rect><rect fill=\"#ffd800\" height=\"199.5151515151515\" width=\"7.536423841059559\" y=\"127.06060606060605\" x=\"1185.3708609271523\" style=\"mix-blend-mode:color-dodge\"><title>3 - 6B+</title></rect><rect fill=\"#ffd800\" height=\"157.09090909090904\" width=\"7.536423841059559\" y=\"148.27272727272728\" x=\"689.476821192053\" style=\"mix-blend-mode:color-dodge\"><title>3+ - 6B</title></rect><rect fill=\"#ffd800\" height=\"199.5151515151515\" width=\"7.536423841059786\" y=\"127.06060606060605\" x=\"1290.271523178808\" style=\"mix-blend-mode:color-dodge\"><title>3 - 6B+</title></rect><rect fill=\"#ffd800\" height=\"135.87878787878785\" width=\"7.536423841059559\" y=\"190.69696969696972\" x=\"679.9403973509934\" style=\"mix-blend-mode:color-dodge\"><title>3 - 6A</title></rect><rect fill=\"#ffd800\" height=\"178.3030303030303\" width=\"7.536423841059559\" y=\"84.63636363636361\" x=\"1223.5165562913908\" style=\"mix-blend-mode:color-dodge\"><title>4+ - 6C+</title></rect><rect fill=\"#ffd800\" height=\"220.7272727272727\" width=\"7.536423841059786\" y=\"105.84848484848486\" x=\"1376.0993377483442\" style=\"mix-blend-mode:color-dodge\"><title>3 - 6C</title></rect><rect fill=\"#ffd800\" height=\"51.030303030303\" width=\"7.536423841059673\" y=\"190.69696969696972\" x=\"584.5761589403972\" style=\"mix-blend-mode:color-dodge\"><title>5 - 6A</title></rect><rect fill=\"#ffd800\" height=\"241.93939393939388\" width=\"7.536423841059559\" y=\"63.42424242424242\" x=\"1280.7350993377484\" style=\"mix-blend-mode:color-dodge\"><title>3+ - 7A</title></rect><rect fill=\"#ffd800\" height=\"8.606060606060595\" width=\"7.536423841059602\" y=\"254.33333333333334\" x=\"88.68211920529802\" style=\"mix-blend-mode:color-dodge\"><title>4+</title></rect><rect fill=\"#ffd800\" height=\"241.93939393939394\" width=\"7.536423841059673\" y=\"127.06060606060605\" x=\"870.6688741721853\" style=\"mix-blend-mode:color-dodge\"><title>2 - 6B+</title></rect><rect fill=\"#ffd800\" height=\"199.5151515151515\" width=\"7.536423841059673\" y=\"127.06060606060605\" x=\"880.2052980132449\" style=\"mix-blend-mode:color-dodge\"><title>3 - 6B+</title></rect><rect fill=\"#ffd800\" height=\"114.66666666666666\" width=\"7.536423841059602\" y=\"211.9090909090909\" x=\"41\" style=\"mix-blend-mode:color-dodge\"><title>3 - 5+</title></rect><rect fill=\"#ffd800\" height=\"241.93939393939394\" width=\"7.536423841059559\" y=\"84.63636363636361\" x=\"1433.317880794702\" style=\"mix-blend-mode:color-dodge\"><title>3 - 6C+</title></rect><rect fill=\"#ffd800\" height=\"220.7272727272727\" width=\"7.536423841059332\" y=\"105.84848484848486\" x=\"1080.4701986754967\" style=\"mix-blend-mode:color-dodge\"><title>3 - 6C</title></rect><rect fill=\"#ffd800\" height=\"178.30303030303025\" width=\"7.536423841059673\" y=\"127.06060606060605\" x=\"966.0331125827814\" style=\"mix-blend-mode:color-dodge\"><title>3+ - 6B+</title></rect><rect fill=\"#ffd800\" height=\"178.30303030303025\" width=\"7.536423841059559\" y=\"127.06060606060605\" x=\"498.748344370861\" style=\"mix-blend-mode:color-dodge\"><title>3+ - 6B+</title></rect><rect fill=\"#ffd800\" height=\"157.09090909090912\" width=\"7.536423841059559\" y=\"169.48484848484844\" x=\"699.0132450331125\" style=\"mix-blend-mode:color-dodge\"><title>3 - 6A+</title></rect><rect fill=\"#ffd800\" height=\"51.030303030303045\" width=\"7.536423841059673\" y=\"127.06060606060605\" x=\"946.9602649006623\" style=\"mix-blend-mode:color-dodge\"><title>6A+ - 6B+</title></rect><rect fill=\"#ffd800\" height=\"29.81818181818184\" width=\"7.536423841059673\" y=\"169.48484848484844\" x=\"918.3509933774834\" style=\"mix-blend-mode:color-dodge\"><title>6A - 6A+</title></rect><rect fill=\"#ffd800\" height=\"178.30303030303028\" width=\"7.536423841059673\" y=\"148.27272727272728\" x=\"842.0596026490065\" style=\"mix-blend-mode:color-dodge\"><title>3 - 6B</title></rect><rect fill=\"#ffd800\" height=\"93.4545454545455\" width=\"7.536423841059616\" y=\"169.48484848484844\" x=\"117.29139072847681\" style=\"mix-blend-mode:color-dodge\"><title>4+ - 6A+</title></rect><rect fill=\"#ffd800\" height=\"178.3030303030303\" width=\"7.536423841059673\" y=\"105.84848484848486\" x=\"889.7417218543046\" style=\"mix-blend-mode:color-dodge\"><title>4 - 6C</title></rect><rect fill=\"#ffd800\" height=\"29.818181818181813\" width=\"7.536423841059786\" y=\"148.27272727272728\" x=\"1357.026490066225\" style=\"mix-blend-mode:color-dodge\"><title>6A+ - 6B</title></rect><rect fill=\"#ffd800\" height=\"199.5151515151515\" width=\"7.536423841059786\" y=\"127.06060606060605\" x=\"1070.933774834437\" style=\"mix-blend-mode:color-dodge\"><title>3 - 6B+</title></rect><rect fill=\"#ffd800\" height=\"135.8787878787879\" width=\"7.536423841059559\" y=\"148.27272727272728\" x=\"1395.1721854304635\" style=\"mix-blend-mode:color-dodge\"><title>4 - 6B</title></rect><rect fill=\"#ffd800\" height=\"178.30303030303025\" width=\"7.536423841059559\" y=\"127.06060606060605\" x=\"603.6490066225166\" style=\"mix-blend-mode:color-dodge\"><title>3+ - 6B+</title></rect><rect fill=\"#ffd800\" height=\"178.30303030303025\" width=\"7.536423841059559\" y=\"127.06060606060605\" x=\"575.0397350993377\" style=\"mix-blend-mode:color-dodge\"><title>3+ - 6B+</title></rect><rect fill=\"#ffd800\" height=\"178.30303030303025\" width=\"7.536423841059332\" y=\"127.06060606060605\" x=\"1118.6158940397352\" style=\"mix-blend-mode:color-dodge\"><title>3+ - 6B+</title></rect><rect fill=\"#ffd800\" height=\"178.30303030303025\" width=\"7.536423841059445\" y=\"127.06060606060605\" x=\"832.523178807947\" style=\"mix-blend-mode:color-dodge\"><title>3+ - 6B+</title></rect><rect fill=\"#ffd800\" height=\"114.66666666666666\" width=\"7.536423841059559\" y=\"148.27272727272728\" x=\"1137.6887417218543\" style=\"mix-blend-mode:color-dodge\"><title>4+ - 6B</title></rect><rect fill=\"#ffd800\" height=\"157.09090909090904\" width=\"7.536423841059559\" y=\"148.27272727272728\" x=\"718.0860927152318\" style=\"mix-blend-mode:color-dodge\"><title>3+ - 6B</title></rect><rect fill=\"#ffd800\" height=\"157.09090909090912\" width=\"7.536423841059559\" y=\"169.48484848484844\" x=\"1204.4437086092717\" style=\"mix-blend-mode:color-dodge\"><title>3 - 6A+</title></rect><rect fill=\"#ffd800\" height=\"114.66666666666674\" width=\"7.536423841059602\" y=\"169.48484848484844\" x=\"107.75496688741721\" style=\"mix-blend-mode:color-dodge\"><title>4 - 6A+</title></rect><rect fill=\"#ffd800\" height=\"199.5151515151515\" width=\"7.536423841059673\" y=\"127.06060606060605\" x=\"746.6953642384105\" style=\"mix-blend-mode:color-dodge\"><title>3 - 6B+</title></rect><rect fill=\"#ffd800\" height=\"199.5151515151515\" width=\"7.536423841059559\" y=\"127.06060606060605\" x=\"737.158940397351\" style=\"mix-blend-mode:color-dodge\"><title>3 - 6B+</title></rect><rect fill=\"#ffd800\" height=\"93.4545454545455\" width=\"7.536423841059587\" y=\"169.48484848484844\" x=\"164.97350993377484\" style=\"mix-blend-mode:color-dodge\"><title>4+ - 6A+</title></rect><rect fill=\"#ffd800\" height=\"199.5151515151515\" width=\"7.536423841059673\" y=\"127.06060606060605\" x=\"632.2582781456954\" style=\"mix-blend-mode:color-dodge\"><title>3 - 6B+</title></rect><rect fill=\"#ffd800\" height=\"157.09090909090912\" width=\"7.536423841059673\" y=\"169.48484848484844\" x=\"660.8675496688742\" style=\"mix-blend-mode:color-dodge\"><title>3 - 6A+</title></rect><rect fill=\"#ffd800\" height=\"72.24242424242426\" width=\"7.536423841059673\" y=\"84.63636363636361\" x=\"1013.7152317880794\" style=\"mix-blend-mode:color-dodge\"><title>6B - 6C+</title></rect><rect fill=\"#ffd800\" height=\"157.09090909090912\" width=\"7.536423841059559\" y=\"169.48484848484844\" x=\"1099.5430463576158\" style=\"mix-blend-mode:color-dodge\"><title>3 - 6A+</title></rect><rect fill=\"#ffd800\" height=\"93.45454545454544\" width=\"7.536423841059559\" y=\"148.27272727272728\" x=\"756.2317880794702\" style=\"mix-blend-mode:color-dodge\"><title>5 - 6B</title></rect><rect fill=\"#ffd800\" height=\"8.606060606060595\" width=\"7.536423841059559\" y=\"233.12121212121212\" x=\"927.8874172185431\" style=\"mix-blend-mode:color-dodge\"><title>5</title></rect><rect fill=\"#ffd800\" height=\"157.09090909090904\" width=\"7.536423841059673\" y=\"148.27272727272728\" x=\"937.4238410596026\" style=\"mix-blend-mode:color-dodge\"><title>3+ - 6B</title></rect><rect fill=\"#ffd800\" height=\"135.87878787878788\" width=\"7.536423841059786\" y=\"84.63636363636361\" x=\"1128.1523178807945\" style=\"mix-blend-mode:color-dodge\"><title>5+ - 6C+</title></rect><rect fill=\"#ffd800\" height=\"199.5151515151515\" width=\"7.536423841059786\" y=\"127.06060606060605\" x=\"1194.9072847682119\" style=\"mix-blend-mode:color-dodge\"><title>3 - 6B+</title></rect><rect fill=\"#ffd800\" height=\"157.09090909090912\" width=\"7.536423841059559\" y=\"169.48484848484844\" x=\"1337.953642384106\" style=\"mix-blend-mode:color-dodge\"><title>3 - 6A+</title></rect><rect fill=\"#ffd800\" height=\"220.7272727272727\" width=\"7.536423841059559\" y=\"105.84848484848486\" x=\"1404.708609271523\" style=\"mix-blend-mode:color-dodge\"><title>3 - 6C</title></rect><rect fill=\"#ffd800\" height=\"178.3030303030303\" width=\"7.536423841059673\" y=\"105.84848484848486\" x=\"765.7682119205298\" style=\"mix-blend-mode:color-dodge\"><title>4 - 6C</title></rect><rect fill=\"#ffd800\" height=\"199.51515151515144\" width=\"7.536423841059786\" y=\"105.84848484848486\" x=\"1252.1258278145694\" style=\"mix-blend-mode:color-dodge\"><title>3+ - 6C</title></rect><rect fill=\"#ffd800\" height=\"114.66666666666674\" width=\"7.536423841059616\" y=\"169.48484848484844\" x=\"184.04635761589404\" style=\"mix-blend-mode:color-dodge\"><title>4 - 6A+</title></rect><rect fill=\"#ffd800\" height=\"114.66666666666666\" width=\"7.536423841059673\" y=\"148.27272727272728\" x=\"1004.1788079470198\" style=\"mix-blend-mode:color-dodge\"><title>4+ - 6B</title></rect><rect fill=\"#ffd800\" height=\"135.87878787878788\" width=\"7.536423841059559\" y=\"105.84848484848486\" x=\"1023.2516556291391\" style=\"mix-blend-mode:color-dodge\"><title>5 - 6C</title></rect><rect fill=\"#ffd800\" height=\"135.87878787878788\" width=\"7.536423841059559\" y=\"169.48484848484844\" x=\"1347.4900662251655\" style=\"mix-blend-mode:color-dodge\"><title>3+ - 6A+</title></rect><rect fill=\"#ffd800\" height=\"114.66666666666666\" width=\"7.536423841059559\" y=\"148.27272727272728\" x=\"975.5695364238411\" style=\"mix-blend-mode:color-dodge\"><title>4+ - 6B</title></rect><rect fill=\"#ffd800\" height=\"135.87878787878788\" width=\"7.536423841059587\" y=\"169.48484848484844\" x=\"98.21854304635762\" style=\"mix-blend-mode:color-dodge\"><title>3+ - 6A+</title></rect><rect fill=\"#ffd800\" height=\"135.87878787878788\" width=\"7.536423841059786\" y=\"127.06060606060605\" x=\"1032.7880794701987\" style=\"mix-blend-mode:color-dodge\"><title>4+ - 6B+</title></rect><rect fill=\"#ffd800\" height=\"114.66666666666674\" width=\"7.536423841059559\" y=\"169.48484848484844\" x=\"1318.8807947019868\" style=\"mix-blend-mode:color-dodge\"><title>4 - 6A+</title></rect><rect fill=\"#ffd800\" height=\"178.30303030303025\" width=\"7.536423841059559\" y=\"127.06060606060605\" x=\"1061.3973509933774\" style=\"mix-blend-mode:color-dodge\"><title>3+ - 6B+</title></rect><rect fill=\"#ffd800\" height=\"72.24242424242424\" width=\"7.536423841059673\" y=\"127.06060606060605\" x=\"727.6225165562913\" style=\"mix-blend-mode:color-dodge\"><title>6A - 6B+</title></rect><rect fill=\"#ffd800\" height=\"8.606060606060652\" width=\"7.536423841059559\" y=\"169.48484848484844\" x=\"899.2781456953643\" style=\"mix-blend-mode:color-dodge\"><title>6A+</title></rect><rect fill=\"#ffd800\" height=\"114.66666666666664\" width=\"7.536423841059559\" y=\"105.84848484848486\" x=\"470.13907284768214\" style=\"mix-blend-mode:color-dodge\"><title>5+ - 6C</title></rect><rect fill=\"#ffd800\" height=\"220.7272727272727\" width=\"7.536423841059559\" y=\"105.84848484848486\" x=\"1299.8079470198677\" style=\"mix-blend-mode:color-dodge\"><title>3 - 6C</title></rect><rect fill=\"#ffd800\" height=\"93.45454545454544\" width=\"7.536423841059673\" y=\"233.12121212121212\" x=\"508.28476821192055\" style=\"mix-blend-mode:color-dodge\"><title>3 - 5</title></rect><rect fill=\"#ffd800\" height=\"135.87878787878788\" width=\"7.536423841059559\" y=\"127.06060606060605\" x=\"1261.6622516556292\" style=\"mix-blend-mode:color-dodge\"><title>4+ - 6B+</title></rect><rect fill=\"#ffd800\" height=\"241.93939393939394\" width=\"7.536423841059559\" y=\"84.63636363636361\" x=\"1309.3443708609273\" style=\"mix-blend-mode:color-dodge\"><title>3 - 6C+</title></rect></g></svg></figure>"
      ]
     },
     "metadata": {},
     "output_type": "display_data"
    }
   ],
   "source": [
    "await display(\n",
    "  md`\n",
    "## Poor man's CPR\n",
    "  `,\n",
    ");\n",
    "\n",
    "Plot.plot(\n",
    "  (() => {\n",
    "    const data = detailedAscents\n",
    "      .groupBy(pl.col('created_at').date.strftime('%Y-%U').alias('week'), 'type')\n",
    "      .agg(\n",
    "        pl.col('created_at').first(),\n",
    "        pl.col('difficulty').min().alias('difficultyMin'),\n",
    "        pl.col('difficulty').max().alias('difficultyMax'),\n",
    "        pl.col('numberDifficulty').min().sub(3).alias('numberDifficultyMin'),\n",
    "        pl.col('numberDifficulty').max().alias('numberDifficultyMax'),\n",
    "        pl.col('created_at').count().alias('count'),\n",
    "      );\n",
    "\n",
    "    return {\n",
    "      figure: true,\n",
    "      grid: true,\n",
    "      color: { legend: true, type: 'categorical', ...ascentTypeColorDomain },\n",
    "      width: 1500,\n",
    "      y: {\n",
    "        ticks: boulderScores.filter((grade) => grade.font <= '7B').map((grade) => grade.score),\n",
    "        tickFormat: (v) => boulderScores.find(({ score }) => v === score)?.font,\n",
    "      },\n",
    "      marks: [\n",
    "        Plot.frame(),\n",
    "        ...['redpoint', 'flash'].map((type) =>\n",
    "          Plot.rectY(\n",
    "            data.filter(pl.col('type').eq(pl.lit(type))).toRecords(),\n",
    "\n",
    "            {\n",
    "              interval: 'week',\n",
    "              x: 'created_at',\n",
    "\n",
    "              y1: 'numberDifficultyMin',\n",
    "              y2: 'numberDifficultyMax',\n",
    "              fill: 'type',\n",
    "              title: (d) => {\n",
    "                if (d.difficultyMin === d.difficultyMax) return d.difficultyMin;\n",
    "                return `${d.difficultyMin} - ${d.difficultyMax}`;\n",
    "              },\n",
    "              inset: 1,\n",
    "              mixBlendMode: 'color-dodge',\n",
    "            },\n",
    "          ),\n",
    "        ),\n",
    "        /*\n",
    "        Plot.rectY(data.toRecords(), { interval: 'week', x: 'created_at', y: 'count', fill: 'gray' }),\n",
    "        Plot.text(data.toRecords(), {\n",
    "          x: 'created_at',\n",
    "          y: 'count',\n",
    "          text: 'count',\n",
    "          lineAnchor: 'bottom',\n",
    "        }),\n",
    "        */\n",
    "      ],\n",
    "      document,\n",
    "    };\n",
    "  })(),\n",
    ");\n"
   ]
  },
  {
   "cell_type": "code",
   "execution_count": null,
   "metadata": {
    "vscode": {
     "languageId": "typescript"
    }
   },
   "outputs": [
    {
     "data": {
      "text/html": [
       "<figure style=\"max-width:initial\" class=\"plot-d6a7b5-figure\"><svg viewBox=\"0 0 640 60\" height=\"60\" width=\"640\" text-anchor=\"middle\" font-size=\"10\" font-family=\"system-ui, sans-serif\" fill=\"currentColor\" class=\"plot-d6a7b5\"><style>:where(.plot-d6a7b5) {\n",
       "  --plot-background: white;\n",
       "  display: block;\n",
       "  height: auto;\n",
       "  height: intrinsic;\n",
       "  max-width: 100%;\n",
       "}\n",
       ":where(.plot-d6a7b5 text),\n",
       ":where(.plot-d6a7b5 tspan) {\n",
       "  white-space: pre;\n",
       "}</style><g stroke=\"currentColor\" fill=\"none\" aria-hidden=\"true\" aria-label=\"x-axis tick\"><path d=\"M0,0L0,6\" transform=\"translate(26.81173131504257,30)\" /><path d=\"M0,0L0,6\" transform=\"translate(78.46736045411542,30)\" /><path d=\"M0,0L0,6\" transform=\"translate(130.69063386944183,30)\" /><path d=\"M0,0L0,6\" transform=\"translate(182.9139072847682,30)\" /><path d=\"M0,0L0,6\" transform=\"translate(234.00189214758754,30)\" /><path d=\"M0,0L0,6\" transform=\"translate(285.65752128666037,30)\" /><path d=\"M0,0L0,6\" transform=\"translate(337.8807947019868,30)\" /><path d=\"M0,0L0,6\" transform=\"translate(390.10406811731315,30)\" /><path d=\"M0,0L0,6\" transform=\"translate(441.759697256386,30)\" /><path d=\"M0,0L0,6\" transform=\"translate(493.41532639545886,30)\" /><path d=\"M0,0L0,6\" transform=\"translate(545.6385998107853,30)\" /><path d=\"M0,0L0,6\" transform=\"translate(597.8618732261117,30)\" /></g><g transform=\"translate(0,9)\" font-variant=\"tabular-nums\" aria-label=\"x-axis tick label\"><text transform=\"translate(26.81173131504257,30)\"><tspan y=\"0.71em\" x=\"0\">Apr</tspan><tspan dy=\"1em\" x=\"0\">2022</tspan></text><text transform=\"translate(78.46736045411542,30)\" y=\"0.71em\">Jul</text><text transform=\"translate(130.69063386944183,30)\" y=\"0.71em\">Oct</text><text transform=\"translate(182.9139072847682,30)\"><tspan y=\"0.71em\" x=\"0\">Jan</tspan><tspan dy=\"1em\" x=\"0\">2023</tspan></text><text transform=\"translate(234.00189214758754,30)\" y=\"0.71em\">Apr</text><text transform=\"translate(285.65752128666037,30)\" y=\"0.71em\">Jul</text><text transform=\"translate(337.8807947019868,30)\" y=\"0.71em\">Oct</text><text transform=\"translate(390.10406811731315,30)\"><tspan y=\"0.71em\" x=\"0\">Jan</tspan><tspan dy=\"1em\" x=\"0\">2024</tspan></text><text transform=\"translate(441.759697256386,30)\" y=\"0.71em\">Apr</text><text transform=\"translate(493.41532639545886,30)\" y=\"0.71em\">Jul</text><text transform=\"translate(545.6385998107853,30)\" y=\"0.71em\">Oct</text><text transform=\"translate(597.8618732261117,30)\"><tspan y=\"0.71em\" x=\"0\">Jan</tspan><tspan dy=\"1em\" x=\"0\">2025</tspan></text></g><g aria-label=\"bar\"><rect fill=\"rgb(219, 241, 166)\" height=\"29.5\" y=\"0.5\" width=\"2.973509933774835\" x=\"286.7251655629139\"><title>3 x1; 3+ x1; 4 x2; 4+ x1; 5 x1; 5+ x2; 6A x2</title></rect><rect fill=\"rgb(180, 224, 146)\" height=\"29.5\" y=\"0.5\" width=\"2.973509933774949\" x=\"517.1887417218543\"><title>3+ x1; 4 x1; 5 x1; 5+ x1; 6A x2; 6A+ x2; 6B x2; 6B+ x1</title></rect><rect fill=\"rgb(251, 254, 210)\" height=\"29.5\" y=\"0.5\" width=\"2.973509933774821\" x=\"60.23509933774835\"><title>6A+ x1; 6B x1</title></rect><rect fill=\"rgb(221, 241, 167)\" height=\"29.5\" y=\"0.5\" width=\"2.973509933774835\" x=\"72.15562913907284\"><title>4+ x1; 5+ x2; 6A+ x2; 6B x1; 6B+ x1</title></rect><rect fill=\"rgb(232, 246, 175)\" height=\"29.5\" y=\"0.5\" width=\"2.973509933774835\" x=\"306.5927152317881\"><title>6A x1; 6A+ x1; 6B x1; 6B+ x1; 6C x1</title></rect><rect fill=\"rgb(244, 251, 190)\" height=\"29.5\" y=\"0.5\" width=\"2.973509933774835\" x=\"80.10264900662251\"><title>4 x2; 5+ x1; 6A x1; 6A+ x1</title></rect><rect fill=\"rgb(70, 170, 94)\" height=\"29.5\" y=\"0.5\" width=\"2.973509933774835\" x=\"600.6324503311258\"><title>3 x1; 4 x1; 5 x6; 6A x1; 6A+ x2; 6B x3; 6B+ x1; 6C x2; 6C+ x1</title></rect><rect fill=\"rgb(205, 235, 158)\" height=\"29.5\" y=\"0.5\" width=\"2.973509933774949\" x=\"529.1092715231788\"><title>4+ x2; 5+ x1; 6A x1; 6A+ x1; 6B+ x1; 6C x1; 7A x1</title></rect><rect fill=\"rgb(188, 227, 149)\" height=\"29.5\" y=\"0.5\" width=\"2.973509933774949\" x=\"564.8708609271522\"><title>3+ x1; 4 x1; 4+ x1; 5 x2; 5+ x2; 6A x1; 6A+ x1; 6B+ x1; 6C+ x1</title></rect><rect fill=\"rgb(207, 236, 159)\" height=\"29.5\" y=\"0.5\" width=\"2.973509933774835\" x=\"354.27483443708604\"><title>3 x1; 4+ x2; 5+ x1; 6A x1; 6A+ x2; 6B x1; 6C x1</title></rect><rect fill=\"rgb(43, 144, 75)\" height=\"29.5\" y=\"0.5\" width=\"2.973509933774835\" x=\"612.5529801324503\"><title>3 x1; 3+ x1; 4 x3; 4+ x1; 5 x3; 6A x2; 6A+ x3; 6B x1; 6B+ x2; 6C x2; 6C+ x1; 7A x1</title></rect><rect fill=\"rgb(157, 214, 136)\" height=\"29.5\" y=\"0.5\" width=\"2.9735099337747783\" x=\"441.6920529801325\"><title>4 x1; 6A x1; 6A+ x2; 6B+ x2; 6C x2; 6C+ x1; 7A x1</title></rect><rect fill=\"rgb(117, 196, 118)\" height=\"29.5\" y=\"0.5\" width=\"2.973509933774835\" x=\"199.30794701986756\"><title>5+ x1; 6A x1; 6A+ x2; 6B x2; 6B+ x2; 6C x2; 6C+ x1; 7A x1</title></rect><rect fill=\"rgb(106, 191, 113)\" height=\"29.5\" y=\"0.5\" width=\"2.973509933774835\" x=\"449.63907284768214\"><title>3 x1; 4+ x1; 5+ x1; 6A x2; 6A+ x2; 6B x1; 6B+ x2; 6C x3; 6C+ x1</title></rect><rect fill=\"rgb(254, 255, 223)\" height=\"29.5\" y=\"0.5\" width=\"2.973509933774835\" x=\"231.09602649006624\"><title>6B+ x1</title></rect><rect fill=\"rgb(189, 228, 150)\" height=\"29.5\" y=\"0.5\" width=\"2.973509933774835\" x=\"394.00993377483445\"><title>3+ x1; 4 x1; 4+ x1; 5+ x2; 6A+ x1; 6B x2; 6B+ x1; 7A x1</title></rect><rect fill=\"rgb(213, 238, 162)\" height=\"29.5\" y=\"0.5\" width=\"2.973509933774835\" x=\"616.5264900662252\"><title>3 x1; 4+ x1; 6A x1; 6B x1; 6C x1; 7A x1; 7A+ x1</title></rect><rect fill=\"rgb(82, 178, 101)\" height=\"29.5\" y=\"0.5\" width=\"2.973509933774835\" x=\"537.0562913907285\"><title>3+ x1; 4+ x1; 5 x1; 5+ x1; 6A x3; 6A+ x1; 6B+ x2; 6C x1; 6C+ x1; 7A x3</title></rect><rect fill=\"rgb(247, 252, 196)\" height=\"29.5\" y=\"0.5\" width=\"2.973509933774835\" x=\"397.9834437086093\"><title>6A+ x1; 6B x1; 6B+ x1</title></rect><rect fill=\"rgb(239, 249, 182)\" height=\"29.5\" y=\"0.5\" width=\"2.9735099337747783\" x=\"453.612582781457\"><title>3 x1; 5 x1; 6B x2; 6C x1</title></rect><rect fill=\"rgb(133, 204, 126)\" height=\"29.5\" y=\"0.5\" width=\"2.973509933774835\" x=\"314.53973509933775\"><title>3 x1; 4 x1; 4+ x2; 5+ x2; 6A x1; 6A+ x2; 6B x2; 6B+ x1; 6C x2</title></rect><rect fill=\"rgb(240, 249, 184)\" height=\"29.5\" y=\"0.5\" width=\"2.9735099337748068\" x=\"250.9635761589404\"><title>3 x1; 4 x1; 4+ x1; 5+ x1; 6A x1; 6B x1</title></rect><rect fill=\"rgb(208, 236, 159)\" height=\"29.5\" y=\"0.5\" width=\"2.9735099337747215\" x=\"545.0033112582782\"><title>3 x1; 5 x2; 6A x1; 6B x1; 6B+ x1; 6C x1; 6C+ x1</title></rect><rect fill=\"rgb(36, 136, 70)\" height=\"29.5\" y=\"0.5\" width=\"2.9735099337748636\" x=\"227.12251655629137\"><title>3 x2; 4 x1; 5 x4; 5+ x1; 6A x3; 6A+ x3; 6B x2; 6B+ x1; 6C+ x3; 7A x1</title></rect><rect fill=\"rgb(233, 246, 176)\" height=\"29.5\" y=\"0.5\" width=\"2.973509933774835\" x=\"290.69867549668874\"><title>3+ x1; 4+ x2; 6A+ x1; 6B x1; 7A x1</title></rect><rect fill=\"rgb(160, 215, 137)\" height=\"29.5\" y=\"0.5\" width=\"2.973509933774835\" x=\"56.26158940397352\"><title>4+ x1; 5 x2; 5+ x5; 6A x2; 6A+ x3</title></rect><rect fill=\"rgb(75, 174, 97)\" height=\"29.5\" y=\"0.5\" width=\"2.973509933774835\" x=\"310.5662251655629\"><title>3 x1; 3+ x2; 4+ x2; 5 x3; 5+ x1; 6A x3; 6A+ x2; 6B x2; 6B+ x1; 6C x2</title></rect><rect fill=\"rgb(196, 231, 153)\" height=\"29.5\" y=\"0.5\" width=\"2.973509933774835\" x=\"20.5\"><title>3 x1; 4 x3; 4+ x4; 5 x1; 5+ x4</title></rect><rect fill=\"rgb(215, 239, 163)\" height=\"29.5\" y=\"0.5\" width=\"2.973509933774892\" x=\"278.77814569536423\"><title>3 x1; 4 x1; 4+ x2; 5+ x1; 6A x2; 6A+ x1; 6C x1</title></rect><rect fill=\"rgb(223, 242, 168)\" height=\"29.5\" y=\"0.5\" width=\"2.973509933774892\" x=\"425.7980132450331\"><title>6B x1; 6B+ x1; 6C x1; 6C+ x1; 7A x1</title></rect><rect fill=\"rgb(62, 163, 89)\" height=\"29.5\" y=\"0.5\" width=\"2.973509933774835\" x=\"207.25496688741723\"><title>3+ x1; 4 x3; 4+ x3; 5 x2; 5+ x2; 6A x3; 6A+ x1; 6B x1; 6B+ x1; 6C x2; 7A+ x1</title></rect><rect fill=\"rgb(202, 234, 156)\" height=\"29.5\" y=\"0.5\" width=\"2.9735099337747783\" x=\"429.77152317880797\"><title>5 x1; 5+ x1; 6A x1; 6A+ x2; 6B x1; 6C x2</title></rect><rect fill=\"rgb(140, 206, 129)\" height=\"29.5\" y=\"0.5\" width=\"2.973509933774835\" x=\"596.658940397351\"><title>3 x2; 3+ x2; 4 x2; 5+ x2; 6A x4; 6A+ x2; 6B x1; 6B+ x1</title></rect><rect fill=\"rgb(242, 250, 186)\" height=\"29.5\" y=\"0.5\" width=\"2.9735099337747215\" x=\"350.3013245033113\"><title>3+ x1; 4 x1; 6A+ x2; 6B+ x1</title></rect><rect fill=\"rgb(244, 251, 190)\" height=\"29.5\" y=\"0.5\" width=\"2.9735099337747783\" x=\"326.4602649006623\"><title>6A+ x1; 6C x1; 7A+ x1</title></rect><rect fill=\"rgb(85, 180, 103)\" height=\"29.5\" y=\"0.5\" width=\"2.973509933774892\" x=\"346.32781456953643\"><title>3 x1; 3+ x2; 4+ x3; 5 x1; 5+ x2; 6A x1; 6A+ x1; 6B x1; 6B+ x1; 6C+ x2; 7A x1; 7B x1</title></rect><rect fill=\"rgb(235, 247, 178)\" height=\"29.5\" y=\"0.5\" width=\"2.973509933774835\" x=\"302.61920529801324\"><title>3+ x1; 5+ x1; 6B x1; 6B+ x1; 7A+ x1</title></rect><rect fill=\"rgb(4, 100, 54)\" height=\"29.5\" y=\"0.5\" width=\"2.973509933774835\" x=\"588.7119205298013\"><title>3 x1; 3+ x2; 4 x1; 4+ x2; 5 x1; 5+ x4; 6A x2; 6A+ x4; 6B x4; 6B+ x4; 6C x1</title></rect><rect fill=\"rgb(222, 242, 168)\" height=\"29.5\" y=\"0.5\" width=\"2.973509933774835\" x=\"584.7384105960265\"><title>4 x1; 5+ x1; 6B x1; 6B+ x1; 6C+ x1; 7A x1</title></rect><rect fill=\"rgb(251, 254, 210)\" height=\"29.5\" y=\"0.5\" width=\"2.973509933774835\" x=\"568.8443708609271\"><title>6A+ x1; 6B x1</title></rect><rect fill=\"rgb(247, 252, 197)\" height=\"29.5\" y=\"0.5\" width=\"2.9735099337747783\" x=\"378.1158940397351\"><title>6A x1; 6A+ x1; 6C x1</title></rect><rect fill=\"rgb(28, 127, 66)\" height=\"29.5\" y=\"0.5\" width=\"2.973509933774835\" x=\"401.9569536423841\"><title>3 x2; 3+ x1; 4 x2; 4+ x4; 5+ x4; 6A x4; 6A+ x3; 6C x1; 7A x2; 7A+ x1</title></rect><rect fill=\"rgb(72, 171, 95)\" height=\"29.5\" y=\"0.5\" width=\"2.973509933774892\" x=\"501.29470198675494\"><title>3 x2; 3+ x2; 4 x1; 4+ x2; 5 x2; 5+ x5; 6A x2; 6A+ x1; 6B x2; 6B+ x1; 6C x1</title></rect><rect fill=\"rgb(218, 240, 165)\" height=\"29.5\" y=\"0.5\" width=\"2.973509933774949\" x=\"541.0298013245033\"><title>3 x1; 4 x1; 4+ x1; 5 x1; 6A x1; 6A+ x1; 6B+ x1; 7A x1</title></rect><rect fill=\"rgb(120, 197, 120)\" height=\"29.5\" y=\"0.5\" width=\"2.973509933774835\" x=\"548.976821192053\"><title>3 x2; 3+ x1; 4 x1; 5 x1; 6A x1; 6A+ x1; 6B x1; 6B+ x2; 6C+ x2; 7A x2</title></rect><rect fill=\"rgb(247, 252, 196)\" height=\"29.5\" y=\"0.5\" width=\"2.973509933774835\" x=\"40.367549668874176\"><title>4+ x2; 6A+ x2</title></rect><rect fill=\"rgb(249, 253, 202)\" height=\"29.5\" y=\"0.5\" width=\"2.9735099337747783\" x=\"270.8311258278146\"><title>3+ x1; 6B x1; 6B+ x1</title></rect><rect fill=\"rgb(235, 247, 178)\" height=\"29.5\" y=\"0.5\" width=\"2.9735099337747783\" x=\"481.4271523178808\"><title>5 x1; 5+ x1; 6B+ x3</title></rect><rect fill=\"rgb(148, 210, 132)\" height=\"29.5\" y=\"0.5\" width=\"2.973509933774835\" x=\"24.473509933774835\"><title>4 x2; 4+ x3; 5 x1; 5+ x4; 6A x3; 6A+ x2</title></rect><rect fill=\"rgb(252, 254, 213)\" height=\"29.5\" y=\"0.5\" width=\"2.973509933774835\" x=\"386.0629139072848\"><title>6A x1; 6A+ x1</title></rect><rect fill=\"rgb(217, 240, 164)\" height=\"29.5\" y=\"0.5\" width=\"2.973509933774835\" x=\"254.93708609271522\"><title>3+ x1; 4 x1; 4+ x1; 5+ x1; 6A+ x2; 6B+ x1; 6C x1</title></rect><rect fill=\"rgb(208, 236, 159)\" height=\"29.5\" y=\"0.5\" width=\"2.9735099337748636\" x=\"215.20198675496687\"><title>3 x1; 3+ x1; 4+ x2; 5 x1; 6B+ x3; 6C x1</title></rect><rect fill=\"rgb(146, 209, 131)\" height=\"29.5\" y=\"0.5\" width=\"2.9735099337748494\" x=\"52.28807947019867\"><title>4+ x1; 5 x5; 5+ x1; 6A x2; 6A+ x5</title></rect><rect fill=\"rgb(228, 244, 172)\" height=\"29.5\" y=\"0.5\" width=\"2.973509933774835\" x=\"262.8841059602649\"><title>3+ x1; 4 x1; 5+ x2; 6A+ x1; 6B x2</title></rect><rect fill=\"rgb(0, 69, 41)\" height=\"29.5\" y=\"0.5\" width=\"2.973509933774835\" x=\"525.135761589404\"><title>3+ x2; 4 x2; 5 x1; 5+ x2; 6A x1; 6A+ x5; 6B x6; 6B+ x1; 6C x3; 6C+ x1; 7A x1; 7A+ x1</title></rect><rect fill=\"rgb(117, 196, 118)\" height=\"29.5\" y=\"0.5\" width=\"2.973509933774828\" x=\"44.34105960264901\"><title>3+ x1; 4+ x3; 6A x8; 6A+ x4</title></rect><rect fill=\"rgb(101, 188, 111)\" height=\"29.5\" y=\"0.5\" width=\"2.973509933774835\" x=\"274.8046357615894\"><title>3 x2; 3+ x1; 4 x2; 4+ x2; 5 x2; 6A x3; 6A+ x2; 6B x1; 6B+ x2; 6C+ x1</title></rect><rect fill=\"rgb(232, 246, 175)\" height=\"29.5\" y=\"0.5\" width=\"2.9735099337748636\" x=\"246.99006622516555\"><title>5 x1; 5+ x2; 6A x2; 6C x1</title></rect><rect fill=\"rgb(70, 170, 94)\" height=\"29.5\" y=\"0.5\" width=\"2.973509933774835\" x=\"203.2814569536424\"><title>3+ x1; 4+ x1; 5 x1; 5+ x3; 6A x2; 6A+ x2; 6B x1; 6B+ x3; 6C x3</title></rect><rect fill=\"rgb(48, 149, 79)\" height=\"29.5\" y=\"0.5\" width=\"2.973509933774892\" x=\"266.8576158940397\"><title>3 x1; 3+ x1; 4+ x1; 5 x2; 5+ x1; 6A x4; 6A+ x3; 6B x4; 6B+ x1; 6C x2</title></rect><rect fill=\"rgb(231, 245, 174)\" height=\"29.5\" y=\"0.5\" width=\"2.9735099337747215\" x=\"533.0827814569537\"><title>3+ x1; 4 x1; 5+ x1; 6A+ x1; 6B+ x1; 7A+ x1</title></rect><rect fill=\"rgb(226, 244, 171)\" height=\"29.5\" y=\"0.5\" width=\"2.9735099337748068\" x=\"235.06953642384107\"><title>3+ x1; 4+ x1; 5+ x1; 6A x1; 6A+ x2; 6B+ x1</title></rect><rect fill=\"rgb(186, 227, 149)\" height=\"29.5\" y=\"0.5\" width=\"2.9735099337748068\" x=\"211.22847682119206\"><title>3+ x1; 4 x1; 4+ x1; 6A x1; 6A+ x2; 6B x2; 6B+ x1; 6C+ x1</title></rect><rect fill=\"rgb(143, 208, 130)\" height=\"29.5\" y=\"0.5\" width=\"2.973509933774835\" x=\"421.82450331125824\"><title>4+ x3; 5+ x3; 6A x1; 6A+ x1; 6B x2; 6B+ x2; 6C x1</title></rect><rect fill=\"rgb(226, 244, 171)\" height=\"29.5\" y=\"0.5\" width=\"2.973509933774835\" x=\"32.420529801324506\"><title>3 x1; 4 x2; 4+ x1; 5 x3; 5+ x1; 6A x1</title></rect><rect fill=\"rgb(247, 252, 197)\" height=\"29.5\" y=\"0.5\" width=\"2.973509933774892\" x=\"413.87748344370857\"><title>6A x1; 6B x1; 6B+ x1</title></rect><rect fill=\"rgb(138, 206, 128)\" height=\"29.5\" y=\"0.5\" width=\"2.9735099337747783\" x=\"294.67218543046357\"><title>3 x1; 3+ x2; 4 x2; 4+ x1; 5 x2; 6A x1; 6A+ x1; 6B x1; 6B+ x2; 6C x2</title></rect><rect fill=\"rgb(238, 249, 182)\" height=\"29.5\" y=\"0.5\" width=\"2.973509933774892\" x=\"322.4867549668874\"><title>4 x1; 5 x1; 6A x1; 6B+ x1; 6C x1</title></rect><rect fill=\"rgb(91, 183, 106)\" height=\"29.5\" y=\"0.5\" width=\"2.973509933774828\" x=\"48.31456953642384\"><title>4 x4; 4+ x6; 5+ x2; 6A x5; 6A+ x3</title></rect><rect fill=\"rgb(255, 255, 229)\" height=\"29.5\" y=\"0.5\" width=\"2.973509933774835\" x=\"390.0364238410596\"><title>5 x1</title></rect><rect fill=\"rgb(162, 216, 138)\" height=\"29.5\" y=\"0.5\" width=\"2.9735099337747783\" x=\"409.9039735099338\"><title>4+ x1; 5 x3; 6A x1; 6A+ x1; 6B x3; 6C x1; 7B x1</title></rect><rect fill=\"rgb(234, 247, 177)\" height=\"29.5\" y=\"0.5\" width=\"2.973509933774949\" x=\"552.9503311258278\"><title>4 x1; 6A+ x1; 6B+ x2; 6C x1</title></rect><rect fill=\"rgb(226, 243, 170)\" height=\"29.5\" y=\"0.5\" width=\"2.973509933774835\" x=\"405.93046357615896\"><title>3+ x1; 4+ x1; 5 x1; 5+ x1; 6A x1; 6B+ x1; 6C+ x1</title></rect><rect fill=\"rgb(129, 202, 124)\" height=\"29.5\" y=\"0.5\" width=\"2.973509933774835\" x=\"497.3211920529801\"><title>3 x1; 3+ x1; 4 x1; 4+ x1; 5 x1; 6A x1; 6A+ x3; 6B x1; 6B+ x2; 6C+ x1; 7A x1</title></rect><rect fill=\"rgb(198, 232, 154)\" height=\"29.5\" y=\"0.5\" width=\"2.9735099337747783\" x=\"338.3807947019868\"><title>3 x1; 3+ x3; 4 x3; 5 x1; 6A x1; 6B x1; 6B+ x2</title></rect><rect fill=\"rgb(254, 254, 221)\" height=\"29.5\" y=\"0.5\" width=\"2.9735099337747215\" x=\"521.1622516556292\"><title>6C x1</title></rect><rect fill=\"rgb(101, 188, 111)\" height=\"29.5\" y=\"0.5\" width=\"2.973509933774892\" x=\"370.1688741721854\"><title>3 x2; 3+ x2; 4 x3; 4+ x1; 5 x3; 5+ x2; 6A x1; 6A+ x1; 6B x2; 6B+ x1; 7A+ x1</title></rect><rect fill=\"rgb(48, 149, 79)\" height=\"29.5\" y=\"0.5\" width=\"2.973509933774949\" x=\"576.7913907284767\"><title>3 x1; 3+ x2; 4 x2; 4+ x3; 5 x1; 5+ x1; 6A x2; 6B x2; 6B+ x3; 6C x4</title></rect><rect fill=\"rgb(10, 109, 57)\" height=\"29.5\" y=\"0.5\" width=\"2.973509933774835\" x=\"342.3543046357616\"><title>3 x1; 4 x1; 4+ x1; 5 x4; 5+ x2; 6A x3; 6A+ x2; 6B x2; 6B+ x1; 6C x2; 6C+ x3; 7A+ x1</title></rect><rect fill=\"rgb(222, 242, 168)\" height=\"29.5\" y=\"0.5\" width=\"2.973509933774835\" x=\"473.4801324503311\"><title>5+ x1; 6A x2; 6B+ x1; 6C x1; 6C+ x1</title></rect><rect fill=\"rgb(234, 247, 177)\" height=\"29.5\" y=\"0.5\" width=\"2.9735099337747783\" x=\"509.24172185430467\"><title>3+ x1; 4+ x1; 5+ x1; 6A+ x2; 6C x1</title></rect><rect fill=\"rgb(237, 248, 180)\" height=\"29.5\" y=\"0.5\" width=\"2.973509933774835\" x=\"580.7649006622516\"><title>5+ x1; 6A+ x1; 7A x1; 7A+ x1</title></rect><rect fill=\"rgb(201, 233, 156)\" height=\"29.5\" y=\"0.5\" width=\"2.973509933774835\" x=\"366.19536423841055\"><title>2 x3; 3 x1; 3+ x1; 4 x2; 4+ x1; 5+ x1; 6A+ x2; 6B x1; 6B+ x1</title></rect><rect fill=\"rgb(250, 253, 205)\" height=\"29.5\" y=\"0.5\" width=\"2.9735099337748636\" x=\"147.6523178807947\"><title>6C x2</title></rect><rect fill=\"rgb(251, 253, 209)\" height=\"29.5\" y=\"0.5\" width=\"2.973509933774892\" x=\"457.58609271523176\"><title>4+ x1; 7A+ x1</title></rect><rect fill=\"rgb(237, 248, 180)\" height=\"29.5\" y=\"0.5\" width=\"2.973509933774892\" x=\"433.74503311258275\"><title>4+ x1; 5+ x1; 6A x1; 6B+ x1; 6C x1</title></rect><rect fill=\"rgb(82, 178, 101)\" height=\"29.5\" y=\"0.5\" width=\"2.973509933774835\" x=\"318.5132450331126\"><title>5 x2; 5+ x2; 6A x3; 6A+ x3; 6B x3; 6B+ x2; 6C x1</title></rect><rect fill=\"rgb(140, 206, 129)\" height=\"29.5\" y=\"0.5\" width=\"2.973509933774835\" x=\"604.6059602649007\"><title>4 x1; 4+ x1; 6A x1; 6B x1; 6B+ x3; 6C x2; 6C+ x1; 7B x1</title></rect><rect fill=\"rgb(221, 241, 167)\" height=\"29.5\" y=\"0.5\" width=\"2.973509933774892\" x=\"298.64569536423835\"><title>3 x2; 4 x1; 4+ x2; 5+ x1; 6A x1; 6A+ x1; 6C x1</title></rect><rect fill=\"rgb(189, 228, 150)\" height=\"29.5\" y=\"0.5\" width=\"2.973509933774835\" x=\"374.1423841059603\"><title>4 x1; 5 x2; 6A x1; 6B x1; 6B+ x1; 6C x2; 6C+ x1</title></rect><rect fill=\"rgb(178, 223, 145)\" height=\"29.5\" y=\"0.5\" width=\"2.973509933774835\" x=\"461.55960264900665\"><title>3 x1; 3+ x1; 4 x1; 4+ x2; 5 x2; 5+ x1; 6A x2; 6A+ x2; 6B x1</title></rect><rect fill=\"rgb(206, 235, 158)\" height=\"29.5\" y=\"0.5\" width=\"2.9735099337747215\" x=\"572.817880794702\"><title>3+ x1; 5 x1; 5+ x1; 6A x1; 6A+ x1; 6B x1; 6C x1; 7A+ x1</title></rect><rect fill=\"rgb(129, 202, 124)\" height=\"29.5\" y=\"0.5\" width=\"2.973509933774892\" x=\"382.0894039735099\"><title>3 x2; 3+ x1; 4 x1; 4+ x2; 5 x1; 6A x2; 6A+ x1; 6B x1; 6B+ x2; 6C+ x1; 7A+ x1</title></rect><rect fill=\"rgb(178, 223, 145)\" height=\"29.5\" y=\"0.5\" width=\"2.973509933774892\" x=\"445.66556291390725\"><title>3+ x2; 4 x1; 4+ x1; 5+ x1; 6A x1; 6B x1; 6B+ x3; 6C+ x1</title></rect><rect fill=\"rgb(72, 171, 95)\" height=\"29.5\" y=\"0.5\" width=\"2.973509933774835\" x=\"608.5794701986755\"><title>3+ x1; 4 x1; 4+ x1; 5 x1; 5+ x2; 6A x3; 6A+ x3; 6B+ x3; 7A+ x1; 7B x1</title></rect><rect fill=\"rgb(199, 232, 155)\" height=\"29.5\" y=\"0.5\" width=\"2.973509933774835\" x=\"469.50662251655626\"><title>3+ x2; 4 x1; 5 x1; 6B x2; 6B+ x1; 6C+ x1; 7A x1</title></rect><rect fill=\"rgb(178, 223, 145)\" height=\"29.5\" y=\"0.5\" width=\"2.973509933774892\" x=\"477.45364238410593\"><title>4+ x2; 6A x3; 6A+ x1; 6B x2; 6C x1; 6C+ x1</title></rect><rect fill=\"rgb(196, 231, 153)\" height=\"29.5\" y=\"0.5\" width=\"2.9735099337748068\" x=\"243.01655629139074\"><title>3+ x1; 4 x2; 4+ x1; 5+ x1; 6A x1; 6A+ x1; 6B+ x2; 6C x1</title></rect><rect fill=\"rgb(210, 237, 161)\" height=\"29.5\" y=\"0.5\" width=\"2.9735099337747783\" x=\"465.5331125827815\"><title>3+ x1; 4 x2; 4+ x1; 5+ x1; 6A x1; 6A+ x1; 6C x2</title></rect><rect fill=\"rgb(141, 207, 129)\" height=\"29.5\" y=\"0.5\" width=\"2.973509933774835\" x=\"437.71854304635764\"><title>3 x1; 4 x2; 5 x2; 6A x1; 6A+ x2; 6B x1; 6B+ x1; 6C x1; 6C+ x1; 7A x1</title></rect><rect fill=\"rgb(243, 250, 188)\" height=\"29.5\" y=\"0.5\" width=\"2.973509933774835\" x=\"505.26821192052984\"><title>3 x1; 3+ x1; 4+ x1; 5 x1; 5+ x1; 6A+ x1</title></rect><rect fill=\"rgb(162, 216, 138)\" height=\"29.5\" y=\"0.5\" width=\"2.9735099337747215\" x=\"560.8973509933775\"><title>3 x2; 4+ x1; 5 x1; 5+ x2; 6A x1; 6A+ x3; 6B x3</title></rect><rect fill=\"rgb(220, 241, 166)\" height=\"29.5\" y=\"0.5\" width=\"2.973509933774835\" x=\"513.2152317880794\"><title>4+ x1; 6A+ x1; 6B+ x2; 6C x1; 6C+ x1</title></rect></g></svg></figure>"
      ]
     },
     "metadata": {},
     "output_type": "display_data"
    }
   ],
   "source": [
    "Plot.plot(\n",
    "  (() => {\n",
    "    const data = detailedAscents\n",
    "      .groupBy(pl.col('created_at').date.strftime('%Y-%U').alias('grouped'))\n",
    "      .agg(\n",
    "        pl.col('created_at').first().cast(pl.Date).alias('date'),\n",
    "        pl.col('numberDifficulty').sum().alias('totalNumberDifficulty'),\n",
    "        pl.col('created_at').count().alias('count'),\n",
    "        pl.col('difficulty'),\n",
    "      )\n",
    "      .toRecords();\n",
    "    return {\n",
    "      figure: true,\n",
    "      color: { scheme: 'YlGn' },\n",
    "      marks: [\n",
    "        Plot.barX(data, {\n",
    "          interval: 'week',\n",
    "          x: 'date',\n",
    "          fill: 'totalNumberDifficulty',\n",
    "          title: (d) =>\n",
    "            Object.entries(\n",
    "              d.difficulty.reduce((acc, grade) => {\n",
    "                if (!acc[grade]) {\n",
    "                  acc[grade] = 0;\n",
    "                }\n",
    "                acc[grade] += 1;\n",
    "                return acc;\n",
    "              }, {}),\n",
    "            )\n",
    "              .toSorted((a, b) => a[0].localeCompare(b[0]))\n",
    "              .reduce((acc, ascents) => [...acc, `${ascents[0]} x${ascents[1]}`], [] as string[])\n",
    "              .join('; '),\n",
    "        }),\n",
    "      ],\n",
    "      document,\n",
    "    };\n",
    "  })(),\n",
    ");\n"
   ]
  },
  {
   "cell_type": "code",
   "execution_count": null,
   "metadata": {
    "vscode": {
     "languageId": "typescript"
    }
   },
   "outputs": [
    {
     "data": {
      "text/html": [
       "<figure style=\"max-width:initial\" class=\"plot-d6a7b5-figure\"><svg viewBox=\"0 0 640 157\" height=\"157\" width=\"640\" text-anchor=\"middle\" font-size=\"10\" font-family=\"system-ui, sans-serif\" fill=\"currentColor\" class=\"plot-d6a7b5\"><style>:where(.plot-d6a7b5) {\n",
       "  --plot-background: white;\n",
       "  display: block;\n",
       "  height: auto;\n",
       "  height: intrinsic;\n",
       "  max-width: 100%;\n",
       "}\n",
       ":where(.plot-d6a7b5 text),\n",
       ":where(.plot-d6a7b5 tspan) {\n",
       "  white-space: pre;\n",
       "}</style><g transform=\"translate(-9,9.5)\" text-anchor=\"end\" aria-label=\"y-axis tick label\"><text transform=\"translate(40,24)\" y=\"0.32em\">2022</text><text transform=\"translate(40,45)\" y=\"0.32em\">2023</text><text transform=\"translate(40,66)\" y=\"0.32em\">2024</text><text transform=\"translate(40,87)\" y=\"0.32em\">2025</text></g><g transform=\"translate(5,0)\" stroke=\"currentColor\" fill=\"none\" aria-hidden=\"true\" aria-label=\"x-axis tick\"><path d=\"M0,0L0,6\" transform=\"translate(45,110)\" /><path d=\"M0,0L0,6\" transform=\"translate(56,110)\" /><path d=\"M0,0L0,6\" transform=\"translate(67,110)\" /><path d=\"M0,0L0,6\" transform=\"translate(78,110)\" /><path d=\"M0,0L0,6\" transform=\"translate(89,110)\" /><path d=\"M0,0L0,6\" transform=\"translate(100,110)\" /><path d=\"M0,0L0,6\" transform=\"translate(111,110)\" /><path d=\"M0,0L0,6\" transform=\"translate(122,110)\" /><path d=\"M0,0L0,6\" transform=\"translate(133,110)\" /><path d=\"M0,0L0,6\" transform=\"translate(144,110)\" /><path d=\"M0,0L0,6\" transform=\"translate(155,110)\" /><path d=\"M0,0L0,6\" transform=\"translate(166,110)\" /><path d=\"M0,0L0,6\" transform=\"translate(177,110)\" /><path d=\"M0,0L0,6\" transform=\"translate(188,110)\" /><path d=\"M0,0L0,6\" transform=\"translate(199,110)\" /><path d=\"M0,0L0,6\" transform=\"translate(210,110)\" /><path d=\"M0,0L0,6\" transform=\"translate(221,110)\" /><path d=\"M0,0L0,6\" transform=\"translate(232,110)\" /><path d=\"M0,0L0,6\" transform=\"translate(243,110)\" /><path d=\"M0,0L0,6\" transform=\"translate(254,110)\" /><path d=\"M0,0L0,6\" transform=\"translate(265,110)\" /><path d=\"M0,0L0,6\" transform=\"translate(276,110)\" /><path d=\"M0,0L0,6\" transform=\"translate(287,110)\" /><path d=\"M0,0L0,6\" transform=\"translate(298,110)\" /><path d=\"M0,0L0,6\" transform=\"translate(309,110)\" /><path d=\"M0,0L0,6\" transform=\"translate(320,110)\" /><path d=\"M0,0L0,6\" transform=\"translate(331,110)\" /><path d=\"M0,0L0,6\" transform=\"translate(342,110)\" /><path d=\"M0,0L0,6\" transform=\"translate(353,110)\" /><path d=\"M0,0L0,6\" transform=\"translate(364,110)\" /><path d=\"M0,0L0,6\" transform=\"translate(375,110)\" /><path d=\"M0,0L0,6\" transform=\"translate(386,110)\" /><path d=\"M0,0L0,6\" transform=\"translate(397,110)\" /><path d=\"M0,0L0,6\" transform=\"translate(408,110)\" /><path d=\"M0,0L0,6\" transform=\"translate(419,110)\" /><path d=\"M0,0L0,6\" transform=\"translate(430,110)\" /><path d=\"M0,0L0,6\" transform=\"translate(441,110)\" /><path d=\"M0,0L0,6\" transform=\"translate(452,110)\" /><path d=\"M0,0L0,6\" transform=\"translate(463,110)\" /><path d=\"M0,0L0,6\" transform=\"translate(474,110)\" /><path d=\"M0,0L0,6\" transform=\"translate(485,110)\" /><path d=\"M0,0L0,6\" transform=\"translate(496,110)\" /><path d=\"M0,0L0,6\" transform=\"translate(507,110)\" /><path d=\"M0,0L0,6\" transform=\"translate(518,110)\" /><path d=\"M0,0L0,6\" transform=\"translate(529,110)\" /><path d=\"M0,0L0,6\" transform=\"translate(540,110)\" /><path d=\"M0,0L0,6\" transform=\"translate(551,110)\" /><path d=\"M0,0L0,6\" transform=\"translate(562,110)\" /><path d=\"M0,0L0,6\" transform=\"translate(573,110)\" /><path d=\"M0,0L0,6\" transform=\"translate(584,110)\" /><path d=\"M0,0L0,6\" transform=\"translate(595,110)\" /><path d=\"M0,0L0,6\" transform=\"translate(606,110)\" /></g><g transform=\"translate(5,9)\" text-anchor=\"start\" aria-label=\"x-axis tick label\"><text transform=\"translate(45,110) rotate(90)\" y=\"0.32em\">Week 1</text><text transform=\"translate(56,110) rotate(90)\" y=\"0.32em\">Week 2</text><text transform=\"translate(67,110) rotate(90)\" y=\"0.32em\">Week 3</text><text transform=\"translate(78,110) rotate(90)\" y=\"0.32em\">Week 4</text><text transform=\"translate(89,110) rotate(90)\" y=\"0.32em\">Week 5</text><text transform=\"translate(100,110) rotate(90)\" y=\"0.32em\">Week 6</text><text transform=\"translate(111,110) rotate(90)\" y=\"0.32em\">Week 7</text><text transform=\"translate(122,110) rotate(90)\" y=\"0.32em\">Week 8</text><text transform=\"translate(133,110) rotate(90)\" y=\"0.32em\">Week 9</text><text transform=\"translate(144,110) rotate(90)\" y=\"0.32em\">Week 10</text><text transform=\"translate(155,110) rotate(90)\" y=\"0.32em\">Week 11</text><text transform=\"translate(166,110) rotate(90)\" y=\"0.32em\">Week 12</text><text transform=\"translate(177,110) rotate(90)\" y=\"0.32em\">Week 13</text><text transform=\"translate(188,110) rotate(90)\" y=\"0.32em\">Week 14</text><text transform=\"translate(199,110) rotate(90)\" y=\"0.32em\">Week 15</text><text transform=\"translate(210,110) rotate(90)\" y=\"0.32em\">Week 16</text><text transform=\"translate(221,110) rotate(90)\" y=\"0.32em\">Week 17</text><text transform=\"translate(232,110) rotate(90)\" y=\"0.32em\">Week 18</text><text transform=\"translate(243,110) rotate(90)\" y=\"0.32em\">Week 19</text><text transform=\"translate(254,110) rotate(90)\" y=\"0.32em\">Week 20</text><text transform=\"translate(265,110) rotate(90)\" y=\"0.32em\">Week 21</text><text transform=\"translate(276,110) rotate(90)\" y=\"0.32em\">Week 22</text><text transform=\"translate(287,110) rotate(90)\" y=\"0.32em\">Week 23</text><text transform=\"translate(298,110) rotate(90)\" y=\"0.32em\">Week 24</text><text transform=\"translate(309,110) rotate(90)\" y=\"0.32em\">Week 25</text><text transform=\"translate(320,110) rotate(90)\" y=\"0.32em\">Week 26</text><text transform=\"translate(331,110) rotate(90)\" y=\"0.32em\">Week 27</text><text transform=\"translate(342,110) rotate(90)\" y=\"0.32em\">Week 28</text><text transform=\"translate(353,110) rotate(90)\" y=\"0.32em\">Week 29</text><text transform=\"translate(364,110) rotate(90)\" y=\"0.32em\">Week 30</text><text transform=\"translate(375,110) rotate(90)\" y=\"0.32em\">Week 31</text><text transform=\"translate(386,110) rotate(90)\" y=\"0.32em\">Week 32</text><text transform=\"translate(397,110) rotate(90)\" y=\"0.32em\">Week 33</text><text transform=\"translate(408,110) rotate(90)\" y=\"0.32em\">Week 34</text><text transform=\"translate(419,110) rotate(90)\" y=\"0.32em\">Week 35</text><text transform=\"translate(430,110) rotate(90)\" y=\"0.32em\">Week 36</text><text transform=\"translate(441,110) rotate(90)\" y=\"0.32em\">Week 37</text><text transform=\"translate(452,110) rotate(90)\" y=\"0.32em\">Week 38</text><text transform=\"translate(463,110) rotate(90)\" y=\"0.32em\">Week 39</text><text transform=\"translate(474,110) rotate(90)\" y=\"0.32em\">Week 40</text><text transform=\"translate(485,110) rotate(90)\" y=\"0.32em\">Week 41</text><text transform=\"translate(496,110) rotate(90)\" y=\"0.32em\">Week 42</text><text transform=\"translate(507,110) rotate(90)\" y=\"0.32em\">Week 43</text><text transform=\"translate(518,110) rotate(90)\" y=\"0.32em\">Week 44</text><text transform=\"translate(529,110) rotate(90)\" y=\"0.32em\">Week 45</text><text transform=\"translate(540,110) rotate(90)\" y=\"0.32em\">Week 46</text><text transform=\"translate(551,110) rotate(90)\" y=\"0.32em\">Week 47</text><text transform=\"translate(562,110) rotate(90)\" y=\"0.32em\">Week 48</text><text transform=\"translate(573,110) rotate(90)\" y=\"0.32em\">Week 49</text><text transform=\"translate(584,110) rotate(90)\" y=\"0.32em\">Week 50</text><text transform=\"translate(595,110) rotate(90)\" y=\"0.32em\">Week 51</text><text transform=\"translate(606,110) rotate(90)\" y=\"0.32em\">Week 52</text></g><g aria-label=\"cell\"><rect fill=\"rgb(146, 209, 131)\" height=\"17\" y=\"25\" width=\"8\" x=\"266\"><title>4+ x1; 5 x5; 5+ x1; 6A x2; 6A+ x5</title></rect><rect fill=\"rgb(226, 244, 171)\" height=\"17\" y=\"25\" width=\"8\" x=\"211\"><title>3 x1; 4 x2; 4+ x1; 5 x3; 5+ x1; 6A x1</title></rect><rect fill=\"rgb(188, 227, 149)\" height=\"17\" y=\"67\" width=\"8\" x=\"530\"><title>3+ x1; 4 x1; 4+ x1; 5 x2; 5+ x2; 6A x1; 6A+ x1; 6B+ x1; 6C+ x1</title></rect><rect fill=\"rgb(252, 254, 213)\" height=\"17\" y=\"46\" width=\"8\" x=\"607\"><title>6A x1; 6A+ x1</title></rect><rect fill=\"rgb(62, 163, 89)\" height=\"17\" y=\"46\" width=\"8\" x=\"112\"><title>3+ x1; 4 x3; 4+ x3; 5 x2; 5+ x2; 6A x3; 6A+ x1; 6B x1; 6B+ x1; 6C x2; 7A+ x1</title></rect><rect fill=\"rgb(72, 171, 95)\" height=\"17\" y=\"88\" width=\"8\" x=\"79\"><title>3+ x1; 4 x1; 4+ x1; 5 x1; 5+ x2; 6A x3; 6A+ x3; 6B+ x3; 7A+ x1; 7B x1</title></rect><rect fill=\"rgb(82, 178, 101)\" height=\"17\" y=\"67\" width=\"8\" x=\"453\"><title>3+ x1; 4+ x1; 5 x1; 5+ x1; 6A x3; 6A+ x1; 6B+ x2; 6C x1; 6C+ x1; 7A x3</title></rect><rect fill=\"rgb(235, 247, 178)\" height=\"17\" y=\"67\" width=\"8\" x=\"299\"><title>5 x1; 5+ x1; 6B+ x3</title></rect><rect fill=\"rgb(222, 242, 168)\" height=\"17\" y=\"67\" width=\"8\" x=\"277\"><title>5+ x1; 6A x2; 6B+ x1; 6C x1; 6C+ x1</title></rect><rect fill=\"rgb(218, 240, 165)\" height=\"17\" y=\"67\" width=\"8\" x=\"464\"><title>3 x1; 4 x1; 4+ x1; 5 x1; 6A x1; 6A+ x1; 6B+ x1; 7A x1</title></rect><rect fill=\"rgb(0, 69, 41)\" height=\"17\" y=\"67\" width=\"8\" x=\"420\"><title>3+ x2; 4 x2; 5 x1; 5+ x2; 6A x1; 6A+ x5; 6B x6; 6B+ x1; 6C x3; 6C+ x1; 7A x1; 7A+ x1</title></rect><rect fill=\"rgb(72, 171, 95)\" height=\"17\" y=\"67\" width=\"8\" x=\"354\"><title>3 x2; 3+ x2; 4 x1; 4+ x2; 5 x2; 5+ x5; 6A x2; 6A+ x1; 6B x2; 6B+ x1; 6C x1</title></rect><rect fill=\"rgb(249, 253, 202)\" height=\"17\" y=\"46\" width=\"8\" x=\"288\"><title>3+ x1; 6B x1; 6B+ x1</title></rect><rect fill=\"rgb(221, 241, 167)\" height=\"17\" y=\"46\" width=\"8\" x=\"365\"><title>3 x2; 4 x1; 4+ x2; 5+ x1; 6A x1; 6A+ x1; 6C x1</title></rect><rect fill=\"rgb(129, 202, 124)\" height=\"17\" y=\"67\" width=\"8\" x=\"343\"><title>3 x1; 3+ x1; 4 x1; 4+ x1; 5 x1; 6A x1; 6A+ x3; 6B x1; 6B+ x2; 6C+ x1; 7A x1</title></rect><rect fill=\"rgb(222, 242, 168)\" height=\"17\" y=\"67\" width=\"8\" x=\"585\"><title>4 x1; 5+ x1; 6B x1; 6B+ x1; 6C+ x1; 7A x1</title></rect><rect fill=\"rgb(235, 247, 178)\" height=\"17\" y=\"46\" width=\"8\" x=\"376\"><title>3+ x1; 5+ x1; 6B x1; 6B+ x1; 7A+ x1</title></rect><rect fill=\"rgb(129, 202, 124)\" height=\"17\" y=\"46\" width=\"8\" x=\"596\"><title>3 x2; 3+ x1; 4 x1; 4+ x2; 5 x1; 6A x2; 6A+ x1; 6B x1; 6B+ x2; 6C+ x1; 7A+ x1</title></rect><rect fill=\"rgb(117, 196, 118)\" height=\"17\" y=\"25\" width=\"8\" x=\"244\"><title>3+ x1; 4+ x3; 6A x8; 6A+ x4</title></rect><rect fill=\"rgb(178, 223, 145)\" height=\"17\" y=\"67\" width=\"8\" x=\"244\"><title>3 x1; 3+ x1; 4 x1; 4+ x2; 5 x2; 5+ x1; 6A x2; 6A+ x2; 6B x1</title></rect><rect fill=\"rgb(247, 252, 196)\" height=\"17\" y=\"67\" width=\"8\" x=\"68\"><title>6A+ x1; 6B x1; 6B+ x1</title></rect><rect fill=\"rgb(143, 208, 130)\" height=\"17\" y=\"67\" width=\"8\" x=\"134\"><title>4+ x3; 5+ x3; 6A x1; 6A+ x1; 6B x2; 6B+ x2; 6C x1</title></rect><rect fill=\"rgb(247, 252, 196)\" height=\"17\" y=\"25\" width=\"8\" x=\"233\"><title>4+ x2; 6A+ x2</title></rect><rect fill=\"rgb(234, 247, 177)\" height=\"17\" y=\"67\" width=\"8\" x=\"497\"><title>4 x1; 6A+ x1; 6B+ x2; 6C x1</title></rect><rect fill=\"rgb(198, 232, 154)\" height=\"17\" y=\"46\" width=\"8\" x=\"475\"><title>3 x1; 3+ x3; 4 x3; 5 x1; 6A x1; 6B x1; 6B+ x2</title></rect><rect fill=\"rgb(243, 250, 188)\" height=\"17\" y=\"67\" width=\"8\" x=\"365\"><title>3 x1; 3+ x1; 4+ x1; 5 x1; 5+ x1; 6A+ x1</title></rect><rect fill=\"rgb(85, 180, 103)\" height=\"17\" y=\"46\" width=\"8\" x=\"497\"><title>3 x1; 3+ x2; 4+ x3; 5 x1; 5+ x2; 6A x1; 6A+ x1; 6B x1; 6B+ x1; 6C+ x2; 7A x1; 7B x1</title></rect><rect fill=\"rgb(217, 240, 164)\" height=\"17\" y=\"46\" width=\"8\" x=\"244\"><title>3+ x1; 4 x1; 4+ x1; 5+ x1; 6A+ x2; 6B+ x1; 6C x1</title></rect><rect fill=\"rgb(48, 149, 79)\" height=\"17\" y=\"67\" width=\"8\" x=\"563\"><title>3 x1; 3+ x2; 4 x2; 4+ x3; 5 x1; 5+ x1; 6A x2; 6B x2; 6B+ x3; 6C x4</title></rect><rect fill=\"rgb(208, 236, 159)\" height=\"17\" y=\"46\" width=\"8\" x=\"134\"><title>3 x1; 3+ x1; 4+ x2; 5 x1; 6B+ x3; 6C x1</title></rect><rect fill=\"rgb(75, 174, 97)\" height=\"17\" y=\"46\" width=\"8\" x=\"398\"><title>3 x1; 3+ x2; 4+ x2; 5 x3; 5+ x1; 6A x3; 6A+ x2; 6B x2; 6B+ x1; 6C x2</title></rect><rect fill=\"rgb(101, 188, 111)\" height=\"17\" y=\"46\" width=\"8\" x=\"563\"><title>3 x2; 3+ x2; 4 x3; 4+ x1; 5 x3; 5+ x2; 6A x1; 6A+ x1; 6B x2; 6B+ x1; 7A+ x1</title></rect><rect fill=\"rgb(210, 237, 161)\" height=\"17\" y=\"67\" width=\"8\" x=\"255\"><title>3+ x1; 4 x2; 4+ x1; 5+ x1; 6A x1; 6A+ x1; 6C x2</title></rect><rect fill=\"rgb(207, 236, 159)\" height=\"17\" y=\"46\" width=\"8\" x=\"519\"><title>3 x1; 4+ x2; 5+ x1; 6A x1; 6A+ x2; 6B x1; 6C x1</title></rect><rect fill=\"rgb(254, 254, 221)\" height=\"17\" y=\"67\" width=\"8\" x=\"409\"><title>6C x1</title></rect><rect fill=\"rgb(221, 241, 167)\" height=\"17\" y=\"25\" width=\"8\" x=\"321\"><title>4+ x1; 5+ x2; 6A+ x2; 6B x1; 6B+ x1</title></rect><rect fill=\"rgb(231, 245, 174)\" height=\"17\" y=\"67\" width=\"8\" x=\"442\"><title>3+ x1; 4 x1; 5+ x1; 6A+ x1; 6B+ x1; 7A+ x1</title></rect><rect fill=\"rgb(70, 170, 94)\" height=\"17\" y=\"88\" width=\"8\" x=\"57\"><title>3 x1; 4 x1; 5 x6; 6A x1; 6A+ x2; 6B x3; 6B+ x1; 6C x2; 6C+ x1</title></rect><rect fill=\"rgb(220, 241, 166)\" height=\"17\" y=\"67\" width=\"8\" x=\"387\"><title>4+ x1; 6A+ x1; 6B+ x2; 6C x1; 6C+ x1</title></rect><rect fill=\"rgb(101, 188, 111)\" height=\"17\" y=\"46\" width=\"8\" x=\"299\"><title>3 x2; 3+ x1; 4 x2; 4+ x2; 5 x2; 6A x3; 6A+ x2; 6B x1; 6B+ x2; 6C+ x1</title></rect><rect fill=\"rgb(202, 234, 156)\" height=\"17\" y=\"67\" width=\"8\" x=\"156\"><title>5 x1; 5+ x1; 6A x1; 6A+ x2; 6B x1; 6C x2</title></rect><rect fill=\"rgb(120, 197, 120)\" height=\"17\" y=\"67\" width=\"8\" x=\"486\"><title>3 x2; 3+ x1; 4 x1; 5 x1; 6A x1; 6A+ x1; 6B x1; 6B+ x2; 6C+ x2; 7A x2</title></rect><rect fill=\"rgb(244, 251, 190)\" height=\"17\" y=\"46\" width=\"8\" x=\"442\"><title>6A+ x1; 6C x1; 7A+ x1</title></rect><rect fill=\"rgb(228, 244, 172)\" height=\"17\" y=\"46\" width=\"8\" x=\"266\"><title>3+ x1; 4 x1; 5+ x2; 6A+ x1; 6B x2</title></rect><rect fill=\"rgb(251, 254, 210)\" height=\"17\" y=\"25\" width=\"8\" x=\"288\"><title>6A+ x1; 6B x1</title></rect><rect fill=\"rgb(242, 250, 186)\" height=\"17\" y=\"46\" width=\"8\" x=\"508\"><title>3+ x1; 4 x1; 6A+ x2; 6B+ x1</title></rect><rect fill=\"rgb(234, 247, 177)\" height=\"17\" y=\"67\" width=\"8\" x=\"376\"><title>3+ x1; 4+ x1; 5+ x1; 6A+ x2; 6C x1</title></rect><rect fill=\"rgb(43, 144, 75)\" height=\"17\" y=\"88\" width=\"8\" x=\"90\"><title>3 x1; 3+ x1; 4 x3; 4+ x1; 5 x3; 6A x2; 6A+ x3; 6B x1; 6B+ x2; 6C x2; 6C+ x1; 7A x1</title></rect><rect fill=\"rgb(238, 249, 182)\" height=\"17\" y=\"46\" width=\"8\" x=\"431\"><title>4 x1; 5 x1; 6A x1; 6B+ x1; 6C x1</title></rect><rect fill=\"rgb(201, 233, 156)\" height=\"17\" y=\"46\" width=\"8\" x=\"552\"><title>2 x3; 3 x1; 3+ x1; 4 x2; 4+ x1; 5+ x1; 6A+ x2; 6B x1; 6B+ x1</title></rect><rect fill=\"rgb(250, 253, 205)\" height=\"17\" y=\"25\" width=\"8\" x=\"530\"><title>6C x2</title></rect><rect fill=\"rgb(254, 255, 223)\" height=\"17\" y=\"46\" width=\"8\" x=\"178\"><title>6B+ x1</title></rect><rect fill=\"rgb(106, 191, 113)\" height=\"17\" y=\"67\" width=\"8\" x=\"211\"><title>3 x1; 4+ x1; 5+ x1; 6A x2; 6A+ x2; 6B x1; 6B+ x2; 6C x3; 6C+ x1</title></rect><rect fill=\"rgb(232, 246, 175)\" height=\"17\" y=\"46\" width=\"8\" x=\"222\"><title>5 x1; 5+ x2; 6A x2; 6C x1</title></rect><rect fill=\"rgb(205, 235, 158)\" height=\"17\" y=\"67\" width=\"8\" x=\"431\"><title>4+ x2; 5+ x1; 6A x1; 6A+ x1; 6B+ x1; 6C x1; 7A x1</title></rect><rect fill=\"rgb(247, 252, 197)\" height=\"17\" y=\"67\" width=\"8\" x=\"112\"><title>6A x1; 6B x1; 6B+ x1</title></rect><rect fill=\"rgb(180, 224, 146)\" height=\"17\" y=\"67\" width=\"8\" x=\"398\"><title>3+ x1; 4 x1; 5 x1; 5+ x1; 6A x2; 6A+ x2; 6B x2; 6B+ x1</title></rect><rect fill=\"rgb(117, 196, 118)\" height=\"17\" y=\"46\" width=\"8\" x=\"90\"><title>5+ x1; 6A x1; 6A+ x2; 6B x2; 6B+ x2; 6C x2; 6C+ x1; 7A x1</title></rect><rect fill=\"rgb(247, 252, 197)\" height=\"17\" y=\"46\" width=\"8\" x=\"585\"><title>6A x1; 6A+ x1; 6C x1</title></rect><rect fill=\"rgb(140, 206, 129)\" height=\"17\" y=\"88\" width=\"8\" x=\"68\"><title>4 x1; 4+ x1; 6A x1; 6B x1; 6B+ x3; 6C x2; 6C+ x1; 7B x1</title></rect><rect fill=\"rgb(208, 236, 159)\" height=\"17\" y=\"67\" width=\"8\" x=\"475\"><title>3 x1; 5 x2; 6A x1; 6B x1; 6B+ x1; 6C x1; 6C+ x1</title></rect><rect fill=\"rgb(196, 231, 153)\" height=\"17\" y=\"46\" width=\"8\" x=\"211\"><title>3+ x1; 4 x2; 4+ x1; 5+ x1; 6A x1; 6A+ x1; 6B+ x2; 6C x1</title></rect><rect fill=\"rgb(157, 214, 136)\" height=\"17\" y=\"67\" width=\"8\" x=\"189\"><title>4 x1; 6A x1; 6A+ x2; 6B+ x2; 6C x2; 6C+ x1; 7A x1</title></rect><rect fill=\"rgb(162, 216, 138)\" height=\"17\" y=\"67\" width=\"8\" x=\"101\"><title>4+ x1; 5 x3; 6A x1; 6A+ x1; 6B x3; 6C x1; 7B x1</title></rect><rect fill=\"rgb(160, 215, 137)\" height=\"17\" y=\"25\" width=\"8\" x=\"277\"><title>4+ x1; 5 x2; 5+ x5; 6A x2; 6A+ x3</title></rect><rect fill=\"rgb(138, 206, 128)\" height=\"17\" y=\"46\" width=\"8\" x=\"354\"><title>3 x1; 3+ x2; 4 x2; 4+ x1; 5 x2; 6A x1; 6A+ x1; 6B x1; 6B+ x2; 6C x2</title></rect><rect fill=\"rgb(255, 255, 229)\" height=\"17\" y=\"67\" width=\"8\" x=\"46\"><title>5 x1</title></rect><rect fill=\"rgb(215, 239, 163)\" height=\"17\" y=\"46\" width=\"8\" x=\"310\"><title>3 x1; 4 x1; 4+ x2; 5+ x1; 6A x2; 6A+ x1; 6C x1</title></rect><rect fill=\"rgb(140, 206, 129)\" height=\"17\" y=\"88\" width=\"8\" x=\"46\"><title>3 x2; 3+ x2; 4 x2; 5+ x2; 6A x4; 6A+ x2; 6B x1; 6B+ x1</title></rect><rect fill=\"rgb(133, 204, 126)\" height=\"17\" y=\"46\" width=\"8\" x=\"409\"><title>3 x1; 4 x1; 4+ x2; 5+ x2; 6A x1; 6A+ x2; 6B x2; 6B+ x1; 6C x2</title></rect><rect fill=\"rgb(219, 241, 166)\" height=\"17\" y=\"46\" width=\"8\" x=\"332\"><title>3 x1; 3+ x1; 4 x2; 4+ x1; 5 x1; 5+ x2; 6A x2</title></rect><rect fill=\"rgb(223, 242, 168)\" height=\"17\" y=\"67\" width=\"8\" x=\"145\"><title>6B x1; 6B+ x1; 6C x1; 6C+ x1; 7A x1</title></rect><rect fill=\"rgb(36, 136, 70)\" height=\"17\" y=\"46\" width=\"8\" x=\"167\"><title>3 x2; 4 x1; 5 x4; 5+ x1; 6A x3; 6A+ x3; 6B x2; 6B+ x1; 6C+ x3; 7A x1</title></rect><rect fill=\"rgb(237, 248, 180)\" height=\"17\" y=\"67\" width=\"8\" x=\"167\"><title>4+ x1; 5+ x1; 6A x1; 6B+ x1; 6C x1</title></rect><rect fill=\"rgb(189, 228, 150)\" height=\"17\" y=\"67\" width=\"8\" x=\"57\"><title>3+ x1; 4 x1; 4+ x1; 5+ x2; 6A+ x1; 6B x2; 6B+ x1; 7A x1</title></rect><rect fill=\"rgb(186, 227, 149)\" height=\"17\" y=\"46\" width=\"8\" x=\"123\"><title>3+ x1; 4 x1; 4+ x1; 6A x1; 6A+ x2; 6B x2; 6B+ x1; 6C+ x1</title></rect><rect fill=\"rgb(28, 127, 66)\" height=\"17\" y=\"67\" width=\"8\" x=\"79\"><title>3 x2; 3+ x1; 4 x2; 4+ x4; 5+ x4; 6A x4; 6A+ x3; 6C x1; 7A x2; 7A+ x1</title></rect><rect fill=\"rgb(141, 207, 129)\" height=\"17\" y=\"67\" width=\"8\" x=\"178\"><title>3 x1; 4 x2; 5 x2; 6A x1; 6A+ x2; 6B x1; 6B+ x1; 6C x1; 6C+ x1; 7A x1</title></rect><rect fill=\"rgb(239, 249, 182)\" height=\"17\" y=\"67\" width=\"8\" x=\"222\"><title>3 x1; 5 x1; 6B x2; 6C x1</title></rect><rect fill=\"rgb(189, 228, 150)\" height=\"17\" y=\"46\" width=\"8\" x=\"574\"><title>4 x1; 5 x2; 6A x1; 6B x1; 6B+ x1; 6C x2; 6C+ x1</title></rect><rect fill=\"rgb(70, 170, 94)\" height=\"17\" y=\"46\" width=\"8\" x=\"101\"><title>3+ x1; 4+ x1; 5 x1; 5+ x3; 6A x2; 6A+ x2; 6B x1; 6B+ x3; 6C x3</title></rect><rect fill=\"rgb(226, 244, 171)\" height=\"17\" y=\"46\" width=\"8\" x=\"189\"><title>3+ x1; 4+ x1; 5+ x1; 6A x1; 6A+ x2; 6B+ x1</title></rect><rect fill=\"rgb(251, 254, 210)\" height=\"17\" y=\"67\" width=\"8\" x=\"541\"><title>6A+ x1; 6B x1</title></rect><rect fill=\"rgb(237, 248, 180)\" height=\"17\" y=\"67\" width=\"8\" x=\"574\"><title>5+ x1; 6A+ x1; 7A x1; 7A+ x1</title></rect><rect fill=\"rgb(213, 238, 162)\" height=\"17\" y=\"88\" width=\"8\" x=\"101\"><title>3 x1; 4+ x1; 6A x1; 6B x1; 6C x1; 7A x1; 7A+ x1</title></rect><rect fill=\"rgb(10, 109, 57)\" height=\"17\" y=\"46\" width=\"8\" x=\"486\"><title>3 x1; 4 x1; 4+ x1; 5 x4; 5+ x2; 6A x3; 6A+ x2; 6B x2; 6B+ x1; 6C x2; 6C+ x3; 7A+ x1</title></rect><rect fill=\"rgb(226, 243, 170)\" height=\"17\" y=\"67\" width=\"8\" x=\"90\"><title>3+ x1; 4+ x1; 5 x1; 5+ x1; 6A x1; 6B+ x1; 6C+ x1</title></rect><rect fill=\"rgb(82, 178, 101)\" height=\"17\" y=\"46\" width=\"8\" x=\"420\"><title>5 x2; 5+ x2; 6A x3; 6A+ x3; 6B x3; 6B+ x2; 6C x1</title></rect><rect fill=\"rgb(251, 253, 209)\" height=\"17\" y=\"67\" width=\"8\" x=\"233\"><title>4+ x1; 7A+ x1</title></rect><rect fill=\"rgb(48, 149, 79)\" height=\"17\" y=\"46\" width=\"8\" x=\"277\"><title>3 x1; 3+ x1; 4+ x1; 5 x2; 5+ x1; 6A x4; 6A+ x3; 6B x4; 6B+ x1; 6C x2</title></rect><rect fill=\"rgb(196, 231, 153)\" height=\"17\" y=\"25\" width=\"8\" x=\"178\"><title>3 x1; 4 x3; 4+ x4; 5 x1; 5+ x4</title></rect><rect fill=\"rgb(232, 246, 175)\" height=\"17\" y=\"46\" width=\"8\" x=\"387\"><title>6A x1; 6A+ x1; 6B x1; 6B+ x1; 6C x1</title></rect><rect fill=\"rgb(148, 210, 132)\" height=\"17\" y=\"25\" width=\"8\" x=\"189\"><title>4 x2; 4+ x3; 5 x1; 5+ x4; 6A x3; 6A+ x2</title></rect><rect fill=\"rgb(240, 249, 184)\" height=\"17\" y=\"46\" width=\"8\" x=\"233\"><title>3 x1; 4 x1; 4+ x1; 5+ x1; 6A x1; 6B x1</title></rect><rect fill=\"rgb(178, 223, 145)\" height=\"17\" y=\"67\" width=\"8\" x=\"288\"><title>4+ x2; 6A x3; 6A+ x1; 6B x2; 6C x1; 6C+ x1</title></rect><rect fill=\"rgb(233, 246, 176)\" height=\"17\" y=\"46\" width=\"8\" x=\"343\"><title>3+ x1; 4+ x2; 6A+ x1; 6B x1; 7A x1</title></rect><rect fill=\"rgb(4, 100, 54)\" height=\"17\" y=\"67\" width=\"8\" x=\"596\"><title>3 x1; 3+ x2; 4 x1; 4+ x2; 5 x1; 5+ x4; 6A x2; 6A+ x4; 6B x4; 6B+ x4; 6C x1</title></rect><rect fill=\"rgb(199, 232, 155)\" height=\"17\" y=\"67\" width=\"8\" x=\"266\"><title>3+ x2; 4 x1; 5 x1; 6B x2; 6B+ x1; 6C+ x1; 7A x1</title></rect><rect fill=\"rgb(162, 216, 138)\" height=\"17\" y=\"67\" width=\"8\" x=\"519\"><title>3 x2; 4+ x1; 5 x1; 5+ x2; 6A x1; 6A+ x3; 6B x3</title></rect><rect fill=\"rgb(244, 251, 190)\" height=\"17\" y=\"25\" width=\"8\" x=\"343\"><title>4 x2; 5+ x1; 6A x1; 6A+ x1</title></rect><rect fill=\"rgb(91, 183, 106)\" height=\"17\" y=\"25\" width=\"8\" x=\"255\"><title>4 x4; 4+ x6; 5+ x2; 6A x5; 6A+ x3</title></rect><rect fill=\"rgb(178, 223, 145)\" height=\"17\" y=\"67\" width=\"8\" x=\"200\"><title>3+ x2; 4 x1; 4+ x1; 5+ x1; 6A x1; 6B x1; 6B+ x3; 6C+ x1</title></rect><rect fill=\"rgb(206, 235, 158)\" height=\"17\" y=\"67\" width=\"8\" x=\"552\"><title>3+ x1; 5 x1; 5+ x1; 6A x1; 6A+ x1; 6B x1; 6C x1; 7A+ x1</title></rect></g></svg></figure>"
      ]
     },
     "metadata": {},
     "output_type": "display_data"
    }
   ],
   "source": [
    "import * as d3 from 'npm:d3';\n",
    "\n",
    "Plot.plot(\n",
    "  (() => {\n",
    "    const data = detailedAscents\n",
    "      .groupBy(pl.col('created_at').date.strftime('%Y-%U').alias('grouped'))\n",
    "      .agg(\n",
    "        pl.col('created_at').first().date.strftime('%Y-%m-%d').alias('date'),\n",
    "        pl.col('numberDifficulty').sum().alias('totalNumberDifficulty'),\n",
    "        pl.col('created_at').count().alias('count'),\n",
    "        pl.col('difficulty'),\n",
    "      )\n",
    "      .toRecords();\n",
    "    return {\n",
    "      figure: true,\n",
    "      x: { tickFormat: (d) => `Week ${d + 1}`, tickRotate: 90 },\n",
    "      y: { tickFormat: '', tickSize: 0 },\n",
    "      color: { scheme: 'YlGn' },\n",
    "      marginBottom: 47,\n",
    "      marks: [\n",
    "        Plot.cell(data, {\n",
    "          x: (d) => d3.utcWeek.count(d3.utcYear(new Date(d.date)), new Date(d.date)),\n",
    "          y: (d) => new Date(d.date).getUTCFullYear(),\n",
    "          fill: 'totalNumberDifficulty',\n",
    "          title: (d) =>\n",
    "            Object.entries(\n",
    "              d.difficulty.reduce((acc, grade) => {\n",
    "                if (!acc[grade]) {\n",
    "                  acc[grade] = 0;\n",
    "                }\n",
    "                acc[grade] += 1;\n",
    "                return acc;\n",
    "              }, {}),\n",
    "            )\n",
    "              .toSorted((a, b) => a[0].localeCompare(b[0]))\n",
    "              .reduce((acc, ascents) => [...acc, `${ascents[0]} x${ascents[1]}`], [] as string[])\n",
    "              .join('; '),\n",
    "          inset: 1,\n",
    "        }),\n",
    "      ],\n",
    "      document,\n",
    "    };\n",
    "  })(),\n",
    ");\n"
   ]
  }
 ],
 "metadata": {
  "language_info": {
   "name": "python"
  }
 },
 "nbformat": 4,
 "nbformat_minor": 2
}
